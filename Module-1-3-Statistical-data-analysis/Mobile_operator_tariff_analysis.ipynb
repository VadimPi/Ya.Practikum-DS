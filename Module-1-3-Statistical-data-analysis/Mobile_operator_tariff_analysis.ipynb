{
 "cells": [
  {
   "cell_type": "markdown",
   "metadata": {},
   "source": [
    "# Определение перспективного тарифа для телеком-компании\n",
    "## Описание проекта, цели проекта"
   ]
  },
  {
   "cell_type": "markdown",
   "metadata": {},
   "source": [
    "«Мегалайн» — федеральный оператор сотовой связи. Клиентам предлагают два тарифных плана: «Смарт» и «Ультра». Чтобы скорректировать рекламный бюджет, коммерческий департамент хочет понять, какой тариф приносит больше денег.\n",
    "\n",
    "Предстоит сделать предварительный анализ тарифов на небольшой выборке клиентов. В вашем распоряжении данные 500 пользователей «Мегалайна»: кто они, откуда, каким тарифом пользуются, сколько звонков и сообщений каждый отправил за 2018 год. Нужно проанализировать поведение клиентов и сделать вывод — какой тариф лучше.\n",
    "\n",
    "**Предобработка данных**\n",
    "- Приведите данные к нужным типам;\n",
    "- Найдите и исправьте ошибки в данных, если они есть.\n",
    "- Есть звонки с нулевой продолжительностью. Это не ошибка: нулями обозначены пропущенные звонки, поэтому их не нужно удалять.\n",
    "\n",
    "Посчитать для каждого пользователя:\n",
    "- количество сделанных звонков и израсходованных минут разговора по месяцам;\n",
    "- количество отправленных сообщений по месяцам;\n",
    "- объем израсходованного интернет-трафика по месяцам;\n",
    "- помесячную выручку с каждого пользователя.\n",
    "\n",
    "**Анализ данных**\n",
    "Опишите поведение клиентов оператора, исходя из выборки:\n",
    "- Сколько минут разговора, сколько сообщений и какой объём интернет-трафика требуется пользователям каждого тарифа в месяц?\n",
    "- Посчитать среднее количество, дисперсию и стандартное отклонение. \n",
    "- Построить гистограммы. Описать распределения.\n",
    "\n",
    "**Проверка гипотез**\n",
    "- средняя выручка пользователей тарифов «Ультра» и «Смарт» различаются.\n",
    "- средняя выручка пользователей из Москвы отличается от выручки пользователей из других регионов."
   ]
  },
  {
   "cell_type": "markdown",
   "metadata": {},
   "source": [
    "## Изучение данных из файла"
   ]
  },
  {
   "cell_type": "markdown",
   "metadata": {},
   "source": [
    "**Описание данных**\n",
    "\n",
    "*Таблица users (информация о пользователях):*\n",
    "- user_id — уникальный идентификатор пользователя\n",
    "- first_name — имя пользователя\n",
    "- last_name — фамилия пользователя\n",
    "- age — возраст пользователя (годы)\n",
    "- reg_date — дата подключения тарифа (день, месяц, год)\n",
    "- churn_date — дата прекращения пользования тарифом (если значение пропущено, то тариф ещё действовал на момент выгрузки данных)\n",
    "- city — город проживания пользователя\n",
    "- tarif — название тарифного плана\n",
    "\n",
    "*Таблица calls (информация о звонках):*\n",
    "- id — уникальный номер звонка\n",
    "- call_date — дата звонка\n",
    "- duration — длительность звонка в минутах\n",
    "- user_id — идентификатор пользователя, сделавшего звонок\n",
    "\n",
    "*Таблица messages (информация о сообщениях):*\n",
    "- id — уникальный номер сообщения\n",
    "- message_date — дата сообщения\n",
    "- user_id — идентификатор пользователя, отправившего сообщение\n",
    "\n",
    "*Таблица internet (информация об интернет-сессиях):*\n",
    "- id — уникальный номер сессии\n",
    "- mb_used — объём потраченного за сессию интернет-трафика (в мегабайтах)\n",
    "- session_date — дата интернет-сессии\n",
    "- user_id — идентификатор пользователя\n",
    "\n",
    "*Таблица tariffs (информация о тарифах):*\n",
    "- tariff_name — название тарифа\n",
    "- rub_monthly_fee — ежемесячная абонентская плата в рублях\n",
    "- minutes_included — количество минут разговора в месяц, включённых в абонентскую плату\n",
    "- messages_included — количество сообщений в месяц, включённых в абонентскую плату\n",
    "- mb_per_month_included — объём интернет-трафика, включённого в абонентскую плату (в мегабайтах)\n",
    "- rub_per_minute — стоимость минуты разговора сверх тарифного пакета (например, если в тарифе 100 минут разговора в месяц, то со 101 минуты будет взиматься плата)\n",
    "- rub_per_message — стоимость отправки сообщения сверх тарифного пакета\n",
    "- rub_per_gb — стоимость дополнительного гигабайта интернет-трафика сверх тарифного пакета (1 гигабайт = 1024 мегабайта)"
   ]
  },
  {
   "cell_type": "code",
   "execution_count": 1,
   "metadata": {},
   "outputs": [],
   "source": [
    "import pandas as pd\n",
    "import matplotlib.pyplot as plt\n",
    "import seaborn as sbn\n",
    "import numpy as np\n",
    "import scipy.stats\n",
    "from scipy import stats as st\n",
    "from math import factorial\n",
    "from scipy.stats import norm"
   ]
  },
  {
   "cell_type": "code",
   "execution_count": 2,
   "metadata": {
    "scrolled": false
   },
   "outputs": [
    {
     "name": "stdout",
     "output_type": "stream",
     "text": [
      "<class 'pandas.core.frame.DataFrame'>\n",
      "RangeIndex: 500 entries, 0 to 499\n",
      "Data columns (total 8 columns):\n",
      "user_id       500 non-null int64\n",
      "age           500 non-null int64\n",
      "churn_date    38 non-null object\n",
      "city          500 non-null object\n",
      "first_name    500 non-null object\n",
      "last_name     500 non-null object\n",
      "reg_date      500 non-null object\n",
      "tariff        500 non-null object\n",
      "dtypes: int64(2), object(6)\n",
      "memory usage: 31.4+ KB\n"
     ]
    },
    {
     "data": {
      "text/html": [
       "<div>\n",
       "<style scoped>\n",
       "    .dataframe tbody tr th:only-of-type {\n",
       "        vertical-align: middle;\n",
       "    }\n",
       "\n",
       "    .dataframe tbody tr th {\n",
       "        vertical-align: top;\n",
       "    }\n",
       "\n",
       "    .dataframe thead th {\n",
       "        text-align: right;\n",
       "    }\n",
       "</style>\n",
       "<table border=\"1\" class=\"dataframe\">\n",
       "  <thead>\n",
       "    <tr style=\"text-align: right;\">\n",
       "      <th></th>\n",
       "      <th>user_id</th>\n",
       "      <th>age</th>\n",
       "      <th>churn_date</th>\n",
       "      <th>city</th>\n",
       "      <th>first_name</th>\n",
       "      <th>last_name</th>\n",
       "      <th>reg_date</th>\n",
       "      <th>tariff</th>\n",
       "    </tr>\n",
       "  </thead>\n",
       "  <tbody>\n",
       "    <tr>\n",
       "      <td>0</td>\n",
       "      <td>1000</td>\n",
       "      <td>52</td>\n",
       "      <td>NaN</td>\n",
       "      <td>Краснодар</td>\n",
       "      <td>Рафаил</td>\n",
       "      <td>Верещагин</td>\n",
       "      <td>2018-05-25</td>\n",
       "      <td>ultra</td>\n",
       "    </tr>\n",
       "    <tr>\n",
       "      <td>1</td>\n",
       "      <td>1001</td>\n",
       "      <td>41</td>\n",
       "      <td>NaN</td>\n",
       "      <td>Москва</td>\n",
       "      <td>Иван</td>\n",
       "      <td>Ежов</td>\n",
       "      <td>2018-11-01</td>\n",
       "      <td>smart</td>\n",
       "    </tr>\n",
       "    <tr>\n",
       "      <td>2</td>\n",
       "      <td>1002</td>\n",
       "      <td>59</td>\n",
       "      <td>NaN</td>\n",
       "      <td>Стерлитамак</td>\n",
       "      <td>Евгений</td>\n",
       "      <td>Абрамович</td>\n",
       "      <td>2018-06-17</td>\n",
       "      <td>smart</td>\n",
       "    </tr>\n",
       "    <tr>\n",
       "      <td>3</td>\n",
       "      <td>1003</td>\n",
       "      <td>23</td>\n",
       "      <td>NaN</td>\n",
       "      <td>Москва</td>\n",
       "      <td>Белла</td>\n",
       "      <td>Белякова</td>\n",
       "      <td>2018-08-17</td>\n",
       "      <td>ultra</td>\n",
       "    </tr>\n",
       "    <tr>\n",
       "      <td>4</td>\n",
       "      <td>1004</td>\n",
       "      <td>68</td>\n",
       "      <td>NaN</td>\n",
       "      <td>Новокузнецк</td>\n",
       "      <td>Татьяна</td>\n",
       "      <td>Авдеенко</td>\n",
       "      <td>2018-05-14</td>\n",
       "      <td>ultra</td>\n",
       "    </tr>\n",
       "    <tr>\n",
       "      <td>5</td>\n",
       "      <td>1005</td>\n",
       "      <td>67</td>\n",
       "      <td>NaN</td>\n",
       "      <td>Набережные Челны</td>\n",
       "      <td>Афанасий</td>\n",
       "      <td>Горлов</td>\n",
       "      <td>2018-01-25</td>\n",
       "      <td>smart</td>\n",
       "    </tr>\n",
       "    <tr>\n",
       "      <td>6</td>\n",
       "      <td>1006</td>\n",
       "      <td>21</td>\n",
       "      <td>NaN</td>\n",
       "      <td>Ульяновск</td>\n",
       "      <td>Леонид</td>\n",
       "      <td>Ермолаев</td>\n",
       "      <td>2018-02-26</td>\n",
       "      <td>smart</td>\n",
       "    </tr>\n",
       "    <tr>\n",
       "      <td>7</td>\n",
       "      <td>1007</td>\n",
       "      <td>65</td>\n",
       "      <td>NaN</td>\n",
       "      <td>Москва</td>\n",
       "      <td>Юна</td>\n",
       "      <td>Березина</td>\n",
       "      <td>2018-04-19</td>\n",
       "      <td>smart</td>\n",
       "    </tr>\n",
       "    <tr>\n",
       "      <td>8</td>\n",
       "      <td>1008</td>\n",
       "      <td>63</td>\n",
       "      <td>NaN</td>\n",
       "      <td>Челябинск</td>\n",
       "      <td>Рустэм</td>\n",
       "      <td>Пономарёв</td>\n",
       "      <td>2018-12-19</td>\n",
       "      <td>smart</td>\n",
       "    </tr>\n",
       "    <tr>\n",
       "      <td>9</td>\n",
       "      <td>1009</td>\n",
       "      <td>24</td>\n",
       "      <td>NaN</td>\n",
       "      <td>Пермь</td>\n",
       "      <td>Василиса</td>\n",
       "      <td>Блинова</td>\n",
       "      <td>2018-03-22</td>\n",
       "      <td>smart</td>\n",
       "    </tr>\n",
       "  </tbody>\n",
       "</table>\n",
       "</div>"
      ],
      "text/plain": [
       "   user_id  age churn_date              city first_name  last_name  \\\n",
       "0     1000   52        NaN         Краснодар     Рафаил  Верещагин   \n",
       "1     1001   41        NaN            Москва       Иван       Ежов   \n",
       "2     1002   59        NaN       Стерлитамак    Евгений  Абрамович   \n",
       "3     1003   23        NaN            Москва      Белла   Белякова   \n",
       "4     1004   68        NaN       Новокузнецк    Татьяна   Авдеенко   \n",
       "5     1005   67        NaN  Набережные Челны   Афанасий     Горлов   \n",
       "6     1006   21        NaN         Ульяновск     Леонид   Ермолаев   \n",
       "7     1007   65        NaN            Москва        Юна   Березина   \n",
       "8     1008   63        NaN         Челябинск     Рустэм  Пономарёв   \n",
       "9     1009   24        NaN             Пермь   Василиса    Блинова   \n",
       "\n",
       "     reg_date tariff  \n",
       "0  2018-05-25  ultra  \n",
       "1  2018-11-01  smart  \n",
       "2  2018-06-17  smart  \n",
       "3  2018-08-17  ultra  \n",
       "4  2018-05-14  ultra  \n",
       "5  2018-01-25  smart  \n",
       "6  2018-02-26  smart  \n",
       "7  2018-04-19  smart  \n",
       "8  2018-12-19  smart  \n",
       "9  2018-03-22  smart  "
      ]
     },
     "metadata": {},
     "output_type": "display_data"
    },
    {
     "data": {
      "text/plain": [
       "None"
      ]
     },
     "metadata": {},
     "output_type": "display_data"
    },
    {
     "name": "stdout",
     "output_type": "stream",
     "text": [
      "\n",
      "<class 'pandas.core.frame.DataFrame'>\n",
      "RangeIndex: 2 entries, 0 to 1\n",
      "Data columns (total 8 columns):\n",
      "messages_included        2 non-null int64\n",
      "mb_per_month_included    2 non-null int64\n",
      "minutes_included         2 non-null int64\n",
      "rub_monthly_fee          2 non-null int64\n",
      "rub_per_gb               2 non-null int64\n",
      "rub_per_message          2 non-null int64\n",
      "rub_per_minute           2 non-null int64\n",
      "tariff_name              2 non-null object\n",
      "dtypes: int64(7), object(1)\n",
      "memory usage: 256.0+ bytes\n"
     ]
    },
    {
     "data": {
      "text/html": [
       "<div>\n",
       "<style scoped>\n",
       "    .dataframe tbody tr th:only-of-type {\n",
       "        vertical-align: middle;\n",
       "    }\n",
       "\n",
       "    .dataframe tbody tr th {\n",
       "        vertical-align: top;\n",
       "    }\n",
       "\n",
       "    .dataframe thead th {\n",
       "        text-align: right;\n",
       "    }\n",
       "</style>\n",
       "<table border=\"1\" class=\"dataframe\">\n",
       "  <thead>\n",
       "    <tr style=\"text-align: right;\">\n",
       "      <th></th>\n",
       "      <th>messages_included</th>\n",
       "      <th>mb_per_month_included</th>\n",
       "      <th>minutes_included</th>\n",
       "      <th>rub_monthly_fee</th>\n",
       "      <th>rub_per_gb</th>\n",
       "      <th>rub_per_message</th>\n",
       "      <th>rub_per_minute</th>\n",
       "      <th>tariff_name</th>\n",
       "    </tr>\n",
       "  </thead>\n",
       "  <tbody>\n",
       "    <tr>\n",
       "      <td>0</td>\n",
       "      <td>50</td>\n",
       "      <td>15360</td>\n",
       "      <td>500</td>\n",
       "      <td>550</td>\n",
       "      <td>200</td>\n",
       "      <td>3</td>\n",
       "      <td>3</td>\n",
       "      <td>smart</td>\n",
       "    </tr>\n",
       "    <tr>\n",
       "      <td>1</td>\n",
       "      <td>1000</td>\n",
       "      <td>30720</td>\n",
       "      <td>3000</td>\n",
       "      <td>1950</td>\n",
       "      <td>150</td>\n",
       "      <td>1</td>\n",
       "      <td>1</td>\n",
       "      <td>ultra</td>\n",
       "    </tr>\n",
       "  </tbody>\n",
       "</table>\n",
       "</div>"
      ],
      "text/plain": [
       "   messages_included  mb_per_month_included  minutes_included  \\\n",
       "0                 50                  15360               500   \n",
       "1               1000                  30720              3000   \n",
       "\n",
       "   rub_monthly_fee  rub_per_gb  rub_per_message  rub_per_minute tariff_name  \n",
       "0              550         200                3               3       smart  \n",
       "1             1950         150                1               1       ultra  "
      ]
     },
     "metadata": {},
     "output_type": "display_data"
    },
    {
     "data": {
      "text/plain": [
       "None"
      ]
     },
     "metadata": {},
     "output_type": "display_data"
    },
    {
     "name": "stdout",
     "output_type": "stream",
     "text": [
      "\n",
      "<class 'pandas.core.frame.DataFrame'>\n",
      "RangeIndex: 123036 entries, 0 to 123035\n",
      "Data columns (total 3 columns):\n",
      "id              123036 non-null object\n",
      "message_date    123036 non-null object\n",
      "user_id         123036 non-null int64\n",
      "dtypes: int64(1), object(2)\n",
      "memory usage: 2.8+ MB\n"
     ]
    },
    {
     "data": {
      "text/html": [
       "<div>\n",
       "<style scoped>\n",
       "    .dataframe tbody tr th:only-of-type {\n",
       "        vertical-align: middle;\n",
       "    }\n",
       "\n",
       "    .dataframe tbody tr th {\n",
       "        vertical-align: top;\n",
       "    }\n",
       "\n",
       "    .dataframe thead th {\n",
       "        text-align: right;\n",
       "    }\n",
       "</style>\n",
       "<table border=\"1\" class=\"dataframe\">\n",
       "  <thead>\n",
       "    <tr style=\"text-align: right;\">\n",
       "      <th></th>\n",
       "      <th>id</th>\n",
       "      <th>message_date</th>\n",
       "      <th>user_id</th>\n",
       "    </tr>\n",
       "  </thead>\n",
       "  <tbody>\n",
       "    <tr>\n",
       "      <td>0</td>\n",
       "      <td>1000_0</td>\n",
       "      <td>2018-06-27</td>\n",
       "      <td>1000</td>\n",
       "    </tr>\n",
       "    <tr>\n",
       "      <td>1</td>\n",
       "      <td>1000_1</td>\n",
       "      <td>2018-10-08</td>\n",
       "      <td>1000</td>\n",
       "    </tr>\n",
       "    <tr>\n",
       "      <td>2</td>\n",
       "      <td>1000_2</td>\n",
       "      <td>2018-08-04</td>\n",
       "      <td>1000</td>\n",
       "    </tr>\n",
       "    <tr>\n",
       "      <td>3</td>\n",
       "      <td>1000_3</td>\n",
       "      <td>2018-06-16</td>\n",
       "      <td>1000</td>\n",
       "    </tr>\n",
       "    <tr>\n",
       "      <td>4</td>\n",
       "      <td>1000_4</td>\n",
       "      <td>2018-12-05</td>\n",
       "      <td>1000</td>\n",
       "    </tr>\n",
       "    <tr>\n",
       "      <td>5</td>\n",
       "      <td>1000_5</td>\n",
       "      <td>2018-06-20</td>\n",
       "      <td>1000</td>\n",
       "    </tr>\n",
       "    <tr>\n",
       "      <td>6</td>\n",
       "      <td>1000_6</td>\n",
       "      <td>2018-11-19</td>\n",
       "      <td>1000</td>\n",
       "    </tr>\n",
       "    <tr>\n",
       "      <td>7</td>\n",
       "      <td>1000_7</td>\n",
       "      <td>2018-10-29</td>\n",
       "      <td>1000</td>\n",
       "    </tr>\n",
       "    <tr>\n",
       "      <td>8</td>\n",
       "      <td>1000_8</td>\n",
       "      <td>2018-06-25</td>\n",
       "      <td>1000</td>\n",
       "    </tr>\n",
       "    <tr>\n",
       "      <td>9</td>\n",
       "      <td>1000_9</td>\n",
       "      <td>2018-12-18</td>\n",
       "      <td>1000</td>\n",
       "    </tr>\n",
       "  </tbody>\n",
       "</table>\n",
       "</div>"
      ],
      "text/plain": [
       "       id message_date  user_id\n",
       "0  1000_0   2018-06-27     1000\n",
       "1  1000_1   2018-10-08     1000\n",
       "2  1000_2   2018-08-04     1000\n",
       "3  1000_3   2018-06-16     1000\n",
       "4  1000_4   2018-12-05     1000\n",
       "5  1000_5   2018-06-20     1000\n",
       "6  1000_6   2018-11-19     1000\n",
       "7  1000_7   2018-10-29     1000\n",
       "8  1000_8   2018-06-25     1000\n",
       "9  1000_9   2018-12-18     1000"
      ]
     },
     "metadata": {},
     "output_type": "display_data"
    },
    {
     "data": {
      "text/plain": [
       "None"
      ]
     },
     "metadata": {},
     "output_type": "display_data"
    },
    {
     "name": "stdout",
     "output_type": "stream",
     "text": [
      "\n",
      "<class 'pandas.core.frame.DataFrame'>\n",
      "RangeIndex: 149396 entries, 0 to 149395\n",
      "Data columns (total 5 columns):\n",
      "Unnamed: 0      149396 non-null int64\n",
      "id              149396 non-null object\n",
      "mb_used         149396 non-null float64\n",
      "session_date    149396 non-null object\n",
      "user_id         149396 non-null int64\n",
      "dtypes: float64(1), int64(2), object(2)\n",
      "memory usage: 5.7+ MB\n"
     ]
    },
    {
     "data": {
      "text/html": [
       "<div>\n",
       "<style scoped>\n",
       "    .dataframe tbody tr th:only-of-type {\n",
       "        vertical-align: middle;\n",
       "    }\n",
       "\n",
       "    .dataframe tbody tr th {\n",
       "        vertical-align: top;\n",
       "    }\n",
       "\n",
       "    .dataframe thead th {\n",
       "        text-align: right;\n",
       "    }\n",
       "</style>\n",
       "<table border=\"1\" class=\"dataframe\">\n",
       "  <thead>\n",
       "    <tr style=\"text-align: right;\">\n",
       "      <th></th>\n",
       "      <th>Unnamed: 0</th>\n",
       "      <th>id</th>\n",
       "      <th>mb_used</th>\n",
       "      <th>session_date</th>\n",
       "      <th>user_id</th>\n",
       "    </tr>\n",
       "  </thead>\n",
       "  <tbody>\n",
       "    <tr>\n",
       "      <td>0</td>\n",
       "      <td>0</td>\n",
       "      <td>1000_0</td>\n",
       "      <td>112.95</td>\n",
       "      <td>2018-11-25</td>\n",
       "      <td>1000</td>\n",
       "    </tr>\n",
       "    <tr>\n",
       "      <td>1</td>\n",
       "      <td>1</td>\n",
       "      <td>1000_1</td>\n",
       "      <td>1052.81</td>\n",
       "      <td>2018-09-07</td>\n",
       "      <td>1000</td>\n",
       "    </tr>\n",
       "    <tr>\n",
       "      <td>2</td>\n",
       "      <td>2</td>\n",
       "      <td>1000_2</td>\n",
       "      <td>1197.26</td>\n",
       "      <td>2018-06-25</td>\n",
       "      <td>1000</td>\n",
       "    </tr>\n",
       "    <tr>\n",
       "      <td>3</td>\n",
       "      <td>3</td>\n",
       "      <td>1000_3</td>\n",
       "      <td>550.27</td>\n",
       "      <td>2018-08-22</td>\n",
       "      <td>1000</td>\n",
       "    </tr>\n",
       "    <tr>\n",
       "      <td>4</td>\n",
       "      <td>4</td>\n",
       "      <td>1000_4</td>\n",
       "      <td>302.56</td>\n",
       "      <td>2018-09-24</td>\n",
       "      <td>1000</td>\n",
       "    </tr>\n",
       "    <tr>\n",
       "      <td>5</td>\n",
       "      <td>5</td>\n",
       "      <td>1000_5</td>\n",
       "      <td>399.97</td>\n",
       "      <td>2018-10-02</td>\n",
       "      <td>1000</td>\n",
       "    </tr>\n",
       "    <tr>\n",
       "      <td>6</td>\n",
       "      <td>6</td>\n",
       "      <td>1000_6</td>\n",
       "      <td>540.08</td>\n",
       "      <td>2018-09-07</td>\n",
       "      <td>1000</td>\n",
       "    </tr>\n",
       "    <tr>\n",
       "      <td>7</td>\n",
       "      <td>7</td>\n",
       "      <td>1000_7</td>\n",
       "      <td>415.70</td>\n",
       "      <td>2018-07-11</td>\n",
       "      <td>1000</td>\n",
       "    </tr>\n",
       "    <tr>\n",
       "      <td>8</td>\n",
       "      <td>8</td>\n",
       "      <td>1000_8</td>\n",
       "      <td>505.40</td>\n",
       "      <td>2018-10-08</td>\n",
       "      <td>1000</td>\n",
       "    </tr>\n",
       "    <tr>\n",
       "      <td>9</td>\n",
       "      <td>9</td>\n",
       "      <td>1000_9</td>\n",
       "      <td>345.54</td>\n",
       "      <td>2018-09-03</td>\n",
       "      <td>1000</td>\n",
       "    </tr>\n",
       "  </tbody>\n",
       "</table>\n",
       "</div>"
      ],
      "text/plain": [
       "   Unnamed: 0      id  mb_used session_date  user_id\n",
       "0           0  1000_0   112.95   2018-11-25     1000\n",
       "1           1  1000_1  1052.81   2018-09-07     1000\n",
       "2           2  1000_2  1197.26   2018-06-25     1000\n",
       "3           3  1000_3   550.27   2018-08-22     1000\n",
       "4           4  1000_4   302.56   2018-09-24     1000\n",
       "5           5  1000_5   399.97   2018-10-02     1000\n",
       "6           6  1000_6   540.08   2018-09-07     1000\n",
       "7           7  1000_7   415.70   2018-07-11     1000\n",
       "8           8  1000_8   505.40   2018-10-08     1000\n",
       "9           9  1000_9   345.54   2018-09-03     1000"
      ]
     },
     "metadata": {},
     "output_type": "display_data"
    },
    {
     "data": {
      "text/plain": [
       "None"
      ]
     },
     "metadata": {},
     "output_type": "display_data"
    },
    {
     "name": "stdout",
     "output_type": "stream",
     "text": [
      "\n",
      "<class 'pandas.core.frame.DataFrame'>\n",
      "RangeIndex: 202607 entries, 0 to 202606\n",
      "Data columns (total 4 columns):\n",
      "id           202607 non-null object\n",
      "call_date    202607 non-null object\n",
      "duration     202607 non-null float64\n",
      "user_id      202607 non-null int64\n",
      "dtypes: float64(1), int64(1), object(2)\n",
      "memory usage: 6.2+ MB\n"
     ]
    },
    {
     "data": {
      "text/html": [
       "<div>\n",
       "<style scoped>\n",
       "    .dataframe tbody tr th:only-of-type {\n",
       "        vertical-align: middle;\n",
       "    }\n",
       "\n",
       "    .dataframe tbody tr th {\n",
       "        vertical-align: top;\n",
       "    }\n",
       "\n",
       "    .dataframe thead th {\n",
       "        text-align: right;\n",
       "    }\n",
       "</style>\n",
       "<table border=\"1\" class=\"dataframe\">\n",
       "  <thead>\n",
       "    <tr style=\"text-align: right;\">\n",
       "      <th></th>\n",
       "      <th>id</th>\n",
       "      <th>call_date</th>\n",
       "      <th>duration</th>\n",
       "      <th>user_id</th>\n",
       "    </tr>\n",
       "  </thead>\n",
       "  <tbody>\n",
       "    <tr>\n",
       "      <td>0</td>\n",
       "      <td>1000_0</td>\n",
       "      <td>2018-07-25</td>\n",
       "      <td>0.00</td>\n",
       "      <td>1000</td>\n",
       "    </tr>\n",
       "    <tr>\n",
       "      <td>1</td>\n",
       "      <td>1000_1</td>\n",
       "      <td>2018-08-17</td>\n",
       "      <td>0.00</td>\n",
       "      <td>1000</td>\n",
       "    </tr>\n",
       "    <tr>\n",
       "      <td>2</td>\n",
       "      <td>1000_2</td>\n",
       "      <td>2018-06-11</td>\n",
       "      <td>2.85</td>\n",
       "      <td>1000</td>\n",
       "    </tr>\n",
       "    <tr>\n",
       "      <td>3</td>\n",
       "      <td>1000_3</td>\n",
       "      <td>2018-09-21</td>\n",
       "      <td>13.80</td>\n",
       "      <td>1000</td>\n",
       "    </tr>\n",
       "    <tr>\n",
       "      <td>4</td>\n",
       "      <td>1000_4</td>\n",
       "      <td>2018-12-15</td>\n",
       "      <td>5.18</td>\n",
       "      <td>1000</td>\n",
       "    </tr>\n",
       "    <tr>\n",
       "      <td>5</td>\n",
       "      <td>1000_5</td>\n",
       "      <td>2018-11-02</td>\n",
       "      <td>0.00</td>\n",
       "      <td>1000</td>\n",
       "    </tr>\n",
       "    <tr>\n",
       "      <td>6</td>\n",
       "      <td>1000_6</td>\n",
       "      <td>2018-10-18</td>\n",
       "      <td>0.00</td>\n",
       "      <td>1000</td>\n",
       "    </tr>\n",
       "    <tr>\n",
       "      <td>7</td>\n",
       "      <td>1000_7</td>\n",
       "      <td>2018-08-22</td>\n",
       "      <td>18.31</td>\n",
       "      <td>1000</td>\n",
       "    </tr>\n",
       "    <tr>\n",
       "      <td>8</td>\n",
       "      <td>1000_8</td>\n",
       "      <td>2018-09-15</td>\n",
       "      <td>18.44</td>\n",
       "      <td>1000</td>\n",
       "    </tr>\n",
       "    <tr>\n",
       "      <td>9</td>\n",
       "      <td>1000_9</td>\n",
       "      <td>2018-08-15</td>\n",
       "      <td>0.00</td>\n",
       "      <td>1000</td>\n",
       "    </tr>\n",
       "  </tbody>\n",
       "</table>\n",
       "</div>"
      ],
      "text/plain": [
       "       id   call_date  duration  user_id\n",
       "0  1000_0  2018-07-25      0.00     1000\n",
       "1  1000_1  2018-08-17      0.00     1000\n",
       "2  1000_2  2018-06-11      2.85     1000\n",
       "3  1000_3  2018-09-21     13.80     1000\n",
       "4  1000_4  2018-12-15      5.18     1000\n",
       "5  1000_5  2018-11-02      0.00     1000\n",
       "6  1000_6  2018-10-18      0.00     1000\n",
       "7  1000_7  2018-08-22     18.31     1000\n",
       "8  1000_8  2018-09-15     18.44     1000\n",
       "9  1000_9  2018-08-15      0.00     1000"
      ]
     },
     "metadata": {},
     "output_type": "display_data"
    },
    {
     "data": {
      "text/plain": [
       "None"
      ]
     },
     "metadata": {},
     "output_type": "display_data"
    },
    {
     "name": "stdout",
     "output_type": "stream",
     "text": [
      "\n"
     ]
    }
   ],
   "source": [
    "# Создаем словарь ссылок\n",
    "links_file = {0:['/datasets/users.csv', r'C:\\Users\\vadim.pilipenko\\Downloads\\users.csv'],\n",
    "             1:['/datasets/tariffs.csv',r'C:\\Users\\vadim.pilipenko\\Downloads\\tariffs.csv'],\n",
    "             2:['/datasets/messages.csv',r'C:\\Users\\vadim.pilipenko\\Downloads\\messages.csv'],\n",
    "             3:['/datasets/internet.csv',r'C:\\Users\\vadim.pilipenko\\Downloads\\internet.csv'],\n",
    "             4:['/datasets/calls.csv',r'C:\\Users\\vadim.pilipenko\\Downloads\\calls.csv']}\n",
    "# Создаем функцию открытия файла по ссылкам\n",
    "def open_fun(dic_links,numb): \n",
    "    list_l = dic_links[numb]\n",
    "    try:\n",
    "        frame = pd.read_csv(list_l[0])\n",
    "    except:\n",
    "        frame = pd.read_csv(list_l[1])\n",
    "    return frame\n",
    "\n",
    "users = open_fun(links_file,0)\n",
    "tariffs = open_fun(links_file,1)\n",
    "messages = open_fun(links_file,2)\n",
    "internet = open_fun(links_file,3)\n",
    "calls = open_fun(links_file,4)\n",
    "\n",
    "variable_list = [users,tariffs,messages,internet,calls] # Создаем список загруженных сетов данны\n",
    "\n",
    "for val in variable_list: # функция вывода данных о сетах данных из списка\n",
    "    display(val.head(10), val.info())\n",
    "    print('')\n"
   ]
  },
  {
   "cell_type": "markdown",
   "metadata": {},
   "source": [
    "**Вывод:**\n",
    "\n",
    "Оценив первично данные, видно, что требуется обработка пропусков, изменение типов даныых."
   ]
  },
  {
   "cell_type": "markdown",
   "metadata": {},
   "source": [
    "## Предобработка данных"
   ]
  },
  {
   "cell_type": "markdown",
   "metadata": {},
   "source": [
    "Округлим значение звонков до целых минут,заменим тип на int"
   ]
  },
  {
   "cell_type": "code",
   "execution_count": 3,
   "metadata": {},
   "outputs": [
    {
     "data": {
      "text/plain": [
       "0          0\n",
       "1          0\n",
       "2          3\n",
       "3         14\n",
       "4          6\n",
       "          ..\n",
       "202602     1\n",
       "202603    19\n",
       "202604    11\n",
       "202605     5\n",
       "202606    20\n",
       "Name: duration, Length: 202607, dtype: int64"
      ]
     },
     "execution_count": 3,
     "metadata": {},
     "output_type": "execute_result"
    }
   ],
   "source": [
    "# округляем звонки в большую сторону до целого, меняем тип на целочисленный\n",
    "calls['duration'] = calls['duration'].apply(lambda x: np.ceil(x).astype('int32')) \n",
    "calls['duration']"
   ]
  },
  {
   "cell_type": "markdown",
   "metadata": {},
   "source": [
    "Проверим таблицы на наличие дубликатов:"
   ]
  },
  {
   "cell_type": "code",
   "execution_count": 4,
   "metadata": {},
   "outputs": [
    {
     "name": "stdout",
     "output_type": "stream",
     "text": [
      "0\n",
      "0\n",
      "0\n",
      "0\n",
      "0\n",
      "Дубликатов нет, преходим к следующему шагу\n"
     ]
    }
   ],
   "source": [
    "for valu in variable_list:\n",
    "    print(valu.duplicated().sum())\n",
    "print('Дубликатов нет, преходим к следующему шагу')\n"
   ]
  },
  {
   "cell_type": "markdown",
   "metadata": {},
   "source": [
    "Переведем даты из таблиц из типа objects в datetime, проверим, что в выборке данных только 1 год, чтобы месяцы разных годов не сложились, вернем значение месяца построчно в столбец месяца, затем просуммуируем звонки, интернет и смс за месяц"
   ]
  },
  {
   "cell_type": "code",
   "execution_count": 5,
   "metadata": {},
   "outputs": [
    {
     "name": "stdout",
     "output_type": "stream",
     "text": [
      "Года, участвующие в выборке: [2018]\n"
     ]
    },
    {
     "data": {
      "text/html": [
       "<div>\n",
       "<style scoped>\n",
       "    .dataframe tbody tr th:only-of-type {\n",
       "        vertical-align: middle;\n",
       "    }\n",
       "\n",
       "    .dataframe tbody tr th {\n",
       "        vertical-align: top;\n",
       "    }\n",
       "\n",
       "    .dataframe thead th {\n",
       "        text-align: right;\n",
       "    }\n",
       "</style>\n",
       "<table border=\"1\" class=\"dataframe\">\n",
       "  <thead>\n",
       "    <tr style=\"text-align: right;\">\n",
       "      <th></th>\n",
       "      <th>user_id</th>\n",
       "      <th>month</th>\n",
       "      <th>id</th>\n",
       "    </tr>\n",
       "  </thead>\n",
       "  <tbody>\n",
       "    <tr>\n",
       "      <td>0</td>\n",
       "      <td>1000</td>\n",
       "      <td>5</td>\n",
       "      <td>22</td>\n",
       "    </tr>\n",
       "    <tr>\n",
       "      <td>1</td>\n",
       "      <td>1000</td>\n",
       "      <td>6</td>\n",
       "      <td>60</td>\n",
       "    </tr>\n",
       "    <tr>\n",
       "      <td>2</td>\n",
       "      <td>1000</td>\n",
       "      <td>7</td>\n",
       "      <td>75</td>\n",
       "    </tr>\n",
       "    <tr>\n",
       "      <td>3</td>\n",
       "      <td>1000</td>\n",
       "      <td>8</td>\n",
       "      <td>81</td>\n",
       "    </tr>\n",
       "    <tr>\n",
       "      <td>4</td>\n",
       "      <td>1000</td>\n",
       "      <td>9</td>\n",
       "      <td>57</td>\n",
       "    </tr>\n",
       "    <tr>\n",
       "      <td>5</td>\n",
       "      <td>1000</td>\n",
       "      <td>10</td>\n",
       "      <td>73</td>\n",
       "    </tr>\n",
       "    <tr>\n",
       "      <td>6</td>\n",
       "      <td>1000</td>\n",
       "      <td>11</td>\n",
       "      <td>58</td>\n",
       "    </tr>\n",
       "    <tr>\n",
       "      <td>7</td>\n",
       "      <td>1000</td>\n",
       "      <td>12</td>\n",
       "      <td>70</td>\n",
       "    </tr>\n",
       "    <tr>\n",
       "      <td>8</td>\n",
       "      <td>1002</td>\n",
       "      <td>6</td>\n",
       "      <td>4</td>\n",
       "    </tr>\n",
       "    <tr>\n",
       "      <td>9</td>\n",
       "      <td>1002</td>\n",
       "      <td>7</td>\n",
       "      <td>11</td>\n",
       "    </tr>\n",
       "  </tbody>\n",
       "</table>\n",
       "</div>"
      ],
      "text/plain": [
       "   user_id  month  id\n",
       "0     1000      5  22\n",
       "1     1000      6  60\n",
       "2     1000      7  75\n",
       "3     1000      8  81\n",
       "4     1000      9  57\n",
       "5     1000     10  73\n",
       "6     1000     11  58\n",
       "7     1000     12  70\n",
       "8     1002      6   4\n",
       "9     1002      7  11"
      ]
     },
     "metadata": {},
     "output_type": "display_data"
    },
    {
     "data": {
      "text/html": [
       "<div>\n",
       "<style scoped>\n",
       "    .dataframe tbody tr th:only-of-type {\n",
       "        vertical-align: middle;\n",
       "    }\n",
       "\n",
       "    .dataframe tbody tr th {\n",
       "        vertical-align: top;\n",
       "    }\n",
       "\n",
       "    .dataframe thead th {\n",
       "        text-align: right;\n",
       "    }\n",
       "</style>\n",
       "<table border=\"1\" class=\"dataframe\">\n",
       "  <thead>\n",
       "    <tr style=\"text-align: right;\">\n",
       "      <th></th>\n",
       "      <th>user_id</th>\n",
       "      <th>month</th>\n",
       "      <th>mb_used</th>\n",
       "    </tr>\n",
       "  </thead>\n",
       "  <tbody>\n",
       "    <tr>\n",
       "      <td>0</td>\n",
       "      <td>1000</td>\n",
       "      <td>5</td>\n",
       "      <td>3</td>\n",
       "    </tr>\n",
       "    <tr>\n",
       "      <td>1</td>\n",
       "      <td>1000</td>\n",
       "      <td>6</td>\n",
       "      <td>23</td>\n",
       "    </tr>\n",
       "    <tr>\n",
       "      <td>2</td>\n",
       "      <td>1000</td>\n",
       "      <td>7</td>\n",
       "      <td>14</td>\n",
       "    </tr>\n",
       "    <tr>\n",
       "      <td>3</td>\n",
       "      <td>1000</td>\n",
       "      <td>8</td>\n",
       "      <td>14</td>\n",
       "    </tr>\n",
       "    <tr>\n",
       "      <td>4</td>\n",
       "      <td>1000</td>\n",
       "      <td>9</td>\n",
       "      <td>15</td>\n",
       "    </tr>\n",
       "    <tr>\n",
       "      <td>5</td>\n",
       "      <td>1000</td>\n",
       "      <td>10</td>\n",
       "      <td>15</td>\n",
       "    </tr>\n",
       "    <tr>\n",
       "      <td>6</td>\n",
       "      <td>1000</td>\n",
       "      <td>11</td>\n",
       "      <td>15</td>\n",
       "    </tr>\n",
       "    <tr>\n",
       "      <td>7</td>\n",
       "      <td>1000</td>\n",
       "      <td>12</td>\n",
       "      <td>10</td>\n",
       "    </tr>\n",
       "    <tr>\n",
       "      <td>8</td>\n",
       "      <td>1001</td>\n",
       "      <td>11</td>\n",
       "      <td>18</td>\n",
       "    </tr>\n",
       "    <tr>\n",
       "      <td>9</td>\n",
       "      <td>1001</td>\n",
       "      <td>12</td>\n",
       "      <td>14</td>\n",
       "    </tr>\n",
       "  </tbody>\n",
       "</table>\n",
       "</div>"
      ],
      "text/plain": [
       "   user_id  month  mb_used\n",
       "0     1000      5        3\n",
       "1     1000      6       23\n",
       "2     1000      7       14\n",
       "3     1000      8       14\n",
       "4     1000      9       15\n",
       "5     1000     10       15\n",
       "6     1000     11       15\n",
       "7     1000     12       10\n",
       "8     1001     11       18\n",
       "9     1001     12       14"
      ]
     },
     "metadata": {},
     "output_type": "display_data"
    },
    {
     "data": {
      "text/html": [
       "<div>\n",
       "<style scoped>\n",
       "    .dataframe tbody tr th:only-of-type {\n",
       "        vertical-align: middle;\n",
       "    }\n",
       "\n",
       "    .dataframe tbody tr th {\n",
       "        vertical-align: top;\n",
       "    }\n",
       "\n",
       "    .dataframe thead th {\n",
       "        text-align: right;\n",
       "    }\n",
       "</style>\n",
       "<table border=\"1\" class=\"dataframe\">\n",
       "  <thead>\n",
       "    <tr style=\"text-align: right;\">\n",
       "      <th></th>\n",
       "      <th>user_id</th>\n",
       "      <th>month</th>\n",
       "      <th>duration</th>\n",
       "    </tr>\n",
       "  </thead>\n",
       "  <tbody>\n",
       "    <tr>\n",
       "      <td>0</td>\n",
       "      <td>1000</td>\n",
       "      <td>5</td>\n",
       "      <td>159</td>\n",
       "    </tr>\n",
       "    <tr>\n",
       "      <td>1</td>\n",
       "      <td>1000</td>\n",
       "      <td>6</td>\n",
       "      <td>172</td>\n",
       "    </tr>\n",
       "    <tr>\n",
       "      <td>2</td>\n",
       "      <td>1000</td>\n",
       "      <td>7</td>\n",
       "      <td>340</td>\n",
       "    </tr>\n",
       "    <tr>\n",
       "      <td>3</td>\n",
       "      <td>1000</td>\n",
       "      <td>8</td>\n",
       "      <td>408</td>\n",
       "    </tr>\n",
       "    <tr>\n",
       "      <td>4</td>\n",
       "      <td>1000</td>\n",
       "      <td>9</td>\n",
       "      <td>466</td>\n",
       "    </tr>\n",
       "    <tr>\n",
       "      <td>5</td>\n",
       "      <td>1000</td>\n",
       "      <td>10</td>\n",
       "      <td>350</td>\n",
       "    </tr>\n",
       "    <tr>\n",
       "      <td>6</td>\n",
       "      <td>1000</td>\n",
       "      <td>11</td>\n",
       "      <td>338</td>\n",
       "    </tr>\n",
       "    <tr>\n",
       "      <td>7</td>\n",
       "      <td>1000</td>\n",
       "      <td>12</td>\n",
       "      <td>333</td>\n",
       "    </tr>\n",
       "    <tr>\n",
       "      <td>8</td>\n",
       "      <td>1001</td>\n",
       "      <td>11</td>\n",
       "      <td>430</td>\n",
       "    </tr>\n",
       "    <tr>\n",
       "      <td>9</td>\n",
       "      <td>1001</td>\n",
       "      <td>12</td>\n",
       "      <td>414</td>\n",
       "    </tr>\n",
       "  </tbody>\n",
       "</table>\n",
       "</div>"
      ],
      "text/plain": [
       "   user_id  month  duration\n",
       "0     1000      5       159\n",
       "1     1000      6       172\n",
       "2     1000      7       340\n",
       "3     1000      8       408\n",
       "4     1000      9       466\n",
       "5     1000     10       350\n",
       "6     1000     11       338\n",
       "7     1000     12       333\n",
       "8     1001     11       430\n",
       "9     1001     12       414"
      ]
     },
     "metadata": {},
     "output_type": "display_data"
    }
   ],
   "source": [
    "# Создаем функцию распознания дат в столбцах дат в фреймах данных\n",
    "def date_recog(data_lists):\n",
    "    for val in data_lists:\n",
    "        dt_col = val.columns[val.columns.str.contains(r'date')].tolist() # Ищем столбцы в названии которых есть date\n",
    "        for i in range(len(dt_col)):\n",
    "            val.loc[:,dt_col[i]] = pd.to_datetime(val.loc[:,dt_col[i]], format='%Y-%m-%d') # Переводим даты в тип dt\n",
    "            val['month'] = val.loc[:,dt_col[i]].dt.month # создаем столбец с возратом месяца из даты\n",
    "            val['day'] = val.loc[:,dt_col[i]].dt.day # создаем столбец с возратом дня из даты\n",
    "    return data_lists\n",
    "\n",
    "variable_list = date_recog(variable_list)\n",
    "\n",
    "# Считаем смс по месяцам\n",
    "messages_per_month = messages.pivot_table(index=['user_id','month'], values='id',aggfunc='count').reset_index() \n",
    "\n",
    "# Считаем траффик по месяцам, переводим из Мб в Гб, округляем в большую сторону до целого, меняем тип на целочисленный\n",
    "internet_per_month = internet.pivot_table(index=['user_id','month'], values='mb_used',aggfunc='sum').reset_index()\n",
    "internet_per_month['mb_used'] = internet_per_month['mb_used'].apply(lambda z: np.ceil(z/1024).astype('int32'))\n",
    "\n",
    "# Считаем звонки по месяцам\n",
    "calls_per_month = calls.pivot_table(index=['user_id','month'], values='duration' ,aggfunc='sum').reset_index()\n",
    "\n",
    "print(f'Года, участвующие в выборке:', calls['call_date'].dt.year.unique())\n",
    "\n",
    "display(messages_per_month.head(10), internet_per_month.head(10), calls_per_month.head(10))\n"
   ]
  },
  {
   "cell_type": "markdown",
   "metadata": {},
   "source": [
    "Проверим зависимость звонков, смс и трафика от дня месяца:"
   ]
  },
  {
   "cell_type": "code",
   "execution_count": 6,
   "metadata": {},
   "outputs": [
    {
     "data": {
      "image/png": "[encoded data removed]",
      "text/plain": [
       "<Figure size 432x216 with 1 Axes>"
      ]
     },
     "metadata": {
      "needs_background": "light"
     },
     "output_type": "display_data"
    },
    {
     "data": {
      "image/png": "[encoded data removed]",
      "text/plain": [
       "<Figure size 432x216 with 1 Axes>"
      ]
     },
     "metadata": {
      "needs_background": "light"
     },
     "output_type": "display_data"
    },
    {
     "data": {
      "image/png": "[encoded data removed]",
      "text/plain": [
       "<Figure size 432x216 with 1 Axes>"
      ]
     },
     "metadata": {
      "needs_background": "light"
     },
     "output_type": "display_data"
    },
    {
     "data": {
      "image/png": "[encoded data removed]",
      "text/plain": [
       "<Figure size 432x216 with 1 Axes>"
      ]
     },
     "metadata": {
      "needs_background": "light"
     },
     "output_type": "display_data"
    }
   ],
   "source": [
    "messages_per_day = messages.pivot_table(index=['user_id','day'], values='id',aggfunc='count').reset_index()\n",
    "for i in range(1002,1006):\n",
    "    messages_per_day.query('user_id == @i').plot(x='day', y='id', figsize=(6,3))\n",
    "    plt.show()\n"
   ]
  },
  {
   "cell_type": "code",
   "execution_count": 7,
   "metadata": {},
   "outputs": [
    {
     "data": {
      "image/png": "[encoded data removed]",
      "text/plain": [
       "<Figure size 432x216 with 1 Axes>"
      ]
     },
     "metadata": {
      "needs_background": "light"
     },
     "output_type": "display_data"
    },
    {
     "data": {
      "image/png": "[encoded data removed]",
      "text/plain": [
       "<Figure size 432x216 with 1 Axes>"
      ]
     },
     "metadata": {
      "needs_background": "light"
     },
     "output_type": "display_data"
    },
    {
     "data": {
      "image/png": "[encoded data removed]",
      "text/plain": [
       "<Figure size 432x216 with 1 Axes>"
      ]
     },
     "metadata": {
      "needs_background": "light"
     },
     "output_type": "display_data"
    },
    {
     "data": {
      "image/png": "[encoded data removed]",
      "text/plain": [
       "<Figure size 432x216 with 1 Axes>"
      ]
     },
     "metadata": {
      "needs_background": "light"
     },
     "output_type": "display_data"
    }
   ],
   "source": [
    "calls_per_day = calls.pivot_table(index=['user_id','day'], values='duration',aggfunc='sum').reset_index()\n",
    "for i in range(1002,1006):\n",
    "    calls_per_day.query('user_id == @i').plot(x='day', y='duration', figsize=(6,3))\n",
    "    plt.show()"
   ]
  },
  {
   "cell_type": "code",
   "execution_count": 8,
   "metadata": {},
   "outputs": [
    {
     "data": {
      "image/png": "[encoded data removed]",
      "text/plain": [
       "<Figure size 432x216 with 1 Axes>"
      ]
     },
     "metadata": {
      "needs_background": "light"
     },
     "output_type": "display_data"
    },
    {
     "data": {
      "image/png": "[encoded data removed]",
      "text/plain": [
       "<Figure size 432x216 with 1 Axes>"
      ]
     },
     "metadata": {
      "needs_background": "light"
     },
     "output_type": "display_data"
    },
    {
     "data": {
      "image/png": "[encoded data removed]",
      "text/plain": [
       "<Figure size 432x216 with 1 Axes>"
      ]
     },
     "metadata": {
      "needs_background": "light"
     },
     "output_type": "display_data"
    },
    {
     "data": {
      "image/png": "[encoded data removed]",
      "text/plain": [
       "<Figure size 432x216 with 1 Axes>"
      ]
     },
     "metadata": {
      "needs_background": "light"
     },
     "output_type": "display_data"
    }
   ],
   "source": [
    "internet_per_day = internet.pivot_table(index=['user_id','day'], values='mb_used',aggfunc='sum').reset_index()\n",
    "for i in range(1002,1006):\n",
    "    internet_per_day.query('user_id == @i').plot(x='day', y='mb_used', figsize=(6,3))\n",
    "    plt.show()"
   ]
  },
  {
   "cell_type": "markdown",
   "metadata": {},
   "source": [
    "Как видим из графиков, зависимость по смс, звонкам и траффику интернета не зависит от дня месяца, поэтому мы можем считать что распределение по дням месяца равномерное и для статистики активности пользователей датой начала использования тарифа можно пренебречь."
   ]
  },
  {
   "cell_type": "markdown",
   "metadata": {},
   "source": [
    "Объединим таблицы Users, Calls, Messages, Internet в общую:"
   ]
  },
  {
   "cell_type": "code",
   "execution_count": 9,
   "metadata": {
    "scrolled": false
   },
   "outputs": [
    {
     "data": {
      "text/html": [
       "<div>\n",
       "<style scoped>\n",
       "    .dataframe tbody tr th:only-of-type {\n",
       "        vertical-align: middle;\n",
       "    }\n",
       "\n",
       "    .dataframe tbody tr th {\n",
       "        vertical-align: top;\n",
       "    }\n",
       "\n",
       "    .dataframe thead th {\n",
       "        text-align: right;\n",
       "    }\n",
       "</style>\n",
       "<table border=\"1\" class=\"dataframe\">\n",
       "  <thead>\n",
       "    <tr style=\"text-align: right;\">\n",
       "      <th></th>\n",
       "      <th>index</th>\n",
       "      <th>age</th>\n",
       "      <th>churn_date</th>\n",
       "      <th>city</th>\n",
       "      <th>day</th>\n",
       "      <th>calls_duration</th>\n",
       "      <th>first_name</th>\n",
       "      <th>sms_used</th>\n",
       "      <th>last_name</th>\n",
       "      <th>gb_used</th>\n",
       "      <th>month</th>\n",
       "      <th>month_registration</th>\n",
       "      <th>reg_date</th>\n",
       "      <th>tariff</th>\n",
       "      <th>user_id</th>\n",
       "    </tr>\n",
       "  </thead>\n",
       "  <tbody>\n",
       "    <tr>\n",
       "      <td>0</td>\n",
       "      <td>0</td>\n",
       "      <td>52.0</td>\n",
       "      <td>0</td>\n",
       "      <td>Краснодар</td>\n",
       "      <td>25.0</td>\n",
       "      <td>159.0</td>\n",
       "      <td>Рафаил</td>\n",
       "      <td>22.0</td>\n",
       "      <td>Верещагин</td>\n",
       "      <td>3.0</td>\n",
       "      <td>5.0</td>\n",
       "      <td>5.0</td>\n",
       "      <td>2018-05-25 00:00:00</td>\n",
       "      <td>ultra</td>\n",
       "      <td>1000.0</td>\n",
       "    </tr>\n",
       "    <tr>\n",
       "      <td>1</td>\n",
       "      <td>1</td>\n",
       "      <td>52.0</td>\n",
       "      <td>0</td>\n",
       "      <td>Краснодар</td>\n",
       "      <td>25.0</td>\n",
       "      <td>172.0</td>\n",
       "      <td>Рафаил</td>\n",
       "      <td>60.0</td>\n",
       "      <td>Верещагин</td>\n",
       "      <td>23.0</td>\n",
       "      <td>6.0</td>\n",
       "      <td>5.0</td>\n",
       "      <td>2018-05-25 00:00:00</td>\n",
       "      <td>ultra</td>\n",
       "      <td>1000.0</td>\n",
       "    </tr>\n",
       "    <tr>\n",
       "      <td>2</td>\n",
       "      <td>2</td>\n",
       "      <td>52.0</td>\n",
       "      <td>0</td>\n",
       "      <td>Краснодар</td>\n",
       "      <td>25.0</td>\n",
       "      <td>340.0</td>\n",
       "      <td>Рафаил</td>\n",
       "      <td>75.0</td>\n",
       "      <td>Верещагин</td>\n",
       "      <td>14.0</td>\n",
       "      <td>7.0</td>\n",
       "      <td>5.0</td>\n",
       "      <td>2018-05-25 00:00:00</td>\n",
       "      <td>ultra</td>\n",
       "      <td>1000.0</td>\n",
       "    </tr>\n",
       "    <tr>\n",
       "      <td>3</td>\n",
       "      <td>3</td>\n",
       "      <td>52.0</td>\n",
       "      <td>0</td>\n",
       "      <td>Краснодар</td>\n",
       "      <td>25.0</td>\n",
       "      <td>408.0</td>\n",
       "      <td>Рафаил</td>\n",
       "      <td>81.0</td>\n",
       "      <td>Верещагин</td>\n",
       "      <td>14.0</td>\n",
       "      <td>8.0</td>\n",
       "      <td>5.0</td>\n",
       "      <td>2018-05-25 00:00:00</td>\n",
       "      <td>ultra</td>\n",
       "      <td>1000.0</td>\n",
       "    </tr>\n",
       "    <tr>\n",
       "      <td>4</td>\n",
       "      <td>4</td>\n",
       "      <td>52.0</td>\n",
       "      <td>0</td>\n",
       "      <td>Краснодар</td>\n",
       "      <td>25.0</td>\n",
       "      <td>466.0</td>\n",
       "      <td>Рафаил</td>\n",
       "      <td>57.0</td>\n",
       "      <td>Верещагин</td>\n",
       "      <td>15.0</td>\n",
       "      <td>9.0</td>\n",
       "      <td>5.0</td>\n",
       "      <td>2018-05-25 00:00:00</td>\n",
       "      <td>ultra</td>\n",
       "      <td>1000.0</td>\n",
       "    </tr>\n",
       "  </tbody>\n",
       "</table>\n",
       "</div>"
      ],
      "text/plain": [
       "   index   age churn_date       city   day  calls_duration first_name  \\\n",
       "0      0  52.0          0  Краснодар  25.0           159.0     Рафаил   \n",
       "1      1  52.0          0  Краснодар  25.0           172.0     Рафаил   \n",
       "2      2  52.0          0  Краснодар  25.0           340.0     Рафаил   \n",
       "3      3  52.0          0  Краснодар  25.0           408.0     Рафаил   \n",
       "4      4  52.0          0  Краснодар  25.0           466.0     Рафаил   \n",
       "\n",
       "   sms_used  last_name  gb_used  month  month_registration  \\\n",
       "0      22.0  Верещагин      3.0    5.0                 5.0   \n",
       "1      60.0  Верещагин     23.0    6.0                 5.0   \n",
       "2      75.0  Верещагин     14.0    7.0                 5.0   \n",
       "3      81.0  Верещагин     14.0    8.0                 5.0   \n",
       "4      57.0  Верещагин     15.0    9.0                 5.0   \n",
       "\n",
       "              reg_date tariff  user_id  \n",
       "0  2018-05-25 00:00:00  ultra   1000.0  \n",
       "1  2018-05-25 00:00:00  ultra   1000.0  \n",
       "2  2018-05-25 00:00:00  ultra   1000.0  \n",
       "3  2018-05-25 00:00:00  ultra   1000.0  \n",
       "4  2018-05-25 00:00:00  ultra   1000.0  "
      ]
     },
     "execution_count": 9,
     "metadata": {},
     "output_type": "execute_result"
    }
   ],
   "source": [
    "id_lists = users['user_id'].unique().tolist() # Создаем список уникальных пользователей\n",
    "data_list=[]\n",
    "for val in id_lists: # Создаем функцию сращивания срезов таблиц по юзеру\n",
    "    elements = (messages_per_month.query('user_id == @val')\n",
    "                                .merge(internet_per_month.query('user_id == @val'), on='month', how='outer')\n",
    "                                .merge(calls_per_month.query('user_id == @val'), on='month', how='outer')\n",
    "                                .merge(users.query('user_id == @val'), on='user_id', how='outer')\n",
    "                                 )\n",
    "    data_list.append(elements) # записывем сращенные таблицы по юзерам в список\n",
    "data_user_activity = (pd.concat(data_list, sort=True) # объединяем в единую таблицу, удаляем лишнее, переименовываем столбцы\n",
    "                      .drop(columns = ['user_id_x', 'user_id_y'], axis = 1)\n",
    "                      .fillna(0)\n",
    "                      .rename(columns={'duration':'calls_duration','id':'sms_used', 'mb_used':'gb_used', 'month_x':'month', 'month_y':'month_registration'})\n",
    "                      .reset_index()\n",
    "                     )\n",
    "data_user_activity.head()"
   ]
  },
  {
   "cell_type": "markdown",
   "metadata": {},
   "source": [
    "Посчитаем остатки минут, Гб траффика и смс вычтя сумму месяца из включенного в абонетскую плату количества, добавим данные в новые столбцы:"
   ]
  },
  {
   "cell_type": "code",
   "execution_count": 10,
   "metadata": {},
   "outputs": [
    {
     "data": {
      "text/html": [
       "<div>\n",
       "<style scoped>\n",
       "    .dataframe tbody tr th:only-of-type {\n",
       "        vertical-align: middle;\n",
       "    }\n",
       "\n",
       "    .dataframe tbody tr th {\n",
       "        vertical-align: top;\n",
       "    }\n",
       "\n",
       "    .dataframe thead th {\n",
       "        text-align: right;\n",
       "    }\n",
       "</style>\n",
       "<table border=\"1\" class=\"dataframe\">\n",
       "  <thead>\n",
       "    <tr style=\"text-align: right;\">\n",
       "      <th></th>\n",
       "      <th>calls_blnc</th>\n",
       "      <th>internet_blnc</th>\n",
       "      <th>sms_blnc</th>\n",
       "    </tr>\n",
       "  </thead>\n",
       "  <tbody>\n",
       "    <tr>\n",
       "      <td>0</td>\n",
       "      <td>2841</td>\n",
       "      <td>27</td>\n",
       "      <td>978</td>\n",
       "    </tr>\n",
       "    <tr>\n",
       "      <td>1</td>\n",
       "      <td>2828</td>\n",
       "      <td>7</td>\n",
       "      <td>940</td>\n",
       "    </tr>\n",
       "    <tr>\n",
       "      <td>2</td>\n",
       "      <td>2660</td>\n",
       "      <td>16</td>\n",
       "      <td>925</td>\n",
       "    </tr>\n",
       "    <tr>\n",
       "      <td>3</td>\n",
       "      <td>2592</td>\n",
       "      <td>16</td>\n",
       "      <td>919</td>\n",
       "    </tr>\n",
       "    <tr>\n",
       "      <td>4</td>\n",
       "      <td>2534</td>\n",
       "      <td>15</td>\n",
       "      <td>943</td>\n",
       "    </tr>\n",
       "    <tr>\n",
       "      <td>5</td>\n",
       "      <td>2650</td>\n",
       "      <td>15</td>\n",
       "      <td>927</td>\n",
       "    </tr>\n",
       "    <tr>\n",
       "      <td>6</td>\n",
       "      <td>2662</td>\n",
       "      <td>15</td>\n",
       "      <td>942</td>\n",
       "    </tr>\n",
       "    <tr>\n",
       "      <td>7</td>\n",
       "      <td>2667</td>\n",
       "      <td>20</td>\n",
       "      <td>930</td>\n",
       "    </tr>\n",
       "    <tr>\n",
       "      <td>8</td>\n",
       "      <td>70</td>\n",
       "      <td>-3</td>\n",
       "      <td>50</td>\n",
       "    </tr>\n",
       "    <tr>\n",
       "      <td>9</td>\n",
       "      <td>86</td>\n",
       "      <td>1</td>\n",
       "      <td>50</td>\n",
       "    </tr>\n",
       "    <tr>\n",
       "      <td>10</td>\n",
       "      <td>383</td>\n",
       "      <td>4</td>\n",
       "      <td>46</td>\n",
       "    </tr>\n",
       "    <tr>\n",
       "      <td>11</td>\n",
       "      <td>286</td>\n",
       "      <td>-3</td>\n",
       "      <td>39</td>\n",
       "    </tr>\n",
       "    <tr>\n",
       "      <td>12</td>\n",
       "      <td>211</td>\n",
       "      <td>-5</td>\n",
       "      <td>37</td>\n",
       "    </tr>\n",
       "    <tr>\n",
       "      <td>13</td>\n",
       "      <td>294</td>\n",
       "      <td>-2</td>\n",
       "      <td>46</td>\n",
       "    </tr>\n",
       "    <tr>\n",
       "      <td>14</td>\n",
       "      <td>288</td>\n",
       "      <td>1</td>\n",
       "      <td>40</td>\n",
       "    </tr>\n",
       "    <tr>\n",
       "      <td>15</td>\n",
       "      <td>257</td>\n",
       "      <td>-4</td>\n",
       "      <td>34</td>\n",
       "    </tr>\n",
       "  </tbody>\n",
       "</table>\n",
       "</div>"
      ],
      "text/plain": [
       "    calls_blnc  internet_blnc  sms_blnc\n",
       "0         2841             27       978\n",
       "1         2828              7       940\n",
       "2         2660             16       925\n",
       "3         2592             16       919\n",
       "4         2534             15       943\n",
       "5         2650             15       927\n",
       "6         2662             15       942\n",
       "7         2667             20       930\n",
       "8           70             -3        50\n",
       "9           86              1        50\n",
       "10         383              4        46\n",
       "11         286             -3        39\n",
       "12         211             -5        37\n",
       "13         294             -2        46\n",
       "14         288              1        40\n",
       "15         257             -4        34"
      ]
     },
     "execution_count": 10,
     "metadata": {},
     "output_type": "execute_result"
    }
   ],
   "source": [
    "# Считаем остатки минут, интернета, смс по месяцам в зависимости от тарифа\n",
    "data_user_activity['calls_blnc'] = data_user_activity.apply((lambda y: tariffs.loc[0,'minutes_included'] - y['calls_duration'] if y['tariff'] == tariffs.loc[0,'tariff_name']   else tariffs.loc[1,'minutes_included'] - y['calls_duration']), axis = 1 ).astype('int32')\n",
    "data_user_activity['internet_blnc'] = data_user_activity.apply((lambda y: tariffs.loc[0,'mb_per_month_included']/1024 - y['gb_used'] if y['tariff'] == tariffs.loc[0,'tariff_name']  else tariffs.loc[1,'mb_per_month_included']/1024 - y['gb_used']), axis = 1 ).astype('int32')\n",
    "data_user_activity['sms_blnc'] = data_user_activity.apply((lambda y: tariffs.loc[0,'messages_included'] - y['sms_used'] if y['tariff'] == tariffs.loc[0,'tariff_name']  else tariffs.loc[1,'messages_included'] - y['sms_used']), axis = 1 ).astype('int32')\n",
    "data_user_activity.loc[:15,['calls_blnc','internet_blnc','sms_blnc']]"
   ]
  },
  {
   "cell_type": "markdown",
   "metadata": {},
   "source": [
    "Посчитаем доплаты за минуты, Гб траффика и смс использованные сверх включенногов тариф, добавим данные в новые столбцы:"
   ]
  },
  {
   "cell_type": "code",
   "execution_count": 11,
   "metadata": {},
   "outputs": [
    {
     "data": {
      "text/plain": [
       "0         0\n",
       "1         0\n",
       "2         0\n",
       "3         0\n",
       "4         0\n",
       "       ... \n",
       "3217      0\n",
       "3218      0\n",
       "3219      0\n",
       "3220    336\n",
       "3221      0\n",
       "Name: calls_surch_cost, Length: 3222, dtype: int64"
      ]
     },
     "execution_count": 11,
     "metadata": {},
     "output_type": "execute_result"
    }
   ],
   "source": [
    "def call_surch(data): # функция подсчета денег за минуты свыше включенных в тариф\n",
    "    if data['calls_blnc'] < 0 and data['tariff'] == tariffs.loc[0,'tariff_name']:\n",
    "        res = data['calls_blnc']*tariffs.loc[0,'rub_per_minute']\n",
    "    elif data['calls_blnc'] < 0 and data['tariff'] == tariffs.loc[1,'tariff_name']:\n",
    "        res = data['calls_blnc']*tariffs.loc[1,'rub_per_minute']\n",
    "    else:\n",
    "        res = 0\n",
    "    return res\n",
    "data_user_activity['calls_surch_cost'] = data_user_activity.apply(call_surch, axis=1)\n",
    "data_user_activity['calls_surch_cost'] = data_user_activity['calls_surch_cost'].abs()\n",
    "data_user_activity['calls_surch_cost']"
   ]
  },
  {
   "cell_type": "code",
   "execution_count": 12,
   "metadata": {},
   "outputs": [
    {
     "data": {
      "text/plain": [
       "0          0\n",
       "1          0\n",
       "2          0\n",
       "3          0\n",
       "4          0\n",
       "        ... \n",
       "3217    1200\n",
       "3218       0\n",
       "3219     600\n",
       "3220     600\n",
       "3221       0\n",
       "Name: internet_surch_cost, Length: 3222, dtype: int64"
      ]
     },
     "execution_count": 12,
     "metadata": {},
     "output_type": "execute_result"
    }
   ],
   "source": [
    "def inet_surch(data): # функция подсчета денег за Гб свыше включенных в тариф\n",
    "    if data['internet_blnc'] < 0 and data['tariff'] == tariffs.loc[0,'tariff_name']:\n",
    "        res = data['internet_blnc']*tariffs.loc[0,'rub_per_gb']\n",
    "    elif data['internet_blnc'] < 0 and data['tariff'] == tariffs.loc[1,'tariff_name']:\n",
    "        res = data['internet_blnc']*tariffs.loc[1,'rub_per_gb']\n",
    "    else:\n",
    "        res = 0\n",
    "    return res\n",
    "data_user_activity['internet_surch_cost'] = data_user_activity.apply(inet_surch, axis=1)\n",
    "data_user_activity['internet_surch_cost'] = data_user_activity['internet_surch_cost'].abs()\n",
    "data_user_activity['internet_surch_cost']"
   ]
  },
  {
   "cell_type": "code",
   "execution_count": 13,
   "metadata": {},
   "outputs": [
    {
     "data": {
      "text/plain": [
       "0        0\n",
       "1        0\n",
       "2        0\n",
       "3        0\n",
       "4        0\n",
       "        ..\n",
       "3217     0\n",
       "3218     0\n",
       "3219     0\n",
       "3220    27\n",
       "3221    48\n",
       "Name: sms_surch_cost, Length: 3222, dtype: int64"
      ]
     },
     "execution_count": 13,
     "metadata": {},
     "output_type": "execute_result"
    }
   ],
   "source": [
    "def sms_surch(data): # функция подсчета денег за смс свыше включенных в тариф\n",
    "    if data['sms_blnc'] < 0 and data['tariff'] == tariffs.loc[0,'tariff_name']:\n",
    "        res = data['sms_blnc']*tariffs.loc[0,'rub_per_message']\n",
    "    elif data['sms_blnc'] < 0 and data['tariff'] == tariffs.loc[1,'tariff_name']:\n",
    "        res = data['sms_blnc']*tariffs.loc[1,'rub_per_message']\n",
    "    else:\n",
    "        res = 0\n",
    "    return res\n",
    "data_user_activity['sms_surch_cost'] = data_user_activity.apply(sms_surch, axis=1)\n",
    "data_user_activity['sms_surch_cost'] = data_user_activity['sms_surch_cost'].abs()\n",
    "data_user_activity['sms_surch_cost']"
   ]
  },
  {
   "cell_type": "markdown",
   "metadata": {},
   "source": [
    "Посчитаем помесячно общую сумму абонетской платы и доплат, добавим данные в новую колонку:"
   ]
  },
  {
   "cell_type": "code",
   "execution_count": 14,
   "metadata": {},
   "outputs": [
    {
     "data": {
      "text/plain": [
       "0       1950\n",
       "1       1950\n",
       "2       1950\n",
       "3       1950\n",
       "4       1950\n",
       "        ... \n",
       "3217    1750\n",
       "3218     550\n",
       "3219    1150\n",
       "3220    1513\n",
       "3221     598\n",
       "Name: total_cost, Length: 3222, dtype: int64"
      ]
     },
     "execution_count": 14,
     "metadata": {},
     "output_type": "execute_result"
    }
   ],
   "source": [
    "def total_cost(data): # функция подсчета общей суммы за месяц\n",
    "    if  data['tariff'] == tariffs.loc[0,'tariff_name']:\n",
    "        res = (tariffs.loc[0,'rub_monthly_fee']\n",
    "               + data['calls_surch_cost']\n",
    "               + data['internet_surch_cost']\n",
    "               + data['sms_surch_cost']\n",
    "              )\n",
    "    else:\n",
    "        res =(tariffs.loc[1,'rub_monthly_fee']\n",
    "               + data['calls_surch_cost']\n",
    "               + data['internet_surch_cost']\n",
    "               + data['sms_surch_cost']\n",
    "              )\n",
    "    return res\n",
    "data_user_activity['total_cost'] = data_user_activity.apply(total_cost, axis=1)\n",
    "\n",
    "data_user_activity['total_cost']"
   ]
  },
  {
   "cell_type": "markdown",
   "metadata": {},
   "source": [
    "**Вывод:**\n",
    "\n",
    "Заменили пропуски, посчитали помесячно данные для всех таблиц, посчитал данные помесячно без привязки к дате регистрации, т.к. статистически расход минут, Гб и смс распределен равномерно и привязка к календарным месяцам а не к циклам оплаты от даты регистрации не внесет значительных искажений. Затем объединил таблицы, посчитал остатки минут, Гб и смс, посчитал доплаты за минуты, Гб и смс по тарифам и посчитал помесячные выплаты аб.платы + доплаты."
   ]
  },
  {
   "cell_type": "markdown",
   "metadata": {},
   "source": [
    "## Анализ данных"
   ]
  },
  {
   "cell_type": "markdown",
   "metadata": {},
   "source": [
    "Создадим срезы по тарифам и по локации Москва/не Москва"
   ]
  },
  {
   "cell_type": "code",
   "execution_count": 15,
   "metadata": {},
   "outputs": [
    {
     "data": {
      "text/html": [
       "<div>\n",
       "<style scoped>\n",
       "    .dataframe tbody tr th:only-of-type {\n",
       "        vertical-align: middle;\n",
       "    }\n",
       "\n",
       "    .dataframe tbody tr th {\n",
       "        vertical-align: top;\n",
       "    }\n",
       "\n",
       "    .dataframe thead th {\n",
       "        text-align: right;\n",
       "    }\n",
       "</style>\n",
       "<table border=\"1\" class=\"dataframe\">\n",
       "  <thead>\n",
       "    <tr style=\"text-align: right;\">\n",
       "      <th></th>\n",
       "      <th>index</th>\n",
       "      <th>age</th>\n",
       "      <th>churn_date</th>\n",
       "      <th>city</th>\n",
       "      <th>day</th>\n",
       "      <th>calls_duration</th>\n",
       "      <th>first_name</th>\n",
       "      <th>sms_used</th>\n",
       "      <th>last_name</th>\n",
       "      <th>gb_used</th>\n",
       "      <th>...</th>\n",
       "      <th>reg_date</th>\n",
       "      <th>tariff</th>\n",
       "      <th>user_id</th>\n",
       "      <th>calls_blnc</th>\n",
       "      <th>internet_blnc</th>\n",
       "      <th>sms_blnc</th>\n",
       "      <th>calls_surch_cost</th>\n",
       "      <th>internet_surch_cost</th>\n",
       "      <th>sms_surch_cost</th>\n",
       "      <th>total_cost</th>\n",
       "    </tr>\n",
       "  </thead>\n",
       "  <tbody>\n",
       "    <tr>\n",
       "      <td>8</td>\n",
       "      <td>0</td>\n",
       "      <td>41.0</td>\n",
       "      <td>0</td>\n",
       "      <td>Москва</td>\n",
       "      <td>1.0</td>\n",
       "      <td>430.0</td>\n",
       "      <td>Иван</td>\n",
       "      <td>0.0</td>\n",
       "      <td>Ежов</td>\n",
       "      <td>18.0</td>\n",
       "      <td>...</td>\n",
       "      <td>2018-11-01 00:00:00</td>\n",
       "      <td>smart</td>\n",
       "      <td>1001.0</td>\n",
       "      <td>70</td>\n",
       "      <td>-3</td>\n",
       "      <td>50</td>\n",
       "      <td>0</td>\n",
       "      <td>600</td>\n",
       "      <td>0</td>\n",
       "      <td>1150</td>\n",
       "    </tr>\n",
       "    <tr>\n",
       "      <td>9</td>\n",
       "      <td>1</td>\n",
       "      <td>41.0</td>\n",
       "      <td>0</td>\n",
       "      <td>Москва</td>\n",
       "      <td>1.0</td>\n",
       "      <td>414.0</td>\n",
       "      <td>Иван</td>\n",
       "      <td>0.0</td>\n",
       "      <td>Ежов</td>\n",
       "      <td>14.0</td>\n",
       "      <td>...</td>\n",
       "      <td>2018-11-01 00:00:00</td>\n",
       "      <td>smart</td>\n",
       "      <td>1001.0</td>\n",
       "      <td>86</td>\n",
       "      <td>1</td>\n",
       "      <td>50</td>\n",
       "      <td>0</td>\n",
       "      <td>0</td>\n",
       "      <td>0</td>\n",
       "      <td>550</td>\n",
       "    </tr>\n",
       "    <tr>\n",
       "      <td>10</td>\n",
       "      <td>0</td>\n",
       "      <td>59.0</td>\n",
       "      <td>0</td>\n",
       "      <td>Стерлитамак</td>\n",
       "      <td>17.0</td>\n",
       "      <td>117.0</td>\n",
       "      <td>Евгений</td>\n",
       "      <td>4.0</td>\n",
       "      <td>Абрамович</td>\n",
       "      <td>11.0</td>\n",
       "      <td>...</td>\n",
       "      <td>2018-06-17 00:00:00</td>\n",
       "      <td>smart</td>\n",
       "      <td>1002.0</td>\n",
       "      <td>383</td>\n",
       "      <td>4</td>\n",
       "      <td>46</td>\n",
       "      <td>0</td>\n",
       "      <td>0</td>\n",
       "      <td>0</td>\n",
       "      <td>550</td>\n",
       "    </tr>\n",
       "    <tr>\n",
       "      <td>11</td>\n",
       "      <td>1</td>\n",
       "      <td>59.0</td>\n",
       "      <td>0</td>\n",
       "      <td>Стерлитамак</td>\n",
       "      <td>17.0</td>\n",
       "      <td>214.0</td>\n",
       "      <td>Евгений</td>\n",
       "      <td>11.0</td>\n",
       "      <td>Абрамович</td>\n",
       "      <td>18.0</td>\n",
       "      <td>...</td>\n",
       "      <td>2018-06-17 00:00:00</td>\n",
       "      <td>smart</td>\n",
       "      <td>1002.0</td>\n",
       "      <td>286</td>\n",
       "      <td>-3</td>\n",
       "      <td>39</td>\n",
       "      <td>0</td>\n",
       "      <td>600</td>\n",
       "      <td>0</td>\n",
       "      <td>1150</td>\n",
       "    </tr>\n",
       "    <tr>\n",
       "      <td>12</td>\n",
       "      <td>2</td>\n",
       "      <td>59.0</td>\n",
       "      <td>0</td>\n",
       "      <td>Стерлитамак</td>\n",
       "      <td>17.0</td>\n",
       "      <td>289.0</td>\n",
       "      <td>Евгений</td>\n",
       "      <td>13.0</td>\n",
       "      <td>Абрамович</td>\n",
       "      <td>20.0</td>\n",
       "      <td>...</td>\n",
       "      <td>2018-06-17 00:00:00</td>\n",
       "      <td>smart</td>\n",
       "      <td>1002.0</td>\n",
       "      <td>211</td>\n",
       "      <td>-5</td>\n",
       "      <td>37</td>\n",
       "      <td>0</td>\n",
       "      <td>1000</td>\n",
       "      <td>0</td>\n",
       "      <td>1550</td>\n",
       "    </tr>\n",
       "  </tbody>\n",
       "</table>\n",
       "<p>5 rows × 22 columns</p>\n",
       "</div>"
      ],
      "text/plain": [
       "    index   age churn_date         city   day  calls_duration first_name  \\\n",
       "8       0  41.0          0       Москва   1.0           430.0       Иван   \n",
       "9       1  41.0          0       Москва   1.0           414.0       Иван   \n",
       "10      0  59.0          0  Стерлитамак  17.0           117.0    Евгений   \n",
       "11      1  59.0          0  Стерлитамак  17.0           214.0    Евгений   \n",
       "12      2  59.0          0  Стерлитамак  17.0           289.0    Евгений   \n",
       "\n",
       "    sms_used  last_name  gb_used  ...             reg_date  tariff user_id  \\\n",
       "8        0.0       Ежов     18.0  ...  2018-11-01 00:00:00   smart  1001.0   \n",
       "9        0.0       Ежов     14.0  ...  2018-11-01 00:00:00   smart  1001.0   \n",
       "10       4.0  Абрамович     11.0  ...  2018-06-17 00:00:00   smart  1002.0   \n",
       "11      11.0  Абрамович     18.0  ...  2018-06-17 00:00:00   smart  1002.0   \n",
       "12      13.0  Абрамович     20.0  ...  2018-06-17 00:00:00   smart  1002.0   \n",
       "\n",
       "   calls_blnc  internet_blnc  sms_blnc  calls_surch_cost  internet_surch_cost  \\\n",
       "8          70             -3        50                 0                  600   \n",
       "9          86              1        50                 0                    0   \n",
       "10        383              4        46                 0                    0   \n",
       "11        286             -3        39                 0                  600   \n",
       "12        211             -5        37                 0                 1000   \n",
       "\n",
       "    sms_surch_cost  total_cost  \n",
       "8                0        1150  \n",
       "9                0         550  \n",
       "10               0         550  \n",
       "11               0        1150  \n",
       "12               0        1550  \n",
       "\n",
       "[5 rows x 22 columns]"
      ]
     },
     "metadata": {},
     "output_type": "display_data"
    },
    {
     "data": {
      "text/html": [
       "<div>\n",
       "<style scoped>\n",
       "    .dataframe tbody tr th:only-of-type {\n",
       "        vertical-align: middle;\n",
       "    }\n",
       "\n",
       "    .dataframe tbody tr th {\n",
       "        vertical-align: top;\n",
       "    }\n",
       "\n",
       "    .dataframe thead th {\n",
       "        text-align: right;\n",
       "    }\n",
       "</style>\n",
       "<table border=\"1\" class=\"dataframe\">\n",
       "  <thead>\n",
       "    <tr style=\"text-align: right;\">\n",
       "      <th></th>\n",
       "      <th>index</th>\n",
       "      <th>age</th>\n",
       "      <th>churn_date</th>\n",
       "      <th>city</th>\n",
       "      <th>day</th>\n",
       "      <th>calls_duration</th>\n",
       "      <th>first_name</th>\n",
       "      <th>sms_used</th>\n",
       "      <th>last_name</th>\n",
       "      <th>gb_used</th>\n",
       "      <th>...</th>\n",
       "      <th>reg_date</th>\n",
       "      <th>tariff</th>\n",
       "      <th>user_id</th>\n",
       "      <th>calls_blnc</th>\n",
       "      <th>internet_blnc</th>\n",
       "      <th>sms_blnc</th>\n",
       "      <th>calls_surch_cost</th>\n",
       "      <th>internet_surch_cost</th>\n",
       "      <th>sms_surch_cost</th>\n",
       "      <th>total_cost</th>\n",
       "    </tr>\n",
       "  </thead>\n",
       "  <tbody>\n",
       "    <tr>\n",
       "      <td>0</td>\n",
       "      <td>0</td>\n",
       "      <td>52.0</td>\n",
       "      <td>0</td>\n",
       "      <td>Краснодар</td>\n",
       "      <td>25.0</td>\n",
       "      <td>159.0</td>\n",
       "      <td>Рафаил</td>\n",
       "      <td>22.0</td>\n",
       "      <td>Верещагин</td>\n",
       "      <td>3.0</td>\n",
       "      <td>...</td>\n",
       "      <td>2018-05-25 00:00:00</td>\n",
       "      <td>ultra</td>\n",
       "      <td>1000.0</td>\n",
       "      <td>2841</td>\n",
       "      <td>27</td>\n",
       "      <td>978</td>\n",
       "      <td>0</td>\n",
       "      <td>0</td>\n",
       "      <td>0</td>\n",
       "      <td>1950</td>\n",
       "    </tr>\n",
       "    <tr>\n",
       "      <td>1</td>\n",
       "      <td>1</td>\n",
       "      <td>52.0</td>\n",
       "      <td>0</td>\n",
       "      <td>Краснодар</td>\n",
       "      <td>25.0</td>\n",
       "      <td>172.0</td>\n",
       "      <td>Рафаил</td>\n",
       "      <td>60.0</td>\n",
       "      <td>Верещагин</td>\n",
       "      <td>23.0</td>\n",
       "      <td>...</td>\n",
       "      <td>2018-05-25 00:00:00</td>\n",
       "      <td>ultra</td>\n",
       "      <td>1000.0</td>\n",
       "      <td>2828</td>\n",
       "      <td>7</td>\n",
       "      <td>940</td>\n",
       "      <td>0</td>\n",
       "      <td>0</td>\n",
       "      <td>0</td>\n",
       "      <td>1950</td>\n",
       "    </tr>\n",
       "    <tr>\n",
       "      <td>2</td>\n",
       "      <td>2</td>\n",
       "      <td>52.0</td>\n",
       "      <td>0</td>\n",
       "      <td>Краснодар</td>\n",
       "      <td>25.0</td>\n",
       "      <td>340.0</td>\n",
       "      <td>Рафаил</td>\n",
       "      <td>75.0</td>\n",
       "      <td>Верещагин</td>\n",
       "      <td>14.0</td>\n",
       "      <td>...</td>\n",
       "      <td>2018-05-25 00:00:00</td>\n",
       "      <td>ultra</td>\n",
       "      <td>1000.0</td>\n",
       "      <td>2660</td>\n",
       "      <td>16</td>\n",
       "      <td>925</td>\n",
       "      <td>0</td>\n",
       "      <td>0</td>\n",
       "      <td>0</td>\n",
       "      <td>1950</td>\n",
       "    </tr>\n",
       "    <tr>\n",
       "      <td>3</td>\n",
       "      <td>3</td>\n",
       "      <td>52.0</td>\n",
       "      <td>0</td>\n",
       "      <td>Краснодар</td>\n",
       "      <td>25.0</td>\n",
       "      <td>408.0</td>\n",
       "      <td>Рафаил</td>\n",
       "      <td>81.0</td>\n",
       "      <td>Верещагин</td>\n",
       "      <td>14.0</td>\n",
       "      <td>...</td>\n",
       "      <td>2018-05-25 00:00:00</td>\n",
       "      <td>ultra</td>\n",
       "      <td>1000.0</td>\n",
       "      <td>2592</td>\n",
       "      <td>16</td>\n",
       "      <td>919</td>\n",
       "      <td>0</td>\n",
       "      <td>0</td>\n",
       "      <td>0</td>\n",
       "      <td>1950</td>\n",
       "    </tr>\n",
       "    <tr>\n",
       "      <td>4</td>\n",
       "      <td>4</td>\n",
       "      <td>52.0</td>\n",
       "      <td>0</td>\n",
       "      <td>Краснодар</td>\n",
       "      <td>25.0</td>\n",
       "      <td>466.0</td>\n",
       "      <td>Рафаил</td>\n",
       "      <td>57.0</td>\n",
       "      <td>Верещагин</td>\n",
       "      <td>15.0</td>\n",
       "      <td>...</td>\n",
       "      <td>2018-05-25 00:00:00</td>\n",
       "      <td>ultra</td>\n",
       "      <td>1000.0</td>\n",
       "      <td>2534</td>\n",
       "      <td>15</td>\n",
       "      <td>943</td>\n",
       "      <td>0</td>\n",
       "      <td>0</td>\n",
       "      <td>0</td>\n",
       "      <td>1950</td>\n",
       "    </tr>\n",
       "  </tbody>\n",
       "</table>\n",
       "<p>5 rows × 22 columns</p>\n",
       "</div>"
      ],
      "text/plain": [
       "   index   age churn_date       city   day  calls_duration first_name  \\\n",
       "0      0  52.0          0  Краснодар  25.0           159.0     Рафаил   \n",
       "1      1  52.0          0  Краснодар  25.0           172.0     Рафаил   \n",
       "2      2  52.0          0  Краснодар  25.0           340.0     Рафаил   \n",
       "3      3  52.0          0  Краснодар  25.0           408.0     Рафаил   \n",
       "4      4  52.0          0  Краснодар  25.0           466.0     Рафаил   \n",
       "\n",
       "   sms_used  last_name  gb_used  ...             reg_date  tariff user_id  \\\n",
       "0      22.0  Верещагин      3.0  ...  2018-05-25 00:00:00   ultra  1000.0   \n",
       "1      60.0  Верещагин     23.0  ...  2018-05-25 00:00:00   ultra  1000.0   \n",
       "2      75.0  Верещагин     14.0  ...  2018-05-25 00:00:00   ultra  1000.0   \n",
       "3      81.0  Верещагин     14.0  ...  2018-05-25 00:00:00   ultra  1000.0   \n",
       "4      57.0  Верещагин     15.0  ...  2018-05-25 00:00:00   ultra  1000.0   \n",
       "\n",
       "  calls_blnc  internet_blnc  sms_blnc  calls_surch_cost  internet_surch_cost  \\\n",
       "0       2841             27       978                 0                    0   \n",
       "1       2828              7       940                 0                    0   \n",
       "2       2660             16       925                 0                    0   \n",
       "3       2592             16       919                 0                    0   \n",
       "4       2534             15       943                 0                    0   \n",
       "\n",
       "   sms_surch_cost  total_cost  \n",
       "0               0        1950  \n",
       "1               0        1950  \n",
       "2               0        1950  \n",
       "3               0        1950  \n",
       "4               0        1950  \n",
       "\n",
       "[5 rows x 22 columns]"
      ]
     },
     "metadata": {},
     "output_type": "display_data"
    }
   ],
   "source": [
    "# Создаем переменные со срезами для анализа данных\n",
    "data_smart = data_user_activity.query('tariff == \"smart\"')\n",
    "data_ultra = data_user_activity.query('tariff == \"ultra\"')\n",
    "data_moscow = data_user_activity.query('city == \"Москва\"')\n",
    "data_non_moscow = data_user_activity.query('city != \"Москва\"')\n",
    "\n",
    "display(data_smart.head(), data_ultra.head())"
   ]
  },
  {
   "cell_type": "markdown",
   "metadata": {},
   "source": [
    "Посчитаем для тарифов среднее, медиану, дисперсию и стандартное отклонение для звонков, траффика интернета и смс"
   ]
  },
  {
   "cell_type": "code",
   "execution_count": 16,
   "metadata": {},
   "outputs": [
    {
     "name": "stdout",
     "output_type": "stream",
     "text": [
      " Для тарифа Smart для calls_duration \n",
      "    Среднее: 419,\n",
      "    медиана: 422.0,\n",
      "    дисперсия:35953.57,\n",
      "    стандартное отконение: 189.66\n",
      "    \n",
      " Для тарифа Smart для gb_used \n",
      "    Среднее: 16,\n",
      "    медиана: 17.0,\n",
      "    дисперсия:33.29,\n",
      "    стандартное отконение: 5.77\n",
      "    \n",
      " Для тарифа Smart для sms_used \n",
      "    Среднее: 33,\n",
      "    медиана: 28.0,\n",
      "    дисперсия:798.52,\n",
      "    стандартное отконение: 28.26\n",
      "    \n",
      " Для тарифа Ultra для calls_duration \n",
      "    Среднее: 542,\n",
      "    медиана: 525.0,\n",
      "    дисперсия:95367.98,\n",
      "    стандартное отконение: 308.98\n",
      "    \n",
      " Для тарифа Ultra для gb_used \n",
      "    Среднее: 19,\n",
      "    медиана: 19.0,\n",
      "    дисперсия:99.47,\n",
      "    стандартное отконение: 9.98\n",
      "    \n",
      " Для тарифа Ultra для sms_used \n",
      "    Среднее: 49,\n",
      "    медиана: 39.0,\n",
      "    дисперсия:2197.63,\n",
      "    стандартное отконение: 46.9\n",
      "    \n"
     ]
    }
   ],
   "source": [
    "# создаем вспомогательные переменные со списками для анализа данных\n",
    "columns_list=['calls_duration','gb_used','sms_used']\n",
    "data_list=[data_smart, data_ultra]\n",
    "data_city=[data_moscow,data_non_moscow]\n",
    "tariff_l = ['Smart','Ultra']\n",
    "city_l = ['Москва', 'Не Москва']\n",
    "\n",
    "for i in range(len(data_list)): # функция подсчета средней, медианы, дисперсии и стандартного отклонения\n",
    "    for val in columns_list:\n",
    "        print(f''' Для тарифа {tariff_l[i]} для {val} \n",
    "    Среднее: {round(data_list[i][val].mean())},\n",
    "    медиана: {round(data_list[i][val].median(),2)},\n",
    "    дисперсия:{round(np.var(data_list[i][val],),2)},\n",
    "    стандартное отконение: {round(np.std(data_list[i][val], ddof=1),2)}\n",
    "    ''')"
   ]
  },
  {
   "cell_type": "markdown",
   "metadata": {},
   "source": [
    "Построим для тарифов графики распределения количества использованных минут, траффика интернета и смс.\n",
    "\n",
    "Построим для локации Москва/не Москва графики распределения количества использованных минут, траффика интернета и смс."
   ]
  },
  {
   "cell_type": "code",
   "execution_count": 17,
   "metadata": {},
   "outputs": [
    {
     "data": {
      "image/png": "[encoded data removed]",
      "text/plain": [
       "<Figure size 432x288 with 1 Axes>"
      ]
     },
     "metadata": {
      "needs_background": "light"
     },
     "output_type": "display_data"
    },
    {
     "data": {
      "image/png": "[encoded data removed]",
      "text/plain": [
       "<Figure size 432x288 with 1 Axes>"
      ]
     },
     "metadata": {
      "needs_background": "light"
     },
     "output_type": "display_data"
    },
    {
     "data": {
      "image/png": "[encoded data removed]",
      "text/plain": [
       "<Figure size 432x288 with 1 Axes>"
      ]
     },
     "metadata": {
      "needs_background": "light"
     },
     "output_type": "display_data"
    },
    {
     "data": {
      "image/png": "[encoded data removed]",
      "text/plain": [
       "<Figure size 432x288 with 1 Axes>"
      ]
     },
     "metadata": {
      "needs_background": "light"
     },
     "output_type": "display_data"
    },
    {
     "data": {
      "image/png": "[encoded data removed]",
      "text/plain": [
       "<Figure size 432x288 with 1 Axes>"
      ]
     },
     "metadata": {
      "needs_background": "light"
     },
     "output_type": "display_data"
    },
    {
     "data": {
      "image/png": "[encoded data removed]",
      "text/plain": [
       "<Figure size 432x288 with 1 Axes>"
      ]
     },
     "metadata": {
      "needs_background": "light"
     },
     "output_type": "display_data"
    }
   ],
   "source": [
    "for val in columns_list: # функция построения графика распределения с разделением по тарифам\n",
    "    for i in range(len(data_list)):\n",
    "        subset = data_list[i][val]\n",
    "        sbn.distplot(subset, hist = False, kde = True,\n",
    "                 kde_kws = {'linewidth': 3},\n",
    "                 label = tariff_l[i])\n",
    "        plt.title('Density Plot with '+val)\n",
    "        plt.xlabel(val)\n",
    "        plt.ylabel('Density')\n",
    "    plt.show()\n",
    "    \n",
    "for val in columns_list: # функция построения графика распределения с разделением по городам\n",
    "    for i in range(len(data_city)):\n",
    "        subset = data_city[i][val]\n",
    "        sbn.distplot(subset, hist = False, kde = True,\n",
    "                 kde_kws = {'linewidth': 3},\n",
    "                 label = city_l[i])\n",
    "        plt.title('Density Plot with '+val)\n",
    "        plt.xlabel(val)\n",
    "        plt.ylabel('Density')\n",
    "    plt.show()"
   ]
  },
  {
   "cell_type": "code",
   "execution_count": 18,
   "metadata": {},
   "outputs": [
    {
     "name": "stdout",
     "output_type": "stream",
     "text": [
      " Для тарифа Smart для total_cost \n",
      "    Среднее: 1290,\n",
      "    медиана: 1023.0,\n",
      "    дисперсия:670545.64,\n",
      "    стандартное отконение: 819.05\n",
      "    \n",
      " Для тарифа Ultra для total_cost \n",
      "    Среднее: 2070,\n",
      "    медиана: 1950.0,\n",
      "    дисперсия:143000.27,\n",
      "    стандартное отконение: 378.35\n",
      "    \n"
     ]
    }
   ],
   "source": [
    "print(f''' Для тарифа Smart для total_cost \n",
    "    Среднее: {round(data_smart['total_cost'].mean())},\n",
    "    медиана: {round(data_smart['total_cost'].median(),2)},\n",
    "    дисперсия:{round(np.var(data_smart['total_cost']),2)},\n",
    "    стандартное отконение: {round(np.std(data_smart['total_cost'], ddof=1),2)}\n",
    "    ''')\n",
    "print(f''' Для тарифа Ultra для total_cost \n",
    "    Среднее: {round(data_ultra['total_cost'].mean())},\n",
    "    медиана: {round(data_ultra['total_cost'].median(),2)},\n",
    "    дисперсия:{round(np.var(data_ultra['total_cost']),2)},\n",
    "    стандартное отконение: {round(np.std(data_ultra['total_cost'], ddof=1),2)}\n",
    "    ''')"
   ]
  },
  {
   "cell_type": "markdown",
   "metadata": {},
   "source": [
    "**Вывод:**\n",
    "\n",
    "Для тарифа Ультра количество включенных в аб. плату смс значительно превышает и среднее и 3сигмы для пользователей количество использованных смс, количество включенных в аб. плату минут так же превышает и среднее и 3сигмы для пользователей количество использованных минут, доплаты за смс и минуты для пользователей тарифа Ультра практически отсутствуют.\n",
    "Для тарифа Ультра количество включенных в аб. плату Гб трафика больше среднего примерно на стандартное отклонение, доплаты достаточно характерны.\n",
    "\n",
    "Для тарифа Смарт количество включенных в аб. плату смс превышает среднее примерно на стандартное отклонение, доплаты достаточно характерны.\n",
    "Количество включенных в аб. плату минут чуть больше среднего значения, доплаты за минуты использованные сверх включенных в аб.плату характерны чуть меньее чем для половины пользователей тарифа Смарт.\n",
    "Для тарифа Смарт количество включенных в аб. плату Гб трафика меньше среднего, доплаты за Гб, потраченные сверх включенных в аб.плату характерны больее половины пользователей тарифа."
   ]
  },
  {
   "cell_type": "markdown",
   "metadata": {},
   "source": [
    "## Проверка гипотез"
   ]
  },
  {
   "cell_type": "markdown",
   "metadata": {},
   "source": [
    "*Гипотеза 1: средняя выручка пользователей тарифов «Ультра» и «Смарт» различаются.*\n",
    "\n",
    "Для проверки формируем 0-гипотезу от обратного:\n",
    "*средняя выручка пользователей тарифов «Ультра» и «Смарт» одинаковые*, проверим:"
   ]
  },
  {
   "cell_type": "code",
   "execution_count": 19,
   "metadata": {},
   "outputs": [
    {
     "name": "stdout",
     "output_type": "stream",
     "text": [
      "p-значение: 2.7573403948209683e-156\n",
      "Отвергаем нулевую гипотезу\n"
     ]
    }
   ],
   "source": [
    "\n",
    "alpha = 0.01 # возьмем 1%, т.к. для генеральной выборки в миллионы пользователей статистическая значимость 5% выглядит недостоверной\n",
    "\n",
    "results = st.ttest_ind(\n",
    "   data_smart['total_cost'],\n",
    "   data_ultra['total_cost']) # проверьте гипотезу о равенстве средних выручек двух тарифов по выборкам\n",
    "\n",
    "print('p-значение:', results.pvalue)\n",
    "\n",
    "if results.pvalue < alpha: # сравниваем получившееся p-значение с заданным уровнем статистической значимости:\n",
    "    print(\"Отвергаем нулевую гипотезу\")\n",
    "else:\n",
    "    print(\"Не получилось отвергнуть нулевую гипотезу\")"
   ]
  },
  {
   "cell_type": "markdown",
   "metadata": {},
   "source": [
    "Следовательно, гипотеза *\"средняя выручка пользователей тарифов «Ультра» и «Смарт» различаются\"* достоверная с заданной статистической значимостью."
   ]
  },
  {
   "cell_type": "markdown",
   "metadata": {},
   "source": [
    "*Гипотеза 2: средняя выручка пользователей из Москвы отличается от выручки пользователей из других регионов*\n",
    "\n",
    "Для проверки формируем 0-гипотезу от обратного:\n",
    "*средняя выручка пользователей из Москвы и выручка пользователей из других регионов одинаковые*, проверим:"
   ]
  },
  {
   "cell_type": "code",
   "execution_count": 20,
   "metadata": {},
   "outputs": [
    {
     "name": "stdout",
     "output_type": "stream",
     "text": [
      "p-значение: 0.5825526152658022\n",
      "Не получилось отвергнуть нулевую гипотезу\n"
     ]
    }
   ],
   "source": [
    "alpha = 0.05\n",
    "\n",
    "results = st.ttest_ind(\n",
    "   data_moscow['total_cost'],\n",
    "   data_non_moscow['total_cost']) # ваш код: проверьте гипотезу о равенстве средних выручек независимых совокупностей Москва и остальные города\n",
    "\n",
    "print('p-значение:', results.pvalue)\n",
    "\n",
    "if results.pvalue < alpha: # сравниваем получившееся p-значение с заданным уровнем статистической значимости:\n",
    "    print(\"Отвергаем нулевую гипотезу\")\n",
    "else:\n",
    "    print(\"Не получилось отвергнуть нулевую гипотезу\")"
   ]
  },
  {
   "cell_type": "markdown",
   "metadata": {},
   "source": [
    "Следовательно, гипотеза *\"средняя выручка пользователей из Москвы отличается от выручки пользователей из других регионов\"* не достоверная с заданной статистической значимостью."
   ]
  },
  {
   "cell_type": "markdown",
   "metadata": {},
   "source": [
    "**Вывод:**\n",
    "\n",
    "Проверили две гипотезы, результатом исследования стало:\n",
    "\n",
    "Гипотеза *\"средняя выручка пользователей тарифов «Ультра» и «Смарт» различаются\"* достоверная с заданной статистической значимостью.\n",
    "\n",
    "Гипотеза *\"средняя выручка пользователей из Москвы отличается от выручки пользователей из других регионов\"* не достоверная с заданной статистической значимостью."
   ]
  },
  {
   "cell_type": "markdown",
   "metadata": {},
   "source": [
    "## Общий вывод"
   ]
  },
  {
   "cell_type": "markdown",
   "metadata": {},
   "source": [
    "Для тарифа Ультра количество включенных в аб. плату смс значительно превышает и среднее и 3сигмы для пользователей количество использованных смс, количество включенных в аб. плату минут так же превышает и среднее и 3сигмы для пользователей количество использованных минут, доплаты за смс и минуты для пользователей тарифа Ультра практически отсутствуют.\n",
    "Для тарифа Ультра количество включенных в аб. плату Гб трафика больше среднего примерно на стандартное отклонение, доплаты достаточно характерны.\n",
    "\n",
    "Для тарифа Смарт количество включенных в аб. плату смс превышает среднее примерно на стандартное отклонение, доплаты достаточно характерны.\n",
    "Количество включенных в аб. плату минут чуть больше среднего значения, доплаты за минуты использованные сверх включенных в аб.плату характерны чуть меньее чем для половины пользователей тарифа Смарт.\n",
    "Для тарифа Смарт количество включенных в аб. плату Гб трафика меньше среднего, доплаты за Гб, потраченные сверх включенных в аб.плату характерны больее половины пользователей тарифа.\n",
    "\n",
    "Проверили две гипотезы, результатом исследования стало:\n",
    "\n",
    "Гипотеза *\"средняя выручка пользователей тарифов «Ультра» и «Смарт» различаются\"* достоверная с заданной статистической значимостью.\n",
    "\n",
    "Гипотеза *\"средняя выручка пользователей из Москвы отличается от выручки пользователей из других регионов\"* не достоверная с заданной статистической значимостью.\n",
    "\n",
    "**Среднемесячная выручка для тарифа Smart = 1290 рублей, среднемесячная выручка для тарифа Ultra = 2070 рублей для выборки.\n",
    "Тариф Ультра приносит больше выручки, достоверное утверждение для генеральной совокупности данных с заданной статистической значимостью в 1%**"
   ]
  }
 ],
 "metadata": {
  "ExecuteTimeLog": [
   {
    "duration": 102,
    "start_time": "2022-01-21T10:02:50.458Z"
   },
   {
    "duration": 104,
    "start_time": "2022-01-21T10:03:03.542Z"
   },
   {
    "duration": 1038,
    "start_time": "2022-01-21T10:03:20.981Z"
   },
   {
    "duration": 99,
    "start_time": "2022-01-21T10:03:26.604Z"
   },
   {
    "duration": 1020,
    "start_time": "2022-01-21T10:03:41.527Z"
   },
   {
    "duration": 96,
    "start_time": "2022-01-21T10:03:44.697Z"
   },
   {
    "duration": 59,
    "start_time": "2022-01-21T10:04:01.904Z"
   },
   {
    "duration": 859,
    "start_time": "2022-01-21T10:05:47.384Z"
   },
   {
    "duration": 54,
    "start_time": "2022-01-21T10:05:54.970Z"
   },
   {
    "duration": 111,
    "start_time": "2022-01-21T10:40:59.456Z"
   },
   {
    "duration": 415,
    "start_time": "2022-01-21T10:41:18.386Z"
   },
   {
    "duration": 3,
    "start_time": "2022-01-21T10:43:10.713Z"
   },
   {
    "duration": 446,
    "start_time": "2022-01-21T10:43:11.958Z"
   },
   {
    "duration": 39,
    "start_time": "2022-01-21T10:44:23.220Z"
   },
   {
    "duration": 120,
    "start_time": "2022-01-21T11:26:10.345Z"
   },
   {
    "duration": 421,
    "start_time": "2022-01-21T11:26:27.557Z"
   },
   {
    "duration": 414,
    "start_time": "2022-01-21T11:26:37.880Z"
   },
   {
    "duration": 409,
    "start_time": "2022-01-21T11:26:44.645Z"
   },
   {
    "duration": 103,
    "start_time": "2022-01-21T11:40:28.175Z"
   },
   {
    "duration": 607,
    "start_time": "2022-01-21T11:40:58.334Z"
   },
   {
    "duration": 372,
    "start_time": "2022-01-21T11:41:36.170Z"
   },
   {
    "duration": 415,
    "start_time": "2022-01-21T11:42:46.719Z"
   },
   {
    "duration": 492,
    "start_time": "2022-01-21T11:43:14.515Z"
   },
   {
    "duration": 373,
    "start_time": "2022-01-21T11:46:17.667Z"
   },
   {
    "duration": 456,
    "start_time": "2022-01-21T11:46:53.952Z"
   },
   {
    "duration": 767,
    "start_time": "2022-01-22T10:48:51.446Z"
   },
   {
    "duration": 1059,
    "start_time": "2022-01-22T10:49:07.286Z"
   },
   {
    "duration": 515,
    "start_time": "2022-01-22T10:49:08.348Z"
   },
   {
    "duration": 342,
    "start_time": "2022-01-22T11:10:09.459Z"
   },
   {
    "duration": 89,
    "start_time": "2022-01-22T11:12:48.895Z"
   },
   {
    "duration": 291,
    "start_time": "2022-01-22T11:13:19.633Z"
   },
   {
    "duration": 1087,
    "start_time": "2022-01-22T11:13:52.666Z"
   },
   {
    "duration": 522,
    "start_time": "2022-01-22T11:13:53.755Z"
   },
   {
    "duration": 392,
    "start_time": "2022-01-22T11:13:54.279Z"
   },
   {
    "duration": 38,
    "start_time": "2022-01-22T11:14:17.481Z"
   },
   {
    "duration": 1852,
    "start_time": "2022-01-22T11:15:24.063Z"
   },
   {
    "duration": 1149,
    "start_time": "2022-01-22T11:16:10.343Z"
   },
   {
    "duration": 595,
    "start_time": "2022-01-22T11:16:11.494Z"
   },
   {
    "duration": 278,
    "start_time": "2022-01-22T11:29:14.712Z"
   },
   {
    "duration": 1123,
    "start_time": "2022-01-22T11:29:21.731Z"
   },
   {
    "duration": 481,
    "start_time": "2022-01-22T11:29:22.856Z"
   },
   {
    "duration": 32,
    "start_time": "2022-01-22T11:29:23.361Z"
   },
   {
    "duration": 687,
    "start_time": "2022-01-22T11:41:15.467Z"
   },
   {
    "duration": 1141,
    "start_time": "2022-01-22T11:41:29.724Z"
   },
   {
    "duration": 499,
    "start_time": "2022-01-22T11:41:36.207Z"
   },
   {
    "duration": 625,
    "start_time": "2022-01-22T11:42:07.482Z"
   },
   {
    "duration": 16,
    "start_time": "2022-01-22T11:43:44.143Z"
   },
   {
    "duration": 410,
    "start_time": "2022-01-22T11:44:55.526Z"
   },
   {
    "duration": 21,
    "start_time": "2022-01-22T11:45:07.774Z"
   },
   {
    "duration": 23,
    "start_time": "2022-01-22T11:45:21.563Z"
   },
   {
    "duration": 298,
    "start_time": "2022-01-22T12:29:07.765Z"
   },
   {
    "duration": 1103,
    "start_time": "2022-01-22T12:29:16.057Z"
   },
   {
    "duration": 513,
    "start_time": "2022-01-22T12:29:17.162Z"
   },
   {
    "duration": 5,
    "start_time": "2022-01-22T12:29:17.677Z"
   },
   {
    "duration": 7,
    "start_time": "2022-01-22T12:29:26.146Z"
   },
   {
    "duration": 473,
    "start_time": "2022-01-22T18:47:36.869Z"
   },
   {
    "duration": 416,
    "start_time": "2022-01-22T18:48:19.364Z"
   },
   {
    "duration": 473,
    "start_time": "2022-01-22T18:48:40.162Z"
   },
   {
    "duration": 10,
    "start_time": "2022-01-22T18:52:10.415Z"
   },
   {
    "duration": 3,
    "start_time": "2022-01-22T18:52:30.254Z"
   },
   {
    "duration": 3,
    "start_time": "2022-01-22T18:52:34.049Z"
   },
   {
    "duration": 4,
    "start_time": "2022-01-22T18:52:56.989Z"
   },
   {
    "duration": 20,
    "start_time": "2022-01-22T18:53:12.599Z"
   },
   {
    "duration": 773,
    "start_time": "2022-01-22T18:53:43.593Z"
   },
   {
    "duration": 486,
    "start_time": "2022-01-22T18:54:45.260Z"
   },
   {
    "duration": 4,
    "start_time": "2022-01-22T18:57:25.585Z"
   },
   {
    "duration": 590,
    "start_time": "2022-01-22T18:57:27.830Z"
   },
   {
    "duration": 456,
    "start_time": "2022-01-22T19:00:04.732Z"
   },
   {
    "duration": 257,
    "start_time": "2022-01-22T19:01:30.642Z"
   },
   {
    "duration": 134,
    "start_time": "2022-01-22T19:05:19.592Z"
   },
   {
    "duration": 1106,
    "start_time": "2022-01-22T19:05:37.546Z"
   },
   {
    "duration": 529,
    "start_time": "2022-01-22T19:05:38.654Z"
   },
   {
    "duration": 3,
    "start_time": "2022-01-22T19:05:39.185Z"
   },
   {
    "duration": 114,
    "start_time": "2022-01-22T19:05:39.190Z"
   },
   {
    "duration": 563,
    "start_time": "2022-01-22T19:06:00.055Z"
   },
   {
    "duration": 427,
    "start_time": "2022-01-22T19:07:23.704Z"
   },
   {
    "duration": 1128,
    "start_time": "2022-01-22T19:07:54.890Z"
   },
   {
    "duration": 547,
    "start_time": "2022-01-22T19:07:56.021Z"
   },
   {
    "duration": 4,
    "start_time": "2022-01-22T19:07:56.570Z"
   },
   {
    "duration": 1341,
    "start_time": "2022-01-22T19:08:00.189Z"
   },
   {
    "duration": 449,
    "start_time": "2022-01-22T19:09:21.073Z"
   },
   {
    "duration": 422,
    "start_time": "2022-01-22T19:10:09.182Z"
   },
   {
    "duration": 1106,
    "start_time": "2022-01-22T19:10:40.961Z"
   },
   {
    "duration": 516,
    "start_time": "2022-01-22T19:10:42.069Z"
   },
   {
    "duration": 595,
    "start_time": "2022-01-22T19:10:46.281Z"
   },
   {
    "duration": 412,
    "start_time": "2022-01-22T19:11:08.553Z"
   },
   {
    "duration": 18,
    "start_time": "2022-01-22T19:11:38.845Z"
   },
   {
    "duration": 432,
    "start_time": "2022-01-22T19:13:09.200Z"
   },
   {
    "duration": 17,
    "start_time": "2022-01-22T19:14:16.150Z"
   },
   {
    "duration": 489,
    "start_time": "2022-01-22T19:16:36.942Z"
   },
   {
    "duration": 18,
    "start_time": "2022-01-22T19:17:22.816Z"
   },
   {
    "duration": 397,
    "start_time": "2022-01-22T19:18:41.687Z"
   },
   {
    "duration": 405,
    "start_time": "2022-01-22T19:19:16.878Z"
   },
   {
    "duration": 551,
    "start_time": "2022-01-22T19:20:32.822Z"
   },
   {
    "duration": 469,
    "start_time": "2022-01-22T19:22:10.341Z"
   },
   {
    "duration": 427,
    "start_time": "2022-01-22T19:26:00.042Z"
   },
   {
    "duration": 16,
    "start_time": "2022-01-22T19:26:44.371Z"
   },
   {
    "duration": 1183,
    "start_time": "2022-01-22T19:27:11.056Z"
   },
   {
    "duration": 540,
    "start_time": "2022-01-22T19:27:12.240Z"
   },
   {
    "duration": 19,
    "start_time": "2022-01-22T19:27:12.783Z"
   },
   {
    "duration": 579,
    "start_time": "2022-01-22T19:28:38.418Z"
   },
   {
    "duration": 408,
    "start_time": "2022-01-22T19:29:36.428Z"
   },
   {
    "duration": 437,
    "start_time": "2022-01-22T19:29:53.680Z"
   },
   {
    "duration": 23,
    "start_time": "2022-01-22T19:32:15.398Z"
   },
   {
    "duration": 11,
    "start_time": "2022-01-22T19:32:40.681Z"
   },
   {
    "duration": 6933,
    "start_time": "2022-01-22T19:38:00.333Z"
   },
   {
    "duration": 5998,
    "start_time": "2022-01-22T19:39:03.235Z"
   },
   {
    "duration": 291,
    "start_time": "2022-01-22T19:40:11.545Z"
   },
   {
    "duration": 25,
    "start_time": "2022-01-22T19:40:45.708Z"
   },
   {
    "duration": 292,
    "start_time": "2022-01-22T19:41:12.437Z"
   },
   {
    "duration": 37,
    "start_time": "2022-01-22T19:42:02.364Z"
   },
   {
    "duration": 251,
    "start_time": "2022-01-22T19:43:12.717Z"
   },
   {
    "duration": 41,
    "start_time": "2022-01-22T19:43:52.857Z"
   },
   {
    "duration": 35,
    "start_time": "2022-01-22T19:44:13.921Z"
   },
   {
    "duration": 48,
    "start_time": "2022-01-22T19:44:36.992Z"
   },
   {
    "duration": 1090,
    "start_time": "2022-01-22T19:44:50.771Z"
   },
   {
    "duration": 524,
    "start_time": "2022-01-22T19:44:51.862Z"
   },
   {
    "duration": 60,
    "start_time": "2022-01-22T19:44:54.032Z"
   },
   {
    "duration": 336,
    "start_time": "2022-01-22T19:45:05.045Z"
   },
   {
    "duration": 258,
    "start_time": "2022-01-22T19:45:13.568Z"
   },
   {
    "duration": 262,
    "start_time": "2022-01-22T19:46:16.640Z"
   },
   {
    "duration": 283,
    "start_time": "2022-01-22T19:46:34.205Z"
   },
   {
    "duration": 88,
    "start_time": "2022-01-22T19:54:57.266Z"
   },
   {
    "duration": 90,
    "start_time": "2022-01-22T19:55:27.467Z"
   },
   {
    "duration": 78,
    "start_time": "2022-01-22T19:55:31.488Z"
   },
   {
    "duration": 245,
    "start_time": "2022-01-22T19:55:44.162Z"
   },
   {
    "duration": 4,
    "start_time": "2022-01-22T20:06:24.375Z"
   },
   {
    "duration": 4,
    "start_time": "2022-01-22T20:07:07.649Z"
   },
   {
    "duration": 5,
    "start_time": "2022-01-22T20:07:13.678Z"
   },
   {
    "duration": 4,
    "start_time": "2022-01-22T20:07:22.544Z"
   },
   {
    "duration": 4,
    "start_time": "2022-01-22T20:07:31.859Z"
   },
   {
    "duration": 9,
    "start_time": "2022-01-22T20:21:25.285Z"
   },
   {
    "duration": 64,
    "start_time": "2022-01-22T20:21:53.938Z"
   },
   {
    "duration": 12,
    "start_time": "2022-01-22T20:24:49.469Z"
   },
   {
    "duration": 91,
    "start_time": "2022-01-22T20:25:22.958Z"
   },
   {
    "duration": 85,
    "start_time": "2022-01-22T20:26:31.701Z"
   },
   {
    "duration": 76,
    "start_time": "2022-01-22T20:26:36.767Z"
   },
   {
    "duration": 75,
    "start_time": "2022-01-22T20:27:46.111Z"
   },
   {
    "duration": 74,
    "start_time": "2022-01-22T20:27:56.441Z"
   },
   {
    "duration": 73,
    "start_time": "2022-01-22T20:29:01.439Z"
   },
   {
    "duration": 324,
    "start_time": "2022-01-22T20:35:25.449Z"
   },
   {
    "duration": 75,
    "start_time": "2022-01-22T20:35:40.414Z"
   },
   {
    "duration": 317,
    "start_time": "2022-01-22T20:36:33.717Z"
   },
   {
    "duration": 78,
    "start_time": "2022-01-22T20:36:45.928Z"
   },
   {
    "duration": 319,
    "start_time": "2022-01-22T20:40:13.958Z"
   },
   {
    "duration": 374,
    "start_time": "2022-01-22T20:40:30.858Z"
   },
   {
    "duration": 326,
    "start_time": "2022-01-22T20:40:39.158Z"
   },
   {
    "duration": 79,
    "start_time": "2022-01-22T20:40:49.104Z"
   },
   {
    "duration": 82,
    "start_time": "2022-01-22T20:40:56.447Z"
   },
   {
    "duration": 80,
    "start_time": "2022-01-22T20:41:47.164Z"
   },
   {
    "duration": 80,
    "start_time": "2022-01-22T20:43:15.381Z"
   },
   {
    "duration": 306,
    "start_time": "2022-01-22T20:43:28.413Z"
   },
   {
    "duration": 93,
    "start_time": "2022-01-22T20:43:37.110Z"
   },
   {
    "duration": 93,
    "start_time": "2022-01-22T20:43:58.735Z"
   },
   {
    "duration": 92,
    "start_time": "2022-01-22T20:44:20.253Z"
   },
   {
    "duration": 94,
    "start_time": "2022-01-22T20:45:09.828Z"
   },
   {
    "duration": 108,
    "start_time": "2022-01-22T20:46:32.021Z"
   },
   {
    "duration": 107,
    "start_time": "2022-01-22T20:49:04.270Z"
   },
   {
    "duration": 146,
    "start_time": "2022-01-22T20:49:37.077Z"
   },
   {
    "duration": 159,
    "start_time": "2022-01-22T20:52:21.635Z"
   },
   {
    "duration": 136,
    "start_time": "2022-01-22T20:54:13.456Z"
   },
   {
    "duration": 1376,
    "start_time": "2022-01-23T08:32:13.885Z"
   },
   {
    "duration": 764,
    "start_time": "2022-01-23T08:32:15.264Z"
   },
   {
    "duration": 402,
    "start_time": "2022-01-23T08:32:16.031Z"
   },
   {
    "duration": 304,
    "start_time": "2022-01-23T08:32:16.436Z"
   },
   {
    "duration": 1533,
    "start_time": "2022-01-23T08:35:22.168Z"
   },
   {
    "duration": 1206,
    "start_time": "2022-01-23T08:35:30.292Z"
   },
   {
    "duration": 829,
    "start_time": "2022-01-23T08:35:47.647Z"
   },
   {
    "duration": 217,
    "start_time": "2022-01-23T08:39:19.940Z"
   },
   {
    "duration": 204,
    "start_time": "2022-01-23T08:39:28.832Z"
   },
   {
    "duration": 87,
    "start_time": "2022-01-23T08:41:58.312Z"
   },
   {
    "duration": 1551,
    "start_time": "2022-01-23T08:42:06.587Z"
   },
   {
    "duration": 1361,
    "start_time": "2022-01-23T08:42:11.638Z"
   },
   {
    "duration": 159,
    "start_time": "2022-01-23T08:42:32.754Z"
   },
   {
    "duration": 161,
    "start_time": "2022-01-23T08:44:52.904Z"
   },
   {
    "duration": 1078,
    "start_time": "2022-01-23T09:40:29.082Z"
   },
   {
    "duration": 546,
    "start_time": "2022-01-23T09:40:30.163Z"
   },
   {
    "duration": 465,
    "start_time": "2022-01-23T09:40:30.711Z"
   },
   {
    "duration": 260,
    "start_time": "2022-01-23T09:40:31.178Z"
   },
   {
    "duration": 143,
    "start_time": "2022-01-23T09:40:58.298Z"
   },
   {
    "duration": 98,
    "start_time": "2022-01-23T09:48:10.824Z"
   },
   {
    "duration": 447,
    "start_time": "2022-01-23T09:49:18.453Z"
   },
   {
    "duration": 262,
    "start_time": "2022-01-23T09:49:25.783Z"
   },
   {
    "duration": 112,
    "start_time": "2022-01-23T09:49:32.419Z"
   },
   {
    "duration": 79,
    "start_time": "2022-01-23T09:49:44.396Z"
   },
   {
    "duration": 102,
    "start_time": "2022-01-23T09:49:48.720Z"
   },
   {
    "duration": 6,
    "start_time": "2022-01-23T09:50:37.137Z"
   },
   {
    "duration": 6,
    "start_time": "2022-01-23T09:50:45.819Z"
   },
   {
    "duration": 144,
    "start_time": "2022-01-23T09:54:51.285Z"
   },
   {
    "duration": 150,
    "start_time": "2022-01-23T09:55:02.776Z"
   },
   {
    "duration": 568,
    "start_time": "2022-01-23T09:56:38.604Z"
   },
   {
    "duration": 462,
    "start_time": "2022-01-23T09:57:51.394Z"
   },
   {
    "duration": 425,
    "start_time": "2022-01-23T09:59:34.311Z"
   },
   {
    "duration": 80,
    "start_time": "2022-01-23T10:05:32.778Z"
   },
   {
    "duration": 128,
    "start_time": "2022-01-23T10:12:04.872Z"
   },
   {
    "duration": 85,
    "start_time": "2022-01-23T10:12:17.279Z"
   },
   {
    "duration": 11,
    "start_time": "2022-01-23T10:12:33.006Z"
   },
   {
    "duration": 11,
    "start_time": "2022-01-23T10:12:45.974Z"
   },
   {
    "duration": 11,
    "start_time": "2022-01-23T10:12:52.941Z"
   },
   {
    "duration": 1350,
    "start_time": "2022-01-23T10:13:00.979Z"
   },
   {
    "duration": 564,
    "start_time": "2022-01-23T10:13:02.331Z"
   },
   {
    "duration": 511,
    "start_time": "2022-01-23T10:13:02.897Z"
   },
   {
    "duration": 268,
    "start_time": "2022-01-23T10:13:03.410Z"
   },
   {
    "duration": 556,
    "start_time": "2022-01-23T10:13:03.680Z"
   },
   {
    "duration": 256,
    "start_time": "2022-01-23T10:13:19.653Z"
   },
   {
    "duration": 1089,
    "start_time": "2022-01-23T10:15:09.187Z"
   },
   {
    "duration": 2999,
    "start_time": "2022-01-23T10:16:15.841Z"
   },
   {
    "duration": 4903,
    "start_time": "2022-01-23T10:17:52.558Z"
   },
   {
    "duration": 3652,
    "start_time": "2022-01-23T10:23:18.850Z"
   },
   {
    "duration": 4483,
    "start_time": "2022-01-23T10:23:55.040Z"
   },
   {
    "duration": 4256,
    "start_time": "2022-01-23T10:26:25.705Z"
   },
   {
    "duration": 4351,
    "start_time": "2022-01-23T10:27:04.001Z"
   },
   {
    "duration": 4268,
    "start_time": "2022-01-23T10:27:38.459Z"
   },
   {
    "duration": 4557,
    "start_time": "2022-01-23T10:28:35.153Z"
   },
   {
    "duration": 4585,
    "start_time": "2022-01-23T16:15:13.806Z"
   },
   {
    "duration": 4788,
    "start_time": "2022-01-23T16:21:35.089Z"
   },
   {
    "duration": 4690,
    "start_time": "2022-01-23T16:22:00.112Z"
   },
   {
    "duration": 85,
    "start_time": "2022-01-23T16:34:35.240Z"
   },
   {
    "duration": 4397,
    "start_time": "2022-01-23T16:34:50.580Z"
   },
   {
    "duration": 571,
    "start_time": "2022-01-23T16:38:03.733Z"
   },
   {
    "duration": 576,
    "start_time": "2022-01-23T16:39:06.905Z"
   },
   {
    "duration": 822,
    "start_time": "2022-01-23T16:39:44.841Z"
   },
   {
    "duration": 865,
    "start_time": "2022-01-23T16:39:56.757Z"
   },
   {
    "duration": 647,
    "start_time": "2022-01-23T16:40:21.845Z"
   },
   {
    "duration": 252,
    "start_time": "2022-01-23T16:45:12.728Z"
   },
   {
    "duration": 82,
    "start_time": "2022-01-23T16:45:58.087Z"
   },
   {
    "duration": 173,
    "start_time": "2022-01-23T16:46:41.763Z"
   },
   {
    "duration": 1113,
    "start_time": "2022-01-23T16:49:00.210Z"
   },
   {
    "duration": 564,
    "start_time": "2022-01-23T16:49:01.325Z"
   },
   {
    "duration": 469,
    "start_time": "2022-01-23T16:49:01.892Z"
   },
   {
    "duration": 256,
    "start_time": "2022-01-23T16:49:02.363Z"
   },
   {
    "duration": 4142,
    "start_time": "2022-01-23T16:49:02.620Z"
   },
   {
    "duration": 4333,
    "start_time": "2022-01-23T16:50:35.663Z"
   },
   {
    "duration": 10575,
    "start_time": "2022-01-23T16:54:16.411Z"
   },
   {
    "duration": 8564,
    "start_time": "2022-01-23T17:00:27.344Z"
   },
   {
    "duration": 7773,
    "start_time": "2022-01-23T17:01:32.572Z"
   },
   {
    "duration": 7125,
    "start_time": "2022-01-23T17:02:20.252Z"
   },
   {
    "duration": 188,
    "start_time": "2022-01-23T17:04:23.728Z"
   },
   {
    "duration": 6820,
    "start_time": "2022-01-23T17:04:26.640Z"
   },
   {
    "duration": 7548,
    "start_time": "2022-01-23T17:06:38.976Z"
   },
   {
    "duration": 358,
    "start_time": "2022-01-23T17:09:07.005Z"
   },
   {
    "duration": 177,
    "start_time": "2022-01-23T17:09:23.406Z"
   },
   {
    "duration": 8013,
    "start_time": "2022-01-23T17:10:19.684Z"
   },
   {
    "duration": 110,
    "start_time": "2022-01-23T17:37:34.420Z"
   },
   {
    "duration": 94,
    "start_time": "2022-01-23T17:37:50.411Z"
   },
   {
    "duration": 86,
    "start_time": "2022-01-23T17:37:58.163Z"
   },
   {
    "duration": 104,
    "start_time": "2022-01-23T17:38:30.041Z"
   },
   {
    "duration": 92,
    "start_time": "2022-01-23T17:38:34.658Z"
   },
   {
    "duration": 142,
    "start_time": "2022-01-23T17:39:10.775Z"
   },
   {
    "duration": 82,
    "start_time": "2022-01-23T17:39:29.086Z"
   },
   {
    "duration": 185,
    "start_time": "2022-01-23T17:39:44.118Z"
   },
   {
    "duration": 119,
    "start_time": "2022-01-23T17:40:03.091Z"
   },
   {
    "duration": 92,
    "start_time": "2022-01-23T17:42:50.428Z"
   },
   {
    "duration": 7296,
    "start_time": "2022-01-23T17:42:58.402Z"
   },
   {
    "duration": 133,
    "start_time": "2022-01-23T17:46:28.657Z"
   },
   {
    "duration": 186,
    "start_time": "2022-01-23T17:50:33.362Z"
   },
   {
    "duration": 342,
    "start_time": "2022-01-23T19:39:35.113Z"
   },
   {
    "duration": 602,
    "start_time": "2022-01-23T19:41:19.101Z"
   },
   {
    "duration": 593,
    "start_time": "2022-01-23T19:41:29.934Z"
   },
   {
    "duration": 3737,
    "start_time": "2022-01-23T19:41:50.571Z"
   },
   {
    "duration": 4065,
    "start_time": "2022-01-23T19:42:07.045Z"
   },
   {
    "duration": 1042,
    "start_time": "2022-01-23T19:42:36.114Z"
   },
   {
    "duration": 539,
    "start_time": "2022-01-23T19:42:37.158Z"
   },
   {
    "duration": 502,
    "start_time": "2022-01-23T19:42:37.699Z"
   },
   {
    "duration": 249,
    "start_time": "2022-01-23T19:42:38.203Z"
   },
   {
    "duration": 6758,
    "start_time": "2022-01-23T19:42:38.461Z"
   },
   {
    "duration": 4067,
    "start_time": "2022-01-23T19:42:45.221Z"
   },
   {
    "duration": 3729,
    "start_time": "2022-01-23T19:44:49.192Z"
   },
   {
    "duration": 360,
    "start_time": "2022-01-23T19:45:09.518Z"
   },
   {
    "duration": 698,
    "start_time": "2022-01-23T19:45:55.241Z"
   },
   {
    "duration": 627,
    "start_time": "2022-01-23T19:46:01.720Z"
   },
   {
    "duration": 354,
    "start_time": "2022-01-23T19:46:24.432Z"
   },
   {
    "duration": 349,
    "start_time": "2022-01-23T19:46:34.746Z"
   },
   {
    "duration": 6860,
    "start_time": "2022-01-23T19:47:11.892Z"
   },
   {
    "duration": 368,
    "start_time": "2022-01-23T19:47:21.618Z"
   },
   {
    "duration": 345,
    "start_time": "2022-01-23T19:48:01.880Z"
   },
   {
    "duration": 6878,
    "start_time": "2022-01-23T19:48:37.007Z"
   },
   {
    "duration": 76,
    "start_time": "2022-01-23T20:30:43.878Z"
   },
   {
    "duration": 80,
    "start_time": "2022-01-23T20:31:15.646Z"
   },
   {
    "duration": 85,
    "start_time": "2022-01-23T20:32:14.075Z"
   },
   {
    "duration": 127,
    "start_time": "2022-01-23T20:32:47.210Z"
   },
   {
    "duration": 81,
    "start_time": "2022-01-23T20:33:28.262Z"
   },
   {
    "duration": 83,
    "start_time": "2022-01-23T20:33:44.855Z"
   },
   {
    "duration": 110,
    "start_time": "2022-01-23T20:35:33.683Z"
   },
   {
    "duration": 79,
    "start_time": "2022-01-23T20:37:43.928Z"
   },
   {
    "duration": 81,
    "start_time": "2022-01-23T20:38:09.731Z"
   },
   {
    "duration": 97,
    "start_time": "2022-01-23T20:38:49.791Z"
   },
   {
    "duration": 79,
    "start_time": "2022-01-23T20:39:00.870Z"
   },
   {
    "duration": 77,
    "start_time": "2022-01-23T20:39:35.979Z"
   },
   {
    "duration": 82,
    "start_time": "2022-01-23T20:42:06.333Z"
   },
   {
    "duration": 89,
    "start_time": "2022-01-23T20:43:10.164Z"
   },
   {
    "duration": 82,
    "start_time": "2022-01-23T21:02:40.012Z"
   },
   {
    "duration": 8155,
    "start_time": "2022-01-23T21:02:48.967Z"
   },
   {
    "duration": 1282,
    "start_time": "2022-01-24T08:29:42.077Z"
   },
   {
    "duration": 588,
    "start_time": "2022-01-24T08:29:43.361Z"
   },
   {
    "duration": 607,
    "start_time": "2022-01-24T08:29:43.952Z"
   },
   {
    "duration": 309,
    "start_time": "2022-01-24T08:29:44.561Z"
   },
   {
    "duration": 10708,
    "start_time": "2022-01-24T08:29:44.873Z"
   },
   {
    "duration": 596,
    "start_time": "2022-01-24T08:29:55.583Z"
   },
   {
    "duration": 591,
    "start_time": "2022-01-24T08:30:00.863Z"
   },
   {
    "duration": 485,
    "start_time": "2022-01-24T08:30:45.609Z"
   },
   {
    "duration": 541,
    "start_time": "2022-01-24T08:31:54.877Z"
   },
   {
    "duration": 605,
    "start_time": "2022-01-24T08:32:32.739Z"
   },
   {
    "duration": 670,
    "start_time": "2022-01-24T08:32:47.367Z"
   },
   {
    "duration": 714,
    "start_time": "2022-01-24T08:32:51.843Z"
   },
   {
    "duration": 128,
    "start_time": "2022-01-24T08:34:44.207Z"
   },
   {
    "duration": 464,
    "start_time": "2022-01-24T08:35:36.898Z"
   },
   {
    "duration": 497,
    "start_time": "2022-01-24T08:35:51.818Z"
   },
   {
    "duration": 131,
    "start_time": "2022-01-24T08:36:11.524Z"
   },
   {
    "duration": 121,
    "start_time": "2022-01-24T08:37:35.528Z"
   },
   {
    "duration": 128,
    "start_time": "2022-01-24T08:37:44.120Z"
   },
   {
    "duration": 132,
    "start_time": "2022-01-24T09:28:52.738Z"
   },
   {
    "duration": 165,
    "start_time": "2022-01-24T09:29:21.185Z"
   },
   {
    "duration": 8226,
    "start_time": "2022-01-24T09:30:15.977Z"
   },
   {
    "duration": 126,
    "start_time": "2022-01-24T09:30:53.448Z"
   },
   {
    "duration": 128,
    "start_time": "2022-01-24T09:31:07.589Z"
   },
   {
    "duration": 9445,
    "start_time": "2022-01-24T09:31:24.483Z"
   },
   {
    "duration": 165,
    "start_time": "2022-01-24T09:31:38.944Z"
   },
   {
    "duration": 157,
    "start_time": "2022-01-24T09:33:25.486Z"
   },
   {
    "duration": 410,
    "start_time": "2022-01-24T09:33:32.095Z"
   },
   {
    "duration": 305,
    "start_time": "2022-01-24T09:33:40.655Z"
   },
   {
    "duration": 257,
    "start_time": "2022-01-24T09:38:28.511Z"
   },
   {
    "duration": 262,
    "start_time": "2022-01-24T09:38:40.431Z"
   },
   {
    "duration": 240,
    "start_time": "2022-01-24T09:42:02.043Z"
   },
   {
    "duration": 329,
    "start_time": "2022-01-24T16:17:17.674Z"
   },
   {
    "duration": 1202,
    "start_time": "2022-01-24T16:17:35.801Z"
   },
   {
    "duration": 554,
    "start_time": "2022-01-24T16:17:37.008Z"
   },
   {
    "duration": 491,
    "start_time": "2022-01-24T16:17:37.564Z"
   },
   {
    "duration": 267,
    "start_time": "2022-01-24T16:17:38.057Z"
   },
   {
    "duration": 7381,
    "start_time": "2022-01-24T16:17:38.326Z"
   },
   {
    "duration": 372,
    "start_time": "2022-01-24T16:17:45.709Z"
   },
   {
    "duration": 89,
    "start_time": "2022-01-24T16:17:46.083Z"
   },
   {
    "duration": 111,
    "start_time": "2022-01-24T16:17:46.174Z"
   },
   {
    "duration": 91,
    "start_time": "2022-01-24T16:17:46.287Z"
   },
   {
    "duration": 170,
    "start_time": "2022-01-24T16:17:46.380Z"
   },
   {
    "duration": 65,
    "start_time": "2022-01-24T16:17:46.552Z"
   },
   {
    "duration": 47,
    "start_time": "2022-01-24T16:18:18.261Z"
   },
   {
    "duration": 49,
    "start_time": "2022-01-24T16:18:32.940Z"
   },
   {
    "duration": 10,
    "start_time": "2022-01-24T16:19:24.030Z"
   },
   {
    "duration": 51,
    "start_time": "2022-01-24T16:20:47.963Z"
   },
   {
    "duration": 9,
    "start_time": "2022-01-24T16:21:44.655Z"
   },
   {
    "duration": 148,
    "start_time": "2022-01-24T16:22:43.215Z"
   },
   {
    "duration": 153,
    "start_time": "2022-01-24T16:24:13.388Z"
   },
   {
    "duration": 140,
    "start_time": "2022-01-24T16:24:44.670Z"
   },
   {
    "duration": 84,
    "start_time": "2022-01-24T17:40:12.308Z"
   },
   {
    "duration": 148,
    "start_time": "2022-01-24T17:40:22.613Z"
   },
   {
    "duration": 191,
    "start_time": "2022-01-24T17:41:01.599Z"
   },
   {
    "duration": 201,
    "start_time": "2022-01-24T17:41:19.075Z"
   },
   {
    "duration": 217,
    "start_time": "2022-01-24T17:41:33.443Z"
   },
   {
    "duration": 247,
    "start_time": "2022-01-24T17:41:42.460Z"
   },
   {
    "duration": 334,
    "start_time": "2022-01-24T17:41:52.208Z"
   },
   {
    "duration": 300,
    "start_time": "2022-01-24T17:42:03.429Z"
   },
   {
    "duration": 196,
    "start_time": "2022-01-24T17:42:41.065Z"
   },
   {
    "duration": 195,
    "start_time": "2022-01-24T17:42:55.775Z"
   },
   {
    "duration": 194,
    "start_time": "2022-01-24T17:43:19.555Z"
   },
   {
    "duration": 175,
    "start_time": "2022-01-24T17:43:30.290Z"
   },
   {
    "duration": 2410,
    "start_time": "2022-01-24T17:54:56.368Z"
   },
   {
    "duration": 2464,
    "start_time": "2022-01-24T17:56:03.259Z"
   },
   {
    "duration": 2857,
    "start_time": "2022-01-24T17:56:27.173Z"
   },
   {
    "duration": 635,
    "start_time": "2022-01-24T18:08:59.716Z"
   },
   {
    "duration": 622,
    "start_time": "2022-01-24T18:12:36.548Z"
   },
   {
    "duration": 615,
    "start_time": "2022-01-24T18:12:43.843Z"
   },
   {
    "duration": 175,
    "start_time": "2022-01-24T18:12:54.388Z"
   },
   {
    "duration": 187,
    "start_time": "2022-01-24T18:13:30.790Z"
   },
   {
    "duration": 164,
    "start_time": "2022-01-24T18:13:41.383Z"
   },
   {
    "duration": 9,
    "start_time": "2022-01-24T18:14:52.397Z"
   },
   {
    "duration": 330,
    "start_time": "2022-01-24T18:15:16.778Z"
   },
   {
    "duration": 238,
    "start_time": "2022-01-24T18:15:25.044Z"
   },
   {
    "duration": 325,
    "start_time": "2022-01-24T18:15:47.778Z"
   },
   {
    "duration": 8,
    "start_time": "2022-01-24T18:16:08.057Z"
   },
   {
    "duration": 235,
    "start_time": "2022-01-24T18:17:13.013Z"
   },
   {
    "duration": 8,
    "start_time": "2022-01-24T18:17:18.803Z"
   },
   {
    "duration": 1665,
    "start_time": "2022-01-24T18:17:38.954Z"
   },
   {
    "duration": 1684,
    "start_time": "2022-01-24T18:17:52.690Z"
   },
   {
    "duration": 10,
    "start_time": "2022-01-24T18:17:58.172Z"
   },
   {
    "duration": 14,
    "start_time": "2022-01-24T18:18:31.777Z"
   },
   {
    "duration": 6315,
    "start_time": "2022-01-24T18:18:45.162Z"
   },
   {
    "duration": 1662,
    "start_time": "2022-01-24T18:18:51.657Z"
   },
   {
    "duration": 10,
    "start_time": "2022-01-24T18:18:56.505Z"
   },
   {
    "duration": 247,
    "start_time": "2022-01-24T18:19:13.466Z"
   },
   {
    "duration": 11,
    "start_time": "2022-01-24T18:19:25.210Z"
   },
   {
    "duration": 251,
    "start_time": "2022-01-24T18:19:46.651Z"
   },
   {
    "duration": 8,
    "start_time": "2022-01-24T18:19:51.185Z"
   },
   {
    "duration": 8,
    "start_time": "2022-01-24T18:19:57.589Z"
   },
   {
    "duration": 12,
    "start_time": "2022-01-24T18:23:45.791Z"
   },
   {
    "duration": 251,
    "start_time": "2022-01-24T18:26:57.612Z"
   },
   {
    "duration": 99,
    "start_time": "2022-01-24T18:27:09.866Z"
   },
   {
    "duration": 11,
    "start_time": "2022-01-24T18:28:27.515Z"
   },
   {
    "duration": 9,
    "start_time": "2022-01-24T18:29:02.544Z"
   },
   {
    "duration": 10,
    "start_time": "2022-01-24T18:29:28.861Z"
   },
   {
    "duration": 12,
    "start_time": "2022-01-24T18:29:51.004Z"
   },
   {
    "duration": 9,
    "start_time": "2022-01-24T18:29:57.985Z"
   },
   {
    "duration": 280,
    "start_time": "2022-01-24T18:32:37.570Z"
   },
   {
    "duration": 287,
    "start_time": "2022-01-24T18:33:07.866Z"
   },
   {
    "duration": 237,
    "start_time": "2022-01-24T18:33:15.907Z"
   },
   {
    "duration": 236,
    "start_time": "2022-01-24T18:33:28.050Z"
   },
   {
    "duration": 242,
    "start_time": "2022-01-24T18:36:10.375Z"
   },
   {
    "duration": 8,
    "start_time": "2022-01-24T18:36:22.312Z"
   },
   {
    "duration": 243,
    "start_time": "2022-01-24T18:36:50.541Z"
   },
   {
    "duration": 9,
    "start_time": "2022-01-24T18:37:01.013Z"
   },
   {
    "duration": 8,
    "start_time": "2022-01-24T18:37:13.457Z"
   },
   {
    "duration": 9,
    "start_time": "2022-01-24T18:38:22.039Z"
   },
   {
    "duration": 8,
    "start_time": "2022-01-24T18:38:52.482Z"
   },
   {
    "duration": 8,
    "start_time": "2022-01-24T18:40:01.674Z"
   },
   {
    "duration": 9,
    "start_time": "2022-01-24T18:41:14.814Z"
   },
   {
    "duration": 8,
    "start_time": "2022-01-24T18:41:23.512Z"
   },
   {
    "duration": 14,
    "start_time": "2022-01-24T18:46:08.416Z"
   },
   {
    "duration": 22,
    "start_time": "2022-01-24T18:47:13.685Z"
   },
   {
    "duration": 25,
    "start_time": "2022-01-24T18:50:45.810Z"
   },
   {
    "duration": 24,
    "start_time": "2022-01-24T18:50:54.827Z"
   },
   {
    "duration": 24,
    "start_time": "2022-01-24T18:52:28.011Z"
   },
   {
    "duration": 23,
    "start_time": "2022-01-24T18:53:06.651Z"
   },
   {
    "duration": 24,
    "start_time": "2022-01-24T18:55:22.140Z"
   },
   {
    "duration": 18,
    "start_time": "2022-01-24T18:58:13.588Z"
   },
   {
    "duration": 20,
    "start_time": "2022-01-24T18:59:18.970Z"
   },
   {
    "duration": 21,
    "start_time": "2022-01-24T18:59:29.639Z"
   },
   {
    "duration": 14,
    "start_time": "2022-01-24T19:00:50.593Z"
   },
   {
    "duration": 14,
    "start_time": "2022-01-24T19:01:00.744Z"
   },
   {
    "duration": 1227,
    "start_time": "2022-01-24T19:21:26.375Z"
   },
   {
    "duration": 571,
    "start_time": "2022-01-24T19:21:27.604Z"
   },
   {
    "duration": 570,
    "start_time": "2022-01-24T19:21:28.178Z"
   },
   {
    "duration": 280,
    "start_time": "2022-01-24T19:21:28.750Z"
   },
   {
    "duration": 7646,
    "start_time": "2022-01-24T19:21:29.032Z"
   },
   {
    "duration": 378,
    "start_time": "2022-01-24T19:21:36.680Z"
   },
   {
    "duration": 99,
    "start_time": "2022-01-24T19:21:37.060Z"
   },
   {
    "duration": 112,
    "start_time": "2022-01-24T19:21:37.162Z"
   },
   {
    "duration": 89,
    "start_time": "2022-01-24T19:21:37.277Z"
   },
   {
    "duration": 198,
    "start_time": "2022-01-24T19:21:37.368Z"
   },
   {
    "duration": 54,
    "start_time": "2022-01-24T19:21:37.568Z"
   },
   {
    "duration": 13,
    "start_time": "2022-01-24T19:21:37.624Z"
   },
   {
    "duration": 75,
    "start_time": "2022-01-24T19:21:45.765Z"
   },
   {
    "duration": 259,
    "start_time": "2022-01-24T19:21:52.832Z"
   },
   {
    "duration": 77,
    "start_time": "2022-01-24T19:25:07.170Z"
   },
   {
    "duration": 6295,
    "start_time": "2022-01-24T19:25:12.396Z"
   },
   {
    "duration": 6214,
    "start_time": "2022-01-24T19:26:05.398Z"
   },
   {
    "duration": 236,
    "start_time": "2022-01-24T19:27:48.642Z"
   },
   {
    "duration": 218,
    "start_time": "2022-01-24T19:28:17.448Z"
   },
   {
    "duration": 221,
    "start_time": "2022-01-24T19:28:57.282Z"
   },
   {
    "duration": 302,
    "start_time": "2022-01-24T19:29:05.594Z"
   },
   {
    "duration": 224,
    "start_time": "2022-01-24T19:29:49.432Z"
   },
   {
    "duration": 252,
    "start_time": "2022-01-24T19:32:09.510Z"
   },
   {
    "duration": 1852,
    "start_time": "2022-01-24T19:32:35.046Z"
   },
   {
    "duration": 239,
    "start_time": "2022-01-24T19:32:41.025Z"
   },
   {
    "duration": 260,
    "start_time": "2022-01-24T19:33:26.076Z"
   },
   {
    "duration": 215,
    "start_time": "2022-01-24T19:34:19.820Z"
   },
   {
    "duration": 176,
    "start_time": "2022-01-24T19:34:36.134Z"
   },
   {
    "duration": 213,
    "start_time": "2022-01-24T19:34:43.127Z"
   },
   {
    "duration": 207,
    "start_time": "2022-01-24T19:35:09.371Z"
   },
   {
    "duration": 1283,
    "start_time": "2022-01-24T19:35:24.816Z"
   },
   {
    "duration": 233,
    "start_time": "2022-01-24T19:35:56.213Z"
   },
   {
    "duration": 96,
    "start_time": "2022-01-24T19:36:09.685Z"
   },
   {
    "duration": 225,
    "start_time": "2022-01-24T19:36:22.762Z"
   },
   {
    "duration": 217,
    "start_time": "2022-01-24T19:37:10.648Z"
   },
   {
    "duration": 242,
    "start_time": "2022-01-24T19:37:23.368Z"
   },
   {
    "duration": 308,
    "start_time": "2022-01-24T19:37:30.846Z"
   },
   {
    "duration": 255,
    "start_time": "2022-01-24T19:38:21.516Z"
   },
   {
    "duration": 5713,
    "start_time": "2022-01-24T19:38:35.915Z"
   },
   {
    "duration": 6821,
    "start_time": "2022-01-24T19:38:53.264Z"
   },
   {
    "duration": 6247,
    "start_time": "2022-01-24T19:39:02.663Z"
   },
   {
    "duration": 232,
    "start_time": "2022-01-24T19:39:42.544Z"
   },
   {
    "duration": 250,
    "start_time": "2022-01-24T19:42:44.220Z"
   },
   {
    "duration": 237,
    "start_time": "2022-01-24T19:42:54.004Z"
   },
   {
    "duration": 280,
    "start_time": "2022-01-24T19:45:19.642Z"
   },
   {
    "duration": 1152,
    "start_time": "2022-01-24T19:46:11.473Z"
   },
   {
    "duration": 417,
    "start_time": "2022-01-24T19:46:30.488Z"
   },
   {
    "duration": 729,
    "start_time": "2022-01-24T19:46:56.995Z"
   },
   {
    "duration": 209,
    "start_time": "2022-01-24T19:50:22.055Z"
   },
   {
    "duration": 47,
    "start_time": "2022-01-24T19:52:06.520Z"
   },
   {
    "duration": 16,
    "start_time": "2022-01-24T19:52:56.152Z"
   },
   {
    "duration": 26,
    "start_time": "2022-01-24T19:53:41.537Z"
   },
   {
    "duration": 25,
    "start_time": "2022-01-24T19:53:56.602Z"
   },
   {
    "duration": 26,
    "start_time": "2022-01-24T19:54:22.475Z"
   },
   {
    "duration": 14,
    "start_time": "2022-01-24T19:54:32.396Z"
   },
   {
    "duration": 80,
    "start_time": "2022-01-24T19:56:10.959Z"
   },
   {
    "duration": 1209,
    "start_time": "2022-01-24T19:56:17.787Z"
   },
   {
    "duration": 78,
    "start_time": "2022-01-24T19:57:52.167Z"
   },
   {
    "duration": 1466,
    "start_time": "2022-01-24T19:57:57.446Z"
   },
   {
    "duration": 910,
    "start_time": "2022-01-24T19:58:27.052Z"
   },
   {
    "duration": 16,
    "start_time": "2022-01-24T20:05:07.200Z"
   },
   {
    "duration": 841,
    "start_time": "2022-01-24T20:05:42.089Z"
   },
   {
    "duration": 846,
    "start_time": "2022-01-24T20:06:27.943Z"
   },
   {
    "duration": 12,
    "start_time": "2022-01-24T20:06:56.294Z"
   },
   {
    "duration": 652,
    "start_time": "2022-01-24T20:07:05.589Z"
   },
   {
    "duration": 101,
    "start_time": "2022-01-24T20:09:08.712Z"
   },
   {
    "duration": 13,
    "start_time": "2022-01-24T20:09:27.165Z"
   },
   {
    "duration": 13,
    "start_time": "2022-01-24T20:12:52.080Z"
   },
   {
    "duration": 4,
    "start_time": "2022-01-24T20:15:00.198Z"
   },
   {
    "duration": 342,
    "start_time": "2022-01-24T20:15:06.736Z"
   },
   {
    "duration": 191,
    "start_time": "2022-01-24T20:16:23.783Z"
   },
   {
    "duration": 220,
    "start_time": "2022-01-24T20:17:08.622Z"
   },
   {
    "duration": 194,
    "start_time": "2022-01-24T20:17:19.683Z"
   },
   {
    "duration": 81,
    "start_time": "2022-01-24T20:20:54.840Z"
   },
   {
    "duration": 29,
    "start_time": "2022-01-24T20:21:17.351Z"
   },
   {
    "duration": 252,
    "start_time": "2022-01-24T20:21:46.271Z"
   },
   {
    "duration": 239,
    "start_time": "2022-01-24T20:22:01.782Z"
   },
   {
    "duration": 30,
    "start_time": "2022-01-24T20:25:29.103Z"
   },
   {
    "duration": 46,
    "start_time": "2022-01-24T20:26:15.870Z"
   },
   {
    "duration": 16,
    "start_time": "2022-01-24T20:26:36.521Z"
   },
   {
    "duration": 892,
    "start_time": "2022-01-24T20:27:03.963Z"
   },
   {
    "duration": 14,
    "start_time": "2022-01-24T20:27:52.943Z"
   },
   {
    "duration": 622,
    "start_time": "2022-01-24T20:27:56.966Z"
   },
   {
    "duration": 51,
    "start_time": "2022-01-24T20:36:52.513Z"
   },
   {
    "duration": 248,
    "start_time": "2022-01-24T20:37:29.628Z"
   },
   {
    "duration": 22,
    "start_time": "2022-01-24T20:39:14.790Z"
   },
   {
    "duration": 1142,
    "start_time": "2022-01-24T20:40:22.747Z"
   },
   {
    "duration": 16,
    "start_time": "2022-01-24T20:41:54.602Z"
   },
   {
    "duration": 721,
    "start_time": "2022-01-24T20:41:57.707Z"
   },
   {
    "duration": 483,
    "start_time": "2022-01-24T20:44:47.285Z"
   },
   {
    "duration": 7,
    "start_time": "2022-01-24T20:45:28.619Z"
   },
   {
    "duration": 82,
    "start_time": "2022-01-24T20:46:12.111Z"
   },
   {
    "duration": 6,
    "start_time": "2022-01-24T20:46:23.251Z"
   },
   {
    "duration": 6,
    "start_time": "2022-01-24T20:46:43.146Z"
   },
   {
    "duration": 6,
    "start_time": "2022-01-24T20:46:51.754Z"
   },
   {
    "duration": 18,
    "start_time": "2022-01-24T20:50:46.393Z"
   },
   {
    "duration": 1311,
    "start_time": "2022-01-24T20:50:52.851Z"
   },
   {
    "duration": 244,
    "start_time": "2022-01-24T21:16:48.172Z"
   },
   {
    "duration": 244,
    "start_time": "2022-01-24T21:17:40.340Z"
   },
   {
    "duration": 6,
    "start_time": "2022-01-24T21:18:01.051Z"
   },
   {
    "duration": 6,
    "start_time": "2022-01-24T21:18:03.819Z"
   },
   {
    "duration": 1141,
    "start_time": "2022-01-24T21:22:37.341Z"
   },
   {
    "duration": 558,
    "start_time": "2022-01-24T21:22:38.484Z"
   },
   {
    "duration": 511,
    "start_time": "2022-01-24T21:22:39.044Z"
   },
   {
    "duration": 273,
    "start_time": "2022-01-24T21:22:39.557Z"
   },
   {
    "duration": 7506,
    "start_time": "2022-01-24T21:22:39.832Z"
   },
   {
    "duration": 363,
    "start_time": "2022-01-24T21:22:47.340Z"
   },
   {
    "duration": 82,
    "start_time": "2022-01-24T21:22:47.706Z"
   },
   {
    "duration": 118,
    "start_time": "2022-01-24T21:22:47.790Z"
   },
   {
    "duration": 78,
    "start_time": "2022-01-24T21:22:47.912Z"
   },
   {
    "duration": 181,
    "start_time": "2022-01-24T21:22:47.992Z"
   },
   {
    "duration": 61,
    "start_time": "2022-01-24T21:22:48.175Z"
   },
   {
    "duration": 21,
    "start_time": "2022-01-24T21:22:48.239Z"
   },
   {
    "duration": 1331,
    "start_time": "2022-01-24T21:22:48.261Z"
   },
   {
    "duration": 15,
    "start_time": "2022-01-24T21:22:49.594Z"
   },
   {
    "duration": 25,
    "start_time": "2022-01-24T21:22:49.611Z"
   },
   {
    "duration": 314,
    "start_time": "2022-01-25T06:59:46.849Z"
   },
   {
    "duration": 1133,
    "start_time": "2022-01-25T07:00:00.638Z"
   },
   {
    "duration": 550,
    "start_time": "2022-01-25T07:00:01.773Z"
   },
   {
    "duration": 469,
    "start_time": "2022-01-25T07:00:02.325Z"
   },
   {
    "duration": 379,
    "start_time": "2022-01-25T07:00:02.796Z"
   },
   {
    "duration": -27,
    "start_time": "2022-01-25T07:00:03.205Z"
   },
   {
    "duration": -32,
    "start_time": "2022-01-25T07:00:03.211Z"
   },
   {
    "duration": -33,
    "start_time": "2022-01-25T07:00:03.214Z"
   },
   {
    "duration": -35,
    "start_time": "2022-01-25T07:00:03.217Z"
   },
   {
    "duration": -34,
    "start_time": "2022-01-25T07:00:03.218Z"
   },
   {
    "duration": -35,
    "start_time": "2022-01-25T07:00:03.220Z"
   },
   {
    "duration": -38,
    "start_time": "2022-01-25T07:00:03.225Z"
   },
   {
    "duration": -40,
    "start_time": "2022-01-25T07:00:03.228Z"
   },
   {
    "duration": -40,
    "start_time": "2022-01-25T07:00:03.230Z"
   },
   {
    "duration": -40,
    "start_time": "2022-01-25T07:00:03.232Z"
   },
   {
    "duration": -40,
    "start_time": "2022-01-25T07:00:03.233Z"
   },
   {
    "duration": -41,
    "start_time": "2022-01-25T07:00:03.235Z"
   },
   {
    "duration": 192,
    "start_time": "2022-01-25T07:00:46.657Z"
   },
   {
    "duration": 1130,
    "start_time": "2022-01-25T07:02:39.168Z"
   },
   {
    "duration": 480,
    "start_time": "2022-01-25T07:02:40.299Z"
   },
   {
    "duration": 513,
    "start_time": "2022-01-25T07:02:40.781Z"
   },
   {
    "duration": 196,
    "start_time": "2022-01-25T07:02:41.296Z"
   },
   {
    "duration": 241,
    "start_time": "2022-01-25T07:02:41.493Z"
   },
   {
    "duration": 6688,
    "start_time": "2022-01-25T07:02:41.735Z"
   },
   {
    "duration": 342,
    "start_time": "2022-01-25T07:02:48.425Z"
   },
   {
    "duration": 82,
    "start_time": "2022-01-25T07:02:48.769Z"
   },
   {
    "duration": 102,
    "start_time": "2022-01-25T07:02:48.853Z"
   },
   {
    "duration": 84,
    "start_time": "2022-01-25T07:02:48.957Z"
   },
   {
    "duration": 162,
    "start_time": "2022-01-25T07:02:49.043Z"
   },
   {
    "duration": 48,
    "start_time": "2022-01-25T07:02:49.206Z"
   },
   {
    "duration": 19,
    "start_time": "2022-01-25T07:02:49.256Z"
   },
   {
    "duration": 1326,
    "start_time": "2022-01-25T07:02:49.298Z"
   },
   {
    "duration": 5,
    "start_time": "2022-01-25T07:02:50.626Z"
   },
   {
    "duration": 8,
    "start_time": "2022-01-25T07:02:50.633Z"
   },
   {
    "duration": 166,
    "start_time": "2022-01-25T07:04:45.899Z"
   },
   {
    "duration": 97,
    "start_time": "2022-01-25T07:14:24.045Z"
   },
   {
    "duration": 222,
    "start_time": "2022-01-25T07:31:56.846Z"
   },
   {
    "duration": 48,
    "start_time": "2022-01-25T07:34:01.435Z"
   },
   {
    "duration": 314,
    "start_time": "2022-01-25T07:41:39.855Z"
   },
   {
    "duration": 1122,
    "start_time": "2022-01-25T07:42:38.739Z"
   },
   {
    "duration": 495,
    "start_time": "2022-01-25T07:42:39.863Z"
   },
   {
    "duration": 474,
    "start_time": "2022-01-25T07:42:40.361Z"
   },
   {
    "duration": 202,
    "start_time": "2022-01-25T07:42:40.837Z"
   },
   {
    "duration": 292,
    "start_time": "2022-01-25T07:42:41.041Z"
   },
   {
    "duration": -144,
    "start_time": "2022-01-25T07:46:11.777Z"
   },
   {
    "duration": 313,
    "start_time": "2022-01-25T07:47:37.651Z"
   },
   {
    "duration": 1102,
    "start_time": "2022-01-25T07:47:49.362Z"
   },
   {
    "duration": 483,
    "start_time": "2022-01-25T07:47:50.466Z"
   },
   {
    "duration": 470,
    "start_time": "2022-01-25T07:47:50.951Z"
   },
   {
    "duration": 189,
    "start_time": "2022-01-25T07:47:51.423Z"
   },
   {
    "duration": 294,
    "start_time": "2022-01-25T07:47:51.614Z"
   },
   {
    "duration": 344,
    "start_time": "2022-01-25T07:47:56.130Z"
   },
   {
    "duration": 1129,
    "start_time": "2022-01-25T07:48:51.728Z"
   },
   {
    "duration": 493,
    "start_time": "2022-01-25T07:48:52.862Z"
   },
   {
    "duration": 479,
    "start_time": "2022-01-25T07:48:53.357Z"
   },
   {
    "duration": 192,
    "start_time": "2022-01-25T07:48:53.838Z"
   },
   {
    "duration": 294,
    "start_time": "2022-01-25T07:48:54.031Z"
   },
   {
    "duration": -33,
    "start_time": "2022-01-25T07:49:52.636Z"
   },
   {
    "duration": 1236,
    "start_time": "2022-01-25T07:50:00.581Z"
   },
   {
    "duration": 533,
    "start_time": "2022-01-25T07:50:01.819Z"
   },
   {
    "duration": 479,
    "start_time": "2022-01-25T07:50:02.355Z"
   },
   {
    "duration": 210,
    "start_time": "2022-01-25T07:50:02.836Z"
   },
   {
    "duration": 307,
    "start_time": "2022-01-25T07:50:03.048Z"
   },
   {
    "duration": 1117,
    "start_time": "2022-01-25T07:50:42.142Z"
   },
   {
    "duration": 482,
    "start_time": "2022-01-25T07:50:43.261Z"
   },
   {
    "duration": 503,
    "start_time": "2022-01-25T07:50:43.745Z"
   },
   {
    "duration": 179,
    "start_time": "2022-01-25T07:50:44.250Z"
   },
   {
    "duration": 291,
    "start_time": "2022-01-25T07:50:44.430Z"
   },
   {
    "duration": 1172,
    "start_time": "2022-01-25T07:51:53.377Z"
   },
   {
    "duration": 499,
    "start_time": "2022-01-25T07:51:54.551Z"
   },
   {
    "duration": 484,
    "start_time": "2022-01-25T07:51:55.052Z"
   },
   {
    "duration": 194,
    "start_time": "2022-01-25T07:51:55.538Z"
   },
   {
    "duration": 314,
    "start_time": "2022-01-25T07:51:55.734Z"
   },
   {
    "duration": 1190,
    "start_time": "2022-01-25T07:53:38.202Z"
   },
   {
    "duration": 505,
    "start_time": "2022-01-25T07:53:39.394Z"
   },
   {
    "duration": 464,
    "start_time": "2022-01-25T07:53:39.901Z"
   },
   {
    "duration": 214,
    "start_time": "2022-01-25T07:53:40.367Z"
   },
   {
    "duration": 300,
    "start_time": "2022-01-25T07:53:40.583Z"
   },
   {
    "duration": 87,
    "start_time": "2022-01-25T07:53:59.888Z"
   },
   {
    "duration": 85,
    "start_time": "2022-01-25T07:54:18.522Z"
   },
   {
    "duration": 27,
    "start_time": "2022-01-25T07:54:33.106Z"
   },
   {
    "duration": 33,
    "start_time": "2022-01-25T07:54:39.539Z"
   },
   {
    "duration": 544,
    "start_time": "2022-01-25T07:55:35.739Z"
   },
   {
    "duration": 89,
    "start_time": "2022-01-25T07:57:35.362Z"
   },
   {
    "duration": 92,
    "start_time": "2022-01-25T07:57:54.249Z"
   },
   {
    "duration": 89,
    "start_time": "2022-01-25T07:58:00.810Z"
   },
   {
    "duration": 1182,
    "start_time": "2022-01-25T07:58:18.176Z"
   },
   {
    "duration": 493,
    "start_time": "2022-01-25T07:58:19.360Z"
   },
   {
    "duration": 474,
    "start_time": "2022-01-25T07:58:19.855Z"
   },
   {
    "duration": 186,
    "start_time": "2022-01-25T07:58:20.331Z"
   },
   {
    "duration": 299,
    "start_time": "2022-01-25T07:58:20.519Z"
   },
   {
    "duration": 159,
    "start_time": "2022-01-25T07:58:23.922Z"
   },
   {
    "duration": 574,
    "start_time": "2022-01-25T07:58:52.959Z"
   },
   {
    "duration": 1000,
    "start_time": "2022-01-25T07:59:21.211Z"
   },
   {
    "duration": 1052,
    "start_time": "2022-01-25T07:59:34.376Z"
   },
   {
    "duration": 1066,
    "start_time": "2022-01-25T07:59:43.521Z"
   },
   {
    "duration": 657,
    "start_time": "2022-01-25T08:00:14.582Z"
   },
   {
    "duration": 746,
    "start_time": "2022-01-25T08:00:31.955Z"
   },
   {
    "duration": 801,
    "start_time": "2022-01-25T08:01:25.469Z"
   },
   {
    "duration": 1626,
    "start_time": "2022-01-25T08:01:37.947Z"
   },
   {
    "duration": 727,
    "start_time": "2022-01-25T08:01:44.937Z"
   },
   {
    "duration": 275,
    "start_time": "2022-01-25T08:02:48.222Z"
   },
   {
    "duration": 724,
    "start_time": "2022-01-25T08:03:18.804Z"
   },
   {
    "duration": 6592,
    "start_time": "2022-01-25T08:03:25.043Z"
   },
   {
    "duration": 771,
    "start_time": "2022-01-25T08:03:48.489Z"
   },
   {
    "duration": 6889,
    "start_time": "2022-01-25T08:04:37.608Z"
   },
   {
    "duration": 700,
    "start_time": "2022-01-25T08:04:51.985Z"
   },
   {
    "duration": 1112,
    "start_time": "2022-01-25T08:09:27.353Z"
   },
   {
    "duration": 488,
    "start_time": "2022-01-25T08:09:28.468Z"
   },
   {
    "duration": 473,
    "start_time": "2022-01-25T08:09:28.958Z"
   },
   {
    "duration": 197,
    "start_time": "2022-01-25T08:09:29.433Z"
   },
   {
    "duration": 292,
    "start_time": "2022-01-25T08:09:29.631Z"
   },
   {
    "duration": 765,
    "start_time": "2022-01-25T08:09:29.925Z"
   },
   {
    "duration": 816,
    "start_time": "2022-01-25T08:09:30.691Z"
   },
   {
    "duration": 726,
    "start_time": "2022-01-25T08:09:31.509Z"
   },
   {
    "duration": 7157,
    "start_time": "2022-01-25T08:09:32.237Z"
   },
   {
    "duration": 361,
    "start_time": "2022-01-25T08:09:39.397Z"
   },
   {
    "duration": 87,
    "start_time": "2022-01-25T08:09:39.760Z"
   },
   {
    "duration": 105,
    "start_time": "2022-01-25T08:09:39.849Z"
   },
   {
    "duration": 86,
    "start_time": "2022-01-25T08:09:39.955Z"
   },
   {
    "duration": 159,
    "start_time": "2022-01-25T08:09:40.043Z"
   },
   {
    "duration": 49,
    "start_time": "2022-01-25T08:09:40.204Z"
   },
   {
    "duration": 20,
    "start_time": "2022-01-25T08:09:40.255Z"
   },
   {
    "duration": 1363,
    "start_time": "2022-01-25T08:09:40.277Z"
   },
   {
    "duration": 6,
    "start_time": "2022-01-25T08:09:41.641Z"
   },
   {
    "duration": 22,
    "start_time": "2022-01-25T08:09:41.649Z"
   },
   {
    "duration": 14,
    "start_time": "2022-01-25T08:10:54.826Z"
   },
   {
    "duration": 80,
    "start_time": "2022-01-25T08:13:33.847Z"
   },
   {
    "duration": 14,
    "start_time": "2022-01-25T08:31:33.543Z"
   },
   {
    "duration": 1734,
    "start_time": "2022-01-25T08:31:47.400Z"
   },
   {
    "duration": 350,
    "start_time": "2022-01-25T08:32:28.927Z"
   },
   {
    "duration": 273,
    "start_time": "2022-01-25T08:34:37.961Z"
   },
   {
    "duration": 2235,
    "start_time": "2022-01-25T08:35:24.406Z"
   },
   {
    "duration": 534,
    "start_time": "2022-01-25T08:36:02.456Z"
   },
   {
    "duration": 12,
    "start_time": "2022-01-25T08:36:35.826Z"
   },
   {
    "duration": 1276,
    "start_time": "2022-01-25T08:36:38.824Z"
   },
   {
    "duration": 6,
    "start_time": "2022-01-25T08:39:38.367Z"
   },
   {
    "duration": 7,
    "start_time": "2022-01-25T08:40:18.058Z"
   },
   {
    "duration": 7,
    "start_time": "2022-01-25T09:02:33.920Z"
   },
   {
    "duration": 8,
    "start_time": "2022-01-25T09:15:47.999Z"
   },
   {
    "duration": 1131,
    "start_time": "2022-01-25T09:22:18.126Z"
   },
   {
    "duration": 486,
    "start_time": "2022-01-25T09:22:19.259Z"
   },
   {
    "duration": 498,
    "start_time": "2022-01-25T09:22:19.747Z"
   },
   {
    "duration": 201,
    "start_time": "2022-01-25T09:22:20.246Z"
   },
   {
    "duration": 304,
    "start_time": "2022-01-25T09:22:20.449Z"
   },
   {
    "duration": 761,
    "start_time": "2022-01-25T09:22:20.754Z"
   },
   {
    "duration": 800,
    "start_time": "2022-01-25T09:22:21.516Z"
   },
   {
    "duration": 702,
    "start_time": "2022-01-25T09:22:22.318Z"
   },
   {
    "duration": 6780,
    "start_time": "2022-01-25T09:22:23.022Z"
   },
   {
    "duration": 349,
    "start_time": "2022-01-25T09:22:29.804Z"
   },
   {
    "duration": 86,
    "start_time": "2022-01-25T09:22:30.154Z"
   },
   {
    "duration": 111,
    "start_time": "2022-01-25T09:22:30.242Z"
   },
   {
    "duration": 82,
    "start_time": "2022-01-25T09:22:30.355Z"
   },
   {
    "duration": 169,
    "start_time": "2022-01-25T09:22:30.438Z"
   },
   {
    "duration": 54,
    "start_time": "2022-01-25T09:22:30.608Z"
   },
   {
    "duration": 43,
    "start_time": "2022-01-25T09:22:30.664Z"
   },
   {
    "duration": 1398,
    "start_time": "2022-01-25T09:22:30.709Z"
   },
   {
    "duration": 6,
    "start_time": "2022-01-25T09:22:32.109Z"
   },
   {
    "duration": 9,
    "start_time": "2022-01-25T09:22:32.117Z"
   },
   {
    "duration": 12,
    "start_time": "2022-01-25T09:22:32.128Z"
   }
  ],
  "kernelspec": {
   "display_name": "Python 3 (ipykernel)",
   "language": "python",
   "name": "python3"
  },
  "language_info": {
   "codemirror_mode": {
    "name": "ipython",
    "version": 3
   },
   "file_extension": ".py",
   "mimetype": "text/x-python",
   "name": "python",
   "nbconvert_exporter": "python",
   "pygments_lexer": "ipython3",
   "version": "3.9.13"
  },
  "toc": {
   "base_numbering": 1,
   "nav_menu": {},
   "number_sections": true,
   "sideBar": true,
   "skip_h1_title": true,
   "title_cell": "Table of Contents",
   "title_sidebar": "Contents",
   "toc_cell": false,
   "toc_position": {},
   "toc_section_display": true,
   "toc_window_display": true
  }
 },
 "nbformat": 4,
 "nbformat_minor": 2
}
