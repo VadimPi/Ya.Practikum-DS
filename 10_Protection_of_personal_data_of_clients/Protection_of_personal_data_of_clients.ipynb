{
 "cells": [
  {
   "cell_type": "markdown",
   "metadata": {
    "toc": true
   },
   "source": [
    "<h1>Содержание<span class=\"tocSkip\"></span></h1>\n",
    "<div class=\"toc\"><ul class=\"toc-item\"><li><span><a href=\"#Загрузка-данных\" data-toc-modified-id=\"Загрузка-данных-1\"><span class=\"toc-item-num\">1&nbsp;&nbsp;</span>Загрузка данных</a></span></li><li><span><a href=\"#Умножение-матриц\" data-toc-modified-id=\"Умножение-матриц-2\"><span class=\"toc-item-num\">2&nbsp;&nbsp;</span>Умножение матриц</a></span></li><li><span><a href=\"#Алгоритм-преобразования\" data-toc-modified-id=\"Алгоритм-преобразования-3\"><span class=\"toc-item-num\">3&nbsp;&nbsp;</span>Алгоритм преобразования</a></span></li><li><span><a href=\"#Проверка-алгоритма\" data-toc-modified-id=\"Проверка-алгоритма-4\"><span class=\"toc-item-num\">4&nbsp;&nbsp;</span>Проверка алгоритма</a></span><ul class=\"toc-item\"><li><span><a href=\"#Создаем-псевдослучайно-квадратную-матрицу\" data-toc-modified-id=\"Создаем-псевдослучайно-квадратную-матрицу-4.1\"><span class=\"toc-item-num\">4.1&nbsp;&nbsp;</span>Создаем псевдослучайно квадратную матрицу</a></span></li><li><span><a href=\"#Проверяем,-что-созданная-матрица-обратимая-$P*P^{-1}-=-E$\" data-toc-modified-id=\"Проверяем,-что-созданная-матрица-обратимая-$P*P^{-1}-=-E$-4.2\"><span class=\"toc-item-num\">4.2&nbsp;&nbsp;</span>Проверяем, что созданная матрица обратимая $P*P^{-1} = E$</a></span></li><li><span><a href=\"#Обучаем-модель,-получаем-метрику-на-необработанных-данных\" data-toc-modified-id=\"Обучаем-модель,-получаем-метрику-на-необработанных-данных-4.3\"><span class=\"toc-item-num\">4.3&nbsp;&nbsp;</span>Обучаем модель, получаем метрику на необработанных данных</a></span></li><li><span><a href=\"#Умножаем-сет-признаков-на-обратимую-матрицу.-Обучаем-модель,-получаем-метрику-на-обработанных-данных.\" data-toc-modified-id=\"Умножаем-сет-признаков-на-обратимую-матрицу.-Обучаем-модель,-получаем-метрику-на-обработанных-данных.-4.4\"><span class=\"toc-item-num\">4.4&nbsp;&nbsp;</span>Умножаем сет признаков на обратимую матрицу. Обучаем модель, получаем метрику на обработанных данных.</a></span></li><li><span><a href=\"#Сравнение-R2-показатели-модели\" data-toc-modified-id=\"Сравнение-R2-показатели-модели-4.5\"><span class=\"toc-item-num\">4.5&nbsp;&nbsp;</span>Сравнение R2 показатели модели</a></span></li></ul></li><li><span><a href=\"#Вывод:\" data-toc-modified-id=\"Вывод:-5\"><span class=\"toc-item-num\">5&nbsp;&nbsp;</span>Вывод:</a></span></li><li><span><a href=\"#Чек-лист-проверки\" data-toc-modified-id=\"Чек-лист-проверки-6\"><span class=\"toc-item-num\">6&nbsp;&nbsp;</span>Чек-лист проверки</a></span></li></ul></div>"
   ]
  },
  {
   "cell_type": "markdown",
   "metadata": {},
   "source": [
    "# Защита персональных данных клиентов"
   ]
  },
  {
   "cell_type": "markdown",
   "metadata": {},
   "source": [
    "Вам нужно защитить данные клиентов страховой компании «Хоть потоп». Разработайте такой метод преобразования данных, чтобы по ним было сложно восстановить персональную информацию. Обоснуйте корректность его работы.\n",
    "\n",
    "Нужно защитить данные, чтобы при преобразовании качество моделей машинного обучения не ухудшилось. Подбирать наилучшую модель не требуется."
   ]
  },
  {
   "cell_type": "markdown",
   "metadata": {},
   "source": [
    "## Загрузка данных"
   ]
  },
  {
   "cell_type": "code",
   "execution_count": 1,
   "metadata": {},
   "outputs": [],
   "source": [
    "import pandas as pd\n",
    "import numpy as np\n",
    "from sklearn.linear_model import LinearRegression\n",
    "from sklearn.model_selection import train_test_split\n",
    "from sklearn.metrics import r2_score"
   ]
  },
  {
   "cell_type": "code",
   "execution_count": 2,
   "metadata": {
    "scrolled": false
   },
   "outputs": [
    {
     "data": {
      "text/html": [
       "<div>\n",
       "<style scoped>\n",
       "    .dataframe tbody tr th:only-of-type {\n",
       "        vertical-align: middle;\n",
       "    }\n",
       "\n",
       "    .dataframe tbody tr th {\n",
       "        vertical-align: top;\n",
       "    }\n",
       "\n",
       "    .dataframe thead th {\n",
       "        text-align: right;\n",
       "    }\n",
       "</style>\n",
       "<table border=\"1\" class=\"dataframe\">\n",
       "  <thead>\n",
       "    <tr style=\"text-align: right;\">\n",
       "      <th></th>\n",
       "      <th>Пол</th>\n",
       "      <th>Возраст</th>\n",
       "      <th>Зарплата</th>\n",
       "      <th>Члены семьи</th>\n",
       "      <th>Страховые выплаты</th>\n",
       "    </tr>\n",
       "  </thead>\n",
       "  <tbody>\n",
       "    <tr>\n",
       "      <th>0</th>\n",
       "      <td>1</td>\n",
       "      <td>41.0</td>\n",
       "      <td>49600.0</td>\n",
       "      <td>1</td>\n",
       "      <td>0</td>\n",
       "    </tr>\n",
       "    <tr>\n",
       "      <th>1</th>\n",
       "      <td>0</td>\n",
       "      <td>46.0</td>\n",
       "      <td>38000.0</td>\n",
       "      <td>1</td>\n",
       "      <td>1</td>\n",
       "    </tr>\n",
       "    <tr>\n",
       "      <th>2</th>\n",
       "      <td>0</td>\n",
       "      <td>29.0</td>\n",
       "      <td>21000.0</td>\n",
       "      <td>0</td>\n",
       "      <td>0</td>\n",
       "    </tr>\n",
       "    <tr>\n",
       "      <th>3</th>\n",
       "      <td>0</td>\n",
       "      <td>21.0</td>\n",
       "      <td>41700.0</td>\n",
       "      <td>2</td>\n",
       "      <td>0</td>\n",
       "    </tr>\n",
       "    <tr>\n",
       "      <th>4</th>\n",
       "      <td>1</td>\n",
       "      <td>28.0</td>\n",
       "      <td>26100.0</td>\n",
       "      <td>0</td>\n",
       "      <td>0</td>\n",
       "    </tr>\n",
       "    <tr>\n",
       "      <th>5</th>\n",
       "      <td>1</td>\n",
       "      <td>43.0</td>\n",
       "      <td>41000.0</td>\n",
       "      <td>2</td>\n",
       "      <td>1</td>\n",
       "    </tr>\n",
       "    <tr>\n",
       "      <th>6</th>\n",
       "      <td>1</td>\n",
       "      <td>39.0</td>\n",
       "      <td>39700.0</td>\n",
       "      <td>2</td>\n",
       "      <td>0</td>\n",
       "    </tr>\n",
       "    <tr>\n",
       "      <th>7</th>\n",
       "      <td>1</td>\n",
       "      <td>25.0</td>\n",
       "      <td>38600.0</td>\n",
       "      <td>4</td>\n",
       "      <td>0</td>\n",
       "    </tr>\n",
       "    <tr>\n",
       "      <th>8</th>\n",
       "      <td>1</td>\n",
       "      <td>36.0</td>\n",
       "      <td>49700.0</td>\n",
       "      <td>1</td>\n",
       "      <td>0</td>\n",
       "    </tr>\n",
       "    <tr>\n",
       "      <th>9</th>\n",
       "      <td>1</td>\n",
       "      <td>32.0</td>\n",
       "      <td>51700.0</td>\n",
       "      <td>1</td>\n",
       "      <td>0</td>\n",
       "    </tr>\n",
       "  </tbody>\n",
       "</table>\n",
       "</div>"
      ],
      "text/plain": [
       "   Пол  Возраст  Зарплата  Члены семьи  Страховые выплаты\n",
       "0    1     41.0   49600.0            1                  0\n",
       "1    0     46.0   38000.0            1                  1\n",
       "2    0     29.0   21000.0            0                  0\n",
       "3    0     21.0   41700.0            2                  0\n",
       "4    1     28.0   26100.0            0                  0\n",
       "5    1     43.0   41000.0            2                  1\n",
       "6    1     39.0   39700.0            2                  0\n",
       "7    1     25.0   38600.0            4                  0\n",
       "8    1     36.0   49700.0            1                  0\n",
       "9    1     32.0   51700.0            1                  0"
      ]
     },
     "metadata": {},
     "output_type": "display_data"
    },
    {
     "data": {
      "text/plain": [
       "(5000, 5)"
      ]
     },
     "metadata": {},
     "output_type": "display_data"
    }
   ],
   "source": [
    "try:\n",
    "    data = pd.read_csv('/datasets/insurance.csv')\n",
    "except:\n",
    "    data = pd.read_csv(r'C:\\Users\\vadim.pilipenko\\Desktop\\личное\\Практикум\\ML\\прочее\\insurance.csv')\n",
    "\n",
    "display(data.head(10), data.shape)"
   ]
  },
  {
   "cell_type": "code",
   "execution_count": 4,
   "metadata": {},
   "outputs": [],
   "source": [
    "features = data.iloc[:,:-1]\n",
    "target = data.iloc[:,-1]"
   ]
  },
  {
   "cell_type": "markdown",
   "metadata": {},
   "source": [
    "## Умножение матриц"
   ]
  },
  {
   "cell_type": "markdown",
   "metadata": {},
   "source": [
    "В этом задании вы можете записывать формулы в *Jupyter Notebook.*\n",
    "\n",
    "Чтобы записать формулу внутри текста, окружите её символами доллара \\\\$; если снаружи —  двойными символами \\\\$\\\\$. Эти формулы записываются на языке вёрстки *LaTeX.* \n",
    "\n",
    "Для примера мы записали формулы линейной регрессии. Можете их скопировать и отредактировать, чтобы решить задачу.\n",
    "\n",
    "Работать в *LaTeX* необязательно."
   ]
  },
  {
   "cell_type": "markdown",
   "metadata": {},
   "source": [
    "Обозначения:\n",
    "\n",
    "- $X$ — матрица признаков (нулевой столбец состоит из единиц)\n",
    "\n",
    "- $y$ — вектор целевого признака\n",
    "\n",
    "- $P$ — матрица, на которую умножаются признаки\n",
    "\n",
    "- $w$ — вектор весов линейной регрессии (нулевой элемент равен сдвигу)"
   ]
  },
  {
   "cell_type": "markdown",
   "metadata": {},
   "source": [
    "Предсказания:\n",
    "\n",
    "$$\n",
    "a = Xw\n",
    "$$\n",
    "\n",
    "Задача обучения:\n",
    "\n",
    "$$\n",
    "w = \\arg\\min_w MSE(Xw, y)\n",
    "$$\n",
    "\n",
    "Формула обучения:\n",
    "\n",
    "$$\n",
    "w = (X^T X)^{-1} X^T y\n",
    "$$"
   ]
  },
  {
   "cell_type": "markdown",
   "metadata": {},
   "source": [
    "\n",
    "Свойства матриц используемые в рассчетах:\n",
    "    \n",
    "$A(BC) = (AB)C$\n",
    "    \n",
    "$(AB)^T = B^TA^T$\n",
    "    \n",
    "$(AB)^{-1} = B^{-1}A^{-1}$\n",
    "    \n",
    "$(ABC)^{-1} = C^{-1}B^{-1}A^{-1}$\n",
    "    \n",
    "$AA^{-1}=A^{-1}A=E$\n",
    "    \n",
    "**Ответ:** При умножении признаков на обратимую матрицу качество линейной регрессии не измениться.\n",
    "\n",
    "**Обоснование:** \n",
    "Умножим матрицу $X$ на обратимую матрицу $P$ в формуле обучения вектора весов $w$:\n",
    "$$ w' = ((XP)^T XP)^{-1} (XP)^T y$$\n",
    "Используя свойства матриц проведем преобразование:\n",
    "\n",
    "$$((XP)^T XP)^{-1} (XP)^T y =$$\n",
    "\n",
    "$$(P^TX^T XP)^{-1} P^TX^T y =$$\n",
    "    \n",
    "$$(P^T(X^T X)P)^{-1} P^TX^T y =$$\n",
    "    \n",
    "$$P^{-1} (X^T X)^{-1} (P^T)^{-1} P^TX^T y =$$\n",
    "\n",
    "$$P^{-1} (X^T X)^{-1} EX^T y =$$\n",
    "    \n",
    "$$P^{-1} (X^T X)^{-1} X^T y$$\n",
    "    \n",
    "Теперь вычислим предсказания $a'$ используя формулу $a' = XPw'$:\n",
    "\n",
    "$$XPP^{-1}(X^TX)^{-1}X^T y =$$\n",
    "\n",
    "$$XE(X^TX)^{-1}X^T y =$$\n",
    "\n",
    "$$X(X^TX)^{-1}X^T y = Xw$$\n",
    "\n",
    "**Получаем, что $a$ = $a'$, таким образом предсказания, а следовательно и качество линейной регрессии при умножении признаков на обратимую матрицу не меняется**\n"
   ]
  },
  {
   "cell_type": "markdown",
   "metadata": {},
   "source": [
    "## Алгоритм преобразования"
   ]
  },
  {
   "cell_type": "markdown",
   "metadata": {},
   "source": [
    "**Алгоритм**\n",
    "\n",
    "1. Создаем псевдослучайно квадратную матрицу \n",
    "2. Проверяем, что созданная матрица обратимая\n",
    "3. Обучаем модель, получаем метрику на необработанных данных.\n",
    "4. Умножаем сет признаков на обратимую матрицу.\n",
    "5. Обучаем модель, получаем метрику на обработанных данных.\n",
    "5. Сравниваем показатели метрики."
   ]
  },
  {
   "cell_type": "markdown",
   "metadata": {},
   "source": [
    "## Проверка алгоритма"
   ]
  },
  {
   "cell_type": "code",
   "execution_count": 5,
   "metadata": {},
   "outputs": [],
   "source": [
    "model=LinearRegression()"
   ]
  },
  {
   "cell_type": "markdown",
   "metadata": {},
   "source": [
    "### Создаем псевдослучайно квадратную матрицу"
   ]
  },
  {
   "cell_type": "code",
   "execution_count": 6,
   "metadata": {},
   "outputs": [
    {
     "name": "stdout",
     "output_type": "stream",
     "text": [
      "[[3 1 2 9]\n",
      " [6 5 2 5]\n",
      " [3 8 4 8]\n",
      " [5 7 5 6]]\n"
     ]
    }
   ],
   "source": [
    "random_matrix = np.random.randint(1,10,[features.shape[1],features.shape[1]]) #создадим псевдослучайную матрицу\n",
    "print(random_matrix)\n"
   ]
  },
  {
   "cell_type": "markdown",
   "metadata": {},
   "source": [
    "### Проверяем, что созданная матрица обратимая $P*P^{-1} = E$"
   ]
  },
  {
   "cell_type": "code",
   "execution_count": 7,
   "metadata": {},
   "outputs": [
    {
     "name": "stdout",
     "output_type": "stream",
     "text": [
      "[[ 1. -0. -0.  0.]\n",
      " [-0.  1.  0. -0.]\n",
      " [ 0.  0.  1. -0.]\n",
      " [ 0.  0.  0.  1.]]\n"
     ]
    }
   ],
   "source": [
    "inv_random_matrix = np.linalg.inv(random_matrix) \n",
    "print(np.around(inv_random_matrix@random_matrix))#учтем, что точность вычислений  не будет идеальной, округлим."
   ]
  },
  {
   "cell_type": "markdown",
   "metadata": {},
   "source": [
    "Делим признаки и таргет на учебную и тренировочную выборки"
   ]
  },
  {
   "cell_type": "code",
   "execution_count": 8,
   "metadata": {},
   "outputs": [],
   "source": [
    "features_train, features_test, target_train, target_test = train_test_split(features, target, test_size = 0.25, random_state=12345)"
   ]
  },
  {
   "cell_type": "markdown",
   "metadata": {},
   "source": [
    "### Обучаем модель, получаем метрику на необработанных данных"
   ]
  },
  {
   "cell_type": "code",
   "execution_count": 9,
   "metadata": {},
   "outputs": [
    {
     "name": "stdout",
     "output_type": "stream",
     "text": [
      "0.435227571270266\n"
     ]
    }
   ],
   "source": [
    "model.fit(features_train,target_train)\n",
    "print(model.score(features_test,target_test))# Метод score в модели линейной регрессии возвращает коэффициент детерминации (R2)"
   ]
  },
  {
   "cell_type": "markdown",
   "metadata": {},
   "source": [
    "### Умножаем сет признаков на обратимую матрицу. Обучаем модель, получаем метрику на обработанных данных."
   ]
  },
  {
   "cell_type": "code",
   "execution_count": 10,
   "metadata": {},
   "outputs": [
    {
     "name": "stdout",
     "output_type": "stream",
     "text": [
      "0.4352275712701702\n"
     ]
    }
   ],
   "source": [
    "features = features@random_matrix\n",
    "features_train, features_test, target_train, target_test  = train_test_split(features, target, test_size = 0.25, random_state=12345)\n",
    "model.fit(features_train,target_train)\n",
    "print(model.score(features_test,target_test))"
   ]
  },
  {
   "cell_type": "markdown",
   "metadata": {},
   "source": [
    "### Сравнение R2 показатели модели\n",
    "До умножения на обратимую матрицу R2 = 0.435227571270266 после умножения R2 = 0.4352275712702385. С высокой точностью они равны. "
   ]
  },
  {
   "cell_type": "markdown",
   "metadata": {},
   "source": [
    "## Вывод:\n",
    "R2 модели линейной регрессии на данных без обработки и R2 после умножения на обратимую матрицу можно считать равными, что согласуется с приведенными выше математическиим расчетами.\n",
    "Качество модели не изменяется."
   ]
  }
 ],
 "metadata": {
  "ExecuteTimeLog": [
   {
    "duration": 1085,
    "start_time": "2022-04-22T18:38:08.593Z"
   },
   {
    "duration": 30,
    "start_time": "2022-04-22T18:38:10.292Z"
   },
   {
    "duration": 26,
    "start_time": "2022-04-22T18:38:39.493Z"
   },
   {
    "duration": 24,
    "start_time": "2022-04-22T18:39:18.580Z"
   },
   {
    "duration": 1092,
    "start_time": "2022-04-23T18:07:04.259Z"
   },
   {
    "duration": 24,
    "start_time": "2022-04-23T18:07:05.353Z"
   },
   {
    "duration": 3,
    "start_time": "2022-04-23T18:07:05.378Z"
   },
   {
    "duration": 1969,
    "start_time": "2022-04-23T18:07:18.350Z"
   },
   {
    "duration": 1872,
    "start_time": "2022-04-23T18:07:24.902Z"
   },
   {
    "duration": 4,
    "start_time": "2022-04-23T18:07:34.041Z"
   },
   {
    "duration": 10,
    "start_time": "2022-04-23T18:09:39.060Z"
   },
   {
    "duration": 4,
    "start_time": "2022-04-23T18:09:56.557Z"
   },
   {
    "duration": 177,
    "start_time": "2022-04-23T18:10:41.084Z"
   },
   {
    "duration": 11,
    "start_time": "2022-04-23T18:10:55.915Z"
   },
   {
    "duration": 6,
    "start_time": "2022-04-23T18:13:36.490Z"
   },
   {
    "duration": 5,
    "start_time": "2022-04-23T18:14:23.517Z"
   },
   {
    "duration": 10,
    "start_time": "2022-04-23T18:14:47.105Z"
   },
   {
    "duration": 6,
    "start_time": "2022-04-23T18:17:14.319Z"
   },
   {
    "duration": 5,
    "start_time": "2022-04-23T18:17:25.328Z"
   },
   {
    "duration": 127,
    "start_time": "2022-04-23T18:19:57.777Z"
   },
   {
    "duration": 9,
    "start_time": "2022-04-23T18:20:14.718Z"
   },
   {
    "duration": 5,
    "start_time": "2022-04-23T18:21:18.605Z"
   },
   {
    "duration": 7,
    "start_time": "2022-04-23T18:27:42.065Z"
   },
   {
    "duration": 3,
    "start_time": "2022-04-23T18:28:06.058Z"
   },
   {
    "duration": 81,
    "start_time": "2022-04-23T18:28:07.844Z"
   },
   {
    "duration": 10,
    "start_time": "2022-04-23T18:29:01.191Z"
   },
   {
    "duration": 4,
    "start_time": "2022-04-23T18:33:00.910Z"
   },
   {
    "duration": 1081,
    "start_time": "2022-04-23T18:35:57.681Z"
   },
   {
    "duration": 25,
    "start_time": "2022-04-23T18:35:58.764Z"
   },
   {
    "duration": 4,
    "start_time": "2022-04-23T18:35:58.791Z"
   },
   {
    "duration": 29,
    "start_time": "2022-04-23T18:35:58.797Z"
   },
   {
    "duration": 15,
    "start_time": "2022-04-23T18:35:58.828Z"
   },
   {
    "duration": 5,
    "start_time": "2022-04-23T18:35:58.845Z"
   },
   {
    "duration": 8,
    "start_time": "2022-04-23T18:36:11.441Z"
   },
   {
    "duration": 11,
    "start_time": "2022-04-23T18:37:55.689Z"
   },
   {
    "duration": 4,
    "start_time": "2022-04-23T18:42:27.030Z"
   },
   {
    "duration": 4,
    "start_time": "2022-04-23T18:44:00.268Z"
   },
   {
    "duration": 3,
    "start_time": "2022-04-23T18:46:26.746Z"
   },
   {
    "duration": 5,
    "start_time": "2022-04-23T18:46:27.517Z"
   },
   {
    "duration": 2,
    "start_time": "2022-04-23T18:46:29.444Z"
   },
   {
    "duration": 3,
    "start_time": "2022-04-23T18:46:50.696Z"
   },
   {
    "duration": 4,
    "start_time": "2022-04-23T19:05:40.381Z"
   },
   {
    "duration": 6,
    "start_time": "2022-04-23T19:06:19.125Z"
   },
   {
    "duration": 1135,
    "start_time": "2022-04-24T08:56:36.418Z"
   },
   {
    "duration": 39,
    "start_time": "2022-04-24T08:56:37.556Z"
   },
   {
    "duration": 3,
    "start_time": "2022-04-24T08:56:37.597Z"
   },
   {
    "duration": 9,
    "start_time": "2022-04-24T08:56:37.602Z"
   },
   {
    "duration": 3,
    "start_time": "2022-04-24T08:56:44.172Z"
   },
   {
    "duration": 4,
    "start_time": "2022-04-24T08:56:59.244Z"
   },
   {
    "duration": 5,
    "start_time": "2022-04-24T08:57:34.064Z"
   },
   {
    "duration": 6,
    "start_time": "2022-04-24T09:20:13.246Z"
   },
   {
    "duration": 235,
    "start_time": "2022-04-24T09:21:45.707Z"
   },
   {
    "duration": 1126,
    "start_time": "2022-04-24T09:21:58.753Z"
   },
   {
    "duration": 25,
    "start_time": "2022-04-24T09:21:59.881Z"
   },
   {
    "duration": 2,
    "start_time": "2022-04-24T09:21:59.908Z"
   },
   {
    "duration": 13,
    "start_time": "2022-04-24T09:21:59.912Z"
   },
   {
    "duration": 8,
    "start_time": "2022-04-24T09:21:59.927Z"
   },
   {
    "duration": 16,
    "start_time": "2022-04-24T09:21:59.937Z"
   },
   {
    "duration": 12,
    "start_time": "2022-04-24T09:21:59.955Z"
   },
   {
    "duration": 10,
    "start_time": "2022-04-24T09:21:59.968Z"
   },
   {
    "duration": 149,
    "start_time": "2022-04-24T09:21:59.980Z"
   },
   {
    "duration": 14,
    "start_time": "2022-04-24T09:22:00.140Z"
   },
   {
    "duration": 11,
    "start_time": "2022-04-24T09:22:00.156Z"
   },
   {
    "duration": 7,
    "start_time": "2022-04-24T09:22:24.083Z"
   },
   {
    "duration": 7,
    "start_time": "2022-04-24T09:22:29.381Z"
   },
   {
    "duration": 1092,
    "start_time": "2022-04-24T09:22:41.040Z"
   },
   {
    "duration": 36,
    "start_time": "2022-04-24T09:22:42.134Z"
   },
   {
    "duration": 3,
    "start_time": "2022-04-24T09:22:42.172Z"
   },
   {
    "duration": 7,
    "start_time": "2022-04-24T09:22:42.178Z"
   },
   {
    "duration": 5,
    "start_time": "2022-04-24T09:22:42.187Z"
   },
   {
    "duration": 5,
    "start_time": "2022-04-24T09:22:42.194Z"
   },
   {
    "duration": 24,
    "start_time": "2022-04-24T09:22:42.201Z"
   },
   {
    "duration": 16,
    "start_time": "2022-04-24T09:22:42.235Z"
   },
   {
    "duration": 12,
    "start_time": "2022-04-24T09:22:42.327Z"
   },
   {
    "duration": 11,
    "start_time": "2022-04-24T09:22:42.342Z"
   },
   {
    "duration": 7,
    "start_time": "2022-04-24T09:22:42.355Z"
   },
   {
    "duration": 99,
    "start_time": "2022-04-24T09:26:06.169Z"
   },
   {
    "duration": 17,
    "start_time": "2022-04-24T09:27:24.451Z"
   },
   {
    "duration": 15,
    "start_time": "2022-04-24T09:28:10.168Z"
   },
   {
    "duration": 9,
    "start_time": "2022-04-24T09:29:06.955Z"
   },
   {
    "duration": 11,
    "start_time": "2022-04-24T09:29:16.249Z"
   },
   {
    "duration": 144,
    "start_time": "2022-04-24T09:30:06.346Z"
   },
   {
    "duration": 143,
    "start_time": "2022-04-24T09:30:12.991Z"
   },
   {
    "duration": 144,
    "start_time": "2022-04-24T09:30:22.040Z"
   },
   {
    "duration": 143,
    "start_time": "2022-04-24T09:30:47.337Z"
   },
   {
    "duration": 9,
    "start_time": "2022-04-24T09:31:05.903Z"
   },
   {
    "duration": 10,
    "start_time": "2022-04-24T09:31:19.294Z"
   },
   {
    "duration": 8,
    "start_time": "2022-04-24T09:32:01.903Z"
   },
   {
    "duration": 9,
    "start_time": "2022-04-24T09:33:12.166Z"
   },
   {
    "duration": 9,
    "start_time": "2022-04-24T09:33:41.581Z"
   },
   {
    "duration": 15,
    "start_time": "2022-04-24T09:33:55.890Z"
   },
   {
    "duration": 11,
    "start_time": "2022-04-24T09:34:33.211Z"
   },
   {
    "duration": 13,
    "start_time": "2022-04-24T09:34:51.491Z"
   },
   {
    "duration": 10,
    "start_time": "2022-04-24T09:35:13.771Z"
   },
   {
    "duration": 15,
    "start_time": "2022-04-24T09:35:24.418Z"
   },
   {
    "duration": 10,
    "start_time": "2022-04-24T09:35:29.302Z"
   },
   {
    "duration": 11,
    "start_time": "2022-04-24T09:35:35.710Z"
   },
   {
    "duration": 10,
    "start_time": "2022-04-24T09:35:47.600Z"
   },
   {
    "duration": 15,
    "start_time": "2022-04-24T09:36:03.047Z"
   },
   {
    "duration": 11,
    "start_time": "2022-04-24T09:36:15.680Z"
   },
   {
    "duration": 14,
    "start_time": "2022-04-24T09:36:46.578Z"
   },
   {
    "duration": 13,
    "start_time": "2022-04-24T09:37:10.068Z"
   },
   {
    "duration": 13,
    "start_time": "2022-04-24T09:37:14.394Z"
   },
   {
    "duration": 23,
    "start_time": "2022-04-24T09:37:16.132Z"
   },
   {
    "duration": 10,
    "start_time": "2022-04-24T09:37:17.760Z"
   },
   {
    "duration": 9,
    "start_time": "2022-04-24T09:37:38.374Z"
   },
   {
    "duration": 11,
    "start_time": "2022-04-24T09:37:46.672Z"
   },
   {
    "duration": 9,
    "start_time": "2022-04-24T09:37:53.789Z"
   },
   {
    "duration": 1080,
    "start_time": "2022-04-24T09:40:43.228Z"
   },
   {
    "duration": 46,
    "start_time": "2022-04-24T09:40:44.309Z"
   },
   {
    "duration": 3,
    "start_time": "2022-04-24T09:40:44.357Z"
   },
   {
    "duration": 6,
    "start_time": "2022-04-24T09:40:44.361Z"
   },
   {
    "duration": 5,
    "start_time": "2022-04-24T09:40:44.369Z"
   },
   {
    "duration": 5,
    "start_time": "2022-04-24T09:40:44.375Z"
   },
   {
    "duration": 5,
    "start_time": "2022-04-24T09:40:44.382Z"
   },
   {
    "duration": 7,
    "start_time": "2022-04-24T09:40:44.423Z"
   },
   {
    "duration": 91,
    "start_time": "2022-04-24T09:40:44.433Z"
   },
   {
    "duration": 18,
    "start_time": "2022-04-24T09:40:44.528Z"
   }
  ],
  "kernelspec": {
   "display_name": "Python 3 (ipykernel)",
   "language": "python",
   "name": "python3"
  },
  "language_info": {
   "codemirror_mode": {
    "name": "ipython",
    "version": 3
   },
   "file_extension": ".py",
   "mimetype": "text/x-python",
   "name": "python",
   "nbconvert_exporter": "python",
   "pygments_lexer": "ipython3",
   "version": "3.9.13"
  },
  "toc": {
   "base_numbering": 1,
   "nav_menu": {},
   "number_sections": true,
   "sideBar": true,
   "skip_h1_title": true,
   "title_cell": "Содержание",
   "title_sidebar": "Contents",
   "toc_cell": true,
   "toc_position": {},
   "toc_section_display": true,
   "toc_window_display": true
  }
 },
 "nbformat": 4,
 "nbformat_minor": 2
}
