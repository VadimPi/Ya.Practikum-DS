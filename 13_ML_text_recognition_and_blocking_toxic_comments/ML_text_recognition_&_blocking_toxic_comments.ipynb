{
 "cells": [
  {
   "cell_type": "markdown",
   "metadata": {
    "toc": true
   },
   "source": [
    "<h1>Содержание<span class=\"tocSkip\"></span></h1>\n",
    "<div class=\"toc\"><ul class=\"toc-item\"><li><span><a href=\"#Подготовка\" data-toc-modified-id=\"Подготовка-1\"><span class=\"toc-item-num\">1&nbsp;&nbsp;</span>Подготовка</a></span></li><li><span><a href=\"#Обучение\" data-toc-modified-id=\"Обучение-2\"><span class=\"toc-item-num\">2&nbsp;&nbsp;</span>Обучение</a></span><ul class=\"toc-item\"><li><span><a href=\"#LogisticRegression\" data-toc-modified-id=\"LogisticRegression-2.1\"><span class=\"toc-item-num\">2.1&nbsp;&nbsp;</span>LogisticRegression</a></span></li><li><span><a href=\"#Тестирование-лучшей-модели\" data-toc-modified-id=\"Тестирование-лучшей-модели-2.2\"><span class=\"toc-item-num\">2.2&nbsp;&nbsp;</span>Тестирование лучшей модели</a></span></li></ul></li><li><span><a href=\"#Выводы\" data-toc-modified-id=\"Выводы-3\"><span class=\"toc-item-num\">3&nbsp;&nbsp;</span>Выводы</a></span></li><li><span><a href=\"#Чек-лист-проверки\" data-toc-modified-id=\"Чек-лист-проверки-4\"><span class=\"toc-item-num\">4&nbsp;&nbsp;</span>Чек-лист проверки</a></span></li></ul></div>"
   ]
  },
  {
   "cell_type": "markdown",
   "metadata": {},
   "source": [
    "# Проект для «Викишоп»"
   ]
  },
  {
   "cell_type": "markdown",
   "metadata": {},
   "source": [
    "Интернет-магазин «Викишоп» запускает новый сервис. Теперь пользователи могут редактировать и дополнять описания товаров, как в вики-сообществах. То есть клиенты предлагают свои правки и комментируют изменения других. Магазину нужен инструмент, который будет искать токсичные комментарии и отправлять их на модерацию. \n",
    "\n",
    "Обучите модель классифицировать комментарии на позитивные и негативные. В вашем распоряжении набор данных с разметкой о токсичности правок.\n",
    "\n",
    "Постройте модель со значением метрики качества *F1* не меньше 0.75. \n",
    "\n",
    "**Описание данных**\n",
    "\n",
    "Данные находятся в файле `toxic_comments.csv`. Столбец *text* в нём содержит текст комментария, а *toxic* — целевой признак."
   ]
  },
  {
   "cell_type": "markdown",
   "metadata": {},
   "source": [
    "## Подготовка"
   ]
  },
  {
   "cell_type": "code",
   "execution_count": 1,
   "metadata": {},
   "outputs": [
    {
     "name": "stdout",
     "output_type": "stream",
     "text": [
      "Defaulting to user installation because normal site-packages is not writeable\n",
      "Collecting optuna\n",
      "  Downloading optuna-3.0.3-py3-none-any.whl (348 kB)\n",
      "     -------------------------------------- 348.5/348.5 kB 1.4 MB/s eta 0:00:00\n",
      "Collecting colorlog\n",
      "  Downloading colorlog-6.7.0-py2.py3-none-any.whl (11 kB)\n",
      "Requirement already satisfied: sqlalchemy>=1.3.0 in c:\\programdata\\anaconda3\\lib\\site-packages (from optuna) (1.4.39)\n",
      "Collecting scipy<1.9.0,>=1.7.0\n",
      "  Downloading scipy-1.8.1-cp39-cp39-win_amd64.whl (36.9 MB)\n",
      "     ---------------------------------------- 36.9/36.9 MB 7.7 MB/s eta 0:00:00\n",
      "Collecting alembic>=1.5.0\n",
      "  Downloading alembic-1.8.1-py3-none-any.whl (209 kB)\n",
      "     -------------------------------------- 209.8/209.8 kB 6.4 MB/s eta 0:00:00\n",
      "Collecting cmaes>=0.8.2\n",
      "  Downloading cmaes-0.8.2-py3-none-any.whl (15 kB)\n",
      "Requirement already satisfied: numpy in c:\\programdata\\anaconda3\\lib\\site-packages (from optuna) (1.21.5)\n",
      "Requirement already satisfied: PyYAML in c:\\programdata\\anaconda3\\lib\\site-packages (from optuna) (6.0)\n",
      "Requirement already satisfied: importlib-metadata<5.0.0 in c:\\programdata\\anaconda3\\lib\\site-packages (from optuna) (4.11.3)\n",
      "Requirement already satisfied: packaging>=20.0 in c:\\programdata\\anaconda3\\lib\\site-packages (from optuna) (21.3)\n",
      "Requirement already satisfied: tqdm in c:\\programdata\\anaconda3\\lib\\site-packages (from optuna) (4.64.1)\n",
      "Collecting cliff\n",
      "  Downloading cliff-4.0.0-py3-none-any.whl (80 kB)\n",
      "     ---------------------------------------- 81.0/81.0 kB 4.7 MB/s eta 0:00:00\n",
      "Collecting Mako\n",
      "  Downloading Mako-1.2.3-py3-none-any.whl (78 kB)\n",
      "     ---------------------------------------- 78.7/78.7 kB 4.3 MB/s eta 0:00:00\n",
      "Requirement already satisfied: zipp>=0.5 in c:\\programdata\\anaconda3\\lib\\site-packages (from importlib-metadata<5.0.0->optuna) (3.8.0)\n",
      "Requirement already satisfied: pyparsing!=3.0.5,>=2.0.2 in c:\\programdata\\anaconda3\\lib\\site-packages (from packaging>=20.0->optuna) (3.0.9)\n",
      "Requirement already satisfied: greenlet!=0.4.17 in c:\\programdata\\anaconda3\\lib\\site-packages (from sqlalchemy>=1.3.0->optuna) (1.1.1)\n",
      "Collecting autopage>=0.4.0\n",
      "  Downloading autopage-0.5.1-py3-none-any.whl (29 kB)\n",
      "Collecting stevedore>=2.0.1\n",
      "  Downloading stevedore-4.1.0-py3-none-any.whl (50 kB)\n",
      "     ---------------------------------------- 50.0/50.0 kB ? eta 0:00:00\n",
      "Collecting PrettyTable>=0.7.2\n",
      "  Downloading prettytable-3.4.1-py3-none-any.whl (26 kB)\n",
      "Collecting cmd2>=1.0.0\n",
      "  Downloading cmd2-2.4.2-py3-none-any.whl (147 kB)\n",
      "     -------------------------------------- 147.1/147.1 kB 8.6 MB/s eta 0:00:00\n",
      "Requirement already satisfied: colorama in c:\\programdata\\anaconda3\\lib\\site-packages (from colorlog->optuna) (0.4.5)\n",
      "Collecting pyperclip>=1.6\n",
      "  Downloading pyperclip-1.8.2.tar.gz (20 kB)\n",
      "  Preparing metadata (setup.py): started\n",
      "  Preparing metadata (setup.py): finished with status 'done'\n",
      "Requirement already satisfied: attrs>=16.3.0 in c:\\programdata\\anaconda3\\lib\\site-packages (from cmd2>=1.0.0->cliff->optuna) (21.4.0)\n",
      "Collecting pyreadline3\n",
      "  Downloading pyreadline3-3.4.1-py3-none-any.whl (95 kB)\n",
      "     ---------------------------------------- 95.2/95.2 kB 5.7 MB/s eta 0:00:00\n",
      "Requirement already satisfied: wcwidth>=0.1.7 in c:\\programdata\\anaconda3\\lib\\site-packages (from cmd2>=1.0.0->cliff->optuna) (0.2.5)\n",
      "Collecting pbr!=2.1.0,>=2.0.0\n",
      "  Downloading pbr-5.11.0-py2.py3-none-any.whl (112 kB)\n",
      "     -------------------------------------- 112.6/112.6 kB 6.4 MB/s eta 0:00:00\n",
      "Requirement already satisfied: MarkupSafe>=0.9.2 in c:\\programdata\\anaconda3\\lib\\site-packages (from Mako->alembic>=1.5.0->optuna) (2.0.1)\n",
      "Building wheels for collected packages: pyperclip\n",
      "  Building wheel for pyperclip (setup.py): started\n",
      "  Building wheel for pyperclip (setup.py): finished with status 'done'\n",
      "  Created wheel for pyperclip: filename=pyperclip-1.8.2-py3-none-any.whl size=11123 sha256=a4765e9ef9651121931e0b5e1123c33930ab7a41a1feb3622e408a4c8e9b1f6e\n",
      "  Stored in directory: c:\\users\\elitebook\\appdata\\local\\pip\\cache\\wheels\\0c\\09\\9e\\49e21a6840ef7955b06d47394afef0058f0378c0914e48b8b8\n",
      "Successfully built pyperclip\n",
      "Installing collected packages: pyreadline3, pyperclip, scipy, PrettyTable, pbr, Mako, colorlog, cmd2, cmaes, autopage, stevedore, alembic, cliff, optuna\n",
      "Successfully installed Mako-1.2.3 PrettyTable-3.4.1 alembic-1.8.1 autopage-0.5.1 cliff-4.0.0 cmaes-0.8.2 cmd2-2.4.2 colorlog-6.7.0 optuna-3.0.3 pbr-5.11.0 pyperclip-1.8.2 pyreadline3-3.4.1 scipy-1.8.1 stevedore-4.1.0\n"
     ]
    },
    {
     "name": "stderr",
     "output_type": "stream",
     "text": [
      "  WARNING: The script pbr.exe is installed in 'C:\\Users\\EliteBook\\AppData\\Roaming\\Python\\Python39\\Scripts' which is not on PATH.\n",
      "  Consider adding this directory to PATH or, if you prefer to suppress this warning, use --no-warn-script-location.\n",
      "  WARNING: The script mako-render.exe is installed in 'C:\\Users\\EliteBook\\AppData\\Roaming\\Python\\Python39\\Scripts' which is not on PATH.\n",
      "  Consider adding this directory to PATH or, if you prefer to suppress this warning, use --no-warn-script-location.\n",
      "  WARNING: The script alembic.exe is installed in 'C:\\Users\\EliteBook\\AppData\\Roaming\\Python\\Python39\\Scripts' which is not on PATH.\n",
      "  Consider adding this directory to PATH or, if you prefer to suppress this warning, use --no-warn-script-location.\n",
      "  WARNING: The script optuna.exe is installed in 'C:\\Users\\EliteBook\\AppData\\Roaming\\Python\\Python39\\Scripts' which is not on PATH.\n",
      "  Consider adding this directory to PATH or, if you prefer to suppress this warning, use --no-warn-script-location.\n"
     ]
    }
   ],
   "source": [
    "!pip install optuna"
   ]
  },
  {
   "cell_type": "code",
   "execution_count": 19,
   "metadata": {
    "scrolled": true
   },
   "outputs": [
    {
     "name": "stderr",
     "output_type": "stream",
     "text": [
      "[nltk_data] Downloading package wordnet to C:\\Users\\Вадим и\n",
      "[nltk_data]     Света\\AppData\\Roaming\\nltk_data...\n",
      "[nltk_data]   Package wordnet is already up-to-date!\n",
      "[nltk_data] Downloading package averaged_perceptron_tagger to\n",
      "[nltk_data]     C:\\Users\\Вадим и Света\\AppData\\Roaming\\nltk_data...\n",
      "[nltk_data]   Package averaged_perceptron_tagger is already up-to-\n",
      "[nltk_data]       date!\n"
     ]
    }
   ],
   "source": [
    "#Импорты модулей\n",
    "import pandas as pd\n",
    "\n",
    "import lightgbm as lgb\n",
    "\n",
    "import nltk\n",
    "from nltk.corpus import stopwords as nltk_stopwords\n",
    "from nltk.corpus import wordnet\n",
    "from nltk.stem import WordNetLemmatizer\n",
    "from nltk.tokenize import word_tokenize\n",
    "nltk.download('wordnet')\n",
    "nltk.download('averaged_perceptron_tagger')\n",
    "\n",
    "import optuna\n",
    "\n",
    "import re\n",
    "\n",
    "from sklearn.ensemble import RandomForestClassifier\n",
    "from sklearn.feature_extraction.text import TfidfVectorizer\n",
    "from sklearn.feature_selection import SelectKBest, chi2\n",
    "from sklearn.linear_model import LogisticRegression, SGDClassifier\n",
    "from sklearn.metrics import confusion_matrix\n",
    "from sklearn.model_selection import cross_val_score,train_test_split\n",
    "from sklearn.pipeline import Pipeline, make_pipeline\n",
    "from sklearn.svm import LinearSVC\n",
    "\n",
    "SEED = 7777"
   ]
  },
  {
   "cell_type": "code",
   "execution_count": 3,
   "metadata": {},
   "outputs": [
    {
     "data": {
      "text/html": [
       "<div>\n",
       "<style scoped>\n",
       "    .dataframe tbody tr th:only-of-type {\n",
       "        vertical-align: middle;\n",
       "    }\n",
       "\n",
       "    .dataframe tbody tr th {\n",
       "        vertical-align: top;\n",
       "    }\n",
       "\n",
       "    .dataframe thead th {\n",
       "        text-align: right;\n",
       "    }\n",
       "</style>\n",
       "<table border=\"1\" class=\"dataframe\">\n",
       "  <thead>\n",
       "    <tr style=\"text-align: right;\">\n",
       "      <th></th>\n",
       "      <th>text</th>\n",
       "      <th>toxic</th>\n",
       "    </tr>\n",
       "  </thead>\n",
       "  <tbody>\n",
       "    <tr>\n",
       "      <th>0</th>\n",
       "      <td>Explanation\\nWhy the edits made under my usern...</td>\n",
       "      <td>0</td>\n",
       "    </tr>\n",
       "    <tr>\n",
       "      <th>1</th>\n",
       "      <td>D'aww! He matches this background colour I'm s...</td>\n",
       "      <td>0</td>\n",
       "    </tr>\n",
       "    <tr>\n",
       "      <th>2</th>\n",
       "      <td>Hey man, I'm really not trying to edit war. It...</td>\n",
       "      <td>0</td>\n",
       "    </tr>\n",
       "    <tr>\n",
       "      <th>3</th>\n",
       "      <td>\"\\nMore\\nI can't make any real suggestions on ...</td>\n",
       "      <td>0</td>\n",
       "    </tr>\n",
       "    <tr>\n",
       "      <th>4</th>\n",
       "      <td>You, sir, are my hero. Any chance you remember...</td>\n",
       "      <td>0</td>\n",
       "    </tr>\n",
       "    <tr>\n",
       "      <th>...</th>\n",
       "      <td>...</td>\n",
       "      <td>...</td>\n",
       "    </tr>\n",
       "    <tr>\n",
       "      <th>159566</th>\n",
       "      <td>\":::::And for the second time of asking, when ...</td>\n",
       "      <td>0</td>\n",
       "    </tr>\n",
       "    <tr>\n",
       "      <th>159567</th>\n",
       "      <td>You should be ashamed of yourself \\n\\nThat is ...</td>\n",
       "      <td>0</td>\n",
       "    </tr>\n",
       "    <tr>\n",
       "      <th>159568</th>\n",
       "      <td>Spitzer \\n\\nUmm, theres no actual article for ...</td>\n",
       "      <td>0</td>\n",
       "    </tr>\n",
       "    <tr>\n",
       "      <th>159569</th>\n",
       "      <td>And it looks like it was actually you who put ...</td>\n",
       "      <td>0</td>\n",
       "    </tr>\n",
       "    <tr>\n",
       "      <th>159570</th>\n",
       "      <td>\"\\nAnd ... I really don't think you understand...</td>\n",
       "      <td>0</td>\n",
       "    </tr>\n",
       "  </tbody>\n",
       "</table>\n",
       "<p>159571 rows × 2 columns</p>\n",
       "</div>"
      ],
      "text/plain": [
       "                                                     text  toxic\n",
       "0       Explanation\\nWhy the edits made under my usern...      0\n",
       "1       D'aww! He matches this background colour I'm s...      0\n",
       "2       Hey man, I'm really not trying to edit war. It...      0\n",
       "3       \"\\nMore\\nI can't make any real suggestions on ...      0\n",
       "4       You, sir, are my hero. Any chance you remember...      0\n",
       "...                                                   ...    ...\n",
       "159566  \":::::And for the second time of asking, when ...      0\n",
       "159567  You should be ashamed of yourself \\n\\nThat is ...      0\n",
       "159568  Spitzer \\n\\nUmm, theres no actual article for ...      0\n",
       "159569  And it looks like it was actually you who put ...      0\n",
       "159570  \"\\nAnd ... I really don't think you understand...      0\n",
       "\n",
       "[159571 rows x 2 columns]"
      ]
     },
     "execution_count": 3,
     "metadata": {},
     "output_type": "execute_result"
    }
   ],
   "source": [
    "try:\n",
    "    data = pd.read_csv('/datasets/toxic_comments.csv')\n",
    "except:\n",
    "    data = pd.read_csv(r'C:\\Users\\Вадим и Света\\Downloads\\toxic_comments.csv')\n",
    "\n",
    "data"
   ]
  },
  {
   "cell_type": "code",
   "execution_count": 4,
   "metadata": {},
   "outputs": [],
   "source": [
    "wnl = WordNetLemmatizer()\n",
    "\n",
    "#Функция возврата тега слова\n",
    "def get_wordnet_pos(word):\n",
    "\n",
    "    tag = nltk.pos_tag([word])[0][1][0].upper()\n",
    "    tag_dict = {\"J\": wordnet.ADJ,\n",
    "                \"N\": wordnet.NOUN,\n",
    "                \"V\": wordnet.VERB,\n",
    "                \"R\": wordnet.ADV}\n",
    "\n",
    "    return tag_dict.get(tag, wordnet.NOUN)\n",
    "\n",
    "corpus = data['text'].values.astype('U')\n",
    "corpus = pd.Series([re.sub(r'[^a-zA-Z0-9]', ' ', corpus[i]) for i in range(data.shape[0])]) #очистка текста\n",
    "\n",
    "sentences=[]\n",
    "\n",
    "#Цикл лемматизации слов и удаления пробелов\n",
    "#for sentence in corpus: \n",
    "#    sentence_list = [wnl.lemmatize(w, get_wordnet_pos(w)) for w in nltk.word_tokenize(sentence)]\n",
    "#    sentences.append(sentence_list)\n",
    "    \n",
    "#data['lemm_text'] = pd.Series(sentences).apply(lambda x:\" \".join(x))"
   ]
  },
  {
   "cell_type": "code",
   "execution_count": 5,
   "metadata": {},
   "outputs": [],
   "source": [
    "#Файл с лемматизированными словами выгрузил, чтобы не возвращаться к данной операции\n",
    "#data.to_csv('data_with_lemma.csv', index=False)"
   ]
  },
  {
   "cell_type": "code",
   "execution_count": 6,
   "metadata": {},
   "outputs": [
    {
     "data": {
      "text/html": [
       "<div>\n",
       "<style scoped>\n",
       "    .dataframe tbody tr th:only-of-type {\n",
       "        vertical-align: middle;\n",
       "    }\n",
       "\n",
       "    .dataframe tbody tr th {\n",
       "        vertical-align: top;\n",
       "    }\n",
       "\n",
       "    .dataframe thead th {\n",
       "        text-align: right;\n",
       "    }\n",
       "</style>\n",
       "<table border=\"1\" class=\"dataframe\">\n",
       "  <thead>\n",
       "    <tr style=\"text-align: right;\">\n",
       "      <th></th>\n",
       "      <th>text</th>\n",
       "      <th>toxic</th>\n",
       "      <th>lemm_text</th>\n",
       "    </tr>\n",
       "  </thead>\n",
       "  <tbody>\n",
       "    <tr>\n",
       "      <th>0</th>\n",
       "      <td>Explanation\\nWhy the edits made under my usern...</td>\n",
       "      <td>0</td>\n",
       "      <td>Explanation Why the edits make under my userna...</td>\n",
       "    </tr>\n",
       "    <tr>\n",
       "      <th>1</th>\n",
       "      <td>D'aww! He matches this background colour I'm s...</td>\n",
       "      <td>0</td>\n",
       "      <td>D aww He match this background colour I m seem...</td>\n",
       "    </tr>\n",
       "    <tr>\n",
       "      <th>2</th>\n",
       "      <td>Hey man, I'm really not trying to edit war. It...</td>\n",
       "      <td>0</td>\n",
       "      <td>Hey man I m really not try to edit war It s ju...</td>\n",
       "    </tr>\n",
       "    <tr>\n",
       "      <th>3</th>\n",
       "      <td>\"\\nMore\\nI can't make any real suggestions on ...</td>\n",
       "      <td>0</td>\n",
       "      <td>More I can t make any real suggestion on impro...</td>\n",
       "    </tr>\n",
       "    <tr>\n",
       "      <th>4</th>\n",
       "      <td>You, sir, are my hero. Any chance you remember...</td>\n",
       "      <td>0</td>\n",
       "      <td>You sir be my hero Any chance you remember wha...</td>\n",
       "    </tr>\n",
       "    <tr>\n",
       "      <th>...</th>\n",
       "      <td>...</td>\n",
       "      <td>...</td>\n",
       "      <td>...</td>\n",
       "    </tr>\n",
       "    <tr>\n",
       "      <th>159566</th>\n",
       "      <td>\":::::And for the second time of asking, when ...</td>\n",
       "      <td>0</td>\n",
       "      <td>And for the second time of ask when your view ...</td>\n",
       "    </tr>\n",
       "    <tr>\n",
       "      <th>159567</th>\n",
       "      <td>You should be ashamed of yourself \\n\\nThat is ...</td>\n",
       "      <td>0</td>\n",
       "      <td>You should be ashamed of yourself That be a ho...</td>\n",
       "    </tr>\n",
       "    <tr>\n",
       "      <th>159568</th>\n",
       "      <td>Spitzer \\n\\nUmm, theres no actual article for ...</td>\n",
       "      <td>0</td>\n",
       "      <td>Spitzer Umm there no actual article for prosti...</td>\n",
       "    </tr>\n",
       "    <tr>\n",
       "      <th>159569</th>\n",
       "      <td>And it looks like it was actually you who put ...</td>\n",
       "      <td>0</td>\n",
       "      <td>And it look like it be actually you who put on...</td>\n",
       "    </tr>\n",
       "    <tr>\n",
       "      <th>159570</th>\n",
       "      <td>\"\\nAnd ... I really don't think you understand...</td>\n",
       "      <td>0</td>\n",
       "      <td>And I really don t think you understand I come...</td>\n",
       "    </tr>\n",
       "  </tbody>\n",
       "</table>\n",
       "<p>159571 rows × 3 columns</p>\n",
       "</div>"
      ],
      "text/plain": [
       "                                                     text  toxic  \\\n",
       "0       Explanation\\nWhy the edits made under my usern...      0   \n",
       "1       D'aww! He matches this background colour I'm s...      0   \n",
       "2       Hey man, I'm really not trying to edit war. It...      0   \n",
       "3       \"\\nMore\\nI can't make any real suggestions on ...      0   \n",
       "4       You, sir, are my hero. Any chance you remember...      0   \n",
       "...                                                   ...    ...   \n",
       "159566  \":::::And for the second time of asking, when ...      0   \n",
       "159567  You should be ashamed of yourself \\n\\nThat is ...      0   \n",
       "159568  Spitzer \\n\\nUmm, theres no actual article for ...      0   \n",
       "159569  And it looks like it was actually you who put ...      0   \n",
       "159570  \"\\nAnd ... I really don't think you understand...      0   \n",
       "\n",
       "                                                lemm_text  \n",
       "0       Explanation Why the edits make under my userna...  \n",
       "1       D aww He match this background colour I m seem...  \n",
       "2       Hey man I m really not try to edit war It s ju...  \n",
       "3       More I can t make any real suggestion on impro...  \n",
       "4       You sir be my hero Any chance you remember wha...  \n",
       "...                                                   ...  \n",
       "159566  And for the second time of ask when your view ...  \n",
       "159567  You should be ashamed of yourself That be a ho...  \n",
       "159568  Spitzer Umm there no actual article for prosti...  \n",
       "159569  And it look like it be actually you who put on...  \n",
       "159570  And I really don t think you understand I come...  \n",
       "\n",
       "[159571 rows x 3 columns]"
      ]
     },
     "execution_count": 6,
     "metadata": {},
     "output_type": "execute_result"
    }
   ],
   "source": [
    "#Загрузка файла с лемматизированным текстом по пункту выше\n",
    "try:\n",
    "    data = pd.read_csv('data_with_lemma.csv')\n",
    "except:\n",
    "    data = pd.read_csv(r'C:\\Users\\Вадим и Света\\Downloads\\data_with_lemma.csv')\n",
    "\n",
    "data"
   ]
  },
  {
   "cell_type": "code",
   "execution_count": 7,
   "metadata": {},
   "outputs": [],
   "source": [
    "#стопслова\n",
    "stopwords = set(nltk_stopwords.words('english'))"
   ]
  },
  {
   "cell_type": "markdown",
   "metadata": {},
   "source": [
    "## Обучение"
   ]
  },
  {
   "cell_type": "code",
   "execution_count": 8,
   "metadata": {},
   "outputs": [],
   "source": [
    "features = data['lemm_text']\n",
    "target = data['toxic']"
   ]
  },
  {
   "cell_type": "code",
   "execution_count": 9,
   "metadata": {},
   "outputs": [],
   "source": [
    "#Разделение на трейн и тест, валидационной выборки делать не буду, применим кросс-валидацию\n",
    "X_train, X_test, y_train, y_test = train_test_split(features, target, test_size=0.25, random_state=SEED) "
   ]
  },
  {
   "cell_type": "code",
   "execution_count": 10,
   "metadata": {},
   "outputs": [
    {
     "name": "stdout",
     "output_type": "stream",
     "text": [
      "(119678, 145527) (39893, 145527)\n"
     ]
    }
   ],
   "source": [
    "# перевод выборок текста в Tf-idf векторную матрицу\n",
    "count_tf_idf = TfidfVectorizer(stop_words=stopwords, sublinear_tf=True)\n",
    "X_train = count_tf_idf.fit_transform(X_train) #Обучение и трансформация на трейне\n",
    "X_test = count_tf_idf.transform(X_test) # Трансформация тестовой части на обученной в предыдущем пункте модели векторизации\n",
    "print(X_train.shape, X_test.shape)"
   ]
  },
  {
   "cell_type": "markdown",
   "metadata": {},
   "source": [
    "### LogisticRegression"
   ]
  },
  {
   "cell_type": "code",
   "execution_count": 11,
   "metadata": {},
   "outputs": [
    {
     "name": "stdout",
     "output_type": "stream",
     "text": [
      "Метрика F1 на моедли LogisticRegression 0.7440708330865068\n"
     ]
    }
   ],
   "source": [
    "# Создаем Pipeline с предварительным выбором по матрице наиболее влияющих на предсказания признаков\n",
    "pipeline = make_pipeline(SelectKBest(chi2, k=25000),\n",
    "                         LogisticRegression(C=1.05, random_state=SEED, class_weight='balanced', solver='saga', max_iter=400))\n",
    "result = cross_val_score(pipeline,\n",
    "                        X_train, y_train,\n",
    "                        scoring='f1',\n",
    "                        cv=3, n_jobs=-1,\n",
    "                       ).mean()\n",
    "print(f'Метрика F1 на моедли LogisticRegression {result}')"
   ]
  },
  {
   "cell_type": "code",
   "execution_count": 12,
   "metadata": {
    "scrolled": false
   },
   "outputs": [
    {
     "name": "stdout",
     "output_type": "stream",
     "text": [
      "Метрика F1 на моедли LinearSVC 0.7778726350844355\n"
     ]
    }
   ],
   "source": [
    "pipeline_svc = make_pipeline(SelectKBest(chi2, k=30000),\n",
    "                         LinearSVC(C=0.8, random_state=SEED, class_weight={0:0.2,1:0.8}, max_iter=400))\n",
    "result = cross_val_score(pipeline_svc,\n",
    "                        X_train, y_train,\n",
    "                        scoring='f1',\n",
    "                        cv=3, n_jobs=-1,\n",
    "                       ).mean()\n",
    "print(f'Метрика F1 на моедли LinearSVC {result}')"
   ]
  },
  {
   "cell_type": "markdown",
   "metadata": {},
   "source": [
    "Из всех рссматриваемых моделей LinearSVC наиболее точная"
   ]
  },
  {
   "cell_type": "code",
   "execution_count": 21,
   "metadata": {},
   "outputs": [],
   "source": [
    "def objective(trial, data=X_train, target=y_train):\n",
    "    params = {\n",
    "        'max_depth': trial.suggest_int('max_depth',-1, 25),\n",
    "        'num_leaves': trial.suggest_int('num_leaves', 30, 129, 3),\n",
    "        'learning_rate': trial.suggest_categorical('learning_rate', \n",
    "                                                   [0.005,0.006,0.008,0.01,0.015,0.02,0.03]),\n",
    "        'reg_alpha': trial.suggest_loguniform('reg_alpha', 1e-3, 10.0),\n",
    "        'reg_lambda': trial.suggest_loguniform('reg_lambda', 1e-3, 10.0),\n",
    "    }\n",
    "\n",
    "    pipeline = make_pipeline(SelectKBest(chi2, k=2000),\n",
    "                       lgb.LGBMClassifier(**params, random_state = SEED, n_jobs=-1,class_weight='balanced', n_estimators=20))\n",
    "    score = cross_val_score(pipeline,\n",
    "                             data, target,\n",
    "                             scoring='f1',\n",
    "                             cv=3, n_jobs=-1\n",
    "                            ).mean()\n",
    "    return score\n"
   ]
  },
  {
   "cell_type": "code",
   "execution_count": 22,
   "metadata": {
    "scrolled": false
   },
   "outputs": [
    {
     "name": "stderr",
     "output_type": "stream",
     "text": [
      "\u001b[32m[I 2022-05-28 00:47:09,790]\u001b[0m A new study created in memory with name: no-name-cc899319-3299-470b-869e-0e0c101a8689\u001b[0m\n",
      "\u001b[32m[I 2022-05-28 00:47:14,037]\u001b[0m Trial 0 finished with value: 0.643888079632378 and parameters: {'max_depth': 24, 'num_leaves': 60, 'learning_rate': 0.02, 'reg_alpha': 0.7991943785534944, 'reg_lambda': 0.013588009832317609}. Best is trial 0 with value: 0.643888079632378.\u001b[0m\n",
      "\u001b[32m[I 2022-05-28 00:47:16,179]\u001b[0m Trial 1 finished with value: 0.3611906178771045 and parameters: {'max_depth': 1, 'num_leaves': 96, 'learning_rate': 0.015, 'reg_alpha': 0.005143167527303353, 'reg_lambda': 0.6021200913829953}. Best is trial 0 with value: 0.643888079632378.\u001b[0m\n",
      "\u001b[32m[I 2022-05-28 00:47:18,693]\u001b[0m Trial 2 finished with value: 0.548684667265895 and parameters: {'max_depth': 6, 'num_leaves': 81, 'learning_rate': 0.02, 'reg_alpha': 5.5958319178695515, 'reg_lambda': 0.010660605282743853}. Best is trial 0 with value: 0.643888079632378.\u001b[0m\n",
      "\u001b[32m[I 2022-05-28 00:47:21,606]\u001b[0m Trial 3 finished with value: 0.5887707081172641 and parameters: {'max_depth': 12, 'num_leaves': 78, 'learning_rate': 0.01, 'reg_alpha': 1.4293050999329644, 'reg_lambda': 5.701809865991949}. Best is trial 0 with value: 0.643888079632378.\u001b[0m\n",
      "\u001b[32m[I 2022-05-28 00:47:25,716]\u001b[0m Trial 4 finished with value: 0.6200758955953242 and parameters: {'max_depth': 25, 'num_leaves': 87, 'learning_rate': 0.006, 'reg_alpha': 0.6722601010728761, 'reg_lambda': 0.7156475938431005}. Best is trial 0 with value: 0.643888079632378.\u001b[0m\n",
      "\u001b[32m[I 2022-05-28 00:47:30,311]\u001b[0m Trial 5 finished with value: 0.6237269808443323 and parameters: {'max_depth': 24, 'num_leaves': 123, 'learning_rate': 0.008, 'reg_alpha': 0.0035772981135449205, 'reg_lambda': 0.3970551298817518}. Best is trial 0 with value: 0.643888079632378.\u001b[0m\n",
      "\u001b[32m[I 2022-05-28 00:47:33,594]\u001b[0m Trial 6 finished with value: 0.610168001537381 and parameters: {'max_depth': 21, 'num_leaves': 63, 'learning_rate': 0.006, 'reg_alpha': 0.011550577989669209, 'reg_lambda': 0.2978099647015565}. Best is trial 0 with value: 0.643888079632378.\u001b[0m\n",
      "\u001b[32m[I 2022-05-28 00:47:36,465]\u001b[0m Trial 7 finished with value: 0.6108555308343906 and parameters: {'max_depth': 16, 'num_leaves': 54, 'learning_rate': 0.015, 'reg_alpha': 0.2299506878055929, 'reg_lambda': 0.04268547435220621}. Best is trial 0 with value: 0.643888079632378.\u001b[0m\n",
      "\u001b[32m[I 2022-05-28 00:47:38,029]\u001b[0m Trial 8 finished with value: 0.4824571877967543 and parameters: {'max_depth': 3, 'num_leaves': 126, 'learning_rate': 0.008, 'reg_alpha': 0.0015327253002072221, 'reg_lambda': 0.3648594011095302}. Best is trial 0 with value: 0.643888079632378.\u001b[0m\n",
      "\u001b[32m[I 2022-05-28 00:47:39,905]\u001b[0m Trial 9 finished with value: 0.5708901457660295 and parameters: {'max_depth': 6, 'num_leaves': 36, 'learning_rate': 0.03, 'reg_alpha': 0.006466913048316646, 'reg_lambda': 0.001700427488439073}. Best is trial 0 with value: 0.643888079632378.\u001b[0m\n",
      "\u001b[32m[I 2022-05-28 00:47:42,353]\u001b[0m Trial 10 finished with value: 0.6202122574277119 and parameters: {'max_depth': 17, 'num_leaves': 30, 'learning_rate': 0.02, 'reg_alpha': 0.047017157506675074, 'reg_lambda': 0.0020160009150559347}. Best is trial 0 with value: 0.643888079632378.\u001b[0m\n",
      "\u001b[32m[I 2022-05-28 00:47:46,642]\u001b[0m Trial 11 finished with value: 0.6285569461984389 and parameters: {'max_depth': 25, 'num_leaves': 126, 'learning_rate': 0.008, 'reg_alpha': 0.05818259527932141, 'reg_lambda': 0.02670697229511238}. Best is trial 0 with value: 0.643888079632378.\u001b[0m\n",
      "\u001b[32m[I 2022-05-28 00:47:50,314]\u001b[0m Trial 12 finished with value: 0.6082928716343835 and parameters: {'max_depth': 20, 'num_leaves': 111, 'learning_rate': 0.005, 'reg_alpha': 0.05825455724000791, 'reg_lambda': 0.020657762164460376}. Best is trial 0 with value: 0.643888079632378.\u001b[0m\n",
      "\u001b[32m[I 2022-05-28 00:47:52,789]\u001b[0m Trial 13 finished with value: 0.5912840694115051 and parameters: {'max_depth': 12, 'num_leaves': 63, 'learning_rate': 0.008, 'reg_alpha': 0.2266183646633882, 'reg_lambda': 0.005067473988495201}. Best is trial 0 with value: 0.643888079632378.\u001b[0m\n",
      "\u001b[32m[I 2022-05-28 00:47:55,856]\u001b[0m Trial 14 finished with value: 0.6371991832537477 and parameters: {'max_depth': 21, 'num_leaves': 108, 'learning_rate': 0.02, 'reg_alpha': 2.543754854348622, 'reg_lambda': 0.04213211309620977}. Best is trial 0 with value: 0.643888079632378.\u001b[0m\n",
      "\u001b[32m[I 2022-05-28 00:47:58,580]\u001b[0m Trial 15 finished with value: 0.6280438341981334 and parameters: {'max_depth': 20, 'num_leaves': 102, 'learning_rate': 0.02, 'reg_alpha': 5.840907214189453, 'reg_lambda': 0.10765375711688799}. Best is trial 0 with value: 0.643888079632378.\u001b[0m\n",
      "\u001b[32m[I 2022-05-28 00:48:01,238]\u001b[0m Trial 16 finished with value: 0.616883191201725 and parameters: {'max_depth': 16, 'num_leaves': 48, 'learning_rate': 0.02, 'reg_alpha': 1.570884845415955, 'reg_lambda': 0.06453035034822825}. Best is trial 0 with value: 0.643888079632378.\u001b[0m\n",
      "\u001b[32m[I 2022-05-28 00:48:04,409]\u001b[0m Trial 17 finished with value: 0.640786878812302 and parameters: {'max_depth': 22, 'num_leaves': 72, 'learning_rate': 0.02, 'reg_alpha': 1.75880479050942, 'reg_lambda': 0.006405257884750565}. Best is trial 0 with value: 0.643888079632378.\u001b[0m\n",
      "\u001b[32m[I 2022-05-28 00:48:06,603]\u001b[0m Trial 18 finished with value: 0.5861709589946246 and parameters: {'max_depth': 10, 'num_leaves': 69, 'learning_rate': 0.01, 'reg_alpha': 0.4606345828351488, 'reg_lambda': 0.005372031864322756}. Best is trial 0 with value: 0.643888079632378.\u001b[0m\n",
      "\u001b[32m[I 2022-05-28 00:48:09,522]\u001b[0m Trial 19 finished with value: 0.6176105351781884 and parameters: {'max_depth': 23, 'num_leaves': 48, 'learning_rate': 0.005, 'reg_alpha': 0.6355563173008838, 'reg_lambda': 0.00651213728981481}. Best is trial 0 with value: 0.643888079632378.\u001b[0m\n",
      "\u001b[32m[I 2022-05-28 00:48:12,170]\u001b[0m Trial 20 finished with value: 0.6416589924225787 and parameters: {'max_depth': 19, 'num_leaves': 72, 'learning_rate': 0.03, 'reg_alpha': 9.892810898615062, 'reg_lambda': 0.00134114802143302}. Best is trial 0 with value: 0.643888079632378.\u001b[0m\n",
      "\u001b[32m[I 2022-05-28 00:48:14,882]\u001b[0m Trial 21 finished with value: 0.6409987708456485 and parameters: {'max_depth': 19, 'num_leaves': 72, 'learning_rate': 0.03, 'reg_alpha': 9.343423404023909, 'reg_lambda': 0.0012875805375633783}. Best is trial 0 with value: 0.643888079632378.\u001b[0m\n",
      "\u001b[32m[I 2022-05-28 00:48:17,530]\u001b[0m Trial 22 finished with value: 0.641641288047372 and parameters: {'max_depth': 18, 'num_leaves': 90, 'learning_rate': 0.03, 'reg_alpha': 8.453436241167616, 'reg_lambda': 0.00116291600788084}. Best is trial 0 with value: 0.643888079632378.\u001b[0m\n",
      "\u001b[32m[I 2022-05-28 00:48:20,313]\u001b[0m Trial 23 finished with value: 0.6417905179085397 and parameters: {'max_depth': 18, 'num_leaves': 90, 'learning_rate': 0.03, 'reg_alpha': 3.7459986975445205, 'reg_lambda': 0.0028013354989547042}. Best is trial 0 with value: 0.643888079632378.\u001b[0m\n",
      "\u001b[32m[I 2022-05-28 00:48:22,651]\u001b[0m Trial 24 finished with value: 0.6164276757214514 and parameters: {'max_depth': 13, 'num_leaves': 57, 'learning_rate': 0.03, 'reg_alpha': 3.379263986717805, 'reg_lambda': 0.0030898746097697155}. Best is trial 0 with value: 0.643888079632378.\u001b[0m\n",
      "\u001b[32m[I 2022-05-28 00:48:25,124]\u001b[0m Trial 25 finished with value: 0.6163538037177173 and parameters: {'max_depth': 14, 'num_leaves': 84, 'learning_rate': 0.03, 'reg_alpha': 3.067887651247316, 'reg_lambda': 0.013829525876138874}. Best is trial 0 with value: 0.643888079632378.\u001b[0m\n",
      "\u001b[32m[I 2022-05-28 00:48:27,932]\u001b[0m Trial 26 finished with value: 0.6252662920700948 and parameters: {'max_depth': 15, 'num_leaves': 93, 'learning_rate': 0.03, 'reg_alpha': 0.8663141865063799, 'reg_lambda': 0.0027773465376270305}. Best is trial 0 with value: 0.643888079632378.\u001b[0m\n",
      "\u001b[32m[I 2022-05-28 00:48:30,698]\u001b[0m Trial 27 finished with value: 0.6464325015136941 and parameters: {'max_depth': 18, 'num_leaves': 42, 'learning_rate': 0.03, 'reg_alpha': 0.29387484244197964, 'reg_lambda': 0.003814957846587714}. Best is trial 27 with value: 0.6464325015136941.\u001b[0m\n",
      "\u001b[32m[I 2022-05-28 00:48:32,853]\u001b[0m Trial 28 finished with value: 0.6008169625778396 and parameters: {'max_depth': 9, 'num_leaves': 45, 'learning_rate': 0.03, 'reg_alpha': 0.23712758320612093, 'reg_lambda': 0.13714755193735048}. Best is trial 27 with value: 0.6464325015136941.\u001b[0m\n",
      "\u001b[32m[I 2022-05-28 00:48:35,543]\u001b[0m Trial 29 finished with value: 0.6437814174256234 and parameters: {'max_depth': 23, 'num_leaves': 36, 'learning_rate': 0.015, 'reg_alpha': 0.10910263893261368, 'reg_lambda': 0.010774382844152318}. Best is trial 27 with value: 0.6464325015136941.\u001b[0m\n",
      "\u001b[32m[I 2022-05-28 00:48:38,317]\u001b[0m Trial 30 finished with value: 0.6454275007479661 and parameters: {'max_depth': 23, 'num_leaves': 39, 'learning_rate': 0.015, 'reg_alpha': 0.123812626712711, 'reg_lambda': 0.011224539380740146}. Best is trial 27 with value: 0.6464325015136941.\u001b[0m\n",
      "\u001b[32m[I 2022-05-28 00:48:41,120]\u001b[0m Trial 31 finished with value: 0.6452111290284713 and parameters: {'max_depth': 23, 'num_leaves': 39, 'learning_rate': 0.015, 'reg_alpha': 0.15205345665671716, 'reg_lambda': 0.010928581050958527}. Best is trial 27 with value: 0.6464325015136941.\u001b[0m\n",
      "\u001b[32m[I 2022-05-28 00:48:43,987]\u001b[0m Trial 32 finished with value: 0.6424965156971864 and parameters: {'max_depth': 23, 'num_leaves': 42, 'learning_rate': 0.015, 'reg_alpha': 0.15915683381102544, 'reg_lambda': 0.019075530801756176}. Best is trial 27 with value: 0.6464325015136941.\u001b[0m\n",
      "\u001b[32m[I 2022-05-28 00:48:46,512]\u001b[0m Trial 33 finished with value: 0.6470427330743292 and parameters: {'max_depth': 25, 'num_leaves': 30, 'learning_rate': 0.015, 'reg_alpha': 0.03214207267823989, 'reg_lambda': 0.011395456244518466}. Best is trial 33 with value: 0.6470427330743292.\u001b[0m\n",
      "\u001b[32m[I 2022-05-28 00:48:49,069]\u001b[0m Trial 34 finished with value: 0.6470427330743292 and parameters: {'max_depth': 25, 'num_leaves': 30, 'learning_rate': 0.015, 'reg_alpha': 0.026041381379570076, 'reg_lambda': 0.008479449822147295}. Best is trial 33 with value: 0.6470427330743292.\u001b[0m\n",
      "\u001b[32m[I 2022-05-28 00:48:51,599]\u001b[0m Trial 35 finished with value: 0.6470427330743292 and parameters: {'max_depth': 25, 'num_leaves': 30, 'learning_rate': 0.015, 'reg_alpha': 0.022801381344377893, 'reg_lambda': 0.0037900411435610234}. Best is trial 33 with value: 0.6470427330743292.\u001b[0m\n",
      "\u001b[32m[I 2022-05-28 00:48:54,841]\u001b[0m Trial 36 finished with value: 0.6446587637927287 and parameters: {'max_depth': 25, 'num_leaves': 51, 'learning_rate': 0.015, 'reg_alpha': 0.019501187173607697, 'reg_lambda': 0.003919020063728824}. Best is trial 33 with value: 0.6470427330743292.\u001b[0m\n",
      "\u001b[32m[I 2022-05-28 00:48:57,457]\u001b[0m Trial 37 finished with value: 0.6470347620313637 and parameters: {'max_depth': 25, 'num_leaves': 33, 'learning_rate': 0.015, 'reg_alpha': 0.025708051698689824, 'reg_lambda': 2.4967486621817017}. Best is trial 33 with value: 0.6470427330743292.\u001b[0m\n",
      "\u001b[32m[I 2022-05-28 00:48:59,972]\u001b[0m Trial 38 finished with value: 0.6441865630993244 and parameters: {'max_depth': 25, 'num_leaves': 30, 'learning_rate': 0.015, 'reg_alpha': 0.02170953267168656, 'reg_lambda': 7.017047528245149}. Best is trial 33 with value: 0.6470427330743292.\u001b[0m\n",
      "\u001b[32m[I 2022-05-28 00:49:02,504]\u001b[0m Trial 39 finished with value: 0.6464344082839769 and parameters: {'max_depth': -1, 'num_leaves': 30, 'learning_rate': 0.015, 'reg_alpha': 0.02576709620716135, 'reg_lambda': 2.333677749142466}. Best is trial 33 with value: 0.6470427330743292.\u001b[0m\n",
      "\u001b[32m[I 2022-05-28 00:49:05,113]\u001b[0m Trial 40 finished with value: 0.6375482370724587 and parameters: {'max_depth': 21, 'num_leaves': 33, 'learning_rate': 0.015, 'reg_alpha': 0.009416867612131619, 'reg_lambda': 0.18213858116823128}. Best is trial 33 with value: 0.6470427330743292.\u001b[0m\n",
      "\u001b[32m[I 2022-05-28 00:49:06,602]\u001b[0m Trial 41 finished with value: 0.44260575600887364 and parameters: {'max_depth': 2, 'num_leaves': 30, 'learning_rate': 0.015, 'reg_alpha': 0.026875957117437527, 'reg_lambda': 2.494552471282827}. Best is trial 33 with value: 0.6470427330743292.\u001b[0m\n",
      "\u001b[32m[I 2022-05-28 00:49:09,333]\u001b[0m Trial 42 finished with value: 0.6540113610010868 and parameters: {'max_depth': 0, 'num_leaves': 36, 'learning_rate': 0.015, 'reg_alpha': 0.037782683830391336, 'reg_lambda': 1.3278223767488524}. Best is trial 42 with value: 0.6540113610010868.\u001b[0m\n",
      "\u001b[32m[I 2022-05-28 00:49:11,084]\u001b[0m Trial 43 finished with value: 0.5192898094424772 and parameters: {'max_depth': 5, 'num_leaves': 36, 'learning_rate': 0.006, 'reg_alpha': 0.0034674457063270433, 'reg_lambda': 0.9822312812164689}. Best is trial 42 with value: 0.6540113610010868.\u001b[0m\n",
      "\u001b[32m[I 2022-05-28 00:49:13,859]\u001b[0m Trial 44 finished with value: 0.6468725345807761 and parameters: {'max_depth': 25, 'num_leaves': 42, 'learning_rate': 0.015, 'reg_alpha': 0.046096855382599444, 'reg_lambda': 1.5994573646297947}. Best is trial 42 with value: 0.6540113610010868.\u001b[0m\n",
      "\u001b[32m[I 2022-05-28 00:49:16,462]\u001b[0m Trial 45 finished with value: 0.6458327689728757 and parameters: {'max_depth': 24, 'num_leaves': 36, 'learning_rate': 0.015, 'reg_alpha': 0.013317863869175444, 'reg_lambda': 3.228045014670096}. Best is trial 42 with value: 0.6540113610010868.\u001b[0m\n",
      "\u001b[32m[I 2022-05-28 00:49:19,219]\u001b[0m Trial 46 finished with value: 0.6186780547048211 and parameters: {'max_depth': 22, 'num_leaves': 54, 'learning_rate': 0.01, 'reg_alpha': 0.036286650379244965, 'reg_lambda': 4.107200905771826}. Best is trial 42 with value: 0.6540113610010868.\u001b[0m\n",
      "\u001b[32m[I 2022-05-28 00:49:21,194]\u001b[0m Trial 47 finished with value: 0.5567391254763859 and parameters: {'max_depth': 8, 'num_leaves': 33, 'learning_rate': 0.015, 'reg_alpha': 0.0809131455575702, 'reg_lambda': 0.7611879912161121}. Best is trial 42 with value: 0.6540113610010868.\u001b[0m\n",
      "\u001b[32m[I 2022-05-28 00:49:24,156]\u001b[0m Trial 48 finished with value: 0.6327034973466883 and parameters: {'max_depth': -1, 'num_leaves': 45, 'learning_rate': 0.015, 'reg_alpha': 0.005423230912658473, 'reg_lambda': 9.137475615534207}. Best is trial 42 with value: 0.6540113610010868.\u001b[0m\n",
      "\u001b[32m[I 2022-05-28 00:49:25,803]\u001b[0m Trial 49 finished with value: 0.48691769577625194 and parameters: {'max_depth': 4, 'num_leaves': 33, 'learning_rate': 0.006, 'reg_alpha': 0.013287714199049543, 'reg_lambda': 1.3309165064951418}. Best is trial 42 with value: 0.6540113610010868.\u001b[0m\n"
     ]
    },
    {
     "name": "stdout",
     "output_type": "stream",
     "text": [
      "Метрика F1 на моедли LGBMClassifier 0.7402280174202255\n"
     ]
    }
   ],
   "source": [
    "\n",
    "study_1 = optuna.create_study(direction='maximize')  \n",
    "study_1.optimize(objective, n_trials=50)              # Количество итераций = 5\n",
    "\n",
    "optuna_params = study_1.best_params \n",
    "\n",
    "pipeline = make_pipeline(SelectKBest(chi2, k=25000),\n",
    "                       lgb.LGBMClassifier(**optuna_params, random_state = SEED, n_jobs=-1,class_weight='balanced', n_estimators=2000))\n",
    "result = cross_val_score(pipeline,\n",
    "                        X_train, y_train,\n",
    "                        scoring='f1',\n",
    "                        cv=3, n_jobs=-1,\n",
    "                       ).mean()\n",
    "print(f'Метрика F1 на моедли LGBMClassifier {result}')"
   ]
  },
  {
   "cell_type": "markdown",
   "metadata": {},
   "source": [
    "### Тестирование лучшей модели"
   ]
  },
  {
   "cell_type": "code",
   "execution_count": 22,
   "metadata": {},
   "outputs": [
    {
     "name": "stdout",
     "output_type": "stream",
     "text": [
      "Метрика F1 на моедли LinearSVC на тестовой выборке 0.7563501895187296\n"
     ]
    }
   ],
   "source": [
    "result = cross_val_score(pipeline_svc,\n",
    "                        X_test, y_test,\n",
    "                        scoring='f1',\n",
    "                        cv=3, n_jobs=-1,\n",
    "                       ).mean()\n",
    "print(f'Метрика F1 на моедли LinearSVC на тестовой выборке {result}')"
   ]
  },
  {
   "cell_type": "markdown",
   "metadata": {},
   "source": [
    "## Выводы"
   ]
  },
  {
   "cell_type": "markdown",
   "metadata": {},
   "source": [
    "Из выше рассмотренных моделей достичь показателя F1 на тренинговой и тестовой выборке удалось на моделе LinearSVC."
   ]
  },
  {
   "cell_type": "code",
   "execution_count": 21,
   "metadata": {
    "scrolled": true
   },
   "outputs": [
    {
     "name": "stdout",
     "output_type": "stream",
     "text": [
      " Верно положительных комментариев предсказаний: 34920\n",
      "Ошибочно положительных комментариев предсказаний: 839\n",
      "Ошибочно негативных комментариев предсказаний: 838\n",
      "Верно негативных комментариев предсказаний: 3296\n"
     ]
    }
   ],
   "source": [
    "pipeline_svc.fit(X_train, y_train)\n",
    "predict = pipeline_svc.predict(X_test)\n",
    "c_matrix = confusion_matrix(y_test,predict)\n",
    "print(f''' Верно положительных комментариев предсказаний: {c_matrix[0,0]}\n",
    "Ошибочно положительных комментариев предсказаний: {c_matrix[1,0]}\n",
    "Ошибочно негативных комментариев предсказаний: {c_matrix[0,1]}\n",
    "Верно негативных комментариев предсказаний: {c_matrix[1,1]}''')\n"
   ]
  },
  {
   "cell_type": "markdown",
   "metadata": {},
   "source": [
    "Количество ложно-положительных и ложно-отрицательных предсказаний практически одинаково, модель верно определяет примерно 80% негативных комментраиев, что говорит что модель работоспособна и сбалансированна. Модель LinearSVC оптимальна для текущей задачи."
   ]
  }
 ],
 "metadata": {
  "ExecuteTimeLog": [
   {
    "duration": 980,
    "start_time": "2022-05-24T20:55:56.285Z"
   },
   {
    "duration": 3593,
    "start_time": "2022-05-24T20:55:58.292Z"
   },
   {
    "duration": 109,
    "start_time": "2022-05-24T21:22:50.407Z"
   },
   {
    "duration": 3,
    "start_time": "2022-05-24T21:22:59.469Z"
   },
   {
    "duration": 1943,
    "start_time": "2022-05-24T21:23:05.016Z"
   },
   {
    "duration": 1000,
    "start_time": "2022-05-24T21:25:53.403Z"
   },
   {
    "duration": 3269,
    "start_time": "2022-05-24T21:25:54.405Z"
   },
   {
    "duration": 2,
    "start_time": "2022-05-24T21:25:57.676Z"
   },
   {
    "duration": 2028,
    "start_time": "2022-05-24T21:25:57.680Z"
   },
   {
    "duration": 3,
    "start_time": "2022-05-24T21:47:10.576Z"
   },
   {
    "duration": 54,
    "start_time": "2022-05-24T21:49:25.601Z"
   },
   {
    "duration": 1022,
    "start_time": "2022-05-24T21:49:36.808Z"
   },
   {
    "duration": 3681,
    "start_time": "2022-05-24T21:49:37.833Z"
   },
   {
    "duration": 3,
    "start_time": "2022-05-24T21:49:41.515Z"
   },
   {
    "duration": 2082,
    "start_time": "2022-05-24T21:49:41.521Z"
   },
   {
    "duration": 1115,
    "start_time": "2022-05-24T21:54:01.882Z"
   },
   {
    "duration": 3856,
    "start_time": "2022-05-24T21:54:03.000Z"
   },
   {
    "duration": 3,
    "start_time": "2022-05-24T21:54:06.857Z"
   },
   {
    "duration": 5,
    "start_time": "2022-05-24T21:55:32.285Z"
   },
   {
    "duration": 812,
    "start_time": "2022-05-24T21:55:32.292Z"
   },
   {
    "duration": 2,
    "start_time": "2022-05-24T21:55:33.105Z"
   },
   {
    "duration": 2179,
    "start_time": "2022-05-24T21:55:41.529Z"
   },
   {
    "duration": 1041,
    "start_time": "2022-05-24T21:57:52.950Z"
   },
   {
    "duration": 3423,
    "start_time": "2022-05-24T21:57:53.996Z"
   },
   {
    "duration": 2,
    "start_time": "2022-05-24T21:57:58.253Z"
   },
   {
    "duration": 5,
    "start_time": "2022-05-24T21:57:58.959Z"
   },
   {
    "duration": 35,
    "start_time": "2022-05-24T21:59:10.265Z"
   },
   {
    "duration": 2085,
    "start_time": "2022-05-24T21:59:26.310Z"
   },
   {
    "duration": 53,
    "start_time": "2022-05-24T22:01:49.609Z"
   },
   {
    "duration": 1275,
    "start_time": "2022-05-24T22:02:00.916Z"
   },
   {
    "duration": 3492,
    "start_time": "2022-05-24T22:02:02.763Z"
   },
   {
    "duration": 2,
    "start_time": "2022-05-24T22:02:06.257Z"
   },
   {
    "duration": 1977,
    "start_time": "2022-05-24T22:02:07.501Z"
   },
   {
    "duration": 1205,
    "start_time": "2022-05-25T04:44:01.454Z"
   },
   {
    "duration": 3380,
    "start_time": "2022-05-25T04:44:06.942Z"
   },
   {
    "duration": 2,
    "start_time": "2022-05-25T04:44:12.477Z"
   },
   {
    "duration": 3076,
    "start_time": "2022-05-25T04:44:13.512Z"
   },
   {
    "duration": 1048,
    "start_time": "2022-05-25T05:11:45.830Z"
   },
   {
    "duration": 3312,
    "start_time": "2022-05-25T05:11:46.880Z"
   },
   {
    "duration": 2,
    "start_time": "2022-05-25T05:11:50.193Z"
   },
   {
    "duration": 2139,
    "start_time": "2022-05-25T05:12:01.900Z"
   },
   {
    "duration": 51,
    "start_time": "2022-05-25T05:16:49.421Z"
   },
   {
    "duration": 1012,
    "start_time": "2022-05-25T05:17:00.887Z"
   },
   {
    "duration": 3415,
    "start_time": "2022-05-25T05:17:01.901Z"
   },
   {
    "duration": 3,
    "start_time": "2022-05-25T05:17:05.317Z"
   },
   {
    "duration": 1977,
    "start_time": "2022-05-25T05:17:05.321Z"
   },
   {
    "duration": 51,
    "start_time": "2022-05-25T05:21:07.489Z"
   },
   {
    "duration": 965,
    "start_time": "2022-05-25T05:21:14.409Z"
   },
   {
    "duration": 3393,
    "start_time": "2022-05-25T05:21:15.376Z"
   },
   {
    "duration": 2,
    "start_time": "2022-05-25T05:21:18.770Z"
   },
   {
    "duration": 1958,
    "start_time": "2022-05-25T05:21:18.774Z"
   },
   {
    "duration": 1293,
    "start_time": "2022-05-25T05:23:52.505Z"
   },
   {
    "duration": 3323,
    "start_time": "2022-05-25T05:23:53.800Z"
   },
   {
    "duration": 2,
    "start_time": "2022-05-25T05:23:57.124Z"
   },
   {
    "duration": 2129,
    "start_time": "2022-05-25T05:23:59.555Z"
   },
   {
    "duration": 1002,
    "start_time": "2022-05-25T05:24:37.353Z"
   },
   {
    "duration": 3357,
    "start_time": "2022-05-25T05:24:38.357Z"
   },
   {
    "duration": 2,
    "start_time": "2022-05-25T05:24:41.716Z"
   },
   {
    "duration": 2023,
    "start_time": "2022-05-25T05:24:41.720Z"
   },
   {
    "duration": 1023,
    "start_time": "2022-05-25T05:41:57.340Z"
   },
   {
    "duration": 3276,
    "start_time": "2022-05-25T05:41:58.365Z"
   },
   {
    "duration": 2,
    "start_time": "2022-05-25T05:42:01.643Z"
   },
   {
    "duration": 1994,
    "start_time": "2022-05-25T05:42:01.647Z"
   },
   {
    "duration": 4,
    "start_time": "2022-05-25T05:42:37.645Z"
   },
   {
    "duration": 4,
    "start_time": "2022-05-25T05:42:52.751Z"
   },
   {
    "duration": 4,
    "start_time": "2022-05-25T05:43:01.109Z"
   },
   {
    "duration": 4,
    "start_time": "2022-05-25T05:43:05.308Z"
   },
   {
    "duration": 108,
    "start_time": "2022-05-25T05:45:55.749Z"
   },
   {
    "duration": 9,
    "start_time": "2022-05-25T05:46:04.246Z"
   },
   {
    "duration": 4,
    "start_time": "2022-05-25T05:46:08.346Z"
   },
   {
    "duration": 1098,
    "start_time": "2022-05-25T05:46:43.647Z"
   },
   {
    "duration": 13,
    "start_time": "2022-05-25T05:47:40.027Z"
   },
   {
    "duration": 4,
    "start_time": "2022-05-25T05:48:13.062Z"
   },
   {
    "duration": 11,
    "start_time": "2022-05-25T05:49:49.807Z"
   },
   {
    "duration": 13,
    "start_time": "2022-05-25T05:50:02.062Z"
   },
   {
    "duration": 38,
    "start_time": "2022-05-25T05:50:33.383Z"
   },
   {
    "duration": 13,
    "start_time": "2022-05-25T05:50:43.990Z"
   },
   {
    "duration": 4,
    "start_time": "2022-05-25T05:51:06.644Z"
   },
   {
    "duration": 3,
    "start_time": "2022-05-25T05:51:15.749Z"
   },
   {
    "duration": 10,
    "start_time": "2022-05-25T05:51:38.697Z"
   },
   {
    "duration": 11,
    "start_time": "2022-05-25T05:52:07.017Z"
   },
   {
    "duration": 4,
    "start_time": "2022-05-25T05:52:13.868Z"
   },
   {
    "duration": 16,
    "start_time": "2022-05-25T05:52:35.040Z"
   },
   {
    "duration": 58,
    "start_time": "2022-05-25T07:13:33.330Z"
   },
   {
    "duration": 1132,
    "start_time": "2022-05-25T07:13:40.551Z"
   },
   {
    "duration": 3204,
    "start_time": "2022-05-25T07:13:41.685Z"
   },
   {
    "duration": 3,
    "start_time": "2022-05-25T07:13:44.891Z"
   },
   {
    "duration": 3272,
    "start_time": "2022-05-25T07:13:44.896Z"
   },
   {
    "duration": 55,
    "start_time": "2022-05-25T07:17:40.570Z"
   },
   {
    "duration": 1082,
    "start_time": "2022-05-25T07:17:47.184Z"
   },
   {
    "duration": 3205,
    "start_time": "2022-05-25T07:17:48.268Z"
   },
   {
    "duration": 3,
    "start_time": "2022-05-25T07:17:51.474Z"
   },
   {
    "duration": 5274,
    "start_time": "2022-05-25T07:17:51.478Z"
   },
   {
    "duration": 8,
    "start_time": "2022-05-25T07:18:45.147Z"
   },
   {
    "duration": 5,
    "start_time": "2022-05-25T07:20:58.627Z"
   },
   {
    "duration": 1050,
    "start_time": "2022-05-25T07:30:53.268Z"
   },
   {
    "duration": 835,
    "start_time": "2022-05-25T07:30:54.320Z"
   },
   {
    "duration": 2,
    "start_time": "2022-05-25T07:30:55.157Z"
   },
   {
    "duration": 9041,
    "start_time": "2022-05-25T07:30:55.161Z"
   },
   {
    "duration": 8,
    "start_time": "2022-05-25T07:31:04.204Z"
   },
   {
    "duration": 7,
    "start_time": "2022-05-25T07:31:31.255Z"
   },
   {
    "duration": 1072,
    "start_time": "2022-05-25T07:34:44.478Z"
   },
   {
    "duration": 3170,
    "start_time": "2022-05-25T07:34:45.552Z"
   },
   {
    "duration": 2,
    "start_time": "2022-05-25T07:34:48.726Z"
   },
   {
    "duration": 8869,
    "start_time": "2022-05-25T07:34:48.729Z"
   },
   {
    "duration": 4,
    "start_time": "2022-05-25T07:34:57.600Z"
   },
   {
    "duration": 4,
    "start_time": "2022-05-25T07:35:14.088Z"
   },
   {
    "duration": 4,
    "start_time": "2022-05-25T07:35:31.972Z"
   },
   {
    "duration": 3,
    "start_time": "2022-05-25T07:35:41.635Z"
   },
   {
    "duration": 4,
    "start_time": "2022-05-25T07:35:46.617Z"
   },
   {
    "duration": 4,
    "start_time": "2022-05-25T07:35:55.487Z"
   },
   {
    "duration": 5,
    "start_time": "2022-05-25T07:36:01.186Z"
   },
   {
    "duration": 4,
    "start_time": "2022-05-25T07:36:06.946Z"
   },
   {
    "duration": 964,
    "start_time": "2022-05-25T07:38:13.552Z"
   },
   {
    "duration": 790,
    "start_time": "2022-05-25T07:38:14.517Z"
   },
   {
    "duration": 2,
    "start_time": "2022-05-25T07:38:15.309Z"
   },
   {
    "duration": 9047,
    "start_time": "2022-05-25T07:38:15.312Z"
   },
   {
    "duration": 0,
    "start_time": "2022-05-25T07:38:24.360Z"
   },
   {
    "duration": 1058,
    "start_time": "2022-05-25T07:39:16.860Z"
   },
   {
    "duration": 3187,
    "start_time": "2022-05-25T07:39:17.920Z"
   },
   {
    "duration": 4,
    "start_time": "2022-05-25T07:39:21.109Z"
   },
   {
    "duration": 5486,
    "start_time": "2022-05-25T07:39:21.115Z"
   },
   {
    "duration": 0,
    "start_time": "2022-05-25T07:39:26.603Z"
   },
   {
    "duration": 62,
    "start_time": "2022-05-25T07:42:09.172Z"
   },
   {
    "duration": 1013,
    "start_time": "2022-05-25T07:42:15.139Z"
   },
   {
    "duration": 3152,
    "start_time": "2022-05-25T07:42:16.154Z"
   },
   {
    "duration": 2,
    "start_time": "2022-05-25T07:42:19.308Z"
   },
   {
    "duration": 8970,
    "start_time": "2022-05-25T07:42:19.311Z"
   },
   {
    "duration": 0,
    "start_time": "2022-05-25T07:42:28.283Z"
   },
   {
    "duration": 1084,
    "start_time": "2022-05-25T07:43:36.701Z"
   },
   {
    "duration": 3165,
    "start_time": "2022-05-25T07:43:37.787Z"
   },
   {
    "duration": 3,
    "start_time": "2022-05-25T07:43:40.953Z"
   },
   {
    "duration": 9048,
    "start_time": "2022-05-25T07:43:40.957Z"
   },
   {
    "duration": 0,
    "start_time": "2022-05-25T07:43:50.007Z"
   },
   {
    "duration": 1029,
    "start_time": "2022-05-25T07:59:13.053Z"
   },
   {
    "duration": 3144,
    "start_time": "2022-05-25T07:59:14.084Z"
   },
   {
    "duration": 2,
    "start_time": "2022-05-25T07:59:17.229Z"
   },
   {
    "duration": 8936,
    "start_time": "2022-05-25T07:59:17.233Z"
   },
   {
    "duration": 4,
    "start_time": "2022-05-25T07:59:26.171Z"
   },
   {
    "duration": 6,
    "start_time": "2022-05-25T08:30:43.420Z"
   },
   {
    "duration": 1216,
    "start_time": "2022-05-25T08:34:31.585Z"
   },
   {
    "duration": 3590,
    "start_time": "2022-05-25T08:34:32.803Z"
   },
   {
    "duration": 3,
    "start_time": "2022-05-25T08:34:36.395Z"
   },
   {
    "duration": 10554,
    "start_time": "2022-05-25T08:34:36.399Z"
   },
   {
    "duration": 0,
    "start_time": "2022-05-25T08:34:46.954Z"
   },
   {
    "duration": 1189,
    "start_time": "2022-05-25T08:35:35.528Z"
   },
   {
    "duration": 3709,
    "start_time": "2022-05-25T08:35:36.721Z"
   },
   {
    "duration": 3,
    "start_time": "2022-05-25T08:35:40.431Z"
   },
   {
    "duration": 10701,
    "start_time": "2022-05-25T08:35:40.435Z"
   },
   {
    "duration": 0,
    "start_time": "2022-05-25T08:35:51.138Z"
   },
   {
    "duration": 1200,
    "start_time": "2022-05-25T08:36:42.689Z"
   },
   {
    "duration": 3785,
    "start_time": "2022-05-25T08:36:43.891Z"
   },
   {
    "duration": 2,
    "start_time": "2022-05-25T08:36:47.678Z"
   },
   {
    "duration": 11904,
    "start_time": "2022-05-25T08:36:47.682Z"
   },
   {
    "duration": 14,
    "start_time": "2022-05-25T08:36:59.588Z"
   },
   {
    "duration": 5,
    "start_time": "2022-05-25T08:37:11.592Z"
   },
   {
    "duration": 1200,
    "start_time": "2022-05-25T08:40:18.046Z"
   },
   {
    "duration": 1089,
    "start_time": "2022-05-25T08:40:19.248Z"
   },
   {
    "duration": 3,
    "start_time": "2022-05-25T08:40:20.338Z"
   },
   {
    "duration": 6741,
    "start_time": "2022-05-25T08:40:20.342Z"
   },
   {
    "duration": 0,
    "start_time": "2022-05-25T08:40:27.084Z"
   },
   {
    "duration": 1206,
    "start_time": "2022-05-25T08:40:52.218Z"
   },
   {
    "duration": 1022,
    "start_time": "2022-05-25T08:40:53.427Z"
   },
   {
    "duration": 2,
    "start_time": "2022-05-25T08:40:54.451Z"
   },
   {
    "duration": 6436,
    "start_time": "2022-05-25T08:40:54.455Z"
   },
   {
    "duration": 0,
    "start_time": "2022-05-25T08:41:00.893Z"
   },
   {
    "duration": 1248,
    "start_time": "2022-05-25T08:41:31.688Z"
   },
   {
    "duration": 1018,
    "start_time": "2022-05-25T08:41:32.939Z"
   },
   {
    "duration": 2,
    "start_time": "2022-05-25T08:41:33.959Z"
   },
   {
    "duration": 10387,
    "start_time": "2022-05-25T08:41:33.963Z"
   },
   {
    "duration": 0,
    "start_time": "2022-05-25T08:41:44.352Z"
   },
   {
    "duration": 1254,
    "start_time": "2022-05-25T08:42:24.582Z"
   },
   {
    "duration": 1003,
    "start_time": "2022-05-25T08:42:25.838Z"
   },
   {
    "duration": 3,
    "start_time": "2022-05-25T08:42:26.843Z"
   },
   {
    "duration": 11055,
    "start_time": "2022-05-25T08:42:26.849Z"
   },
   {
    "duration": 17,
    "start_time": "2022-05-25T08:42:37.909Z"
   },
   {
    "duration": 1040,
    "start_time": "2022-05-25T17:03:22.621Z"
   },
   {
    "duration": 2267,
    "start_time": "2022-05-25T17:03:23.663Z"
   },
   {
    "duration": 2,
    "start_time": "2022-05-25T17:03:25.932Z"
   },
   {
    "duration": 6832,
    "start_time": "2022-05-25T17:03:25.936Z"
   },
   {
    "duration": 0,
    "start_time": "2022-05-25T17:03:32.769Z"
   },
   {
    "duration": 6807,
    "start_time": "2022-05-25T17:05:52.153Z"
   },
   {
    "duration": 6881,
    "start_time": "2022-05-25T17:08:13.725Z"
   },
   {
    "duration": 1230,
    "start_time": "2022-05-25T17:09:46.635Z"
   },
   {
    "duration": 800,
    "start_time": "2022-05-25T17:09:47.867Z"
   },
   {
    "duration": 2,
    "start_time": "2022-05-25T17:09:48.668Z"
   },
   {
    "duration": 6756,
    "start_time": "2022-05-25T17:09:48.673Z"
   },
   {
    "duration": 0,
    "start_time": "2022-05-25T17:09:55.431Z"
   },
   {
    "duration": 603,
    "start_time": "2022-05-25T17:10:19.672Z"
   },
   {
    "duration": 824,
    "start_time": "2022-05-25T17:10:25.146Z"
   },
   {
    "duration": 2,
    "start_time": "2022-05-25T17:10:26.586Z"
   },
   {
    "duration": 1037,
    "start_time": "2022-05-25T17:13:51.307Z"
   },
   {
    "duration": 827,
    "start_time": "2022-05-25T17:13:52.347Z"
   },
   {
    "duration": 3,
    "start_time": "2022-05-25T17:13:53.176Z"
   },
   {
    "duration": 9201,
    "start_time": "2022-05-25T17:13:53.180Z"
   },
   {
    "duration": 5,
    "start_time": "2022-05-25T17:14:02.383Z"
   },
   {
    "duration": 208,
    "start_time": "2022-05-25T17:15:15.849Z"
   },
   {
    "duration": 113,
    "start_time": "2022-05-25T17:16:27.786Z"
   },
   {
    "duration": 92,
    "start_time": "2022-05-25T17:16:57.506Z"
   },
   {
    "duration": 23,
    "start_time": "2022-05-25T17:18:20.448Z"
   },
   {
    "duration": 6,
    "start_time": "2022-05-25T17:18:32.084Z"
   },
   {
    "duration": 41,
    "start_time": "2022-05-25T17:22:38.439Z"
   },
   {
    "duration": 1107038,
    "start_time": "2022-05-25T17:26:32.324Z"
   },
   {
    "duration": 1285,
    "start_time": "2022-05-25T17:52:40.492Z"
   },
   {
    "duration": 2402,
    "start_time": "2022-05-25T17:52:41.779Z"
   },
   {
    "duration": 2,
    "start_time": "2022-05-25T17:52:44.182Z"
   },
   {
    "duration": 8,
    "start_time": "2022-05-25T17:52:44.186Z"
   },
   {
    "duration": 1103618,
    "start_time": "2022-05-25T17:52:44.195Z"
   },
   {
    "duration": 0,
    "start_time": "2022-05-25T18:11:07.815Z"
   },
   {
    "duration": 1402,
    "start_time": "2022-05-25T18:16:08.416Z"
   },
   {
    "duration": 980,
    "start_time": "2022-05-25T18:16:09.820Z"
   },
   {
    "duration": 3,
    "start_time": "2022-05-25T18:16:10.802Z"
   },
   {
    "duration": 5,
    "start_time": "2022-05-25T18:16:10.807Z"
   },
   {
    "duration": 1087315,
    "start_time": "2022-05-25T18:16:10.813Z"
   },
   {
    "duration": 4,
    "start_time": "2022-05-25T18:34:18.130Z"
   },
   {
    "duration": 8,
    "start_time": "2022-05-25T19:04:29.800Z"
   },
   {
    "duration": 57,
    "start_time": "2022-05-25T19:08:17.563Z"
   },
   {
    "duration": 4,
    "start_time": "2022-05-25T19:17:05.548Z"
   },
   {
    "duration": 4,
    "start_time": "2022-05-25T19:18:13.983Z"
   },
   {
    "duration": 40,
    "start_time": "2022-05-25T19:18:19.547Z"
   },
   {
    "duration": 7190,
    "start_time": "2022-05-25T19:19:52.687Z"
   },
   {
    "duration": 4020,
    "start_time": "2022-05-25T19:20:34.601Z"
   },
   {
    "duration": 4281,
    "start_time": "2022-05-25T19:20:48.357Z"
   },
   {
    "duration": 4022,
    "start_time": "2022-05-25T19:20:59.819Z"
   },
   {
    "duration": 3321,
    "start_time": "2022-05-25T19:21:10.412Z"
   },
   {
    "duration": 30553,
    "start_time": "2022-05-25T19:21:21.203Z"
   },
   {
    "duration": 66359,
    "start_time": "2022-05-25T19:21:59.597Z"
   },
   {
    "duration": 48643,
    "start_time": "2022-05-25T19:23:18.803Z"
   },
   {
    "duration": 49037,
    "start_time": "2022-05-25T19:24:22.605Z"
   },
   {
    "duration": 44347,
    "start_time": "2022-05-25T19:25:40.698Z"
   },
   {
    "duration": 31651,
    "start_time": "2022-05-25T19:28:20.814Z"
   },
   {
    "duration": 15742,
    "start_time": "2022-05-25T19:32:46.386Z"
   },
   {
    "duration": 50360,
    "start_time": "2022-05-25T19:35:36.200Z"
   },
   {
    "duration": 35369,
    "start_time": "2022-05-25T19:37:08.722Z"
   },
   {
    "duration": 9957,
    "start_time": "2022-05-25T19:37:46.085Z"
   },
   {
    "duration": 9753,
    "start_time": "2022-05-25T19:38:24.696Z"
   },
   {
    "duration": 9644,
    "start_time": "2022-05-25T19:38:49.341Z"
   },
   {
    "duration": 7085,
    "start_time": "2022-05-25T19:39:04.627Z"
   },
   {
    "duration": 57127,
    "start_time": "2022-05-25T19:39:40.821Z"
   },
   {
    "duration": 13378,
    "start_time": "2022-05-25T19:40:37.950Z"
   },
   {
    "duration": 11549,
    "start_time": "2022-05-25T19:40:56.091Z"
   },
   {
    "duration": 7521,
    "start_time": "2022-05-25T19:41:15.575Z"
   },
   {
    "duration": 6234,
    "start_time": "2022-05-25T19:41:23.099Z"
   },
   {
    "duration": 8373,
    "start_time": "2022-05-25T19:41:37.291Z"
   },
   {
    "duration": 6678,
    "start_time": "2022-05-25T19:41:45.666Z"
   },
   {
    "duration": 8699,
    "start_time": "2022-05-25T19:42:00.049Z"
   },
   {
    "duration": 6480,
    "start_time": "2022-05-25T19:42:08.750Z"
   },
   {
    "duration": 8294,
    "start_time": "2022-05-25T19:42:17.595Z"
   },
   {
    "duration": 6277,
    "start_time": "2022-05-25T19:42:25.890Z"
   },
   {
    "duration": 8635,
    "start_time": "2022-05-25T19:42:39.435Z"
   },
   {
    "duration": 6501,
    "start_time": "2022-05-25T19:42:48.072Z"
   },
   {
    "duration": 4744,
    "start_time": "2022-05-25T19:43:09.100Z"
   },
   {
    "duration": 31,
    "start_time": "2022-05-25T19:45:47.881Z"
   },
   {
    "duration": 15,
    "start_time": "2022-05-25T19:46:34.574Z"
   },
   {
    "duration": 3,
    "start_time": "2022-05-25T19:46:50.403Z"
   },
   {
    "duration": 28,
    "start_time": "2022-05-25T19:46:51.139Z"
   },
   {
    "duration": 17,
    "start_time": "2022-05-25T19:46:52.014Z"
   },
   {
    "duration": 20,
    "start_time": "2022-05-25T19:47:04.307Z"
   },
   {
    "duration": 3,
    "start_time": "2022-05-25T19:47:11.002Z"
   },
   {
    "duration": 67,
    "start_time": "2022-05-25T19:47:15.673Z"
   },
   {
    "duration": 37,
    "start_time": "2022-05-25T19:47:32.410Z"
   },
   {
    "duration": 7173,
    "start_time": "2022-05-25T19:47:45.929Z"
   },
   {
    "duration": 5471,
    "start_time": "2022-05-25T19:47:57.714Z"
   },
   {
    "duration": 4968,
    "start_time": "2022-05-25T19:48:05.477Z"
   },
   {
    "duration": 31,
    "start_time": "2022-05-25T19:48:58.812Z"
   },
   {
    "duration": 6989,
    "start_time": "2022-05-25T19:48:59.638Z"
   },
   {
    "duration": 8527,
    "start_time": "2022-05-25T19:49:10.279Z"
   },
   {
    "duration": 6412,
    "start_time": "2022-05-25T19:49:18.809Z"
   },
   {
    "duration": 32,
    "start_time": "2022-05-25T19:50:10.067Z"
   },
   {
    "duration": 6788,
    "start_time": "2022-05-25T19:50:10.868Z"
   },
   {
    "duration": 8739,
    "start_time": "2022-05-25T19:50:17.659Z"
   },
   {
    "duration": 6293,
    "start_time": "2022-05-25T19:50:26.400Z"
   },
   {
    "duration": 42,
    "start_time": "2022-05-25T19:50:46.324Z"
   },
   {
    "duration": 6354,
    "start_time": "2022-05-25T19:50:47.803Z"
   },
   {
    "duration": 6930,
    "start_time": "2022-05-25T19:50:54.888Z"
   },
   {
    "duration": 6209,
    "start_time": "2022-05-25T19:51:01.820Z"
   },
   {
    "duration": 8286,
    "start_time": "2022-05-25T19:54:11.287Z"
   },
   {
    "duration": 6602,
    "start_time": "2022-05-25T19:54:19.575Z"
   },
   {
    "duration": 16798,
    "start_time": "2022-05-25T19:54:42.642Z"
   },
   {
    "duration": 8012,
    "start_time": "2022-05-25T19:54:59.442Z"
   },
   {
    "duration": 16353,
    "start_time": "2022-05-25T19:56:31.451Z"
   },
   {
    "duration": 8835,
    "start_time": "2022-05-25T19:56:50.482Z"
   },
   {
    "duration": 15870,
    "start_time": "2022-05-25T19:57:09.227Z"
   },
   {
    "duration": 9120,
    "start_time": "2022-05-25T19:57:25.099Z"
   },
   {
    "duration": 9667,
    "start_time": "2022-05-25T19:57:50.626Z"
   },
   {
    "duration": 13032,
    "start_time": "2022-05-25T19:58:07.814Z"
   },
   {
    "duration": 8128,
    "start_time": "2022-05-25T19:58:34.128Z"
   },
   {
    "duration": 15119,
    "start_time": "2022-05-25T19:58:58.367Z"
   },
   {
    "duration": 8983,
    "start_time": "2022-05-25T19:59:13.489Z"
   },
   {
    "duration": 13928,
    "start_time": "2022-05-25T19:59:26.837Z"
   },
   {
    "duration": 9160,
    "start_time": "2022-05-25T19:59:40.767Z"
   },
   {
    "duration": 11956,
    "start_time": "2022-05-25T20:02:06.550Z"
   },
   {
    "duration": 8396,
    "start_time": "2022-05-25T20:02:18.508Z"
   },
   {
    "duration": 15830,
    "start_time": "2022-05-25T20:02:37.990Z"
   },
   {
    "duration": 9240,
    "start_time": "2022-05-25T20:02:53.823Z"
   },
   {
    "duration": 7655,
    "start_time": "2022-05-25T20:03:20.307Z"
   },
   {
    "duration": 5552,
    "start_time": "2022-05-25T20:03:27.963Z"
   },
   {
    "duration": 11306,
    "start_time": "2022-05-25T20:03:39.611Z"
   },
   {
    "duration": 7544,
    "start_time": "2022-05-25T20:03:50.919Z"
   },
   {
    "duration": 16593,
    "start_time": "2022-05-25T20:04:02.868Z"
   },
   {
    "duration": 9019,
    "start_time": "2022-05-25T20:04:19.463Z"
   },
   {
    "duration": 18602,
    "start_time": "2022-05-25T20:04:37.743Z"
   },
   {
    "duration": 9165,
    "start_time": "2022-05-25T20:04:56.347Z"
   },
   {
    "duration": 3,
    "start_time": "2022-05-25T20:11:16.550Z"
   },
   {
    "duration": 45,
    "start_time": "2022-05-25T20:15:01.723Z"
   },
   {
    "duration": 12,
    "start_time": "2022-05-25T20:15:14.525Z"
   },
   {
    "duration": 22464,
    "start_time": "2022-05-25T20:15:24.204Z"
   },
   {
    "duration": 24158,
    "start_time": "2022-05-25T20:15:54.396Z"
   },
   {
    "duration": 17,
    "start_time": "2022-05-25T20:17:57.712Z"
   },
   {
    "duration": 1168,
    "start_time": "2022-05-26T05:40:01.367Z"
   },
   {
    "duration": 3360,
    "start_time": "2022-05-26T05:40:02.536Z"
   },
   {
    "duration": 3,
    "start_time": "2022-05-26T05:40:05.899Z"
   },
   {
    "duration": 26,
    "start_time": "2022-05-26T05:40:05.903Z"
   },
   {
    "duration": 7559,
    "start_time": "2022-05-26T05:40:05.931Z"
   },
   {
    "duration": 0,
    "start_time": "2022-05-26T05:40:13.492Z"
   },
   {
    "duration": 0,
    "start_time": "2022-05-26T05:40:13.494Z"
   },
   {
    "duration": 0,
    "start_time": "2022-05-26T05:40:13.496Z"
   },
   {
    "duration": 0,
    "start_time": "2022-05-26T05:40:13.497Z"
   },
   {
    "duration": 0,
    "start_time": "2022-05-26T05:40:13.499Z"
   },
   {
    "duration": 0,
    "start_time": "2022-05-26T05:40:13.501Z"
   },
   {
    "duration": 0,
    "start_time": "2022-05-26T05:40:13.503Z"
   },
   {
    "duration": 319,
    "start_time": "2022-05-26T05:41:06.238Z"
   },
   {
    "duration": 7503,
    "start_time": "2022-05-26T05:41:16.934Z"
   },
   {
    "duration": 1873,
    "start_time": "2022-05-26T05:41:44.108Z"
   },
   {
    "duration": 884,
    "start_time": "2022-05-26T05:41:45.983Z"
   },
   {
    "duration": 2,
    "start_time": "2022-05-26T05:41:46.869Z"
   },
   {
    "duration": 39,
    "start_time": "2022-05-26T05:41:46.873Z"
   },
   {
    "duration": 1332067,
    "start_time": "2022-05-26T05:41:46.914Z"
   },
   {
    "duration": 4,
    "start_time": "2022-05-26T06:03:58.985Z"
   },
   {
    "duration": 7,
    "start_time": "2022-05-26T06:03:58.991Z"
   },
   {
    "duration": 7,
    "start_time": "2022-05-26T06:03:59.000Z"
   },
   {
    "duration": 38,
    "start_time": "2022-05-26T06:03:59.009Z"
   },
   {
    "duration": 8519,
    "start_time": "2022-05-26T06:03:59.049Z"
   },
   {
    "duration": 27294,
    "start_time": "2022-05-26T06:04:07.570Z"
   },
   {
    "duration": 16080,
    "start_time": "2022-05-26T06:04:34.866Z"
   },
   {
    "duration": 265,
    "start_time": "2022-05-26T07:15:00.610Z"
   },
   {
    "duration": 27969,
    "start_time": "2022-05-26T07:15:12.850Z"
   },
   {
    "duration": 13018,
    "start_time": "2022-05-26T07:16:10.996Z"
   },
   {
    "duration": 9,
    "start_time": "2022-05-26T07:16:39.683Z"
   },
   {
    "duration": 30125,
    "start_time": "2022-05-26T07:16:45.627Z"
   },
   {
    "duration": 6,
    "start_time": "2022-05-26T07:17:29.362Z"
   },
   {
    "duration": 31361,
    "start_time": "2022-05-26T07:17:35.161Z"
   },
   {
    "duration": 47284,
    "start_time": "2022-05-26T07:18:26.835Z"
   },
   {
    "duration": 32815,
    "start_time": "2022-05-26T07:21:24.135Z"
   },
   {
    "duration": 8,
    "start_time": "2022-05-26T07:22:08.134Z"
   },
   {
    "duration": 29672,
    "start_time": "2022-05-26T07:22:12.405Z"
   },
   {
    "duration": 6,
    "start_time": "2022-05-26T07:22:55.035Z"
   },
   {
    "duration": 28653,
    "start_time": "2022-05-26T07:22:59.527Z"
   },
   {
    "duration": 13353,
    "start_time": "2022-05-26T07:23:28.188Z"
   },
   {
    "duration": 28426,
    "start_time": "2022-05-26T07:25:16.478Z"
   },
   {
    "duration": 17864,
    "start_time": "2022-05-26T07:25:44.906Z"
   },
   {
    "duration": 28,
    "start_time": "2022-05-26T07:40:43.913Z"
   },
   {
    "duration": 7380,
    "start_time": "2022-05-26T07:40:45.047Z"
   },
   {
    "duration": 21923,
    "start_time": "2022-05-26T07:40:55.955Z"
   },
   {
    "duration": 21144,
    "start_time": "2022-05-26T07:41:26.124Z"
   },
   {
    "duration": 15857,
    "start_time": "2022-05-26T07:41:57.653Z"
   },
   {
    "duration": 49,
    "start_time": "2022-05-26T07:52:01.941Z"
   },
   {
    "duration": 7412,
    "start_time": "2022-05-26T07:52:02.760Z"
   },
   {
    "duration": 19465,
    "start_time": "2022-05-26T07:52:10.174Z"
   },
   {
    "duration": 34,
    "start_time": "2022-05-26T07:52:37.431Z"
   },
   {
    "duration": 7481,
    "start_time": "2022-05-26T07:52:38.016Z"
   },
   {
    "duration": 23246,
    "start_time": "2022-05-26T07:52:45.499Z"
   },
   {
    "duration": 17608,
    "start_time": "2022-05-26T07:53:08.747Z"
   },
   {
    "duration": 29,
    "start_time": "2022-05-26T07:53:40.080Z"
   },
   {
    "duration": 7300,
    "start_time": "2022-05-26T07:53:40.480Z"
   },
   {
    "duration": 19536,
    "start_time": "2022-05-26T07:53:47.783Z"
   },
   {
    "duration": 15603,
    "start_time": "2022-05-26T07:54:07.321Z"
   },
   {
    "duration": 257,
    "start_time": "2022-05-26T10:22:55.213Z"
   },
   {
    "duration": 34,
    "start_time": "2022-05-26T10:23:02.265Z"
   },
   {
    "duration": 7354,
    "start_time": "2022-05-26T10:23:02.631Z"
   },
   {
    "duration": 20081,
    "start_time": "2022-05-26T10:23:09.988Z"
   },
   {
    "duration": 15260,
    "start_time": "2022-05-26T10:23:30.071Z"
   },
   {
    "duration": 26414,
    "start_time": "2022-05-26T10:24:00.220Z"
   },
   {
    "duration": 22248,
    "start_time": "2022-05-26T10:24:26.636Z"
   },
   {
    "duration": 5,
    "start_time": "2022-05-26T10:26:03.191Z"
   },
   {
    "duration": 31,
    "start_time": "2022-05-26T10:26:13.215Z"
   },
   {
    "duration": 7389,
    "start_time": "2022-05-26T10:26:13.673Z"
   },
   {
    "duration": 25097,
    "start_time": "2022-05-26T10:26:21.065Z"
   },
   {
    "duration": 24006,
    "start_time": "2022-05-26T10:26:46.164Z"
   },
   {
    "duration": 19194,
    "start_time": "2022-05-26T10:27:34.538Z"
   },
   {
    "duration": 13095,
    "start_time": "2022-05-26T10:27:53.734Z"
   },
   {
    "duration": 48,
    "start_time": "2022-05-26T10:28:32.901Z"
   },
   {
    "duration": 7361,
    "start_time": "2022-05-26T10:28:33.358Z"
   },
   {
    "duration": 19375,
    "start_time": "2022-05-26T10:28:40.721Z"
   },
   {
    "duration": 12709,
    "start_time": "2022-05-26T10:29:00.098Z"
   },
   {
    "duration": 1872,
    "start_time": "2022-05-26T18:22:50.151Z"
   },
   {
    "duration": 2973,
    "start_time": "2022-05-26T18:22:52.025Z"
   },
   {
    "duration": 2,
    "start_time": "2022-05-26T18:22:54.999Z"
   },
   {
    "duration": 8,
    "start_time": "2022-05-26T18:22:55.003Z"
   },
   {
    "duration": 1139575,
    "start_time": "2022-05-26T18:22:55.012Z"
   },
   {
    "duration": 2,
    "start_time": "2022-05-26T18:41:54.589Z"
   },
   {
    "duration": 13,
    "start_time": "2022-05-26T18:41:54.593Z"
   },
   {
    "duration": 13,
    "start_time": "2022-05-26T18:41:54.607Z"
   },
   {
    "duration": 41,
    "start_time": "2022-05-26T18:41:54.622Z"
   },
   {
    "duration": 7467,
    "start_time": "2022-05-26T18:41:54.666Z"
   },
   {
    "duration": 17568,
    "start_time": "2022-05-26T18:42:02.135Z"
   },
   {
    "duration": 9130,
    "start_time": "2022-05-26T18:42:19.712Z"
   },
   {
    "duration": 13558,
    "start_time": "2022-05-26T18:42:28.844Z"
   },
   {
    "duration": 149,
    "start_time": "2022-05-26T18:44:36.622Z"
   },
   {
    "duration": 6172,
    "start_time": "2022-05-26T18:44:53.321Z"
   },
   {
    "duration": 6107,
    "start_time": "2022-05-26T18:45:39.969Z"
   },
   {
    "duration": 931,
    "start_time": "2022-05-26T20:21:08.212Z"
   },
   {
    "duration": 5794,
    "start_time": "2022-05-26T20:21:21.006Z"
   },
   {
    "duration": 1799,
    "start_time": "2022-05-26T20:21:29.338Z"
   },
   {
    "duration": 123,
    "start_time": "2022-05-26T20:23:58.381Z"
   },
   {
    "duration": 24,
    "start_time": "2022-05-26T20:25:56.582Z"
   },
   {
    "duration": 1577,
    "start_time": "2022-05-26T20:26:03.230Z"
   },
   {
    "duration": 4,
    "start_time": "2022-05-26T20:26:16.857Z"
   },
   {
    "duration": 3,
    "start_time": "2022-05-26T20:26:18.898Z"
   },
   {
    "duration": 32,
    "start_time": "2022-05-26T20:26:20.051Z"
   },
   {
    "duration": 6484,
    "start_time": "2022-05-26T20:26:20.846Z"
   },
   {
    "duration": 15591,
    "start_time": "2022-05-26T20:26:27.332Z"
   },
   {
    "duration": 8268,
    "start_time": "2022-05-26T20:26:42.925Z"
   },
   {
    "duration": 5945,
    "start_time": "2022-05-27T12:47:23.043Z"
   },
   {
    "duration": 3148,
    "start_time": "2022-05-27T12:47:28.990Z"
   },
   {
    "duration": 3439,
    "start_time": "2022-05-27T12:47:32.141Z"
   },
   {
    "duration": 7521,
    "start_time": "2022-05-27T12:47:35.582Z"
   },
   {
    "duration": 3,
    "start_time": "2022-05-27T12:47:43.104Z"
   },
   {
    "duration": 2294,
    "start_time": "2022-05-27T12:47:43.109Z"
   },
   {
    "duration": 5,
    "start_time": "2022-05-27T12:47:45.405Z"
   },
   {
    "duration": 15,
    "start_time": "2022-05-27T12:47:45.412Z"
   },
   {
    "duration": 45,
    "start_time": "2022-05-27T12:47:45.429Z"
   },
   {
    "duration": 6554,
    "start_time": "2022-05-27T12:47:45.476Z"
   },
   {
    "duration": 16891,
    "start_time": "2022-05-27T12:47:52.032Z"
   },
   {
    "duration": 9495,
    "start_time": "2022-05-27T12:48:08.925Z"
   },
   {
    "duration": 6,
    "start_time": "2022-05-27T12:48:18.422Z"
   },
   {
    "duration": 0,
    "start_time": "2022-05-27T12:48:18.430Z"
   },
   {
    "duration": 6,
    "start_time": "2022-05-27T12:48:30.053Z"
   },
   {
    "duration": 6,
    "start_time": "2022-05-27T12:48:32.469Z"
   },
   {
    "duration": 159,
    "start_time": "2022-05-27T12:48:43.088Z"
   },
   {
    "duration": 11,
    "start_time": "2022-05-27T12:49:04.934Z"
   },
   {
    "duration": 26,
    "start_time": "2022-05-27T12:49:12.309Z"
   },
   {
    "duration": 6,
    "start_time": "2022-05-27T12:49:51.294Z"
   },
   {
    "duration": 26,
    "start_time": "2022-05-27T12:49:51.983Z"
   },
   {
    "duration": 7,
    "start_time": "2022-05-27T12:50:19.511Z"
   },
   {
    "duration": 26,
    "start_time": "2022-05-27T12:50:20.455Z"
   },
   {
    "duration": 7,
    "start_time": "2022-05-27T12:51:47.813Z"
   },
   {
    "duration": 57871,
    "start_time": "2022-05-27T12:51:48.552Z"
   },
   {
    "duration": 6,
    "start_time": "2022-05-27T12:56:04.529Z"
   },
   {
    "duration": 599448,
    "start_time": "2022-05-27T12:56:05.479Z"
   },
   {
    "duration": 2581,
    "start_time": "2022-05-27T13:08:18.395Z"
   },
   {
    "duration": 2031,
    "start_time": "2022-05-27T13:08:20.978Z"
   },
   {
    "duration": 753,
    "start_time": "2022-05-27T13:08:23.010Z"
   },
   {
    "duration": 6760,
    "start_time": "2022-05-27T13:08:23.765Z"
   },
   {
    "duration": 3,
    "start_time": "2022-05-27T13:08:30.526Z"
   },
   {
    "duration": 1611,
    "start_time": "2022-05-27T13:08:30.530Z"
   },
   {
    "duration": 4,
    "start_time": "2022-05-27T13:08:32.142Z"
   },
   {
    "duration": 11,
    "start_time": "2022-05-27T13:08:32.148Z"
   },
   {
    "duration": 40,
    "start_time": "2022-05-27T13:08:32.160Z"
   },
   {
    "duration": 6713,
    "start_time": "2022-05-27T13:08:32.203Z"
   },
   {
    "duration": 16694,
    "start_time": "2022-05-27T13:08:38.918Z"
   },
   {
    "duration": 8906,
    "start_time": "2022-05-27T13:08:55.614Z"
   },
   {
    "duration": 6,
    "start_time": "2022-05-27T13:09:04.521Z"
   },
   {
    "duration": 391073,
    "start_time": "2022-05-27T13:09:04.528Z"
   },
   {
    "duration": 6790,
    "start_time": "2022-05-27T17:26:10.691Z"
   },
   {
    "duration": 2874,
    "start_time": "2022-05-27T17:26:17.484Z"
   },
   {
    "duration": 3078,
    "start_time": "2022-05-27T17:26:20.360Z"
   },
   {
    "duration": 6915,
    "start_time": "2022-05-27T17:26:23.439Z"
   },
   {
    "duration": 3,
    "start_time": "2022-05-27T17:26:30.356Z"
   },
   {
    "duration": 2469,
    "start_time": "2022-05-27T17:26:30.360Z"
   },
   {
    "duration": 5,
    "start_time": "2022-05-27T17:26:32.831Z"
   },
   {
    "duration": 3,
    "start_time": "2022-05-27T17:26:32.837Z"
   },
   {
    "duration": 34,
    "start_time": "2022-05-27T17:26:32.841Z"
   },
   {
    "duration": 6533,
    "start_time": "2022-05-27T17:26:32.877Z"
   },
   {
    "duration": 15759,
    "start_time": "2022-05-27T17:26:39.412Z"
   },
   {
    "duration": 8762,
    "start_time": "2022-05-27T17:26:55.173Z"
   },
   {
    "duration": 5,
    "start_time": "2022-05-27T17:27:03.936Z"
   },
   {
    "duration": 385,
    "start_time": "2022-05-27T17:27:03.942Z"
   },
   {
    "duration": 199,
    "start_time": "2022-05-27T17:28:12.637Z"
   },
   {
    "duration": 4,
    "start_time": "2022-05-27T17:28:52.254Z"
   },
   {
    "duration": 2437,
    "start_time": "2022-05-27T17:48:30.869Z"
   },
   {
    "duration": 2048,
    "start_time": "2022-05-27T17:48:33.309Z"
   },
   {
    "duration": 838,
    "start_time": "2022-05-27T17:48:35.359Z"
   },
   {
    "duration": 7389,
    "start_time": "2022-05-27T17:48:36.202Z"
   },
   {
    "duration": 3,
    "start_time": "2022-05-27T17:48:43.592Z"
   },
   {
    "duration": 1748,
    "start_time": "2022-05-27T17:48:43.596Z"
   },
   {
    "duration": 4,
    "start_time": "2022-05-27T17:48:45.346Z"
   },
   {
    "duration": 6,
    "start_time": "2022-05-27T17:48:45.351Z"
   },
   {
    "duration": 46,
    "start_time": "2022-05-27T17:48:45.360Z"
   },
   {
    "duration": 7460,
    "start_time": "2022-05-27T17:48:45.409Z"
   },
   {
    "duration": 17270,
    "start_time": "2022-05-27T17:48:52.871Z"
   },
   {
    "duration": 9312,
    "start_time": "2022-05-27T17:49:10.143Z"
   },
   {
    "duration": 3,
    "start_time": "2022-05-27T17:49:19.457Z"
   },
   {
    "duration": 7,
    "start_time": "2022-05-27T17:49:19.462Z"
   },
   {
    "duration": 162,
    "start_time": "2022-05-27T17:50:09.199Z"
   },
   {
    "duration": 13,
    "start_time": "2022-05-27T17:50:17.972Z"
   },
   {
    "duration": 53,
    "start_time": "2022-05-27T17:50:28.478Z"
   },
   {
    "duration": 44,
    "start_time": "2022-05-27T17:53:41.369Z"
   },
   {
    "duration": 54,
    "start_time": "2022-05-27T17:54:17.306Z"
   },
   {
    "duration": 51,
    "start_time": "2022-05-27T17:55:29.973Z"
   },
   {
    "duration": 4,
    "start_time": "2022-05-27T18:17:36.816Z"
   },
   {
    "duration": 4,
    "start_time": "2022-05-27T18:17:45.007Z"
   },
   {
    "duration": 2426,
    "start_time": "2022-05-27T18:22:07.710Z"
   },
   {
    "duration": 2184,
    "start_time": "2022-05-27T18:22:10.138Z"
   },
   {
    "duration": 861,
    "start_time": "2022-05-27T18:22:12.323Z"
   },
   {
    "duration": 7691,
    "start_time": "2022-05-27T18:22:13.187Z"
   },
   {
    "duration": 3,
    "start_time": "2022-05-27T18:22:20.881Z"
   },
   {
    "duration": 1842,
    "start_time": "2022-05-27T18:22:20.886Z"
   },
   {
    "duration": 5,
    "start_time": "2022-05-27T18:22:22.729Z"
   },
   {
    "duration": 17,
    "start_time": "2022-05-27T18:22:22.736Z"
   },
   {
    "duration": 46,
    "start_time": "2022-05-27T18:22:22.754Z"
   },
   {
    "duration": 7289,
    "start_time": "2022-05-27T18:22:22.803Z"
   },
   {
    "duration": 17455,
    "start_time": "2022-05-27T18:22:30.094Z"
   },
   {
    "duration": 9474,
    "start_time": "2022-05-27T18:22:47.551Z"
   },
   {
    "duration": 5,
    "start_time": "2022-05-27T18:22:57.026Z"
   },
   {
    "duration": 72350,
    "start_time": "2022-05-27T18:22:57.033Z"
   },
   {
    "duration": 6,
    "start_time": "2022-05-27T18:32:14.885Z"
   },
   {
    "duration": 2368,
    "start_time": "2022-05-27T18:33:57.800Z"
   },
   {
    "duration": 2098,
    "start_time": "2022-05-27T18:34:00.171Z"
   },
   {
    "duration": 837,
    "start_time": "2022-05-27T18:34:02.270Z"
   },
   {
    "duration": 6946,
    "start_time": "2022-05-27T18:34:03.108Z"
   },
   {
    "duration": 3,
    "start_time": "2022-05-27T18:34:10.056Z"
   },
   {
    "duration": 1755,
    "start_time": "2022-05-27T18:34:10.061Z"
   },
   {
    "duration": 5,
    "start_time": "2022-05-27T18:34:11.818Z"
   },
   {
    "duration": 11,
    "start_time": "2022-05-27T18:34:11.825Z"
   },
   {
    "duration": 43,
    "start_time": "2022-05-27T18:34:11.838Z"
   },
   {
    "duration": 6616,
    "start_time": "2022-05-27T18:34:11.883Z"
   },
   {
    "duration": 16170,
    "start_time": "2022-05-27T18:34:18.501Z"
   },
   {
    "duration": 9402,
    "start_time": "2022-05-27T18:34:34.673Z"
   },
   {
    "duration": 5,
    "start_time": "2022-05-27T18:34:44.077Z"
   },
   {
    "duration": 2343,
    "start_time": "2022-05-27T18:38:19.386Z"
   },
   {
    "duration": 2064,
    "start_time": "2022-05-27T18:38:21.732Z"
   },
   {
    "duration": 805,
    "start_time": "2022-05-27T18:38:23.798Z"
   },
   {
    "duration": 8575,
    "start_time": "2022-05-27T18:38:24.606Z"
   },
   {
    "duration": 3,
    "start_time": "2022-05-27T18:38:33.183Z"
   },
   {
    "duration": 1733,
    "start_time": "2022-05-27T18:38:33.188Z"
   },
   {
    "duration": 4,
    "start_time": "2022-05-27T18:38:34.923Z"
   },
   {
    "duration": 7,
    "start_time": "2022-05-27T18:38:34.928Z"
   },
   {
    "duration": 37,
    "start_time": "2022-05-27T18:38:34.937Z"
   },
   {
    "duration": 7009,
    "start_time": "2022-05-27T18:38:34.977Z"
   },
   {
    "duration": 18053,
    "start_time": "2022-05-27T18:38:41.988Z"
   },
   {
    "duration": 5,
    "start_time": "2022-05-27T18:39:00.042Z"
   },
   {
    "duration": 41435,
    "start_time": "2022-05-27T18:39:00.049Z"
   },
   {
    "duration": 5,
    "start_time": "2022-05-27T18:39:52.023Z"
   },
   {
    "duration": 2313,
    "start_time": "2022-05-27T18:56:23.574Z"
   },
   {
    "duration": 2253,
    "start_time": "2022-05-27T18:56:25.889Z"
   },
   {
    "duration": 795,
    "start_time": "2022-05-27T18:56:28.144Z"
   },
   {
    "duration": 7092,
    "start_time": "2022-05-27T18:56:28.940Z"
   },
   {
    "duration": 3,
    "start_time": "2022-05-27T18:56:36.035Z"
   },
   {
    "duration": 1698,
    "start_time": "2022-05-27T18:56:36.039Z"
   },
   {
    "duration": 4,
    "start_time": "2022-05-27T18:56:37.738Z"
   },
   {
    "duration": 9,
    "start_time": "2022-05-27T18:56:37.744Z"
   },
   {
    "duration": 50,
    "start_time": "2022-05-27T18:56:37.754Z"
   },
   {
    "duration": 7398,
    "start_time": "2022-05-27T18:56:37.806Z"
   },
   {
    "duration": 5,
    "start_time": "2022-05-27T18:56:45.206Z"
   },
   {
    "duration": 48532,
    "start_time": "2022-05-27T18:56:45.213Z"
   },
   {
    "duration": 2238,
    "start_time": "2022-05-27T19:00:05.322Z"
   },
   {
    "duration": 2470,
    "start_time": "2022-05-27T19:00:07.562Z"
   },
   {
    "duration": 782,
    "start_time": "2022-05-27T19:00:10.034Z"
   },
   {
    "duration": 6855,
    "start_time": "2022-05-27T19:00:10.818Z"
   },
   {
    "duration": 2,
    "start_time": "2022-05-27T19:00:17.675Z"
   },
   {
    "duration": 1688,
    "start_time": "2022-05-27T19:00:17.678Z"
   },
   {
    "duration": 5,
    "start_time": "2022-05-27T19:00:19.367Z"
   },
   {
    "duration": 9,
    "start_time": "2022-05-27T19:00:19.373Z"
   },
   {
    "duration": 44,
    "start_time": "2022-05-27T19:00:19.383Z"
   },
   {
    "duration": 6661,
    "start_time": "2022-05-27T19:00:19.429Z"
   },
   {
    "duration": 4,
    "start_time": "2022-05-27T19:00:26.092Z"
   },
   {
    "duration": 145156,
    "start_time": "2022-05-27T19:00:26.102Z"
   },
   {
    "duration": 2276,
    "start_time": "2022-05-27T19:09:31.134Z"
   },
   {
    "duration": 2338,
    "start_time": "2022-05-27T19:09:33.412Z"
   },
   {
    "duration": 793,
    "start_time": "2022-05-27T19:09:35.752Z"
   },
   {
    "duration": 6829,
    "start_time": "2022-05-27T19:09:36.547Z"
   },
   {
    "duration": 2,
    "start_time": "2022-05-27T19:09:43.378Z"
   },
   {
    "duration": 1660,
    "start_time": "2022-05-27T19:09:43.382Z"
   },
   {
    "duration": 5,
    "start_time": "2022-05-27T19:09:45.044Z"
   },
   {
    "duration": 6,
    "start_time": "2022-05-27T19:09:45.050Z"
   },
   {
    "duration": 44,
    "start_time": "2022-05-27T19:09:45.058Z"
   },
   {
    "duration": 6582,
    "start_time": "2022-05-27T19:09:45.104Z"
   },
   {
    "duration": 4,
    "start_time": "2022-05-27T19:09:51.688Z"
   },
   {
    "duration": 387539,
    "start_time": "2022-05-27T19:09:51.693Z"
   },
   {
    "duration": 0,
    "start_time": "2022-05-27T19:16:19.234Z"
   },
   {
    "duration": 0,
    "start_time": "2022-05-27T19:16:19.235Z"
   },
   {
    "duration": 3,
    "start_time": "2022-05-27T19:17:16.871Z"
   },
   {
    "duration": 27,
    "start_time": "2022-05-27T19:17:19.117Z"
   },
   {
    "duration": 21,
    "start_time": "2022-05-27T19:17:37.532Z"
   },
   {
    "duration": 4,
    "start_time": "2022-05-27T19:17:46.228Z"
   },
   {
    "duration": 62739,
    "start_time": "2022-05-27T19:17:46.912Z"
   },
   {
    "duration": 4630,
    "start_time": "2022-05-27T19:19:35.803Z"
   },
   {
    "duration": 5,
    "start_time": "2022-05-27T19:20:44.706Z"
   },
   {
    "duration": 2281,
    "start_time": "2022-05-27T19:26:37.881Z"
   },
   {
    "duration": 1991,
    "start_time": "2022-05-27T19:26:40.164Z"
   },
   {
    "duration": 738,
    "start_time": "2022-05-27T19:26:42.157Z"
   },
   {
    "duration": 6816,
    "start_time": "2022-05-27T19:26:42.897Z"
   },
   {
    "duration": 3,
    "start_time": "2022-05-27T19:26:49.714Z"
   },
   {
    "duration": 1680,
    "start_time": "2022-05-27T19:26:49.718Z"
   },
   {
    "duration": 4,
    "start_time": "2022-05-27T19:26:51.402Z"
   },
   {
    "duration": 4,
    "start_time": "2022-05-27T19:26:51.408Z"
   },
   {
    "duration": 41,
    "start_time": "2022-05-27T19:26:51.414Z"
   },
   {
    "duration": 6858,
    "start_time": "2022-05-27T19:26:51.457Z"
   },
   {
    "duration": 4,
    "start_time": "2022-05-27T19:26:58.317Z"
   },
   {
    "duration": 2191,
    "start_time": "2022-05-27T19:29:57.853Z"
   },
   {
    "duration": 2005,
    "start_time": "2022-05-27T19:30:00.047Z"
   },
   {
    "duration": 762,
    "start_time": "2022-05-27T19:30:02.054Z"
   },
   {
    "duration": 6876,
    "start_time": "2022-05-27T19:30:02.818Z"
   },
   {
    "duration": 3,
    "start_time": "2022-05-27T19:30:09.696Z"
   },
   {
    "duration": 1640,
    "start_time": "2022-05-27T19:30:09.702Z"
   },
   {
    "duration": 5,
    "start_time": "2022-05-27T19:30:11.344Z"
   },
   {
    "duration": 22,
    "start_time": "2022-05-27T19:30:11.351Z"
   },
   {
    "duration": 41,
    "start_time": "2022-05-27T19:30:11.375Z"
   },
   {
    "duration": 6680,
    "start_time": "2022-05-27T19:30:11.418Z"
   },
   {
    "duration": 18362,
    "start_time": "2022-05-27T19:30:18.102Z"
   },
   {
    "duration": 2613,
    "start_time": "2022-05-27T19:30:36.466Z"
   },
   {
    "duration": 4230,
    "start_time": "2022-05-27T19:30:48.400Z"
   },
   {
    "duration": 2928,
    "start_time": "2022-05-27T19:31:06.208Z"
   },
   {
    "duration": 4051,
    "start_time": "2022-05-27T19:31:11.960Z"
   },
   {
    "duration": 2479,
    "start_time": "2022-05-27T19:31:22.804Z"
   },
   {
    "duration": 4121,
    "start_time": "2022-05-27T19:31:26.315Z"
   },
   {
    "duration": 2674,
    "start_time": "2022-05-27T19:31:41.475Z"
   },
   {
    "duration": 4135,
    "start_time": "2022-05-27T19:31:46.006Z"
   },
   {
    "duration": 2738,
    "start_time": "2022-05-27T19:31:57.396Z"
   },
   {
    "duration": 4163,
    "start_time": "2022-05-27T19:32:00.136Z"
   },
   {
    "duration": 2797,
    "start_time": "2022-05-27T19:32:10.206Z"
   },
   {
    "duration": 4099,
    "start_time": "2022-05-27T19:32:13.005Z"
   },
   {
    "duration": 2720,
    "start_time": "2022-05-27T19:32:43.762Z"
   },
   {
    "duration": 4177,
    "start_time": "2022-05-27T19:32:46.484Z"
   },
   {
    "duration": 2672,
    "start_time": "2022-05-27T19:32:56.648Z"
   },
   {
    "duration": 4210,
    "start_time": "2022-05-27T19:32:59.322Z"
   },
   {
    "duration": 3946,
    "start_time": "2022-05-27T19:34:02.692Z"
   },
   {
    "duration": 3955,
    "start_time": "2022-05-27T19:34:22.462Z"
   },
   {
    "duration": 4564,
    "start_time": "2022-05-27T19:34:42.632Z"
   },
   {
    "duration": 3920,
    "start_time": "2022-05-27T19:34:59.810Z"
   },
   {
    "duration": 4519,
    "start_time": "2022-05-27T19:35:03.731Z"
   },
   {
    "duration": 4130,
    "start_time": "2022-05-27T19:35:26.473Z"
   },
   {
    "duration": 4548,
    "start_time": "2022-05-27T19:35:30.604Z"
   },
   {
    "duration": 4283,
    "start_time": "2022-05-27T19:35:47.609Z"
   },
   {
    "duration": 4542,
    "start_time": "2022-05-27T19:35:51.894Z"
   },
   {
    "duration": 17481,
    "start_time": "2022-05-27T19:36:08.116Z"
   },
   {
    "duration": 9569,
    "start_time": "2022-05-27T19:36:25.602Z"
   },
   {
    "duration": 5,
    "start_time": "2022-05-27T19:37:41.490Z"
   },
   {
    "duration": 1637,
    "start_time": "2022-05-27T19:38:44.507Z"
   },
   {
    "duration": 3983,
    "start_time": "2022-05-27T19:38:46.146Z"
   },
   {
    "duration": 9,
    "start_time": "2022-05-27T19:39:21.410Z"
   },
   {
    "duration": 1640,
    "start_time": "2022-05-27T19:39:29.788Z"
   },
   {
    "duration": 18802,
    "start_time": "2022-05-27T19:39:43.291Z"
   },
   {
    "duration": 9326,
    "start_time": "2022-05-27T19:40:02.095Z"
   },
   {
    "duration": 5,
    "start_time": "2022-05-27T19:42:22.561Z"
   },
   {
    "duration": 35574,
    "start_time": "2022-05-27T19:42:54.174Z"
   },
   {
    "duration": 19915,
    "start_time": "2022-05-27T19:43:29.751Z"
   },
   {
    "duration": 36,
    "start_time": "2022-05-27T19:44:36.584Z"
   },
   {
    "duration": 29853,
    "start_time": "2022-05-27T19:44:41.657Z"
   },
   {
    "duration": 2452,
    "start_time": "2022-05-27T19:49:33.978Z"
   },
   {
    "duration": 2035,
    "start_time": "2022-05-27T19:49:36.433Z"
   },
   {
    "duration": 787,
    "start_time": "2022-05-27T19:49:38.470Z"
   },
   {
    "duration": 6884,
    "start_time": "2022-05-27T19:49:39.259Z"
   },
   {
    "duration": 3,
    "start_time": "2022-05-27T19:49:46.145Z"
   },
   {
    "duration": 1696,
    "start_time": "2022-05-27T19:49:46.150Z"
   },
   {
    "duration": 5,
    "start_time": "2022-05-27T19:49:47.848Z"
   },
   {
    "duration": 16,
    "start_time": "2022-05-27T19:49:47.855Z"
   },
   {
    "duration": 36,
    "start_time": "2022-05-27T19:49:47.873Z"
   },
   {
    "duration": 7083,
    "start_time": "2022-05-27T19:49:47.913Z"
   },
   {
    "duration": 21138,
    "start_time": "2022-05-27T19:49:54.997Z"
   },
   {
    "duration": 9769,
    "start_time": "2022-05-27T19:50:16.137Z"
   },
   {
    "duration": 2985,
    "start_time": "2022-05-27T19:50:25.907Z"
   },
   {
    "duration": 4370,
    "start_time": "2022-05-27T19:50:28.893Z"
   },
   {
    "duration": 2383,
    "start_time": "2022-05-27T19:50:33.265Z"
   },
   {
    "duration": 4347,
    "start_time": "2022-05-27T19:50:35.649Z"
   },
   {
    "duration": 7847,
    "start_time": "2022-05-27T19:51:53.360Z"
   },
   {
    "duration": 7783,
    "start_time": "2022-05-27T19:52:27.747Z"
   },
   {
    "duration": 6855,
    "start_time": "2022-05-27T19:52:35.531Z"
   },
   {
    "duration": 10082,
    "start_time": "2022-05-27T19:52:48.306Z"
   },
   {
    "duration": 21,
    "start_time": "2022-05-27T20:00:09.650Z"
   },
   {
    "duration": 1939,
    "start_time": "2022-05-27T20:01:18.561Z"
   },
   {
    "duration": 1869,
    "start_time": "2022-05-27T20:01:28.727Z"
   },
   {
    "duration": 1888,
    "start_time": "2022-05-27T20:01:36.852Z"
   },
   {
    "duration": 1893,
    "start_time": "2022-05-27T20:01:47.929Z"
   },
   {
    "duration": 2007,
    "start_time": "2022-05-27T20:01:59.603Z"
   },
   {
    "duration": 1896,
    "start_time": "2022-05-27T20:02:09.842Z"
   },
   {
    "duration": 1844,
    "start_time": "2022-05-27T20:02:16.222Z"
   },
   {
    "duration": 1900,
    "start_time": "2022-05-27T20:02:25.806Z"
   },
   {
    "duration": 1919,
    "start_time": "2022-05-27T20:02:35.007Z"
   },
   {
    "duration": 1912,
    "start_time": "2022-05-27T20:02:41.186Z"
   },
   {
    "duration": 2075,
    "start_time": "2022-05-27T20:02:50.649Z"
   },
   {
    "duration": 2097,
    "start_time": "2022-05-27T20:02:59.489Z"
   },
   {
    "duration": 1817,
    "start_time": "2022-05-27T20:03:42.565Z"
   },
   {
    "duration": 1782,
    "start_time": "2022-05-27T20:03:51.774Z"
   },
   {
    "duration": 1772,
    "start_time": "2022-05-27T20:03:59.630Z"
   },
   {
    "duration": 1851,
    "start_time": "2022-05-27T20:04:07.774Z"
   },
   {
    "duration": 1787,
    "start_time": "2022-05-27T20:04:14.761Z"
   },
   {
    "duration": 1708,
    "start_time": "2022-05-27T20:04:24.635Z"
   },
   {
    "duration": 1845,
    "start_time": "2022-05-27T20:04:31.195Z"
   },
   {
    "duration": 1704,
    "start_time": "2022-05-27T20:04:41.567Z"
   },
   {
    "duration": 1790,
    "start_time": "2022-05-27T20:04:50.387Z"
   },
   {
    "duration": 1771,
    "start_time": "2022-05-27T20:05:12.201Z"
   },
   {
    "duration": 7,
    "start_time": "2022-05-27T20:06:39.151Z"
   },
   {
    "duration": 176,
    "start_time": "2022-05-27T20:07:51.574Z"
   },
   {
    "duration": 105477,
    "start_time": "2022-05-27T20:08:12.476Z"
   },
   {
    "duration": 12,
    "start_time": "2022-05-27T20:13:11.933Z"
   },
   {
    "duration": 16,
    "start_time": "2022-05-27T20:13:21.709Z"
   },
   {
    "duration": 14,
    "start_time": "2022-05-27T20:13:52.285Z"
   },
   {
    "duration": 5803,
    "start_time": "2022-05-27T20:14:43.184Z"
   },
   {
    "duration": 20,
    "start_time": "2022-05-27T20:15:04.118Z"
   },
   {
    "duration": 15,
    "start_time": "2022-05-27T20:15:41.640Z"
   },
   {
    "duration": 6,
    "start_time": "2022-05-27T20:16:04.095Z"
   },
   {
    "duration": 15,
    "start_time": "2022-05-27T20:16:31.762Z"
   },
   {
    "duration": 14,
    "start_time": "2022-05-27T20:16:53.025Z"
   },
   {
    "duration": 6,
    "start_time": "2022-05-27T20:16:58.095Z"
   },
   {
    "duration": 12,
    "start_time": "2022-05-27T20:17:08.684Z"
   },
   {
    "duration": 2705,
    "start_time": "2022-05-27T20:17:14.873Z"
   },
   {
    "duration": 2675,
    "start_time": "2022-05-27T20:19:46.984Z"
   },
   {
    "duration": 2861,
    "start_time": "2022-05-27T20:20:03.754Z"
   },
   {
    "duration": 2852,
    "start_time": "2022-05-27T20:20:52.276Z"
   },
   {
    "duration": 23,
    "start_time": "2022-05-27T20:22:09.978Z"
   },
   {
    "duration": 5459,
    "start_time": "2022-05-27T20:23:20.817Z"
   },
   {
    "duration": 5984,
    "start_time": "2022-05-27T20:23:32.450Z"
   },
   {
    "duration": 7075,
    "start_time": "2022-05-27T20:23:43.749Z"
   },
   {
    "duration": 7045,
    "start_time": "2022-05-27T20:23:58.668Z"
   },
   {
    "duration": 7500,
    "start_time": "2022-05-27T20:24:10.868Z"
   },
   {
    "duration": 7301,
    "start_time": "2022-05-27T20:24:23.652Z"
   },
   {
    "duration": 7437,
    "start_time": "2022-05-27T20:24:40.306Z"
   },
   {
    "duration": 2843,
    "start_time": "2022-05-27T20:24:56.403Z"
   },
   {
    "duration": 3012,
    "start_time": "2022-05-27T20:26:29.145Z"
   },
   {
    "duration": 3085,
    "start_time": "2022-05-27T20:26:39.083Z"
   },
   {
    "duration": 2891,
    "start_time": "2022-05-27T20:26:47.443Z"
   },
   {
    "duration": 2841,
    "start_time": "2022-05-27T20:26:56.396Z"
   },
   {
    "duration": 2870,
    "start_time": "2022-05-27T20:27:04.095Z"
   },
   {
    "duration": 2841,
    "start_time": "2022-05-27T20:27:12.985Z"
   },
   {
    "duration": 2893,
    "start_time": "2022-05-27T20:27:23.330Z"
   },
   {
    "duration": 2939,
    "start_time": "2022-05-27T20:27:36.100Z"
   },
   {
    "duration": 2950,
    "start_time": "2022-05-27T20:27:45.526Z"
   },
   {
    "duration": 2907,
    "start_time": "2022-05-27T20:28:00.727Z"
   },
   {
    "duration": 2893,
    "start_time": "2022-05-27T20:28:12.343Z"
   },
   {
    "duration": 2785,
    "start_time": "2022-05-27T20:28:21.409Z"
   },
   {
    "duration": 2875,
    "start_time": "2022-05-27T20:28:32.666Z"
   },
   {
    "duration": 2852,
    "start_time": "2022-05-27T20:28:43.701Z"
   },
   {
    "duration": 2900,
    "start_time": "2022-05-27T20:28:51.563Z"
   },
   {
    "duration": 3075,
    "start_time": "2022-05-27T20:29:02.354Z"
   },
   {
    "duration": 3160,
    "start_time": "2022-05-27T20:29:12.154Z"
   },
   {
    "duration": 3053,
    "start_time": "2022-05-27T20:29:23.599Z"
   },
   {
    "duration": 3078,
    "start_time": "2022-05-27T20:29:32.415Z"
   },
   {
    "duration": 3003,
    "start_time": "2022-05-27T20:29:42.506Z"
   },
   {
    "duration": 3123,
    "start_time": "2022-05-27T20:29:54.852Z"
   },
   {
    "duration": 3011,
    "start_time": "2022-05-27T20:30:04.540Z"
   },
   {
    "duration": 2896,
    "start_time": "2022-05-27T20:30:23.839Z"
   },
   {
    "duration": 4804,
    "start_time": "2022-05-27T20:30:58.850Z"
   },
   {
    "duration": 3104,
    "start_time": "2022-05-27T20:33:03.057Z"
   },
   {
    "duration": 4357,
    "start_time": "2022-05-27T20:33:07.628Z"
   },
   {
    "duration": 3070,
    "start_time": "2022-05-27T20:33:25.007Z"
   },
   {
    "duration": 4420,
    "start_time": "2022-05-27T20:33:28.078Z"
   },
   {
    "duration": 3281,
    "start_time": "2022-05-27T20:34:18.339Z"
   },
   {
    "duration": 4365,
    "start_time": "2022-05-27T20:34:26.790Z"
   },
   {
    "duration": 41,
    "start_time": "2022-05-28T08:30:11.946Z"
   },
   {
    "duration": 38,
    "start_time": "2022-05-28T08:31:48.700Z"
   },
   {
    "duration": 44,
    "start_time": "2022-05-29T10:54:52.181Z"
   }
  ],
  "kernelspec": {
   "display_name": "Python 3 (ipykernel)",
   "language": "python",
   "name": "python3"
  },
  "language_info": {
   "codemirror_mode": {
    "name": "ipython",
    "version": 3
   },
   "file_extension": ".py",
   "mimetype": "text/x-python",
   "name": "python",
   "nbconvert_exporter": "python",
   "pygments_lexer": "ipython3",
   "version": "3.9.13"
  },
  "toc": {
   "base_numbering": 1,
   "nav_menu": {},
   "number_sections": true,
   "sideBar": true,
   "skip_h1_title": true,
   "title_cell": "Содержание",
   "title_sidebar": "Contents",
   "toc_cell": true,
   "toc_position": {
    "height": "calc(100% - 180px)",
    "left": "10px",
    "top": "150px",
    "width": "302.391px"
   },
   "toc_section_display": true,
   "toc_window_display": false
  }
 },
 "nbformat": 4,
 "nbformat_minor": 2
}
