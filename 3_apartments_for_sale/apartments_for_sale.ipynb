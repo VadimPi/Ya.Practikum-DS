{
 "cells": [
  {
   "cell_type": "markdown",
   "metadata": {
    "toc": true
   },
   "source": [
    "<h1>Содержание<span class=\"tocSkip\"></span></h1>\n",
    "<div class=\"toc\"><ul class=\"toc-item\"><li><span><a href=\"#Изучение-данных-из-файла\" data-toc-modified-id=\"Изучение-данных-из-файла-1\"><span class=\"toc-item-num\">1&nbsp;&nbsp;</span>Изучение данных из файла</a></span><ul class=\"toc-item\"><li><span><a href=\"#Вывод\" data-toc-modified-id=\"Вывод-1.1\"><span class=\"toc-item-num\">1.1&nbsp;&nbsp;</span>Вывод</a></span></li></ul></li><li><span><a href=\"#Предобработка-данных\" data-toc-modified-id=\"Предобработка-данных-2\"><span class=\"toc-item-num\">2&nbsp;&nbsp;</span>Предобработка данных</a></span><ul class=\"toc-item\"><li><span><a href=\"#Вывод:\" data-toc-modified-id=\"Вывод:-2.1\"><span class=\"toc-item-num\">2.1&nbsp;&nbsp;</span>Вывод:</a></span></li></ul></li><li><span><a href=\"#Расчёты-и-добавление-результатов-в-таблицу\" data-toc-modified-id=\"Расчёты-и-добавление-результатов-в-таблицу-3\"><span class=\"toc-item-num\">3&nbsp;&nbsp;</span>Расчёты и добавление результатов в таблицу</a></span><ul class=\"toc-item\"><li><span><a href=\"#Вывод:\" data-toc-modified-id=\"Вывод:-3.1\"><span class=\"toc-item-num\">3.1&nbsp;&nbsp;</span>Вывод:</a></span></li></ul></li><li><span><a href=\"#Исследовательский-анализ-данных\" data-toc-modified-id=\"Исследовательский-анализ-данных-4\"><span class=\"toc-item-num\">4&nbsp;&nbsp;</span>Исследовательский анализ данных</a></span><ul class=\"toc-item\"><li><span><a href=\"#Изучите-следующие-параметры:-площадь,-цена,-число-комнат,-высота-потолков.-Постройте-гистограммы-для-каждого-параметра.\" data-toc-modified-id=\"Изучите-следующие-параметры:-площадь,-цена,-число-комнат,-высота-потолков.-Постройте-гистограммы-для-каждого-параметра.-4.1\"><span class=\"toc-item-num\">4.1&nbsp;&nbsp;</span>Изучите следующие параметры: площадь, цена, число комнат, высота потолков. Постройте гистограммы для каждого параметра.</a></span><ul class=\"toc-item\"><li><span><a href=\"#Площадь\" data-toc-modified-id=\"Площадь-4.1.1\"><span class=\"toc-item-num\">4.1.1&nbsp;&nbsp;</span>Площадь</a></span></li><li><span><a href=\"#Цена\" data-toc-modified-id=\"Цена-4.1.2\"><span class=\"toc-item-num\">4.1.2&nbsp;&nbsp;</span>Цена</a></span></li><li><span><a href=\"#Число-комнат\" data-toc-modified-id=\"Число-комнат-4.1.3\"><span class=\"toc-item-num\">4.1.3&nbsp;&nbsp;</span>Число комнат</a></span></li><li><span><a href=\"#Высота-потолков\" data-toc-modified-id=\"Высота-потолков-4.1.4\"><span class=\"toc-item-num\">4.1.4&nbsp;&nbsp;</span>Высота потолков</a></span></li></ul></li><li><span><a href=\"#Изучите-время-продажи-квартиры.-Постройте-гистограмму.-Посчитайте-среднее-и-медиану.-Опишите,-сколько-обычно-занимает-продажа.-Когда-можно-считать,-что-продажи-прошли-очень-быстро,-а-когда-необычно-долго?\" data-toc-modified-id=\"Изучите-время-продажи-квартиры.-Постройте-гистограмму.-Посчитайте-среднее-и-медиану.-Опишите,-сколько-обычно-занимает-продажа.-Когда-можно-считать,-что-продажи-прошли-очень-быстро,-а-когда-необычно-долго?-4.2\"><span class=\"toc-item-num\">4.2&nbsp;&nbsp;</span>Изучите время продажи квартиры. Постройте гистограмму. Посчитайте среднее и медиану. Опишите, сколько обычно занимает продажа. Когда можно считать, что продажи прошли очень быстро, а когда необычно долго?</a></span><ul class=\"toc-item\"><li><span><a href=\"#итог:\" data-toc-modified-id=\"итог:-4.2.1\"><span class=\"toc-item-num\">4.2.1&nbsp;&nbsp;</span>итог:</a></span></li></ul></li><li><span><a href=\"#Уберем-редкие-и-выбивающиеся-значения.\" data-toc-modified-id=\"Уберем-редкие-и-выбивающиеся-значения.-4.3\"><span class=\"toc-item-num\">4.3&nbsp;&nbsp;</span>Уберем редкие и выбивающиеся значения.</a></span></li><li><span><a href=\"#Какие-факторы-больше-всего-влияют-на-стоимость-квартиры?-Изучаем,-зависит-ли-цена-от-площади,-числа-комнат,-удалённости-от-центра.-Изучим-зависимость-цены-от-того,-на-каком-этаже-расположена-квартира:-первом,-последнем-или-другом.-Также-изучим-зависимость-от-даты-размещения:-дня-недели,-месяца-и-года.\" data-toc-modified-id=\"Какие-факторы-больше-всего-влияют-на-стоимость-квартиры?-Изучаем,-зависит-ли-цена-от-площади,-числа-комнат,-удалённости-от-центра.-Изучим-зависимость-цены-от-того,-на-каком-этаже-расположена-квартира:-первом,-последнем-или-другом.-Также-изучим-зависимость-от-даты-размещения:-дня-недели,-месяца-и-года.-4.4\"><span class=\"toc-item-num\">4.4&nbsp;&nbsp;</span>Какие факторы больше всего влияют на стоимость квартиры? Изучаем, зависит ли цена от площади, числа комнат, удалённости от центра. Изучим зависимость цены от того, на каком этаже расположена квартира: первом, последнем или другом. Также изучим зависимость от даты размещения: дня недели, месяца и года.</a></span><ul class=\"toc-item\"><li><span><a href=\"#Вывод:\" data-toc-modified-id=\"Вывод:-4.4.1\"><span class=\"toc-item-num\">4.4.1&nbsp;&nbsp;</span>Вывод:</a></span></li></ul></li><li><span><a href=\"#Выберем-10-населённых-пунктов-с-наибольшим-числом-объявлений.-Посчитаем-среднюю-цену-квадратного-метра-в-этих-населённых-пунктах.-Выделим-населённые-пункты-с-самой-высокой-и-низкой-стоимостью-жилья.\" data-toc-modified-id=\"Выберем-10-населённых-пунктов-с-наибольшим-числом-объявлений.-Посчитаем-среднюю-цену-квадратного-метра-в-этих-населённых-пунктах.-Выделим-населённые-пункты-с-самой-высокой-и-низкой-стоимостью-жилья.-4.5\"><span class=\"toc-item-num\">4.5&nbsp;&nbsp;</span>Выберем 10 населённых пунктов с наибольшим числом объявлений. Посчитаем среднюю цену квадратного метра в этих населённых пунктах. Выделим населённые пункты с самой высокой и низкой стоимостью жилья.</a></span><ul class=\"toc-item\"><li><span><a href=\"#Вывод:\" data-toc-modified-id=\"Вывод:-4.5.1\"><span class=\"toc-item-num\">4.5.1&nbsp;&nbsp;</span>Вывод:</a></span></li></ul></li><li><span><a href=\"#Выяснить,-какая-область-входит-в-центр.--Посчитаем-среднюю-цену-для-каждого-километра.-Построим-график-как-цена-зависит-от-удалённости-от-центра.-Определим-границу,-где-график-сильно-меняется,-—-это-и-будет-центральная-зона.\" data-toc-modified-id=\"Выяснить,-какая-область-входит-в-центр.--Посчитаем-среднюю-цену-для-каждого-километра.-Построим-график-как-цена-зависит-от-удалённости-от-центра.-Определим-границу,-где-график-сильно-меняется,-—-это-и-будет-центральная-зона.-4.6\"><span class=\"toc-item-num\">4.6&nbsp;&nbsp;</span>Выяснить, какая область входит в центр.  Посчитаем среднюю цену для каждого километра. Построим график как цена зависит от удалённости от центра. Определим границу, где график сильно меняется, — это и будет центральная зона.</a></span><ul class=\"toc-item\"><li><span><a href=\"#Вывод:\" data-toc-modified-id=\"Вывод:-4.6.1\"><span class=\"toc-item-num\">4.6.1&nbsp;&nbsp;</span>Вывод:</a></span></li></ul></li><li><span><a href=\"#Выделяем-сегмент-квартир-в-центре.-Проанализируем-эту-территорию-и-изучим-следующие-параметры:-площадь,-цена,-число-комнат,-высота-потолков.-Также-выделим-факторы,-которые-влияют-на-стоимость-квартиры-(число-комнат,-этаж,-удалённость-от-центра,-дата-размещения-объявления).\" data-toc-modified-id=\"Выделяем-сегмент-квартир-в-центре.-Проанализируем-эту-территорию-и-изучим-следующие-параметры:-площадь,-цена,-число-комнат,-высота-потолков.-Также-выделим-факторы,-которые-влияют-на-стоимость-квартиры-(число-комнат,-этаж,-удалённость-от-центра,-дата-размещения-объявления).-4.7\"><span class=\"toc-item-num\">4.7&nbsp;&nbsp;</span>Выделяем сегмент квартир в центре. Проанализируем эту территорию и изучим следующие параметры: площадь, цена, число комнат, высота потолков. Также выделим факторы, которые влияют на стоимость квартиры (число комнат, этаж, удалённость от центра, дата размещения объявления).</a></span><ul class=\"toc-item\"><li><span><a href=\"#Вывод:\" data-toc-modified-id=\"Вывод:-4.7.1\"><span class=\"toc-item-num\">4.7.1&nbsp;&nbsp;</span>Вывод:</a></span></li></ul></li><li><span><a href=\"#Общий-вывод\" data-toc-modified-id=\"Общий-вывод-4.8\"><span class=\"toc-item-num\">4.8&nbsp;&nbsp;</span>Общий вывод</a></span></li></ul></li></ul></div>"
   ]
  },
  {
   "cell_type": "markdown",
   "metadata": {},
   "source": [
    "# Исследование объявлений о продаже квартир\n",
    "\n",
    "В вашем распоряжении данные сервиса Яндекс.Недвижимость — архив объявлений о продаже квартир в Санкт-Петербурге и соседних населённых пунктах за несколько лет. Нужно научиться определять рыночную стоимость объектов недвижимости. Ваша задача — установить параметры. Это позволит построить автоматизированную систему: она отследит аномалии и мошенническую деятельность. \n",
    "\n",
    "По каждой квартире на продажу доступны два вида данных. Первые вписаны пользователем, вторые получены автоматически на основе картографических данных. Например, расстояние до центра, аэропорта, ближайшего парка и водоёма. "
   ]
  },
  {
   "cell_type": "markdown",
   "metadata": {},
   "source": [
    "## Изучение данных из файла"
   ]
  },
  {
   "cell_type": "markdown",
   "metadata": {},
   "source": [
    "**Цели проекта:**\n",
    "- Изучите следующие параметры: площадь, цена, число комнат, высота потолков. Постройте гистограммы для каждого параметра.\n",
    "- Изучите время продажи квартиры. Постройте гистограмму. Посчитайте среднее и медиану. Опишите, сколько обычно занимает продажа. Когда можно считать, что продажи прошли очень быстро, а когда необычно долго?\n",
    "- Уберите редкие и выбивающиеся значения. Опишите, какие особенности обнаружили.\n",
    "- Какие факторы больше всего влияют на стоимость квартиры? Изучите, зависит ли цена от площади, числа комнат, удалённости от центра. Изучите зависимость цены от того, на каком этаже расположена квартира: первом, последнем или другом. Также изучите зависимость от даты размещения: дня недели, месяца и года.\n",
    "- Выберите 10 населённых пунктов с наибольшим числом объявлений. Посчитайте среднюю цену квадратного метра в этих населённых пунктах. Выделите населённые пункты с самой высокой и низкой стоимостью жилья. Эти данные можно найти по имени в столбце locality_name.\n",
    "- Изучите предложения квартир: для каждой квартиры есть информация о расстоянии до центра. Выделите квартиры в Санкт-Петербурге (locality_name). Ваша задача — выяснить, какая область входит в центр. Создайте столбец с расстоянием до центра в километрах: округлите до целых значений. После этого посчитайте среднюю цену для каждого километра. Постройте график: он должен показывать, как цена зависит от удалённости от центра. Определите границу, где график сильно меняется, — это и будет центральная зона.\n",
    "- Выделите сегмент квартир в центре. Проанализируйте эту территорию и изучите следующие параметры: площадь, цена, число комнат, высота потолков. Также выделите факторы, которые влияют на стоимость квартиры (число комнат, этаж, удалённость от центра, дата размещения объявления). Сделайте выводы. Отличаются ли они от общих выводов по всему городу?"
   ]
  },
  {
   "cell_type": "code",
   "execution_count": 1,
   "metadata": {
    "scrolled": false
   },
   "outputs": [
    {
     "name": "stdout",
     "output_type": "stream",
     "text": [
      "<class 'pandas.core.frame.DataFrame'>\n",
      "RangeIndex: 23699 entries, 0 to 23698\n",
      "Data columns (total 22 columns):\n",
      "total_images            23699 non-null int64\n",
      "last_price              23699 non-null float64\n",
      "total_area              23699 non-null float64\n",
      "first_day_exposition    23699 non-null object\n",
      "rooms                   23699 non-null int64\n",
      "ceiling_height          14504 non-null float64\n",
      "floors_total            23613 non-null float64\n",
      "living_area             21796 non-null float64\n",
      "floor                   23699 non-null int64\n",
      "is_apartment            2775 non-null object\n",
      "studio                  23699 non-null bool\n",
      "open_plan               23699 non-null bool\n",
      "kitchen_area            21421 non-null float64\n",
      "balcony                 12180 non-null float64\n",
      "locality_name           23650 non-null object\n",
      "airports_nearest        18157 non-null float64\n",
      "cityCenters_nearest     18180 non-null float64\n",
      "parks_around3000        18181 non-null float64\n",
      "parks_nearest           8079 non-null float64\n",
      "ponds_around3000        18181 non-null float64\n",
      "ponds_nearest           9110 non-null float64\n",
      "days_exposition         20518 non-null float64\n",
      "dtypes: bool(2), float64(14), int64(3), object(3)\n",
      "memory usage: 3.7+ MB\n"
     ]
    },
    {
     "data": {
      "text/html": [
       "<div>\n",
       "<style scoped>\n",
       "    .dataframe tbody tr th:only-of-type {\n",
       "        vertical-align: middle;\n",
       "    }\n",
       "\n",
       "    .dataframe tbody tr th {\n",
       "        vertical-align: top;\n",
       "    }\n",
       "\n",
       "    .dataframe thead th {\n",
       "        text-align: right;\n",
       "    }\n",
       "</style>\n",
       "<table border=\"1\" class=\"dataframe\">\n",
       "  <thead>\n",
       "    <tr style=\"text-align: right;\">\n",
       "      <th></th>\n",
       "      <th>total_images</th>\n",
       "      <th>last_price</th>\n",
       "      <th>total_area</th>\n",
       "      <th>first_day_exposition</th>\n",
       "      <th>rooms</th>\n",
       "      <th>ceiling_height</th>\n",
       "      <th>floors_total</th>\n",
       "      <th>living_area</th>\n",
       "      <th>floor</th>\n",
       "      <th>is_apartment</th>\n",
       "      <th>...</th>\n",
       "      <th>kitchen_area</th>\n",
       "      <th>balcony</th>\n",
       "      <th>locality_name</th>\n",
       "      <th>airports_nearest</th>\n",
       "      <th>cityCenters_nearest</th>\n",
       "      <th>parks_around3000</th>\n",
       "      <th>parks_nearest</th>\n",
       "      <th>ponds_around3000</th>\n",
       "      <th>ponds_nearest</th>\n",
       "      <th>days_exposition</th>\n",
       "    </tr>\n",
       "  </thead>\n",
       "  <tbody>\n",
       "    <tr>\n",
       "      <td>0</td>\n",
       "      <td>20</td>\n",
       "      <td>13000000.0</td>\n",
       "      <td>108.0</td>\n",
       "      <td>2019-03-07T00:00:00</td>\n",
       "      <td>3</td>\n",
       "      <td>2.70</td>\n",
       "      <td>16.0</td>\n",
       "      <td>51.0</td>\n",
       "      <td>8</td>\n",
       "      <td>NaN</td>\n",
       "      <td>...</td>\n",
       "      <td>25.0</td>\n",
       "      <td>NaN</td>\n",
       "      <td>Санкт-Петербург</td>\n",
       "      <td>18863.0</td>\n",
       "      <td>16028.0</td>\n",
       "      <td>1.0</td>\n",
       "      <td>482.0</td>\n",
       "      <td>2.0</td>\n",
       "      <td>755.0</td>\n",
       "      <td>NaN</td>\n",
       "    </tr>\n",
       "    <tr>\n",
       "      <td>1</td>\n",
       "      <td>7</td>\n",
       "      <td>3350000.0</td>\n",
       "      <td>40.4</td>\n",
       "      <td>2018-12-04T00:00:00</td>\n",
       "      <td>1</td>\n",
       "      <td>NaN</td>\n",
       "      <td>11.0</td>\n",
       "      <td>18.6</td>\n",
       "      <td>1</td>\n",
       "      <td>NaN</td>\n",
       "      <td>...</td>\n",
       "      <td>11.0</td>\n",
       "      <td>2.0</td>\n",
       "      <td>посёлок Шушары</td>\n",
       "      <td>12817.0</td>\n",
       "      <td>18603.0</td>\n",
       "      <td>0.0</td>\n",
       "      <td>NaN</td>\n",
       "      <td>0.0</td>\n",
       "      <td>NaN</td>\n",
       "      <td>81.0</td>\n",
       "    </tr>\n",
       "    <tr>\n",
       "      <td>2</td>\n",
       "      <td>10</td>\n",
       "      <td>5196000.0</td>\n",
       "      <td>56.0</td>\n",
       "      <td>2015-08-20T00:00:00</td>\n",
       "      <td>2</td>\n",
       "      <td>NaN</td>\n",
       "      <td>5.0</td>\n",
       "      <td>34.3</td>\n",
       "      <td>4</td>\n",
       "      <td>NaN</td>\n",
       "      <td>...</td>\n",
       "      <td>8.3</td>\n",
       "      <td>0.0</td>\n",
       "      <td>Санкт-Петербург</td>\n",
       "      <td>21741.0</td>\n",
       "      <td>13933.0</td>\n",
       "      <td>1.0</td>\n",
       "      <td>90.0</td>\n",
       "      <td>2.0</td>\n",
       "      <td>574.0</td>\n",
       "      <td>558.0</td>\n",
       "    </tr>\n",
       "    <tr>\n",
       "      <td>3</td>\n",
       "      <td>0</td>\n",
       "      <td>64900000.0</td>\n",
       "      <td>159.0</td>\n",
       "      <td>2015-07-24T00:00:00</td>\n",
       "      <td>3</td>\n",
       "      <td>NaN</td>\n",
       "      <td>14.0</td>\n",
       "      <td>NaN</td>\n",
       "      <td>9</td>\n",
       "      <td>NaN</td>\n",
       "      <td>...</td>\n",
       "      <td>NaN</td>\n",
       "      <td>0.0</td>\n",
       "      <td>Санкт-Петербург</td>\n",
       "      <td>28098.0</td>\n",
       "      <td>6800.0</td>\n",
       "      <td>2.0</td>\n",
       "      <td>84.0</td>\n",
       "      <td>3.0</td>\n",
       "      <td>234.0</td>\n",
       "      <td>424.0</td>\n",
       "    </tr>\n",
       "    <tr>\n",
       "      <td>4</td>\n",
       "      <td>2</td>\n",
       "      <td>10000000.0</td>\n",
       "      <td>100.0</td>\n",
       "      <td>2018-06-19T00:00:00</td>\n",
       "      <td>2</td>\n",
       "      <td>3.03</td>\n",
       "      <td>14.0</td>\n",
       "      <td>32.0</td>\n",
       "      <td>13</td>\n",
       "      <td>NaN</td>\n",
       "      <td>...</td>\n",
       "      <td>41.0</td>\n",
       "      <td>NaN</td>\n",
       "      <td>Санкт-Петербург</td>\n",
       "      <td>31856.0</td>\n",
       "      <td>8098.0</td>\n",
       "      <td>2.0</td>\n",
       "      <td>112.0</td>\n",
       "      <td>1.0</td>\n",
       "      <td>48.0</td>\n",
       "      <td>121.0</td>\n",
       "    </tr>\n",
       "  </tbody>\n",
       "</table>\n",
       "<p>5 rows × 22 columns</p>\n",
       "</div>"
      ],
      "text/plain": [
       "   total_images  last_price  total_area first_day_exposition  rooms  \\\n",
       "0            20  13000000.0       108.0  2019-03-07T00:00:00      3   \n",
       "1             7   3350000.0        40.4  2018-12-04T00:00:00      1   \n",
       "2            10   5196000.0        56.0  2015-08-20T00:00:00      2   \n",
       "3             0  64900000.0       159.0  2015-07-24T00:00:00      3   \n",
       "4             2  10000000.0       100.0  2018-06-19T00:00:00      2   \n",
       "\n",
       "   ceiling_height  floors_total  living_area  floor is_apartment  ...  \\\n",
       "0            2.70          16.0         51.0      8          NaN  ...   \n",
       "1             NaN          11.0         18.6      1          NaN  ...   \n",
       "2             NaN           5.0         34.3      4          NaN  ...   \n",
       "3             NaN          14.0          NaN      9          NaN  ...   \n",
       "4            3.03          14.0         32.0     13          NaN  ...   \n",
       "\n",
       "   kitchen_area  balcony    locality_name  airports_nearest  \\\n",
       "0          25.0      NaN  Санкт-Петербург           18863.0   \n",
       "1          11.0      2.0   посёлок Шушары           12817.0   \n",
       "2           8.3      0.0  Санкт-Петербург           21741.0   \n",
       "3           NaN      0.0  Санкт-Петербург           28098.0   \n",
       "4          41.0      NaN  Санкт-Петербург           31856.0   \n",
       "\n",
       "  cityCenters_nearest  parks_around3000  parks_nearest  ponds_around3000  \\\n",
       "0             16028.0               1.0          482.0               2.0   \n",
       "1             18603.0               0.0            NaN               0.0   \n",
       "2             13933.0               1.0           90.0               2.0   \n",
       "3              6800.0               2.0           84.0               3.0   \n",
       "4              8098.0               2.0          112.0               1.0   \n",
       "\n",
       "   ponds_nearest  days_exposition  \n",
       "0          755.0              NaN  \n",
       "1            NaN             81.0  \n",
       "2          574.0            558.0  \n",
       "3          234.0            424.0  \n",
       "4           48.0            121.0  \n",
       "\n",
       "[5 rows x 22 columns]"
      ]
     },
     "execution_count": 1,
     "metadata": {},
     "output_type": "execute_result"
    }
   ],
   "source": [
    "import pandas as pd\n",
    "import matplotlib.pyplot as plt \n",
    "from pymystem3 import Mystem #сразу добавим Mystem\n",
    "m = Mystem()\n",
    "import numpy as np\n",
    "\n",
    "try:\n",
    "    df = pd.read_csv('/datasets/real_estate_data.csv', sep='\\t')\n",
    "except:\n",
    "    df = pd.read_csv(r'C:\\Users\\vadim.pilipenko\\Downloads\\real_estate_data.csv', sep='\\t')\n",
    "    \n",
    "df.info()\n",
    "df.head()"
   ]
  },
  {
   "cell_type": "markdown",
   "metadata": {},
   "source": [
    "*Описание столбцов в задании*\n",
    "- airports_nearest — расстояние до ближайшего аэропорта в метрах (м)\n",
    "- balcony — число балконов\n",
    "- ceiling_height — высота потолков (м)\n",
    "- cityCenters_nearest — расстояние до центра города (м)\n",
    "- days_exposition — сколько дней было размещено объявление (от публикации до снятия)\n",
    "- first_day_exposition — дата публикации\n",
    "- floor — этаж\n",
    "- floors_total — всего этажей в доме\n",
    "- is_apartment — апартаменты (булев тип)\n",
    "- kitchen_area — площадь кухни в квадратных метрах (м²)\n",
    "- last_price — цена на момент снятия с публикации\n",
    "- living_area — жилая площадь в квадратных метрах (м²)\n",
    "- locality_name — название населённого пункта\n",
    "- open_plan — свободная планировка (булев тип)\n",
    "- parks_around3000 — число парков в радиусе 3 км\n",
    "- parks_nearest — расстояние до ближайшего парка (м)\n",
    "- ponds_around3000 — число водоёмов в радиусе 3 км\n",
    "- ponds_nearest — расстояние до ближайшего водоёма (м)\n",
    "- rooms — число комнат\n",
    "- studio — квартира-студия (булев тип)\n",
    "- total_area — площадь квартиры в квадратных метрах (м²)\n",
    "- total_images — число фотографий квартиры в объявлении"
   ]
  },
  {
   "cell_type": "markdown",
   "metadata": {},
   "source": [
    "### Вывод"
   ]
  },
  {
   "cell_type": "markdown",
   "metadata": {},
   "source": [
    "Из просмотра полученных данных видно,типов данных в столбцах, обработка дубликатов перед началом анализа, пропуски заполнять или удалять не будем, чтобы не вносить искаженияя в данные при исследовании."
   ]
  },
  {
   "cell_type": "markdown",
   "metadata": {},
   "source": [
    " ## Предобработка данных\n"
   ]
  },
  {
   "cell_type": "markdown",
   "metadata": {},
   "source": [
    "*Рассмотрим ошибки в таблице:*\n",
    "- total_images            23699 non-null int64\n",
    "- last_price              23699 non-null float64  ***округлим значение, заменив тип данных столбца, заменим тип столбца на int64***\n",
    "- total_area              23699 non-null float64\n",
    "- first_day_exposition    23699 non-null object\n",
    "- rooms                   23699 non-null int64\n",
    "- ceiling_height          14504 non-null float64  ***пропуски в данных, оставим как есть, это не мешает исследованию***\n",
    "- floors_total            23613 non-null float64  ***пропуски в данных, заполним 0, не верный тип данных столбца, заменим тип столбца на int64***\n",
    "- living_area             21796 non-null float64  ***пропуски в данных, оставим как есть, это не мешает исследованию***\n",
    "- floor                   23699 non-null int64  \n",
    "- is_apartment            2775 non-null object    ***пропуски в данных, не верный тип данных столбца, заменим пропуски на False, заменим тип столбца на bool***\n",
    "- studio                  23699 non-null bool\n",
    "- open_plan               23699 non-null bool\n",
    "- kitchen_area            21421 non-null float64  ***пропуски в данных, оставим как есть, это не мешает исследованию***\n",
    "- balcony                 12180 non-null float64  ***пропуски в данных, заполним 0, не верный тип данных столбца, заменим тип столбца на int64***\n",
    "- locality_name           23650 non-null object   ***пропуски в данных, заполним 'неизвестно'***\n",
    "- airports_nearest        18157 non-null float64  ***пропуски в данных, заполним 0, не верный тип данных столбца, заменим тип столбца на int64***\n",
    "- cityCenters_nearest     18180 non-null float64  ***пропуски в данных, заполним 0, не верный тип данных столбца, заменим тип столбца на int64***\n",
    "- parks_around3000        18181 non-null float64  ***пропуски в данных, заполним 0, не верный тип данных столбца, заменим тип столбца на int64***\n",
    "- parks_nearest           8079 non-null float64   ***пропуски в данных, заполним 0, не верный тип данных столбца, заменим тип столбца на int64***\n",
    "- ponds_around3000        18181 non-null float64  ***пропуски в данных, заполним 0, не верный тип данных столбца, заменим тип столбца на int64***\n",
    "- ponds_nearest           9110 non-null float64   ***пропуски в данных, заполним 0, не верный тип данных столбца, заменим тип столбца на int64***\n",
    "- days_exposition         20518 non-null float64  ***пропуски в данных, заполним 0, не верный тип данных столбца, заменим тип столбца на int64***"
   ]
  },
  {
   "cell_type": "code",
   "execution_count": 2,
   "metadata": {
    "scrolled": false
   },
   "outputs": [
    {
     "name": "stdout",
     "output_type": "stream",
     "text": [
      "<class 'pandas.core.frame.DataFrame'>\n",
      "RangeIndex: 23699 entries, 0 to 23698\n",
      "Data columns (total 22 columns):\n",
      "total_images            23699 non-null int64\n",
      "last_price              23699 non-null int64\n",
      "total_area              23699 non-null float64\n",
      "first_day_exposition    23699 non-null object\n",
      "rooms                   23699 non-null int64\n",
      "ceiling_height          14504 non-null float64\n",
      "floors_total            23699 non-null int64\n",
      "living_area             21796 non-null float64\n",
      "floor                   23699 non-null int64\n",
      "is_apartment            23699 non-null bool\n",
      "studio                  23699 non-null bool\n",
      "open_plan               23699 non-null bool\n",
      "kitchen_area            21421 non-null float64\n",
      "balcony                 23699 non-null int64\n",
      "locality_name           23699 non-null object\n",
      "airports_nearest        23699 non-null int64\n",
      "cityCenters_nearest     23699 non-null int64\n",
      "parks_around3000        23699 non-null int64\n",
      "parks_nearest           23699 non-null int64\n",
      "ponds_around3000        23699 non-null int64\n",
      "ponds_nearest           23699 non-null int64\n",
      "days_exposition         23699 non-null int64\n",
      "dtypes: bool(3), float64(4), int64(13), object(2)\n",
      "memory usage: 3.5+ MB\n",
      "None \n",
      "\n",
      "Оценим данные после изменения типов и снова посмотрим на таблицу \n",
      "\n",
      "\n"
     ]
    },
    {
     "data": {
      "text/html": [
       "<div>\n",
       "<style scoped>\n",
       "    .dataframe tbody tr th:only-of-type {\n",
       "        vertical-align: middle;\n",
       "    }\n",
       "\n",
       "    .dataframe tbody tr th {\n",
       "        vertical-align: top;\n",
       "    }\n",
       "\n",
       "    .dataframe thead th {\n",
       "        text-align: right;\n",
       "    }\n",
       "</style>\n",
       "<table border=\"1\" class=\"dataframe\">\n",
       "  <thead>\n",
       "    <tr style=\"text-align: right;\">\n",
       "      <th></th>\n",
       "      <th>total_images</th>\n",
       "      <th>last_price</th>\n",
       "      <th>total_area</th>\n",
       "      <th>first_day_exposition</th>\n",
       "      <th>rooms</th>\n",
       "      <th>ceiling_height</th>\n",
       "      <th>floors_total</th>\n",
       "      <th>living_area</th>\n",
       "      <th>floor</th>\n",
       "      <th>is_apartment</th>\n",
       "      <th>...</th>\n",
       "      <th>kitchen_area</th>\n",
       "      <th>balcony</th>\n",
       "      <th>locality_name</th>\n",
       "      <th>airports_nearest</th>\n",
       "      <th>cityCenters_nearest</th>\n",
       "      <th>parks_around3000</th>\n",
       "      <th>parks_nearest</th>\n",
       "      <th>ponds_around3000</th>\n",
       "      <th>ponds_nearest</th>\n",
       "      <th>days_exposition</th>\n",
       "    </tr>\n",
       "  </thead>\n",
       "  <tbody>\n",
       "    <tr>\n",
       "      <td>0</td>\n",
       "      <td>20</td>\n",
       "      <td>13000000</td>\n",
       "      <td>108.0</td>\n",
       "      <td>2019-03-07T00:00:00</td>\n",
       "      <td>3</td>\n",
       "      <td>2.70</td>\n",
       "      <td>16</td>\n",
       "      <td>51.0</td>\n",
       "      <td>8</td>\n",
       "      <td>False</td>\n",
       "      <td>...</td>\n",
       "      <td>25.0</td>\n",
       "      <td>0</td>\n",
       "      <td>санкт-петербург</td>\n",
       "      <td>18863</td>\n",
       "      <td>16028</td>\n",
       "      <td>1</td>\n",
       "      <td>482</td>\n",
       "      <td>2</td>\n",
       "      <td>755</td>\n",
       "      <td>0</td>\n",
       "    </tr>\n",
       "    <tr>\n",
       "      <td>1</td>\n",
       "      <td>7</td>\n",
       "      <td>3350000</td>\n",
       "      <td>40.4</td>\n",
       "      <td>2018-12-04T00:00:00</td>\n",
       "      <td>1</td>\n",
       "      <td>NaN</td>\n",
       "      <td>11</td>\n",
       "      <td>18.6</td>\n",
       "      <td>1</td>\n",
       "      <td>False</td>\n",
       "      <td>...</td>\n",
       "      <td>11.0</td>\n",
       "      <td>2</td>\n",
       "      <td>посёлок шушары</td>\n",
       "      <td>12817</td>\n",
       "      <td>18603</td>\n",
       "      <td>0</td>\n",
       "      <td>0</td>\n",
       "      <td>0</td>\n",
       "      <td>0</td>\n",
       "      <td>81</td>\n",
       "    </tr>\n",
       "    <tr>\n",
       "      <td>2</td>\n",
       "      <td>10</td>\n",
       "      <td>5196000</td>\n",
       "      <td>56.0</td>\n",
       "      <td>2015-08-20T00:00:00</td>\n",
       "      <td>2</td>\n",
       "      <td>NaN</td>\n",
       "      <td>5</td>\n",
       "      <td>34.3</td>\n",
       "      <td>4</td>\n",
       "      <td>False</td>\n",
       "      <td>...</td>\n",
       "      <td>8.3</td>\n",
       "      <td>0</td>\n",
       "      <td>санкт-петербург</td>\n",
       "      <td>21741</td>\n",
       "      <td>13933</td>\n",
       "      <td>1</td>\n",
       "      <td>90</td>\n",
       "      <td>2</td>\n",
       "      <td>574</td>\n",
       "      <td>558</td>\n",
       "    </tr>\n",
       "    <tr>\n",
       "      <td>3</td>\n",
       "      <td>0</td>\n",
       "      <td>64900000</td>\n",
       "      <td>159.0</td>\n",
       "      <td>2015-07-24T00:00:00</td>\n",
       "      <td>3</td>\n",
       "      <td>NaN</td>\n",
       "      <td>14</td>\n",
       "      <td>NaN</td>\n",
       "      <td>9</td>\n",
       "      <td>False</td>\n",
       "      <td>...</td>\n",
       "      <td>NaN</td>\n",
       "      <td>0</td>\n",
       "      <td>санкт-петербург</td>\n",
       "      <td>28098</td>\n",
       "      <td>6800</td>\n",
       "      <td>2</td>\n",
       "      <td>84</td>\n",
       "      <td>3</td>\n",
       "      <td>234</td>\n",
       "      <td>424</td>\n",
       "    </tr>\n",
       "    <tr>\n",
       "      <td>4</td>\n",
       "      <td>2</td>\n",
       "      <td>10000000</td>\n",
       "      <td>100.0</td>\n",
       "      <td>2018-06-19T00:00:00</td>\n",
       "      <td>2</td>\n",
       "      <td>3.03</td>\n",
       "      <td>14</td>\n",
       "      <td>32.0</td>\n",
       "      <td>13</td>\n",
       "      <td>False</td>\n",
       "      <td>...</td>\n",
       "      <td>41.0</td>\n",
       "      <td>0</td>\n",
       "      <td>санкт-петербург</td>\n",
       "      <td>31856</td>\n",
       "      <td>8098</td>\n",
       "      <td>2</td>\n",
       "      <td>112</td>\n",
       "      <td>1</td>\n",
       "      <td>48</td>\n",
       "      <td>121</td>\n",
       "    </tr>\n",
       "  </tbody>\n",
       "</table>\n",
       "<p>5 rows × 22 columns</p>\n",
       "</div>"
      ],
      "text/plain": [
       "   total_images  last_price  total_area first_day_exposition  rooms  \\\n",
       "0            20    13000000       108.0  2019-03-07T00:00:00      3   \n",
       "1             7     3350000        40.4  2018-12-04T00:00:00      1   \n",
       "2            10     5196000        56.0  2015-08-20T00:00:00      2   \n",
       "3             0    64900000       159.0  2015-07-24T00:00:00      3   \n",
       "4             2    10000000       100.0  2018-06-19T00:00:00      2   \n",
       "\n",
       "   ceiling_height  floors_total  living_area  floor  is_apartment  ...  \\\n",
       "0            2.70            16         51.0      8         False  ...   \n",
       "1             NaN            11         18.6      1         False  ...   \n",
       "2             NaN             5         34.3      4         False  ...   \n",
       "3             NaN            14          NaN      9         False  ...   \n",
       "4            3.03            14         32.0     13         False  ...   \n",
       "\n",
       "   kitchen_area  balcony    locality_name  airports_nearest  \\\n",
       "0          25.0        0  санкт-петербург             18863   \n",
       "1          11.0        2   посёлок шушары             12817   \n",
       "2           8.3        0  санкт-петербург             21741   \n",
       "3           NaN        0  санкт-петербург             28098   \n",
       "4          41.0        0  санкт-петербург             31856   \n",
       "\n",
       "  cityCenters_nearest  parks_around3000  parks_nearest  ponds_around3000  \\\n",
       "0               16028                 1            482                 2   \n",
       "1               18603                 0              0                 0   \n",
       "2               13933                 1             90                 2   \n",
       "3                6800                 2             84                 3   \n",
       "4                8098                 2            112                 1   \n",
       "\n",
       "   ponds_nearest  days_exposition  \n",
       "0            755                0  \n",
       "1              0               81  \n",
       "2            574              558  \n",
       "3            234              424  \n",
       "4             48              121  \n",
       "\n",
       "[5 rows x 22 columns]"
      ]
     },
     "metadata": {},
     "output_type": "display_data"
    }
   ],
   "source": [
    "#создаем список колонок для заполнения пропусков и смены типа данных на int\n",
    "list_columns = ['last_price','floors_total','airports_nearest','cityCenters_nearest',\\\n",
    " 'parks_around3000','parks_nearest','ponds_nearest','ponds_around3000','days_exposition']\n",
    "\n",
    "def change_float_to_int64(data, lists): #объявляем функцию\n",
    "    for val in lists:\n",
    "        try:\n",
    "            data[val] = data[val].fillna(0).astype('int64')\n",
    "        except:\n",
    "            print('Проверьте, что столбцы на замену пропусков не являются типом bool или object')\n",
    "    return data\n",
    "df = change_float_to_int64(df,list_columns)\n",
    "\n",
    "df['is_apartment'] = df['is_apartment'].fillna(False).astype('bool')# меняем тип столбца\n",
    "df['balcony'] = df['balcony'].fillna(0).astype('int64') #заполним пропуски на 0\n",
    "df['locality_name'] = df['locality_name'].fillna('неизвестно') #пропуски в данных заполним на 'unknow'\n",
    "df['locality_name'] = df['locality_name'].str.lower() #все строки делаем прописными\n",
    "\n",
    "\n",
    "print(df.info(),f'''\n",
    "\n",
    "Оценим данные после изменения типов и снова посмотрим на таблицу \n",
    "\n",
    "''')\n",
    "display(df.head())"
   ]
  },
  {
   "cell_type": "markdown",
   "metadata": {},
   "source": [
    "Заполнили пропуски, теперь с таблицей легче работать, уберем дубликаты:\n"
   ]
  },
  {
   "cell_type": "code",
   "execution_count": 3,
   "metadata": {},
   "outputs": [
    {
     "name": "stdout",
     "output_type": "stream",
     "text": [
      "Количество дубликатов: 0, дубликатов нет, переходим к дальнейшей работе с данными.\n"
     ]
    }
   ],
   "source": [
    "print(f'Количество дубликатов: {df.duplicated().sum()}, дубликатов нет, переходим к дальнейшей работе с данными.')"
   ]
  },
  {
   "cell_type": "markdown",
   "metadata": {},
   "source": [
    "### Вывод:"
   ]
  },
  {
   "cell_type": "markdown",
   "metadata": {},
   "source": [
    "\n",
    "Заменили пропуски на предельные значения, чтобы отсечь их при исследовании, мы могли бы заменить пропуски на медианы, средние, но это внесет искажение в исследование данных, создаст пики в распределении данных, будет влиять на корреляцию данных между собой."
   ]
  },
  {
   "cell_type": "markdown",
   "metadata": {},
   "source": [
    " ## Расчёты и добавление результатов в таблицу"
   ]
  },
  {
   "cell_type": "code",
   "execution_count": 4,
   "metadata": {
    "scrolled": true
   },
   "outputs": [],
   "source": [
    "df['price_on_sqmetr'] = df.apply(lambda x: round(x['last_price']/x['total_area'],0),axis=1)#рассчет стоимости кв. метра"
   ]
  },
  {
   "cell_type": "code",
   "execution_count": 5,
   "metadata": {
    "scrolled": true
   },
   "outputs": [
    {
     "data": {
      "text/plain": [
       "0       2019-03-07\n",
       "1       2018-12-04\n",
       "2       2015-08-20\n",
       "3       2015-07-24\n",
       "4       2018-06-19\n",
       "           ...    \n",
       "23694   2017-03-21\n",
       "23695   2018-01-15\n",
       "23696   2018-02-11\n",
       "23697   2017-03-28\n",
       "23698   2017-07-21\n",
       "Name: first_day_exposition, Length: 23699, dtype: datetime64[ns]"
      ]
     },
     "execution_count": 5,
     "metadata": {},
     "output_type": "execute_result"
    }
   ],
   "source": [
    "df['first_day_exposition'] = pd.to_datetime(df['first_day_exposition'], format='%Y-%m-%d')#замена формата даты на тип dt\n",
    "df['first_day_exposition']"
   ]
  },
  {
   "cell_type": "code",
   "execution_count": 6,
   "metadata": {},
   "outputs": [
    {
     "data": {
      "text/html": [
       "<div>\n",
       "<style scoped>\n",
       "    .dataframe tbody tr th:only-of-type {\n",
       "        vertical-align: middle;\n",
       "    }\n",
       "\n",
       "    .dataframe tbody tr th {\n",
       "        vertical-align: top;\n",
       "    }\n",
       "\n",
       "    .dataframe thead th {\n",
       "        text-align: right;\n",
       "    }\n",
       "</style>\n",
       "<table border=\"1\" class=\"dataframe\">\n",
       "  <thead>\n",
       "    <tr style=\"text-align: right;\">\n",
       "      <th></th>\n",
       "      <th>weekday</th>\n",
       "      <th>month</th>\n",
       "      <th>year</th>\n",
       "    </tr>\n",
       "  </thead>\n",
       "  <tbody>\n",
       "    <tr>\n",
       "      <td>0</td>\n",
       "      <td>3</td>\n",
       "      <td>3</td>\n",
       "      <td>2019</td>\n",
       "    </tr>\n",
       "    <tr>\n",
       "      <td>1</td>\n",
       "      <td>1</td>\n",
       "      <td>12</td>\n",
       "      <td>2018</td>\n",
       "    </tr>\n",
       "    <tr>\n",
       "      <td>2</td>\n",
       "      <td>3</td>\n",
       "      <td>8</td>\n",
       "      <td>2015</td>\n",
       "    </tr>\n",
       "    <tr>\n",
       "      <td>3</td>\n",
       "      <td>4</td>\n",
       "      <td>7</td>\n",
       "      <td>2015</td>\n",
       "    </tr>\n",
       "    <tr>\n",
       "      <td>4</td>\n",
       "      <td>1</td>\n",
       "      <td>6</td>\n",
       "      <td>2018</td>\n",
       "    </tr>\n",
       "    <tr>\n",
       "      <td>5</td>\n",
       "      <td>0</td>\n",
       "      <td>9</td>\n",
       "      <td>2018</td>\n",
       "    </tr>\n",
       "  </tbody>\n",
       "</table>\n",
       "</div>"
      ],
      "text/plain": [
       "   weekday  month  year\n",
       "0        3      3  2019\n",
       "1        1     12  2018\n",
       "2        3      8  2015\n",
       "3        4      7  2015\n",
       "4        1      6  2018\n",
       "5        0      9  2018"
      ]
     },
     "execution_count": 6,
     "metadata": {},
     "output_type": "execute_result"
    }
   ],
   "source": [
    "df['weekday'] = getattr(df['first_day_exposition'].dt, 'weekday') #создаем столбец с днем недели подачи объявления\n",
    "df['month'] = getattr(df['first_day_exposition'].dt, 'month')#создаем столбец с месяцем подачи объявления\n",
    "df['year'] = getattr(df['first_day_exposition'].dt, 'year') #создаем столбец с годом подачи объявления\n",
    "df.loc[:5,['weekday','month','year']]"
   ]
  },
  {
   "cell_type": "code",
   "execution_count": 7,
   "metadata": {},
   "outputs": [
    {
     "data": {
      "text/plain": [
       "0    другой\n",
       "1    первый\n",
       "2    другой\n",
       "3    другой\n",
       "4    другой\n",
       "5    другой\n",
       "Name: floor_categories, dtype: object"
      ]
     },
     "execution_count": 7,
     "metadata": {},
     "output_type": "execute_result"
    }
   ],
   "source": [
    "def floor_categories(data): #категоризируем этаж квартиры\n",
    "    try:\n",
    "        if data['floor'] == 1:\n",
    "            return 'первый'\n",
    "        elif data['floor'] == data['floors_total']:\n",
    "            return 'последний'\n",
    "        else:\n",
    "            return 'другой'\n",
    "    except:\n",
    "        print('здесь ошибка')\n",
    "df['floor_categories'] = df.apply(floor_categories,axis=1) #создаем столбец с категорией квартиры по этажу\n",
    "df.loc[:5,'floor_categories']"
   ]
  },
  {
   "cell_type": "code",
   "execution_count": 8,
   "metadata": {},
   "outputs": [
    {
     "data": {
      "text/html": [
       "<div>\n",
       "<style scoped>\n",
       "    .dataframe tbody tr th:only-of-type {\n",
       "        vertical-align: middle;\n",
       "    }\n",
       "\n",
       "    .dataframe tbody tr th {\n",
       "        vertical-align: top;\n",
       "    }\n",
       "\n",
       "    .dataframe thead th {\n",
       "        text-align: right;\n",
       "    }\n",
       "</style>\n",
       "<table border=\"1\" class=\"dataframe\">\n",
       "  <thead>\n",
       "    <tr style=\"text-align: right;\">\n",
       "      <th></th>\n",
       "      <th>living_area_ratio</th>\n",
       "      <th>kitchen_area_ratio</th>\n",
       "    </tr>\n",
       "  </thead>\n",
       "  <tbody>\n",
       "    <tr>\n",
       "      <td>0</td>\n",
       "      <td>0.472222</td>\n",
       "      <td>0.231481</td>\n",
       "    </tr>\n",
       "    <tr>\n",
       "      <td>1</td>\n",
       "      <td>0.460396</td>\n",
       "      <td>0.272277</td>\n",
       "    </tr>\n",
       "    <tr>\n",
       "      <td>2</td>\n",
       "      <td>0.612500</td>\n",
       "      <td>0.148214</td>\n",
       "    </tr>\n",
       "    <tr>\n",
       "      <td>3</td>\n",
       "      <td>NaN</td>\n",
       "      <td>NaN</td>\n",
       "    </tr>\n",
       "    <tr>\n",
       "      <td>4</td>\n",
       "      <td>0.320000</td>\n",
       "      <td>0.410000</td>\n",
       "    </tr>\n",
       "    <tr>\n",
       "      <td>5</td>\n",
       "      <td>0.473684</td>\n",
       "      <td>0.299342</td>\n",
       "    </tr>\n",
       "  </tbody>\n",
       "</table>\n",
       "</div>"
      ],
      "text/plain": [
       "   living_area_ratio  kitchen_area_ratio\n",
       "0           0.472222            0.231481\n",
       "1           0.460396            0.272277\n",
       "2           0.612500            0.148214\n",
       "3                NaN                 NaN\n",
       "4           0.320000            0.410000\n",
       "5           0.473684            0.299342"
      ]
     },
     "execution_count": 8,
     "metadata": {},
     "output_type": "execute_result"
    }
   ],
   "source": [
    "df['living_area_ratio'] = df.apply(lambda x: x['living_area']/x['total_area'],axis=1) #создаем столбец отношения жилой к общей площади\n",
    "df['kitchen_area_ratio'] = df.apply(lambda x: x['kitchen_area']/x['total_area'],axis=1)#создаем столбец отношения кухни к общей площади\n",
    "df.loc[:5,['living_area_ratio','kitchen_area_ratio']]"
   ]
  },
  {
   "cell_type": "code",
   "execution_count": 9,
   "metadata": {},
   "outputs": [
    {
     "data": {
      "text/plain": [
       "0.0     5519\n",
       "13.0    1522\n",
       "15.0    1511\n",
       "12.0    1415\n",
       "14.0    1398\n",
       "Name: nearest_center_round, dtype: int64"
      ]
     },
     "execution_count": 9,
     "metadata": {},
     "output_type": "execute_result"
    }
   ],
   "source": [
    "df['nearest_center_round'] = np.ceil(df['cityCenters_nearest']/1000) # введем столбец с округлением растояния до центра для имеющихся данных\n",
    "df['nearest_center_round'].value_counts().head()"
   ]
  },
  {
   "cell_type": "markdown",
   "metadata": {},
   "source": [
    "Добавили столбец расстояния от центра города в км\n",
    "\n",
    "Заменим столбец с данными по дате размещения объявления на данные с типом данных даты, округлим значение до дня:"
   ]
  },
  {
   "cell_type": "code",
   "execution_count": 10,
   "metadata": {},
   "outputs": [],
   "source": [
    "df['last_price_in_millions'] = df['last_price']/1000000 # введем столбец с ценой в миллионах"
   ]
  },
  {
   "cell_type": "code",
   "execution_count": 11,
   "metadata": {},
   "outputs": [],
   "source": [
    "df['locality_name_lemmas'] = df.apply(lambda x: m.lemmatize(x['locality_name']),axis=1)# лемматизируем записи locality_name\n",
    "def remove_unnecessary(lists): #функция исключения общих лемм из списка с названием локации\n",
    "    result = ''\n",
    "    for i in range(len(lists)):\n",
    "        if lists[i] != '\\n' and\\\n",
    "        lists[i] != 'поселок' and\\\n",
    "        lists[i] != ' ' and\\\n",
    "        lists[i] != 'деревня' and\\\n",
    "        lists[i] != 'село' and\\\n",
    "        lists[i] != 'коттеджный' and\\\n",
    "        lists[i] != 'садоводческий' and\\\n",
    "        lists[i] != 'тип' and\\\n",
    "        lists[i] != 'городской':\n",
    "            result += ''.join(lists[i])\n",
    "        \n",
    "    return result\n",
    "df['locality_name_lemmas'] = df['locality_name_lemmas'].apply(remove_unnecessary)"
   ]
  },
  {
   "cell_type": "markdown",
   "metadata": {},
   "source": [
    "### Вывод:"
   ]
  },
  {
   "cell_type": "markdown",
   "metadata": {},
   "source": [
    "Добавили в df столбцы:\n",
    "- цена квадратного метра\n",
    "- день недели, месяц и год публикации объявления\n",
    "- этаж квартиры; варианты — первый, последний, другой\n",
    "- соотношение жилой и общей площади, а также отношение площади кухни к общей\n",
    "- расстояния от центра города в км\n",
    "- цена в миллионах\n",
    "- лемматизированные данные из столбца locality_name"
   ]
  },
  {
   "cell_type": "markdown",
   "metadata": {},
   "source": [
    " ## Исследовательский анализ данных"
   ]
  },
  {
   "cell_type": "markdown",
   "metadata": {},
   "source": [
    "### Изучите следующие параметры: площадь, цена, число комнат, высота потолков. Постройте гистограммы для каждого параметра."
   ]
  },
  {
   "cell_type": "markdown",
   "metadata": {},
   "source": [
    "#### Площадь"
   ]
  },
  {
   "cell_type": "code",
   "execution_count": 12,
   "metadata": {},
   "outputs": [
    {
     "name": "stdout",
     "output_type": "stream",
     "text": [
      "count    23699.000000\n",
      "mean        60.348651\n",
      "std         35.654083\n",
      "min         12.000000\n",
      "25%         40.000000\n",
      "50%         52.000000\n",
      "75%         69.900000\n",
      "max        900.000000\n",
      "Name: total_area, dtype: float64\n",
      "\n",
      "Изучим информацию по квартилям для сета данных по площади квартиры, нормальное распределение заканчивается до 150 квадратных\n",
      "метров, начинаются выбросы, чтобы точнее увидеть, построим диаграму размаха с ограничением ylim от 0 до 150:\n"
     ]
    },
    {
     "data": {
      "image/png": "[encoded data removed]",
      "text/plain": [
       "<Figure size 432x288 with 1 Axes>"
      ]
     },
     "metadata": {
      "needs_background": "light"
     },
     "output_type": "display_data"
    }
   ],
   "source": [
    "print(df['total_area'].describe())# смотрим данные по числовому столбцу\n",
    "print('')\n",
    "plt.ylim(0,150)\n",
    "df.boxplot(column='total_area') # диаграмма размаха с ограничением оси у\n",
    "print(f'''Изучим информацию по квартилям для сета данных по площади квартиры, нормальное распределение заканчивается до 150 квадратных\n",
    "метров, начинаются выбросы, чтобы точнее увидеть, построим диаграму размаха с ограничением ylim от 0 до 150:''')"
   ]
  },
  {
   "cell_type": "code",
   "execution_count": 13,
   "metadata": {
    "scrolled": false
   },
   "outputs": [
    {
     "name": "stdout",
     "output_type": "stream",
     "text": [
      "'Популярные' площади квартир:\n",
      "45.0    419\n",
      "42.0    383\n",
      "60.0    347\n",
      "31.0    346\n",
      "44.0    345\n",
      "40.0    315\n",
      "43.0    301\n",
      "32.0    289\n",
      "46.0    282\n",
      "36.0    280\n",
      "50.0    279\n",
      "35.0    262\n",
      "38.0    237\n",
      "55.0    227\n",
      "41.0    227\n",
      "Name: total_area, dtype: int64\n",
      "AxesSubplot(0.125,0.125;0.775x0.755)\n"
     ]
    },
    {
     "data": {
      "image/png": "[encoded data removed]",
      "text/plain": [
       "<Figure size 864x360 with 1 Axes>"
      ]
     },
     "metadata": {
      "needs_background": "light"
     },
     "output_type": "display_data"
    }
   ],
   "source": [
    "print(f'''\\'Популярные\\' площади квартир:\n",
    "{df.query('total_area < 120')['total_area'].value_counts().head(15)}''') # список наиболее часто встречающихся площадей\n",
    "print(df.query('total_area < 120')['total_area'].plot(kind='hist', bins=100, title='total_area', figsize=(12,5), grid=True))\n",
    "plt.show()\n",
    "# гистограмма распределения площадей квартир на участке нормального рсапределения."
   ]
  },
  {
   "cell_type": "markdown",
   "metadata": {},
   "source": [
    "Рассматривая распределение по общей площади видим смещеник влево, в сторону квартир от 30 до 47 метров квадратных. Вероятно это связано с тем, что однокомнатных и двухкомнатных квартир больше, чем многокомнатных. Повторяющиеся пики в виде \"расчески\" вероятно связаны с типовой застройкой с определенными площадями квартир и округлением клиентами сервиса площади квартир до целых чисел при подаче объвления, что видно в таблице выше из 15 наиболее частовстречающихся площадей.\n",
    "\n",
    "Попробуем так же определить с чем связаны пики на площадях 38-46 метров и 54-62 метров и провал на 48-52 метрах. Посмотрим на анализ по выборке одно,двух и трехкомнатных квартир:"
   ]
  },
  {
   "cell_type": "code",
   "execution_count": 14,
   "metadata": {
    "scrolled": false
   },
   "outputs": [
    {
     "name": "stdout",
     "output_type": "stream",
     "text": [
      "Средняя площадь однокомнатной квартиры: \n",
      "count    8047.000000\n",
      "mean       37.644669\n",
      "std         9.338358\n",
      "min        12.000000\n",
      "25%        32.500000\n",
      "50%        36.560000\n",
      "75%        41.000000\n",
      "max       494.100000\n",
      "Name: total_area, dtype: float64 \n",
      "Средняя площадь двухкомнатной квартиры: \n",
      "count    7940.000000\n",
      "mean       55.855089\n",
      "std        13.196340\n",
      "min        20.000000\n",
      "25%        46.000000\n",
      "50%        53.000000\n",
      "75%        62.000000\n",
      "max       196.000000\n",
      "Name: total_area, dtype: float64\n",
      "Средняя площадь трехкомнатной квартиры: \n",
      "count    5814.000000\n",
      "mean       77.764580\n",
      "std        23.268744\n",
      "min        40.100000\n",
      "25%        62.000000\n",
      "50%        73.000000\n",
      "75%        87.000000\n",
      "max       363.100000\n",
      "Name: total_area, dtype: float64\n"
     ]
    }
   ],
   "source": [
    "print(f'''Средняя площадь однокомнатной квартиры: \n",
    "{df.query('rooms == 1')['total_area'].describe()} \n",
    "Средняя площадь двухкомнатной квартиры: \n",
    "{df.query('rooms == 2')['total_area'].describe()}\n",
    "Средняя площадь трехкомнатной квартиры: \n",
    "{df.query('rooms == 3')['total_area'].describe()}''') # смотрим данные по числовому столбцу в срезах 1, 2 и 3 комнат"
   ]
  },
  {
   "cell_type": "markdown",
   "metadata": {},
   "source": [
    "Видим, что пики 38-46 метров и 54-62 метров вызваны наложением друг на друга квартилей Q3 однокомнатных и Q1 двухкомнатных и Q3 двухкомнатных и Q1 трехкомнатных квартир, а на 48-52 метрах, соответствующих медиане двухкомнатных, нормальный уровень распределения, который на уровне пиков кажется провалом."
   ]
  },
  {
   "cell_type": "markdown",
   "metadata": {},
   "source": [
    "#### Цена"
   ]
  },
  {
   "cell_type": "code",
   "execution_count": 15,
   "metadata": {},
   "outputs": [
    {
     "name": "stdout",
     "output_type": "stream",
     "text": [
      "count    23699.000000\n",
      "mean         6.541549\n",
      "std         10.887013\n",
      "min          0.012190\n",
      "25%          3.400000\n",
      "50%          4.650000\n",
      "75%          6.800000\n",
      "max        763.000000\n",
      "Name: last_price_in_millions, dtype: float64\n",
      "\n",
      "Изучим информацию по квартилям для сета данных по стоимости квартиры, нормальное распределение заканчивается до 12 миллионов,\n",
      " начинаются выбросы, не очень похоже на реальность стоимость квартир ниже 1,0 млн, рассмотрим их ниже, чтобы точнее увидеть,\n",
      " построим диаграму размаха с ограничением ylim от -1 до 15:\n"
     ]
    },
    {
     "data": {
      "image/png": "[encoded data removed]",
      "text/plain": [
       "<Figure size 432x288 with 1 Axes>"
      ]
     },
     "metadata": {
      "needs_background": "light"
     },
     "output_type": "display_data"
    }
   ],
   "source": [
    "print(df['last_price_in_millions'].describe()) # смотрим данные по числовому столбцу\n",
    "print('')\n",
    "plt.ylim(-1,15)\n",
    "df.boxplot(column='last_price_in_millions')# диаграмма размаха с ограничением оси у\n",
    "print(f'''Изучим информацию по квартилям для сета данных по стоимости квартиры, нормальное распределение заканчивается до 12 миллионов,\n",
    " начинаются выбросы, не очень похоже на реальность стоимость квартир ниже 1,0 млн, рассмотрим их ниже, чтобы точнее увидеть,\n",
    " построим диаграму размаха с ограничением ylim от -1 до 15:''')"
   ]
  },
  {
   "cell_type": "code",
   "execution_count": 16,
   "metadata": {},
   "outputs": [
    {
     "name": "stdout",
     "output_type": "stream",
     "text": [
      "Данные по стоимости квартир:\n",
      "count    22976.000000\n",
      "mean         5.413456\n",
      "std          3.198216\n",
      "min          0.012190\n",
      "25%          3.400000\n",
      "50%          4.550000\n",
      "75%          6.500000\n",
      "max         19.999000\n",
      "Name: last_price_in_millions, dtype: float64\n"
     ]
    },
    {
     "data": {
      "image/png": "[encoded data removed]",
      "text/plain": [
       "<Figure size 864x360 with 1 Axes>"
      ]
     },
     "metadata": {
      "needs_background": "light"
     },
     "output_type": "display_data"
    }
   ],
   "source": [
    "print(f'''Данные по стоимости квартир:\n",
    "{df.query('0 < last_price_in_millions < 20')['last_price_in_millions'].describe()}''') # смотрим данные по числовому столбцу в срезе\n",
    "df.query('0 < last_price_in_millions < 20')['last_price_in_millions']\\\n",
    ".plot(kind='hist', bins=40, title='last_price_in_millions', figsize=(12,5), grid=True)\n",
    "plt.show() \n",
    "# гистограмма распределения стоимости квартир на участке нормального рсапределения."
   ]
  },
  {
   "cell_type": "markdown",
   "metadata": {},
   "source": [
    "Видим нормальное распределение стоимости с пиком около 4 млн и медианой 4,55 млн."
   ]
  },
  {
   "cell_type": "code",
   "execution_count": 17,
   "metadata": {},
   "outputs": [
    {
     "data": {
      "text/html": [
       "<div>\n",
       "<style scoped>\n",
       "    .dataframe tbody tr th:only-of-type {\n",
       "        vertical-align: middle;\n",
       "    }\n",
       "\n",
       "    .dataframe tbody tr th {\n",
       "        vertical-align: top;\n",
       "    }\n",
       "\n",
       "    .dataframe thead th {\n",
       "        text-align: right;\n",
       "    }\n",
       "</style>\n",
       "<table border=\"1\" class=\"dataframe\">\n",
       "  <thead>\n",
       "    <tr style=\"text-align: right;\">\n",
       "      <th></th>\n",
       "      <th>total_images</th>\n",
       "      <th>last_price</th>\n",
       "      <th>total_area</th>\n",
       "      <th>first_day_exposition</th>\n",
       "      <th>rooms</th>\n",
       "      <th>ceiling_height</th>\n",
       "      <th>floors_total</th>\n",
       "      <th>living_area</th>\n",
       "      <th>floor</th>\n",
       "      <th>is_apartment</th>\n",
       "      <th>...</th>\n",
       "      <th>price_on_sqmetr</th>\n",
       "      <th>weekday</th>\n",
       "      <th>month</th>\n",
       "      <th>year</th>\n",
       "      <th>floor_categories</th>\n",
       "      <th>living_area_ratio</th>\n",
       "      <th>kitchen_area_ratio</th>\n",
       "      <th>nearest_center_round</th>\n",
       "      <th>last_price_in_millions</th>\n",
       "      <th>locality_name_lemmas</th>\n",
       "    </tr>\n",
       "  </thead>\n",
       "  <tbody>\n",
       "    <tr>\n",
       "      <td>8793</td>\n",
       "      <td>7</td>\n",
       "      <td>12190</td>\n",
       "      <td>109.0</td>\n",
       "      <td>2019-03-20</td>\n",
       "      <td>2</td>\n",
       "      <td>2.75</td>\n",
       "      <td>25</td>\n",
       "      <td>32.0</td>\n",
       "      <td>25</td>\n",
       "      <td>False</td>\n",
       "      <td>...</td>\n",
       "      <td>112.0</td>\n",
       "      <td>2</td>\n",
       "      <td>3</td>\n",
       "      <td>2019</td>\n",
       "      <td>последний</td>\n",
       "      <td>0.293578</td>\n",
       "      <td>0.371560</td>\n",
       "      <td>10.0</td>\n",
       "      <td>0.01219</td>\n",
       "      <td>санкт-петербург</td>\n",
       "    </tr>\n",
       "    <tr>\n",
       "      <td>14911</td>\n",
       "      <td>5</td>\n",
       "      <td>430000</td>\n",
       "      <td>54.0</td>\n",
       "      <td>2018-06-26</td>\n",
       "      <td>2</td>\n",
       "      <td>NaN</td>\n",
       "      <td>3</td>\n",
       "      <td>NaN</td>\n",
       "      <td>3</td>\n",
       "      <td>False</td>\n",
       "      <td>...</td>\n",
       "      <td>7963.0</td>\n",
       "      <td>1</td>\n",
       "      <td>6</td>\n",
       "      <td>2018</td>\n",
       "      <td>последний</td>\n",
       "      <td>NaN</td>\n",
       "      <td>NaN</td>\n",
       "      <td>0.0</td>\n",
       "      <td>0.43000</td>\n",
       "      <td>станциясвирь</td>\n",
       "    </tr>\n",
       "    <tr>\n",
       "      <td>4405</td>\n",
       "      <td>9</td>\n",
       "      <td>500000</td>\n",
       "      <td>52.0</td>\n",
       "      <td>2018-08-02</td>\n",
       "      <td>2</td>\n",
       "      <td>2.70</td>\n",
       "      <td>2</td>\n",
       "      <td>31.0</td>\n",
       "      <td>1</td>\n",
       "      <td>False</td>\n",
       "      <td>...</td>\n",
       "      <td>9615.0</td>\n",
       "      <td>3</td>\n",
       "      <td>8</td>\n",
       "      <td>2018</td>\n",
       "      <td>первый</td>\n",
       "      <td>0.596154</td>\n",
       "      <td>0.153846</td>\n",
       "      <td>0.0</td>\n",
       "      <td>0.50000</td>\n",
       "      <td>сланцы</td>\n",
       "    </tr>\n",
       "    <tr>\n",
       "      <td>11351</td>\n",
       "      <td>17</td>\n",
       "      <td>550000</td>\n",
       "      <td>54.0</td>\n",
       "      <td>2019-02-07</td>\n",
       "      <td>2</td>\n",
       "      <td>3.00</td>\n",
       "      <td>2</td>\n",
       "      <td>40.0</td>\n",
       "      <td>1</td>\n",
       "      <td>False</td>\n",
       "      <td>...</td>\n",
       "      <td>10185.0</td>\n",
       "      <td>3</td>\n",
       "      <td>2</td>\n",
       "      <td>2019</td>\n",
       "      <td>первый</td>\n",
       "      <td>0.740741</td>\n",
       "      <td>0.138889</td>\n",
       "      <td>0.0</td>\n",
       "      <td>0.55000</td>\n",
       "      <td>сланцы</td>\n",
       "    </tr>\n",
       "    <tr>\n",
       "      <td>9581</td>\n",
       "      <td>7</td>\n",
       "      <td>450000</td>\n",
       "      <td>43.4</td>\n",
       "      <td>2018-08-31</td>\n",
       "      <td>2</td>\n",
       "      <td>NaN</td>\n",
       "      <td>5</td>\n",
       "      <td>30.3</td>\n",
       "      <td>3</td>\n",
       "      <td>False</td>\n",
       "      <td>...</td>\n",
       "      <td>10369.0</td>\n",
       "      <td>4</td>\n",
       "      <td>8</td>\n",
       "      <td>2018</td>\n",
       "      <td>другой</td>\n",
       "      <td>0.698157</td>\n",
       "      <td>0.126728</td>\n",
       "      <td>0.0</td>\n",
       "      <td>0.45000</td>\n",
       "      <td>старополье</td>\n",
       "    </tr>\n",
       "    <tr>\n",
       "      <td>23484</td>\n",
       "      <td>11</td>\n",
       "      <td>470000</td>\n",
       "      <td>44.5</td>\n",
       "      <td>2018-07-02</td>\n",
       "      <td>2</td>\n",
       "      <td>NaN</td>\n",
       "      <td>2</td>\n",
       "      <td>28.0</td>\n",
       "      <td>2</td>\n",
       "      <td>False</td>\n",
       "      <td>...</td>\n",
       "      <td>10562.0</td>\n",
       "      <td>0</td>\n",
       "      <td>7</td>\n",
       "      <td>2018</td>\n",
       "      <td>последний</td>\n",
       "      <td>0.629213</td>\n",
       "      <td>0.168539</td>\n",
       "      <td>0.0</td>\n",
       "      <td>0.47000</td>\n",
       "      <td>сланцы</td>\n",
       "    </tr>\n",
       "    <tr>\n",
       "      <td>5698</td>\n",
       "      <td>7</td>\n",
       "      <td>450000</td>\n",
       "      <td>42.0</td>\n",
       "      <td>2017-07-31</td>\n",
       "      <td>2</td>\n",
       "      <td>NaN</td>\n",
       "      <td>1</td>\n",
       "      <td>23.0</td>\n",
       "      <td>1</td>\n",
       "      <td>False</td>\n",
       "      <td>...</td>\n",
       "      <td>10714.0</td>\n",
       "      <td>0</td>\n",
       "      <td>7</td>\n",
       "      <td>2017</td>\n",
       "      <td>первый</td>\n",
       "      <td>0.547619</td>\n",
       "      <td>0.138095</td>\n",
       "      <td>0.0</td>\n",
       "      <td>0.45000</td>\n",
       "      <td>будогощь</td>\n",
       "    </tr>\n",
       "    <tr>\n",
       "      <td>19460</td>\n",
       "      <td>13</td>\n",
       "      <td>560000</td>\n",
       "      <td>52.0</td>\n",
       "      <td>2017-11-21</td>\n",
       "      <td>2</td>\n",
       "      <td>3.00</td>\n",
       "      <td>3</td>\n",
       "      <td>30.0</td>\n",
       "      <td>3</td>\n",
       "      <td>False</td>\n",
       "      <td>...</td>\n",
       "      <td>10769.0</td>\n",
       "      <td>1</td>\n",
       "      <td>11</td>\n",
       "      <td>2017</td>\n",
       "      <td>последний</td>\n",
       "      <td>0.576923</td>\n",
       "      <td>0.115385</td>\n",
       "      <td>0.0</td>\n",
       "      <td>0.56000</td>\n",
       "      <td>сланцы</td>\n",
       "    </tr>\n",
       "    <tr>\n",
       "      <td>9471</td>\n",
       "      <td>4</td>\n",
       "      <td>850000</td>\n",
       "      <td>78.0</td>\n",
       "      <td>2017-05-04</td>\n",
       "      <td>3</td>\n",
       "      <td>NaN</td>\n",
       "      <td>9</td>\n",
       "      <td>12.5</td>\n",
       "      <td>7</td>\n",
       "      <td>False</td>\n",
       "      <td>...</td>\n",
       "      <td>10897.0</td>\n",
       "      <td>3</td>\n",
       "      <td>5</td>\n",
       "      <td>2017</td>\n",
       "      <td>другой</td>\n",
       "      <td>0.160256</td>\n",
       "      <td>0.108974</td>\n",
       "      <td>0.0</td>\n",
       "      <td>0.85000</td>\n",
       "      <td>гатчина</td>\n",
       "    </tr>\n",
       "    <tr>\n",
       "      <td>15969</td>\n",
       "      <td>8</td>\n",
       "      <td>590000</td>\n",
       "      <td>54.0</td>\n",
       "      <td>2018-06-20</td>\n",
       "      <td>2</td>\n",
       "      <td>NaN</td>\n",
       "      <td>2</td>\n",
       "      <td>32.0</td>\n",
       "      <td>1</td>\n",
       "      <td>False</td>\n",
       "      <td>...</td>\n",
       "      <td>10926.0</td>\n",
       "      <td>2</td>\n",
       "      <td>6</td>\n",
       "      <td>2018</td>\n",
       "      <td>первый</td>\n",
       "      <td>0.592593</td>\n",
       "      <td>0.148148</td>\n",
       "      <td>0.0</td>\n",
       "      <td>0.59000</td>\n",
       "      <td>сланцы</td>\n",
       "    </tr>\n",
       "  </tbody>\n",
       "</table>\n",
       "<p>10 rows × 32 columns</p>\n",
       "</div>"
      ],
      "text/plain": [
       "       total_images  last_price  total_area first_day_exposition  rooms  \\\n",
       "8793              7       12190       109.0           2019-03-20      2   \n",
       "14911             5      430000        54.0           2018-06-26      2   \n",
       "4405              9      500000        52.0           2018-08-02      2   \n",
       "11351            17      550000        54.0           2019-02-07      2   \n",
       "9581              7      450000        43.4           2018-08-31      2   \n",
       "23484            11      470000        44.5           2018-07-02      2   \n",
       "5698              7      450000        42.0           2017-07-31      2   \n",
       "19460            13      560000        52.0           2017-11-21      2   \n",
       "9471              4      850000        78.0           2017-05-04      3   \n",
       "15969             8      590000        54.0           2018-06-20      2   \n",
       "\n",
       "       ceiling_height  floors_total  living_area  floor  is_apartment  ...  \\\n",
       "8793             2.75            25         32.0     25         False  ...   \n",
       "14911             NaN             3          NaN      3         False  ...   \n",
       "4405             2.70             2         31.0      1         False  ...   \n",
       "11351            3.00             2         40.0      1         False  ...   \n",
       "9581              NaN             5         30.3      3         False  ...   \n",
       "23484             NaN             2         28.0      2         False  ...   \n",
       "5698              NaN             1         23.0      1         False  ...   \n",
       "19460            3.00             3         30.0      3         False  ...   \n",
       "9471              NaN             9         12.5      7         False  ...   \n",
       "15969             NaN             2         32.0      1         False  ...   \n",
       "\n",
       "       price_on_sqmetr  weekday  month  year floor_categories  \\\n",
       "8793             112.0        2      3  2019        последний   \n",
       "14911           7963.0        1      6  2018        последний   \n",
       "4405            9615.0        3      8  2018           первый   \n",
       "11351          10185.0        3      2  2019           первый   \n",
       "9581           10369.0        4      8  2018           другой   \n",
       "23484          10562.0        0      7  2018        последний   \n",
       "5698           10714.0        0      7  2017           первый   \n",
       "19460          10769.0        1     11  2017        последний   \n",
       "9471           10897.0        3      5  2017           другой   \n",
       "15969          10926.0        2      6  2018           первый   \n",
       "\n",
       "       living_area_ratio  kitchen_area_ratio  nearest_center_round  \\\n",
       "8793            0.293578            0.371560                  10.0   \n",
       "14911                NaN                 NaN                   0.0   \n",
       "4405            0.596154            0.153846                   0.0   \n",
       "11351           0.740741            0.138889                   0.0   \n",
       "9581            0.698157            0.126728                   0.0   \n",
       "23484           0.629213            0.168539                   0.0   \n",
       "5698            0.547619            0.138095                   0.0   \n",
       "19460           0.576923            0.115385                   0.0   \n",
       "9471            0.160256            0.108974                   0.0   \n",
       "15969           0.592593            0.148148                   0.0   \n",
       "\n",
       "       last_price_in_millions  locality_name_lemmas  \n",
       "8793                  0.01219       санкт-петербург  \n",
       "14911                 0.43000          станциясвирь  \n",
       "4405                  0.50000                сланцы  \n",
       "11351                 0.55000                сланцы  \n",
       "9581                  0.45000            старополье  \n",
       "23484                 0.47000                сланцы  \n",
       "5698                  0.45000              будогощь  \n",
       "19460                 0.56000                сланцы  \n",
       "9471                  0.85000               гатчина  \n",
       "15969                 0.59000                сланцы  \n",
       "\n",
       "[10 rows x 32 columns]"
      ]
     },
     "metadata": {},
     "output_type": "display_data"
    },
    {
     "name": "stdout",
     "output_type": "stream",
     "text": [
      "Явную ошибку в указании цены видим только в первой строке сортировке по возрастанию по цене за квадратный метр из выборки\n",
      "квартир стоимостью до миллиона, скорее всего не были проставлены последние три ноля, исправим значение\n"
     ]
    }
   ],
   "source": [
    "display(df.query('0 < last_price_in_millions < 1.0').sort_values(by='price_on_sqmetr').head(10))# делаем сортировку по возрастанию по цене за квадратный метр из выборки квартир стоимостью до миллиона, выводим первые 10 строк\n",
    "print(f'''Явную ошибку в указании цены видим только в первой строке сортировке по возрастанию по цене за квадратный метр из выборки\n",
    "квартир стоимостью до миллиона, скорее всего не были проставлены последние три ноля, исправим значение''')\n",
    "df.loc[8793,'last_price'] = 12190000 # исправляем значения\n",
    "df['price_on_sqmetr'] = df.apply(lambda x: round(x['last_price']/x['total_area'],0),axis=1)# повторяемр расчет\n",
    "df['last_price_in_millions'] = df['last_price']/1000000 # повторяемр расчет\n"
   ]
  },
  {
   "cell_type": "markdown",
   "metadata": {},
   "source": [
    "#### Число комнат"
   ]
  },
  {
   "cell_type": "code",
   "execution_count": 18,
   "metadata": {
    "scrolled": false
   },
   "outputs": [
    {
     "name": "stdout",
     "output_type": "stream",
     "text": [
      "count    23699.000000\n",
      "mean         2.070636\n",
      "std          1.078405\n",
      "min          0.000000\n",
      "25%          1.000000\n",
      "50%          2.000000\n",
      "75%          3.000000\n",
      "max         19.000000\n",
      "Name: rooms, dtype: float64\n",
      "\n",
      "Изучим диаграму размаха, нормальное распределение заканчивается на 6 комнатах,\n",
      " начинаются выбросы:\n"
     ]
    },
    {
     "data": {
      "image/png": "[encoded data removed]",
      "text/plain": [
       "<Figure size 432x288 with 1 Axes>"
      ]
     },
     "metadata": {
      "needs_background": "light"
     },
     "output_type": "display_data"
    }
   ],
   "source": [
    "print(df['rooms'].describe()) # смотрим данные по числовому столбцу\n",
    "print('')\n",
    "df.boxplot(column='rooms')# диаграмма размаха\n",
    "print(f'''Изучим диаграму размаха, нормальное распределение заканчивается на 6 комнатах,\n",
    " начинаются выбросы:''')"
   ]
  },
  {
   "cell_type": "code",
   "execution_count": 19,
   "metadata": {},
   "outputs": [
    {
     "name": "stdout",
     "output_type": "stream",
     "text": [
      "Данные по количеству комнат в квартирах:\n",
      "count    23609.000000\n",
      "mean         2.047905\n",
      "std          1.006772\n",
      "min          0.000000\n",
      "25%          1.000000\n",
      "50%          2.000000\n",
      "75%          3.000000\n",
      "max          6.000000\n",
      "Name: rooms, dtype: float64\n",
      "AxesSubplot(0.125,0.125;0.775x0.755)\n"
     ]
    },
    {
     "data": {
      "image/png": "[encoded data removed]",
      "text/plain": [
       "<Figure size 216x216 with 1 Axes>"
      ]
     },
     "metadata": {
      "needs_background": "light"
     },
     "output_type": "display_data"
    }
   ],
   "source": [
    "print(f'''Данные по количеству комнат в квартирах:\n",
    "{df.query('rooms < 7')['rooms'].describe()}''') # смотрим данные по числовому столбцу в срезе\n",
    "print(df.query('rooms < 7')['rooms']\\\n",
    ".plot(kind='hist', bins=7, title='rooms', figsize=(3,3), grid=True))\n",
    "# гистограмма распределения."
   ]
  },
  {
   "cell_type": "markdown",
   "metadata": {},
   "source": [
    "В сете данных наибольшее число однокомнатных, двухкомнатных и трехкомнатных квартир, что, вероятно, связано с тем, что таких квартир наибольшее число в жилом фонде, поэтому и продаются часто. Возможно данное распределение по количеству комнат не подходит для среза данных по Санкт_Петербургу в центре города, где большое количество старого фонда, если потребуется для анализа, сделаем расчеты по конкретным срезам в дальнейшем."
   ]
  },
  {
   "cell_type": "markdown",
   "metadata": {},
   "source": [
    "#### Высота потолков"
   ]
  },
  {
   "cell_type": "code",
   "execution_count": 20,
   "metadata": {
    "scrolled": false
   },
   "outputs": [
    {
     "name": "stdout",
     "output_type": "stream",
     "text": [
      "count    14504.000000\n",
      "mean         2.771499\n",
      "std          1.261056\n",
      "min          1.000000\n",
      "25%          2.520000\n",
      "50%          2.650000\n",
      "75%          2.800000\n",
      "max        100.000000\n",
      "Name: ceiling_height, dtype: float64\n",
      "\n",
      "Изучим диаграму размаха, нормальное распределение лежит от 2,2 до 3,2 метров, ниже и выше\n",
      " начинаются выбросы:\n"
     ]
    },
    {
     "data": {
      "image/png": "[encoded data removed]",
      "text/plain": [
       "<Figure size 432x288 with 1 Axes>"
      ]
     },
     "metadata": {
      "needs_background": "light"
     },
     "output_type": "display_data"
    }
   ],
   "source": [
    "print(df.query('ceiling_height != 0')['ceiling_height'].describe()) # смотрим данные по числовому столбцу\n",
    "print('')\n",
    "plt.ylim(0,4)\n",
    "df.query('ceiling_height != 0').boxplot(column='ceiling_height')# диаграмма размаха, строим исключив значение 0, на которое мы меняли пропуски\n",
    "print(f'''Изучим диаграму размаха, нормальное распределение лежит от 2,2 до 3,2 метров, ниже и выше\n",
    " начинаются выбросы:''')"
   ]
  },
  {
   "cell_type": "code",
   "execution_count": 21,
   "metadata": {
    "scrolled": false
   },
   "outputs": [
    {
     "name": "stdout",
     "output_type": "stream",
     "text": [
      "Данные по количествукомнат в квартирах:\n",
      "count    13395.000000\n",
      "mean         2.669180\n",
      "std          0.169746\n",
      "min          2.250000\n",
      "25%          2.500000\n",
      "50%          2.600000\n",
      "75%          2.750000\n",
      "max          3.180000\n",
      "Name: ceiling_height, dtype: float64\n",
      "AxesSubplot(0.125,0.125;0.775x0.755)\n"
     ]
    },
    {
     "data": {
      "image/png": "[encoded data removed]",
      "text/plain": [
       "<Figure size 720x432 with 1 Axes>"
      ]
     },
     "metadata": {
      "needs_background": "light"
     },
     "output_type": "display_data"
    }
   ],
   "source": [
    "print(f'''Данные по количествукомнат в квартирах:\n",
    "{df.query('2.2 < ceiling_height < 3.2')['ceiling_height'].describe()}''') # смотрим данные по числовому столбцу в срезе\n",
    "print(df.query('2.2 < ceiling_height < 3.2')['ceiling_height']\\\n",
    ".plot(kind='hist', bins=10, title='ceiling_height', figsize=(10,6), grid=True))\n",
    "# гистограмма распределения."
   ]
  },
  {
   "cell_type": "markdown",
   "metadata": {},
   "source": [
    "Видим нормальное распределение Пуассона, но при высоте 3.0 - 3.2 метра видим аномальный пик, возможно это связано с историческим центром Петербурга, где старый фонд с высокими потолками, проверим, построив гистограмму без Петербурга:"
   ]
  },
  {
   "cell_type": "code",
   "execution_count": 22,
   "metadata": {
    "scrolled": false
   },
   "outputs": [
    {
     "name": "stdout",
     "output_type": "stream",
     "text": [
      "пушкин            30\n",
      "сестрорецк        22\n",
      "новыйдевяткино    19\n",
      "колпино           17\n",
      "гатчина           16\n",
      "выборг            15\n",
      "кронштадт          9\n",
      "всеволожск         9\n",
      "павловск           9\n",
      "волхов             9\n",
      "Name: locality_name_lemmas, dtype: int64\n"
     ]
    },
    {
     "data": {
      "image/png": "[encoded data removed]",
      "text/plain": [
       "<Figure size 720x432 with 1 Axes>"
      ]
     },
     "metadata": {
      "needs_background": "light"
     },
     "output_type": "display_data"
    }
   ],
   "source": [
    "print(\n",
    "df.query('2.9 < ceiling_height <= 3.2 and locality_name_lemmas != \"санкт-петербург\"')['locality_name_lemmas'].value_counts().head(10)\n",
    ") #делаем срез и опеределяем количество квартир с потолками  3.0 метра до 3.2 не в спб\n",
    "df.query('2.2 < ceiling_height < 3.2 and locality_name_lemmas != \"санкт-петербург\"')['ceiling_height']\\\n",
    ".plot(kind='hist', bins=10, title='ceiling_height', figsize=(10,6), grid=True)\n",
    "\n",
    "plt.show()"
   ]
  },
  {
   "cell_type": "markdown",
   "metadata": {},
   "source": [
    "Аномальный пик действительно стал меньше, посчитав количество предложений с потолками от 3.0 до 3.2 метра кроме Петербурга видим, что предложения с высокими потолками в основном находятся в исторических пригородах Петербурга, вероятно так же старый фонд."
   ]
  },
  {
   "cell_type": "markdown",
   "metadata": {},
   "source": [
    "### Изучите время продажи квартиры. Постройте гистограмму. Посчитайте среднее и медиану. Опишите, сколько обычно занимает продажа. Когда можно считать, что продажи прошли очень быстро, а когда необычно долго?"
   ]
  },
  {
   "cell_type": "code",
   "execution_count": 23,
   "metadata": {
    "scrolled": false
   },
   "outputs": [
    {
     "name": "stdout",
     "output_type": "stream",
     "text": [
      "count    20518.000000\n",
      "mean       180.888634\n",
      "std        219.727988\n",
      "min          1.000000\n",
      "25%         45.000000\n",
      "50%         95.000000\n",
      "75%        232.000000\n",
      "max       1580.000000\n",
      "Name: days_exposition, dtype: float64\n"
     ]
    },
    {
     "data": {
      "image/png": "[encoded data removed]",
      "text/plain": [
       "<Figure size 432x288 with 1 Axes>"
      ]
     },
     "metadata": {
      "needs_background": "light"
     },
     "output_type": "display_data"
    },
    {
     "name": "stdout",
     "output_type": "stream",
     "text": [
      "Видим диаграмму размаха, на которой нормальное распределение лежит от 0 до 500-520 дней, далее идут выбросы\n",
      "AxesSubplot(0.125,0.125;0.775x0.755)\n"
     ]
    },
    {
     "data": {
      "image/png": "[encoded data removed]",
      "text/plain": [
       "<Figure size 720x504 with 1 Axes>"
      ]
     },
     "metadata": {
      "needs_background": "light"
     },
     "output_type": "display_data"
    }
   ],
   "source": [
    "days_exposition_stat = df.query('days_exposition != 0') # делаю срез, исключаю значение =0, на которое заменил пропуски\n",
    "print(days_exposition_stat['days_exposition'].describe())\n",
    "days_exposition_stat.boxplot(column='days_exposition')\n",
    "plt.show()\n",
    "print(f'Видим диаграмму размаха, на которой нормальное распределение лежит от 0 до 500-520 дней, далее идут выбросы')\n",
    "print(days_exposition_stat.plot(y='days_exposition', kind='hist',title=True, grid=True,  bins=100, figsize=(10,7)))\n",
    "plt.show()"
   ]
  },
  {
   "cell_type": "markdown",
   "metadata": {},
   "source": [
    "Сделаем срез по количеству дней до продажи, убрав 0, на который мы меняли пропуски и ограничив максимальное количество дней до продажи на 520, по диаграме размаха, затем посмотрим на среднее время продажи для первого, последнего и остальных этажей, а так же корреляцию между временем до продажи, стоимостью и общей площадью."
   ]
  },
  {
   "cell_type": "code",
   "execution_count": 24,
   "metadata": {},
   "outputs": [
    {
     "data": {
      "text/plain": [
       "floor_categories\n",
       "другой       125.867372\n",
       "первый       146.116393\n",
       "последний    135.115279\n",
       "Name: days_exposition, dtype: float64"
      ]
     },
     "metadata": {},
     "output_type": "display_data"
    },
    {
     "data": {
      "text/html": [
       "<div>\n",
       "<style scoped>\n",
       "    .dataframe tbody tr th:only-of-type {\n",
       "        vertical-align: middle;\n",
       "    }\n",
       "\n",
       "    .dataframe tbody tr th {\n",
       "        vertical-align: top;\n",
       "    }\n",
       "\n",
       "    .dataframe thead th {\n",
       "        text-align: right;\n",
       "    }\n",
       "</style>\n",
       "<table border=\"1\" class=\"dataframe\">\n",
       "  <thead>\n",
       "    <tr style=\"text-align: right;\">\n",
       "      <th></th>\n",
       "      <th>days_exposition</th>\n",
       "      <th>last_price_in_millions</th>\n",
       "      <th>total_area</th>\n",
       "    </tr>\n",
       "  </thead>\n",
       "  <tbody>\n",
       "    <tr>\n",
       "      <td>days_exposition</td>\n",
       "      <td>1.000000</td>\n",
       "      <td>-0.744157</td>\n",
       "      <td>-0.503314</td>\n",
       "    </tr>\n",
       "    <tr>\n",
       "      <td>last_price_in_millions</td>\n",
       "      <td>-0.744157</td>\n",
       "      <td>1.000000</td>\n",
       "      <td>0.951770</td>\n",
       "    </tr>\n",
       "    <tr>\n",
       "      <td>total_area</td>\n",
       "      <td>-0.503314</td>\n",
       "      <td>0.951770</td>\n",
       "      <td>1.000000</td>\n",
       "    </tr>\n",
       "  </tbody>\n",
       "</table>\n",
       "</div>"
      ],
      "text/plain": [
       "                        days_exposition  last_price_in_millions  total_area\n",
       "days_exposition                1.000000               -0.744157   -0.503314\n",
       "last_price_in_millions        -0.744157                1.000000    0.951770\n",
       "total_area                    -0.503314                0.951770    1.000000"
      ]
     },
     "metadata": {},
     "output_type": "display_data"
    },
    {
     "name": "stdout",
     "output_type": "stream",
     "text": [
      "    Видим, первый и последний этаж в среднем продаются на 20 и на 10 дней дольше, чем другие этажи,\n",
      "между стоимостью квартиры и временем продажи прослеживается значительная корреляция, между площадью квартиры и временем продажи так же заметна корреляция, менее выраженная чем со стоимостью. \n"
     ]
    }
   ],
   "source": [
    "days_exp_corr =(\n",
    "    df.query('0 < days_exposition < 520')#делаем срез по границе нормального распределения\n",
    "    .pivot_table(index='floor_categories',values=['days_exposition','last_price_in_millions','total_area'])\n",
    ")\n",
    "\n",
    "display(days_exp_corr['days_exposition'])\n",
    "display(days_exp_corr.corr())\n",
    "print(f'''    Видим, первый и последний этаж в среднем продаются на 20 и на 10 дней дольше, чем другие этажи,\n",
    "между стоимостью квартиры и временем продажи прослеживается значительная корреляция, между площадью квартиры и временем \\\n",
    "продажи так же заметна корреляция, менее выраженная чем со стоимостью. ''')\n"
   ]
  },
  {
   "cell_type": "markdown",
   "metadata": {},
   "source": [
    "#### итог: "
   ]
  },
  {
   "cell_type": "markdown",
   "metadata": {},
   "source": [
    "Распределение по времени продаже в данных следующее, нормальное распределение из диаграммы размаха от 0 до 510-520 дней, среднее время 181 день, медианное - 95 дней, продажа быстрее 45 дней будет очень быстрой, свыше 510 дней необычно долго."
   ]
  },
  {
   "cell_type": "markdown",
   "metadata": {},
   "source": [
    "### Уберем редкие и выбивающиеся значения."
   ]
  },
  {
   "cell_type": "code",
   "execution_count": 25,
   "metadata": {},
   "outputs": [],
   "source": [
    "good_stat_price = df.query('last_price_in_millions < 15 and total_area < 120')#делаем срез по границе нормального распределения\n",
    "#смотрим взаимосвязь параметров цены с другими параметрами\n"
   ]
  },
  {
   "cell_type": "markdown",
   "metadata": {},
   "source": [
    "### Какие факторы больше всего влияют на стоимость квартиры? Изучаем, зависит ли цена от площади, числа комнат, удалённости от центра. Изучим зависимость цены от того, на каком этаже расположена квартира: первом, последнем или другом. Также изучим зависимость от даты размещения: дня недели, месяца и года."
   ]
  },
  {
   "cell_type": "code",
   "execution_count": 26,
   "metadata": {},
   "outputs": [
    {
     "data": {
      "text/html": [
       "<div>\n",
       "<style scoped>\n",
       "    .dataframe tbody tr th:only-of-type {\n",
       "        vertical-align: middle;\n",
       "    }\n",
       "\n",
       "    .dataframe tbody tr th {\n",
       "        vertical-align: top;\n",
       "    }\n",
       "\n",
       "    .dataframe thead th {\n",
       "        text-align: right;\n",
       "    }\n",
       "</style>\n",
       "<table border=\"1\" class=\"dataframe\">\n",
       "  <thead>\n",
       "    <tr style=\"text-align: right;\">\n",
       "      <th></th>\n",
       "      <th>last_price_in_millions</th>\n",
       "      <th>days_exposition</th>\n",
       "      <th>days_exposition</th>\n",
       "      <th>price_on_sqmetr</th>\n",
       "      <th>rooms</th>\n",
       "      <th>total_area</th>\n",
       "    </tr>\n",
       "  </thead>\n",
       "  <tbody>\n",
       "    <tr>\n",
       "      <td>last_price_in_millions</td>\n",
       "      <td>1.000000</td>\n",
       "      <td>0.130777</td>\n",
       "      <td>0.130777</td>\n",
       "      <td>0.762799</td>\n",
       "      <td>0.589821</td>\n",
       "      <td>0.812231</td>\n",
       "    </tr>\n",
       "    <tr>\n",
       "      <td>days_exposition</td>\n",
       "      <td>0.130777</td>\n",
       "      <td>1.000000</td>\n",
       "      <td>1.000000</td>\n",
       "      <td>0.092762</td>\n",
       "      <td>0.057530</td>\n",
       "      <td>0.125840</td>\n",
       "    </tr>\n",
       "    <tr>\n",
       "      <td>days_exposition</td>\n",
       "      <td>0.130777</td>\n",
       "      <td>1.000000</td>\n",
       "      <td>1.000000</td>\n",
       "      <td>0.092762</td>\n",
       "      <td>0.057530</td>\n",
       "      <td>0.125840</td>\n",
       "    </tr>\n",
       "    <tr>\n",
       "      <td>price_on_sqmetr</td>\n",
       "      <td>0.762799</td>\n",
       "      <td>0.092762</td>\n",
       "      <td>0.092762</td>\n",
       "      <td>1.000000</td>\n",
       "      <td>0.101122</td>\n",
       "      <td>0.291110</td>\n",
       "    </tr>\n",
       "    <tr>\n",
       "      <td>rooms</td>\n",
       "      <td>0.589821</td>\n",
       "      <td>0.057530</td>\n",
       "      <td>0.057530</td>\n",
       "      <td>0.101122</td>\n",
       "      <td>1.000000</td>\n",
       "      <td>0.843125</td>\n",
       "    </tr>\n",
       "    <tr>\n",
       "      <td>total_area</td>\n",
       "      <td>0.812231</td>\n",
       "      <td>0.125840</td>\n",
       "      <td>0.125840</td>\n",
       "      <td>0.291110</td>\n",
       "      <td>0.843125</td>\n",
       "      <td>1.000000</td>\n",
       "    </tr>\n",
       "  </tbody>\n",
       "</table>\n",
       "</div>"
      ],
      "text/plain": [
       "                        last_price_in_millions  days_exposition  \\\n",
       "last_price_in_millions                1.000000         0.130777   \n",
       "days_exposition                       0.130777         1.000000   \n",
       "days_exposition                       0.130777         1.000000   \n",
       "price_on_sqmetr                       0.762799         0.092762   \n",
       "rooms                                 0.589821         0.057530   \n",
       "total_area                            0.812231         0.125840   \n",
       "\n",
       "                        days_exposition  price_on_sqmetr     rooms  total_area  \n",
       "last_price_in_millions         0.130777         0.762799  0.589821    0.812231  \n",
       "days_exposition                1.000000         0.092762  0.057530    0.125840  \n",
       "days_exposition                1.000000         0.092762  0.057530    0.125840  \n",
       "price_on_sqmetr                0.092762         1.000000  0.101122    0.291110  \n",
       "rooms                          0.057530         0.101122  1.000000    0.843125  \n",
       "total_area                     0.125840         0.291110  0.843125    1.000000  "
      ]
     },
     "metadata": {},
     "output_type": "display_data"
    },
    {
     "name": "stdout",
     "output_type": "stream",
     "text": [
      "\n",
      "Видим высокую корреляцию для соотношения цены  к площади квартиры, так же корреляция есть с количеством комнат и стоимости кв.метра\n",
      "\n"
     ]
    }
   ],
   "source": [
    "display(\n",
    "    good_stat_price\n",
    "    .pivot_table(index='last_price_in_millions',values=['price_on_sqmetr','total_area','rooms','days_exposition','days_exposition'],aggfunc='mean')\n",
    "    .reset_index()\n",
    "    .corr()\n",
    ")\n",
    "print(f'''\n",
    "Видим высокую корреляцию для соотношения цены  к площади квартиры, так же корреляция есть с количеством комнат и стоимости кв.метра\n",
    "''')\n"
   ]
  },
  {
   "cell_type": "code",
   "execution_count": 27,
   "metadata": {},
   "outputs": [
    {
     "data": {
      "text/html": [
       "<div>\n",
       "<style scoped>\n",
       "    .dataframe tbody tr th:only-of-type {\n",
       "        vertical-align: middle;\n",
       "    }\n",
       "\n",
       "    .dataframe tbody tr th {\n",
       "        vertical-align: top;\n",
       "    }\n",
       "\n",
       "    .dataframe thead th {\n",
       "        text-align: right;\n",
       "    }\n",
       "</style>\n",
       "<table border=\"1\" class=\"dataframe\">\n",
       "  <thead>\n",
       "    <tr style=\"text-align: right;\">\n",
       "      <th></th>\n",
       "      <th>last_price_in_millions</th>\n",
       "    </tr>\n",
       "    <tr>\n",
       "      <th>floor_categories</th>\n",
       "      <th></th>\n",
       "    </tr>\n",
       "  </thead>\n",
       "  <tbody>\n",
       "    <tr>\n",
       "      <td>другой</td>\n",
       "      <td>5.269118</td>\n",
       "    </tr>\n",
       "    <tr>\n",
       "      <td>первый</td>\n",
       "      <td>4.199790</td>\n",
       "    </tr>\n",
       "    <tr>\n",
       "      <td>последний</td>\n",
       "      <td>4.668264</td>\n",
       "    </tr>\n",
       "  </tbody>\n",
       "</table>\n",
       "</div>"
      ],
      "text/plain": [
       "                  last_price_in_millions\n",
       "floor_categories                        \n",
       "другой                          5.269118\n",
       "первый                          4.199790\n",
       "последний                       4.668264"
      ]
     },
     "metadata": {},
     "output_type": "display_data"
    },
    {
     "name": "stdout",
     "output_type": "stream",
     "text": [
      "видим связь между этажом и ценой\n"
     ]
    }
   ],
   "source": [
    "display(good_stat_price.pivot_table(index='floor_categories',values='last_price_in_millions'))\n",
    "print('видим связь между этажом и ценой')"
   ]
  },
  {
   "cell_type": "code",
   "execution_count": 28,
   "metadata": {},
   "outputs": [
    {
     "data": {
      "text/html": [
       "<div>\n",
       "<style scoped>\n",
       "    .dataframe tbody tr th:only-of-type {\n",
       "        vertical-align: middle;\n",
       "    }\n",
       "\n",
       "    .dataframe tbody tr th {\n",
       "        vertical-align: top;\n",
       "    }\n",
       "\n",
       "    .dataframe thead th {\n",
       "        text-align: right;\n",
       "    }\n",
       "</style>\n",
       "<table border=\"1\" class=\"dataframe\">\n",
       "  <thead>\n",
       "    <tr style=\"text-align: right;\">\n",
       "      <th></th>\n",
       "      <th>last_price_in_millions</th>\n",
       "      <th>month</th>\n",
       "      <th>weekday</th>\n",
       "      <th>year</th>\n",
       "    </tr>\n",
       "  </thead>\n",
       "  <tbody>\n",
       "    <tr>\n",
       "      <td>last_price_in_millions</td>\n",
       "      <td>1.000000</td>\n",
       "      <td>0.004681</td>\n",
       "      <td>-0.012887</td>\n",
       "      <td>-0.004946</td>\n",
       "    </tr>\n",
       "    <tr>\n",
       "      <td>month</td>\n",
       "      <td>0.004681</td>\n",
       "      <td>1.000000</td>\n",
       "      <td>0.012785</td>\n",
       "      <td>-0.267887</td>\n",
       "    </tr>\n",
       "    <tr>\n",
       "      <td>weekday</td>\n",
       "      <td>-0.012887</td>\n",
       "      <td>0.012785</td>\n",
       "      <td>1.000000</td>\n",
       "      <td>-0.004886</td>\n",
       "    </tr>\n",
       "    <tr>\n",
       "      <td>year</td>\n",
       "      <td>-0.004946</td>\n",
       "      <td>-0.267887</td>\n",
       "      <td>-0.004886</td>\n",
       "      <td>1.000000</td>\n",
       "    </tr>\n",
       "  </tbody>\n",
       "</table>\n",
       "</div>"
      ],
      "text/plain": [
       "                        last_price_in_millions     month   weekday      year\n",
       "last_price_in_millions                1.000000  0.004681 -0.012887 -0.004946\n",
       "month                                 0.004681  1.000000  0.012785 -0.267887\n",
       "weekday                              -0.012887  0.012785  1.000000 -0.004886\n",
       "year                                 -0.004946 -0.267887 -0.004886  1.000000"
      ]
     },
     "metadata": {},
     "output_type": "display_data"
    },
    {
     "data": {
      "image/png": "[encoded data removed]",
      "text/plain": [
       "<Figure size 432x288 with 1 Axes>"
      ]
     },
     "metadata": {
      "needs_background": "light"
     },
     "output_type": "display_data"
    }
   ],
   "source": [
    "display(good_stat_price.pivot_table(index=good_stat_price.index, values=['last_price_in_millions','weekday','month','year']).corr())\n",
    "good_stat_price['month'].hist(bins=23)\n",
    "plt.show()"
   ]
  },
  {
   "cell_type": "markdown",
   "metadata": {},
   "source": [
    "#### Вывод:"
   ]
  },
  {
   "cell_type": "markdown",
   "metadata": {},
   "source": [
    "Видим высокую корреляцию для соотношения цены  к площади квартиры, так же есть умеренная зависимость с количеством комнат и\n",
    "удаленности от центра. Взаимосвязь между стоимостью и на каом этаже квартира есть, на первом в среднем на 22% дешевле,\n",
    "на последнем на 9% дешевле, чем другие квартиры. Зависимсости цены от дня недели, месяца и года размещения объявления нет,\n",
    "хотя сезонность по количеству объявлений о продаже квартир прослеживается."
   ]
  },
  {
   "cell_type": "markdown",
   "metadata": {},
   "source": [
    "### Выберем 10 населённых пунктов с наибольшим числом объявлений. Посчитаем среднюю цену квадратного метра в этих населённых пунктах. Выделим населённые пункты с самой высокой и низкой стоимостью жилья."
   ]
  },
  {
   "cell_type": "code",
   "execution_count": 29,
   "metadata": {},
   "outputs": [
    {
     "name": "stdout",
     "output_type": "stream",
     "text": [
      "Сформируем список лемматизированных первых 10 по популярности населенных пунктов: ['санкт-петербург', 'муриный', 'кудрово', 'шушары', 'всеволожск', 'пушкин', 'колпино', 'парголовый', 'гатчина', 'выборг']\n",
      "\n",
      "   Выедем теперь на экран таблицу с средней стоимостью квадратного метра по данным населенным пунктам:\n"
     ]
    },
    {
     "data": {
      "text/html": [
       "<div>\n",
       "<style scoped>\n",
       "    .dataframe tbody tr th:only-of-type {\n",
       "        vertical-align: middle;\n",
       "    }\n",
       "\n",
       "    .dataframe tbody tr th {\n",
       "        vertical-align: top;\n",
       "    }\n",
       "\n",
       "    .dataframe thead th {\n",
       "        text-align: right;\n",
       "    }\n",
       "</style>\n",
       "<table border=\"1\" class=\"dataframe\">\n",
       "  <thead>\n",
       "    <tr style=\"text-align: right;\">\n",
       "      <th></th>\n",
       "      <th>price_on_sqmetr</th>\n",
       "    </tr>\n",
       "    <tr>\n",
       "      <th>locality_name</th>\n",
       "      <th></th>\n",
       "    </tr>\n",
       "  </thead>\n",
       "  <tbody>\n",
       "    <tr>\n",
       "      <td>санкт-петербург</td>\n",
       "      <td>107456.332936</td>\n",
       "    </tr>\n",
       "    <tr>\n",
       "      <td>пушкин</td>\n",
       "      <td>101059.970930</td>\n",
       "    </tr>\n",
       "    <tr>\n",
       "      <td>кудрово</td>\n",
       "      <td>100253.046243</td>\n",
       "    </tr>\n",
       "    <tr>\n",
       "      <td>мурино</td>\n",
       "      <td>92722.705882</td>\n",
       "    </tr>\n",
       "    <tr>\n",
       "      <td>деревня кудрово</td>\n",
       "      <td>92473.588629</td>\n",
       "    </tr>\n",
       "    <tr>\n",
       "      <td>посёлок парголово</td>\n",
       "      <td>90332.236196</td>\n",
       "    </tr>\n",
       "    <tr>\n",
       "      <td>посёлок мурино</td>\n",
       "      <td>85752.181992</td>\n",
       "    </tr>\n",
       "    <tr>\n",
       "      <td>поселок мурино</td>\n",
       "      <td>84600.558824</td>\n",
       "    </tr>\n",
       "    <tr>\n",
       "      <td>посёлок шушары</td>\n",
       "      <td>78666.179954</td>\n",
       "    </tr>\n",
       "    <tr>\n",
       "      <td>колпино</td>\n",
       "      <td>75370.017857</td>\n",
       "    </tr>\n",
       "    <tr>\n",
       "      <td>гатчина</td>\n",
       "      <td>68919.434211</td>\n",
       "    </tr>\n",
       "    <tr>\n",
       "      <td>всеволожск</td>\n",
       "      <td>67222.434010</td>\n",
       "    </tr>\n",
       "    <tr>\n",
       "      <td>выборг</td>\n",
       "      <td>58229.741379</td>\n",
       "    </tr>\n",
       "  </tbody>\n",
       "</table>\n",
       "</div>"
      ],
      "text/plain": [
       "                   price_on_sqmetr\n",
       "locality_name                     \n",
       "санкт-петербург      107456.332936\n",
       "пушкин               101059.970930\n",
       "кудрово              100253.046243\n",
       "мурино                92722.705882\n",
       "деревня кудрово       92473.588629\n",
       "посёлок парголово     90332.236196\n",
       "посёлок мурино        85752.181992\n",
       "поселок мурино        84600.558824\n",
       "посёлок шушары        78666.179954\n",
       "колпино               75370.017857\n",
       "гатчина               68919.434211\n",
       "всеволожск            67222.434010\n",
       "выборг                58229.741379"
      ]
     },
     "metadata": {},
     "output_type": "display_data"
    },
    {
     "name": "stdout",
     "output_type": "stream",
     "text": [
      "Самая высокая цена из сета данных была в строке(ах), с населенным пунктом:\n",
      "12971    санкт-петербург\n",
      "Name: locality_name, dtype: object\n",
      "\n",
      "Самая низкая цена из сета данных была в строке(ах), с населенным пунктом:\n",
      "14911    посёлок станции свирь\n",
      "17456                   сланцы\n",
      "Name: locality_name, dtype: object\n"
     ]
    }
   ],
   "source": [
    "top_pop_locl_name = df['locality_name_lemmas'].value_counts().head(10).index.tolist() #список топ 10 населенных пунктов по кол-ву объявлений\n",
    "print(f'''Сформируем список лемматизированных первых 10 по популярности населенных пунктов: {top_pop_locl_name}\n",
    "\n",
    "   Выедем теперь на экран таблицу с средней стоимостью квадратного метра по данным населенным пунктам:''')\n",
    "display(good_stat_price.query('locality_name_lemmas in @top_pop_locl_name')\\\n",
    "        .pivot_table(index='locality_name', values='price_on_sqmetr', aggfunc='mean')\\\n",
    "        .sort_values(by='price_on_sqmetr',ascending=False))\n",
    "print(f'''Самая высокая цена из сета данных была в строке(ах), с населенным пунктом:\n",
    "{df[df['last_price'] == df['last_price'].max()]['locality_name']}\n",
    "\n",
    "Самая низкая цена из сета данных была в строке(ах), с населенным пунктом:\n",
    "{df[df['last_price'] == df['last_price'].min()]['locality_name']}''')\n"
   ]
  },
  {
   "cell_type": "markdown",
   "metadata": {},
   "source": [
    "#### Вывод:"
   ]
  },
  {
   "cell_type": "markdown",
   "metadata": {},
   "source": [
    "Определили 10 населенных пунктов по наибольшему количеству объявлений о продаже и посчитали среднюю стоимость квадратного метра для них, в лидерах Санкт-Петербург, с 2 по 8 место идет ближний пригород или анклавы Санкт_петербурга.\n",
    "Самая высока стоимость из сета была в Санкт-Петербурге, минимальная стоимость - два объявления, расположены в небольших населенных пунктах на края Ленинградской области."
   ]
  },
  {
   "cell_type": "markdown",
   "metadata": {},
   "source": [
    "### Выяснить, какая область входит в центр.  Посчитаем среднюю цену для каждого километра. Построим график как цена зависит от удалённости от центра. Определим границу, где график сильно меняется, — это и будет центральная зона."
   ]
  },
  {
   "cell_type": "code",
   "execution_count": 30,
   "metadata": {
    "scrolled": false
   },
   "outputs": [
    {
     "data": {
      "text/html": [
       "<div>\n",
       "<style scoped>\n",
       "    .dataframe tbody tr th:only-of-type {\n",
       "        vertical-align: middle;\n",
       "    }\n",
       "\n",
       "    .dataframe tbody tr th {\n",
       "        vertical-align: top;\n",
       "    }\n",
       "\n",
       "    .dataframe thead th {\n",
       "        text-align: right;\n",
       "    }\n",
       "</style>\n",
       "<table border=\"1\" class=\"dataframe\">\n",
       "  <thead>\n",
       "    <tr style=\"text-align: right;\">\n",
       "      <th></th>\n",
       "      <th>nearest_center_round</th>\n",
       "      <th>last_price_in_millions</th>\n",
       "    </tr>\n",
       "  </thead>\n",
       "  <tbody>\n",
       "    <tr>\n",
       "      <td>0</td>\n",
       "      <td>1.0</td>\n",
       "      <td>23.442315</td>\n",
       "    </tr>\n",
       "    <tr>\n",
       "      <td>1</td>\n",
       "      <td>2.0</td>\n",
       "      <td>18.843572</td>\n",
       "    </tr>\n",
       "    <tr>\n",
       "      <td>2</td>\n",
       "      <td>3.0</td>\n",
       "      <td>16.163314</td>\n",
       "    </tr>\n",
       "    <tr>\n",
       "      <td>3</td>\n",
       "      <td>4.0</td>\n",
       "      <td>13.409854</td>\n",
       "    </tr>\n",
       "    <tr>\n",
       "      <td>4</td>\n",
       "      <td>5.0</td>\n",
       "      <td>13.579417</td>\n",
       "    </tr>\n",
       "    <tr>\n",
       "      <td>5</td>\n",
       "      <td>6.0</td>\n",
       "      <td>15.293386</td>\n",
       "    </tr>\n",
       "    <tr>\n",
       "      <td>6</td>\n",
       "      <td>7.0</td>\n",
       "      <td>14.389106</td>\n",
       "    </tr>\n",
       "    <tr>\n",
       "      <td>7</td>\n",
       "      <td>8.0</td>\n",
       "      <td>12.797674</td>\n",
       "    </tr>\n",
       "    <tr>\n",
       "      <td>8</td>\n",
       "      <td>9.0</td>\n",
       "      <td>8.418169</td>\n",
       "    </tr>\n",
       "    <tr>\n",
       "      <td>9</td>\n",
       "      <td>10.0</td>\n",
       "      <td>6.447829</td>\n",
       "    </tr>\n",
       "  </tbody>\n",
       "</table>\n",
       "</div>"
      ],
      "text/plain": [
       "   nearest_center_round  last_price_in_millions\n",
       "0                   1.0               23.442315\n",
       "1                   2.0               18.843572\n",
       "2                   3.0               16.163314\n",
       "3                   4.0               13.409854\n",
       "4                   5.0               13.579417\n",
       "5                   6.0               15.293386\n",
       "6                   7.0               14.389106\n",
       "7                   8.0               12.797674\n",
       "8                   9.0                8.418169\n",
       "9                  10.0                6.447829"
      ]
     },
     "metadata": {},
     "output_type": "display_data"
    },
    {
     "data": {
      "text/plain": [
       "<matplotlib.axes._subplots.AxesSubplot at 0x7f001cf90fd0>"
      ]
     },
     "execution_count": 30,
     "metadata": {},
     "output_type": "execute_result"
    },
    {
     "data": {
      "image/png": "[encoded data removed]",
      "text/plain": [
       "<Figure size 1008x432 with 1 Axes>"
      ]
     },
     "metadata": {
      "needs_background": "light"
     },
     "output_type": "display_data"
    }
   ],
   "source": [
    "price_of_neares_center = (\n",
    "    df.query('0 < nearest_center_round < 31')\n",
    "    .pivot_table(index='nearest_center_round', values='last_price_in_millions', aggfunc='mean')\n",
    "    .reset_index()\n",
    ") # сделаем срез по расстоянию до центра, исключив 0 как замену пропуска данных и построим сводную таблицу\n",
    "display(price_of_neares_center.head(10))\n",
    "price_of_neares_center.plot(x='nearest_center_round',y='last_price_in_millions', style='o-', figsize=(14,6), grid=True)\n",
    "# построим график зависимости стоимости квартиры от расстояния до центра"
   ]
  },
  {
   "cell_type": "markdown",
   "metadata": {},
   "source": [
    "#### Вывод:"
   ]
  },
  {
   "cell_type": "markdown",
   "metadata": {},
   "source": [
    "Граница центра Санкт-Петербурга проходит на 8 км от центра города, так как дальше идет спад и длительная стагнация стоимости."
   ]
  },
  {
   "cell_type": "markdown",
   "metadata": {},
   "source": [
    "### Выделяем сегмент квартир в центре. Проанализируем эту территорию и изучим следующие параметры: площадь, цена, число комнат, высота потолков. Также выделим факторы, которые влияют на стоимость квартиры (число комнат, этаж, удалённость от центра, дата размещения объявления)."
   ]
  },
  {
   "cell_type": "code",
   "execution_count": 31,
   "metadata": {
    "scrolled": false
   },
   "outputs": [
    {
     "data": {
      "text/html": [
       "<div>\n",
       "<style scoped>\n",
       "    .dataframe tbody tr th:only-of-type {\n",
       "        vertical-align: middle;\n",
       "    }\n",
       "\n",
       "    .dataframe tbody tr th {\n",
       "        vertical-align: top;\n",
       "    }\n",
       "\n",
       "    .dataframe thead tr th {\n",
       "        text-align: left;\n",
       "    }\n",
       "\n",
       "    .dataframe thead tr:last-of-type th {\n",
       "        text-align: right;\n",
       "    }\n",
       "</style>\n",
       "<table border=\"1\" class=\"dataframe\">\n",
       "  <thead>\n",
       "    <tr>\n",
       "      <th></th>\n",
       "      <th colspan=\"6\" halign=\"left\">mean</th>\n",
       "      <th colspan=\"6\" halign=\"left\">median</th>\n",
       "    </tr>\n",
       "    <tr>\n",
       "      <th></th>\n",
       "      <th>ceiling_height</th>\n",
       "      <th>floors_total</th>\n",
       "      <th>last_price_in_millions</th>\n",
       "      <th>price_on_sqmetr</th>\n",
       "      <th>rooms</th>\n",
       "      <th>total_area</th>\n",
       "      <th>ceiling_height</th>\n",
       "      <th>floors_total</th>\n",
       "      <th>last_price_in_millions</th>\n",
       "      <th>price_on_sqmetr</th>\n",
       "      <th>rooms</th>\n",
       "      <th>total_area</th>\n",
       "    </tr>\n",
       "    <tr>\n",
       "      <th>nearest_center_round</th>\n",
       "      <th></th>\n",
       "      <th></th>\n",
       "      <th></th>\n",
       "      <th></th>\n",
       "      <th></th>\n",
       "      <th></th>\n",
       "      <th></th>\n",
       "      <th></th>\n",
       "      <th></th>\n",
       "      <th></th>\n",
       "      <th></th>\n",
       "      <th></th>\n",
       "    </tr>\n",
       "  </thead>\n",
       "  <tbody>\n",
       "    <tr>\n",
       "      <td>1.0</td>\n",
       "      <td>3.265965</td>\n",
       "      <td>4.720930</td>\n",
       "      <td>23.442315</td>\n",
       "      <td>187324.151163</td>\n",
       "      <td>3.220930</td>\n",
       "      <td>112.130000</td>\n",
       "      <td>3.200</td>\n",
       "      <td>5</td>\n",
       "      <td>11.750000</td>\n",
       "      <td>138537.0</td>\n",
       "      <td>3</td>\n",
       "      <td>95.900</td>\n",
       "    </tr>\n",
       "    <tr>\n",
       "      <td>2.0</td>\n",
       "      <td>3.220175</td>\n",
       "      <td>4.752066</td>\n",
       "      <td>18.843572</td>\n",
       "      <td>166442.169421</td>\n",
       "      <td>3.239669</td>\n",
       "      <td>103.219421</td>\n",
       "      <td>3.160</td>\n",
       "      <td>5</td>\n",
       "      <td>10.950000</td>\n",
       "      <td>123967.0</td>\n",
       "      <td>3</td>\n",
       "      <td>86.100</td>\n",
       "    </tr>\n",
       "    <tr>\n",
       "      <td>3.0</td>\n",
       "      <td>3.236267</td>\n",
       "      <td>4.996743</td>\n",
       "      <td>16.163314</td>\n",
       "      <td>146662.820847</td>\n",
       "      <td>3.114007</td>\n",
       "      <td>98.856482</td>\n",
       "      <td>3.200</td>\n",
       "      <td>5</td>\n",
       "      <td>9.500000</td>\n",
       "      <td>116364.0</td>\n",
       "      <td>3</td>\n",
       "      <td>86.200</td>\n",
       "    </tr>\n",
       "    <tr>\n",
       "      <td>4.0</td>\n",
       "      <td>3.299540</td>\n",
       "      <td>5.435849</td>\n",
       "      <td>13.409854</td>\n",
       "      <td>129370.135849</td>\n",
       "      <td>3.016981</td>\n",
       "      <td>91.446075</td>\n",
       "      <td>3.100</td>\n",
       "      <td>5</td>\n",
       "      <td>8.500000</td>\n",
       "      <td>110080.0</td>\n",
       "      <td>3</td>\n",
       "      <td>80.000</td>\n",
       "    </tr>\n",
       "    <tr>\n",
       "      <td>5.0</td>\n",
       "      <td>3.121610</td>\n",
       "      <td>7.776201</td>\n",
       "      <td>13.579417</td>\n",
       "      <td>137148.295852</td>\n",
       "      <td>2.924672</td>\n",
       "      <td>96.007052</td>\n",
       "      <td>3.005</td>\n",
       "      <td>6</td>\n",
       "      <td>9.900000</td>\n",
       "      <td>125915.5</td>\n",
       "      <td>3</td>\n",
       "      <td>82.075</td>\n",
       "    </tr>\n",
       "    <tr>\n",
       "      <td>6.0</td>\n",
       "      <td>3.046515</td>\n",
       "      <td>7.474026</td>\n",
       "      <td>15.293386</td>\n",
       "      <td>146874.401299</td>\n",
       "      <td>2.740260</td>\n",
       "      <td>93.921597</td>\n",
       "      <td>3.000</td>\n",
       "      <td>7</td>\n",
       "      <td>8.910131</td>\n",
       "      <td>125921.0</td>\n",
       "      <td>3</td>\n",
       "      <td>77.500</td>\n",
       "    </tr>\n",
       "    <tr>\n",
       "      <td>7.0</td>\n",
       "      <td>2.968209</td>\n",
       "      <td>8.431915</td>\n",
       "      <td>14.389106</td>\n",
       "      <td>152277.895745</td>\n",
       "      <td>2.338298</td>\n",
       "      <td>82.903319</td>\n",
       "      <td>3.000</td>\n",
       "      <td>8</td>\n",
       "      <td>8.005000</td>\n",
       "      <td>134117.5</td>\n",
       "      <td>2</td>\n",
       "      <td>67.935</td>\n",
       "    </tr>\n",
       "    <tr>\n",
       "      <td>8.0</td>\n",
       "      <td>2.810488</td>\n",
       "      <td>10.103194</td>\n",
       "      <td>12.797674</td>\n",
       "      <td>141399.724816</td>\n",
       "      <td>2.422604</td>\n",
       "      <td>77.187150</td>\n",
       "      <td>2.750</td>\n",
       "      <td>9</td>\n",
       "      <td>7.500000</td>\n",
       "      <td>125000.0</td>\n",
       "      <td>2</td>\n",
       "      <td>64.870</td>\n",
       "    </tr>\n",
       "  </tbody>\n",
       "</table>\n",
       "</div>"
      ],
      "text/plain": [
       "                               mean                                      \\\n",
       "                     ceiling_height floors_total last_price_in_millions   \n",
       "nearest_center_round                                                      \n",
       "1.0                        3.265965     4.720930              23.442315   \n",
       "2.0                        3.220175     4.752066              18.843572   \n",
       "3.0                        3.236267     4.996743              16.163314   \n",
       "4.0                        3.299540     5.435849              13.409854   \n",
       "5.0                        3.121610     7.776201              13.579417   \n",
       "6.0                        3.046515     7.474026              15.293386   \n",
       "7.0                        2.968209     8.431915              14.389106   \n",
       "8.0                        2.810488    10.103194              12.797674   \n",
       "\n",
       "                                                                   median  \\\n",
       "                     price_on_sqmetr     rooms  total_area ceiling_height   \n",
       "nearest_center_round                                                        \n",
       "1.0                    187324.151163  3.220930  112.130000          3.200   \n",
       "2.0                    166442.169421  3.239669  103.219421          3.160   \n",
       "3.0                    146662.820847  3.114007   98.856482          3.200   \n",
       "4.0                    129370.135849  3.016981   91.446075          3.100   \n",
       "5.0                    137148.295852  2.924672   96.007052          3.005   \n",
       "6.0                    146874.401299  2.740260   93.921597          3.000   \n",
       "7.0                    152277.895745  2.338298   82.903319          3.000   \n",
       "8.0                    141399.724816  2.422604   77.187150          2.750   \n",
       "\n",
       "                                                                          \\\n",
       "                     floors_total last_price_in_millions price_on_sqmetr   \n",
       "nearest_center_round                                                       \n",
       "1.0                             5              11.750000        138537.0   \n",
       "2.0                             5              10.950000        123967.0   \n",
       "3.0                             5               9.500000        116364.0   \n",
       "4.0                             5               8.500000        110080.0   \n",
       "5.0                             6               9.900000        125915.5   \n",
       "6.0                             7               8.910131        125921.0   \n",
       "7.0                             8               8.005000        134117.5   \n",
       "8.0                             9               7.500000        125000.0   \n",
       "\n",
       "                                       \n",
       "                     rooms total_area  \n",
       "nearest_center_round                   \n",
       "1.0                      3     95.900  \n",
       "2.0                      3     86.100  \n",
       "3.0                      3     86.200  \n",
       "4.0                      3     80.000  \n",
       "5.0                      3     82.075  \n",
       "6.0                      3     77.500  \n",
       "7.0                      2     67.935  \n",
       "8.0                      2     64.870  "
      ]
     },
     "metadata": {},
     "output_type": "display_data"
    }
   ],
   "source": [
    "center_data = df.query('0 < nearest_center_round <= 8 and ceiling_height != 0') #Делаем срез по расстоянию до центра исключив 0 значение как замена пропусков и высоту потолков =0\n",
    "center_data_stat = center_data.pivot_table\\\n",
    "    (index='nearest_center_round',\\\n",
    "    values=['total_area','price_on_sqmetr', 'last_price_in_millions','rooms','ceiling_height','floors_total','first_day_exposition'],\\\n",
    "    aggfunc=['mean','median'])\n",
    "display(center_data_stat)"
   ]
  },
  {
   "cell_type": "markdown",
   "metadata": {},
   "source": [
    "Посмотрим на сводную таблицу, видим, что к центру города растет высота потолков, количество комнат, площадь квартир и цена, при этом этажность идет вниз. Отдельно интересно отметить, что стоимость квадратного метра нелинейна, она высока на 8 - 5 км от центра, затем идет вниз и возвращается к максимальной на первом-втором километре от центра."
   ]
  },
  {
   "cell_type": "code",
   "execution_count": 32,
   "metadata": {
    "scrolled": false
   },
   "outputs": [
    {
     "data": {
      "image/png": "[encoded data removed]",
      "text/plain": [
       "<Figure size 432x288 with 1 Axes>"
      ]
     },
     "metadata": {
      "needs_background": "light"
     },
     "output_type": "display_data"
    },
    {
     "name": "stdout",
     "output_type": "stream",
     "text": [
      "Для определения нормального распределения цены для центра Петербурга построили отдельную диаграмму размаха,\n",
      "      этой границей отсечем выбросы:\n"
     ]
    },
    {
     "data": {
      "text/html": [
       "<div>\n",
       "<style scoped>\n",
       "    .dataframe tbody tr th:only-of-type {\n",
       "        vertical-align: middle;\n",
       "    }\n",
       "\n",
       "    .dataframe tbody tr th {\n",
       "        vertical-align: top;\n",
       "    }\n",
       "\n",
       "    .dataframe thead th {\n",
       "        text-align: right;\n",
       "    }\n",
       "</style>\n",
       "<table border=\"1\" class=\"dataframe\">\n",
       "  <thead>\n",
       "    <tr style=\"text-align: right;\">\n",
       "      <th></th>\n",
       "      <th>floor</th>\n",
       "      <th>last_price_in_millions</th>\n",
       "    </tr>\n",
       "  </thead>\n",
       "  <tbody>\n",
       "    <tr>\n",
       "      <td>floor</td>\n",
       "      <td>1.000000</td>\n",
       "      <td>0.457595</td>\n",
       "    </tr>\n",
       "    <tr>\n",
       "      <td>last_price_in_millions</td>\n",
       "      <td>0.457595</td>\n",
       "      <td>1.000000</td>\n",
       "    </tr>\n",
       "  </tbody>\n",
       "</table>\n",
       "</div>"
      ],
      "text/plain": [
       "                           floor  last_price_in_millions\n",
       "floor                   1.000000                0.457595\n",
       "last_price_in_millions  0.457595                1.000000"
      ]
     },
     "metadata": {},
     "output_type": "display_data"
    },
    {
     "name": "stdout",
     "output_type": "stream",
     "text": [
      "Между этажом и ценой есть взаимосвязь, но не слишком большая, посмотрим на среднюю цену для первого,\n",
      "      последнего и остальных этажей:\n"
     ]
    },
    {
     "data": {
      "text/html": [
       "<div>\n",
       "<style scoped>\n",
       "    .dataframe tbody tr th:only-of-type {\n",
       "        vertical-align: middle;\n",
       "    }\n",
       "\n",
       "    .dataframe tbody tr th {\n",
       "        vertical-align: top;\n",
       "    }\n",
       "\n",
       "    .dataframe thead th {\n",
       "        text-align: right;\n",
       "    }\n",
       "</style>\n",
       "<table border=\"1\" class=\"dataframe\">\n",
       "  <thead>\n",
       "    <tr style=\"text-align: right;\">\n",
       "      <th></th>\n",
       "      <th>last_price_in_millions</th>\n",
       "    </tr>\n",
       "    <tr>\n",
       "      <th>floor_categories</th>\n",
       "      <th></th>\n",
       "    </tr>\n",
       "  </thead>\n",
       "  <tbody>\n",
       "    <tr>\n",
       "      <td>другой</td>\n",
       "      <td>10.127195</td>\n",
       "    </tr>\n",
       "    <tr>\n",
       "      <td>первый</td>\n",
       "      <td>7.697186</td>\n",
       "    </tr>\n",
       "    <tr>\n",
       "      <td>последний</td>\n",
       "      <td>9.812006</td>\n",
       "    </tr>\n",
       "  </tbody>\n",
       "</table>\n",
       "</div>"
      ],
      "text/plain": [
       "                  last_price_in_millions\n",
       "floor_categories                        \n",
       "другой                         10.127195\n",
       "первый                          7.697186\n",
       "последний                       9.812006"
      ]
     },
     "metadata": {},
     "output_type": "display_data"
    }
   ],
   "source": [
    "plt.ylim(0,40)\n",
    "center_data.boxplot(column='last_price_in_millions') # диаграма размаха\n",
    "plt.show()\n",
    "print(f'''Для определения нормального распределения цены для центра Петербурга построили отдельную диаграмму размаха,\n",
    "      этой границей отсечем выбросы:''')\n",
    "display(center_data.query('ceiling_height < 8.3 and last_price_in_millions < 25')\n",
    "        .pivot_table(index='floor', values='last_price_in_millions',aggfunc='median').reset_index()\n",
    "        .corr()) # корреляция этажа и стоимости\n",
    "print(f'''Между этажом и ценой есть взаимосвязь, но не слишком большая, посмотрим на среднюю цену для первого,\n",
    "      последнего и остальных этажей:''')\n",
    "display(center_data.query('ceiling_height < 8.3 and last_price_in_millions < 25')\n",
    "        .pivot_table(index='floor_categories', values='last_price_in_millions',aggfunc='mean')\n",
    "       )# категории этажа и стоимости"
   ]
  },
  {
   "cell_type": "code",
   "execution_count": 33,
   "metadata": {},
   "outputs": [
    {
     "data": {
      "text/html": [
       "<div>\n",
       "<style scoped>\n",
       "    .dataframe tbody tr th:only-of-type {\n",
       "        vertical-align: middle;\n",
       "    }\n",
       "\n",
       "    .dataframe tbody tr th {\n",
       "        vertical-align: top;\n",
       "    }\n",
       "\n",
       "    .dataframe thead th {\n",
       "        text-align: right;\n",
       "    }\n",
       "</style>\n",
       "<table border=\"1\" class=\"dataframe\">\n",
       "  <thead>\n",
       "    <tr style=\"text-align: right;\">\n",
       "      <th></th>\n",
       "      <th>rooms</th>\n",
       "      <th>last_price_in_millions</th>\n",
       "    </tr>\n",
       "  </thead>\n",
       "  <tbody>\n",
       "    <tr>\n",
       "      <td>rooms</td>\n",
       "      <td>1.000000</td>\n",
       "      <td>0.922838</td>\n",
       "    </tr>\n",
       "    <tr>\n",
       "      <td>last_price_in_millions</td>\n",
       "      <td>0.922838</td>\n",
       "      <td>1.000000</td>\n",
       "    </tr>\n",
       "  </tbody>\n",
       "</table>\n",
       "</div>"
      ],
      "text/plain": [
       "                           rooms  last_price_in_millions\n",
       "rooms                   1.000000                0.922838\n",
       "last_price_in_millions  0.922838                1.000000"
      ]
     },
     "metadata": {},
     "output_type": "display_data"
    },
    {
     "name": "stdout",
     "output_type": "stream",
     "text": [
      "Между ценой и количеством комнат взаимосвязь очень хорошо заметна и понятна, количество комнат связано с площадью квартиры,\n",
      "а та с стоимостью\n"
     ]
    }
   ],
   "source": [
    "display(center_data.query('ceiling_height < 8.3 and last_price_in_millions < 25')\n",
    "        .pivot_table(index='rooms',values='last_price_in_millions',aggfunc='median').reset_index()\n",
    "        .corr()) # корреляция количества комнат и стоимости\n",
    "print(f'''Между ценой и количеством комнат взаимосвязь очень хорошо заметна и понятна, количество комнат связано с площадью квартиры,\n",
    "а та с стоимостью''')"
   ]
  },
  {
   "cell_type": "code",
   "execution_count": 34,
   "metadata": {},
   "outputs": [
    {
     "data": {
      "text/html": [
       "<div>\n",
       "<style scoped>\n",
       "    .dataframe tbody tr th:only-of-type {\n",
       "        vertical-align: middle;\n",
       "    }\n",
       "\n",
       "    .dataframe tbody tr th {\n",
       "        vertical-align: top;\n",
       "    }\n",
       "\n",
       "    .dataframe thead th {\n",
       "        text-align: right;\n",
       "    }\n",
       "</style>\n",
       "<table border=\"1\" class=\"dataframe\">\n",
       "  <thead>\n",
       "    <tr style=\"text-align: right;\">\n",
       "      <th></th>\n",
       "      <th>nearest_center_round</th>\n",
       "      <th>days_exposition</th>\n",
       "      <th>last_price_in_millions</th>\n",
       "      <th>parks_around3000</th>\n",
       "      <th>ponds_around3000</th>\n",
       "      <th>price_on_sqmetr</th>\n",
       "      <th>total_area</th>\n",
       "    </tr>\n",
       "  </thead>\n",
       "  <tbody>\n",
       "    <tr>\n",
       "      <td>nearest_center_round</td>\n",
       "      <td>1.000000</td>\n",
       "      <td>-0.492982</td>\n",
       "      <td>-0.877546</td>\n",
       "      <td>-0.755929</td>\n",
       "      <td>-0.771517</td>\n",
       "      <td>-0.000309</td>\n",
       "      <td>-0.859675</td>\n",
       "    </tr>\n",
       "    <tr>\n",
       "      <td>days_exposition</td>\n",
       "      <td>-0.492982</td>\n",
       "      <td>1.000000</td>\n",
       "      <td>0.692505</td>\n",
       "      <td>0.453767</td>\n",
       "      <td>0.620184</td>\n",
       "      <td>-0.245477</td>\n",
       "      <td>0.650894</td>\n",
       "    </tr>\n",
       "    <tr>\n",
       "      <td>last_price_in_millions</td>\n",
       "      <td>-0.877546</td>\n",
       "      <td>0.692505</td>\n",
       "      <td>1.000000</td>\n",
       "      <td>0.657779</td>\n",
       "      <td>0.706370</td>\n",
       "      <td>0.130016</td>\n",
       "      <td>0.929997</td>\n",
       "    </tr>\n",
       "    <tr>\n",
       "      <td>parks_around3000</td>\n",
       "      <td>-0.755929</td>\n",
       "      <td>0.453767</td>\n",
       "      <td>0.657779</td>\n",
       "      <td>1.000000</td>\n",
       "      <td>0.816497</td>\n",
       "      <td>0.400094</td>\n",
       "      <td>0.428442</td>\n",
       "    </tr>\n",
       "    <tr>\n",
       "      <td>ponds_around3000</td>\n",
       "      <td>-0.771517</td>\n",
       "      <td>0.620184</td>\n",
       "      <td>0.706370</td>\n",
       "      <td>0.816497</td>\n",
       "      <td>1.000000</td>\n",
       "      <td>-0.002019</td>\n",
       "      <td>0.613745</td>\n",
       "    </tr>\n",
       "    <tr>\n",
       "      <td>price_on_sqmetr</td>\n",
       "      <td>-0.000309</td>\n",
       "      <td>-0.245477</td>\n",
       "      <td>0.130016</td>\n",
       "      <td>0.400094</td>\n",
       "      <td>-0.002019</td>\n",
       "      <td>1.000000</td>\n",
       "      <td>-0.185312</td>\n",
       "    </tr>\n",
       "    <tr>\n",
       "      <td>total_area</td>\n",
       "      <td>-0.859675</td>\n",
       "      <td>0.650894</td>\n",
       "      <td>0.929997</td>\n",
       "      <td>0.428442</td>\n",
       "      <td>0.613745</td>\n",
       "      <td>-0.185312</td>\n",
       "      <td>1.000000</td>\n",
       "    </tr>\n",
       "  </tbody>\n",
       "</table>\n",
       "</div>"
      ],
      "text/plain": [
       "                        nearest_center_round  days_exposition  \\\n",
       "nearest_center_round                1.000000        -0.492982   \n",
       "days_exposition                    -0.492982         1.000000   \n",
       "last_price_in_millions             -0.877546         0.692505   \n",
       "parks_around3000                   -0.755929         0.453767   \n",
       "ponds_around3000                   -0.771517         0.620184   \n",
       "price_on_sqmetr                    -0.000309        -0.245477   \n",
       "total_area                         -0.859675         0.650894   \n",
       "\n",
       "                        last_price_in_millions  parks_around3000  \\\n",
       "nearest_center_round                 -0.877546         -0.755929   \n",
       "days_exposition                       0.692505          0.453767   \n",
       "last_price_in_millions                1.000000          0.657779   \n",
       "parks_around3000                      0.657779          1.000000   \n",
       "ponds_around3000                      0.706370          0.816497   \n",
       "price_on_sqmetr                       0.130016          0.400094   \n",
       "total_area                            0.929997          0.428442   \n",
       "\n",
       "                        ponds_around3000  price_on_sqmetr  total_area  \n",
       "nearest_center_round           -0.771517        -0.000309   -0.859675  \n",
       "days_exposition                 0.620184        -0.245477    0.650894  \n",
       "last_price_in_millions          0.706370         0.130016    0.929997  \n",
       "parks_around3000                0.816497         0.400094    0.428442  \n",
       "ponds_around3000                1.000000        -0.002019    0.613745  \n",
       "price_on_sqmetr                -0.002019         1.000000   -0.185312  \n",
       "total_area                      0.613745        -0.185312    1.000000  "
      ]
     },
     "metadata": {},
     "output_type": "display_data"
    }
   ],
   "source": [
    "display(\n",
    "    center_data.query('ceiling_height < 8.3 and last_price_in_millions < 25')\n",
    "    .pivot_table(index='nearest_center_round',values=['last_price_in_millions','price_on_sqmetr','total_area','days_exposition','parks_around3000','ponds_around3000'],aggfunc='median')\n",
    "    .reset_index()\n",
    "    .corr()\n",
    ")# корреляция расстояния от центра и других параметров\n",
    "\n"
   ]
  },
  {
   "cell_type": "code",
   "execution_count": 35,
   "metadata": {},
   "outputs": [
    {
     "data": {
      "text/html": [
       "<div>\n",
       "<style scoped>\n",
       "    .dataframe tbody tr th:only-of-type {\n",
       "        vertical-align: middle;\n",
       "    }\n",
       "\n",
       "    .dataframe tbody tr th {\n",
       "        vertical-align: top;\n",
       "    }\n",
       "\n",
       "    .dataframe thead th {\n",
       "        text-align: right;\n",
       "    }\n",
       "</style>\n",
       "<table border=\"1\" class=\"dataframe\">\n",
       "  <thead>\n",
       "    <tr style=\"text-align: right;\">\n",
       "      <th></th>\n",
       "      <th>balcony</th>\n",
       "      <th>last_price_in_millions</th>\n",
       "    </tr>\n",
       "  </thead>\n",
       "  <tbody>\n",
       "    <tr>\n",
       "      <td>balcony</td>\n",
       "      <td>1.000000</td>\n",
       "      <td>0.784356</td>\n",
       "    </tr>\n",
       "    <tr>\n",
       "      <td>last_price_in_millions</td>\n",
       "      <td>0.784356</td>\n",
       "      <td>1.000000</td>\n",
       "    </tr>\n",
       "  </tbody>\n",
       "</table>\n",
       "</div>"
      ],
      "text/plain": [
       "                         balcony  last_price_in_millions\n",
       "balcony                 1.000000                0.784356\n",
       "last_price_in_millions  0.784356                1.000000"
      ]
     },
     "metadata": {},
     "output_type": "display_data"
    }
   ],
   "source": [
    "display(\n",
    "    center_data.query('ceiling_height < 8.3 and last_price_in_millions < 25')\n",
    "    .pivot_table(index='balcony',values='last_price_in_millions',aggfunc='median').reset_index()\n",
    "    .corr()\n",
    ")# корреляция болкона и стоимости"
   ]
  },
  {
   "cell_type": "code",
   "execution_count": 36,
   "metadata": {
    "scrolled": false
   },
   "outputs": [
    {
     "data": {
      "text/html": [
       "<div>\n",
       "<style scoped>\n",
       "    .dataframe tbody tr th:only-of-type {\n",
       "        vertical-align: middle;\n",
       "    }\n",
       "\n",
       "    .dataframe tbody tr th {\n",
       "        vertical-align: top;\n",
       "    }\n",
       "\n",
       "    .dataframe thead th {\n",
       "        text-align: right;\n",
       "    }\n",
       "</style>\n",
       "<table border=\"1\" class=\"dataframe\">\n",
       "  <thead>\n",
       "    <tr style=\"text-align: right;\">\n",
       "      <th></th>\n",
       "      <th>last_price_in_millions</th>\n",
       "      <th>month</th>\n",
       "      <th>weekday</th>\n",
       "      <th>year</th>\n",
       "    </tr>\n",
       "  </thead>\n",
       "  <tbody>\n",
       "    <tr>\n",
       "      <td>last_price_in_millions</td>\n",
       "      <td>1.000000</td>\n",
       "      <td>-0.005475</td>\n",
       "      <td>0.023242</td>\n",
       "      <td>-0.041416</td>\n",
       "    </tr>\n",
       "    <tr>\n",
       "      <td>month</td>\n",
       "      <td>-0.005475</td>\n",
       "      <td>1.000000</td>\n",
       "      <td>0.027308</td>\n",
       "      <td>-0.239330</td>\n",
       "    </tr>\n",
       "    <tr>\n",
       "      <td>weekday</td>\n",
       "      <td>0.023242</td>\n",
       "      <td>0.027308</td>\n",
       "      <td>1.000000</td>\n",
       "      <td>0.000937</td>\n",
       "    </tr>\n",
       "    <tr>\n",
       "      <td>year</td>\n",
       "      <td>-0.041416</td>\n",
       "      <td>-0.239330</td>\n",
       "      <td>0.000937</td>\n",
       "      <td>1.000000</td>\n",
       "    </tr>\n",
       "  </tbody>\n",
       "</table>\n",
       "</div>"
      ],
      "text/plain": [
       "                        last_price_in_millions     month   weekday      year\n",
       "last_price_in_millions                1.000000 -0.005475  0.023242 -0.041416\n",
       "month                                -0.005475  1.000000  0.027308 -0.239330\n",
       "weekday                               0.023242  0.027308  1.000000  0.000937\n",
       "year                                 -0.041416 -0.239330  0.000937  1.000000"
      ]
     },
     "metadata": {},
     "output_type": "display_data"
    },
    {
     "data": {
      "image/png": "[encoded data removed]",
      "text/plain": [
       "<Figure size 432x288 with 1 Axes>"
      ]
     },
     "metadata": {
      "needs_background": "light"
     },
     "output_type": "display_data"
    }
   ],
   "source": [
    "display(center_data.pivot_table(index=center_data.index, values=['last_price_in_millions','weekday','month','year']).corr())\n",
    "center_data['month'].hist(bins=23) # корреляция дат размещения и стоимости\n",
    "plt.show() "
   ]
  },
  {
   "cell_type": "markdown",
   "metadata": {},
   "source": [
    "На графике видно сезонное колебание количества подаваемых обьявлений о продаже квартир с пиками весной и осенью и спадами летом и в декабре и январе, что согласуется с Росийской сезонностью количества продаж и покупок вещей и услуг с капитальными затратами"
   ]
  },
  {
   "cell_type": "markdown",
   "metadata": {},
   "source": [
    "#### Вывод:"
   ]
  },
  {
   "cell_type": "markdown",
   "metadata": {},
   "source": [
    "Для центральной части города есть тенденция роста медианы и средней площади квартиры и стоимости квартиры, количества комнат и высоты потолков при приближении к центру, высота домов напротив идет вниз, скорее всего оказывает влияние большое количество дореволюционных домов. При этом стомость квадратного метра практически не изменяется, напротив, есть определенное понижение стоимости на расстоянии 3-4 км от центра. Зависимости цены от даты размещения квартиры не прослеживается, в отличие от количества размещенных объявлений. Наличие рядом парка повышает стоимость квартиры и стоимость квадратного метра, но время продажи при этом растет, что, вероятно, говорит о том, что покупатели не на столько оценивают важность наличие парка рядом, как продавцы."
   ]
  },
  {
   "cell_type": "markdown",
   "metadata": {},
   "source": [
    "### Общий вывод"
   ]
  },
  {
   "cell_type": "markdown",
   "metadata": {},
   "source": [
    "Медианная площадь квартир из сета 52 м, наибольшее количество квартир имеет от 1 до 3 комнат, медиана высоты потолков 2.65 метра, меддианная стоимость 4,65 млн. \n",
    "\n",
    "Нормальное время продажи до 520 дней, медиана - 95 дней, чем меньше стоимость квартиры тем быстрее она продается, так же на время и стоимость продажи влияет расположение квартиры на 1 или последнем этаже, первый этаж продается дольше, а стоит ниже, чем другие, такую же зависимость показывает последний этаж но менее выраженно.\n",
    "\n",
    "Наибольшее влияние на стоимость квартиры оказывает ее площадь, стоимость квадратного метра, количество комнат. Зависимости цены от даты размещения нет, но количество объявлений с месяцем размещения связаны.\n",
    "\n",
    "В Санкт-Петербурге и ближайшем пригороде самая высокая стоимость квадратного метра жилья, самая низкая по сету на окраинах л=Ленинградской области.\n",
    "\n",
    "В Санкт-Петербурге центром города можно считать зону до 8 км в радиусе.\n",
    "Для центральной части города есть тенденция роста медианы и средней площади квартиры и стоимости квартиры, количества комнат и высоты потолков при приближении к центру, высота домов напротив идет вниз, скорее всего оказывает влияние большое количество дореволюционных домов. При этом стомость квадратного метра практически не изменяется, напротив, есть определенное понижение стоимости на расстоянии 3-4 км от центра. Зависимости цены от даты размещения квартиры не прослеживается, в отличие от количества размещенных объявлений.\n",
    "\n",
    "В центре Санкт-Петербурга как и в общем по сету данных цена связана в первую очередь с площадью квартиры, влияет расположение квартиры на 1 или последенм этаже дома. В цетре города заметна связь стоимости квадратного метра с расположением вблизи парков."
   ]
  }
 ],
 "metadata": {
  "ExecuteTimeLog": [
   {
    "duration": 125,
    "start_time": "2021-12-30T17:28:10.614Z"
   },
   {
    "duration": 1099,
    "start_time": "2021-12-30T17:28:39.853Z"
   },
   {
    "duration": 390,
    "start_time": "2021-12-30T17:42:13.701Z"
   },
   {
    "duration": 296,
    "start_time": "2021-12-30T17:42:29.276Z"
   },
   {
    "duration": 9,
    "start_time": "2021-12-30T17:44:57.852Z"
   },
   {
    "duration": 11,
    "start_time": "2021-12-30T17:45:22.705Z"
   },
   {
    "duration": 17,
    "start_time": "2021-12-30T17:56:24.448Z"
   },
   {
    "duration": 495,
    "start_time": "2021-12-30T17:56:33.650Z"
   },
   {
    "duration": 11,
    "start_time": "2021-12-30T17:56:37.684Z"
   },
   {
    "duration": 14,
    "start_time": "2021-12-30T17:56:46.471Z"
   },
   {
    "duration": 13,
    "start_time": "2021-12-30T17:56:51.274Z"
   },
   {
    "duration": 13,
    "start_time": "2021-12-30T17:57:02.561Z"
   },
   {
    "duration": 13,
    "start_time": "2021-12-30T17:57:06.796Z"
   },
   {
    "duration": 14,
    "start_time": "2021-12-30T17:57:18.296Z"
   },
   {
    "duration": 14,
    "start_time": "2021-12-30T17:58:10.169Z"
   },
   {
    "duration": 12,
    "start_time": "2021-12-30T17:58:16.829Z"
   },
   {
    "duration": 11,
    "start_time": "2021-12-30T17:58:23.151Z"
   },
   {
    "duration": 15,
    "start_time": "2021-12-30T17:58:30.536Z"
   },
   {
    "duration": 12,
    "start_time": "2021-12-30T17:58:37.075Z"
   },
   {
    "duration": 12,
    "start_time": "2021-12-30T17:58:42.659Z"
   },
   {
    "duration": 12,
    "start_time": "2021-12-30T17:58:48.804Z"
   },
   {
    "duration": 12,
    "start_time": "2021-12-30T17:59:07.406Z"
   },
   {
    "duration": 12,
    "start_time": "2021-12-30T17:59:15.626Z"
   },
   {
    "duration": 11,
    "start_time": "2021-12-30T17:59:20.739Z"
   },
   {
    "duration": 11,
    "start_time": "2021-12-30T17:59:24.876Z"
   },
   {
    "duration": 12,
    "start_time": "2021-12-30T17:59:31.352Z"
   },
   {
    "duration": 11,
    "start_time": "2021-12-30T18:00:55.123Z"
   },
   {
    "duration": 11,
    "start_time": "2021-12-30T18:00:59.656Z"
   },
   {
    "duration": 11,
    "start_time": "2021-12-30T18:01:04.101Z"
   },
   {
    "duration": 12,
    "start_time": "2021-12-30T18:01:27.893Z"
   },
   {
    "duration": 14,
    "start_time": "2021-12-30T18:01:37.667Z"
   },
   {
    "duration": 157,
    "start_time": "2021-12-30T18:02:18.644Z"
   },
   {
    "duration": 141,
    "start_time": "2021-12-30T18:02:29.870Z"
   },
   {
    "duration": 129,
    "start_time": "2021-12-30T18:02:43.818Z"
   },
   {
    "duration": 90,
    "start_time": "2021-12-30T18:02:49.580Z"
   },
   {
    "duration": 957,
    "start_time": "2021-12-30T18:03:04.099Z"
   },
   {
    "duration": 105,
    "start_time": "2021-12-30T18:03:16.141Z"
   },
   {
    "duration": 108,
    "start_time": "2021-12-30T18:03:24.493Z"
   },
   {
    "duration": 16,
    "start_time": "2021-12-30T18:03:32.520Z"
   },
   {
    "duration": 14,
    "start_time": "2021-12-30T18:04:09.863Z"
   },
   {
    "duration": 13,
    "start_time": "2021-12-30T18:04:21.734Z"
   },
   {
    "duration": 14,
    "start_time": "2021-12-30T18:04:30.770Z"
   },
   {
    "duration": 12,
    "start_time": "2021-12-30T18:06:37.478Z"
   },
   {
    "duration": 447,
    "start_time": "2021-12-30T18:07:47.854Z"
   },
   {
    "duration": 299,
    "start_time": "2021-12-30T18:08:00.269Z"
   },
   {
    "duration": 1051,
    "start_time": "2021-12-30T18:08:05.856Z"
   },
   {
    "duration": 522,
    "start_time": "2021-12-30T18:08:08.699Z"
   },
   {
    "duration": 203,
    "start_time": "2021-12-30T18:08:22.023Z"
   },
   {
    "duration": 5,
    "start_time": "2021-12-30T18:11:47.803Z"
   },
   {
    "duration": 8,
    "start_time": "2021-12-30T18:16:14.489Z"
   },
   {
    "duration": 8873,
    "start_time": "2021-12-30T18:16:29.451Z"
   },
   {
    "duration": 6,
    "start_time": "2021-12-30T18:16:40.560Z"
   },
   {
    "duration": 9,
    "start_time": "2021-12-30T18:17:14.736Z"
   },
   {
    "duration": 705,
    "start_time": "2021-12-30T18:18:07.111Z"
   },
   {
    "duration": 662,
    "start_time": "2021-12-30T18:18:45.510Z"
   },
   {
    "duration": 706,
    "start_time": "2021-12-30T18:18:55.275Z"
   },
   {
    "duration": 10,
    "start_time": "2021-12-30T18:24:41.249Z"
   },
   {
    "duration": 11,
    "start_time": "2021-12-30T18:24:49.988Z"
   },
   {
    "duration": 11,
    "start_time": "2021-12-30T18:24:58.194Z"
   },
   {
    "duration": 14,
    "start_time": "2021-12-30T18:25:10.655Z"
   },
   {
    "duration": 4691,
    "start_time": "2021-12-30T18:26:26.905Z"
   },
   {
    "duration": 4081,
    "start_time": "2021-12-30T18:26:49.176Z"
   },
   {
    "duration": 3973,
    "start_time": "2021-12-30T18:27:04.382Z"
   },
   {
    "duration": 812,
    "start_time": "2021-12-30T18:27:59.263Z"
   },
   {
    "duration": 8441,
    "start_time": "2021-12-30T18:28:41.325Z"
   },
   {
    "duration": 3880,
    "start_time": "2021-12-30T18:29:36.911Z"
   },
   {
    "duration": 4914,
    "start_time": "2021-12-30T18:29:51.285Z"
   },
   {
    "duration": 135,
    "start_time": "2021-12-30T18:30:02.187Z"
   },
   {
    "duration": 10,
    "start_time": "2021-12-30T18:30:18.494Z"
   },
   {
    "duration": 21,
    "start_time": "2021-12-30T18:30:27.305Z"
   },
   {
    "duration": 12,
    "start_time": "2021-12-30T18:31:10.711Z"
   },
   {
    "duration": 34,
    "start_time": "2021-12-30T18:32:18.383Z"
   },
   {
    "duration": 982,
    "start_time": "2021-12-30T18:32:55.617Z"
   },
   {
    "duration": 30,
    "start_time": "2021-12-30T18:33:01.897Z"
   },
   {
    "duration": 36,
    "start_time": "2021-12-30T18:33:09.758Z"
   },
   {
    "duration": 28,
    "start_time": "2021-12-30T18:33:19.406Z"
   },
   {
    "duration": 29,
    "start_time": "2021-12-30T18:33:48.897Z"
   },
   {
    "duration": 11,
    "start_time": "2021-12-30T18:56:15.215Z"
   },
   {
    "duration": 986,
    "start_time": "2021-12-30T18:57:34.274Z"
   },
   {
    "duration": 20,
    "start_time": "2021-12-30T18:57:43.323Z"
   },
   {
    "duration": 39,
    "start_time": "2021-12-30T19:02:36.598Z"
   },
   {
    "duration": 14,
    "start_time": "2021-12-30T19:05:12.975Z"
   },
   {
    "duration": 14,
    "start_time": "2021-12-30T19:05:32.384Z"
   },
   {
    "duration": 524,
    "start_time": "2021-12-30T19:06:21.194Z"
   },
   {
    "duration": 307,
    "start_time": "2021-12-30T19:11:07.318Z"
   },
   {
    "duration": 296,
    "start_time": "2021-12-30T19:12:21.548Z"
   },
   {
    "duration": 8,
    "start_time": "2021-12-30T19:12:32.569Z"
   },
   {
    "duration": 18,
    "start_time": "2021-12-30T19:15:52.073Z"
   },
   {
    "duration": 20,
    "start_time": "2021-12-30T19:16:09.669Z"
   },
   {
    "duration": 14,
    "start_time": "2021-12-30T19:17:50.004Z"
   },
   {
    "duration": 1222,
    "start_time": "2021-12-30T19:18:04.331Z"
   },
   {
    "duration": 27,
    "start_time": "2021-12-30T19:18:05.557Z"
   },
   {
    "duration": 14,
    "start_time": "2021-12-30T19:18:30.582Z"
   },
   {
    "duration": 29,
    "start_time": "2021-12-30T19:23:48.966Z"
   },
   {
    "duration": 30,
    "start_time": "2021-12-30T19:25:07.936Z"
   },
   {
    "duration": 971,
    "start_time": "2021-12-30T19:25:27.413Z"
   },
   {
    "duration": 43,
    "start_time": "2021-12-30T19:25:28.387Z"
   },
   {
    "duration": 28,
    "start_time": "2021-12-30T19:26:02.224Z"
   },
   {
    "duration": 35,
    "start_time": "2021-12-30T19:28:01.171Z"
   },
   {
    "duration": 1420,
    "start_time": "2021-12-30T19:29:39.926Z"
   },
   {
    "duration": 22,
    "start_time": "2021-12-30T19:29:43.292Z"
   },
   {
    "duration": 390,
    "start_time": "2021-12-30T19:30:12.170Z"
   },
   {
    "duration": 297,
    "start_time": "2021-12-30T19:30:32.475Z"
   },
   {
    "duration": 1007,
    "start_time": "2021-12-30T19:31:31.950Z"
   },
   {
    "duration": 398,
    "start_time": "2021-12-30T19:31:37.175Z"
   },
   {
    "duration": 39,
    "start_time": "2021-12-30T19:31:58.225Z"
   },
   {
    "duration": 33,
    "start_time": "2021-12-30T19:33:03.072Z"
   },
   {
    "duration": 34,
    "start_time": "2021-12-30T19:33:22.469Z"
   },
   {
    "duration": 35,
    "start_time": "2021-12-30T19:33:48.597Z"
   },
   {
    "duration": 39,
    "start_time": "2021-12-30T19:35:13.400Z"
   },
   {
    "duration": 38,
    "start_time": "2021-12-30T19:35:23.008Z"
   },
   {
    "duration": 30,
    "start_time": "2021-12-30T19:35:42.683Z"
   },
   {
    "duration": 35,
    "start_time": "2021-12-30T19:35:59.975Z"
   },
   {
    "duration": 44,
    "start_time": "2021-12-30T19:36:11.236Z"
   },
   {
    "duration": 34,
    "start_time": "2021-12-30T19:36:25.893Z"
   },
   {
    "duration": 39,
    "start_time": "2021-12-30T19:36:58.798Z"
   },
   {
    "duration": 53,
    "start_time": "2021-12-30T19:37:46.152Z"
   },
   {
    "duration": 60,
    "start_time": "2021-12-30T19:38:22.071Z"
   },
   {
    "duration": 42,
    "start_time": "2021-12-30T19:38:38.213Z"
   },
   {
    "duration": 58,
    "start_time": "2021-12-30T19:38:48.054Z"
   },
   {
    "duration": 61,
    "start_time": "2021-12-30T19:39:01.610Z"
   },
   {
    "duration": 45,
    "start_time": "2021-12-30T19:39:08.839Z"
   },
   {
    "duration": 50,
    "start_time": "2021-12-30T19:40:16.284Z"
   },
   {
    "duration": 50,
    "start_time": "2021-12-30T19:40:40.058Z"
   },
   {
    "duration": 43,
    "start_time": "2021-12-30T19:40:56.528Z"
   },
   {
    "duration": 44,
    "start_time": "2021-12-30T19:41:12.054Z"
   },
   {
    "duration": 42,
    "start_time": "2021-12-30T19:41:24.980Z"
   },
   {
    "duration": 45,
    "start_time": "2021-12-30T19:41:30.946Z"
   },
   {
    "duration": 45,
    "start_time": "2021-12-30T19:41:48.594Z"
   },
   {
    "duration": 45,
    "start_time": "2021-12-30T19:42:04.733Z"
   },
   {
    "duration": 45,
    "start_time": "2021-12-30T19:42:13.638Z"
   },
   {
    "duration": 43,
    "start_time": "2021-12-30T19:42:31.885Z"
   },
   {
    "duration": 48,
    "start_time": "2021-12-30T19:43:02.622Z"
   },
   {
    "duration": 45,
    "start_time": "2021-12-30T19:43:22.441Z"
   },
   {
    "duration": 44,
    "start_time": "2021-12-30T19:43:51.916Z"
   },
   {
    "duration": 45,
    "start_time": "2021-12-30T19:44:04.392Z"
   },
   {
    "duration": 46,
    "start_time": "2021-12-30T19:44:36.153Z"
   },
   {
    "duration": 65,
    "start_time": "2021-12-30T19:44:59.273Z"
   },
   {
    "duration": 46,
    "start_time": "2021-12-30T19:45:18.929Z"
   },
   {
    "duration": 45,
    "start_time": "2021-12-30T19:45:26.892Z"
   },
   {
    "duration": 45,
    "start_time": "2021-12-30T19:45:33.581Z"
   },
   {
    "duration": 44,
    "start_time": "2021-12-30T19:46:01.973Z"
   },
   {
    "duration": 66,
    "start_time": "2021-12-30T19:46:08.416Z"
   },
   {
    "duration": 45,
    "start_time": "2021-12-30T19:46:12.983Z"
   },
   {
    "duration": 53,
    "start_time": "2021-12-30T19:46:28.185Z"
   },
   {
    "duration": 285,
    "start_time": "2022-01-01T10:07:35.827Z"
   },
   {
    "duration": 798,
    "start_time": "2022-01-01T10:07:52.929Z"
   },
   {
    "duration": 321,
    "start_time": "2022-01-01T10:07:57.378Z"
   },
   {
    "duration": 266,
    "start_time": "2022-01-01T10:08:06.661Z"
   },
   {
    "duration": 91,
    "start_time": "2022-01-01T10:08:44.486Z"
   },
   {
    "duration": 266,
    "start_time": "2022-01-01T10:08:50.092Z"
   },
   {
    "duration": 276,
    "start_time": "2022-01-01T10:09:44.242Z"
   },
   {
    "duration": 207,
    "start_time": "2022-01-01T10:10:47.701Z"
   },
   {
    "duration": 222,
    "start_time": "2022-01-01T10:10:55.067Z"
   },
   {
    "duration": 281,
    "start_time": "2022-01-01T10:11:37.749Z"
   },
   {
    "duration": 235,
    "start_time": "2022-01-01T10:11:48.745Z"
   },
   {
    "duration": 22,
    "start_time": "2022-01-01T10:12:05.742Z"
   },
   {
    "duration": 23,
    "start_time": "2022-01-01T11:05:08.534Z"
   },
   {
    "duration": 251,
    "start_time": "2022-01-01T11:05:19.677Z"
   },
   {
    "duration": 236,
    "start_time": "2022-01-01T11:05:29.977Z"
   },
   {
    "duration": 229,
    "start_time": "2022-01-01T11:05:42.410Z"
   },
   {
    "duration": 242,
    "start_time": "2022-01-01T11:05:48.287Z"
   },
   {
    "duration": 220,
    "start_time": "2022-01-01T11:06:10.932Z"
   },
   {
    "duration": 234,
    "start_time": "2022-01-01T11:06:16.843Z"
   },
   {
    "duration": 227,
    "start_time": "2022-01-01T11:06:22.694Z"
   },
   {
    "duration": 220,
    "start_time": "2022-01-01T11:06:39.212Z"
   },
   {
    "duration": 20,
    "start_time": "2022-01-01T11:07:16.786Z"
   },
   {
    "duration": 20,
    "start_time": "2022-01-01T11:07:48.483Z"
   },
   {
    "duration": 83,
    "start_time": "2022-01-01T11:11:24.324Z"
   },
   {
    "duration": 86,
    "start_time": "2022-01-01T11:11:36.450Z"
   },
   {
    "duration": 77,
    "start_time": "2022-01-01T11:11:59.596Z"
   },
   {
    "duration": 79,
    "start_time": "2022-01-01T11:12:34.273Z"
   },
   {
    "duration": 83,
    "start_time": "2022-01-01T11:13:17.990Z"
   },
   {
    "duration": 759,
    "start_time": "2022-01-01T11:13:23.991Z"
   },
   {
    "duration": 92,
    "start_time": "2022-01-01T11:13:24.752Z"
   },
   {
    "duration": 80,
    "start_time": "2022-01-01T11:13:37.040Z"
   },
   {
    "duration": 55,
    "start_time": "2022-01-01T11:14:03.224Z"
   },
   {
    "duration": 33,
    "start_time": "2022-01-01T11:14:14.528Z"
   },
   {
    "duration": 299,
    "start_time": "2022-01-01T11:15:22.775Z"
   },
   {
    "duration": 250,
    "start_time": "2022-01-01T11:15:40.092Z"
   },
   {
    "duration": 251,
    "start_time": "2022-01-01T11:16:12.056Z"
   },
   {
    "duration": 247,
    "start_time": "2022-01-01T11:16:17.643Z"
   },
   {
    "duration": 32,
    "start_time": "2022-01-01T11:17:16.149Z"
   },
   {
    "duration": 4545,
    "start_time": "2022-01-01T11:50:05.320Z"
   },
   {
    "duration": 4718,
    "start_time": "2022-01-01T11:50:37.795Z"
   },
   {
    "duration": 4575,
    "start_time": "2022-01-01T11:51:06.720Z"
   },
   {
    "duration": 6457,
    "start_time": "2022-01-01T11:51:29.409Z"
   },
   {
    "duration": 34,
    "start_time": "2022-01-01T11:51:58.686Z"
   },
   {
    "duration": 33,
    "start_time": "2022-01-01T11:52:24.480Z"
   },
   {
    "duration": 6879,
    "start_time": "2022-01-01T11:54:29.231Z"
   },
   {
    "duration": 264,
    "start_time": "2022-01-01T11:54:55.197Z"
   },
   {
    "duration": 268,
    "start_time": "2022-01-01T11:55:02.682Z"
   },
   {
    "duration": 486,
    "start_time": "2022-01-01T11:56:59.858Z"
   },
   {
    "duration": 401,
    "start_time": "2022-01-01T11:58:17.754Z"
   },
   {
    "duration": 422,
    "start_time": "2022-01-01T11:58:42.638Z"
   },
   {
    "duration": 507,
    "start_time": "2022-01-01T12:02:01.368Z"
   },
   {
    "duration": 437,
    "start_time": "2022-01-01T12:02:10.081Z"
   },
   {
    "duration": 423,
    "start_time": "2022-01-01T12:02:20.555Z"
   },
   {
    "duration": 413,
    "start_time": "2022-01-01T12:03:32.936Z"
   },
   {
    "duration": 395,
    "start_time": "2022-01-01T12:03:54.768Z"
   },
   {
    "duration": 556,
    "start_time": "2022-01-01T12:15:45.724Z"
   },
   {
    "duration": 423,
    "start_time": "2022-01-01T12:17:06.862Z"
   },
   {
    "duration": 446,
    "start_time": "2022-01-01T12:19:14.878Z"
   },
   {
    "duration": 90,
    "start_time": "2022-01-01T12:23:42.379Z"
   },
   {
    "duration": 414,
    "start_time": "2022-01-01T12:24:10.555Z"
   },
   {
    "duration": 86,
    "start_time": "2022-01-01T12:24:21.998Z"
   },
   {
    "duration": 408,
    "start_time": "2022-01-01T12:24:34.446Z"
   },
   {
    "duration": 81,
    "start_time": "2022-01-01T12:24:42.225Z"
   },
   {
    "duration": 82,
    "start_time": "2022-01-01T12:24:48.158Z"
   },
   {
    "duration": 408,
    "start_time": "2022-01-01T12:24:51.353Z"
   },
   {
    "duration": 478,
    "start_time": "2022-01-01T12:24:57.378Z"
   },
   {
    "duration": 414,
    "start_time": "2022-01-01T12:25:19.157Z"
   },
   {
    "duration": 410,
    "start_time": "2022-01-01T12:25:49.870Z"
   },
   {
    "duration": 449,
    "start_time": "2022-01-01T12:26:17.820Z"
   },
   {
    "duration": 497,
    "start_time": "2022-01-01T12:26:36.685Z"
   },
   {
    "duration": 92,
    "start_time": "2022-01-01T12:26:54.784Z"
   },
   {
    "duration": 446,
    "start_time": "2022-01-01T12:27:00.072Z"
   },
   {
    "duration": 428,
    "start_time": "2022-01-01T12:27:55.759Z"
   },
   {
    "duration": 301,
    "start_time": "2022-01-01T13:08:24.961Z"
   },
   {
    "duration": 310,
    "start_time": "2022-01-01T13:10:23.054Z"
   },
   {
    "duration": 259,
    "start_time": "2022-01-01T13:11:12.556Z"
   },
   {
    "duration": 270,
    "start_time": "2022-01-01T13:12:32.924Z"
   },
   {
    "duration": 304,
    "start_time": "2022-01-01T13:12:50.187Z"
   },
   {
    "duration": 263,
    "start_time": "2022-01-01T13:13:25.398Z"
   },
   {
    "duration": 44,
    "start_time": "2022-01-01T13:13:41.812Z"
   },
   {
    "duration": 281,
    "start_time": "2022-01-01T13:14:11.737Z"
   },
   {
    "duration": 42,
    "start_time": "2022-01-01T13:14:46.076Z"
   },
   {
    "duration": 682,
    "start_time": "2022-01-01T13:18:00.094Z"
   },
   {
    "duration": 6559,
    "start_time": "2022-01-01T13:18:58.795Z"
   },
   {
    "duration": 2058,
    "start_time": "2022-01-01T13:19:32.347Z"
   },
   {
    "duration": 2081,
    "start_time": "2022-01-01T13:19:53.134Z"
   },
   {
    "duration": 46,
    "start_time": "2022-01-01T13:20:24.143Z"
   },
   {
    "duration": 43,
    "start_time": "2022-01-01T13:20:42.547Z"
   },
   {
    "duration": 38,
    "start_time": "2022-01-01T13:22:27.219Z"
   },
   {
    "duration": 269,
    "start_time": "2022-01-01T13:23:42.166Z"
   },
   {
    "duration": 426,
    "start_time": "2022-01-01T13:24:36.479Z"
   },
   {
    "duration": 36,
    "start_time": "2022-01-01T13:24:50.764Z"
   },
   {
    "duration": 36,
    "start_time": "2022-01-01T13:27:01.858Z"
   },
   {
    "duration": 34,
    "start_time": "2022-01-01T13:27:10.920Z"
   },
   {
    "duration": 36,
    "start_time": "2022-01-01T13:27:42.638Z"
   },
   {
    "duration": 35,
    "start_time": "2022-01-01T13:27:49.382Z"
   },
   {
    "duration": 33,
    "start_time": "2022-01-01T13:27:58.180Z"
   },
   {
    "duration": 770,
    "start_time": "2022-01-01T13:28:10.748Z"
   },
   {
    "duration": 463,
    "start_time": "2022-01-01T13:28:11.520Z"
   },
   {
    "duration": 38,
    "start_time": "2022-01-01T13:28:11.986Z"
   },
   {
    "duration": 35,
    "start_time": "2022-01-01T13:28:28.251Z"
   },
   {
    "duration": 34,
    "start_time": "2022-01-01T13:28:34.980Z"
   },
   {
    "duration": 32,
    "start_time": "2022-01-01T13:29:25.165Z"
   },
   {
    "duration": 32,
    "start_time": "2022-01-01T13:29:51.832Z"
   },
   {
    "duration": 3517,
    "start_time": "2022-01-01T13:30:59.938Z"
   },
   {
    "duration": 32,
    "start_time": "2022-01-01T13:31:14.875Z"
   },
   {
    "duration": 32,
    "start_time": "2022-01-01T13:31:18.830Z"
   },
   {
    "duration": 35,
    "start_time": "2022-01-01T13:31:34.062Z"
   },
   {
    "duration": 35,
    "start_time": "2022-01-01T13:32:46.747Z"
   },
   {
    "duration": 728,
    "start_time": "2022-01-01T13:33:33.183Z"
   },
   {
    "duration": 480,
    "start_time": "2022-01-01T13:33:33.914Z"
   },
   {
    "duration": 37,
    "start_time": "2022-01-01T13:33:34.397Z"
   },
   {
    "duration": 38,
    "start_time": "2022-01-01T13:34:00.041Z"
   },
   {
    "duration": 779,
    "start_time": "2022-01-01T13:34:15.044Z"
   },
   {
    "duration": 451,
    "start_time": "2022-01-01T13:34:15.825Z"
   },
   {
    "duration": 35,
    "start_time": "2022-01-01T13:34:16.279Z"
   },
   {
    "duration": 816,
    "start_time": "2022-01-01T13:37:31.425Z"
   },
   {
    "duration": 444,
    "start_time": "2022-01-01T13:37:32.243Z"
   },
   {
    "duration": 35,
    "start_time": "2022-01-01T13:37:36.568Z"
   },
   {
    "duration": 36,
    "start_time": "2022-01-01T13:37:56.184Z"
   },
   {
    "duration": 37,
    "start_time": "2022-01-01T13:38:57.472Z"
   },
   {
    "duration": 725,
    "start_time": "2022-01-01T13:39:12.206Z"
   },
   {
    "duration": 448,
    "start_time": "2022-01-01T13:39:12.934Z"
   },
   {
    "duration": 41,
    "start_time": "2022-01-01T13:39:13.385Z"
   },
   {
    "duration": 38,
    "start_time": "2022-01-01T13:41:44.046Z"
   },
   {
    "duration": 732,
    "start_time": "2022-01-01T13:41:58.090Z"
   },
   {
    "duration": 464,
    "start_time": "2022-01-01T13:41:58.824Z"
   },
   {
    "duration": 38,
    "start_time": "2022-01-01T13:41:59.290Z"
   },
   {
    "duration": 749,
    "start_time": "2022-01-01T13:42:47.655Z"
   },
   {
    "duration": 464,
    "start_time": "2022-01-01T13:42:48.406Z"
   },
   {
    "duration": 22,
    "start_time": "2022-01-01T13:45:09.632Z"
   },
   {
    "duration": 286,
    "start_time": "2022-01-01T13:45:35.033Z"
   },
   {
    "duration": 704,
    "start_time": "2022-01-01T13:45:43.986Z"
   },
   {
    "duration": 459,
    "start_time": "2022-01-01T13:45:44.692Z"
   },
   {
    "duration": 24,
    "start_time": "2022-01-01T13:45:45.154Z"
   },
   {
    "duration": 19,
    "start_time": "2022-01-01T13:46:07.992Z"
   },
   {
    "duration": 32,
    "start_time": "2022-01-01T13:46:54.864Z"
   },
   {
    "duration": 79,
    "start_time": "2022-01-01T13:49:57.178Z"
   },
   {
    "duration": 285,
    "start_time": "2022-01-01T13:50:13.354Z"
   },
   {
    "duration": 251,
    "start_time": "2022-01-01T13:50:51.789Z"
   },
   {
    "duration": 22,
    "start_time": "2022-01-01T13:58:48.003Z"
   },
   {
    "duration": 784,
    "start_time": "2022-01-01T13:59:02.443Z"
   },
   {
    "duration": 458,
    "start_time": "2022-01-01T13:59:03.229Z"
   },
   {
    "duration": 21,
    "start_time": "2022-01-01T13:59:03.689Z"
   },
   {
    "duration": 28,
    "start_time": "2022-01-01T14:00:48.939Z"
   },
   {
    "duration": 692,
    "start_time": "2022-01-01T14:01:18.110Z"
   },
   {
    "duration": 460,
    "start_time": "2022-01-01T14:01:18.804Z"
   },
   {
    "duration": 24,
    "start_time": "2022-01-01T14:01:21.370Z"
   },
   {
    "duration": 34,
    "start_time": "2022-01-01T14:02:18.867Z"
   },
   {
    "duration": 11,
    "start_time": "2022-01-01T14:04:27.103Z"
   },
   {
    "duration": 36,
    "start_time": "2022-01-01T14:08:34.404Z"
   },
   {
    "duration": 101,
    "start_time": "2022-01-01T14:09:12.645Z"
   },
   {
    "duration": 319,
    "start_time": "2022-01-01T14:12:08.543Z"
   },
   {
    "duration": 28,
    "start_time": "2022-01-01T14:12:33.398Z"
   },
   {
    "duration": 44,
    "start_time": "2022-01-01T14:15:03.892Z"
   },
   {
    "duration": 100,
    "start_time": "2022-01-01T14:15:36.203Z"
   },
   {
    "duration": 49,
    "start_time": "2022-01-01T14:16:26.033Z"
   },
   {
    "duration": 49,
    "start_time": "2022-01-01T14:20:06.917Z"
   },
   {
    "duration": 735,
    "start_time": "2022-01-01T14:20:23.208Z"
   },
   {
    "duration": 447,
    "start_time": "2022-01-01T14:20:23.945Z"
   },
   {
    "duration": 48,
    "start_time": "2022-01-01T14:20:24.394Z"
   },
   {
    "duration": 801,
    "start_time": "2022-01-01T14:21:00.275Z"
   },
   {
    "duration": 506,
    "start_time": "2022-01-01T14:21:01.079Z"
   },
   {
    "duration": 47,
    "start_time": "2022-01-01T14:21:04.685Z"
   },
   {
    "duration": 82,
    "start_time": "2022-01-01T14:21:27.569Z"
   },
   {
    "duration": 52,
    "start_time": "2022-01-01T14:21:36.828Z"
   },
   {
    "duration": 31,
    "start_time": "2022-01-01T14:23:38.946Z"
   },
   {
    "duration": 92,
    "start_time": "2022-01-01T14:24:21.836Z"
   },
   {
    "duration": 50,
    "start_time": "2022-01-01T14:24:50.677Z"
   },
   {
    "duration": 40,
    "start_time": "2022-01-01T14:25:18.291Z"
   },
   {
    "duration": 92,
    "start_time": "2022-01-01T14:25:34.023Z"
   },
   {
    "duration": 749,
    "start_time": "2022-01-01T14:25:50.444Z"
   },
   {
    "duration": 526,
    "start_time": "2022-01-01T14:25:51.195Z"
   },
   {
    "duration": 40,
    "start_time": "2022-01-01T14:25:54.172Z"
   },
   {
    "duration": 36,
    "start_time": "2022-01-01T14:26:12.727Z"
   },
   {
    "duration": 84,
    "start_time": "2022-01-01T14:31:44.652Z"
   },
   {
    "duration": 81,
    "start_time": "2022-01-01T14:31:50.978Z"
   },
   {
    "duration": 36,
    "start_time": "2022-01-01T14:31:58.270Z"
   },
   {
    "duration": 36,
    "start_time": "2022-01-01T14:32:02.124Z"
   },
   {
    "duration": 34,
    "start_time": "2022-01-01T14:32:10.921Z"
   },
   {
    "duration": 740,
    "start_time": "2022-01-01T14:32:26.796Z"
   },
   {
    "duration": 442,
    "start_time": "2022-01-01T14:32:27.538Z"
   },
   {
    "duration": 36,
    "start_time": "2022-01-01T14:32:27.982Z"
   },
   {
    "duration": 37,
    "start_time": "2022-01-01T14:32:50.731Z"
   },
   {
    "duration": 712,
    "start_time": "2022-01-01T17:20:18.707Z"
   },
   {
    "duration": 463,
    "start_time": "2022-01-01T17:20:19.421Z"
   },
   {
    "duration": 401,
    "start_time": "2022-01-01T17:20:22.562Z"
   },
   {
    "duration": 47,
    "start_time": "2022-01-01T17:22:59.917Z"
   },
   {
    "duration": 734,
    "start_time": "2022-01-01T17:28:18.790Z"
   },
   {
    "duration": 471,
    "start_time": "2022-01-01T17:28:19.526Z"
   },
   {
    "duration": 43,
    "start_time": "2022-01-01T17:28:22.117Z"
   },
   {
    "duration": 776,
    "start_time": "2022-01-01T17:29:04.668Z"
   },
   {
    "duration": 429,
    "start_time": "2022-01-01T17:29:05.446Z"
   },
   {
    "duration": 32,
    "start_time": "2022-01-01T17:29:09.678Z"
   },
   {
    "duration": 34,
    "start_time": "2022-01-01T17:29:30.315Z"
   },
   {
    "duration": 47,
    "start_time": "2022-01-01T17:36:36.756Z"
   },
   {
    "duration": 45,
    "start_time": "2022-01-01T17:37:14.931Z"
   },
   {
    "duration": 47,
    "start_time": "2022-01-01T17:37:49.873Z"
   },
   {
    "duration": 776,
    "start_time": "2022-01-01T17:38:15.640Z"
   },
   {
    "duration": 452,
    "start_time": "2022-01-01T17:38:16.418Z"
   },
   {
    "duration": 46,
    "start_time": "2022-01-01T17:38:16.872Z"
   },
   {
    "duration": 349,
    "start_time": "2022-01-01T17:46:49.593Z"
   },
   {
    "duration": 269,
    "start_time": "2022-01-01T17:47:35.781Z"
   },
   {
    "duration": 5,
    "start_time": "2022-01-01T17:48:12.982Z"
   },
   {
    "duration": 269,
    "start_time": "2022-01-01T17:48:29.107Z"
   },
   {
    "duration": 6,
    "start_time": "2022-01-01T17:50:10.873Z"
   },
   {
    "duration": 249,
    "start_time": "2022-01-01T17:50:39.681Z"
   },
   {
    "duration": 257,
    "start_time": "2022-01-01T17:51:01.838Z"
   },
   {
    "duration": 251,
    "start_time": "2022-01-01T17:51:26.631Z"
   },
   {
    "duration": 16,
    "start_time": "2022-01-01T17:54:15.410Z"
   },
   {
    "duration": 49,
    "start_time": "2022-01-01T17:55:48.386Z"
   },
   {
    "duration": 18,
    "start_time": "2022-01-01T17:57:01.667Z"
   },
   {
    "duration": 544,
    "start_time": "2022-01-01T17:57:14.972Z"
   },
   {
    "duration": 45,
    "start_time": "2022-01-01T17:58:22.323Z"
   },
   {
    "duration": 105,
    "start_time": "2022-01-01T17:58:37.633Z"
   },
   {
    "duration": 246,
    "start_time": "2022-01-01T17:58:57.981Z"
   },
   {
    "duration": 47,
    "start_time": "2022-01-01T17:59:28.623Z"
   },
   {
    "duration": 313,
    "start_time": "2022-01-01T17:59:40.948Z"
   },
   {
    "duration": 34,
    "start_time": "2022-01-01T17:59:59.749Z"
   },
   {
    "duration": 6,
    "start_time": "2022-01-01T18:00:58.266Z"
   },
   {
    "duration": 322,
    "start_time": "2022-01-01T18:01:13.615Z"
   },
   {
    "duration": 10,
    "start_time": "2022-01-01T18:01:33.965Z"
   },
   {
    "duration": 9,
    "start_time": "2022-01-01T18:03:10.642Z"
   },
   {
    "duration": 252,
    "start_time": "2022-01-01T18:21:12.990Z"
   },
   {
    "duration": 754,
    "start_time": "2022-01-01T18:21:29.497Z"
   },
   {
    "duration": 342,
    "start_time": "2022-01-01T18:21:30.253Z"
   },
   {
    "duration": 7,
    "start_time": "2022-01-01T18:22:29.330Z"
   },
   {
    "duration": 238,
    "start_time": "2022-01-01T18:23:10.505Z"
   },
   {
    "duration": 93,
    "start_time": "2022-01-01T18:23:23.249Z"
   },
   {
    "duration": 260,
    "start_time": "2022-01-01T18:23:30.268Z"
   },
   {
    "duration": 629,
    "start_time": "2022-01-01T18:24:46.062Z"
   },
   {
    "duration": 6626,
    "start_time": "2022-01-01T18:27:19.052Z"
   },
   {
    "duration": 6128,
    "start_time": "2022-01-01T18:27:53.360Z"
   },
   {
    "duration": 670,
    "start_time": "2022-01-01T18:28:04.599Z"
   },
   {
    "duration": 258,
    "start_time": "2022-01-01T18:28:26.154Z"
   },
   {
    "duration": 263,
    "start_time": "2022-01-01T18:29:35.395Z"
   },
   {
    "duration": 245,
    "start_time": "2022-01-01T18:29:55.572Z"
   },
   {
    "duration": 248,
    "start_time": "2022-01-01T18:30:07.412Z"
   },
   {
    "duration": 314,
    "start_time": "2022-01-01T18:30:14.518Z"
   },
   {
    "duration": 437,
    "start_time": "2022-01-01T18:36:37.036Z"
   },
   {
    "duration": 246,
    "start_time": "2022-01-01T18:36:48.386Z"
   },
   {
    "duration": 333,
    "start_time": "2022-01-01T18:36:59.365Z"
   },
   {
    "duration": 253,
    "start_time": "2022-01-01T18:37:13.316Z"
   },
   {
    "duration": 251,
    "start_time": "2022-01-01T18:37:24.562Z"
   },
   {
    "duration": 252,
    "start_time": "2022-01-01T18:37:57.689Z"
   },
   {
    "duration": 250,
    "start_time": "2022-01-01T18:38:05.832Z"
   },
   {
    "duration": 248,
    "start_time": "2022-01-01T18:38:11.286Z"
   },
   {
    "duration": 88,
    "start_time": "2022-01-01T18:39:02.427Z"
   },
   {
    "duration": 247,
    "start_time": "2022-01-01T18:39:13.360Z"
   },
   {
    "duration": 246,
    "start_time": "2022-01-01T18:39:20.327Z"
   },
   {
    "duration": 252,
    "start_time": "2022-01-01T18:39:42.584Z"
   },
   {
    "duration": 8,
    "start_time": "2022-01-01T18:40:07.701Z"
   },
   {
    "duration": 248,
    "start_time": "2022-01-01T18:42:31.902Z"
   },
   {
    "duration": 422,
    "start_time": "2022-01-01T18:44:47.088Z"
   },
   {
    "duration": 90,
    "start_time": "2022-01-01T18:44:56.450Z"
   },
   {
    "duration": 5,
    "start_time": "2022-01-01T18:45:02.181Z"
   },
   {
    "duration": 7,
    "start_time": "2022-01-01T18:45:35.595Z"
   },
   {
    "duration": 342,
    "start_time": "2022-01-01T18:46:06.505Z"
   },
   {
    "duration": 250,
    "start_time": "2022-01-01T18:47:08.054Z"
   },
   {
    "duration": 255,
    "start_time": "2022-01-01T18:47:15.120Z"
   },
   {
    "duration": 8,
    "start_time": "2022-01-01T18:48:03.214Z"
   },
   {
    "duration": 408,
    "start_time": "2022-01-01T18:48:28.367Z"
   },
   {
    "duration": 423,
    "start_time": "2022-01-01T19:07:28.545Z"
   },
   {
    "duration": 8,
    "start_time": "2022-01-01T19:08:45.260Z"
   },
   {
    "duration": 8,
    "start_time": "2022-01-01T19:08:58.932Z"
   },
   {
    "duration": 1034,
    "start_time": "2022-01-01T19:09:33.043Z"
   },
   {
    "duration": 974,
    "start_time": "2022-01-01T19:09:40.297Z"
   },
   {
    "duration": 705,
    "start_time": "2022-01-01T19:09:57.591Z"
   },
   {
    "duration": 504,
    "start_time": "2022-01-01T19:09:58.298Z"
   },
   {
    "duration": 43,
    "start_time": "2022-01-01T19:09:58.804Z"
   },
   {
    "duration": 20,
    "start_time": "2022-01-01T19:09:58.849Z"
   },
   {
    "duration": 45,
    "start_time": "2022-01-01T19:15:03.357Z"
   },
   {
    "duration": 763,
    "start_time": "2022-01-01T19:15:38.119Z"
   },
   {
    "duration": 447,
    "start_time": "2022-01-01T19:15:38.884Z"
   },
   {
    "duration": 45,
    "start_time": "2022-01-01T19:15:41.730Z"
   },
   {
    "duration": 78,
    "start_time": "2022-01-01T19:17:25.460Z"
   },
   {
    "duration": 9,
    "start_time": "2022-01-01T19:17:52.919Z"
   },
   {
    "duration": 217,
    "start_time": "2022-01-01T20:18:41.445Z"
   },
   {
    "duration": 324,
    "start_time": "2022-01-01T20:20:14.993Z"
   },
   {
    "duration": 250,
    "start_time": "2022-01-01T20:20:28.704Z"
   },
   {
    "duration": 200,
    "start_time": "2022-01-01T20:20:44.423Z"
   },
   {
    "duration": 562,
    "start_time": "2022-01-01T20:21:05.366Z"
   },
   {
    "duration": 571,
    "start_time": "2022-01-01T20:22:16.143Z"
   },
   {
    "duration": 487,
    "start_time": "2022-01-01T20:23:53.317Z"
   },
   {
    "duration": 495,
    "start_time": "2022-01-01T20:24:13.909Z"
   },
   {
    "duration": 510,
    "start_time": "2022-01-01T20:24:24.708Z"
   },
   {
    "duration": 472,
    "start_time": "2022-01-01T20:24:35.454Z"
   },
   {
    "duration": 507,
    "start_time": "2022-01-01T20:24:49.020Z"
   },
   {
    "duration": 525,
    "start_time": "2022-01-01T20:25:00.608Z"
   },
   {
    "duration": 506,
    "start_time": "2022-01-01T20:25:10.125Z"
   },
   {
    "duration": 493,
    "start_time": "2022-01-01T20:25:18.646Z"
   },
   {
    "duration": 527,
    "start_time": "2022-01-01T20:25:56.549Z"
   },
   {
    "duration": 411,
    "start_time": "2022-01-01T20:26:20.938Z"
   },
   {
    "duration": 545,
    "start_time": "2022-01-01T20:26:28.164Z"
   },
   {
    "duration": 9,
    "start_time": "2022-01-01T20:29:46.121Z"
   },
   {
    "duration": 10,
    "start_time": "2022-01-01T20:29:56.273Z"
   },
   {
    "duration": 10,
    "start_time": "2022-01-01T20:30:02.463Z"
   },
   {
    "duration": 10,
    "start_time": "2022-01-01T20:30:09.666Z"
   },
   {
    "duration": 21,
    "start_time": "2022-01-01T20:31:58.372Z"
   },
   {
    "duration": 248,
    "start_time": "2022-01-01T20:37:03.445Z"
   },
   {
    "duration": 43704,
    "start_time": "2022-01-01T20:37:53.660Z"
   },
   {
    "duration": 44923,
    "start_time": "2022-01-01T20:39:12.105Z"
   },
   {
    "duration": 426,
    "start_time": "2022-01-01T20:50:01.035Z"
   },
   {
    "duration": 442,
    "start_time": "2022-01-01T20:50:34.688Z"
   },
   {
    "duration": 633,
    "start_time": "2022-01-01T20:52:00.642Z"
   },
   {
    "duration": 701,
    "start_time": "2022-01-01T20:55:24.557Z"
   },
   {
    "duration": 597,
    "start_time": "2022-01-01T20:56:01.705Z"
   },
   {
    "duration": 553,
    "start_time": "2022-01-01T20:56:10.683Z"
   },
   {
    "duration": 711,
    "start_time": "2022-01-01T20:56:19.953Z"
   },
   {
    "duration": 795,
    "start_time": "2022-01-01T20:58:44.383Z"
   },
   {
    "duration": 2307,
    "start_time": "2022-01-01T21:04:25.024Z"
   },
   {
    "duration": 4018,
    "start_time": "2022-01-01T21:08:10.022Z"
   },
   {
    "duration": 732,
    "start_time": "2022-01-01T21:09:46.806Z"
   },
   {
    "duration": 2510,
    "start_time": "2022-01-01T21:13:26.310Z"
   },
   {
    "duration": 1108,
    "start_time": "2022-01-01T21:13:55.662Z"
   },
   {
    "duration": 1216,
    "start_time": "2022-01-01T21:14:17.937Z"
   },
   {
    "duration": 1095,
    "start_time": "2022-01-01T21:14:51.796Z"
   },
   {
    "duration": 900,
    "start_time": "2022-01-01T21:15:03.541Z"
   },
   {
    "duration": 466,
    "start_time": "2022-01-01T21:15:04.443Z"
   },
   {
    "duration": 59,
    "start_time": "2022-01-01T21:15:04.911Z"
   },
   {
    "duration": 1088,
    "start_time": "2022-01-01T21:15:04.973Z"
   },
   {
    "duration": 1137,
    "start_time": "2022-01-01T21:15:19.191Z"
   },
   {
    "duration": 1043,
    "start_time": "2022-01-01T21:15:28.993Z"
   },
   {
    "duration": 741,
    "start_time": "2022-01-01T21:18:43.793Z"
   },
   {
    "duration": 443,
    "start_time": "2022-01-01T21:18:44.536Z"
   },
   {
    "duration": 48,
    "start_time": "2022-01-01T21:18:44.981Z"
   },
   {
    "duration": 1064,
    "start_time": "2022-01-01T21:18:47.562Z"
   },
   {
    "duration": 759,
    "start_time": "2022-01-01T21:24:10.219Z"
   },
   {
    "duration": 441,
    "start_time": "2022-01-01T21:24:10.980Z"
   },
   {
    "duration": 61,
    "start_time": "2022-01-01T21:24:11.423Z"
   },
   {
    "duration": 10,
    "start_time": "2022-01-01T21:24:11.486Z"
   },
   {
    "duration": 1039,
    "start_time": "2022-01-01T21:24:19.387Z"
   },
   {
    "duration": 1063,
    "start_time": "2022-01-01T21:25:48.692Z"
   },
   {
    "duration": 1075,
    "start_time": "2022-01-01T21:27:27.405Z"
   },
   {
    "duration": 43,
    "start_time": "2022-01-01T21:27:50.975Z"
   },
   {
    "duration": 44,
    "start_time": "2022-01-01T21:28:59.035Z"
   },
   {
    "duration": 6,
    "start_time": "2022-01-01T21:29:45.969Z"
   },
   {
    "duration": 44,
    "start_time": "2022-01-01T21:29:57.135Z"
   },
   {
    "duration": 678,
    "start_time": "2022-01-01T21:31:33.542Z"
   },
   {
    "duration": 654,
    "start_time": "2022-01-01T21:33:13.558Z"
   },
   {
    "duration": 573,
    "start_time": "2022-01-01T21:33:43.400Z"
   },
   {
    "duration": 605,
    "start_time": "2022-01-01T21:33:55.527Z"
   },
   {
    "duration": 780,
    "start_time": "2022-01-01T21:34:15.458Z"
   },
   {
    "duration": 577,
    "start_time": "2022-01-01T21:35:04.703Z"
   },
   {
    "duration": 5394,
    "start_time": "2022-01-01T21:35:42.350Z"
   },
   {
    "duration": 472,
    "start_time": "2022-01-01T21:36:01.088Z"
   },
   {
    "duration": 681,
    "start_time": "2022-01-01T21:36:53.211Z"
   },
   {
    "duration": 456,
    "start_time": "2022-01-01T21:37:01.950Z"
   },
   {
    "duration": 505,
    "start_time": "2022-01-01T21:37:08.417Z"
   },
   {
    "duration": 475,
    "start_time": "2022-01-01T21:37:23.978Z"
   },
   {
    "duration": 432,
    "start_time": "2022-01-01T21:37:36.016Z"
   },
   {
    "duration": 816,
    "start_time": "2022-01-01T21:38:03.705Z"
   },
   {
    "duration": 1019,
    "start_time": "2022-01-01T21:38:14.118Z"
   },
   {
    "duration": 839,
    "start_time": "2022-01-01T21:38:39.214Z"
   },
   {
    "duration": 922,
    "start_time": "2022-01-01T21:38:46.019Z"
   },
   {
    "duration": 84,
    "start_time": "2022-01-01T21:42:04.164Z"
   },
   {
    "duration": 808,
    "start_time": "2022-01-01T21:42:10.004Z"
   },
   {
    "duration": 829,
    "start_time": "2022-01-01T21:42:22.263Z"
   },
   {
    "duration": 941,
    "start_time": "2022-01-01T21:42:51.899Z"
   },
   {
    "duration": 696,
    "start_time": "2022-01-01T21:42:59.678Z"
   },
   {
    "duration": 740,
    "start_time": "2022-01-01T21:43:10.750Z"
   },
   {
    "duration": 929,
    "start_time": "2022-01-01T21:43:39.034Z"
   },
   {
    "duration": 1387,
    "start_time": "2022-01-01T21:43:57.517Z"
   },
   {
    "duration": 970,
    "start_time": "2022-01-01T21:44:18.791Z"
   },
   {
    "duration": 451,
    "start_time": "2022-01-01T21:47:18.958Z"
   },
   {
    "duration": 475,
    "start_time": "2022-01-01T21:47:41.791Z"
   },
   {
    "duration": 310,
    "start_time": "2022-01-01T21:48:58.607Z"
   },
   {
    "duration": 342,
    "start_time": "2022-01-01T21:49:04.347Z"
   },
   {
    "duration": 557,
    "start_time": "2022-01-01T21:49:38.896Z"
   },
   {
    "duration": 1061,
    "start_time": "2022-01-01T21:50:19.220Z"
   },
   {
    "duration": 1515,
    "start_time": "2022-01-01T21:51:02.106Z"
   },
   {
    "duration": 1198,
    "start_time": "2022-01-01T21:51:35.659Z"
   },
   {
    "duration": 1404,
    "start_time": "2022-01-02T09:14:00.532Z"
   },
   {
    "duration": 531,
    "start_time": "2022-01-02T09:17:48.299Z"
   },
   {
    "duration": 506,
    "start_time": "2022-01-02T09:18:16.940Z"
   },
   {
    "duration": 559,
    "start_time": "2022-01-02T09:19:02.056Z"
   },
   {
    "duration": 549,
    "start_time": "2022-01-02T09:19:29.336Z"
   },
   {
    "duration": 648,
    "start_time": "2022-01-02T09:19:43.771Z"
   },
   {
    "duration": 655,
    "start_time": "2022-01-02T09:20:01.972Z"
   },
   {
    "duration": 644,
    "start_time": "2022-01-02T09:20:25.290Z"
   },
   {
    "duration": 355,
    "start_time": "2022-01-02T09:21:52.884Z"
   },
   {
    "duration": 461,
    "start_time": "2022-01-02T09:22:21.623Z"
   },
   {
    "duration": 618,
    "start_time": "2022-01-02T09:22:59.625Z"
   },
   {
    "duration": 1451,
    "start_time": "2022-01-02T09:23:34.987Z"
   },
   {
    "duration": 1244,
    "start_time": "2022-01-02T09:24:03.363Z"
   },
   {
    "duration": 530,
    "start_time": "2022-01-02T09:24:56.910Z"
   },
   {
    "duration": 592,
    "start_time": "2022-01-02T09:25:21.204Z"
   },
   {
    "duration": 607,
    "start_time": "2022-01-02T09:25:48.406Z"
   },
   {
    "duration": 554,
    "start_time": "2022-01-02T09:26:14.074Z"
   },
   {
    "duration": 880,
    "start_time": "2022-01-02T09:26:41.809Z"
   },
   {
    "duration": 555,
    "start_time": "2022-01-02T09:26:42.691Z"
   },
   {
    "duration": 1047,
    "start_time": "2022-01-02T09:27:20.254Z"
   },
   {
    "duration": 108,
    "start_time": "2022-01-02T09:29:59.957Z"
   },
   {
    "duration": 1152,
    "start_time": "2022-01-02T09:30:00.068Z"
   },
   {
    "duration": 3,
    "start_time": "2022-01-02T09:30:01.222Z"
   },
   {
    "duration": 16,
    "start_time": "2022-01-02T09:30:01.227Z"
   },
   {
    "duration": 895,
    "start_time": "2022-01-02T09:30:01.245Z"
   },
   {
    "duration": 6,
    "start_time": "2022-01-02T09:30:02.142Z"
   },
   {
    "duration": 1533,
    "start_time": "2022-01-02T09:30:02.150Z"
   },
   {
    "duration": 75,
    "start_time": "2022-01-02T10:05:32.948Z"
   },
   {
    "duration": 80,
    "start_time": "2022-01-02T10:05:58.978Z"
   },
   {
    "duration": 34,
    "start_time": "2022-01-02T10:06:03.929Z"
   },
   {
    "duration": 41,
    "start_time": "2022-01-02T10:06:48.457Z"
   },
   {
    "duration": 39,
    "start_time": "2022-01-02T10:07:00.565Z"
   },
   {
    "duration": 33,
    "start_time": "2022-01-02T10:07:25.874Z"
   },
   {
    "duration": 34,
    "start_time": "2022-01-02T10:07:42.497Z"
   },
   {
    "duration": 37,
    "start_time": "2022-01-02T10:07:49.674Z"
   },
   {
    "duration": 34,
    "start_time": "2022-01-02T10:07:57.878Z"
   },
   {
    "duration": 42,
    "start_time": "2022-01-02T10:08:06.339Z"
   },
   {
    "duration": 43,
    "start_time": "2022-01-02T10:09:21.977Z"
   },
   {
    "duration": 35,
    "start_time": "2022-01-02T10:12:32.543Z"
   },
   {
    "duration": 59,
    "start_time": "2022-01-02T10:12:56.061Z"
   },
   {
    "duration": 29,
    "start_time": "2022-01-02T10:13:03.074Z"
   },
   {
    "duration": 4,
    "start_time": "2022-01-02T10:14:03.551Z"
   },
   {
    "duration": 27,
    "start_time": "2022-01-02T10:14:15.787Z"
   },
   {
    "duration": 7,
    "start_time": "2022-01-02T10:16:39.352Z"
   },
   {
    "duration": 313,
    "start_time": "2022-01-02T10:18:41.244Z"
   },
   {
    "duration": 277,
    "start_time": "2022-01-02T10:18:56.677Z"
   },
   {
    "duration": 265,
    "start_time": "2022-01-02T10:19:04.113Z"
   },
   {
    "duration": 279,
    "start_time": "2022-01-02T10:19:13.209Z"
   },
   {
    "duration": 8,
    "start_time": "2022-01-02T10:19:19.285Z"
   },
   {
    "duration": 10,
    "start_time": "2022-01-02T10:25:27.373Z"
   },
   {
    "duration": 2629,
    "start_time": "2022-01-02T10:29:23.405Z"
   },
   {
    "duration": 2502,
    "start_time": "2022-01-02T10:30:11.875Z"
   },
   {
    "duration": 3008,
    "start_time": "2022-01-02T10:31:03.203Z"
   },
   {
    "duration": 14,
    "start_time": "2022-01-02T10:31:30.805Z"
   },
   {
    "duration": 54,
    "start_time": "2022-01-02T10:34:59.995Z"
   },
   {
    "duration": 88,
    "start_time": "2022-01-02T10:51:26.004Z"
   },
   {
    "duration": 84,
    "start_time": "2022-01-02T10:51:35.760Z"
   },
   {
    "duration": 87,
    "start_time": "2022-01-02T10:51:50.396Z"
   },
   {
    "duration": 804,
    "start_time": "2022-01-02T17:39:32.541Z"
   },
   {
    "duration": 93,
    "start_time": "2022-01-02T17:39:33.347Z"
   },
   {
    "duration": 34,
    "start_time": "2022-01-02T17:39:33.442Z"
   },
   {
    "duration": 7624,
    "start_time": "2022-01-02T17:39:33.478Z"
   },
   {
    "duration": -11,
    "start_time": "2022-01-02T17:39:41.115Z"
   },
   {
    "duration": 8,
    "start_time": "2022-01-02T17:40:36.712Z"
   },
   {
    "duration": 14,
    "start_time": "2022-01-02T17:40:43.625Z"
   },
   {
    "duration": 242,
    "start_time": "2022-01-02T17:44:43.476Z"
   },
   {
    "duration": 505,
    "start_time": "2022-01-02T17:45:26.913Z"
   },
   {
    "duration": 109,
    "start_time": "2022-01-02T17:46:09.169Z"
   },
   {
    "duration": 244,
    "start_time": "2022-01-02T17:46:29.710Z"
   },
   {
    "duration": 371,
    "start_time": "2022-01-02T17:46:38.662Z"
   },
   {
    "duration": 628,
    "start_time": "2022-01-02T17:47:32.257Z"
   },
   {
    "duration": 628,
    "start_time": "2022-01-02T17:47:45.471Z"
   },
   {
    "duration": 701,
    "start_time": "2022-01-02T17:47:55.024Z"
   },
   {
    "duration": 1333,
    "start_time": "2022-01-02T17:52:24.268Z"
   },
   {
    "duration": 1075,
    "start_time": "2022-01-02T17:52:31.431Z"
   },
   {
    "duration": 1226,
    "start_time": "2022-01-02T17:52:42.070Z"
   },
   {
    "duration": 621,
    "start_time": "2022-01-02T17:52:53.899Z"
   },
   {
    "duration": 1014,
    "start_time": "2022-01-02T17:53:09.268Z"
   },
   {
    "duration": 1304,
    "start_time": "2022-01-02T17:53:27.693Z"
   },
   {
    "duration": 1494,
    "start_time": "2022-01-02T17:53:49.406Z"
   },
   {
    "duration": 1571,
    "start_time": "2022-01-02T17:55:57.390Z"
   },
   {
    "duration": 1342,
    "start_time": "2022-01-02T17:56:26.988Z"
   },
   {
    "duration": 1601,
    "start_time": "2022-01-02T17:58:12.570Z"
   },
   {
    "duration": 3260,
    "start_time": "2022-01-02T17:58:58.211Z"
   },
   {
    "duration": 1677,
    "start_time": "2022-01-02T17:59:54.091Z"
   },
   {
    "duration": 1661,
    "start_time": "2022-01-02T18:04:30.060Z"
   },
   {
    "duration": 1468,
    "start_time": "2022-01-02T18:05:10.608Z"
   },
   {
    "duration": 1659,
    "start_time": "2022-01-02T18:05:29.896Z"
   },
   {
    "duration": 1292,
    "start_time": "2022-01-02T18:06:14.356Z"
   },
   {
    "duration": 3025,
    "start_time": "2022-01-02T18:12:24.462Z"
   },
   {
    "duration": 3120,
    "start_time": "2022-01-02T18:12:55.137Z"
   },
   {
    "duration": 4705,
    "start_time": "2022-01-02T18:14:02.463Z"
   },
   {
    "duration": 3712,
    "start_time": "2022-01-02T18:14:50.251Z"
   },
   {
    "duration": 1139,
    "start_time": "2022-01-02T18:15:08.407Z"
   },
   {
    "duration": 644,
    "start_time": "2022-01-02T18:16:19.766Z"
   },
   {
    "duration": 4,
    "start_time": "2022-01-02T18:19:25.698Z"
   },
   {
    "duration": 606,
    "start_time": "2022-01-02T18:19:40.184Z"
   },
   {
    "duration": 1613,
    "start_time": "2022-01-02T18:20:01.849Z"
   },
   {
    "duration": 6865,
    "start_time": "2022-01-02T18:20:16.518Z"
   },
   {
    "duration": 89,
    "start_time": "2022-01-02T18:22:28.196Z"
   },
   {
    "duration": 267,
    "start_time": "2022-01-02T18:22:36.091Z"
   },
   {
    "duration": 299,
    "start_time": "2022-01-02T18:23:01.144Z"
   },
   {
    "duration": 7235,
    "start_time": "2022-01-02T18:23:30.636Z"
   },
   {
    "duration": 6912,
    "start_time": "2022-01-02T18:24:25.178Z"
   },
   {
    "duration": 7071,
    "start_time": "2022-01-02T18:25:04.225Z"
   },
   {
    "duration": 9,
    "start_time": "2022-01-02T18:30:58.176Z"
   },
   {
    "duration": 9,
    "start_time": "2022-01-02T18:31:13.919Z"
   },
   {
    "duration": 8,
    "start_time": "2022-01-02T18:31:19.648Z"
   },
   {
    "duration": 8,
    "start_time": "2022-01-02T18:31:42.075Z"
   },
   {
    "duration": 6634,
    "start_time": "2022-01-02T18:32:54.457Z"
   },
   {
    "duration": 7167,
    "start_time": "2022-01-02T18:33:30.337Z"
   },
   {
    "duration": 6898,
    "start_time": "2022-01-02T18:33:56.590Z"
   },
   {
    "duration": 7066,
    "start_time": "2022-01-02T18:34:21.373Z"
   },
   {
    "duration": 6584,
    "start_time": "2022-01-02T18:34:39.095Z"
   },
   {
    "duration": 266,
    "start_time": "2022-01-02T18:40:40.894Z"
   },
   {
    "duration": 786,
    "start_time": "2022-01-02T18:40:49.479Z"
   },
   {
    "duration": 713,
    "start_time": "2022-01-02T18:41:13.951Z"
   },
   {
    "duration": 720,
    "start_time": "2022-01-02T18:41:23.743Z"
   },
   {
    "duration": 1437,
    "start_time": "2022-01-02T18:41:41.023Z"
   },
   {
    "duration": 22,
    "start_time": "2022-01-02T18:43:58.860Z"
   },
   {
    "duration": 114,
    "start_time": "2022-01-02T18:44:59.310Z"
   },
   {
    "duration": 111,
    "start_time": "2022-01-02T18:45:15.330Z"
   },
   {
    "duration": 81,
    "start_time": "2022-01-02T18:46:20.019Z"
   },
   {
    "duration": 91,
    "start_time": "2022-01-02T18:46:42.176Z"
   },
   {
    "duration": 129,
    "start_time": "2022-01-02T18:49:13.285Z"
   },
   {
    "duration": 721,
    "start_time": "2022-01-02T18:49:58.842Z"
   },
   {
    "duration": 6589,
    "start_time": "2022-01-02T18:50:53.899Z"
   },
   {
    "duration": 116,
    "start_time": "2022-01-02T18:51:13.399Z"
   },
   {
    "duration": 92,
    "start_time": "2022-01-02T18:51:24.166Z"
   },
   {
    "duration": 80,
    "start_time": "2022-01-02T18:51:33.357Z"
   },
   {
    "duration": 722,
    "start_time": "2022-01-02T18:51:43.420Z"
   },
   {
    "duration": 477,
    "start_time": "2022-01-02T19:07:14.061Z"
   },
   {
    "duration": 755,
    "start_time": "2022-01-02T19:07:50.290Z"
   },
   {
    "duration": 96,
    "start_time": "2022-01-02T19:07:51.047Z"
   },
   {
    "duration": 35,
    "start_time": "2022-01-02T19:07:51.145Z"
   },
   {
    "duration": 8,
    "start_time": "2022-01-02T19:07:51.182Z"
   },
   {
    "duration": 12,
    "start_time": "2022-01-02T19:07:51.192Z"
   },
   {
    "duration": 4,
    "start_time": "2022-01-02T19:07:51.205Z"
   },
   {
    "duration": 3776,
    "start_time": "2022-01-02T19:07:54.139Z"
   },
   {
    "duration": 3590,
    "start_time": "2022-01-02T19:08:47.097Z"
   },
   {
    "duration": 5100,
    "start_time": "2022-01-02T19:11:11.623Z"
   },
   {
    "duration": 303,
    "start_time": "2022-01-02T19:12:35.685Z"
   },
   {
    "duration": 571,
    "start_time": "2022-01-02T19:13:17.218Z"
   },
   {
    "duration": 5125,
    "start_time": "2022-01-02T19:13:42.303Z"
   },
   {
    "duration": 588,
    "start_time": "2022-01-02T19:14:04.911Z"
   },
   {
    "duration": 572,
    "start_time": "2022-01-02T19:14:12.353Z"
   },
   {
    "duration": 3321,
    "start_time": "2022-01-02T19:19:16.596Z"
   },
   {
    "duration": 3313,
    "start_time": "2022-01-02T19:20:08.100Z"
   },
   {
    "duration": 90,
    "start_time": "2022-01-02T19:23:12.315Z"
   },
   {
    "duration": 2889,
    "start_time": "2022-01-02T19:23:18.684Z"
   },
   {
    "duration": 2204,
    "start_time": "2022-01-02T19:39:22.742Z"
   },
   {
    "duration": 2199,
    "start_time": "2022-01-02T19:40:07.116Z"
   },
   {
    "duration": 2634,
    "start_time": "2022-01-02T19:40:20.798Z"
   },
   {
    "duration": 2219,
    "start_time": "2022-01-02T19:40:40.766Z"
   },
   {
    "duration": 2579,
    "start_time": "2022-01-02T19:41:02.891Z"
   },
   {
    "duration": 2191,
    "start_time": "2022-01-02T19:41:11.540Z"
   },
   {
    "duration": 2412,
    "start_time": "2022-01-02T19:41:33.471Z"
   },
   {
    "duration": 2444,
    "start_time": "2022-01-02T19:42:56.344Z"
   },
   {
    "duration": 2264,
    "start_time": "2022-01-02T19:46:47.580Z"
   },
   {
    "duration": 81,
    "start_time": "2022-01-02T19:59:12.244Z"
   },
   {
    "duration": 79,
    "start_time": "2022-01-02T19:59:42.204Z"
   },
   {
    "duration": 2179,
    "start_time": "2022-01-02T19:59:47.164Z"
   },
   {
    "duration": 89,
    "start_time": "2022-01-02T20:00:11.060Z"
   },
   {
    "duration": 2212,
    "start_time": "2022-01-02T20:00:20.537Z"
   },
   {
    "duration": 2225,
    "start_time": "2022-01-02T20:01:09.223Z"
   },
   {
    "duration": 728,
    "start_time": "2022-01-02T20:01:23.211Z"
   },
   {
    "duration": 95,
    "start_time": "2022-01-02T20:01:23.941Z"
   },
   {
    "duration": 35,
    "start_time": "2022-01-02T20:01:24.038Z"
   },
   {
    "duration": 9,
    "start_time": "2022-01-02T20:01:24.074Z"
   },
   {
    "duration": 12,
    "start_time": "2022-01-02T20:01:24.085Z"
   },
   {
    "duration": 3,
    "start_time": "2022-01-02T20:01:24.099Z"
   },
   {
    "duration": 2919,
    "start_time": "2022-01-02T20:01:24.104Z"
   },
   {
    "duration": 2421,
    "start_time": "2022-01-02T20:35:00.504Z"
   },
   {
    "duration": 618,
    "start_time": "2022-01-02T20:48:06.522Z"
   },
   {
    "duration": 2890,
    "start_time": "2022-01-02T20:49:18.239Z"
   },
   {
    "duration": 527,
    "start_time": "2022-01-02T20:49:44.913Z"
   },
   {
    "duration": 8,
    "start_time": "2022-01-02T20:57:11.840Z"
   },
   {
    "duration": 80,
    "start_time": "2022-01-02T20:57:14.935Z"
   },
   {
    "duration": 997,
    "start_time": "2022-01-02T20:59:24.821Z"
   },
   {
    "duration": 1079,
    "start_time": "2022-01-02T20:59:31.684Z"
   },
   {
    "duration": 1101,
    "start_time": "2022-01-02T21:02:11.973Z"
   },
   {
    "duration": 8,
    "start_time": "2022-01-02T21:05:37.545Z"
   },
   {
    "duration": 352,
    "start_time": "2022-01-02T21:12:11.784Z"
   },
   {
    "duration": 320,
    "start_time": "2022-01-02T21:12:40.098Z"
   },
   {
    "duration": 1399,
    "start_time": "2022-01-02T21:13:44.959Z"
   },
   {
    "duration": 1363,
    "start_time": "2022-01-02T21:14:07.689Z"
   },
   {
    "duration": 1491,
    "start_time": "2022-01-02T21:14:29.820Z"
   },
   {
    "duration": 335,
    "start_time": "2022-01-02T21:16:35.720Z"
   },
   {
    "duration": 98,
    "start_time": "2022-01-02T21:16:57.642Z"
   },
   {
    "duration": 148,
    "start_time": "2022-01-02T21:17:40.254Z"
   },
   {
    "duration": 16,
    "start_time": "2022-01-02T21:18:32.481Z"
   },
   {
    "duration": 739,
    "start_time": "2022-01-02T21:19:05.483Z"
   },
   {
    "duration": 93,
    "start_time": "2022-01-02T21:19:06.224Z"
   },
   {
    "duration": 26,
    "start_time": "2022-01-02T21:19:06.320Z"
   },
   {
    "duration": 436,
    "start_time": "2022-01-02T21:19:06.360Z"
   },
   {
    "duration": 83,
    "start_time": "2022-01-02T21:19:06.798Z"
   },
   {
    "duration": 14,
    "start_time": "2022-01-02T21:20:23.030Z"
   },
   {
    "duration": 13,
    "start_time": "2022-01-02T21:20:35.892Z"
   },
   {
    "duration": 18,
    "start_time": "2022-01-02T21:21:33.403Z"
   },
   {
    "duration": 17,
    "start_time": "2022-01-02T21:21:55.482Z"
   },
   {
    "duration": 667,
    "start_time": "2022-01-02T21:30:55.355Z"
   },
   {
    "duration": 606,
    "start_time": "2022-01-02T21:37:04.675Z"
   },
   {
    "duration": 85,
    "start_time": "2022-01-02T21:44:55.048Z"
   },
   {
    "duration": 79,
    "start_time": "2022-01-02T21:45:59.652Z"
   },
   {
    "duration": 84,
    "start_time": "2022-01-02T21:46:09.517Z"
   },
   {
    "duration": 97,
    "start_time": "2022-01-02T21:47:00.860Z"
   },
   {
    "duration": 99,
    "start_time": "2022-01-02T21:47:08.183Z"
   },
   {
    "duration": 596,
    "start_time": "2022-01-02T21:47:34.157Z"
   },
   {
    "duration": 492,
    "start_time": "2022-01-02T21:48:04.073Z"
   },
   {
    "duration": 537,
    "start_time": "2022-01-02T21:48:34.585Z"
   },
   {
    "duration": 5,
    "start_time": "2022-01-02T21:49:02.292Z"
   },
   {
    "duration": 4,
    "start_time": "2022-01-02T21:49:17.700Z"
   },
   {
    "duration": 7,
    "start_time": "2022-01-02T21:50:12.277Z"
   },
   {
    "duration": 4127,
    "start_time": "2022-01-02T21:52:59.709Z"
   },
   {
    "duration": 3458,
    "start_time": "2022-01-02T21:53:42.991Z"
   },
   {
    "duration": 503,
    "start_time": "2022-01-02T21:54:22.016Z"
   },
   {
    "duration": 922,
    "start_time": "2022-01-02T21:54:59.464Z"
   },
   {
    "duration": 46,
    "start_time": "2022-01-02T21:56:05.990Z"
   },
   {
    "duration": 977,
    "start_time": "2022-01-02T21:56:19.498Z"
   },
   {
    "duration": 571,
    "start_time": "2022-01-02T21:56:54.163Z"
   },
   {
    "duration": 1032,
    "start_time": "2022-01-02T21:57:24.682Z"
   },
   {
    "duration": 1077,
    "start_time": "2022-01-02T21:57:42.529Z"
   },
   {
    "duration": 994,
    "start_time": "2022-01-02T21:58:16.450Z"
   },
   {
    "duration": 455,
    "start_time": "2022-01-02T21:58:42.065Z"
   },
   {
    "duration": 1050,
    "start_time": "2022-01-02T21:59:40.327Z"
   },
   {
    "duration": 740,
    "start_time": "2022-01-02T21:59:51.405Z"
   },
   {
    "duration": 94,
    "start_time": "2022-01-02T21:59:52.147Z"
   },
   {
    "duration": 30,
    "start_time": "2022-01-02T21:59:52.244Z"
   },
   {
    "duration": 420,
    "start_time": "2022-01-02T21:59:52.276Z"
   },
   {
    "duration": 11,
    "start_time": "2022-01-02T21:59:52.698Z"
   },
   {
    "duration": 19,
    "start_time": "2022-01-02T21:59:52.710Z"
   },
   {
    "duration": 570,
    "start_time": "2022-01-02T21:59:52.731Z"
   },
   {
    "duration": 963,
    "start_time": "2022-01-02T21:59:53.303Z"
   },
   {
    "duration": 909,
    "start_time": "2022-01-02T22:00:03.729Z"
   },
   {
    "duration": 966,
    "start_time": "2022-01-02T22:00:31.847Z"
   },
   {
    "duration": 915,
    "start_time": "2022-01-02T22:01:22.447Z"
   },
   {
    "duration": 43,
    "start_time": "2022-01-02T22:04:34.734Z"
   },
   {
    "duration": 9,
    "start_time": "2022-01-03T09:15:21.347Z"
   },
   {
    "duration": 364,
    "start_time": "2022-01-03T09:15:46.204Z"
   },
   {
    "duration": 161,
    "start_time": "2022-01-03T09:21:34.436Z"
   },
   {
    "duration": 106,
    "start_time": "2022-01-03T09:24:13.334Z"
   },
   {
    "duration": 111,
    "start_time": "2022-01-03T09:24:22.896Z"
   },
   {
    "duration": 109,
    "start_time": "2022-01-03T09:26:18.141Z"
   },
   {
    "duration": 110,
    "start_time": "2022-01-03T09:26:27.388Z"
   },
   {
    "duration": 402,
    "start_time": "2022-01-03T09:27:05.344Z"
   },
   {
    "duration": 138,
    "start_time": "2022-01-03T09:28:01.404Z"
   },
   {
    "duration": 363,
    "start_time": "2022-01-03T09:28:34.904Z"
   },
   {
    "duration": 791,
    "start_time": "2022-01-03T09:29:46.111Z"
   },
   {
    "duration": 92,
    "start_time": "2022-01-03T09:29:46.904Z"
   },
   {
    "duration": 19,
    "start_time": "2022-01-03T09:29:46.998Z"
   },
   {
    "duration": 421,
    "start_time": "2022-01-03T09:29:47.018Z"
   },
   {
    "duration": 10,
    "start_time": "2022-01-03T09:29:47.441Z"
   },
   {
    "duration": 16,
    "start_time": "2022-01-03T09:29:47.461Z"
   },
   {
    "duration": 563,
    "start_time": "2022-01-03T09:29:47.478Z"
   },
   {
    "duration": 955,
    "start_time": "2022-01-03T09:29:48.043Z"
   },
   {
    "duration": 13,
    "start_time": "2022-01-03T09:29:49.000Z"
   },
   {
    "duration": 9,
    "start_time": "2022-01-03T09:29:49.014Z"
   },
   {
    "duration": 3726,
    "start_time": "2022-01-03T09:29:49.024Z"
   },
   {
    "duration": 215,
    "start_time": "2022-01-03T09:29:52.752Z"
   },
   {
    "duration": 135,
    "start_time": "2022-01-03T09:31:11.832Z"
   },
   {
    "duration": 124,
    "start_time": "2022-01-03T09:31:42.537Z"
   },
   {
    "duration": 122,
    "start_time": "2022-01-03T09:31:56.383Z"
   },
   {
    "duration": 135,
    "start_time": "2022-01-03T09:34:29.038Z"
   },
   {
    "duration": 134,
    "start_time": "2022-01-03T09:34:44.247Z"
   },
   {
    "duration": 135,
    "start_time": "2022-01-03T09:35:18.474Z"
   },
   {
    "duration": 132,
    "start_time": "2022-01-03T09:35:32.111Z"
   },
   {
    "duration": 127,
    "start_time": "2022-01-03T09:35:57.530Z"
   },
   {
    "duration": 124,
    "start_time": "2022-01-03T09:36:07.071Z"
   },
   {
    "duration": 127,
    "start_time": "2022-01-03T09:36:14.543Z"
   },
   {
    "duration": 126,
    "start_time": "2022-01-03T09:36:53.594Z"
   },
   {
    "duration": 130,
    "start_time": "2022-01-03T09:37:36.304Z"
   },
   {
    "duration": 207,
    "start_time": "2022-01-03T09:42:02.824Z"
   },
   {
    "duration": 144,
    "start_time": "2022-01-03T09:42:10.825Z"
   },
   {
    "duration": 132,
    "start_time": "2022-01-03T09:42:21.976Z"
   },
   {
    "duration": 388,
    "start_time": "2022-01-03T09:44:31.981Z"
   },
   {
    "duration": 269,
    "start_time": "2022-01-03T09:44:42.176Z"
   },
   {
    "duration": 13,
    "start_time": "2022-01-03T09:46:25.051Z"
   },
   {
    "duration": 9,
    "start_time": "2022-01-03T09:47:33.134Z"
   },
   {
    "duration": 13,
    "start_time": "2022-01-03T09:48:38.160Z"
   },
   {
    "duration": 16,
    "start_time": "2022-01-03T09:49:07.213Z"
   },
   {
    "duration": 13,
    "start_time": "2022-01-03T09:49:53.180Z"
   },
   {
    "duration": 13,
    "start_time": "2022-01-03T09:53:13.681Z"
   },
   {
    "duration": 15,
    "start_time": "2022-01-03T09:53:46.587Z"
   },
   {
    "duration": 3419,
    "start_time": "2022-01-03T09:54:27.983Z"
   },
   {
    "duration": 245,
    "start_time": "2022-01-03T09:55:08.710Z"
   },
   {
    "duration": 230,
    "start_time": "2022-01-03T09:55:26.341Z"
   },
   {
    "duration": 399,
    "start_time": "2022-01-03T09:55:35.620Z"
   },
   {
    "duration": 198,
    "start_time": "2022-01-03T09:55:45.570Z"
   },
   {
    "duration": 195,
    "start_time": "2022-01-03T09:55:52.183Z"
   },
   {
    "duration": 243,
    "start_time": "2022-01-03T09:55:58.417Z"
   },
   {
    "duration": 241,
    "start_time": "2022-01-03T09:56:55.536Z"
   },
   {
    "duration": 243,
    "start_time": "2022-01-03T09:57:15.571Z"
   },
   {
    "duration": 499,
    "start_time": "2022-01-03T10:07:14.653Z"
   },
   {
    "duration": 643,
    "start_time": "2022-01-03T10:07:29.484Z"
   },
   {
    "duration": 6837,
    "start_time": "2022-01-03T10:09:38.536Z"
   },
   {
    "duration": 378,
    "start_time": "2022-01-03T10:09:59.483Z"
   },
   {
    "duration": 377,
    "start_time": "2022-01-03T10:10:09.889Z"
   },
   {
    "duration": 259,
    "start_time": "2022-01-03T10:10:18.498Z"
   },
   {
    "duration": 293,
    "start_time": "2022-01-03T10:11:41.339Z"
   },
   {
    "duration": 252,
    "start_time": "2022-01-03T10:12:21.883Z"
   },
   {
    "duration": 249,
    "start_time": "2022-01-03T10:12:41.986Z"
   },
   {
    "duration": 512,
    "start_time": "2022-01-03T10:20:28.012Z"
   },
   {
    "duration": 436,
    "start_time": "2022-01-03T10:20:42.277Z"
   },
   {
    "duration": 288,
    "start_time": "2022-01-03T10:24:22.775Z"
   },
   {
    "duration": 250,
    "start_time": "2022-01-03T10:24:33.871Z"
   },
   {
    "duration": 637,
    "start_time": "2022-01-03T10:24:44.012Z"
   },
   {
    "duration": 620,
    "start_time": "2022-01-03T10:24:56.634Z"
   },
   {
    "duration": 335,
    "start_time": "2022-01-03T10:25:12.671Z"
   },
   {
    "duration": 389,
    "start_time": "2022-01-03T10:26:27.444Z"
   },
   {
    "duration": 351,
    "start_time": "2022-01-03T10:26:36.174Z"
   },
   {
    "duration": 374,
    "start_time": "2022-01-03T10:26:50.124Z"
   },
   {
    "duration": 629,
    "start_time": "2022-01-03T10:27:12.625Z"
   },
   {
    "duration": 318,
    "start_time": "2022-01-03T10:27:26.345Z"
   },
   {
    "duration": 313,
    "start_time": "2022-01-03T10:27:42.976Z"
   },
   {
    "duration": 361,
    "start_time": "2022-01-03T10:27:52.906Z"
   },
   {
    "duration": 17,
    "start_time": "2022-01-03T10:35:28.311Z"
   },
   {
    "duration": 17,
    "start_time": "2022-01-03T10:36:12.382Z"
   },
   {
    "duration": 16,
    "start_time": "2022-01-03T10:36:35.104Z"
   },
   {
    "duration": 370,
    "start_time": "2022-01-03T10:36:58.376Z"
   },
   {
    "duration": 18,
    "start_time": "2022-01-03T16:24:30.156Z"
   },
   {
    "duration": 19,
    "start_time": "2022-01-03T16:24:48.939Z"
   },
   {
    "duration": 18,
    "start_time": "2022-01-03T16:24:55.860Z"
   },
   {
    "duration": 287,
    "start_time": "2022-01-03T16:27:17.614Z"
   },
   {
    "duration": 4,
    "start_time": "2022-01-03T16:27:47.272Z"
   },
   {
    "duration": 179,
    "start_time": "2022-01-03T16:27:54.718Z"
   },
   {
    "duration": 212,
    "start_time": "2022-01-03T16:28:50.123Z"
   },
   {
    "duration": 213,
    "start_time": "2022-01-03T16:29:46.159Z"
   },
   {
    "duration": 208,
    "start_time": "2022-01-03T16:31:23.315Z"
   },
   {
    "duration": 136,
    "start_time": "2022-01-03T16:31:47.553Z"
   },
   {
    "duration": 165,
    "start_time": "2022-01-03T16:32:56.407Z"
   },
   {
    "duration": 137,
    "start_time": "2022-01-03T16:33:27.601Z"
   },
   {
    "duration": 134,
    "start_time": "2022-01-03T16:33:40.444Z"
   },
   {
    "duration": 22,
    "start_time": "2022-01-03T16:35:10.427Z"
   },
   {
    "duration": 26,
    "start_time": "2022-01-03T16:35:50.486Z"
   },
   {
    "duration": 21,
    "start_time": "2022-01-03T16:36:02.474Z"
   },
   {
    "duration": 20,
    "start_time": "2022-01-03T16:36:10.765Z"
   },
   {
    "duration": 20,
    "start_time": "2022-01-03T16:36:30.870Z"
   },
   {
    "duration": 25,
    "start_time": "2022-01-03T16:38:02.141Z"
   },
   {
    "duration": 307,
    "start_time": "2022-01-03T16:39:26.384Z"
   },
   {
    "duration": 513,
    "start_time": "2022-01-03T16:53:03.434Z"
   },
   {
    "duration": 373,
    "start_time": "2022-01-03T16:53:21.087Z"
   },
   {
    "duration": 82,
    "start_time": "2022-01-03T16:58:19.658Z"
   },
   {
    "duration": 634,
    "start_time": "2022-01-03T16:58:43.304Z"
   },
   {
    "duration": 379,
    "start_time": "2022-01-03T16:59:04.836Z"
   },
   {
    "duration": 380,
    "start_time": "2022-01-03T16:59:28.289Z"
   },
   {
    "duration": 85,
    "start_time": "2022-01-03T17:00:05.845Z"
   },
   {
    "duration": 89,
    "start_time": "2022-01-03T17:00:35.318Z"
   },
   {
    "duration": 84,
    "start_time": "2022-01-03T17:01:06.185Z"
   },
   {
    "duration": 85,
    "start_time": "2022-01-03T17:01:15.111Z"
   },
   {
    "duration": 615,
    "start_time": "2022-01-03T17:01:33.974Z"
   },
   {
    "duration": 85,
    "start_time": "2022-01-03T17:03:16.770Z"
   },
   {
    "duration": 88,
    "start_time": "2022-01-03T17:03:37.455Z"
   },
   {
    "duration": 114,
    "start_time": "2022-01-03T17:03:59.449Z"
   },
   {
    "duration": 376,
    "start_time": "2022-01-03T17:04:22.304Z"
   },
   {
    "duration": 388,
    "start_time": "2022-01-03T17:04:31.534Z"
   },
   {
    "duration": 25,
    "start_time": "2022-01-03T17:05:54.893Z"
   },
   {
    "duration": 23,
    "start_time": "2022-01-03T17:06:17.249Z"
   },
   {
    "duration": 2,
    "start_time": "2022-01-03T17:07:41.014Z"
   },
   {
    "duration": 163,
    "start_time": "2022-01-03T17:10:33.853Z"
   },
   {
    "duration": 132,
    "start_time": "2022-01-03T17:10:54.295Z"
   },
   {
    "duration": 133,
    "start_time": "2022-01-03T17:11:03.346Z"
   },
   {
    "duration": 131,
    "start_time": "2022-01-03T17:11:56.950Z"
   },
   {
    "duration": 134,
    "start_time": "2022-01-03T17:14:09.612Z"
   },
   {
    "duration": 131,
    "start_time": "2022-01-03T17:14:27.195Z"
   },
   {
    "duration": 598,
    "start_time": "2022-01-03T17:16:42.201Z"
   },
   {
    "duration": 305,
    "start_time": "2022-01-03T17:17:27.262Z"
   },
   {
    "duration": 308,
    "start_time": "2022-01-03T18:20:19.595Z"
   },
   {
    "duration": 306,
    "start_time": "2022-01-03T18:21:36.159Z"
   },
   {
    "duration": 297,
    "start_time": "2022-01-03T18:22:13.131Z"
   },
   {
    "duration": 268,
    "start_time": "2022-01-03T18:22:28.909Z"
   },
   {
    "duration": 134,
    "start_time": "2022-01-03T18:24:25.692Z"
   },
   {
    "duration": 138,
    "start_time": "2022-01-03T18:25:15.377Z"
   },
   {
    "duration": 132,
    "start_time": "2022-01-03T18:25:33.311Z"
   },
   {
    "duration": 140,
    "start_time": "2022-01-03T18:45:49.554Z"
   },
   {
    "duration": 132,
    "start_time": "2022-01-03T18:46:07.073Z"
   },
   {
    "duration": 38,
    "start_time": "2022-01-03T18:47:35.856Z"
   },
   {
    "duration": 130,
    "start_time": "2022-01-03T18:48:44.245Z"
   },
   {
    "duration": 37,
    "start_time": "2022-01-03T18:48:50.941Z"
   },
   {
    "duration": 8,
    "start_time": "2022-01-03T18:51:18.918Z"
   },
   {
    "duration": 7,
    "start_time": "2022-01-03T18:51:36.196Z"
   },
   {
    "duration": 9,
    "start_time": "2022-01-03T18:52:00.154Z"
   },
   {
    "duration": 37,
    "start_time": "2022-01-03T18:52:09.559Z"
   },
   {
    "duration": 9,
    "start_time": "2022-01-03T18:53:12.487Z"
   },
   {
    "duration": 8,
    "start_time": "2022-01-03T18:53:28.566Z"
   },
   {
    "duration": 1049,
    "start_time": "2022-01-03T19:02:01.793Z"
   },
   {
    "duration": 1548,
    "start_time": "2022-01-03T19:02:50.485Z"
   },
   {
    "duration": 974,
    "start_time": "2022-01-03T19:03:12.508Z"
   },
   {
    "duration": 993,
    "start_time": "2022-01-03T19:04:07.310Z"
   },
   {
    "duration": 975,
    "start_time": "2022-01-03T19:04:20.995Z"
   },
   {
    "duration": 26,
    "start_time": "2022-01-03T19:05:25.483Z"
   },
   {
    "duration": 1098,
    "start_time": "2022-01-03T19:06:13.653Z"
   },
   {
    "duration": 1213,
    "start_time": "2022-01-03T19:06:27.364Z"
   },
   {
    "duration": 1030,
    "start_time": "2022-01-03T19:07:10.921Z"
   },
   {
    "duration": 44,
    "start_time": "2022-01-03T19:08:31.514Z"
   },
   {
    "duration": 834,
    "start_time": "2022-01-03T19:08:57.831Z"
   },
   {
    "duration": 83,
    "start_time": "2022-01-03T19:08:58.667Z"
   },
   {
    "duration": 25,
    "start_time": "2022-01-03T19:08:58.752Z"
   },
   {
    "duration": 437,
    "start_time": "2022-01-03T19:08:58.779Z"
   },
   {
    "duration": 10,
    "start_time": "2022-01-03T19:08:59.218Z"
   },
   {
    "duration": 21,
    "start_time": "2022-01-03T19:08:59.230Z"
   },
   {
    "duration": 548,
    "start_time": "2022-01-03T19:08:59.252Z"
   },
   {
    "duration": 1019,
    "start_time": "2022-01-03T19:08:59.802Z"
   },
   {
    "duration": 18,
    "start_time": "2022-01-03T19:09:00.823Z"
   },
   {
    "duration": 3,
    "start_time": "2022-01-03T19:09:00.843Z"
   },
   {
    "duration": 3971,
    "start_time": "2022-01-03T19:09:00.848Z"
   },
   {
    "duration": 172,
    "start_time": "2022-01-03T19:09:04.822Z"
   },
   {
    "duration": 467,
    "start_time": "2022-01-03T19:09:04.996Z"
   },
   {
    "duration": 22,
    "start_time": "2022-01-03T19:09:05.465Z"
   },
   {
    "duration": 153,
    "start_time": "2022-01-03T19:09:05.489Z"
   },
   {
    "duration": 310,
    "start_time": "2022-01-03T19:09:05.644Z"
   },
   {
    "duration": 3106,
    "start_time": "2022-01-03T19:12:54.462Z"
   },
   {
    "duration": 2897,
    "start_time": "2022-01-03T19:19:40.764Z"
   },
   {
    "duration": 3090,
    "start_time": "2022-01-03T19:20:54.861Z"
   },
   {
    "duration": 4022,
    "start_time": "2022-01-03T19:21:20.235Z"
   },
   {
    "duration": 82,
    "start_time": "2022-01-03T19:23:12.299Z"
   },
   {
    "duration": 2967,
    "start_time": "2022-01-03T19:23:44.819Z"
   },
   {
    "duration": 3065,
    "start_time": "2022-01-03T19:24:06.068Z"
   },
   {
    "duration": 3143,
    "start_time": "2022-01-03T19:25:36.766Z"
   },
   {
    "duration": 3092,
    "start_time": "2022-01-03T19:26:04.998Z"
   },
   {
    "duration": 2898,
    "start_time": "2022-01-03T19:26:20.625Z"
   },
   {
    "duration": 32,
    "start_time": "2022-01-03T19:26:37.390Z"
   },
   {
    "duration": 3027,
    "start_time": "2022-01-03T19:28:12.447Z"
   },
   {
    "duration": 2899,
    "start_time": "2022-01-03T19:28:42.991Z"
   },
   {
    "duration": 3319,
    "start_time": "2022-01-03T19:29:14.643Z"
   },
   {
    "duration": 3038,
    "start_time": "2022-01-03T19:36:06.767Z"
   },
   {
    "duration": 29,
    "start_time": "2022-01-03T19:36:37.338Z"
   },
   {
    "duration": 19,
    "start_time": "2022-01-03T19:38:33.031Z"
   },
   {
    "duration": 18,
    "start_time": "2022-01-03T19:39:19.225Z"
   },
   {
    "duration": 26,
    "start_time": "2022-01-03T19:39:44.047Z"
   },
   {
    "duration": 8,
    "start_time": "2022-01-03T19:40:17.978Z"
   },
   {
    "duration": 9,
    "start_time": "2022-01-03T19:40:35.708Z"
   },
   {
    "duration": 10,
    "start_time": "2022-01-03T19:41:17.694Z"
   },
   {
    "duration": 11,
    "start_time": "2022-01-03T19:41:24.910Z"
   },
   {
    "duration": 9,
    "start_time": "2022-01-03T19:42:51.776Z"
   },
   {
    "duration": 5970,
    "start_time": "2022-01-03T19:45:37.050Z"
   },
   {
    "duration": 4649,
    "start_time": "2022-01-03T19:50:29.990Z"
   },
   {
    "duration": 11,
    "start_time": "2022-01-03T19:51:34.342Z"
   },
   {
    "duration": 96,
    "start_time": "2022-01-03T19:52:36.413Z"
   },
   {
    "duration": 3961,
    "start_time": "2022-01-03T19:52:41.266Z"
   },
   {
    "duration": 4096,
    "start_time": "2022-01-03T19:55:47.185Z"
   },
   {
    "duration": 4308,
    "start_time": "2022-01-03T19:56:08.233Z"
   },
   {
    "duration": 3270,
    "start_time": "2022-01-03T19:57:48.006Z"
   },
   {
    "duration": 3185,
    "start_time": "2022-01-03T19:58:20.695Z"
   },
   {
    "duration": 83,
    "start_time": "2022-01-03T19:58:32.488Z"
   },
   {
    "duration": 850,
    "start_time": "2022-01-03T20:00:57.740Z"
   },
   {
    "duration": 117,
    "start_time": "2022-01-03T20:00:58.592Z"
   },
   {
    "duration": 25,
    "start_time": "2022-01-03T20:00:58.712Z"
   },
   {
    "duration": 480,
    "start_time": "2022-01-03T20:00:58.739Z"
   },
   {
    "duration": 13,
    "start_time": "2022-01-03T20:00:59.220Z"
   },
   {
    "duration": 38,
    "start_time": "2022-01-03T20:00:59.235Z"
   },
   {
    "duration": 835,
    "start_time": "2022-01-03T20:00:59.275Z"
   },
   {
    "duration": 1077,
    "start_time": "2022-01-03T20:01:00.113Z"
   },
   {
    "duration": 27,
    "start_time": "2022-01-03T20:01:01.192Z"
   },
   {
    "duration": 20,
    "start_time": "2022-01-03T20:01:01.221Z"
   },
   {
    "duration": 4506,
    "start_time": "2022-01-03T20:01:01.243Z"
   },
   {
    "duration": 178,
    "start_time": "2022-01-03T20:01:05.751Z"
   },
   {
    "duration": 496,
    "start_time": "2022-01-03T20:01:05.931Z"
   },
   {
    "duration": 39,
    "start_time": "2022-01-03T20:01:06.429Z"
   },
   {
    "duration": 153,
    "start_time": "2022-01-03T20:01:06.470Z"
   },
   {
    "duration": 341,
    "start_time": "2022-01-03T20:01:06.625Z"
   },
   {
    "duration": 14,
    "start_time": "2022-01-03T20:01:06.968Z"
   },
   {
    "duration": 11,
    "start_time": "2022-01-03T20:01:48.690Z"
   },
   {
    "duration": 4994,
    "start_time": "2022-01-03T20:03:50.192Z"
   },
   {
    "duration": 3005,
    "start_time": "2022-01-03T20:04:05.330Z"
   },
   {
    "duration": 13,
    "start_time": "2022-01-03T20:04:33.078Z"
   },
   {
    "duration": 3061,
    "start_time": "2022-01-03T20:09:56.399Z"
   },
   {
    "duration": 3518,
    "start_time": "2022-01-03T20:25:37.506Z"
   },
   {
    "duration": 82,
    "start_time": "2022-01-03T20:26:08.317Z"
   },
   {
    "duration": 94,
    "start_time": "2022-01-03T20:26:26.085Z"
   },
   {
    "duration": 85,
    "start_time": "2022-01-03T20:26:31.139Z"
   },
   {
    "duration": 88,
    "start_time": "2022-01-03T20:26:39.548Z"
   },
   {
    "duration": 3172,
    "start_time": "2022-01-03T20:28:36.351Z"
   },
   {
    "duration": 3192,
    "start_time": "2022-01-03T20:29:51.387Z"
   },
   {
    "duration": 3005,
    "start_time": "2022-01-03T20:30:22.269Z"
   },
   {
    "duration": 3025,
    "start_time": "2022-01-03T20:31:32.547Z"
   },
   {
    "duration": 3190,
    "start_time": "2022-01-03T20:31:42.762Z"
   },
   {
    "duration": 3407,
    "start_time": "2022-01-03T20:32:11.053Z"
   },
   {
    "duration": 3074,
    "start_time": "2022-01-03T20:32:31.624Z"
   },
   {
    "duration": 3065,
    "start_time": "2022-01-03T20:34:11.200Z"
   },
   {
    "duration": 3015,
    "start_time": "2022-01-03T20:34:20.221Z"
   },
   {
    "duration": 11,
    "start_time": "2022-01-03T20:34:42.264Z"
   },
   {
    "duration": 8,
    "start_time": "2022-01-03T20:34:49.748Z"
   },
   {
    "duration": 9,
    "start_time": "2022-01-03T20:35:17.296Z"
   },
   {
    "duration": 3558,
    "start_time": "2022-01-03T20:45:10.266Z"
   },
   {
    "duration": 3518,
    "start_time": "2022-01-03T20:49:33.387Z"
   },
   {
    "duration": 3149,
    "start_time": "2022-01-03T20:50:02.768Z"
   },
   {
    "duration": 4434,
    "start_time": "2022-01-03T20:50:10.508Z"
   },
   {
    "duration": 3301,
    "start_time": "2022-01-03T20:50:21.040Z"
   },
   {
    "duration": 3107,
    "start_time": "2022-01-03T20:51:53.602Z"
   },
   {
    "duration": 3266,
    "start_time": "2022-01-03T20:52:29.040Z"
   },
   {
    "duration": 3092,
    "start_time": "2022-01-03T20:54:27.446Z"
   },
   {
    "duration": 683,
    "start_time": "2022-01-03T20:55:52.199Z"
   },
   {
    "duration": 3465,
    "start_time": "2022-01-03T20:56:23.275Z"
   },
   {
    "duration": 3372,
    "start_time": "2022-01-03T20:56:39.705Z"
   },
   {
    "duration": 3488,
    "start_time": "2022-01-03T20:56:55.019Z"
   },
   {
    "duration": 3534,
    "start_time": "2022-01-03T20:57:02.936Z"
   },
   {
    "duration": 3537,
    "start_time": "2022-01-03T21:04:28.943Z"
   },
   {
    "duration": 3489,
    "start_time": "2022-01-03T21:05:14.055Z"
   },
   {
    "duration": 3694,
    "start_time": "2022-01-03T21:05:45.823Z"
   },
   {
    "duration": 11474,
    "start_time": "2022-01-03T21:07:08.756Z"
   },
   {
    "duration": 3618,
    "start_time": "2022-01-03T21:15:31.606Z"
   },
   {
    "duration": 3758,
    "start_time": "2022-01-03T21:15:59.347Z"
   },
   {
    "duration": 3348,
    "start_time": "2022-01-03T21:19:12.773Z"
   },
   {
    "duration": 3577,
    "start_time": "2022-01-03T21:20:37.871Z"
   },
   {
    "duration": 3602,
    "start_time": "2022-01-03T21:20:56.277Z"
   },
   {
    "duration": 6754,
    "start_time": "2022-01-03T21:21:32.032Z"
   },
   {
    "duration": 3813,
    "start_time": "2022-01-03T21:21:52.904Z"
   },
   {
    "duration": 815,
    "start_time": "2022-01-03T21:22:31.651Z"
   },
   {
    "duration": 106,
    "start_time": "2022-01-03T21:22:32.468Z"
   },
   {
    "duration": 23,
    "start_time": "2022-01-03T21:22:32.576Z"
   },
   {
    "duration": 435,
    "start_time": "2022-01-03T21:22:32.601Z"
   },
   {
    "duration": 11,
    "start_time": "2022-01-03T21:22:33.038Z"
   },
   {
    "duration": 24,
    "start_time": "2022-01-03T21:22:33.052Z"
   },
   {
    "duration": 583,
    "start_time": "2022-01-03T21:22:33.078Z"
   },
   {
    "duration": 961,
    "start_time": "2022-01-03T21:22:33.664Z"
   },
   {
    "duration": 12,
    "start_time": "2022-01-03T21:22:34.627Z"
   },
   {
    "duration": 4,
    "start_time": "2022-01-03T21:22:34.641Z"
   },
   {
    "duration": 4385,
    "start_time": "2022-01-03T21:22:37.526Z"
   },
   {
    "duration": 10668,
    "start_time": "2022-01-03T21:23:15.437Z"
   },
   {
    "duration": 3331,
    "start_time": "2022-01-03T21:23:41.713Z"
   },
   {
    "duration": 3641,
    "start_time": "2022-01-03T21:23:58.604Z"
   },
   {
    "duration": 3605,
    "start_time": "2022-01-03T21:24:31.061Z"
   },
   {
    "duration": 3539,
    "start_time": "2022-01-03T21:25:04.352Z"
   },
   {
    "duration": 4310,
    "start_time": "2022-01-03T21:26:32.450Z"
   },
   {
    "duration": 4705,
    "start_time": "2022-01-03T21:26:46.137Z"
   },
   {
    "duration": 4288,
    "start_time": "2022-01-03T21:27:04.116Z"
   },
   {
    "duration": 3158,
    "start_time": "2022-01-03T21:27:37.543Z"
   },
   {
    "duration": 738,
    "start_time": "2022-01-03T21:27:57.089Z"
   },
   {
    "duration": 116,
    "start_time": "2022-01-03T21:27:57.829Z"
   },
   {
    "duration": 32,
    "start_time": "2022-01-03T21:27:57.947Z"
   },
   {
    "duration": 444,
    "start_time": "2022-01-03T21:27:57.981Z"
   },
   {
    "duration": 12,
    "start_time": "2022-01-03T21:27:58.427Z"
   },
   {
    "duration": 30,
    "start_time": "2022-01-03T21:27:58.441Z"
   },
   {
    "duration": 573,
    "start_time": "2022-01-03T21:27:58.473Z"
   },
   {
    "duration": 987,
    "start_time": "2022-01-03T21:27:59.048Z"
   },
   {
    "duration": 14,
    "start_time": "2022-01-03T21:28:00.037Z"
   },
   {
    "duration": 4,
    "start_time": "2022-01-03T21:28:00.061Z"
   },
   {
    "duration": 4000,
    "start_time": "2022-01-03T21:28:00.067Z"
   },
   {
    "duration": 153,
    "start_time": "2022-01-03T21:28:04.069Z"
   },
   {
    "duration": 466,
    "start_time": "2022-01-03T21:28:04.224Z"
   },
   {
    "duration": 23,
    "start_time": "2022-01-03T21:28:04.692Z"
   },
   {
    "duration": 172,
    "start_time": "2022-01-03T21:28:04.717Z"
   },
   {
    "duration": 315,
    "start_time": "2022-01-03T21:28:04.890Z"
   },
   {
    "duration": 8,
    "start_time": "2022-01-03T21:28:05.207Z"
   },
   {
    "duration": 3105,
    "start_time": "2022-01-03T21:28:23.539Z"
   },
   {
    "duration": 761,
    "start_time": "2022-01-03T21:28:38.101Z"
   },
   {
    "duration": 100,
    "start_time": "2022-01-03T21:28:38.864Z"
   },
   {
    "duration": 22,
    "start_time": "2022-01-03T21:28:38.966Z"
   },
   {
    "duration": 435,
    "start_time": "2022-01-03T21:28:38.990Z"
   },
   {
    "duration": 11,
    "start_time": "2022-01-03T21:28:39.426Z"
   },
   {
    "duration": 40,
    "start_time": "2022-01-03T21:28:39.439Z"
   },
   {
    "duration": 595,
    "start_time": "2022-01-03T21:28:39.480Z"
   },
   {
    "duration": 967,
    "start_time": "2022-01-03T21:28:40.077Z"
   },
   {
    "duration": 16,
    "start_time": "2022-01-03T21:28:41.046Z"
   },
   {
    "duration": 4,
    "start_time": "2022-01-03T21:28:41.064Z"
   },
   {
    "duration": 3895,
    "start_time": "2022-01-03T21:28:41.069Z"
   },
   {
    "duration": 10301,
    "start_time": "2022-01-03T21:29:53.386Z"
   },
   {
    "duration": 11119,
    "start_time": "2022-01-03T21:30:24.162Z"
   },
   {
    "duration": 3113,
    "start_time": "2022-01-03T21:30:55.754Z"
   },
   {
    "duration": 3206,
    "start_time": "2022-01-03T21:31:07.263Z"
   },
   {
    "duration": 3407,
    "start_time": "2022-01-03T21:51:38.242Z"
   },
   {
    "duration": 772,
    "start_time": "2022-01-03T21:51:56.565Z"
   },
   {
    "duration": 97,
    "start_time": "2022-01-03T21:51:57.339Z"
   },
   {
    "duration": 33,
    "start_time": "2022-01-03T21:51:57.438Z"
   },
   {
    "duration": 428,
    "start_time": "2022-01-03T21:51:57.473Z"
   },
   {
    "duration": 12,
    "start_time": "2022-01-03T21:51:57.903Z"
   },
   {
    "duration": 19,
    "start_time": "2022-01-03T21:51:57.916Z"
   },
   {
    "duration": 581,
    "start_time": "2022-01-03T21:51:57.936Z"
   },
   {
    "duration": 964,
    "start_time": "2022-01-03T21:51:58.519Z"
   },
   {
    "duration": 12,
    "start_time": "2022-01-03T21:51:59.485Z"
   },
   {
    "duration": 4,
    "start_time": "2022-01-03T21:51:59.498Z"
   },
   {
    "duration": 4314,
    "start_time": "2022-01-03T21:51:59.504Z"
   },
   {
    "duration": 5089,
    "start_time": "2022-01-03T21:52:10.884Z"
   },
   {
    "duration": 2987,
    "start_time": "2022-01-03T21:52:43.905Z"
   },
   {
    "duration": 3114,
    "start_time": "2022-01-03T21:54:54.326Z"
   },
   {
    "duration": 3220,
    "start_time": "2022-01-03T21:57:11.011Z"
   },
   {
    "duration": 2924,
    "start_time": "2022-01-03T21:58:01.880Z"
   },
   {
    "duration": 2870,
    "start_time": "2022-01-03T21:58:11.100Z"
   },
   {
    "duration": 3196,
    "start_time": "2022-01-03T21:58:47.666Z"
   },
   {
    "duration": 3318,
    "start_time": "2022-01-03T21:59:01.704Z"
   },
   {
    "duration": 3149,
    "start_time": "2022-01-03T21:59:27.858Z"
   },
   {
    "duration": 10,
    "start_time": "2022-01-03T22:00:37.923Z"
   },
   {
    "duration": 87,
    "start_time": "2022-01-03T22:03:29.453Z"
   },
   {
    "duration": 853,
    "start_time": "2022-01-03T22:05:36.230Z"
   },
   {
    "duration": 113,
    "start_time": "2022-01-03T22:05:37.085Z"
   },
   {
    "duration": 28,
    "start_time": "2022-01-03T22:05:37.200Z"
   },
   {
    "duration": 494,
    "start_time": "2022-01-03T22:05:37.230Z"
   },
   {
    "duration": 11,
    "start_time": "2022-01-03T22:05:37.726Z"
   },
   {
    "duration": 34,
    "start_time": "2022-01-03T22:05:37.740Z"
   },
   {
    "duration": 579,
    "start_time": "2022-01-03T22:05:37.775Z"
   },
   {
    "duration": 1078,
    "start_time": "2022-01-03T22:05:38.356Z"
   },
   {
    "duration": 12,
    "start_time": "2022-01-03T22:05:39.435Z"
   },
   {
    "duration": 14,
    "start_time": "2022-01-03T22:05:39.448Z"
   },
   {
    "duration": 5409,
    "start_time": "2022-01-03T22:05:39.464Z"
   },
   {
    "duration": 3155,
    "start_time": "2022-01-03T22:06:41.144Z"
   },
   {
    "duration": 784,
    "start_time": "2022-01-03T22:08:30.018Z"
   },
   {
    "duration": 109,
    "start_time": "2022-01-03T22:08:30.804Z"
   },
   {
    "duration": 22,
    "start_time": "2022-01-03T22:08:30.915Z"
   },
   {
    "duration": 434,
    "start_time": "2022-01-03T22:08:30.940Z"
   },
   {
    "duration": 12,
    "start_time": "2022-01-03T22:08:31.375Z"
   },
   {
    "duration": 24,
    "start_time": "2022-01-03T22:08:31.389Z"
   },
   {
    "duration": 577,
    "start_time": "2022-01-03T22:08:31.415Z"
   },
   {
    "duration": 974,
    "start_time": "2022-01-03T22:08:31.995Z"
   },
   {
    "duration": 13,
    "start_time": "2022-01-03T22:08:32.972Z"
   },
   {
    "duration": 8,
    "start_time": "2022-01-03T22:08:32.986Z"
   },
   {
    "duration": 3673,
    "start_time": "2022-01-03T22:08:32.996Z"
   },
   {
    "duration": 218,
    "start_time": "2022-01-03T22:08:36.671Z"
   },
   {
    "duration": 399,
    "start_time": "2022-01-03T22:08:36.891Z"
   },
   {
    "duration": 24,
    "start_time": "2022-01-03T22:08:37.292Z"
   },
   {
    "duration": 148,
    "start_time": "2022-01-03T22:08:37.318Z"
   },
   {
    "duration": 308,
    "start_time": "2022-01-03T22:08:37.468Z"
   },
   {
    "duration": 3119,
    "start_time": "2022-01-03T22:09:03.048Z"
   },
   {
    "duration": 36,
    "start_time": "2022-01-04T08:18:16.923Z"
   },
   {
    "duration": 113,
    "start_time": "2022-01-04T08:20:42.679Z"
   },
   {
    "duration": 117,
    "start_time": "2022-01-04T08:21:04.163Z"
   },
   {
    "duration": 51,
    "start_time": "2022-01-04T08:21:20.793Z"
   },
   {
    "duration": 92,
    "start_time": "2022-01-04T08:23:18.471Z"
   },
   {
    "duration": 325,
    "start_time": "2022-01-04T08:23:26.160Z"
   },
   {
    "duration": 269,
    "start_time": "2022-01-04T08:23:34.968Z"
   },
   {
    "duration": 28,
    "start_time": "2022-01-04T08:23:40.999Z"
   },
   {
    "duration": 21,
    "start_time": "2022-01-04T08:27:56.104Z"
   },
   {
    "duration": 21,
    "start_time": "2022-01-04T08:28:11.381Z"
   },
   {
    "duration": 16,
    "start_time": "2022-01-04T08:28:27.837Z"
   },
   {
    "duration": 26,
    "start_time": "2022-01-04T08:29:34.419Z"
   },
   {
    "duration": 29,
    "start_time": "2022-01-04T08:31:55.723Z"
   },
   {
    "duration": 647,
    "start_time": "2022-01-04T08:33:30.624Z"
   },
   {
    "duration": 663,
    "start_time": "2022-01-04T08:36:58.085Z"
   },
   {
    "duration": 800,
    "start_time": "2022-01-04T08:37:12.700Z"
   },
   {
    "duration": 285,
    "start_time": "2022-01-04T08:39:01.860Z"
   },
   {
    "duration": 31,
    "start_time": "2022-01-04T08:39:54.604Z"
   },
   {
    "duration": 592,
    "start_time": "2022-01-04T08:57:38.544Z"
   },
   {
    "duration": 140,
    "start_time": "2022-01-04T09:01:00.235Z"
   },
   {
    "duration": 132,
    "start_time": "2022-01-04T09:02:53.279Z"
   },
   {
    "duration": 137,
    "start_time": "2022-01-04T09:03:10.945Z"
   },
   {
    "duration": 289,
    "start_time": "2022-01-04T09:06:08.936Z"
   },
   {
    "duration": 222,
    "start_time": "2022-01-04T09:06:27.105Z"
   },
   {
    "duration": 191,
    "start_time": "2022-01-04T09:06:35.828Z"
   },
   {
    "duration": 263,
    "start_time": "2022-01-04T09:06:46.435Z"
   },
   {
    "duration": 162,
    "start_time": "2022-01-04T09:07:06.571Z"
   },
   {
    "duration": 195,
    "start_time": "2022-01-04T09:09:52.269Z"
   },
   {
    "duration": 183,
    "start_time": "2022-01-04T09:11:02.148Z"
   },
   {
    "duration": 164,
    "start_time": "2022-01-04T09:11:19.561Z"
   },
   {
    "duration": 156,
    "start_time": "2022-01-04T09:12:28.729Z"
   },
   {
    "duration": 162,
    "start_time": "2022-01-04T09:12:40.150Z"
   },
   {
    "duration": 366,
    "start_time": "2022-01-04T09:13:13.773Z"
   },
   {
    "duration": 156,
    "start_time": "2022-01-04T09:13:20.640Z"
   },
   {
    "duration": 160,
    "start_time": "2022-01-04T09:13:27.318Z"
   },
   {
    "duration": 158,
    "start_time": "2022-01-04T09:13:44.286Z"
   },
   {
    "duration": 163,
    "start_time": "2022-01-04T09:13:51.151Z"
   },
   {
    "duration": 259,
    "start_time": "2022-01-04T09:13:57.903Z"
   },
   {
    "duration": 179,
    "start_time": "2022-01-04T09:14:12.526Z"
   },
   {
    "duration": 178,
    "start_time": "2022-01-04T09:14:23.088Z"
   },
   {
    "duration": 90,
    "start_time": "2022-01-04T09:14:44.056Z"
   },
   {
    "duration": 181,
    "start_time": "2022-01-04T09:14:50.439Z"
   },
   {
    "duration": 202,
    "start_time": "2022-01-04T09:14:55.064Z"
   },
   {
    "duration": 177,
    "start_time": "2022-01-04T09:15:14.874Z"
   },
   {
    "duration": 177,
    "start_time": "2022-01-04T09:15:31.487Z"
   },
   {
    "duration": 164,
    "start_time": "2022-01-04T09:16:33.887Z"
   },
   {
    "duration": 176,
    "start_time": "2022-01-04T09:16:42.029Z"
   },
   {
    "duration": 187,
    "start_time": "2022-01-04T09:16:47.312Z"
   },
   {
    "duration": 167,
    "start_time": "2022-01-04T09:16:53.001Z"
   },
   {
    "duration": 261,
    "start_time": "2022-01-04T09:17:11.528Z"
   },
   {
    "duration": 288,
    "start_time": "2022-01-04T09:25:43.565Z"
   },
   {
    "duration": 7,
    "start_time": "2022-01-04T09:26:13.442Z"
   },
   {
    "duration": 12,
    "start_time": "2022-01-04T09:26:55.224Z"
   },
   {
    "duration": 10,
    "start_time": "2022-01-04T09:27:05.008Z"
   },
   {
    "duration": 11,
    "start_time": "2022-01-04T09:28:07.863Z"
   },
   {
    "duration": 70,
    "start_time": "2022-01-04T09:29:17.003Z"
   },
   {
    "duration": 9,
    "start_time": "2022-01-04T09:34:00.769Z"
   },
   {
    "duration": 89,
    "start_time": "2022-01-04T09:35:15.014Z"
   },
   {
    "duration": 14,
    "start_time": "2022-01-04T09:36:34.165Z"
   },
   {
    "duration": 16,
    "start_time": "2022-01-04T09:41:01.454Z"
   },
   {
    "duration": 14,
    "start_time": "2022-01-04T09:41:46.915Z"
   },
   {
    "duration": 21,
    "start_time": "2022-01-04T09:43:58.922Z"
   },
   {
    "duration": 21,
    "start_time": "2022-01-04T09:44:25.372Z"
   },
   {
    "duration": 19,
    "start_time": "2022-01-04T09:44:42.266Z"
   },
   {
    "duration": 26,
    "start_time": "2022-01-04T09:45:42.454Z"
   },
   {
    "duration": 27,
    "start_time": "2022-01-04T09:48:21.123Z"
   },
   {
    "duration": 20,
    "start_time": "2022-01-04T09:49:19.867Z"
   },
   {
    "duration": 84,
    "start_time": "2022-01-04T09:49:43.492Z"
   },
   {
    "duration": 222,
    "start_time": "2022-01-04T09:49:50.015Z"
   },
   {
    "duration": 248,
    "start_time": "2022-01-04T09:49:57.721Z"
   },
   {
    "duration": 251,
    "start_time": "2022-01-04T09:50:07.992Z"
   },
   {
    "duration": 111,
    "start_time": "2022-01-04T09:50:24.815Z"
   },
   {
    "duration": 10,
    "start_time": "2022-01-04T09:50:32.116Z"
   },
   {
    "duration": 12,
    "start_time": "2022-01-04T09:52:18.631Z"
   },
   {
    "duration": 12,
    "start_time": "2022-01-04T09:52:41.682Z"
   },
   {
    "duration": 17,
    "start_time": "2022-01-04T09:52:48.298Z"
   },
   {
    "duration": 126,
    "start_time": "2022-01-04T10:01:05.167Z"
   },
   {
    "duration": 86,
    "start_time": "2022-01-04T10:03:19.565Z"
   },
   {
    "duration": 135,
    "start_time": "2022-01-04T10:03:29.333Z"
   },
   {
    "duration": 143,
    "start_time": "2022-01-04T10:04:38.527Z"
   },
   {
    "duration": 148,
    "start_time": "2022-01-04T10:05:47.625Z"
   },
   {
    "duration": 282,
    "start_time": "2022-01-04T10:09:08.440Z"
   },
   {
    "duration": 237,
    "start_time": "2022-01-04T10:09:34.986Z"
   },
   {
    "duration": 276,
    "start_time": "2022-01-04T10:09:44.954Z"
   },
   {
    "duration": 215,
    "start_time": "2022-01-04T14:02:46.227Z"
   },
   {
    "duration": 221,
    "start_time": "2022-01-04T14:04:59.625Z"
   },
   {
    "duration": 225,
    "start_time": "2022-01-04T14:05:33.246Z"
   },
   {
    "duration": 336,
    "start_time": "2022-01-04T14:06:09.302Z"
   },
   {
    "duration": 268,
    "start_time": "2022-01-04T14:07:33.066Z"
   },
   {
    "duration": 283,
    "start_time": "2022-01-04T14:08:17.592Z"
   },
   {
    "duration": 266,
    "start_time": "2022-01-04T14:08:52.558Z"
   },
   {
    "duration": 251,
    "start_time": "2022-01-04T14:12:36.258Z"
   },
   {
    "duration": 9,
    "start_time": "2022-01-04T14:20:01.443Z"
   },
   {
    "duration": 269,
    "start_time": "2022-01-04T14:22:17.486Z"
   },
   {
    "duration": 15,
    "start_time": "2022-01-04T14:22:34.480Z"
   },
   {
    "duration": 155,
    "start_time": "2022-01-04T15:00:30.145Z"
   },
   {
    "duration": 188,
    "start_time": "2022-01-04T15:00:46.644Z"
   },
   {
    "duration": 204,
    "start_time": "2022-01-04T15:01:01.135Z"
   },
   {
    "duration": 150,
    "start_time": "2022-01-04T15:01:55.041Z"
   },
   {
    "duration": 198,
    "start_time": "2022-01-04T15:02:07.799Z"
   },
   {
    "duration": 153,
    "start_time": "2022-01-04T15:02:15.318Z"
   },
   {
    "duration": 136,
    "start_time": "2022-01-04T15:02:24.013Z"
   },
   {
    "duration": 234,
    "start_time": "2022-01-04T15:02:36.961Z"
   },
   {
    "duration": 153,
    "start_time": "2022-01-04T15:07:13.699Z"
   },
   {
    "duration": 147,
    "start_time": "2022-01-04T15:13:49.899Z"
   },
   {
    "duration": 2331,
    "start_time": "2022-01-04T15:16:00.788Z"
   },
   {
    "duration": 2285,
    "start_time": "2022-01-04T15:16:11.385Z"
   },
   {
    "duration": 2571,
    "start_time": "2022-01-04T15:16:57.635Z"
   },
   {
    "duration": 546,
    "start_time": "2022-01-04T15:17:20.182Z"
   },
   {
    "duration": 536,
    "start_time": "2022-01-04T15:17:50.830Z"
   },
   {
    "duration": 586,
    "start_time": "2022-01-04T15:18:42.441Z"
   },
   {
    "duration": 572,
    "start_time": "2022-01-04T15:23:06.416Z"
   },
   {
    "duration": 85,
    "start_time": "2022-01-04T18:25:09.754Z"
   },
   {
    "duration": 6328,
    "start_time": "2022-01-04T18:25:40.936Z"
   },
   {
    "duration": 253,
    "start_time": "2022-01-04T19:15:11.348Z"
   },
   {
    "duration": 280,
    "start_time": "2022-01-04T19:16:00.311Z"
   },
   {
    "duration": 827,
    "start_time": "2022-01-04T19:16:36.410Z"
   },
   {
    "duration": 327,
    "start_time": "2022-01-04T19:16:39.039Z"
   },
   {
    "duration": 34,
    "start_time": "2022-01-04T19:20:08.238Z"
   },
   {
    "duration": 761,
    "start_time": "2022-01-04T19:26:18.552Z"
   },
   {
    "duration": 52,
    "start_time": "2022-01-04T19:26:23.285Z"
   },
   {
    "duration": 53,
    "start_time": "2022-01-04T19:34:33.540Z"
   },
   {
    "duration": 752,
    "start_time": "2022-01-04T20:15:55.262Z"
   },
   {
    "duration": 83,
    "start_time": "2022-01-04T20:15:58.534Z"
   },
   {
    "duration": 432,
    "start_time": "2022-01-04T20:16:51.234Z"
   },
   {
    "duration": 88,
    "start_time": "2022-01-04T20:17:08.113Z"
   },
   {
    "duration": 125,
    "start_time": "2022-01-04T20:17:18.669Z"
   },
   {
    "duration": 74,
    "start_time": "2022-01-04T20:18:28.336Z"
   },
   {
    "duration": 82,
    "start_time": "2022-01-04T20:41:42.519Z"
   },
   {
    "duration": 68,
    "start_time": "2022-01-04T20:41:53.204Z"
   },
   {
    "duration": 80,
    "start_time": "2022-01-04T20:49:40.412Z"
   },
   {
    "duration": 83,
    "start_time": "2022-01-04T20:50:09.163Z"
   },
   {
    "duration": 93,
    "start_time": "2022-01-04T20:50:39.996Z"
   },
   {
    "duration": 83,
    "start_time": "2022-01-04T20:51:05.791Z"
   },
   {
    "duration": 83,
    "start_time": "2022-01-04T20:51:14.297Z"
   },
   {
    "duration": 89,
    "start_time": "2022-01-04T20:51:25.643Z"
   },
   {
    "duration": 221,
    "start_time": "2022-01-04T20:51:34.637Z"
   },
   {
    "duration": 49,
    "start_time": "2022-01-04T20:52:53.616Z"
   },
   {
    "duration": 799,
    "start_time": "2022-01-04T20:53:24.027Z"
   },
   {
    "duration": 62,
    "start_time": "2022-01-04T20:53:24.828Z"
   },
   {
    "duration": 1056,
    "start_time": "2022-01-06T09:45:14.145Z"
   },
   {
    "duration": 401,
    "start_time": "2022-01-06T09:45:15.204Z"
   },
   {
    "duration": 6,
    "start_time": "2022-01-06T09:45:15.602Z"
   },
   {
    "duration": 5,
    "start_time": "2022-01-06T09:45:15.605Z"
   },
   {
    "duration": 2,
    "start_time": "2022-01-06T09:45:15.610Z"
   },
   {
    "duration": -3,
    "start_time": "2022-01-06T09:45:15.616Z"
   },
   {
    "duration": -4,
    "start_time": "2022-01-06T09:45:15.619Z"
   },
   {
    "duration": -6,
    "start_time": "2022-01-06T09:45:15.622Z"
   },
   {
    "duration": -7,
    "start_time": "2022-01-06T09:45:15.625Z"
   },
   {
    "duration": -8,
    "start_time": "2022-01-06T09:45:15.627Z"
   },
   {
    "duration": -10,
    "start_time": "2022-01-06T09:45:15.631Z"
   },
   {
    "duration": -11,
    "start_time": "2022-01-06T09:45:15.633Z"
   },
   {
    "duration": -12,
    "start_time": "2022-01-06T09:45:15.636Z"
   },
   {
    "duration": -13,
    "start_time": "2022-01-06T09:45:15.638Z"
   },
   {
    "duration": -14,
    "start_time": "2022-01-06T09:45:15.640Z"
   },
   {
    "duration": -14,
    "start_time": "2022-01-06T09:45:15.642Z"
   },
   {
    "duration": -21,
    "start_time": "2022-01-06T09:45:15.650Z"
   },
   {
    "duration": -24,
    "start_time": "2022-01-06T09:45:15.655Z"
   },
   {
    "duration": -27,
    "start_time": "2022-01-06T09:45:15.659Z"
   },
   {
    "duration": -28,
    "start_time": "2022-01-06T09:45:15.661Z"
   },
   {
    "duration": -29,
    "start_time": "2022-01-06T09:45:15.664Z"
   },
   {
    "duration": -30,
    "start_time": "2022-01-06T09:45:15.666Z"
   },
   {
    "duration": -31,
    "start_time": "2022-01-06T09:45:15.668Z"
   },
   {
    "duration": -32,
    "start_time": "2022-01-06T09:45:15.670Z"
   },
   {
    "duration": 624,
    "start_time": "2022-01-06T09:47:00.092Z"
   },
   {
    "duration": 329,
    "start_time": "2022-01-06T09:47:59.222Z"
   },
   {
    "duration": 1022,
    "start_time": "2022-01-06T09:48:21.001Z"
   },
   {
    "duration": 125,
    "start_time": "2022-01-06T09:48:22.027Z"
   },
   {
    "duration": 158,
    "start_time": "2022-01-06T09:49:02.932Z"
   },
   {
    "duration": 113,
    "start_time": "2022-01-06T09:49:03.093Z"
   },
   {
    "duration": 59,
    "start_time": "2022-01-06T09:49:03.209Z"
   },
   {
    "duration": 896,
    "start_time": "2022-01-06T09:49:03.271Z"
   },
   {
    "duration": 17,
    "start_time": "2022-01-06T09:49:04.169Z"
   },
   {
    "duration": 27,
    "start_time": "2022-01-06T09:49:04.189Z"
   },
   {
    "duration": 991,
    "start_time": "2022-01-06T09:49:04.219Z"
   },
   {
    "duration": 1618,
    "start_time": "2022-01-06T09:49:05.214Z"
   },
   {
    "duration": 15,
    "start_time": "2022-01-06T09:49:06.836Z"
   },
   {
    "duration": 18,
    "start_time": "2022-01-06T09:49:06.853Z"
   },
   {
    "duration": 5163,
    "start_time": "2022-01-06T09:49:06.873Z"
   },
   {
    "duration": 262,
    "start_time": "2022-01-06T09:49:12.039Z"
   },
   {
    "duration": 725,
    "start_time": "2022-01-06T09:49:12.303Z"
   },
   {
    "duration": 45,
    "start_time": "2022-01-06T09:49:13.031Z"
   },
   {
    "duration": 256,
    "start_time": "2022-01-06T09:49:13.079Z"
   },
   {
    "duration": 502,
    "start_time": "2022-01-06T09:49:13.337Z"
   },
   {
    "duration": 1102,
    "start_time": "2022-01-06T09:49:13.842Z"
   },
   {
    "duration": 259,
    "start_time": "2022-01-06T09:49:14.947Z"
   },
   {
    "duration": 292,
    "start_time": "2022-01-06T09:49:15.209Z"
   },
   {
    "duration": 264,
    "start_time": "2022-01-06T09:49:15.504Z"
   },
   {
    "duration": 407,
    "start_time": "2022-01-06T09:49:15.770Z"
   },
   {
    "duration": 482,
    "start_time": "2022-01-06T09:49:16.179Z"
   },
   {
    "duration": 1021,
    "start_time": "2022-01-06T09:49:16.669Z"
   },
   {
    "duration": 9159,
    "start_time": "2022-01-06T09:49:17.693Z"
   },
   {
    "duration": 1002,
    "start_time": "2022-01-06T09:49:56.405Z"
   },
   {
    "duration": 396,
    "start_time": "2022-01-06T09:54:42.742Z"
   },
   {
    "duration": 328,
    "start_time": "2022-01-06T09:56:07.864Z"
   },
   {
    "duration": 296,
    "start_time": "2022-01-06T09:57:28.840Z"
   },
   {
    "duration": 42,
    "start_time": "2022-01-06T09:58:28.376Z"
   },
   {
    "duration": 290,
    "start_time": "2022-01-06T09:59:59.053Z"
   },
   {
    "duration": 318,
    "start_time": "2022-01-06T10:00:32.464Z"
   },
   {
    "duration": -9,
    "start_time": "2022-01-06T10:01:53.686Z"
   },
   {
    "duration": -19,
    "start_time": "2022-01-06T10:03:01.498Z"
   },
   {
    "duration": 8014,
    "start_time": "2022-01-06T10:03:19.944Z"
   },
   {
    "duration": 3,
    "start_time": "2022-01-06T10:10:09.981Z"
   },
   {
    "duration": 46,
    "start_time": "2022-01-06T10:30:39.006Z"
   },
   {
    "duration": 41,
    "start_time": "2022-01-06T10:30:51.754Z"
   },
   {
    "duration": 1093,
    "start_time": "2022-01-06T10:33:36.050Z"
   },
   {
    "duration": 41,
    "start_time": "2022-01-06T10:33:48.757Z"
   },
   {
    "duration": 136,
    "start_time": "2022-01-06T10:34:07.646Z"
   },
   {
    "duration": 107,
    "start_time": "2022-01-06T10:34:07.785Z"
   },
   {
    "duration": 35,
    "start_time": "2022-01-06T10:34:07.895Z"
   },
   {
    "duration": 802,
    "start_time": "2022-01-06T10:34:07.933Z"
   },
   {
    "duration": 15,
    "start_time": "2022-01-06T10:34:08.738Z"
   },
   {
    "duration": 36,
    "start_time": "2022-01-06T10:34:08.756Z"
   },
   {
    "duration": 953,
    "start_time": "2022-01-06T10:34:08.794Z"
   },
   {
    "duration": 986,
    "start_time": "2022-01-06T10:34:09.750Z"
   },
   {
    "duration": 2577,
    "start_time": "2022-01-06T10:34:10.739Z"
   },
   {
    "duration": 10,
    "start_time": "2022-01-06T10:34:13.318Z"
   },
   {
    "duration": 5,
    "start_time": "2022-01-06T10:34:13.330Z"
   },
   {
    "duration": 5326,
    "start_time": "2022-01-06T10:34:13.337Z"
   },
   {
    "duration": 248,
    "start_time": "2022-01-06T10:34:18.666Z"
   },
   {
    "duration": 679,
    "start_time": "2022-01-06T10:34:18.917Z"
   },
   {
    "duration": 35,
    "start_time": "2022-01-06T10:34:19.599Z"
   },
   {
    "duration": 269,
    "start_time": "2022-01-06T10:34:19.636Z"
   },
   {
    "duration": 507,
    "start_time": "2022-01-06T10:34:19.907Z"
   },
   {
    "duration": 944,
    "start_time": "2022-01-06T10:34:20.417Z"
   },
   {
    "duration": 239,
    "start_time": "2022-01-06T10:34:21.364Z"
   },
   {
    "duration": 288,
    "start_time": "2022-01-06T10:34:21.606Z"
   },
   {
    "duration": 261,
    "start_time": "2022-01-06T10:34:21.897Z"
   },
   {
    "duration": 405,
    "start_time": "2022-01-06T10:34:22.168Z"
   },
   {
    "duration": 413,
    "start_time": "2022-01-06T10:34:22.577Z"
   },
   {
    "duration": 1111,
    "start_time": "2022-01-06T10:34:22.992Z"
   },
   {
    "duration": 38,
    "start_time": "2022-01-06T10:35:28.067Z"
   },
   {
    "duration": 35,
    "start_time": "2022-01-06T10:35:35.882Z"
   },
   {
    "duration": 34,
    "start_time": "2022-01-06T13:41:43.164Z"
   },
   {
    "duration": 41,
    "start_time": "2022-01-06T13:42:15.801Z"
   },
   {
    "duration": 58,
    "start_time": "2022-01-06T13:42:59.512Z"
   },
   {
    "duration": 741,
    "start_time": "2022-01-06T13:46:47.184Z"
   },
   {
    "duration": 671,
    "start_time": "2022-01-06T13:47:05.357Z"
   },
   {
    "duration": 390,
    "start_time": "2022-01-06T13:47:25.144Z"
   },
   {
    "duration": 409,
    "start_time": "2022-01-06T13:47:38.469Z"
   },
   {
    "duration": 55,
    "start_time": "2022-01-06T13:52:27.175Z"
   },
   {
    "duration": 39,
    "start_time": "2022-01-06T14:11:34.095Z"
   },
   {
    "duration": 43,
    "start_time": "2022-01-06T14:11:40.847Z"
   },
   {
    "duration": 42,
    "start_time": "2022-01-06T14:11:56.129Z"
   },
   {
    "duration": 41,
    "start_time": "2022-01-06T14:12:16.658Z"
   },
   {
    "duration": 40,
    "start_time": "2022-01-06T14:12:42.705Z"
   },
   {
    "duration": 726,
    "start_time": "2022-01-06T16:01:29.546Z"
   },
   {
    "duration": 743,
    "start_time": "2022-01-06T16:01:46.951Z"
   },
   {
    "duration": 88,
    "start_time": "2022-01-06T16:12:50.696Z"
   },
   {
    "duration": 94,
    "start_time": "2022-01-06T16:13:08.762Z"
   },
   {
    "duration": 106,
    "start_time": "2022-01-06T16:13:31.305Z"
   },
   {
    "duration": 35,
    "start_time": "2022-01-06T16:13:46.473Z"
   },
   {
    "duration": 392,
    "start_time": "2022-01-06T16:17:42.034Z"
   },
   {
    "duration": 276,
    "start_time": "2022-01-06T16:18:01.542Z"
   },
   {
    "duration": 274,
    "start_time": "2022-01-06T16:18:55.573Z"
   },
   {
    "duration": 308,
    "start_time": "2022-01-06T16:20:11.523Z"
   },
   {
    "duration": 462,
    "start_time": "2022-01-06T16:20:31.179Z"
   },
   {
    "duration": 360,
    "start_time": "2022-01-06T16:21:57.357Z"
   },
   {
    "duration": 258,
    "start_time": "2022-01-06T16:28:23.196Z"
   },
   {
    "duration": 272,
    "start_time": "2022-01-06T16:28:44.658Z"
   },
   {
    "duration": 280,
    "start_time": "2022-01-06T16:28:54.694Z"
   },
   {
    "duration": 872,
    "start_time": "2022-01-06T17:35:32.999Z"
   },
   {
    "duration": 467,
    "start_time": "2022-01-06T17:37:07.300Z"
   },
   {
    "duration": 502,
    "start_time": "2022-01-06T17:40:39.479Z"
   },
   {
    "duration": 487,
    "start_time": "2022-01-06T17:40:57.902Z"
   },
   {
    "duration": 499,
    "start_time": "2022-01-06T17:41:41.682Z"
   },
   {
    "duration": 259,
    "start_time": "2022-01-06T17:43:41.480Z"
   },
   {
    "duration": 271,
    "start_time": "2022-01-06T17:49:44.310Z"
   },
   {
    "duration": 21,
    "start_time": "2022-01-06T17:53:01.136Z"
   },
   {
    "duration": 295,
    "start_time": "2022-01-06T17:54:16.807Z"
   },
   {
    "duration": 85,
    "start_time": "2022-01-06T17:55:31.364Z"
   },
   {
    "duration": 19,
    "start_time": "2022-01-06T17:55:45.062Z"
   },
   {
    "duration": 22,
    "start_time": "2022-01-06T17:56:39.593Z"
   },
   {
    "duration": 102,
    "start_time": "2022-01-06T17:56:52.390Z"
   },
   {
    "duration": 21,
    "start_time": "2022-01-06T17:57:06.668Z"
   },
   {
    "duration": 21,
    "start_time": "2022-01-06T17:57:32.838Z"
   },
   {
    "duration": 35,
    "start_time": "2022-01-06T18:10:20.111Z"
   },
   {
    "duration": 18,
    "start_time": "2022-01-06T18:23:55.604Z"
   },
   {
    "duration": 543,
    "start_time": "2022-01-06T18:28:44.940Z"
   },
   {
    "duration": 51,
    "start_time": "2022-01-06T18:35:25.780Z"
   },
   {
    "duration": 57,
    "start_time": "2022-01-06T18:36:03.219Z"
   },
   {
    "duration": 341,
    "start_time": "2022-01-06T18:36:28.870Z"
   },
   {
    "duration": 57,
    "start_time": "2022-01-06T18:36:58.211Z"
   },
   {
    "duration": 55,
    "start_time": "2022-01-06T18:37:23.806Z"
   },
   {
    "duration": 53,
    "start_time": "2022-01-06T18:37:54.865Z"
   },
   {
    "duration": 47,
    "start_time": "2022-01-06T18:38:17.807Z"
   },
   {
    "duration": 33,
    "start_time": "2022-01-06T18:39:45.918Z"
   },
   {
    "duration": 95,
    "start_time": "2022-01-06T18:48:21.486Z"
   },
   {
    "duration": 30,
    "start_time": "2022-01-06T18:48:41.032Z"
   },
   {
    "duration": 30,
    "start_time": "2022-01-06T18:49:19.339Z"
   },
   {
    "duration": 9,
    "start_time": "2022-01-06T18:50:49.005Z"
   },
   {
    "duration": 86,
    "start_time": "2022-01-06T18:51:16.327Z"
   },
   {
    "duration": 26,
    "start_time": "2022-01-06T18:51:25.686Z"
   },
   {
    "duration": 325,
    "start_time": "2022-01-06T18:52:00.442Z"
   },
   {
    "duration": 20,
    "start_time": "2022-01-06T18:52:25.749Z"
   },
   {
    "duration": 46,
    "start_time": "2022-01-06T18:56:56.882Z"
   },
   {
    "duration": 60,
    "start_time": "2022-01-06T18:57:11.405Z"
   },
   {
    "duration": 44,
    "start_time": "2022-01-06T18:57:30.292Z"
   },
   {
    "duration": 8,
    "start_time": "2022-01-06T18:58:58.917Z"
   },
   {
    "duration": 11,
    "start_time": "2022-01-06T18:59:24.012Z"
   },
   {
    "duration": 21,
    "start_time": "2022-01-06T19:00:22.536Z"
   },
   {
    "duration": 21,
    "start_time": "2022-01-06T19:00:58.216Z"
   },
   {
    "duration": 22,
    "start_time": "2022-01-06T19:01:18.070Z"
   },
   {
    "duration": 32,
    "start_time": "2022-01-06T19:01:34.210Z"
   },
   {
    "duration": 2350,
    "start_time": "2022-01-06T19:11:26.164Z"
   },
   {
    "duration": 833,
    "start_time": "2022-01-06T19:13:10.426Z"
   },
   {
    "duration": 438,
    "start_time": "2022-01-06T19:17:33.041Z"
   },
   {
    "duration": 375,
    "start_time": "2022-01-06T19:17:53.583Z"
   },
   {
    "duration": 337,
    "start_time": "2022-01-06T19:18:02.686Z"
   },
   {
    "duration": 357,
    "start_time": "2022-01-06T19:18:24.017Z"
   },
   {
    "duration": 342,
    "start_time": "2022-01-06T19:18:28.443Z"
   },
   {
    "duration": 352,
    "start_time": "2022-01-06T19:18:48.412Z"
   },
   {
    "duration": 1054,
    "start_time": "2022-01-06T19:21:46.525Z"
   },
   {
    "duration": 112,
    "start_time": "2022-01-06T19:21:47.583Z"
   },
   {
    "duration": 36,
    "start_time": "2022-01-06T19:21:47.699Z"
   },
   {
    "duration": 792,
    "start_time": "2022-01-06T19:21:47.739Z"
   },
   {
    "duration": 33,
    "start_time": "2022-01-06T19:21:48.534Z"
   },
   {
    "duration": 28,
    "start_time": "2022-01-06T19:21:48.569Z"
   },
   {
    "duration": 1254,
    "start_time": "2022-01-06T19:21:48.599Z"
   },
   {
    "duration": 1069,
    "start_time": "2022-01-06T19:21:49.857Z"
   },
   {
    "duration": 1652,
    "start_time": "2022-01-06T19:21:50.929Z"
   },
   {
    "duration": 16,
    "start_time": "2022-01-06T19:21:52.584Z"
   },
   {
    "duration": 5,
    "start_time": "2022-01-06T19:21:52.603Z"
   },
   {
    "duration": 5928,
    "start_time": "2022-01-06T19:21:52.610Z"
   },
   {
    "duration": 282,
    "start_time": "2022-01-06T19:21:58.541Z"
   },
   {
    "duration": 691,
    "start_time": "2022-01-06T19:21:58.825Z"
   },
   {
    "duration": 62,
    "start_time": "2022-01-06T19:21:59.519Z"
   },
   {
    "duration": 242,
    "start_time": "2022-01-06T19:21:59.583Z"
   },
   {
    "duration": 582,
    "start_time": "2022-01-06T19:21:59.827Z"
   },
   {
    "duration": 932,
    "start_time": "2022-01-06T19:22:00.412Z"
   },
   {
    "duration": 247,
    "start_time": "2022-01-06T19:22:01.346Z"
   },
   {
    "duration": 357,
    "start_time": "2022-01-06T19:22:01.595Z"
   },
   {
    "duration": 271,
    "start_time": "2022-01-06T19:22:01.955Z"
   },
   {
    "duration": 451,
    "start_time": "2022-01-06T19:22:02.229Z"
   },
   {
    "duration": 430,
    "start_time": "2022-01-06T19:22:02.684Z"
   },
   {
    "duration": 1098,
    "start_time": "2022-01-06T19:22:03.118Z"
   },
   {
    "duration": 60,
    "start_time": "2022-01-06T19:22:04.218Z"
   },
   {
    "duration": 55,
    "start_time": "2022-01-06T19:22:04.281Z"
   },
   {
    "duration": 45,
    "start_time": "2022-01-06T19:22:04.339Z"
   },
   {
    "duration": 23,
    "start_time": "2022-01-06T19:22:04.386Z"
   },
   {
    "duration": 559,
    "start_time": "2022-01-06T19:22:04.411Z"
   },
   {
    "duration": 271,
    "start_time": "2022-01-06T19:22:28.941Z"
   },
   {
    "duration": 263,
    "start_time": "2022-01-06T19:22:41.869Z"
   },
   {
    "duration": 357,
    "start_time": "2022-01-06T19:22:50.602Z"
   },
   {
    "duration": 344,
    "start_time": "2022-01-06T19:38:23.740Z"
   },
   {
    "duration": 353,
    "start_time": "2022-01-06T19:38:51.777Z"
   },
   {
    "duration": 339,
    "start_time": "2022-01-06T19:39:01.614Z"
   },
   {
    "duration": 417,
    "start_time": "2022-01-06T19:39:05.963Z"
   },
   {
    "duration": 334,
    "start_time": "2022-01-06T19:39:10.594Z"
   },
   {
    "duration": 4407,
    "start_time": "2022-01-06T20:01:37.142Z"
   },
   {
    "duration": 1047,
    "start_time": "2022-01-06T20:03:54.349Z"
   },
   {
    "duration": 99,
    "start_time": "2022-01-06T20:03:55.399Z"
   },
   {
    "duration": 36,
    "start_time": "2022-01-06T20:03:55.501Z"
   },
   {
    "duration": 780,
    "start_time": "2022-01-06T20:03:55.539Z"
   },
   {
    "duration": 16,
    "start_time": "2022-01-06T20:03:56.322Z"
   },
   {
    "duration": 43,
    "start_time": "2022-01-06T20:03:56.341Z"
   },
   {
    "duration": 1108,
    "start_time": "2022-01-06T20:03:56.387Z"
   },
   {
    "duration": 1027,
    "start_time": "2022-01-06T20:03:57.500Z"
   },
   {
    "duration": 1849,
    "start_time": "2022-01-06T20:03:58.530Z"
   },
   {
    "duration": 20,
    "start_time": "2022-01-06T20:04:00.382Z"
   },
   {
    "duration": 10,
    "start_time": "2022-01-06T20:04:00.405Z"
   },
   {
    "duration": 5557,
    "start_time": "2022-01-06T20:04:00.417Z"
   },
   {
    "duration": 243,
    "start_time": "2022-01-06T20:04:05.977Z"
   },
   {
    "duration": 670,
    "start_time": "2022-01-06T20:04:06.222Z"
   },
   {
    "duration": 33,
    "start_time": "2022-01-06T20:04:06.895Z"
   },
   {
    "duration": 262,
    "start_time": "2022-01-06T20:04:06.931Z"
   },
   {
    "duration": 506,
    "start_time": "2022-01-06T20:04:07.195Z"
   },
   {
    "duration": 1047,
    "start_time": "2022-01-06T20:04:07.704Z"
   },
   {
    "duration": 249,
    "start_time": "2022-01-06T20:04:08.753Z"
   },
   {
    "duration": 346,
    "start_time": "2022-01-06T20:04:09.005Z"
   },
   {
    "duration": 281,
    "start_time": "2022-01-06T20:04:09.354Z"
   },
   {
    "duration": 537,
    "start_time": "2022-01-06T20:04:09.639Z"
   },
   {
    "duration": 1234,
    "start_time": "2022-01-06T20:04:10.183Z"
   },
   {
    "duration": -64,
    "start_time": "2022-01-06T20:04:11.484Z"
   },
   {
    "duration": -69,
    "start_time": "2022-01-06T20:04:11.491Z"
   },
   {
    "duration": -71,
    "start_time": "2022-01-06T20:04:11.494Z"
   },
   {
    "duration": -72,
    "start_time": "2022-01-06T20:04:11.497Z"
   },
   {
    "duration": -74,
    "start_time": "2022-01-06T20:04:11.500Z"
   },
   {
    "duration": -75,
    "start_time": "2022-01-06T20:04:11.502Z"
   },
   {
    "duration": -79,
    "start_time": "2022-01-06T20:04:11.508Z"
   },
   {
    "duration": 1031,
    "start_time": "2022-01-06T20:05:57.097Z"
   },
   {
    "duration": 99,
    "start_time": "2022-01-06T20:05:58.131Z"
   },
   {
    "duration": 48,
    "start_time": "2022-01-06T20:05:58.233Z"
   },
   {
    "duration": 749,
    "start_time": "2022-01-06T20:05:58.284Z"
   },
   {
    "duration": 15,
    "start_time": "2022-01-06T20:05:59.035Z"
   },
   {
    "duration": 39,
    "start_time": "2022-01-06T20:05:59.053Z"
   },
   {
    "duration": 1033,
    "start_time": "2022-01-06T20:05:59.095Z"
   },
   {
    "duration": 1058,
    "start_time": "2022-01-06T20:06:00.131Z"
   },
   {
    "duration": 1646,
    "start_time": "2022-01-06T20:06:01.191Z"
   },
   {
    "duration": 27,
    "start_time": "2022-01-06T20:06:02.840Z"
   },
   {
    "duration": 6,
    "start_time": "2022-01-06T20:06:02.870Z"
   },
   {
    "duration": 5545,
    "start_time": "2022-01-06T20:06:02.879Z"
   },
   {
    "duration": 265,
    "start_time": "2022-01-06T20:06:08.427Z"
   },
   {
    "duration": 724,
    "start_time": "2022-01-06T20:06:08.695Z"
   },
   {
    "duration": 51,
    "start_time": "2022-01-06T20:06:09.421Z"
   },
   {
    "duration": 243,
    "start_time": "2022-01-06T20:06:09.475Z"
   },
   {
    "duration": 550,
    "start_time": "2022-01-06T20:06:09.721Z"
   },
   {
    "duration": 933,
    "start_time": "2022-01-06T20:06:10.274Z"
   },
   {
    "duration": 236,
    "start_time": "2022-01-06T20:06:11.209Z"
   },
   {
    "duration": 356,
    "start_time": "2022-01-06T20:06:11.448Z"
   },
   {
    "duration": 264,
    "start_time": "2022-01-06T20:06:11.806Z"
   },
   {
    "duration": 426,
    "start_time": "2022-01-06T20:06:12.073Z"
   },
   {
    "duration": 420,
    "start_time": "2022-01-06T20:06:12.505Z"
   },
   {
    "duration": 1012,
    "start_time": "2022-01-06T20:06:12.929Z"
   },
   {
    "duration": 57,
    "start_time": "2022-01-06T20:06:13.944Z"
   },
   {
    "duration": 73,
    "start_time": "2022-01-06T20:06:14.003Z"
   },
   {
    "duration": 22,
    "start_time": "2022-01-06T20:06:14.079Z"
   },
   {
    "duration": 22,
    "start_time": "2022-01-06T20:06:14.104Z"
   },
   {
    "duration": 398,
    "start_time": "2022-01-06T20:06:14.128Z"
   },
   {
    "duration": 12,
    "start_time": "2022-01-06T20:06:14.529Z"
   },
   {
    "duration": 396,
    "start_time": "2022-01-06T20:13:23.665Z"
   },
   {
    "duration": 98,
    "start_time": "2022-01-06T20:13:50.989Z"
   },
   {
    "duration": 36,
    "start_time": "2022-01-06T20:13:58.910Z"
   },
   {
    "duration": 308,
    "start_time": "2022-01-06T20:17:15.299Z"
   },
   {
    "duration": 40,
    "start_time": "2022-01-06T20:17:24.820Z"
   },
   {
    "duration": 39,
    "start_time": "2022-01-06T20:17:56.502Z"
   },
   {
    "duration": 39,
    "start_time": "2022-01-06T20:18:04.284Z"
   },
   {
    "duration": 44,
    "start_time": "2022-01-06T20:18:09.804Z"
   },
   {
    "duration": 109,
    "start_time": "2022-01-06T20:21:20.833Z"
   },
   {
    "duration": 85,
    "start_time": "2022-01-06T20:21:52.537Z"
   },
   {
    "duration": 88,
    "start_time": "2022-01-06T20:22:04.483Z"
   },
   {
    "duration": 294,
    "start_time": "2022-01-06T20:22:19.621Z"
   },
   {
    "duration": 302,
    "start_time": "2022-01-06T20:22:46.234Z"
   },
   {
    "duration": 336,
    "start_time": "2022-01-06T20:23:06.863Z"
   },
   {
    "duration": 33,
    "start_time": "2022-01-06T20:23:14.162Z"
   },
   {
    "duration": 35,
    "start_time": "2022-01-06T20:24:14.040Z"
   },
   {
    "duration": 47,
    "start_time": "2022-01-06T20:27:12.789Z"
   },
   {
    "duration": 49,
    "start_time": "2022-01-06T20:28:42.164Z"
   },
   {
    "duration": 59,
    "start_time": "2022-01-06T20:29:30.030Z"
   },
   {
    "duration": 45,
    "start_time": "2022-01-06T20:29:47.951Z"
   },
   {
    "duration": 45,
    "start_time": "2022-01-06T20:30:45.199Z"
   },
   {
    "duration": 43,
    "start_time": "2022-01-06T20:31:09.307Z"
   },
   {
    "duration": 42,
    "start_time": "2022-01-06T20:32:14.221Z"
   },
   {
    "duration": 53,
    "start_time": "2022-01-06T20:36:08.069Z"
   },
   {
    "duration": 31,
    "start_time": "2022-01-06T20:56:41.061Z"
   },
   {
    "duration": 34,
    "start_time": "2022-01-06T20:56:54.890Z"
   },
   {
    "duration": 30,
    "start_time": "2022-01-06T20:57:15.373Z"
   },
   {
    "duration": 30,
    "start_time": "2022-01-06T20:58:42.554Z"
   },
   {
    "duration": 298,
    "start_time": "2022-01-06T20:59:55.044Z"
   },
   {
    "duration": 277,
    "start_time": "2022-01-06T21:01:44.234Z"
   },
   {
    "duration": 297,
    "start_time": "2022-01-06T21:02:05.720Z"
   },
   {
    "duration": 316,
    "start_time": "2022-01-06T21:03:05.847Z"
   },
   {
    "duration": 7130,
    "start_time": "2022-01-06T21:03:52.507Z"
   },
   {
    "duration": 364,
    "start_time": "2022-01-06T21:04:14.527Z"
   },
   {
    "duration": 430,
    "start_time": "2022-01-06T21:04:51.452Z"
   },
   {
    "duration": 516,
    "start_time": "2022-01-06T21:05:14.435Z"
   },
   {
    "duration": 511,
    "start_time": "2022-01-06T21:07:50.398Z"
   },
   {
    "duration": 428,
    "start_time": "2022-01-06T21:08:28.797Z"
   },
   {
    "duration": 458,
    "start_time": "2022-01-06T21:09:14.320Z"
   },
   {
    "duration": 431,
    "start_time": "2022-01-06T21:12:56.114Z"
   },
   {
    "duration": 270,
    "start_time": "2022-01-07T09:45:37.018Z"
   },
   {
    "duration": 309,
    "start_time": "2022-01-07T09:45:52.975Z"
   },
   {
    "duration": 368,
    "start_time": "2022-01-07T09:46:58.347Z"
   },
   {
    "duration": 282,
    "start_time": "2022-01-07T09:47:48.320Z"
   },
   {
    "duration": 1007,
    "start_time": "2022-01-07T09:47:55.421Z"
   },
   {
    "duration": 106,
    "start_time": "2022-01-07T09:47:56.430Z"
   },
   {
    "duration": 47,
    "start_time": "2022-01-07T09:47:56.539Z"
   },
   {
    "duration": 764,
    "start_time": "2022-01-07T09:47:56.589Z"
   },
   {
    "duration": 26,
    "start_time": "2022-01-07T09:47:57.355Z"
   },
   {
    "duration": 34,
    "start_time": "2022-01-07T09:47:57.384Z"
   },
   {
    "duration": 1015,
    "start_time": "2022-01-07T09:47:57.421Z"
   },
   {
    "duration": 1046,
    "start_time": "2022-01-07T09:47:58.439Z"
   },
   {
    "duration": 1653,
    "start_time": "2022-01-07T09:47:59.489Z"
   },
   {
    "duration": 26,
    "start_time": "2022-01-07T09:48:01.146Z"
   },
   {
    "duration": 5,
    "start_time": "2022-01-07T09:48:01.174Z"
   },
   {
    "duration": 6185,
    "start_time": "2022-01-07T09:48:01.182Z"
   },
   {
    "duration": 247,
    "start_time": "2022-01-07T09:48:07.370Z"
   },
   {
    "duration": 686,
    "start_time": "2022-01-07T09:48:07.621Z"
   },
   {
    "duration": 35,
    "start_time": "2022-01-07T09:48:08.309Z"
   },
   {
    "duration": 268,
    "start_time": "2022-01-07T09:48:08.347Z"
   },
   {
    "duration": 543,
    "start_time": "2022-01-07T09:48:08.618Z"
   },
   {
    "duration": 949,
    "start_time": "2022-01-07T09:48:09.168Z"
   },
   {
    "duration": 264,
    "start_time": "2022-01-07T09:48:10.120Z"
   },
   {
    "duration": 332,
    "start_time": "2022-01-07T09:48:10.387Z"
   },
   {
    "duration": 400,
    "start_time": "2022-01-07T09:48:10.723Z"
   },
   {
    "duration": 496,
    "start_time": "2022-01-07T09:48:11.126Z"
   },
   {
    "duration": 407,
    "start_time": "2022-01-07T09:48:11.625Z"
   },
   {
    "duration": 1032,
    "start_time": "2022-01-07T09:48:12.035Z"
   },
   {
    "duration": 56,
    "start_time": "2022-01-07T09:48:13.069Z"
   },
   {
    "duration": 79,
    "start_time": "2022-01-07T09:48:13.128Z"
   },
   {
    "duration": 22,
    "start_time": "2022-01-07T09:48:13.212Z"
   },
   {
    "duration": 42,
    "start_time": "2022-01-07T09:48:13.237Z"
   },
   {
    "duration": 406,
    "start_time": "2022-01-07T09:48:13.281Z"
   },
   {
    "duration": 47,
    "start_time": "2022-01-07T09:48:13.690Z"
   },
   {
    "duration": 497,
    "start_time": "2022-01-07T09:48:13.740Z"
   },
   {
    "duration": 435,
    "start_time": "2022-01-07T09:48:14.239Z"
   },
   {
    "duration": 51,
    "start_time": "2022-01-07T09:48:26.059Z"
   },
   {
    "duration": 57,
    "start_time": "2022-01-07T09:49:30.973Z"
   },
   {
    "duration": 56,
    "start_time": "2022-01-07T09:49:51.163Z"
   },
   {
    "duration": 81,
    "start_time": "2022-01-07T09:50:45.165Z"
   },
   {
    "duration": 302,
    "start_time": "2022-01-07T10:30:23.248Z"
   },
   {
    "duration": 42,
    "start_time": "2022-01-07T10:31:48.077Z"
   },
   {
    "duration": 45,
    "start_time": "2022-01-07T10:32:05.719Z"
   },
   {
    "duration": 54,
    "start_time": "2022-01-07T10:32:22.362Z"
   },
   {
    "duration": 110,
    "start_time": "2022-01-07T10:38:51.670Z"
   },
   {
    "duration": 111,
    "start_time": "2022-01-09T09:11:17.546Z"
   },
   {
    "duration": 840,
    "start_time": "2022-01-09T09:11:28.582Z"
   },
   {
    "duration": 49,
    "start_time": "2022-01-09T09:11:29.424Z"
   },
   {
    "duration": 19,
    "start_time": "2022-01-09T09:11:29.475Z"
   },
   {
    "duration": 393,
    "start_time": "2022-01-09T09:11:29.495Z"
   },
   {
    "duration": 9,
    "start_time": "2022-01-09T09:11:29.890Z"
   },
   {
    "duration": 28,
    "start_time": "2022-01-09T09:11:29.900Z"
   },
   {
    "duration": 503,
    "start_time": "2022-01-09T09:11:29.929Z"
   },
   {
    "duration": 541,
    "start_time": "2022-01-09T09:11:30.434Z"
   },
   {
    "duration": 828,
    "start_time": "2022-01-09T09:11:30.977Z"
   },
   {
    "duration": 10,
    "start_time": "2022-01-09T09:11:31.806Z"
   },
   {
    "duration": 11,
    "start_time": "2022-01-09T09:11:31.817Z"
   },
   {
    "duration": 3371,
    "start_time": "2022-01-09T09:11:31.829Z"
   },
   {
    "duration": 131,
    "start_time": "2022-01-09T09:11:35.201Z"
   },
   {
    "duration": 353,
    "start_time": "2022-01-09T09:11:35.334Z"
   },
   {
    "duration": 21,
    "start_time": "2022-01-09T09:11:35.689Z"
   },
   {
    "duration": 126,
    "start_time": "2022-01-09T09:11:35.711Z"
   },
   {
    "duration": 262,
    "start_time": "2022-01-09T09:11:35.839Z"
   },
   {
    "duration": 572,
    "start_time": "2022-01-09T09:11:36.103Z"
   },
   {
    "duration": 125,
    "start_time": "2022-01-09T09:11:36.677Z"
   },
   {
    "duration": 204,
    "start_time": "2022-01-09T09:11:36.803Z"
   },
   {
    "duration": 144,
    "start_time": "2022-01-09T09:11:37.009Z"
   },
   {
    "duration": 222,
    "start_time": "2022-01-09T09:11:37.155Z"
   },
   {
    "duration": 213,
    "start_time": "2022-01-09T09:11:37.380Z"
   },
   {
    "duration": 493,
    "start_time": "2022-01-09T09:11:37.595Z"
   },
   {
    "duration": 24,
    "start_time": "2022-01-09T09:11:38.090Z"
   },
   {
    "duration": 30,
    "start_time": "2022-01-09T09:11:38.127Z"
   },
   {
    "duration": 12,
    "start_time": "2022-01-09T09:11:38.159Z"
   },
   {
    "duration": 11,
    "start_time": "2022-01-09T09:11:38.173Z"
   },
   {
    "duration": 198,
    "start_time": "2022-01-09T09:11:38.185Z"
   },
   {
    "duration": 26,
    "start_time": "2022-01-09T09:11:38.384Z"
   },
   {
    "duration": 238,
    "start_time": "2022-01-09T09:11:38.411Z"
   },
   {
    "duration": 105,
    "start_time": "2022-01-09T09:11:38.650Z"
   },
   {
    "duration": 382,
    "start_time": "2022-01-09T09:12:28.238Z"
   },
   {
    "duration": 527,
    "start_time": "2022-01-09T09:13:05.903Z"
   },
   {
    "duration": 28,
    "start_time": "2022-01-09T09:14:53.676Z"
   },
   {
    "duration": 31,
    "start_time": "2022-01-09T09:19:16.767Z"
   },
   {
    "duration": 30,
    "start_time": "2022-01-09T09:20:06.237Z"
   },
   {
    "duration": 30,
    "start_time": "2022-01-09T09:20:19.421Z"
   },
   {
    "duration": 30,
    "start_time": "2022-01-09T09:21:57.185Z"
   },
   {
    "duration": 29,
    "start_time": "2022-01-09T09:22:04.228Z"
   },
   {
    "duration": 328,
    "start_time": "2022-01-09T09:23:13.545Z"
   },
   {
    "duration": 329,
    "start_time": "2022-01-09T09:24:52.318Z"
   },
   {
    "duration": 339,
    "start_time": "2022-01-09T09:26:22.362Z"
   },
   {
    "duration": 721,
    "start_time": "2022-01-09T09:26:28.927Z"
   },
   {
    "duration": 48,
    "start_time": "2022-01-09T09:26:29.650Z"
   },
   {
    "duration": 35,
    "start_time": "2022-01-09T09:26:29.700Z"
   },
   {
    "duration": 436,
    "start_time": "2022-01-09T09:26:29.737Z"
   },
   {
    "duration": 10,
    "start_time": "2022-01-09T09:26:30.174Z"
   },
   {
    "duration": 21,
    "start_time": "2022-01-09T09:26:30.186Z"
   },
   {
    "duration": 527,
    "start_time": "2022-01-09T09:26:30.209Z"
   },
   {
    "duration": 554,
    "start_time": "2022-01-09T09:26:30.738Z"
   },
   {
    "duration": 854,
    "start_time": "2022-01-09T09:26:31.294Z"
   },
   {
    "duration": 11,
    "start_time": "2022-01-09T09:26:32.150Z"
   },
   {
    "duration": 3,
    "start_time": "2022-01-09T09:26:32.162Z"
   },
   {
    "duration": 3398,
    "start_time": "2022-01-09T09:26:32.166Z"
   },
   {
    "duration": 124,
    "start_time": "2022-01-09T09:26:35.566Z"
   },
   {
    "duration": 342,
    "start_time": "2022-01-09T09:26:35.692Z"
   },
   {
    "duration": 19,
    "start_time": "2022-01-09T09:26:36.036Z"
   },
   {
    "duration": 128,
    "start_time": "2022-01-09T09:26:36.057Z"
   },
   {
    "duration": 264,
    "start_time": "2022-01-09T09:26:36.187Z"
   },
   {
    "duration": 490,
    "start_time": "2022-01-09T09:26:36.453Z"
   },
   {
    "duration": 122,
    "start_time": "2022-01-09T09:26:36.945Z"
   },
   {
    "duration": 190,
    "start_time": "2022-01-09T09:26:37.068Z"
   },
   {
    "duration": 141,
    "start_time": "2022-01-09T09:26:37.260Z"
   },
   {
    "duration": 211,
    "start_time": "2022-01-09T09:26:37.402Z"
   },
   {
    "duration": 209,
    "start_time": "2022-01-09T09:26:37.615Z"
   },
   {
    "duration": 492,
    "start_time": "2022-01-09T09:26:37.825Z"
   },
   {
    "duration": 29,
    "start_time": "2022-01-09T09:26:38.318Z"
   },
   {
    "duration": 28,
    "start_time": "2022-01-09T09:26:38.349Z"
   },
   {
    "duration": 12,
    "start_time": "2022-01-09T09:26:38.379Z"
   },
   {
    "duration": 12,
    "start_time": "2022-01-09T09:26:38.392Z"
   },
   {
    "duration": 185,
    "start_time": "2022-01-09T09:26:38.427Z"
   },
   {
    "duration": 30,
    "start_time": "2022-01-09T09:26:38.613Z"
   },
   {
    "duration": 233,
    "start_time": "2022-01-09T09:26:38.644Z"
   },
   {
    "duration": 393,
    "start_time": "2022-01-09T09:26:38.879Z"
   },
   {
    "duration": 329,
    "start_time": "2022-01-09T09:39:05.501Z"
   },
   {
    "duration": 2443,
    "start_time": "2022-01-09T09:39:59.914Z"
   },
   {
    "duration": 80,
    "start_time": "2022-01-09T09:41:44.112Z"
   },
   {
    "duration": 1616,
    "start_time": "2022-01-09T09:42:08.800Z"
   },
   {
    "duration": 82,
    "start_time": "2022-01-09T09:42:31.532Z"
   },
   {
    "duration": 30,
    "start_time": "2022-01-09T10:05:04.658Z"
   },
   {
    "duration": 9,
    "start_time": "2022-01-09T10:05:50.782Z"
   },
   {
    "duration": 29,
    "start_time": "2022-01-09T10:06:08.140Z"
   },
   {
    "duration": 30,
    "start_time": "2022-01-09T10:06:58.103Z"
   },
   {
    "duration": 28,
    "start_time": "2022-01-09T10:07:12.192Z"
   },
   {
    "duration": 28,
    "start_time": "2022-01-09T10:07:28.140Z"
   },
   {
    "duration": 686,
    "start_time": "2022-01-09T10:07:36.175Z"
   },
   {
    "duration": 83,
    "start_time": "2022-01-09T10:07:36.865Z"
   },
   {
    "duration": 28,
    "start_time": "2022-01-09T10:07:36.950Z"
   },
   {
    "duration": 395,
    "start_time": "2022-01-09T10:07:36.980Z"
   },
   {
    "duration": 10,
    "start_time": "2022-01-09T10:07:37.377Z"
   },
   {
    "duration": 15,
    "start_time": "2022-01-09T10:07:37.389Z"
   },
   {
    "duration": 523,
    "start_time": "2022-01-09T10:07:37.405Z"
   },
   {
    "duration": 536,
    "start_time": "2022-01-09T10:07:37.930Z"
   },
   {
    "duration": 825,
    "start_time": "2022-01-09T10:07:38.468Z"
   },
   {
    "duration": 10,
    "start_time": "2022-01-09T10:07:39.294Z"
   },
   {
    "duration": 4,
    "start_time": "2022-01-09T10:07:39.305Z"
   },
   {
    "duration": 3751,
    "start_time": "2022-01-09T10:07:39.310Z"
   },
   {
    "duration": 130,
    "start_time": "2022-01-09T10:07:43.063Z"
   },
   {
    "duration": 366,
    "start_time": "2022-01-09T10:07:43.195Z"
   },
   {
    "duration": 19,
    "start_time": "2022-01-09T10:07:43.562Z"
   },
   {
    "duration": 129,
    "start_time": "2022-01-09T10:07:43.583Z"
   },
   {
    "duration": 272,
    "start_time": "2022-01-09T10:07:43.713Z"
   },
   {
    "duration": 490,
    "start_time": "2022-01-09T10:07:43.987Z"
   },
   {
    "duration": 124,
    "start_time": "2022-01-09T10:07:44.479Z"
   },
   {
    "duration": 191,
    "start_time": "2022-01-09T10:07:44.605Z"
   },
   {
    "duration": 145,
    "start_time": "2022-01-09T10:07:44.797Z"
   },
   {
    "duration": 209,
    "start_time": "2022-01-09T10:07:44.943Z"
   },
   {
    "duration": 237,
    "start_time": "2022-01-09T10:07:45.154Z"
   },
   {
    "duration": 503,
    "start_time": "2022-01-09T10:07:45.392Z"
   },
   {
    "duration": 37,
    "start_time": "2022-01-09T10:07:45.897Z"
   },
   {
    "duration": 34,
    "start_time": "2022-01-09T10:07:45.938Z"
   },
   {
    "duration": 14,
    "start_time": "2022-01-09T10:07:45.974Z"
   },
   {
    "duration": 39,
    "start_time": "2022-01-09T10:07:45.989Z"
   },
   {
    "duration": 204,
    "start_time": "2022-01-09T10:07:46.030Z"
   },
   {
    "duration": 28,
    "start_time": "2022-01-09T10:07:46.236Z"
   },
   {
    "duration": 264,
    "start_time": "2022-01-09T10:07:46.265Z"
   },
   {
    "duration": 31,
    "start_time": "2022-01-09T10:07:46.531Z"
   },
   {
    "duration": 28,
    "start_time": "2022-01-09T10:08:30.312Z"
   },
   {
    "duration": 608,
    "start_time": "2022-01-09T10:09:58.359Z"
   },
   {
    "duration": 379,
    "start_time": "2022-01-09T10:10:20.143Z"
   },
   {
    "duration": 77,
    "start_time": "2022-01-09T10:12:08.672Z"
   },
   {
    "duration": 75,
    "start_time": "2022-01-09T10:15:11.489Z"
   },
   {
    "duration": 121,
    "start_time": "2022-01-09T10:15:24.057Z"
   },
   {
    "duration": 67,
    "start_time": "2022-01-09T10:17:51.360Z"
   },
   {
    "duration": 268,
    "start_time": "2022-01-09T10:19:38.251Z"
   },
   {
    "duration": 272,
    "start_time": "2022-01-09T10:20:04.705Z"
   },
   {
    "duration": 68,
    "start_time": "2022-01-09T10:20:31.406Z"
   },
   {
    "duration": 271,
    "start_time": "2022-01-09T10:21:13.841Z"
   },
   {
    "duration": 277,
    "start_time": "2022-01-09T10:21:39.754Z"
   },
   {
    "duration": 289,
    "start_time": "2022-01-09T10:23:48.565Z"
   },
   {
    "duration": 298,
    "start_time": "2022-01-09T15:43:15.032Z"
   },
   {
    "duration": 297,
    "start_time": "2022-01-09T15:44:35.235Z"
   },
   {
    "duration": 313,
    "start_time": "2022-01-09T15:48:00.616Z"
   },
   {
    "duration": 8122,
    "start_time": "2022-01-09T15:54:40.643Z"
   },
   {
    "duration": 10010,
    "start_time": "2022-01-09T15:54:49.988Z"
   },
   {
    "duration": 9932,
    "start_time": "2022-01-09T15:55:03.842Z"
   },
   {
    "duration": 9198,
    "start_time": "2022-01-09T15:55:54.741Z"
   },
   {
    "duration": 9080,
    "start_time": "2022-01-09T15:56:29.657Z"
   },
   {
    "duration": 109,
    "start_time": "2022-01-09T15:56:51.483Z"
   },
   {
    "duration": 301,
    "start_time": "2022-01-09T15:57:02.338Z"
   },
   {
    "duration": 473,
    "start_time": "2022-01-09T16:01:08.733Z"
   },
   {
    "duration": 318,
    "start_time": "2022-01-09T16:05:14.130Z"
   },
   {
    "duration": 315,
    "start_time": "2022-01-09T16:06:02.492Z"
   },
   {
    "duration": 303,
    "start_time": "2022-01-09T16:06:45.555Z"
   },
   {
    "duration": 310,
    "start_time": "2022-01-09T16:07:07.768Z"
   },
   {
    "duration": 311,
    "start_time": "2022-01-09T16:07:10.076Z"
   },
   {
    "duration": 321,
    "start_time": "2022-01-09T16:07:31.563Z"
   },
   {
    "duration": 31,
    "start_time": "2022-01-09T16:07:44.032Z"
   },
   {
    "duration": 351,
    "start_time": "2022-01-09T16:09:06.329Z"
   },
   {
    "duration": 318,
    "start_time": "2022-01-09T16:09:45.277Z"
   },
   {
    "duration": 31,
    "start_time": "2022-01-09T16:09:53.468Z"
   },
   {
    "duration": 417,
    "start_time": "2022-01-09T16:10:10.447Z"
   },
   {
    "duration": 30,
    "start_time": "2022-01-09T16:10:37.026Z"
   },
   {
    "duration": 32,
    "start_time": "2022-01-09T16:15:10.321Z"
   },
   {
    "duration": 432,
    "start_time": "2022-01-09T16:26:25.941Z"
   },
   {
    "duration": 8998,
    "start_time": "2022-01-09T16:27:05.962Z"
   },
   {
    "duration": 7,
    "start_time": "2022-01-09T16:27:53.973Z"
   },
   {
    "duration": 7,
    "start_time": "2022-01-09T16:27:58.993Z"
   },
   {
    "duration": 6,
    "start_time": "2022-01-09T16:28:35.066Z"
   },
   {
    "duration": 6,
    "start_time": "2022-01-09T16:28:48.133Z"
   },
   {
    "duration": 328,
    "start_time": "2022-01-09T16:29:01.095Z"
   },
   {
    "duration": 326,
    "start_time": "2022-01-09T16:31:19.089Z"
   },
   {
    "duration": 308,
    "start_time": "2022-01-09T16:32:06.559Z"
   },
   {
    "duration": 14,
    "start_time": "2022-01-09T16:33:33.661Z"
   },
   {
    "duration": 117,
    "start_time": "2022-01-09T16:36:56.615Z"
   },
   {
    "duration": 209,
    "start_time": "2022-01-09T16:37:15.685Z"
   },
   {
    "duration": 186,
    "start_time": "2022-01-09T16:51:16.281Z"
   },
   {
    "duration": 117,
    "start_time": "2022-01-09T16:52:15.357Z"
   },
   {
    "duration": 102,
    "start_time": "2022-01-09T16:52:32.654Z"
   },
   {
    "duration": 103,
    "start_time": "2022-01-09T16:52:40.725Z"
   },
   {
    "duration": 106,
    "start_time": "2022-01-09T16:52:47.972Z"
   },
   {
    "duration": 139,
    "start_time": "2022-01-09T16:53:11.140Z"
   },
   {
    "duration": 43,
    "start_time": "2022-01-09T16:53:23.245Z"
   },
   {
    "duration": 357,
    "start_time": "2022-01-09T16:53:53.674Z"
   },
   {
    "duration": 341,
    "start_time": "2022-01-10T07:24:34.951Z"
   },
   {
    "duration": 921,
    "start_time": "2022-01-10T07:24:40.347Z"
   },
   {
    "duration": 88,
    "start_time": "2022-01-10T07:24:41.271Z"
   },
   {
    "duration": 30,
    "start_time": "2022-01-10T07:24:41.363Z"
   },
   {
    "duration": 727,
    "start_time": "2022-01-10T07:24:41.396Z"
   },
   {
    "duration": 14,
    "start_time": "2022-01-10T07:24:42.125Z"
   },
   {
    "duration": 23,
    "start_time": "2022-01-10T07:24:42.142Z"
   },
   {
    "duration": 949,
    "start_time": "2022-01-10T07:24:42.168Z"
   },
   {
    "duration": 1058,
    "start_time": "2022-01-10T07:24:43.124Z"
   },
   {
    "duration": 1665,
    "start_time": "2022-01-10T07:24:44.185Z"
   },
   {
    "duration": 26,
    "start_time": "2022-01-10T07:24:45.853Z"
   },
   {
    "duration": 5,
    "start_time": "2022-01-10T07:24:45.881Z"
   },
   {
    "duration": 5766,
    "start_time": "2022-01-10T07:24:45.889Z"
   },
   {
    "duration": 231,
    "start_time": "2022-01-10T07:24:51.658Z"
   },
   {
    "duration": 650,
    "start_time": "2022-01-10T07:24:51.892Z"
   },
   {
    "duration": 30,
    "start_time": "2022-01-10T07:24:52.544Z"
   },
   {
    "duration": 253,
    "start_time": "2022-01-10T07:24:52.577Z"
   },
   {
    "duration": 483,
    "start_time": "2022-01-10T07:24:52.832Z"
   },
   {
    "duration": 859,
    "start_time": "2022-01-10T07:24:53.323Z"
   },
   {
    "duration": 223,
    "start_time": "2022-01-10T07:24:54.184Z"
   },
   {
    "duration": 319,
    "start_time": "2022-01-10T07:24:54.409Z"
   },
   {
    "duration": 245,
    "start_time": "2022-01-10T07:24:54.731Z"
   },
   {
    "duration": 394,
    "start_time": "2022-01-10T07:24:54.978Z"
   },
   {
    "duration": 376,
    "start_time": "2022-01-10T07:24:55.377Z"
   },
   {
    "duration": 917,
    "start_time": "2022-01-10T07:24:55.755Z"
   },
   {
    "duration": 59,
    "start_time": "2022-01-10T07:24:56.675Z"
   },
   {
    "duration": 47,
    "start_time": "2022-01-10T07:24:56.737Z"
   },
   {
    "duration": 46,
    "start_time": "2022-01-10T07:24:56.787Z"
   },
   {
    "duration": 22,
    "start_time": "2022-01-10T07:24:56.836Z"
   },
   {
    "duration": 351,
    "start_time": "2022-01-10T07:24:56.861Z"
   },
   {
    "duration": 49,
    "start_time": "2022-01-10T07:24:57.215Z"
   },
   {
    "duration": 436,
    "start_time": "2022-01-10T07:24:57.266Z"
   },
   {
    "duration": 60,
    "start_time": "2022-01-10T07:24:57.704Z"
   },
   {
    "duration": 61,
    "start_time": "2022-01-10T07:24:57.766Z"
   },
   {
    "duration": 12,
    "start_time": "2022-01-10T07:25:35.225Z"
   },
   {
    "duration": 11,
    "start_time": "2022-01-10T07:25:52.145Z"
   },
   {
    "duration": 11,
    "start_time": "2022-01-10T07:26:01.756Z"
   },
   {
    "duration": 73,
    "start_time": "2022-01-10T07:26:58.159Z"
   },
   {
    "duration": 366,
    "start_time": "2022-01-10T18:46:19.301Z"
   },
   {
    "duration": 770,
    "start_time": "2022-01-10T18:46:35.102Z"
   },
   {
    "duration": 62,
    "start_time": "2022-01-10T18:46:35.874Z"
   },
   {
    "duration": 20,
    "start_time": "2022-01-10T18:46:35.938Z"
   },
   {
    "duration": 401,
    "start_time": "2022-01-10T18:46:35.959Z"
   },
   {
    "duration": 10,
    "start_time": "2022-01-10T18:46:36.362Z"
   },
   {
    "duration": 18,
    "start_time": "2022-01-10T18:46:36.374Z"
   },
   {
    "duration": 521,
    "start_time": "2022-01-10T18:46:36.393Z"
   },
   {
    "duration": 553,
    "start_time": "2022-01-10T18:46:36.916Z"
   },
   {
    "duration": 1004,
    "start_time": "2022-01-10T18:46:37.470Z"
   },
   {
    "duration": 7,
    "start_time": "2022-01-10T18:46:38.476Z"
   },
   {
    "duration": 3,
    "start_time": "2022-01-10T18:46:38.485Z"
   },
   {
    "duration": 3789,
    "start_time": "2022-01-10T18:46:38.490Z"
   },
   {
    "duration": 137,
    "start_time": "2022-01-10T18:46:42.281Z"
   },
   {
    "duration": 396,
    "start_time": "2022-01-10T18:46:42.419Z"
   },
   {
    "duration": 27,
    "start_time": "2022-01-10T18:46:42.817Z"
   },
   {
    "duration": 130,
    "start_time": "2022-01-10T18:46:42.845Z"
   },
   {
    "duration": 291,
    "start_time": "2022-01-10T18:46:42.976Z"
   },
   {
    "duration": 528,
    "start_time": "2022-01-10T18:46:43.269Z"
   },
   {
    "duration": 132,
    "start_time": "2022-01-10T18:46:43.799Z"
   },
   {
    "duration": 217,
    "start_time": "2022-01-10T18:46:43.933Z"
   },
   {
    "duration": 192,
    "start_time": "2022-01-10T18:46:44.151Z"
   },
   {
    "duration": 352,
    "start_time": "2022-01-10T18:46:44.345Z"
   },
   {
    "duration": 336,
    "start_time": "2022-01-10T18:46:44.701Z"
   },
   {
    "duration": 617,
    "start_time": "2022-01-10T18:46:45.039Z"
   },
   {
    "duration": 27,
    "start_time": "2022-01-10T18:46:45.657Z"
   },
   {
    "duration": 466,
    "start_time": "2022-01-10T18:46:45.686Z"
   },
   {
    "duration": -115,
    "start_time": "2022-01-10T18:46:46.269Z"
   },
   {
    "duration": -127,
    "start_time": "2022-01-10T18:46:46.282Z"
   },
   {
    "duration": -137,
    "start_time": "2022-01-10T18:46:46.293Z"
   },
   {
    "duration": -160,
    "start_time": "2022-01-10T18:46:46.317Z"
   },
   {
    "duration": -171,
    "start_time": "2022-01-10T18:46:46.328Z"
   },
   {
    "duration": -184,
    "start_time": "2022-01-10T18:46:46.342Z"
   },
   {
    "duration": -193,
    "start_time": "2022-01-10T18:46:46.352Z"
   },
   {
    "duration": 421,
    "start_time": "2022-01-10T18:48:19.869Z"
   },
   {
    "duration": 346,
    "start_time": "2022-01-10T18:49:13.050Z"
   },
   {
    "duration": 360,
    "start_time": "2022-01-10T18:51:47.910Z"
   },
   {
    "duration": 877,
    "start_time": "2022-01-10T18:52:01.910Z"
   },
   {
    "duration": 62,
    "start_time": "2022-01-10T18:52:02.789Z"
   },
   {
    "duration": 21,
    "start_time": "2022-01-10T18:52:02.854Z"
   },
   {
    "duration": 445,
    "start_time": "2022-01-10T18:52:02.877Z"
   },
   {
    "duration": 18,
    "start_time": "2022-01-10T18:52:03.323Z"
   },
   {
    "duration": 22,
    "start_time": "2022-01-10T18:52:03.343Z"
   },
   {
    "duration": 562,
    "start_time": "2022-01-10T18:52:03.366Z"
   },
   {
    "duration": 596,
    "start_time": "2022-01-10T18:52:03.931Z"
   },
   {
    "duration": 916,
    "start_time": "2022-01-10T18:52:04.530Z"
   },
   {
    "duration": 11,
    "start_time": "2022-01-10T18:52:05.448Z"
   },
   {
    "duration": 3,
    "start_time": "2022-01-10T18:52:05.460Z"
   },
   {
    "duration": 3762,
    "start_time": "2022-01-10T18:52:05.465Z"
   },
   {
    "duration": 142,
    "start_time": "2022-01-10T18:52:09.230Z"
   },
   {
    "duration": 401,
    "start_time": "2022-01-10T18:52:09.374Z"
   },
   {
    "duration": 20,
    "start_time": "2022-01-10T18:52:09.777Z"
   },
   {
    "duration": 161,
    "start_time": "2022-01-10T18:52:09.799Z"
   },
   {
    "duration": 290,
    "start_time": "2022-01-10T18:52:09.962Z"
   },
   {
    "duration": 623,
    "start_time": "2022-01-10T18:52:10.254Z"
   },
   {
    "duration": 134,
    "start_time": "2022-01-10T18:52:10.879Z"
   },
   {
    "duration": 214,
    "start_time": "2022-01-10T18:52:11.015Z"
   },
   {
    "duration": 156,
    "start_time": "2022-01-10T18:52:11.231Z"
   },
   {
    "duration": 232,
    "start_time": "2022-01-10T18:52:11.389Z"
   },
   {
    "duration": 230,
    "start_time": "2022-01-10T18:52:11.623Z"
   },
   {
    "duration": 576,
    "start_time": "2022-01-10T18:52:11.855Z"
   },
   {
    "duration": 31,
    "start_time": "2022-01-10T18:52:12.434Z"
   },
   {
    "duration": 1796,
    "start_time": "2022-01-10T18:52:12.467Z"
   },
   {
    "duration": -46,
    "start_time": "2022-01-10T18:52:14.311Z"
   },
   {
    "duration": -52,
    "start_time": "2022-01-10T18:52:14.318Z"
   },
   {
    "duration": -56,
    "start_time": "2022-01-10T18:52:14.323Z"
   },
   {
    "duration": -61,
    "start_time": "2022-01-10T18:52:14.329Z"
   },
   {
    "duration": -67,
    "start_time": "2022-01-10T18:52:14.336Z"
   },
   {
    "duration": -71,
    "start_time": "2022-01-10T18:52:14.341Z"
   },
   {
    "duration": -76,
    "start_time": "2022-01-10T18:52:14.347Z"
   },
   {
    "duration": 172,
    "start_time": "2022-01-10T19:15:45.121Z"
   },
   {
    "duration": 114,
    "start_time": "2022-01-10T19:15:53.841Z"
   },
   {
    "duration": 373,
    "start_time": "2022-01-10T19:16:25.596Z"
   },
   {
    "duration": 8364,
    "start_time": "2022-01-10T19:18:44.925Z"
   },
   {
    "duration": 347,
    "start_time": "2022-01-10T19:19:58.585Z"
   },
   {
    "duration": 461,
    "start_time": "2022-01-10T19:20:31.112Z"
   },
   {
    "duration": 453,
    "start_time": "2022-01-10T19:25:51.116Z"
   },
   {
    "duration": 72,
    "start_time": "2022-01-10T19:35:18.064Z"
   },
   {
    "duration": 59,
    "start_time": "2022-01-10T19:36:02.050Z"
   },
   {
    "duration": 51,
    "start_time": "2022-01-10T19:40:47.039Z"
   },
   {
    "duration": 692,
    "start_time": "2022-01-10T19:42:48.381Z"
   },
   {
    "duration": 83,
    "start_time": "2022-01-10T19:42:49.075Z"
   },
   {
    "duration": 31,
    "start_time": "2022-01-10T19:42:49.160Z"
   },
   {
    "duration": 440,
    "start_time": "2022-01-10T19:42:49.193Z"
   },
   {
    "duration": 10,
    "start_time": "2022-01-10T19:42:49.634Z"
   },
   {
    "duration": 16,
    "start_time": "2022-01-10T19:42:49.646Z"
   },
   {
    "duration": 543,
    "start_time": "2022-01-10T19:42:49.664Z"
   },
   {
    "duration": 566,
    "start_time": "2022-01-10T19:42:50.209Z"
   },
   {
    "duration": 879,
    "start_time": "2022-01-10T19:42:50.777Z"
   },
   {
    "duration": 11,
    "start_time": "2022-01-10T19:42:51.657Z"
   },
   {
    "duration": 3,
    "start_time": "2022-01-10T19:42:51.669Z"
   },
   {
    "duration": 3896,
    "start_time": "2022-01-10T19:42:51.674Z"
   },
   {
    "duration": 132,
    "start_time": "2022-01-10T19:42:55.572Z"
   },
   {
    "duration": 360,
    "start_time": "2022-01-10T19:42:55.706Z"
   },
   {
    "duration": 20,
    "start_time": "2022-01-10T19:42:56.068Z"
   },
   {
    "duration": 137,
    "start_time": "2022-01-10T19:42:56.090Z"
   },
   {
    "duration": 271,
    "start_time": "2022-01-10T19:42:56.228Z"
   },
   {
    "duration": 509,
    "start_time": "2022-01-10T19:42:56.501Z"
   },
   {
    "duration": 125,
    "start_time": "2022-01-10T19:42:57.012Z"
   },
   {
    "duration": 201,
    "start_time": "2022-01-10T19:42:57.138Z"
   },
   {
    "duration": 151,
    "start_time": "2022-01-10T19:42:57.341Z"
   },
   {
    "duration": 220,
    "start_time": "2022-01-10T19:42:57.494Z"
   },
   {
    "duration": 218,
    "start_time": "2022-01-10T19:42:57.716Z"
   },
   {
    "duration": 520,
    "start_time": "2022-01-10T19:42:57.936Z"
   },
   {
    "duration": 29,
    "start_time": "2022-01-10T19:42:58.457Z"
   },
   {
    "duration": 378,
    "start_time": "2022-01-10T19:42:58.488Z"
   },
   {
    "duration": -102,
    "start_time": "2022-01-10T19:42:58.970Z"
   },
   {
    "duration": -116,
    "start_time": "2022-01-10T19:42:58.985Z"
   },
   {
    "duration": -126,
    "start_time": "2022-01-10T19:42:58.997Z"
   },
   {
    "duration": -138,
    "start_time": "2022-01-10T19:42:59.010Z"
   },
   {
    "duration": -148,
    "start_time": "2022-01-10T19:42:59.021Z"
   },
   {
    "duration": -159,
    "start_time": "2022-01-10T19:42:59.034Z"
   },
   {
    "duration": 10,
    "start_time": "2022-01-10T19:48:20.327Z"
   },
   {
    "duration": 15,
    "start_time": "2022-01-10T19:48:24.961Z"
   },
   {
    "duration": 13,
    "start_time": "2022-01-10T19:48:33.051Z"
   },
   {
    "duration": 187,
    "start_time": "2022-01-10T19:48:35.929Z"
   },
   {
    "duration": 27,
    "start_time": "2022-01-10T19:48:42.707Z"
   },
   {
    "duration": 234,
    "start_time": "2022-01-10T19:48:52.331Z"
   },
   {
    "duration": 33,
    "start_time": "2022-01-10T19:48:59.486Z"
   },
   {
    "duration": 28,
    "start_time": "2022-01-10T19:49:00.991Z"
   },
   {
    "duration": 390,
    "start_time": "2022-01-10T19:51:43.493Z"
   },
   {
    "duration": 472,
    "start_time": "2022-01-10T19:52:08.425Z"
   },
   {
    "duration": 122,
    "start_time": "2022-01-10T19:52:31.264Z"
   },
   {
    "duration": 167,
    "start_time": "2022-01-10T19:53:08.067Z"
   },
   {
    "duration": 133,
    "start_time": "2022-01-10T19:55:10.568Z"
   },
   {
    "duration": 428,
    "start_time": "2022-01-10T19:55:49.268Z"
   },
   {
    "duration": 392,
    "start_time": "2022-01-10T19:56:30.393Z"
   },
   {
    "duration": 372,
    "start_time": "2022-01-10T19:56:48.018Z"
   },
   {
    "duration": 386,
    "start_time": "2022-01-10T19:57:24.933Z"
   },
   {
    "duration": 458,
    "start_time": "2022-01-10T19:58:14.230Z"
   },
   {
    "duration": 637,
    "start_time": "2022-01-10T19:58:36.293Z"
   },
   {
    "duration": 365,
    "start_time": "2022-01-10T19:59:08.687Z"
   },
   {
    "duration": 659,
    "start_time": "2022-01-10T19:59:38.394Z"
   },
   {
    "duration": 524,
    "start_time": "2022-01-10T20:00:22.984Z"
   },
   {
    "duration": 475,
    "start_time": "2022-01-10T20:01:04.212Z"
   },
   {
    "duration": 101,
    "start_time": "2022-01-10T20:01:58.176Z"
   },
   {
    "duration": 116,
    "start_time": "2022-01-10T20:02:10.322Z"
   },
   {
    "duration": 185,
    "start_time": "2022-01-10T20:02:17.732Z"
   },
   {
    "duration": 163,
    "start_time": "2022-01-10T20:03:51.199Z"
   },
   {
    "duration": 180,
    "start_time": "2022-01-10T20:03:56.424Z"
   },
   {
    "duration": 136,
    "start_time": "2022-01-10T20:04:36.724Z"
   },
   {
    "duration": 177,
    "start_time": "2022-01-10T20:05:14.052Z"
   },
   {
    "duration": 361,
    "start_time": "2022-01-10T20:06:31.746Z"
   },
   {
    "duration": 380,
    "start_time": "2022-01-10T20:07:00.676Z"
   },
   {
    "duration": 356,
    "start_time": "2022-01-10T20:07:18.242Z"
   },
   {
    "duration": 1030,
    "start_time": "2022-01-10T20:08:06.412Z"
   },
   {
    "duration": 666,
    "start_time": "2022-01-10T20:08:47.462Z"
   },
   {
    "duration": 354,
    "start_time": "2022-01-10T20:09:47.449Z"
   },
   {
    "duration": 134,
    "start_time": "2022-01-10T20:10:08.765Z"
   },
   {
    "duration": 149,
    "start_time": "2022-01-10T20:12:02.088Z"
   },
   {
    "duration": 213,
    "start_time": "2022-01-10T20:14:33.987Z"
   },
   {
    "duration": 183,
    "start_time": "2022-01-10T20:14:51.605Z"
   },
   {
    "duration": 169,
    "start_time": "2022-01-10T20:15:15.784Z"
   },
   {
    "duration": 296,
    "start_time": "2022-01-10T20:16:35.731Z"
   },
   {
    "duration": 572,
    "start_time": "2022-01-10T20:31:23.688Z"
   },
   {
    "duration": 195,
    "start_time": "2022-01-10T20:31:50.225Z"
   },
   {
    "duration": 499,
    "start_time": "2022-01-10T20:34:27.212Z"
   },
   {
    "duration": 808,
    "start_time": "2022-01-11T16:43:59.471Z"
   },
   {
    "duration": 68,
    "start_time": "2022-01-11T16:44:00.281Z"
   },
   {
    "duration": 29,
    "start_time": "2022-01-11T16:44:00.354Z"
   },
   {
    "duration": 611,
    "start_time": "2022-01-11T16:44:00.385Z"
   },
   {
    "duration": 13,
    "start_time": "2022-01-11T16:44:00.997Z"
   },
   {
    "duration": 48,
    "start_time": "2022-01-11T16:44:01.011Z"
   },
   {
    "duration": 783,
    "start_time": "2022-01-11T16:44:01.063Z"
   },
   {
    "duration": 955,
    "start_time": "2022-01-11T16:44:01.848Z"
   },
   {
    "duration": 13,
    "start_time": "2022-01-11T16:44:02.806Z"
   },
   {
    "duration": 23,
    "start_time": "2022-01-11T16:44:02.820Z"
   },
   {
    "duration": 4134,
    "start_time": "2022-01-11T16:44:02.844Z"
   },
   {
    "duration": 163,
    "start_time": "2022-01-11T16:44:06.980Z"
   },
   {
    "duration": 453,
    "start_time": "2022-01-11T16:44:07.145Z"
   },
   {
    "duration": 21,
    "start_time": "2022-01-11T16:44:07.600Z"
   },
   {
    "duration": 136,
    "start_time": "2022-01-11T16:44:07.623Z"
   },
   {
    "duration": 308,
    "start_time": "2022-01-11T16:44:07.761Z"
   },
   {
    "duration": 621,
    "start_time": "2022-01-11T16:44:08.071Z"
   },
   {
    "duration": 155,
    "start_time": "2022-01-11T16:44:08.694Z"
   },
   {
    "duration": 215,
    "start_time": "2022-01-11T16:44:08.851Z"
   },
   {
    "duration": 214,
    "start_time": "2022-01-11T16:44:09.068Z"
   },
   {
    "duration": 292,
    "start_time": "2022-01-11T16:44:09.284Z"
   },
   {
    "duration": 352,
    "start_time": "2022-01-11T16:44:09.580Z"
   },
   {
    "duration": 559,
    "start_time": "2022-01-11T16:44:09.933Z"
   },
   {
    "duration": 28,
    "start_time": "2022-01-11T16:44:10.493Z"
   },
   {
    "duration": 23,
    "start_time": "2022-01-11T16:44:10.522Z"
   },
   {
    "duration": 33,
    "start_time": "2022-01-11T16:44:10.547Z"
   },
   {
    "duration": 18,
    "start_time": "2022-01-11T16:44:10.581Z"
   },
   {
    "duration": 234,
    "start_time": "2022-01-11T16:44:10.601Z"
   },
   {
    "duration": 28,
    "start_time": "2022-01-11T16:44:10.837Z"
   },
   {
    "duration": 286,
    "start_time": "2022-01-11T16:44:10.867Z"
   },
   {
    "duration": 34,
    "start_time": "2022-01-11T16:44:11.155Z"
   },
   {
    "duration": 230,
    "start_time": "2022-01-11T16:44:11.191Z"
   },
   {
    "duration": 264,
    "start_time": "2022-01-11T16:48:52.271Z"
   },
   {
    "duration": 229,
    "start_time": "2022-01-11T16:49:24.551Z"
   },
   {
    "duration": 100,
    "start_time": "2022-01-11T16:51:31.214Z"
   },
   {
    "duration": 87,
    "start_time": "2022-01-11T16:51:52.655Z"
   },
   {
    "duration": 337,
    "start_time": "2022-01-11T16:52:01.145Z"
   },
   {
    "duration": 225,
    "start_time": "2022-01-11T16:52:18.661Z"
   },
   {
    "duration": 348,
    "start_time": "2022-01-11T16:52:29.510Z"
   },
   {
    "duration": 245,
    "start_time": "2022-01-11T16:53:44.501Z"
   },
   {
    "duration": 243,
    "start_time": "2022-01-11T16:54:07.273Z"
   },
   {
    "duration": 963,
    "start_time": "2022-01-11T16:55:02.211Z"
   },
   {
    "duration": 301,
    "start_time": "2022-01-11T16:55:24.418Z"
   },
   {
    "duration": 285,
    "start_time": "2022-01-11T16:56:29.762Z"
   },
   {
    "duration": 129,
    "start_time": "2022-01-11T17:02:20.513Z"
   },
   {
    "duration": 131,
    "start_time": "2022-01-11T17:02:27.865Z"
   },
   {
    "duration": 401,
    "start_time": "2022-01-11T17:05:25.997Z"
   },
   {
    "duration": 88,
    "start_time": "2022-01-11T17:06:40.087Z"
   },
   {
    "duration": 149,
    "start_time": "2022-01-11T17:06:47.727Z"
   },
   {
    "duration": 144,
    "start_time": "2022-01-11T17:07:06.904Z"
   },
   {
    "duration": 199,
    "start_time": "2022-01-11T17:07:22.182Z"
   },
   {
    "duration": 15,
    "start_time": "2022-01-11T17:07:42.102Z"
   },
   {
    "duration": 16,
    "start_time": "2022-01-11T17:08:53.321Z"
   },
   {
    "duration": 16,
    "start_time": "2022-01-11T17:09:21.557Z"
   },
   {
    "duration": 263,
    "start_time": "2022-01-11T17:11:34.893Z"
   },
   {
    "duration": 29,
    "start_time": "2022-01-11T17:11:49.580Z"
   },
   {
    "duration": 31,
    "start_time": "2022-01-11T17:13:18.221Z"
   },
   {
    "duration": 22,
    "start_time": "2022-01-11T17:15:31.293Z"
   },
   {
    "duration": 18,
    "start_time": "2022-01-11T17:15:37.930Z"
   },
   {
    "duration": 26,
    "start_time": "2022-01-11T17:17:27.380Z"
   },
   {
    "duration": 62,
    "start_time": "2022-01-11T17:17:46.648Z"
   },
   {
    "duration": 24,
    "start_time": "2022-01-11T17:18:08.374Z"
   },
   {
    "duration": 16,
    "start_time": "2022-01-11T17:22:27.732Z"
   },
   {
    "duration": 113,
    "start_time": "2022-01-11T17:26:00.104Z"
   },
   {
    "duration": 3385,
    "start_time": "2022-01-11T17:26:49.905Z"
   },
   {
    "duration": 2812,
    "start_time": "2022-01-11T17:27:40.204Z"
   },
   {
    "duration": 27,
    "start_time": "2022-01-11T17:28:18.078Z"
   },
   {
    "duration": 27,
    "start_time": "2022-01-11T17:30:02.829Z"
   },
   {
    "duration": 35,
    "start_time": "2022-01-11T17:31:32.894Z"
   },
   {
    "duration": 39,
    "start_time": "2022-01-11T17:32:59.113Z"
   },
   {
    "duration": 24,
    "start_time": "2022-01-11T17:33:47.523Z"
   },
   {
    "duration": 22,
    "start_time": "2022-01-11T17:34:14.886Z"
   },
   {
    "duration": 20,
    "start_time": "2022-01-11T17:36:07.972Z"
   },
   {
    "duration": 22,
    "start_time": "2022-01-11T17:36:54.678Z"
   },
   {
    "duration": 23,
    "start_time": "2022-01-11T17:38:15.312Z"
   },
   {
    "duration": 128,
    "start_time": "2022-01-11T17:40:45.229Z"
   },
   {
    "duration": 40,
    "start_time": "2022-01-11T17:40:54.898Z"
   },
   {
    "duration": 40,
    "start_time": "2022-01-11T17:41:44.330Z"
   },
   {
    "duration": 37,
    "start_time": "2022-01-11T17:42:21.317Z"
   },
   {
    "duration": 41,
    "start_time": "2022-01-11T17:43:33.146Z"
   },
   {
    "duration": 38,
    "start_time": "2022-01-11T17:43:48.526Z"
   },
   {
    "duration": 34,
    "start_time": "2022-01-11T17:44:42.707Z"
   },
   {
    "duration": 270,
    "start_time": "2022-01-11T17:45:02.976Z"
   },
   {
    "duration": 35,
    "start_time": "2022-01-11T17:45:08.680Z"
   },
   {
    "duration": 35,
    "start_time": "2022-01-11T17:45:23.935Z"
   },
   {
    "duration": 23,
    "start_time": "2022-01-11T17:45:55.111Z"
   },
   {
    "duration": 18,
    "start_time": "2022-01-11T17:48:02.290Z"
   },
   {
    "duration": 218,
    "start_time": "2022-01-11T17:49:02.601Z"
   },
   {
    "duration": 229,
    "start_time": "2022-01-11T17:54:33.157Z"
   },
   {
    "duration": 444,
    "start_time": "2022-01-11T17:55:51.036Z"
   },
   {
    "duration": 220,
    "start_time": "2022-01-11T17:56:39.610Z"
   },
   {
    "duration": 209,
    "start_time": "2022-01-11T17:57:20.047Z"
   },
   {
    "duration": 372,
    "start_time": "2022-01-11T18:11:45.249Z"
   },
   {
    "duration": 988,
    "start_time": "2022-01-11T18:12:13.106Z"
   },
   {
    "duration": 102,
    "start_time": "2022-01-11T18:12:14.096Z"
   },
   {
    "duration": 36,
    "start_time": "2022-01-11T18:12:14.201Z"
   },
   {
    "duration": 770,
    "start_time": "2022-01-11T18:12:14.240Z"
   },
   {
    "duration": 16,
    "start_time": "2022-01-11T18:12:15.013Z"
   },
   {
    "duration": 46,
    "start_time": "2022-01-11T18:12:15.031Z"
   },
   {
    "duration": 1006,
    "start_time": "2022-01-11T18:12:15.079Z"
   },
   {
    "duration": 1655,
    "start_time": "2022-01-11T18:12:16.089Z"
   },
   {
    "duration": 21,
    "start_time": "2022-01-11T18:12:17.747Z"
   },
   {
    "duration": 5,
    "start_time": "2022-01-11T18:12:17.770Z"
   },
   {
    "duration": 6095,
    "start_time": "2022-01-11T18:12:17.777Z"
   },
   {
    "duration": 276,
    "start_time": "2022-01-11T18:12:23.875Z"
   },
   {
    "duration": 777,
    "start_time": "2022-01-11T18:12:24.167Z"
   },
   {
    "duration": 46,
    "start_time": "2022-01-11T18:12:24.947Z"
   },
   {
    "duration": 336,
    "start_time": "2022-01-11T18:12:24.996Z"
   },
   {
    "duration": 569,
    "start_time": "2022-01-11T18:12:25.335Z"
   },
   {
    "duration": 990,
    "start_time": "2022-01-11T18:12:25.907Z"
   },
   {
    "duration": 281,
    "start_time": "2022-01-11T18:12:26.900Z"
   },
   {
    "duration": 325,
    "start_time": "2022-01-11T18:12:27.183Z"
   },
   {
    "duration": 307,
    "start_time": "2022-01-11T18:12:27.510Z"
   },
   {
    "duration": 406,
    "start_time": "2022-01-11T18:12:27.819Z"
   },
   {
    "duration": 482,
    "start_time": "2022-01-11T18:12:28.228Z"
   },
   {
    "duration": 1000,
    "start_time": "2022-01-11T18:12:28.715Z"
   },
   {
    "duration": 54,
    "start_time": "2022-01-11T18:12:29.718Z"
   },
   {
    "duration": 37,
    "start_time": "2022-01-11T18:12:29.774Z"
   },
   {
    "duration": 21,
    "start_time": "2022-01-11T18:12:29.814Z"
   },
   {
    "duration": 48,
    "start_time": "2022-01-11T18:12:29.837Z"
   },
   {
    "duration": 369,
    "start_time": "2022-01-11T18:12:29.888Z"
   },
   {
    "duration": 52,
    "start_time": "2022-01-11T18:12:30.260Z"
   },
   {
    "duration": 463,
    "start_time": "2022-01-11T18:12:30.315Z"
   },
   {
    "duration": 58,
    "start_time": "2022-01-11T18:12:30.781Z"
   },
   {
    "duration": 295,
    "start_time": "2022-01-11T18:12:30.842Z"
   },
   {
    "duration": 48,
    "start_time": "2022-01-11T18:12:31.140Z"
   },
   {
    "duration": 37,
    "start_time": "2022-01-11T18:12:31.190Z"
   },
   {
    "duration": 57,
    "start_time": "2022-01-11T18:12:31.230Z"
   },
   {
    "duration": 373,
    "start_time": "2022-01-11T18:12:31.290Z"
   },
   {
    "duration": 41,
    "start_time": "2022-01-11T18:17:33.453Z"
   },
   {
    "duration": 53,
    "start_time": "2022-01-11T18:25:11.345Z"
   },
   {
    "duration": 20,
    "start_time": "2022-01-11T18:27:25.819Z"
   },
   {
    "duration": 17,
    "start_time": "2022-01-11T18:27:53.055Z"
   },
   {
    "duration": 676,
    "start_time": "2022-01-11T19:31:36.605Z"
   },
   {
    "duration": 873,
    "start_time": "2022-01-11T19:31:57.736Z"
   },
   {
    "duration": 39,
    "start_time": "2022-01-11T19:42:19.750Z"
   },
   {
    "duration": 88,
    "start_time": "2022-01-11T19:48:49.903Z"
   },
   {
    "duration": 92,
    "start_time": "2022-01-11T19:48:57.872Z"
   },
   {
    "duration": 29,
    "start_time": "2022-01-11T19:50:08.527Z"
   },
   {
    "duration": 31,
    "start_time": "2022-01-11T19:50:59.623Z"
   },
   {
    "duration": 31,
    "start_time": "2022-01-11T19:52:32.375Z"
   },
   {
    "duration": 41,
    "start_time": "2022-01-11T19:53:24.257Z"
   },
   {
    "duration": 163,
    "start_time": "2022-01-11T20:07:01.361Z"
   },
   {
    "duration": 1021,
    "start_time": "2022-01-11T20:07:49.826Z"
   },
   {
    "duration": 116,
    "start_time": "2022-01-11T20:07:50.851Z"
   },
   {
    "duration": 39,
    "start_time": "2022-01-11T20:07:50.970Z"
   },
   {
    "duration": 817,
    "start_time": "2022-01-11T20:07:51.011Z"
   },
   {
    "duration": 16,
    "start_time": "2022-01-11T20:07:51.830Z"
   },
   {
    "duration": 38,
    "start_time": "2022-01-11T20:07:51.848Z"
   },
   {
    "duration": 1051,
    "start_time": "2022-01-11T20:07:51.889Z"
   },
   {
    "duration": 1737,
    "start_time": "2022-01-11T20:07:52.943Z"
   },
   {
    "duration": 16,
    "start_time": "2022-01-11T20:07:54.684Z"
   },
   {
    "duration": 5,
    "start_time": "2022-01-11T20:07:54.703Z"
   },
   {
    "duration": 5598,
    "start_time": "2022-01-11T20:07:54.710Z"
   },
   {
    "duration": 269,
    "start_time": "2022-01-11T20:08:00.312Z"
   },
   {
    "duration": 785,
    "start_time": "2022-01-11T20:08:00.584Z"
   },
   {
    "duration": 35,
    "start_time": "2022-01-11T20:08:01.372Z"
   },
   {
    "duration": 268,
    "start_time": "2022-01-11T20:08:01.409Z"
   },
   {
    "duration": 520,
    "start_time": "2022-01-11T20:08:01.680Z"
   },
   {
    "duration": 1006,
    "start_time": "2022-01-11T20:08:02.202Z"
   },
   {
    "duration": 258,
    "start_time": "2022-01-11T20:08:03.211Z"
   },
   {
    "duration": 288,
    "start_time": "2022-01-11T20:08:03.471Z"
   },
   {
    "duration": 294,
    "start_time": "2022-01-11T20:08:03.761Z"
   },
   {
    "duration": 408,
    "start_time": "2022-01-11T20:08:04.057Z"
   },
   {
    "duration": 482,
    "start_time": "2022-01-11T20:08:04.468Z"
   },
   {
    "duration": 1059,
    "start_time": "2022-01-11T20:08:04.955Z"
   },
   {
    "duration": 93,
    "start_time": "2022-01-11T20:08:06.017Z"
   },
   {
    "duration": 29,
    "start_time": "2022-01-11T20:08:06.083Z"
   },
   {
    "duration": 24,
    "start_time": "2022-01-11T20:08:06.090Z"
   },
   {
    "duration": 22,
    "start_time": "2022-01-11T20:08:06.093Z"
   },
   {
    "duration": 21,
    "start_time": "2022-01-11T20:08:06.096Z"
   },
   {
    "duration": 19,
    "start_time": "2022-01-11T20:08:06.099Z"
   },
   {
    "duration": 5,
    "start_time": "2022-01-11T20:08:06.115Z"
   },
   {
    "duration": 3,
    "start_time": "2022-01-11T20:08:06.118Z"
   },
   {
    "duration": 2,
    "start_time": "2022-01-11T20:08:06.121Z"
   },
   {
    "duration": 1,
    "start_time": "2022-01-11T20:08:06.124Z"
   },
   {
    "duration": 1,
    "start_time": "2022-01-11T20:08:06.126Z"
   },
   {
    "duration": -1,
    "start_time": "2022-01-11T20:08:06.129Z"
   },
   {
    "duration": -1,
    "start_time": "2022-01-11T20:08:06.131Z"
   },
   {
    "duration": 80,
    "start_time": "2022-01-11T20:08:47.687Z"
   },
   {
    "duration": 134,
    "start_time": "2022-01-11T20:09:25.465Z"
   },
   {
    "duration": 93,
    "start_time": "2022-01-11T20:09:37.743Z"
   },
   {
    "duration": 9243,
    "start_time": "2022-01-11T20:10:53.644Z"
   },
   {
    "duration": 9341,
    "start_time": "2022-01-11T20:11:17.901Z"
   },
   {
    "duration": 679,
    "start_time": "2022-01-11T20:11:29.176Z"
   },
   {
    "duration": 640,
    "start_time": "2022-01-11T20:11:34.253Z"
   },
   {
    "duration": 672,
    "start_time": "2022-01-11T20:12:15.131Z"
   },
   {
    "duration": 625,
    "start_time": "2022-01-11T20:13:37.064Z"
   },
   {
    "duration": 102,
    "start_time": "2022-01-11T20:14:09.702Z"
   },
   {
    "duration": 716,
    "start_time": "2022-01-11T20:14:18.946Z"
   },
   {
    "duration": 702,
    "start_time": "2022-01-11T20:15:16.169Z"
   },
   {
    "duration": 805,
    "start_time": "2022-01-11T20:15:56.580Z"
   },
   {
    "duration": 50,
    "start_time": "2022-01-11T20:16:13.212Z"
   },
   {
    "duration": 1061,
    "start_time": "2022-01-11T20:16:54.554Z"
   },
   {
    "duration": 107,
    "start_time": "2022-01-11T20:16:55.619Z"
   },
   {
    "duration": 53,
    "start_time": "2022-01-11T20:16:55.730Z"
   },
   {
    "duration": 783,
    "start_time": "2022-01-11T20:16:55.786Z"
   },
   {
    "duration": 18,
    "start_time": "2022-01-11T20:16:56.572Z"
   },
   {
    "duration": 30,
    "start_time": "2022-01-11T20:16:56.592Z"
   },
   {
    "duration": 1021,
    "start_time": "2022-01-11T20:16:56.625Z"
   },
   {
    "duration": 1834,
    "start_time": "2022-01-11T20:16:57.650Z"
   },
   {
    "duration": 81,
    "start_time": "2022-01-11T20:16:59.488Z"
   },
   {
    "duration": 6,
    "start_time": "2022-01-11T20:16:59.572Z"
   },
   {
    "duration": 6599,
    "start_time": "2022-01-11T20:16:59.580Z"
   },
   {
    "duration": 261,
    "start_time": "2022-01-11T20:17:06.183Z"
   },
   {
    "duration": 764,
    "start_time": "2022-01-11T20:17:06.446Z"
   },
   {
    "duration": 64,
    "start_time": "2022-01-11T20:17:07.213Z"
   },
   {
    "duration": 319,
    "start_time": "2022-01-11T20:17:07.280Z"
   },
   {
    "duration": 512,
    "start_time": "2022-01-11T20:17:07.602Z"
   },
   {
    "duration": 928,
    "start_time": "2022-01-11T20:17:08.117Z"
   },
   {
    "duration": 310,
    "start_time": "2022-01-11T20:17:09.048Z"
   },
   {
    "duration": 429,
    "start_time": "2022-01-11T20:17:09.368Z"
   },
   {
    "duration": 277,
    "start_time": "2022-01-11T20:17:09.800Z"
   },
   {
    "duration": 411,
    "start_time": "2022-01-11T20:17:10.079Z"
   },
   {
    "duration": 475,
    "start_time": "2022-01-11T20:17:10.493Z"
   },
   {
    "duration": 1071,
    "start_time": "2022-01-11T20:17:10.975Z"
   },
   {
    "duration": 52,
    "start_time": "2022-01-11T20:17:12.048Z"
   },
   {
    "duration": 14,
    "start_time": "2022-01-11T20:17:12.102Z"
   },
   {
    "duration": 87,
    "start_time": "2022-01-11T20:17:12.119Z"
   },
   {
    "duration": 30,
    "start_time": "2022-01-11T20:17:12.209Z"
   },
   {
    "duration": 478,
    "start_time": "2022-01-11T20:17:12.241Z"
   },
   {
    "duration": 69,
    "start_time": "2022-01-11T20:17:12.722Z"
   },
   {
    "duration": 481,
    "start_time": "2022-01-11T20:17:12.793Z"
   },
   {
    "duration": 113,
    "start_time": "2022-01-11T20:17:13.277Z"
   },
   {
    "duration": 296,
    "start_time": "2022-01-11T20:17:13.393Z"
   },
   {
    "duration": 30,
    "start_time": "2022-01-11T20:17:13.692Z"
   },
   {
    "duration": 77,
    "start_time": "2022-01-11T20:17:13.724Z"
   },
   {
    "duration": 65,
    "start_time": "2022-01-11T20:17:13.804Z"
   },
   {
    "duration": 375,
    "start_time": "2022-01-11T20:17:13.872Z"
   },
   {
    "duration": 1079,
    "start_time": "2022-01-11T20:20:27.976Z"
   },
   {
    "duration": 104,
    "start_time": "2022-01-11T20:20:29.067Z"
   },
   {
    "duration": 51,
    "start_time": "2022-01-11T20:20:29.175Z"
   },
   {
    "duration": 837,
    "start_time": "2022-01-11T20:20:29.230Z"
   },
   {
    "duration": 19,
    "start_time": "2022-01-11T20:20:30.069Z"
   },
   {
    "duration": 38,
    "start_time": "2022-01-11T20:20:30.090Z"
   },
   {
    "duration": 1859,
    "start_time": "2022-01-11T20:20:30.130Z"
   },
   {
    "duration": 1721,
    "start_time": "2022-01-11T20:20:31.993Z"
   },
   {
    "duration": 18,
    "start_time": "2022-01-11T20:20:33.717Z"
   },
   {
    "duration": 7,
    "start_time": "2022-01-11T20:20:33.737Z"
   },
   {
    "duration": 5808,
    "start_time": "2022-01-11T20:20:33.768Z"
   },
   {
    "duration": 254,
    "start_time": "2022-01-11T20:20:39.579Z"
   },
   {
    "duration": 761,
    "start_time": "2022-01-11T20:20:39.836Z"
   },
   {
    "duration": 34,
    "start_time": "2022-01-11T20:20:40.600Z"
   },
   {
    "duration": 270,
    "start_time": "2022-01-11T20:20:40.637Z"
   },
   {
    "duration": 527,
    "start_time": "2022-01-11T20:20:40.910Z"
   },
   {
    "duration": 940,
    "start_time": "2022-01-11T20:20:41.441Z"
   },
   {
    "duration": 248,
    "start_time": "2022-01-11T20:20:42.385Z"
   },
   {
    "duration": 300,
    "start_time": "2022-01-11T20:20:42.637Z"
   },
   {
    "duration": 275,
    "start_time": "2022-01-11T20:20:42.940Z"
   },
   {
    "duration": 430,
    "start_time": "2022-01-11T20:20:43.218Z"
   },
   {
    "duration": 484,
    "start_time": "2022-01-11T20:20:43.651Z"
   },
   {
    "duration": 1025,
    "start_time": "2022-01-11T20:20:44.142Z"
   },
   {
    "duration": 58,
    "start_time": "2022-01-11T20:20:45.185Z"
   },
   {
    "duration": 29,
    "start_time": "2022-01-11T20:20:45.246Z"
   },
   {
    "duration": 41,
    "start_time": "2022-01-11T20:20:45.278Z"
   },
   {
    "duration": 51,
    "start_time": "2022-01-11T20:20:45.323Z"
   },
   {
    "duration": 393,
    "start_time": "2022-01-11T20:20:45.377Z"
   },
   {
    "duration": 48,
    "start_time": "2022-01-11T20:20:45.773Z"
   },
   {
    "duration": 467,
    "start_time": "2022-01-11T20:20:45.824Z"
   },
   {
    "duration": 75,
    "start_time": "2022-01-11T20:20:46.295Z"
   },
   {
    "duration": 300,
    "start_time": "2022-01-11T20:20:46.373Z"
   },
   {
    "duration": 30,
    "start_time": "2022-01-11T20:20:46.677Z"
   },
   {
    "duration": 72,
    "start_time": "2022-01-11T20:20:46.710Z"
   },
   {
    "duration": 26,
    "start_time": "2022-01-11T20:20:46.784Z"
   },
   {
    "duration": 377,
    "start_time": "2022-01-11T20:20:46.813Z"
   },
   {
    "duration": 282,
    "start_time": "2022-01-11T20:21:10.899Z"
   },
   {
    "duration": 1036,
    "start_time": "2022-01-13T11:21:45.326Z"
   },
   {
    "duration": 102,
    "start_time": "2022-01-13T11:21:46.368Z"
   },
   {
    "duration": 35,
    "start_time": "2022-01-13T11:21:46.473Z"
   },
   {
    "duration": 768,
    "start_time": "2022-01-13T11:21:46.511Z"
   },
   {
    "duration": 15,
    "start_time": "2022-01-13T11:21:47.281Z"
   },
   {
    "duration": 32,
    "start_time": "2022-01-13T11:21:47.298Z"
   },
   {
    "duration": 993,
    "start_time": "2022-01-13T11:21:47.332Z"
   },
   {
    "duration": 1685,
    "start_time": "2022-01-13T11:21:48.329Z"
   },
   {
    "duration": 16,
    "start_time": "2022-01-13T11:21:50.018Z"
   },
   {
    "duration": 5,
    "start_time": "2022-01-13T11:21:50.037Z"
   },
   {
    "duration": 5319,
    "start_time": "2022-01-13T11:21:50.044Z"
   },
   {
    "duration": 250,
    "start_time": "2022-01-13T11:21:55.368Z"
   },
   {
    "duration": 735,
    "start_time": "2022-01-13T11:21:55.621Z"
   },
   {
    "duration": 39,
    "start_time": "2022-01-13T11:21:56.358Z"
   },
   {
    "duration": 268,
    "start_time": "2022-01-13T11:21:56.401Z"
   },
   {
    "duration": 524,
    "start_time": "2022-01-13T11:21:56.673Z"
   },
   {
    "duration": 944,
    "start_time": "2022-01-13T11:21:57.200Z"
   },
   {
    "duration": 244,
    "start_time": "2022-01-13T11:21:58.147Z"
   },
   {
    "duration": 299,
    "start_time": "2022-01-13T11:21:58.393Z"
   },
   {
    "duration": 254,
    "start_time": "2022-01-13T11:21:58.694Z"
   },
   {
    "duration": 416,
    "start_time": "2022-01-13T11:21:58.951Z"
   },
   {
    "duration": 489,
    "start_time": "2022-01-13T11:21:59.369Z"
   },
   {
    "duration": 1017,
    "start_time": "2022-01-13T11:21:59.866Z"
   },
   {
    "duration": 40,
    "start_time": "2022-01-13T11:22:00.886Z"
   },
   {
    "duration": 45,
    "start_time": "2022-01-13T11:22:00.929Z"
   },
   {
    "duration": 57,
    "start_time": "2022-01-13T11:22:00.977Z"
   },
   {
    "duration": 52,
    "start_time": "2022-01-13T11:22:01.038Z"
   },
   {
    "duration": 375,
    "start_time": "2022-01-13T11:22:01.092Z"
   },
   {
    "duration": 44,
    "start_time": "2022-01-13T11:22:01.469Z"
   },
   {
    "duration": 515,
    "start_time": "2022-01-13T11:22:01.516Z"
   },
   {
    "duration": 71,
    "start_time": "2022-01-13T11:22:02.033Z"
   },
   {
    "duration": 284,
    "start_time": "2022-01-13T11:22:02.106Z"
   },
   {
    "duration": 28,
    "start_time": "2022-01-13T11:22:02.392Z"
   },
   {
    "duration": 70,
    "start_time": "2022-01-13T11:22:02.423Z"
   },
   {
    "duration": 26,
    "start_time": "2022-01-13T11:22:02.496Z"
   },
   {
    "duration": 498,
    "start_time": "2022-01-13T11:22:02.525Z"
   },
   {
    "duration": 644,
    "start_time": "2022-01-20T21:36:10.962Z"
   },
   {
    "duration": 686,
    "start_time": "2022-01-20T21:36:36.515Z"
   },
   {
    "duration": 50,
    "start_time": "2022-01-20T21:36:37.203Z"
   },
   {
    "duration": 19,
    "start_time": "2022-01-20T21:36:37.256Z"
   },
   {
    "duration": 396,
    "start_time": "2022-01-20T21:36:37.277Z"
   },
   {
    "duration": 10,
    "start_time": "2022-01-20T21:36:37.674Z"
   },
   {
    "duration": 30,
    "start_time": "2022-01-20T21:36:37.685Z"
   },
   {
    "duration": 526,
    "start_time": "2022-01-20T21:36:37.717Z"
   },
   {
    "duration": 888,
    "start_time": "2022-01-20T21:36:38.245Z"
   },
   {
    "duration": 7,
    "start_time": "2022-01-20T21:36:39.135Z"
   },
   {
    "duration": 3,
    "start_time": "2022-01-20T21:36:39.144Z"
   },
   {
    "duration": 3045,
    "start_time": "2022-01-20T21:36:39.148Z"
   },
   {
    "duration": 140,
    "start_time": "2022-01-20T21:36:42.195Z"
   },
   {
    "duration": 420,
    "start_time": "2022-01-20T21:36:42.337Z"
   },
   {
    "duration": 20,
    "start_time": "2022-01-20T21:36:42.759Z"
   },
   {
    "duration": 141,
    "start_time": "2022-01-20T21:36:42.781Z"
   },
   {
    "duration": 279,
    "start_time": "2022-01-20T21:36:42.924Z"
   },
   {
    "duration": 493,
    "start_time": "2022-01-20T21:36:43.205Z"
   },
   {
    "duration": 134,
    "start_time": "2022-01-20T21:36:43.699Z"
   },
   {
    "duration": 163,
    "start_time": "2022-01-20T21:36:43.834Z"
   },
   {
    "duration": 149,
    "start_time": "2022-01-20T21:36:43.999Z"
   },
   {
    "duration": 222,
    "start_time": "2022-01-20T21:36:44.149Z"
   },
   {
    "duration": 267,
    "start_time": "2022-01-20T21:36:44.372Z"
   },
   {
    "duration": 539,
    "start_time": "2022-01-20T21:36:44.642Z"
   },
   {
    "duration": 30,
    "start_time": "2022-01-20T21:36:45.182Z"
   },
   {
    "duration": 7,
    "start_time": "2022-01-20T21:36:45.213Z"
   },
   {
    "duration": 22,
    "start_time": "2022-01-20T21:36:45.222Z"
   },
   {
    "duration": 12,
    "start_time": "2022-01-20T21:36:45.245Z"
   },
   {
    "duration": 217,
    "start_time": "2022-01-20T21:36:45.259Z"
   },
   {
    "duration": 39,
    "start_time": "2022-01-20T21:36:45.478Z"
   },
   {
    "duration": 244,
    "start_time": "2022-01-20T21:36:45.519Z"
   },
   {
    "duration": 32,
    "start_time": "2022-01-20T21:36:45.765Z"
   },
   {
    "duration": 146,
    "start_time": "2022-01-20T21:36:45.811Z"
   },
   {
    "duration": 14,
    "start_time": "2022-01-20T21:36:45.959Z"
   },
   {
    "duration": 45,
    "start_time": "2022-01-20T21:36:45.975Z"
   },
   {
    "duration": 13,
    "start_time": "2022-01-20T21:36:46.022Z"
   },
   {
    "duration": 206,
    "start_time": "2022-01-20T21:36:46.037Z"
   },
   {
    "duration": 983,
    "start_time": "2022-01-28T09:18:41.461Z"
   },
   {
    "duration": 93,
    "start_time": "2022-01-28T09:18:42.446Z"
   },
   {
    "duration": 32,
    "start_time": "2022-01-28T09:18:42.559Z"
   },
   {
    "duration": 783,
    "start_time": "2022-01-28T09:18:42.595Z"
   },
   {
    "duration": 15,
    "start_time": "2022-01-28T09:18:43.381Z"
   },
   {
    "duration": 27,
    "start_time": "2022-01-28T09:18:43.399Z"
   },
   {
    "duration": 983,
    "start_time": "2022-01-28T09:18:43.429Z"
   },
   {
    "duration": 1655,
    "start_time": "2022-01-28T09:18:44.415Z"
   },
   {
    "duration": 18,
    "start_time": "2022-01-28T09:18:46.073Z"
   },
   {
    "duration": 7,
    "start_time": "2022-01-28T09:18:46.094Z"
   },
   {
    "duration": 5750,
    "start_time": "2022-01-28T09:18:46.103Z"
   }
  ],
  "celltoolbar": "Необработанный формат ячейки",
  "kernelspec": {
   "display_name": "Python 3 (ipykernel)",
   "language": "python",
   "name": "python3"
  },
  "language_info": {
   "codemirror_mode": {
    "name": "ipython",
    "version": 3
   },
   "file_extension": ".py",
   "mimetype": "text/x-python",
   "name": "python",
   "nbconvert_exporter": "python",
   "pygments_lexer": "ipython3",
   "version": "3.9.13"
  },
  "toc": {
   "base_numbering": 1,
   "nav_menu": {},
   "number_sections": true,
   "sideBar": true,
   "skip_h1_title": true,
   "title_cell": "Содержание",
   "title_sidebar": "Contents",
   "toc_cell": true,
   "toc_position": {
    "height": "708px",
    "left": "147px",
    "top": "178px",
    "width": "165px"
   },
   "toc_section_display": true,
   "toc_window_display": true
  }
 },
 "nbformat": 4,
 "nbformat_minor": 2
}
