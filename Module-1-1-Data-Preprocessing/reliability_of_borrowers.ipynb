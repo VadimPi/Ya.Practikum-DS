{
 "cells": [
  {
   "cell_type": "markdown",
   "metadata": {},
   "source": [
    "# Исследование надёжности заёмщиков\n",
    "\n",
    "Заказчик — кредитный отдел банка. Нужно разобраться, влияет ли семейное положение и количество детей клиента на факт погашения кредита в срок. Входные данные от банка — статистика о платёжеспособности клиентов.\n",
    "\n",
    "Результаты исследования будут учтены при построении модели **кредитного скоринга** — специальной системы, которая оценивает способность потенциального заёмщика вернуть кредит банку.\n",
    "\n",
    "**Цель исследования — проверьте четыре гипотезы:**\n",
    "\n",
    "Есть зависимость между наличием детей и возвратом кредита в срок.\n",
    "\n",
    "Есть зависимость между семейным положением и возвратом кредита в срок.\n",
    "\n",
    "Есть зависимость между уровнем дохода и возвратом кредита в срок.\n",
    "\n",
    "Разные цели кредита влияют на его возврат в срок.\n"
   ]
  },
  {
   "cell_type": "markdown",
   "metadata": {},
   "source": [
    "## Шаг 1. Откройте файл с данными и изучите общую информацию"
   ]
  },
  {
   "cell_type": "code",
   "execution_count": 1,
   "metadata": {},
   "outputs": [],
   "source": [
    "import pandas as pd\n",
    "from pymystem3 import Mystem #сразу добавим Mystem\n",
    "import matplotlib.pyplot as plt\n",
    "import seaborn as sns\n",
    "m = Mystem()"
   ]
  },
  {
   "cell_type": "code",
   "execution_count": 2,
   "metadata": {},
   "outputs": [],
   "source": [
    "class Analisys:\n",
    "    \n",
    "    def unique_value_in_columns(self, data):\n",
    "        value = data.columns.values.tolist()\n",
    "        data_p = pd.DataFrame()\n",
    "        for val in value: #создаем цикл по просмотру уникальных значений по столбцам, ограничим вывод 15 строками\n",
    "            if data[val].dtypes == object:\n",
    "                print(f'уникальные значения в {val}: {data[val].unique()}')\n",
    "                print('')\n",
    "            else:\n",
    "                data_p[val] = data[val]\n",
    "        display(data_p.describe())\n",
    "    \n",
    "    def min_mean_max_values_in_groupe(self, data, column_for_group, column_for_operations, val_correction=1, median=False):# создадим функцию по выводу данных по группам \n",
    "        try:\n",
    "            values = data[column_for_group].unique().tolist()\n",
    "            if median == False:\n",
    "                for val in values:\n",
    "                    output_min = data[data[column_for_group] == val][column_for_operations].min()\n",
    "                    output_mean = data[data[column_for_group] == val][column_for_operations].mean()\n",
    "                    output_max = data[data[column_for_group] == val][column_for_operations].max()\n",
    "                    print(f'минимальное значение для {column_for_operations} по группе {val} равно: {output_min/val_correction}')\n",
    "                    print(f'среднее значение для {column_for_operations} по группе {val} равно: {output_mean/val_correction}')\n",
    "                    print(f'максимальное значение для {column_for_operations} по группе {val} равно: {output_max/val_correction}')\n",
    "                    print('')\n",
    "            else:\n",
    "                for val in values:\n",
    "                    output_min = data[data[column_for_group] == val][column_for_operations].min()\n",
    "                    output_median = data[data[column_for_group] == val][column_for_operations].median()\n",
    "                    output_max = data[data[column_for_group] == val][column_for_operations].max()\n",
    "                    print(f'минимальное значение для {column_for_operations} по группе {val} равно: {output_min/val_correction}')\n",
    "                    print(f'медианное значение для {column_for_operations} по группе {val} равно: {output_median/val_correction}')\n",
    "                    print(f'максимальное значение для {column_for_operations} по группе {val} равно: {output_max/val_correction}')\n",
    "                    print('')\n",
    "        except:\n",
    "            print('Error')\n",
    "    \n",
    "    def lemmatize(self, data, column):\n",
    "        text=''\n",
    "        list_lemma = data[column].tolist()\n",
    "        for lem in list_lemma:\n",
    "            text += lem + '|'\n",
    "        \n",
    "        doc = []\n",
    "        res = []\n",
    "        \n",
    "        for t in m.lemmatize(text):\n",
    "            if t != '|':\n",
    "                doc.append(t)\n",
    "            else:\n",
    "                res.append(doc)\n",
    "                doc = []\n",
    "        res.append(doc)\n",
    "        return res\n",
    "    \n",
    "    def total_income_level(self, income): #разобъем на категории уровень дохода\n",
    "        if income < 90000:\n",
    "            return 'низкий'\n",
    "        elif 90000 <= income < 160000:\n",
    "            return 'средний'\n",
    "        elif 160000 <= income < 280000:\n",
    "            return 'выше среднего'\n",
    "        else:\n",
    "            return 'высокий'\n",
    "    \n",
    "    def purpose_categories(self, lemmas): #категоризируем цели кредита\n",
    "        try:\n",
    "            if 'автомобиль' in lemmas :\n",
    "                return 'автомобиль'\n",
    "            elif 'образование' in lemmas:\n",
    "                return 'образование'\n",
    "            elif 'свадьба' in lemmas:\n",
    "                return 'свадьба'\n",
    "            elif 'семья' in lemmas:\n",
    "                return 'свадьба'\n",
    "            elif 'жилье' in lemmas:\n",
    "                return 'недвижимость'\n",
    "            elif 'недвижимость' in lemmas:\n",
    "                return 'недвижимость'\n",
    "            elif 'сдача' in lemmas:\n",
    "                return 'недвижимость'\n",
    "            elif 'ремонт' in lemmas:\n",
    "                return 'недвижимость'\n",
    "            else:\n",
    "                return 'другое'\n",
    "        except:\n",
    "            print('здесь ошибка')\n",
    "    \n",
    "    def children_categories(self, children): #категоризируем количество детей\n",
    "        try:\n",
    "            if children == 0:\n",
    "                return 'нет детей'\n",
    "            elif children == 1:\n",
    "                return 'один ребенок'\n",
    "            elif children == 2:\n",
    "                return 'двое детей'\n",
    "            else:\n",
    "                return 'многодетные'\n",
    "        except:\n",
    "            print('здесь ошибка')\n",
    "    \n",
    "    def years_categories(self, years): #категоризирум возраст\n",
    "        try:\n",
    "            if years < 35:\n",
    "                return 'молодой возраст'\n",
    "            elif 35 <= years < 55:\n",
    "                return 'средний возраст'\n",
    "            else:\n",
    "                return 'пожилой возраст'\n",
    "        except:\n",
    "            print('здесь ошибка')\n",
    "    \n",
    "    def employed_categories(self, employed): #категоризирум стаж\n",
    "        try:\n",
    "            if employed < 365:\n",
    "                return 'меньше года'\n",
    "            elif 365 <= employed < 1826:\n",
    "                return 'до пяти лет'\n",
    "            elif 1826 <= employed < 3652:\n",
    "                return 'до десяти лет'\n",
    "            else:\n",
    "                return 'свыше десяти лет'\n",
    "        except:\n",
    "            print('здесь ошибка')\n",
    "    \n",
    "    def ratio_in_procent(self, x): #объявим переменную для вывода разницы в процентах для подстановки в aggfunc\n",
    "        ratio = round(x.sum()/x.shape[0]*100,2)\n",
    "        return ratio\n",
    "    \n",
    "    def cat_debt_pivot(self, data, category, col_pivot):\n",
    "        #объявим переменную c сводной таблицей по категории\n",
    "        df_debt_all = data['debt'].sum() / data['debt'].count()\n",
    "    \n",
    "        t_piv_0 = data.pivot_table(index=category, values='debt', aggfunc=['sum','count', self.ratio_in_procent])\n",
    "        display(t_piv_0, 'Невозврат кредита по всей выборке: {:.2%}'.format(df_debt_all))\n",
    "        t_piv_1 = df.pivot_table(index=category, columns=col_pivot, values='debt', aggfunc= self.ratio_in_procent)\n",
    "        display(t_piv_1)\n",
    "        plt.figure(figsize=(3,2))\n",
    "        sns.heatmap(t_piv_1,annot=True, cmap=\"OrRd\")\n",
    "        plt.show()\n",
    "            #объявим переменную c сводной таблицей по категории с группировкой по ктегориям\n",
    "    \n",
    "    \n",
    "an = Analisys()"
   ]
  },
  {
   "cell_type": "code",
   "execution_count": 3,
   "metadata": {},
   "outputs": [
    {
     "name": "stdout",
     "output_type": "stream",
     "text": [
      "<class 'pandas.core.frame.DataFrame'>\n",
      "RangeIndex: 21525 entries, 0 to 21524\n",
      "Data columns (total 12 columns):\n",
      " #   Column            Non-Null Count  Dtype  \n",
      "---  ------            --------------  -----  \n",
      " 0   children          21525 non-null  int64  \n",
      " 1   days_employed     19351 non-null  float64\n",
      " 2   dob_years         21525 non-null  int64  \n",
      " 3   education         21525 non-null  object \n",
      " 4   education_id      21525 non-null  int64  \n",
      " 5   family_status     21525 non-null  object \n",
      " 6   family_status_id  21525 non-null  int64  \n",
      " 7   gender            21525 non-null  object \n",
      " 8   income_type       21525 non-null  object \n",
      " 9   debt              21525 non-null  int64  \n",
      " 10  total_income      19351 non-null  float64\n",
      " 11  purpose           21525 non-null  object \n",
      "dtypes: float64(2), int64(5), object(5)\n",
      "memory usage: 2.0+ MB\n"
     ]
    }
   ],
   "source": [
    "try: # открываем файл\n",
    "    df = pd.read_csv('/datasets/data.csv') \n",
    "except: # альтернативный путь к файлу в случае ошибки\n",
    "    df = pd.read_csv(r'C:\\Users\\EliteBook\\Downloads\\data.csv') \n",
    "df.info()"
   ]
  },
  {
   "cell_type": "markdown",
   "metadata": {},
   "source": [
    "По выведенной информации о таблице видим, что имеется 12 колонок: 2 колонки с типом float64, 5 колонок с типом int64 и 5 колонок типа object. Количество значений в столбцах различается. Значит, в данных есть пропущенные значения. Выведем первые 15 строк данных:"
   ]
  },
  {
   "cell_type": "code",
   "execution_count": 4,
   "metadata": {},
   "outputs": [
    {
     "data": {
      "text/html": [
       "<div>\n",
       "<style scoped>\n",
       "    .dataframe tbody tr th:only-of-type {\n",
       "        vertical-align: middle;\n",
       "    }\n",
       "\n",
       "    .dataframe tbody tr th {\n",
       "        vertical-align: top;\n",
       "    }\n",
       "\n",
       "    .dataframe thead th {\n",
       "        text-align: right;\n",
       "    }\n",
       "</style>\n",
       "<table border=\"1\" class=\"dataframe\">\n",
       "  <thead>\n",
       "    <tr style=\"text-align: right;\">\n",
       "      <th></th>\n",
       "      <th>children</th>\n",
       "      <th>days_employed</th>\n",
       "      <th>dob_years</th>\n",
       "      <th>education</th>\n",
       "      <th>education_id</th>\n",
       "      <th>family_status</th>\n",
       "      <th>family_status_id</th>\n",
       "      <th>gender</th>\n",
       "      <th>income_type</th>\n",
       "      <th>debt</th>\n",
       "      <th>total_income</th>\n",
       "      <th>purpose</th>\n",
       "    </tr>\n",
       "  </thead>\n",
       "  <tbody>\n",
       "    <tr>\n",
       "      <th>0</th>\n",
       "      <td>1</td>\n",
       "      <td>-8437.673028</td>\n",
       "      <td>42</td>\n",
       "      <td>высшее</td>\n",
       "      <td>0</td>\n",
       "      <td>женат / замужем</td>\n",
       "      <td>0</td>\n",
       "      <td>F</td>\n",
       "      <td>сотрудник</td>\n",
       "      <td>0</td>\n",
       "      <td>253875.639453</td>\n",
       "      <td>покупка жилья</td>\n",
       "    </tr>\n",
       "    <tr>\n",
       "      <th>1</th>\n",
       "      <td>1</td>\n",
       "      <td>-4024.803754</td>\n",
       "      <td>36</td>\n",
       "      <td>среднее</td>\n",
       "      <td>1</td>\n",
       "      <td>женат / замужем</td>\n",
       "      <td>0</td>\n",
       "      <td>F</td>\n",
       "      <td>сотрудник</td>\n",
       "      <td>0</td>\n",
       "      <td>112080.014102</td>\n",
       "      <td>приобретение автомобиля</td>\n",
       "    </tr>\n",
       "    <tr>\n",
       "      <th>2</th>\n",
       "      <td>0</td>\n",
       "      <td>-5623.422610</td>\n",
       "      <td>33</td>\n",
       "      <td>Среднее</td>\n",
       "      <td>1</td>\n",
       "      <td>женат / замужем</td>\n",
       "      <td>0</td>\n",
       "      <td>M</td>\n",
       "      <td>сотрудник</td>\n",
       "      <td>0</td>\n",
       "      <td>145885.952297</td>\n",
       "      <td>покупка жилья</td>\n",
       "    </tr>\n",
       "    <tr>\n",
       "      <th>3</th>\n",
       "      <td>3</td>\n",
       "      <td>-4124.747207</td>\n",
       "      <td>32</td>\n",
       "      <td>среднее</td>\n",
       "      <td>1</td>\n",
       "      <td>женат / замужем</td>\n",
       "      <td>0</td>\n",
       "      <td>M</td>\n",
       "      <td>сотрудник</td>\n",
       "      <td>0</td>\n",
       "      <td>267628.550329</td>\n",
       "      <td>дополнительное образование</td>\n",
       "    </tr>\n",
       "    <tr>\n",
       "      <th>4</th>\n",
       "      <td>0</td>\n",
       "      <td>340266.072047</td>\n",
       "      <td>53</td>\n",
       "      <td>среднее</td>\n",
       "      <td>1</td>\n",
       "      <td>гражданский брак</td>\n",
       "      <td>1</td>\n",
       "      <td>F</td>\n",
       "      <td>пенсионер</td>\n",
       "      <td>0</td>\n",
       "      <td>158616.077870</td>\n",
       "      <td>сыграть свадьбу</td>\n",
       "    </tr>\n",
       "    <tr>\n",
       "      <th>5</th>\n",
       "      <td>0</td>\n",
       "      <td>-926.185831</td>\n",
       "      <td>27</td>\n",
       "      <td>высшее</td>\n",
       "      <td>0</td>\n",
       "      <td>гражданский брак</td>\n",
       "      <td>1</td>\n",
       "      <td>M</td>\n",
       "      <td>компаньон</td>\n",
       "      <td>0</td>\n",
       "      <td>255763.565419</td>\n",
       "      <td>покупка жилья</td>\n",
       "    </tr>\n",
       "    <tr>\n",
       "      <th>6</th>\n",
       "      <td>0</td>\n",
       "      <td>-2879.202052</td>\n",
       "      <td>43</td>\n",
       "      <td>высшее</td>\n",
       "      <td>0</td>\n",
       "      <td>женат / замужем</td>\n",
       "      <td>0</td>\n",
       "      <td>F</td>\n",
       "      <td>компаньон</td>\n",
       "      <td>0</td>\n",
       "      <td>240525.971920</td>\n",
       "      <td>операции с жильем</td>\n",
       "    </tr>\n",
       "    <tr>\n",
       "      <th>7</th>\n",
       "      <td>0</td>\n",
       "      <td>-152.779569</td>\n",
       "      <td>50</td>\n",
       "      <td>СРЕДНЕЕ</td>\n",
       "      <td>1</td>\n",
       "      <td>женат / замужем</td>\n",
       "      <td>0</td>\n",
       "      <td>M</td>\n",
       "      <td>сотрудник</td>\n",
       "      <td>0</td>\n",
       "      <td>135823.934197</td>\n",
       "      <td>образование</td>\n",
       "    </tr>\n",
       "    <tr>\n",
       "      <th>8</th>\n",
       "      <td>2</td>\n",
       "      <td>-6929.865299</td>\n",
       "      <td>35</td>\n",
       "      <td>ВЫСШЕЕ</td>\n",
       "      <td>0</td>\n",
       "      <td>гражданский брак</td>\n",
       "      <td>1</td>\n",
       "      <td>F</td>\n",
       "      <td>сотрудник</td>\n",
       "      <td>0</td>\n",
       "      <td>95856.832424</td>\n",
       "      <td>на проведение свадьбы</td>\n",
       "    </tr>\n",
       "    <tr>\n",
       "      <th>9</th>\n",
       "      <td>0</td>\n",
       "      <td>-2188.756445</td>\n",
       "      <td>41</td>\n",
       "      <td>среднее</td>\n",
       "      <td>1</td>\n",
       "      <td>женат / замужем</td>\n",
       "      <td>0</td>\n",
       "      <td>M</td>\n",
       "      <td>сотрудник</td>\n",
       "      <td>0</td>\n",
       "      <td>144425.938277</td>\n",
       "      <td>покупка жилья для семьи</td>\n",
       "    </tr>\n",
       "    <tr>\n",
       "      <th>10</th>\n",
       "      <td>2</td>\n",
       "      <td>-4171.483647</td>\n",
       "      <td>36</td>\n",
       "      <td>высшее</td>\n",
       "      <td>0</td>\n",
       "      <td>женат / замужем</td>\n",
       "      <td>0</td>\n",
       "      <td>M</td>\n",
       "      <td>компаньон</td>\n",
       "      <td>0</td>\n",
       "      <td>113943.491460</td>\n",
       "      <td>покупка недвижимости</td>\n",
       "    </tr>\n",
       "    <tr>\n",
       "      <th>11</th>\n",
       "      <td>0</td>\n",
       "      <td>-792.701887</td>\n",
       "      <td>40</td>\n",
       "      <td>среднее</td>\n",
       "      <td>1</td>\n",
       "      <td>женат / замужем</td>\n",
       "      <td>0</td>\n",
       "      <td>F</td>\n",
       "      <td>сотрудник</td>\n",
       "      <td>0</td>\n",
       "      <td>77069.234271</td>\n",
       "      <td>покупка коммерческой недвижимости</td>\n",
       "    </tr>\n",
       "    <tr>\n",
       "      <th>12</th>\n",
       "      <td>0</td>\n",
       "      <td>NaN</td>\n",
       "      <td>65</td>\n",
       "      <td>среднее</td>\n",
       "      <td>1</td>\n",
       "      <td>гражданский брак</td>\n",
       "      <td>1</td>\n",
       "      <td>M</td>\n",
       "      <td>пенсионер</td>\n",
       "      <td>0</td>\n",
       "      <td>NaN</td>\n",
       "      <td>сыграть свадьбу</td>\n",
       "    </tr>\n",
       "    <tr>\n",
       "      <th>13</th>\n",
       "      <td>0</td>\n",
       "      <td>-1846.641941</td>\n",
       "      <td>54</td>\n",
       "      <td>неоконченное высшее</td>\n",
       "      <td>2</td>\n",
       "      <td>женат / замужем</td>\n",
       "      <td>0</td>\n",
       "      <td>F</td>\n",
       "      <td>сотрудник</td>\n",
       "      <td>0</td>\n",
       "      <td>130458.228857</td>\n",
       "      <td>приобретение автомобиля</td>\n",
       "    </tr>\n",
       "    <tr>\n",
       "      <th>14</th>\n",
       "      <td>0</td>\n",
       "      <td>-1844.956182</td>\n",
       "      <td>56</td>\n",
       "      <td>высшее</td>\n",
       "      <td>0</td>\n",
       "      <td>гражданский брак</td>\n",
       "      <td>1</td>\n",
       "      <td>F</td>\n",
       "      <td>компаньон</td>\n",
       "      <td>1</td>\n",
       "      <td>165127.911772</td>\n",
       "      <td>покупка жилой недвижимости</td>\n",
       "    </tr>\n",
       "  </tbody>\n",
       "</table>\n",
       "</div>"
      ],
      "text/plain": [
       "    children  days_employed  dob_years            education  education_id  \\\n",
       "0          1   -8437.673028         42               высшее             0   \n",
       "1          1   -4024.803754         36              среднее             1   \n",
       "2          0   -5623.422610         33              Среднее             1   \n",
       "3          3   -4124.747207         32              среднее             1   \n",
       "4          0  340266.072047         53              среднее             1   \n",
       "5          0    -926.185831         27               высшее             0   \n",
       "6          0   -2879.202052         43               высшее             0   \n",
       "7          0    -152.779569         50              СРЕДНЕЕ             1   \n",
       "8          2   -6929.865299         35               ВЫСШЕЕ             0   \n",
       "9          0   -2188.756445         41              среднее             1   \n",
       "10         2   -4171.483647         36               высшее             0   \n",
       "11         0    -792.701887         40              среднее             1   \n",
       "12         0            NaN         65              среднее             1   \n",
       "13         0   -1846.641941         54  неоконченное высшее             2   \n",
       "14         0   -1844.956182         56               высшее             0   \n",
       "\n",
       "       family_status  family_status_id gender income_type  debt  \\\n",
       "0    женат / замужем                 0      F   сотрудник     0   \n",
       "1    женат / замужем                 0      F   сотрудник     0   \n",
       "2    женат / замужем                 0      M   сотрудник     0   \n",
       "3    женат / замужем                 0      M   сотрудник     0   \n",
       "4   гражданский брак                 1      F   пенсионер     0   \n",
       "5   гражданский брак                 1      M   компаньон     0   \n",
       "6    женат / замужем                 0      F   компаньон     0   \n",
       "7    женат / замужем                 0      M   сотрудник     0   \n",
       "8   гражданский брак                 1      F   сотрудник     0   \n",
       "9    женат / замужем                 0      M   сотрудник     0   \n",
       "10   женат / замужем                 0      M   компаньон     0   \n",
       "11   женат / замужем                 0      F   сотрудник     0   \n",
       "12  гражданский брак                 1      M   пенсионер     0   \n",
       "13   женат / замужем                 0      F   сотрудник     0   \n",
       "14  гражданский брак                 1      F   компаньон     1   \n",
       "\n",
       "     total_income                            purpose  \n",
       "0   253875.639453                      покупка жилья  \n",
       "1   112080.014102            приобретение автомобиля  \n",
       "2   145885.952297                      покупка жилья  \n",
       "3   267628.550329         дополнительное образование  \n",
       "4   158616.077870                    сыграть свадьбу  \n",
       "5   255763.565419                      покупка жилья  \n",
       "6   240525.971920                  операции с жильем  \n",
       "7   135823.934197                        образование  \n",
       "8    95856.832424              на проведение свадьбы  \n",
       "9   144425.938277            покупка жилья для семьи  \n",
       "10  113943.491460               покупка недвижимости  \n",
       "11   77069.234271  покупка коммерческой недвижимости  \n",
       "12            NaN                    сыграть свадьбу  \n",
       "13  130458.228857            приобретение автомобиля  \n",
       "14  165127.911772         покупка жилой недвижимости  "
      ]
     },
     "metadata": {},
     "output_type": "display_data"
    }
   ],
   "source": [
    "display(df.head(15))"
   ]
  },
  {
   "cell_type": "markdown",
   "metadata": {},
   "source": [
    "**Вывод**"
   ]
  },
  {
   "cell_type": "markdown",
   "metadata": {},
   "source": [
    "Согласно документации к данным:\n",
    "- children — количество детей в семье\n",
    "- days_employed — общий трудовой стаж в днях\n",
    "- dob_years — возраст клиента в годах\n",
    "- education — уровень образования клиента\n",
    "- education_id — идентификатор уровня образования\n",
    "- family_status — семейное положение\n",
    "- family_status_id — идентификатор семейного положения\n",
    "- gender — пол клиента\n",
    "- income_type — тип занятости\n",
    "- debt — имел ли задолженность по возврату кредитов\n",
    "- total_income — ежемесячный доход\n",
    "- purpose — цель получения кредита\n",
    "\n",
    "По выведенным первым 15 строкам видна разный тип, регистр заполнения данных в ячейках колонок, требуется проверка на наличие пропусков, дубликатов и устранение ошибок в записи данных"
   ]
  },
  {
   "cell_type": "markdown",
   "metadata": {},
   "source": [
    "## Шаг 2. Предобработка данных"
   ]
  },
  {
   "cell_type": "markdown",
   "metadata": {},
   "source": [
    "### Обработка пропусков"
   ]
  },
  {
   "cell_type": "markdown",
   "metadata": {},
   "source": [
    "Рассмотрим распределение пропусков по столбцам:"
   ]
  },
  {
   "cell_type": "code",
   "execution_count": 5,
   "metadata": {},
   "outputs": [
    {
     "name": "stdout",
     "output_type": "stream",
     "text": [
      "children               0\n",
      "days_employed       2174\n",
      "dob_years              0\n",
      "education              0\n",
      "education_id           0\n",
      "family_status          0\n",
      "family_status_id       0\n",
      "gender                 0\n",
      "income_type            0\n",
      "debt                   0\n",
      "total_income        2174\n",
      "purpose                0\n",
      "dtype: int64\n"
     ]
    }
   ],
   "source": [
    "print(df.isna().sum()) #выведем количество явных пропусков по столбцам"
   ]
  },
  {
   "cell_type": "markdown",
   "metadata": {},
   "source": [
    "Проверим распределение пропусков по типу занятости:"
   ]
  },
  {
   "cell_type": "code",
   "execution_count": 6,
   "metadata": {
    "scrolled": true
   },
   "outputs": [
    {
     "name": "stdout",
     "output_type": "stream",
     "text": [
      "пропуски значений по типузанятости сотрудник: 1105\n",
      "пропуски значений по типузанятости пенсионер: 413\n",
      "пропуски значений по типузанятости компаньон: 508\n",
      "пропуски значений по типузанятости госслужащий: 147\n",
      "пропуски значений по типузанятости безработный: 0\n",
      "пропуски значений по типузанятости предприниматель: 1\n",
      "пропуски значений по типузанятости студент: 0\n",
      "пропуски значений по типузанятости в декрете: 0\n"
     ]
    }
   ],
   "source": [
    "income_type_list = df['income_type'].unique().tolist() # создадим список по типу занятости\n",
    "for val in income_type_list: # обявление цикла по поиску пропусков по типу занятости\n",
    "    output_info = df[df['income_type'] == val]['total_income'].isna().sum()\n",
    "    print(f'пропуски значений по типузанятости {val}: {output_info}')"
   ]
  },
  {
   "cell_type": "markdown",
   "metadata": {},
   "source": [
    "Отсутствуют данные в колонках общий трудовой стаж в днях и ежемесячный доход и они совпадают\n",
    "Проверив распределение пропусков по типу занятости присвоим для провусков значения стажа и заработка по медиане групп, предварительно обработав ошибки.\n",
    "Выведем уникальные значения в столбцах:"
   ]
  },
  {
   "cell_type": "code",
   "execution_count": 7,
   "metadata": {},
   "outputs": [
    {
     "name": "stdout",
     "output_type": "stream",
     "text": [
      "уникальные значения в education: ['высшее' 'среднее' 'Среднее' 'СРЕДНЕЕ' 'ВЫСШЕЕ' 'неоконченное высшее'\n",
      " 'начальное' 'Высшее' 'НЕОКОНЧЕННОЕ ВЫСШЕЕ' 'Неоконченное высшее'\n",
      " 'НАЧАЛЬНОЕ' 'Начальное' 'Ученая степень' 'УЧЕНАЯ СТЕПЕНЬ'\n",
      " 'ученая степень']\n",
      "\n",
      "уникальные значения в family_status: ['женат / замужем' 'гражданский брак' 'вдовец / вдова' 'в разводе'\n",
      " 'Не женат / не замужем']\n",
      "\n",
      "уникальные значения в gender: ['F' 'M' 'XNA']\n",
      "\n",
      "уникальные значения в income_type: ['сотрудник' 'пенсионер' 'компаньон' 'госслужащий' 'безработный'\n",
      " 'предприниматель' 'студент' 'в декрете']\n",
      "\n",
      "уникальные значения в purpose: ['покупка жилья' 'приобретение автомобиля' 'дополнительное образование'\n",
      " 'сыграть свадьбу' 'операции с жильем' 'образование'\n",
      " 'на проведение свадьбы' 'покупка жилья для семьи' 'покупка недвижимости'\n",
      " 'покупка коммерческой недвижимости' 'покупка жилой недвижимости'\n",
      " 'строительство собственной недвижимости' 'недвижимость'\n",
      " 'строительство недвижимости' 'на покупку подержанного автомобиля'\n",
      " 'на покупку своего автомобиля' 'операции с коммерческой недвижимостью'\n",
      " 'строительство жилой недвижимости' 'жилье'\n",
      " 'операции со своей недвижимостью' 'автомобили' 'заняться образованием'\n",
      " 'сделка с подержанным автомобилем' 'получение образования' 'автомобиль'\n",
      " 'свадьба' 'получение дополнительного образования' 'покупка своего жилья'\n",
      " 'операции с недвижимостью' 'получение высшего образования'\n",
      " 'свой автомобиль' 'сделка с автомобилем' 'профильное образование'\n",
      " 'высшее образование' 'покупка жилья для сдачи' 'на покупку автомобиля'\n",
      " 'ремонт жилью' 'заняться высшим образованием']\n",
      "\n"
     ]
    },
    {
     "data": {
      "text/html": [
       "<div>\n",
       "<style scoped>\n",
       "    .dataframe tbody tr th:only-of-type {\n",
       "        vertical-align: middle;\n",
       "    }\n",
       "\n",
       "    .dataframe tbody tr th {\n",
       "        vertical-align: top;\n",
       "    }\n",
       "\n",
       "    .dataframe thead th {\n",
       "        text-align: right;\n",
       "    }\n",
       "</style>\n",
       "<table border=\"1\" class=\"dataframe\">\n",
       "  <thead>\n",
       "    <tr style=\"text-align: right;\">\n",
       "      <th></th>\n",
       "      <th>children</th>\n",
       "      <th>days_employed</th>\n",
       "      <th>dob_years</th>\n",
       "      <th>education_id</th>\n",
       "      <th>family_status_id</th>\n",
       "      <th>debt</th>\n",
       "      <th>total_income</th>\n",
       "    </tr>\n",
       "  </thead>\n",
       "  <tbody>\n",
       "    <tr>\n",
       "      <th>count</th>\n",
       "      <td>21525.000000</td>\n",
       "      <td>19351.000000</td>\n",
       "      <td>21525.000000</td>\n",
       "      <td>21525.000000</td>\n",
       "      <td>21525.000000</td>\n",
       "      <td>21525.000000</td>\n",
       "      <td>1.935100e+04</td>\n",
       "    </tr>\n",
       "    <tr>\n",
       "      <th>mean</th>\n",
       "      <td>0.538908</td>\n",
       "      <td>63046.497661</td>\n",
       "      <td>43.293380</td>\n",
       "      <td>0.817236</td>\n",
       "      <td>0.972544</td>\n",
       "      <td>0.080883</td>\n",
       "      <td>1.674223e+05</td>\n",
       "    </tr>\n",
       "    <tr>\n",
       "      <th>std</th>\n",
       "      <td>1.381587</td>\n",
       "      <td>140827.311974</td>\n",
       "      <td>12.574584</td>\n",
       "      <td>0.548138</td>\n",
       "      <td>1.420324</td>\n",
       "      <td>0.272661</td>\n",
       "      <td>1.029716e+05</td>\n",
       "    </tr>\n",
       "    <tr>\n",
       "      <th>min</th>\n",
       "      <td>-1.000000</td>\n",
       "      <td>-18388.949901</td>\n",
       "      <td>0.000000</td>\n",
       "      <td>0.000000</td>\n",
       "      <td>0.000000</td>\n",
       "      <td>0.000000</td>\n",
       "      <td>2.066726e+04</td>\n",
       "    </tr>\n",
       "    <tr>\n",
       "      <th>25%</th>\n",
       "      <td>0.000000</td>\n",
       "      <td>-2747.423625</td>\n",
       "      <td>33.000000</td>\n",
       "      <td>1.000000</td>\n",
       "      <td>0.000000</td>\n",
       "      <td>0.000000</td>\n",
       "      <td>1.030532e+05</td>\n",
       "    </tr>\n",
       "    <tr>\n",
       "      <th>50%</th>\n",
       "      <td>0.000000</td>\n",
       "      <td>-1203.369529</td>\n",
       "      <td>42.000000</td>\n",
       "      <td>1.000000</td>\n",
       "      <td>0.000000</td>\n",
       "      <td>0.000000</td>\n",
       "      <td>1.450179e+05</td>\n",
       "    </tr>\n",
       "    <tr>\n",
       "      <th>75%</th>\n",
       "      <td>1.000000</td>\n",
       "      <td>-291.095954</td>\n",
       "      <td>53.000000</td>\n",
       "      <td>1.000000</td>\n",
       "      <td>1.000000</td>\n",
       "      <td>0.000000</td>\n",
       "      <td>2.034351e+05</td>\n",
       "    </tr>\n",
       "    <tr>\n",
       "      <th>max</th>\n",
       "      <td>20.000000</td>\n",
       "      <td>401755.400475</td>\n",
       "      <td>75.000000</td>\n",
       "      <td>4.000000</td>\n",
       "      <td>4.000000</td>\n",
       "      <td>1.000000</td>\n",
       "      <td>2.265604e+06</td>\n",
       "    </tr>\n",
       "  </tbody>\n",
       "</table>\n",
       "</div>"
      ],
      "text/plain": [
       "           children  days_employed     dob_years  education_id  \\\n",
       "count  21525.000000   19351.000000  21525.000000  21525.000000   \n",
       "mean       0.538908   63046.497661     43.293380      0.817236   \n",
       "std        1.381587  140827.311974     12.574584      0.548138   \n",
       "min       -1.000000  -18388.949901      0.000000      0.000000   \n",
       "25%        0.000000   -2747.423625     33.000000      1.000000   \n",
       "50%        0.000000   -1203.369529     42.000000      1.000000   \n",
       "75%        1.000000    -291.095954     53.000000      1.000000   \n",
       "max       20.000000  401755.400475     75.000000      4.000000   \n",
       "\n",
       "       family_status_id          debt  total_income  \n",
       "count      21525.000000  21525.000000  1.935100e+04  \n",
       "mean           0.972544      0.080883  1.674223e+05  \n",
       "std            1.420324      0.272661  1.029716e+05  \n",
       "min            0.000000      0.000000  2.066726e+04  \n",
       "25%            0.000000      0.000000  1.030532e+05  \n",
       "50%            0.000000      0.000000  1.450179e+05  \n",
       "75%            1.000000      0.000000  2.034351e+05  \n",
       "max            4.000000      1.000000  2.265604e+06  "
      ]
     },
     "metadata": {},
     "output_type": "display_data"
    }
   ],
   "source": [
    "an.unique_value_in_columns(df)"
   ]
  },
  {
   "cell_type": "markdown",
   "metadata": {},
   "source": [
    "Оценив уникальные Значения в столбцах, видим ошибки в заполнении, приступаем к исправлению значений, например в значении количества детей из сета данных есть значение -1, а значение 20 детей стоит очень далеко от предпоследнего в 5 детй. в других столбцах так же есть подобные ошибки, усправим их."
   ]
  },
  {
   "cell_type": "code",
   "execution_count": 8,
   "metadata": {},
   "outputs": [],
   "source": [
    "df['children'] = df['children'].abs().astype('int64') # через присвоение модуля значений убираем ошибочные отрицательные значения\n",
    "df.loc[(df['children'] == 20), 'children'] = int(df[df['children'] != 0]['children'].median()) # меняем значение 20 детей на медианное количество детей семей с детьм"
   ]
  },
  {
   "cell_type": "code",
   "execution_count": 9,
   "metadata": {},
   "outputs": [],
   "source": [
    "df.loc[(df['gender'] == 'XNA'), 'gender'] = 'F'"
   ]
  },
  {
   "cell_type": "code",
   "execution_count": 10,
   "metadata": {},
   "outputs": [],
   "source": [
    "df['days_employed'] = df['days_employed'].abs() #через присвоение модуля значений убираем ошибочные отрицательные значения"
   ]
  },
  {
   "cell_type": "code",
   "execution_count": 11,
   "metadata": {},
   "outputs": [],
   "source": [
    "df.loc[(df['dob_years'] == 0), 'dob_years'] = int(df[df['dob_years'] != 0]['dob_years'].median()) #заменяем значение возраста 0 на медианное значение"
   ]
  },
  {
   "cell_type": "code",
   "execution_count": 12,
   "metadata": {},
   "outputs": [],
   "source": [
    "df['education'] = df['education'].str.lower() #выравниваем строки с образованием на нижний регистр"
   ]
  },
  {
   "cell_type": "code",
   "execution_count": 13,
   "metadata": {
    "scrolled": false
   },
   "outputs": [],
   "source": [
    "df['total_income'] = df['total_income'].abs() #через присвоение модуля значений убираем ошибочные отрицательные значения"
   ]
  },
  {
   "cell_type": "markdown",
   "metadata": {},
   "source": [
    "Устранив ошибки ввода по категорийным данным и приведя данные по количественным данным к положительным значениям проверим количественные данные на ошибки по реальности цифр, разбив на группы по типу занятости."
   ]
  },
  {
   "cell_type": "code",
   "execution_count": 14,
   "metadata": {},
   "outputs": [
    {
     "name": "stdout",
     "output_type": "stream",
     "text": [
      "минимальное значение для days_employed по группе сотрудник равно: 0.06614146093282515\n",
      "среднее значение для days_employed по группе сотрудник равно: 6.373970454717277\n",
      "максимальное значение для days_employed по группе сотрудник равно: 50.38068465909146\n",
      "\n",
      "минимальное значение для days_employed по группе пенсионер равно: 900.6266317932007\n",
      "среднее значение для days_employed по группе пенсионер равно: 1000.009565054413\n",
      "максимальное значение для days_employed по группе пенсионер равно: 1100.6997273296713\n",
      "\n",
      "минимальное значение для days_employed по группе компаньон равно: 0.08272695111112224\n",
      "среднее значение для days_employed по группе компаньон равно: 5.7849983515006285\n",
      "максимальное значение для days_employed по группе компаньон равно: 48.26181716610387\n",
      "\n",
      "минимальное значение для days_employed по группе госслужащий равно: 0.10946348065301145\n",
      "среднее значение для days_employed по группе госслужащий равно: 9.31478603204314\n",
      "максимальное значение для days_employed по группе госслужащий равно: 41.62474575737837\n",
      "\n",
      "минимальное значение для days_employed по группе безработный равно: 924.724566670814\n",
      "среднее значение для days_employed по группе безработный равно: 1003.8730212169988\n",
      "максимальное значение для days_employed по группе безработный равно: 1083.0214757631836\n",
      "\n",
      "минимальное значение для days_employed по группе предприниматель равно: 1.4269810506722644\n",
      "среднее значение для days_employed по группе предприниматель равно: 1.4269810506722644\n",
      "максимальное значение для days_employed по группе предприниматель равно: 1.4269810506722644\n",
      "\n",
      "минимальное значение для days_employed по группе студент равно: 1.5856206946252551\n",
      "среднее значение для days_employed по группе студент равно: 1.5856206946252551\n",
      "максимальное значение для days_employed по группе студент равно: 1.5856206946252551\n",
      "\n",
      "минимальное значение для days_employed по группе в декрете равно: 9.032219074033039\n",
      "среднее значение для days_employed по группе в декрете равно: 9.032219074033039\n",
      "максимальное значение для days_employed по группе в декрете равно: 9.032219074033039\n",
      "\n",
      "Произошла ошибка, проверьте введенные данные\n",
      "посчитаем значения стажа по группам в годах\n",
      "\n"
     ]
    }
   ],
   "source": [
    "an.min_mean_max_values_in_groupe(df,'income_type','days_employed',365)\n",
    "\n",
    "print('Произошла ошибка, проверьте введенные данные')\n",
    "print('''посчитаем значения стажа по группам в годах\n",
    "''')"
   ]
  },
  {
   "cell_type": "markdown",
   "metadata": {},
   "source": [
    "Видим очень странные цифры в группах пенсионер и безработный по годам стажа, предположим в этих колонках стаж указан не в дня а часах, проверим предположение, но стоит задать вопрос по данным сотрудникам заказчика исследования, предоставившим датасет"
   ]
  },
  {
   "cell_type": "code",
   "execution_count": 15,
   "metadata": {
    "scrolled": true
   },
   "outputs": [
    {
     "name": "stdout",
     "output_type": "stream",
     "text": [
      "разделенные на 24 часа данные в значениях стажа по группе пенсионеры в среднем дают 41.63854565877951 года, что близко к реальности\n",
      "выясним количество записей и средний возраст безработного:\n",
      "количество записей в группе безработные: 2\n",
      "средний возраст в группе безработные: 38.0\n",
      "из полученных данных видим, что в данном случае правильно стаж по группе безработных присвоить\n",
      "исходя из среднего стажа по возрасту в 38 лет\n",
      "после замены на средний стаж по возрасту 38 лет стаж безработных получается: 6.835911880286787 года\n",
      "\n",
      "теперь заменим пропущенные значения по стажу средними значениями с разбивкой по группам занятости\n",
      "\n"
     ]
    },
    {
     "data": {
      "text/plain": [
       "children               0\n",
       "days_employed          0\n",
       "dob_years              0\n",
       "education              0\n",
       "education_id           0\n",
       "family_status          0\n",
       "family_status_id       0\n",
       "gender                 0\n",
       "income_type            0\n",
       "debt                   0\n",
       "total_income        2174\n",
       "purpose                0\n",
       "dtype: int64"
      ]
     },
     "execution_count": 15,
     "metadata": {},
     "output_type": "execute_result"
    }
   ],
   "source": [
    "days_mean_pension = df[df['income_type'] == 'пенсионер']['days_employed'].mean()  #вводим переменную для сохранения среднего значения\n",
    "if (days_mean_pension) >= 365002: #пишем условие для исключения цикличной перезаписи значений\n",
    "    df_pension_employed = df[df['income_type'] == 'пенсионер']['days_employed'] #вводим переменную для сохранения series \n",
    "    df_pension_employed /= 24\n",
    "    df.loc[(df['income_type'] == 'пенсионер'),'days_employed'] = df_pension_employed #заменяем значения\n",
    "days_mean_pension = df[df['income_type'] == 'пенсионер']['days_employed'].mean()\n",
    "print(f'разделенные на 24 часа данные в значениях стажа по группе пенсионеры в среднем дают {days_mean_pension/365.25} года, что близко к реальности')\n",
    "\n",
    "print(f'выясним количество записей и средний возраст безработного:')\n",
    "\n",
    "count_unemployed = df[df['income_type'] == 'безработный']['dob_years'].count()\n",
    "mean_unemployed_years = df[df['income_type'] == 'безработный']['dob_years'].mean()\n",
    "\n",
    "print(f'количество записей в группе безработные: {count_unemployed}')\n",
    "print(f'средний возраст в группе безработные: {mean_unemployed_years}')\n",
    "print('''из полученных данных видим, что в данном случае правильно стаж по группе безработных присвоить\n",
    "исходя из среднего стажа по возрасту в 38 лет''')\n",
    "\n",
    "days_mean_38_years = df[df['dob_years'] == 38]['days_employed'].mean() #вводим переменную для сохранения среднего значения стажа в группе 38 лет\n",
    "days_mean_unemployed = df[df['income_type'] == 'безработный']['days_employed'].mean()\n",
    "if days_mean_unemployed >= 366413: #пишем условие для исключения цикличной перезаписи значений\n",
    "    df.loc[(df['income_type'] == 'безработный'),'days_employed'] = days_mean_38_years #заменяем значения\n",
    "days_mean_unemployed = df[df['income_type'] == 'безработный']['days_employed'].mean()\n",
    "\n",
    "\n",
    "print(f'после замены на средний стаж по возрасту 38 лет стаж безработных получается: {days_mean_unemployed/365.25} года')\n",
    "print('')\n",
    "print('теперь заменим пропущенные значения по стажу средними значениями с разбивкой по группам занятости')\n",
    "print('')\n",
    "\n",
    "income_type_list = df['income_type'].unique().tolist()\n",
    "try:\n",
    "    for val in income_type_list:\n",
    "        mean_val = df[df['income_type'] == val]['days_employed'].mean() #получаем среднее значение по типу занятости\n",
    "        income_val = df[df['income_type'] == val]['days_employed'] # создаем series по типу занятости\n",
    "        income_val = income_val.fillna(mean_val) # удаляем пропуски в series\n",
    "        df.loc[(df['income_type'] == val),'days_employed'] = income_val # заменяем значения в фрейме\n",
    "except:\n",
    "    print('ошибка')\n",
    "df.isna().sum()\n"
   ]
  },
  {
   "cell_type": "code",
   "execution_count": 16,
   "metadata": {},
   "outputs": [
    {
     "name": "stdout",
     "output_type": "stream",
     "text": [
      "посмотрим на данные по месячным заработкам по группам занятости:\n",
      "\n",
      "минимальное значение для total_income по группе сотрудник равно: 21367.64835648697\n",
      "медианное значение для total_income по группе сотрудник равно: 142594.39684740017\n",
      "максимальное значение для total_income по группе сотрудник равно: 1726276.0143316735\n",
      "\n",
      "минимальное значение для total_income по группе пенсионер равно: 20667.26379327158\n",
      "медианное значение для total_income по группе пенсионер равно: 118514.48641164352\n",
      "максимальное значение для total_income по группе пенсионер равно: 735103.2701666558\n",
      "\n",
      "минимальное значение для total_income по группе компаньон равно: 28702.812888839853\n",
      "медианное значение для total_income по группе компаньон равно: 172357.95096577113\n",
      "максимальное значение для total_income по группе компаньон равно: 2265604.028722744\n",
      "\n",
      "минимальное значение для total_income по группе госслужащий равно: 29200.07719298284\n",
      "медианное значение для total_income по группе госслужащий равно: 150447.9352830068\n",
      "максимальное значение для total_income по группе госслужащий равно: 910451.4708141336\n",
      "\n",
      "минимальное значение для total_income по группе безработный равно: 59956.9919840117\n",
      "медианное значение для total_income по группе безработный равно: 131339.7516762103\n",
      "максимальное значение для total_income по группе безработный равно: 202722.5113684089\n",
      "\n",
      "минимальное значение для total_income по группе предприниматель равно: 499163.1449470857\n",
      "медианное значение для total_income по группе предприниматель равно: 499163.1449470857\n",
      "максимальное значение для total_income по группе предприниматель равно: 499163.1449470857\n",
      "\n",
      "минимальное значение для total_income по группе студент равно: 98201.62531401133\n",
      "медианное значение для total_income по группе студент равно: 98201.62531401133\n",
      "максимальное значение для total_income по группе студент равно: 98201.62531401133\n",
      "\n",
      "минимальное значение для total_income по группе в декрете равно: 53829.13072905995\n",
      "медианное значение для total_income по группе в декрете равно: 53829.13072905995\n",
      "максимальное значение для total_income по группе в декрете равно: 53829.13072905995\n",
      "\n",
      "\n",
      "Значения неоднозначные, например медианный заработок пенсионера всего на 15% ниже медианного заработка сотрудника,\n",
      "что не похоже на показатели в России, но тут нужно обращаться к тем, кто предоставил датафрейм,\n",
      "заменим пропуски используя медианные значения по типу занятости\n",
      "\n"
     ]
    },
    {
     "data": {
      "text/plain": [
       "children            0\n",
       "days_employed       0\n",
       "dob_years           0\n",
       "education           0\n",
       "education_id        0\n",
       "family_status       0\n",
       "family_status_id    0\n",
       "gender              0\n",
       "income_type         0\n",
       "debt                0\n",
       "total_income        0\n",
       "purpose             0\n",
       "dtype: int64"
      ]
     },
     "execution_count": 16,
     "metadata": {},
     "output_type": "execute_result"
    }
   ],
   "source": [
    "print('''посмотрим на данные по месячным заработкам по группам занятости:\n",
    "''')\n",
    "\n",
    "an.min_mean_max_values_in_groupe(df,'income_type','total_income',median=True)\n",
    "\n",
    "\n",
    "print('''\n",
    "Значения неоднозначные, например медианный заработок пенсионера всего на 15% ниже медианного заработка сотрудника,\n",
    "что не похоже на показатели в России, но тут нужно обращаться к тем, кто предоставил датафрейм,\n",
    "заменим пропуски используя медианные значения по типу занятости\n",
    "''')\n",
    "\n",
    "try:\n",
    "    for val in income_type_list:\n",
    "        median_val = df[df['income_type'] == val]['total_income'].median() #получаем среднее значение по типу занятости\n",
    "        total_income_val = df[df['income_type'] == val]['total_income'] # создаем series по типу занятости\n",
    "        total_income_val = total_income_val.fillna(median_val) # удаляем пропуски в series\n",
    "        df.loc[(df['income_type'] == val),'total_income'] = total_income_val # заменяем значения в фрейме\n",
    "except:\n",
    "    print('ошибка')\n",
    "    \n",
    "df.isna().sum()"
   ]
  },
  {
   "cell_type": "markdown",
   "metadata": {},
   "source": [
    "**Вывод**"
   ]
  },
  {
   "cell_type": "markdown",
   "metadata": {},
   "source": [
    "   В данных есть пропуски в столбцах с количественными данными по стажу работников и месячному доходу, в связи с тем, что мы будем исследовать влияние уроввня дохода на возврат кредита, данные с пропусками были заменены с разбивкой по типу занятости на средние и медианные значения.\n",
    "   \n",
    "   Оценив уникальные значения в столбцах, исправлены ошибки в заполнении данных по разным столбцам, выравнены данные, заполненые разным  регистром.\n",
    "   \n",
    "   Возможная причина появления пропусков скорее всего ошибка записи данных, на это указывает то, что пропуски встречаются только в двух столбцах.\n",
    "   \n",
    "   Ошибки в записи данных распределены случайным образом по определенным столбцам, что возможно указывает на неполное или неточное заполнение данных клиентами."
   ]
  },
  {
   "cell_type": "markdown",
   "metadata": {},
   "source": [
    "### Замена типа данных"
   ]
  },
  {
   "cell_type": "markdown",
   "metadata": {},
   "source": [
    "В колличественных данных по дням занятости и по уровню месечного заработка данные воспринимать тяжело, заменим тип float64 на int64\n"
   ]
  },
  {
   "cell_type": "code",
   "execution_count": 17,
   "metadata": {},
   "outputs": [
    {
     "name": "stdout",
     "output_type": "stream",
     "text": [
      "<class 'pandas.core.frame.DataFrame'>\n",
      "RangeIndex: 21525 entries, 0 to 21524\n",
      "Data columns (total 12 columns):\n",
      " #   Column            Non-Null Count  Dtype \n",
      "---  ------            --------------  ----- \n",
      " 0   children          21525 non-null  int64 \n",
      " 1   days_employed     21525 non-null  int64 \n",
      " 2   dob_years         21525 non-null  int64 \n",
      " 3   education         21525 non-null  object\n",
      " 4   education_id      21525 non-null  int64 \n",
      " 5   family_status     21525 non-null  object\n",
      " 6   family_status_id  21525 non-null  int64 \n",
      " 7   gender            21525 non-null  object\n",
      " 8   income_type       21525 non-null  object\n",
      " 9   debt              21525 non-null  int64 \n",
      " 10  total_income      21525 non-null  int64 \n",
      " 11  purpose           21525 non-null  object\n",
      "dtypes: int64(7), object(5)\n",
      "memory usage: 2.0+ MB\n"
     ]
    },
    {
     "data": {
      "text/html": [
       "<div>\n",
       "<style scoped>\n",
       "    .dataframe tbody tr th:only-of-type {\n",
       "        vertical-align: middle;\n",
       "    }\n",
       "\n",
       "    .dataframe tbody tr th {\n",
       "        vertical-align: top;\n",
       "    }\n",
       "\n",
       "    .dataframe thead th {\n",
       "        text-align: right;\n",
       "    }\n",
       "</style>\n",
       "<table border=\"1\" class=\"dataframe\">\n",
       "  <thead>\n",
       "    <tr style=\"text-align: right;\">\n",
       "      <th></th>\n",
       "      <th>children</th>\n",
       "      <th>days_employed</th>\n",
       "      <th>dob_years</th>\n",
       "      <th>education</th>\n",
       "      <th>education_id</th>\n",
       "      <th>family_status</th>\n",
       "      <th>family_status_id</th>\n",
       "      <th>gender</th>\n",
       "      <th>income_type</th>\n",
       "      <th>debt</th>\n",
       "      <th>total_income</th>\n",
       "      <th>purpose</th>\n",
       "    </tr>\n",
       "  </thead>\n",
       "  <tbody>\n",
       "    <tr>\n",
       "      <th>0</th>\n",
       "      <td>1</td>\n",
       "      <td>8438</td>\n",
       "      <td>42</td>\n",
       "      <td>высшее</td>\n",
       "      <td>0</td>\n",
       "      <td>женат / замужем</td>\n",
       "      <td>0</td>\n",
       "      <td>F</td>\n",
       "      <td>сотрудник</td>\n",
       "      <td>0</td>\n",
       "      <td>253876</td>\n",
       "      <td>покупка жилья</td>\n",
       "    </tr>\n",
       "    <tr>\n",
       "      <th>1</th>\n",
       "      <td>1</td>\n",
       "      <td>4025</td>\n",
       "      <td>36</td>\n",
       "      <td>среднее</td>\n",
       "      <td>1</td>\n",
       "      <td>женат / замужем</td>\n",
       "      <td>0</td>\n",
       "      <td>F</td>\n",
       "      <td>сотрудник</td>\n",
       "      <td>0</td>\n",
       "      <td>112080</td>\n",
       "      <td>приобретение автомобиля</td>\n",
       "    </tr>\n",
       "    <tr>\n",
       "      <th>2</th>\n",
       "      <td>0</td>\n",
       "      <td>5623</td>\n",
       "      <td>33</td>\n",
       "      <td>среднее</td>\n",
       "      <td>1</td>\n",
       "      <td>женат / замужем</td>\n",
       "      <td>0</td>\n",
       "      <td>M</td>\n",
       "      <td>сотрудник</td>\n",
       "      <td>0</td>\n",
       "      <td>145886</td>\n",
       "      <td>покупка жилья</td>\n",
       "    </tr>\n",
       "    <tr>\n",
       "      <th>3</th>\n",
       "      <td>3</td>\n",
       "      <td>4125</td>\n",
       "      <td>32</td>\n",
       "      <td>среднее</td>\n",
       "      <td>1</td>\n",
       "      <td>женат / замужем</td>\n",
       "      <td>0</td>\n",
       "      <td>M</td>\n",
       "      <td>сотрудник</td>\n",
       "      <td>0</td>\n",
       "      <td>267629</td>\n",
       "      <td>дополнительное образование</td>\n",
       "    </tr>\n",
       "    <tr>\n",
       "      <th>4</th>\n",
       "      <td>0</td>\n",
       "      <td>14178</td>\n",
       "      <td>53</td>\n",
       "      <td>среднее</td>\n",
       "      <td>1</td>\n",
       "      <td>гражданский брак</td>\n",
       "      <td>1</td>\n",
       "      <td>F</td>\n",
       "      <td>пенсионер</td>\n",
       "      <td>0</td>\n",
       "      <td>158616</td>\n",
       "      <td>сыграть свадьбу</td>\n",
       "    </tr>\n",
       "    <tr>\n",
       "      <th>5</th>\n",
       "      <td>0</td>\n",
       "      <td>926</td>\n",
       "      <td>27</td>\n",
       "      <td>высшее</td>\n",
       "      <td>0</td>\n",
       "      <td>гражданский брак</td>\n",
       "      <td>1</td>\n",
       "      <td>M</td>\n",
       "      <td>компаньон</td>\n",
       "      <td>0</td>\n",
       "      <td>255764</td>\n",
       "      <td>покупка жилья</td>\n",
       "    </tr>\n",
       "    <tr>\n",
       "      <th>6</th>\n",
       "      <td>0</td>\n",
       "      <td>2879</td>\n",
       "      <td>43</td>\n",
       "      <td>высшее</td>\n",
       "      <td>0</td>\n",
       "      <td>женат / замужем</td>\n",
       "      <td>0</td>\n",
       "      <td>F</td>\n",
       "      <td>компаньон</td>\n",
       "      <td>0</td>\n",
       "      <td>240526</td>\n",
       "      <td>операции с жильем</td>\n",
       "    </tr>\n",
       "    <tr>\n",
       "      <th>7</th>\n",
       "      <td>0</td>\n",
       "      <td>153</td>\n",
       "      <td>50</td>\n",
       "      <td>среднее</td>\n",
       "      <td>1</td>\n",
       "      <td>женат / замужем</td>\n",
       "      <td>0</td>\n",
       "      <td>M</td>\n",
       "      <td>сотрудник</td>\n",
       "      <td>0</td>\n",
       "      <td>135824</td>\n",
       "      <td>образование</td>\n",
       "    </tr>\n",
       "    <tr>\n",
       "      <th>8</th>\n",
       "      <td>2</td>\n",
       "      <td>6930</td>\n",
       "      <td>35</td>\n",
       "      <td>высшее</td>\n",
       "      <td>0</td>\n",
       "      <td>гражданский брак</td>\n",
       "      <td>1</td>\n",
       "      <td>F</td>\n",
       "      <td>сотрудник</td>\n",
       "      <td>0</td>\n",
       "      <td>95857</td>\n",
       "      <td>на проведение свадьбы</td>\n",
       "    </tr>\n",
       "    <tr>\n",
       "      <th>9</th>\n",
       "      <td>0</td>\n",
       "      <td>2189</td>\n",
       "      <td>41</td>\n",
       "      <td>среднее</td>\n",
       "      <td>1</td>\n",
       "      <td>женат / замужем</td>\n",
       "      <td>0</td>\n",
       "      <td>M</td>\n",
       "      <td>сотрудник</td>\n",
       "      <td>0</td>\n",
       "      <td>144426</td>\n",
       "      <td>покупка жилья для семьи</td>\n",
       "    </tr>\n",
       "    <tr>\n",
       "      <th>10</th>\n",
       "      <td>2</td>\n",
       "      <td>4171</td>\n",
       "      <td>36</td>\n",
       "      <td>высшее</td>\n",
       "      <td>0</td>\n",
       "      <td>женат / замужем</td>\n",
       "      <td>0</td>\n",
       "      <td>M</td>\n",
       "      <td>компаньон</td>\n",
       "      <td>0</td>\n",
       "      <td>113943</td>\n",
       "      <td>покупка недвижимости</td>\n",
       "    </tr>\n",
       "    <tr>\n",
       "      <th>11</th>\n",
       "      <td>0</td>\n",
       "      <td>793</td>\n",
       "      <td>40</td>\n",
       "      <td>среднее</td>\n",
       "      <td>1</td>\n",
       "      <td>женат / замужем</td>\n",
       "      <td>0</td>\n",
       "      <td>F</td>\n",
       "      <td>сотрудник</td>\n",
       "      <td>0</td>\n",
       "      <td>77069</td>\n",
       "      <td>покупка коммерческой недвижимости</td>\n",
       "    </tr>\n",
       "    <tr>\n",
       "      <th>12</th>\n",
       "      <td>0</td>\n",
       "      <td>15208</td>\n",
       "      <td>65</td>\n",
       "      <td>среднее</td>\n",
       "      <td>1</td>\n",
       "      <td>гражданский брак</td>\n",
       "      <td>1</td>\n",
       "      <td>M</td>\n",
       "      <td>пенсионер</td>\n",
       "      <td>0</td>\n",
       "      <td>118514</td>\n",
       "      <td>сыграть свадьбу</td>\n",
       "    </tr>\n",
       "    <tr>\n",
       "      <th>13</th>\n",
       "      <td>0</td>\n",
       "      <td>1847</td>\n",
       "      <td>54</td>\n",
       "      <td>неоконченное высшее</td>\n",
       "      <td>2</td>\n",
       "      <td>женат / замужем</td>\n",
       "      <td>0</td>\n",
       "      <td>F</td>\n",
       "      <td>сотрудник</td>\n",
       "      <td>0</td>\n",
       "      <td>130458</td>\n",
       "      <td>приобретение автомобиля</td>\n",
       "    </tr>\n",
       "    <tr>\n",
       "      <th>14</th>\n",
       "      <td>0</td>\n",
       "      <td>1845</td>\n",
       "      <td>56</td>\n",
       "      <td>высшее</td>\n",
       "      <td>0</td>\n",
       "      <td>гражданский брак</td>\n",
       "      <td>1</td>\n",
       "      <td>F</td>\n",
       "      <td>компаньон</td>\n",
       "      <td>1</td>\n",
       "      <td>165128</td>\n",
       "      <td>покупка жилой недвижимости</td>\n",
       "    </tr>\n",
       "  </tbody>\n",
       "</table>\n",
       "</div>"
      ],
      "text/plain": [
       "    children  days_employed  dob_years            education  education_id  \\\n",
       "0          1           8438         42               высшее             0   \n",
       "1          1           4025         36              среднее             1   \n",
       "2          0           5623         33              среднее             1   \n",
       "3          3           4125         32              среднее             1   \n",
       "4          0          14178         53              среднее             1   \n",
       "5          0            926         27               высшее             0   \n",
       "6          0           2879         43               высшее             0   \n",
       "7          0            153         50              среднее             1   \n",
       "8          2           6930         35               высшее             0   \n",
       "9          0           2189         41              среднее             1   \n",
       "10         2           4171         36               высшее             0   \n",
       "11         0            793         40              среднее             1   \n",
       "12         0          15208         65              среднее             1   \n",
       "13         0           1847         54  неоконченное высшее             2   \n",
       "14         0           1845         56               высшее             0   \n",
       "\n",
       "       family_status  family_status_id gender income_type  debt  total_income  \\\n",
       "0    женат / замужем                 0      F   сотрудник     0        253876   \n",
       "1    женат / замужем                 0      F   сотрудник     0        112080   \n",
       "2    женат / замужем                 0      M   сотрудник     0        145886   \n",
       "3    женат / замужем                 0      M   сотрудник     0        267629   \n",
       "4   гражданский брак                 1      F   пенсионер     0        158616   \n",
       "5   гражданский брак                 1      M   компаньон     0        255764   \n",
       "6    женат / замужем                 0      F   компаньон     0        240526   \n",
       "7    женат / замужем                 0      M   сотрудник     0        135824   \n",
       "8   гражданский брак                 1      F   сотрудник     0         95857   \n",
       "9    женат / замужем                 0      M   сотрудник     0        144426   \n",
       "10   женат / замужем                 0      M   компаньон     0        113943   \n",
       "11   женат / замужем                 0      F   сотрудник     0         77069   \n",
       "12  гражданский брак                 1      M   пенсионер     0        118514   \n",
       "13   женат / замужем                 0      F   сотрудник     0        130458   \n",
       "14  гражданский брак                 1      F   компаньон     1        165128   \n",
       "\n",
       "                              purpose  \n",
       "0                       покупка жилья  \n",
       "1             приобретение автомобиля  \n",
       "2                       покупка жилья  \n",
       "3          дополнительное образование  \n",
       "4                     сыграть свадьбу  \n",
       "5                       покупка жилья  \n",
       "6                   операции с жильем  \n",
       "7                         образование  \n",
       "8               на проведение свадьбы  \n",
       "9             покупка жилья для семьи  \n",
       "10               покупка недвижимости  \n",
       "11  покупка коммерческой недвижимости  \n",
       "12                    сыграть свадьбу  \n",
       "13            приобретение автомобиля  \n",
       "14         покупка жилой недвижимости  "
      ]
     },
     "metadata": {},
     "output_type": "display_data"
    }
   ],
   "source": [
    "df['days_employed'] = df['days_employed'].round(0).astype('int64') #округляем значения в столбце и меняем тип на int64\n",
    "df['total_income'] = df['total_income'].round(0).astype('int64') #округляем значения в столбце и меняем тип на int64\n",
    "df.info()\n",
    "display(df.head(15))"
   ]
  },
  {
   "cell_type": "markdown",
   "metadata": {},
   "source": [
    "**Вывод**"
   ]
  },
  {
   "cell_type": "markdown",
   "metadata": {},
   "source": [
    "Для замены данных используем метод смены типа данных столбца \"astype\", предворительно округлив значения через \"round\"\n",
    "После замены типа значений данные стало читать и оценивать легче"
   ]
  },
  {
   "cell_type": "markdown",
   "metadata": {},
   "source": [
    "### Обработка дубликатов"
   ]
  },
  {
   "cell_type": "code",
   "execution_count": 18,
   "metadata": {},
   "outputs": [
    {
     "name": "stdout",
     "output_type": "stream",
     "text": [
      "Количество дубликатов строк в датасете: 71, удалим дублированные строки\n"
     ]
    }
   ],
   "source": [
    "print(f'Количество дубликатов строк в датасете: {df.duplicated().sum()}, удалим дублированные строки')\n",
    "df = df.drop_duplicates().reset_index(drop=True)"
   ]
  },
  {
   "cell_type": "markdown",
   "metadata": {},
   "source": [
    "**Вывод**"
   ]
  },
  {
   "cell_type": "markdown",
   "metadata": {},
   "source": [
    "Дубликаты удалены методом \"drop_duplicates\" с перезаписью индекса строк, так как выше скрытые дубликаты в столбцах были\n",
    "устранены через приведение данных к общему виду записи.\n",
    "Возможные причины образования дубликатов - ошибка при записи данных при заполнении заявки, повторное заполнение формы клиентом."
   ]
  },
  {
   "cell_type": "markdown",
   "metadata": {},
   "source": [
    "### Лемматизация"
   ]
  },
  {
   "cell_type": "code",
   "execution_count": 19,
   "metadata": {},
   "outputs": [],
   "source": [
    "df['purpose_lemmas'] = an.lemmatize(df, column='purpose')"
   ]
  },
  {
   "cell_type": "markdown",
   "metadata": {},
   "source": [
    "**Вывод**"
   ]
  },
  {
   "cell_type": "markdown",
   "metadata": {},
   "source": [
    "В таблицу добавлен столбец с леммами слов из столбца с целями кредита, для этого подключили Mystem из библиотеки pymystem"
   ]
  },
  {
   "cell_type": "markdown",
   "metadata": {},
   "source": [
    "### Категоризация данных"
   ]
  },
  {
   "cell_type": "code",
   "execution_count": 20,
   "metadata": {},
   "outputs": [
    {
     "name": "stdout",
     "output_type": "stream",
     "text": [
      "Рассмотрим список лемм для выбора ключевых лемм для категоризации целей: ['жилье', 'автомобиль', 'образование', 'свадьба', 'операция', 'семья', 'недвижимость', 'сделка', 'сдача', 'ремонт']\n",
      " \n",
      "\n",
      "Повторение леммы жилье = 4460 раз\n",
      "Повторение леммы автомобиль = 4306 раз\n",
      "Повторение леммы образование = 4013 раз\n",
      "Повторение леммы свадьба = 2324 раз\n",
      "Повторение леммы операция = 2604 раз\n",
      "Повторение леммы семья = 638 раз\n",
      "Повторение леммы недвижимость = 6351 раз\n",
      "Повторение леммы сделка = 941 раз\n",
      "Повторение леммы сдача = 651 раз\n",
      "Повторение леммы ремонт = 607 раз\n"
     ]
    }
   ],
   "source": [
    "stop_words = [' ','.',',','!','?','|','а','и','на','с','со','в','для','покупка','приобретение','дополнительный',\\\n",
    "              'коммерческий', 'жилой', 'строительство', 'собственный', 'подержать', 'свой', 'со', 'заниматься',\\\n",
    "              'получение', 'высокий', 'подержанный', 'профильный', '|\\n', 'сыграть', 'проведение']\n",
    "clear_lemmas_list = [] # очистим общий список лемм от дубликатов и оценим основные леммы для категоризации целей кредитов\n",
    "\n",
    "text=''\n",
    "list_lemma = df['purpose'].tolist()\n",
    "for lem in list_lemma:\n",
    "    text += lem + '|'\n",
    "    \n",
    "full_text = m.lemmatize(text)\n",
    "for t in full_text:\n",
    "    if t not in clear_lemmas_list:\n",
    "        if t not in stop_words:\n",
    "            clear_lemmas_list.append(t)\n",
    "print(f'Рассмотрим список лемм для выбора ключевых лемм для категоризации целей: {clear_lemmas_list}\\n \\n')\n",
    "for l in clear_lemmas_list:\n",
    "    count=0\n",
    "    for t in full_text:\n",
    "        if t==l:\n",
    "            count += 1\n",
    "    print(f'Повторение леммы {l} = {count} раз')\n",
    "\n",
    "df['total_income_level'] = df['total_income'].apply(an.total_income_level)\n",
    "df['purpose_categories'] = df['purpose_lemmas'].apply(an.purpose_categories)\n",
    "df['children_categories'] = df['children'].apply(an.children_categories)\n",
    "df['dob_years_categories'] = df['dob_years'].apply(an.years_categories)\n",
    "df['years_employed_categories'] = df['days_employed'].apply(an.employed_categories)\n",
    "\n",
    "\n",
    "df_educ = df.groupby('education')['debt'].count()\n",
    "df_family = df.groupby('family_status')['debt'].count()\n",
    "\n",
    "\n",
    "df.loc[df['education'] == 'начальное', 'education'] = 'среднее'\n",
    "df.loc[df['education'] == 'неоконченное высшее', 'education'] = 'высшее'\n",
    "df.loc[df['education'] == 'ученая степень', 'education'] = 'высшее'\n",
    "\n",
    "df.loc[df['family_status'] == 'в разводе', 'family_status'] = 'в разводе / вдовец / вдова'\n",
    "df.loc[df['family_status'] == 'вдовец / вдова', 'family_status'] = 'в разводе / вдовец / вдова'"
   ]
  },
  {
   "cell_type": "markdown",
   "metadata": {},
   "source": [
    "Леммы жилье, недвижимость, сдача, ремонт можно считать одной группой, самой популярной в запросах на кредит, затем идет покупка автомобиля, образование, свадьба."
   ]
  },
  {
   "cell_type": "markdown",
   "metadata": {},
   "source": [
    "**Вывод**"
   ]
  },
  {
   "cell_type": "markdown",
   "metadata": {},
   "source": [
    "Для исследования категоризированны данные по уровню дохода, целям кредита, наличию детей, возрасту заемщика, стажу. "
   ]
  },
  {
   "cell_type": "markdown",
   "metadata": {},
   "source": [
    "## Шаг 3. Ответьте на вопросы"
   ]
  },
  {
   "cell_type": "markdown",
   "metadata": {},
   "source": [
    "- Есть ли зависимость между наличием детей и возвратом кредита в срок?"
   ]
  },
  {
   "cell_type": "code",
   "execution_count": 21,
   "metadata": {
    "scrolled": false
   },
   "outputs": [
    {
     "data": {
      "text/html": [
       "<div>\n",
       "<style scoped>\n",
       "    .dataframe tbody tr th:only-of-type {\n",
       "        vertical-align: middle;\n",
       "    }\n",
       "\n",
       "    .dataframe tbody tr th {\n",
       "        vertical-align: top;\n",
       "    }\n",
       "\n",
       "    .dataframe thead tr th {\n",
       "        text-align: left;\n",
       "    }\n",
       "\n",
       "    .dataframe thead tr:last-of-type th {\n",
       "        text-align: right;\n",
       "    }\n",
       "</style>\n",
       "<table border=\"1\" class=\"dataframe\">\n",
       "  <thead>\n",
       "    <tr>\n",
       "      <th></th>\n",
       "      <th>sum</th>\n",
       "      <th>count</th>\n",
       "      <th>ratio_in_procent</th>\n",
       "    </tr>\n",
       "    <tr>\n",
       "      <th></th>\n",
       "      <th>debt</th>\n",
       "      <th>debt</th>\n",
       "      <th>debt</th>\n",
       "    </tr>\n",
       "    <tr>\n",
       "      <th>children_categories</th>\n",
       "      <th></th>\n",
       "      <th></th>\n",
       "      <th></th>\n",
       "    </tr>\n",
       "  </thead>\n",
       "  <tbody>\n",
       "    <tr>\n",
       "      <th>двое детей</th>\n",
       "      <td>194</td>\n",
       "      <td>2052</td>\n",
       "      <td>9.45</td>\n",
       "    </tr>\n",
       "    <tr>\n",
       "      <th>многодетные</th>\n",
       "      <td>31</td>\n",
       "      <td>380</td>\n",
       "      <td>8.16</td>\n",
       "    </tr>\n",
       "    <tr>\n",
       "      <th>нет детей</th>\n",
       "      <td>1063</td>\n",
       "      <td>14091</td>\n",
       "      <td>7.54</td>\n",
       "    </tr>\n",
       "    <tr>\n",
       "      <th>один ребенок</th>\n",
       "      <td>453</td>\n",
       "      <td>4931</td>\n",
       "      <td>9.19</td>\n",
       "    </tr>\n",
       "  </tbody>\n",
       "</table>\n",
       "</div>"
      ],
      "text/plain": [
       "                      sum  count ratio_in_procent\n",
       "                     debt   debt             debt\n",
       "children_categories                              \n",
       "двое детей            194   2052             9.45\n",
       "многодетные            31    380             8.16\n",
       "нет детей            1063  14091             7.54\n",
       "один ребенок          453   4931             9.19"
      ]
     },
     "metadata": {},
     "output_type": "display_data"
    },
    {
     "data": {
      "text/plain": [
       "'Невозврат кредита по всей выборке: 8.12%'"
      ]
     },
     "metadata": {},
     "output_type": "display_data"
    },
    {
     "data": {
      "text/html": [
       "<div>\n",
       "<style scoped>\n",
       "    .dataframe tbody tr th:only-of-type {\n",
       "        vertical-align: middle;\n",
       "    }\n",
       "\n",
       "    .dataframe tbody tr th {\n",
       "        vertical-align: top;\n",
       "    }\n",
       "\n",
       "    .dataframe thead th {\n",
       "        text-align: right;\n",
       "    }\n",
       "</style>\n",
       "<table border=\"1\" class=\"dataframe\">\n",
       "  <thead>\n",
       "    <tr style=\"text-align: right;\">\n",
       "      <th>family_status</th>\n",
       "      <th>Не женат / не замужем</th>\n",
       "      <th>в разводе / вдовец / вдова</th>\n",
       "      <th>гражданский брак</th>\n",
       "      <th>женат / замужем</th>\n",
       "    </tr>\n",
       "    <tr>\n",
       "      <th>children_categories</th>\n",
       "      <th></th>\n",
       "      <th></th>\n",
       "      <th></th>\n",
       "      <th></th>\n",
       "    </tr>\n",
       "  </thead>\n",
       "  <tbody>\n",
       "    <tr>\n",
       "      <th>двое детей</th>\n",
       "      <td>12.00</td>\n",
       "      <td>9.90</td>\n",
       "      <td>8.75</td>\n",
       "      <td>9.46</td>\n",
       "    </tr>\n",
       "    <tr>\n",
       "      <th>многодетные</th>\n",
       "      <td>20.00</td>\n",
       "      <td>5.26</td>\n",
       "      <td>12.12</td>\n",
       "      <td>7.02</td>\n",
       "    </tr>\n",
       "    <tr>\n",
       "      <th>нет детей</th>\n",
       "      <td>9.28</td>\n",
       "      <td>6.62</td>\n",
       "      <td>8.39</td>\n",
       "      <td>6.91</td>\n",
       "    </tr>\n",
       "    <tr>\n",
       "      <th>один ребенок</th>\n",
       "      <td>11.45</td>\n",
       "      <td>7.20</td>\n",
       "      <td>11.96</td>\n",
       "      <td>8.19</td>\n",
       "    </tr>\n",
       "  </tbody>\n",
       "</table>\n",
       "</div>"
      ],
      "text/plain": [
       "family_status        Не женат / не замужем  в разводе / вдовец / вдова  \\\n",
       "children_categories                                                      \n",
       "двое детей                           12.00                        9.90   \n",
       "многодетные                          20.00                        5.26   \n",
       "нет детей                             9.28                        6.62   \n",
       "один ребенок                         11.45                        7.20   \n",
       "\n",
       "family_status        гражданский брак  женат / замужем  \n",
       "children_categories                                     \n",
       "двое детей                       8.75             9.46  \n",
       "многодетные                     12.12             7.02  \n",
       "нет детей                        8.39             6.91  \n",
       "один ребенок                    11.96             8.19  "
      ]
     },
     "metadata": {},
     "output_type": "display_data"
    },
    {
     "data": {
      "image/png": "[encoded data removed]",
      "text/plain": [
       "<Figure size 300x200 with 2 Axes>"
      ]
     },
     "metadata": {},
     "output_type": "display_data"
    }
   ],
   "source": [
    "an.cat_debt_pivot(df, 'children_categories', 'family_status')"
   ]
  },
  {
   "cell_type": "markdown",
   "metadata": {},
   "source": [
    "**Вывод**"
   ]
  },
  {
   "cell_type": "markdown",
   "metadata": {},
   "source": [
    "- При сравнении показателей по сводным таблицам, видно, что при отсутствии детей процент невозврата кредита ниже среднего по всем данным сета, при наличие детей выше среднего, при разбивке на 1, 2 и 3+ детей в семье, при наличие 1 или 2 детей процент невыплаты выше среднего, для семей с 3+ деней выборка недостаточно, сложно оценить,\n",
    "- При рассмотрении влияния наличия детей с разбивкой на семейный статус видно значительное взаимное влияние факторов по количеству детей и семейному статусу.\n",
    "\n",
    "Есть зависимость между наличием детей и возвратом кредита в срок. Заемщики без детей надежнее чем с детьми, но наличие одного ребенка для групп заемщиков в браке или бывших в браке не выше среднего риска, наибольший процент невозврата кредита в срок приходится на заемщика с детьми не в браке или в гражданском браке."
   ]
  },
  {
   "cell_type": "markdown",
   "metadata": {},
   "source": [
    "- Есть ли зависимость между семейным положением и возвратом кредита в срок?"
   ]
  },
  {
   "cell_type": "code",
   "execution_count": 22,
   "metadata": {},
   "outputs": [
    {
     "data": {
      "text/html": [
       "<div>\n",
       "<style scoped>\n",
       "    .dataframe tbody tr th:only-of-type {\n",
       "        vertical-align: middle;\n",
       "    }\n",
       "\n",
       "    .dataframe tbody tr th {\n",
       "        vertical-align: top;\n",
       "    }\n",
       "\n",
       "    .dataframe thead tr th {\n",
       "        text-align: left;\n",
       "    }\n",
       "\n",
       "    .dataframe thead tr:last-of-type th {\n",
       "        text-align: right;\n",
       "    }\n",
       "</style>\n",
       "<table border=\"1\" class=\"dataframe\">\n",
       "  <thead>\n",
       "    <tr>\n",
       "      <th></th>\n",
       "      <th>sum</th>\n",
       "      <th>count</th>\n",
       "      <th>ratio_in_procent</th>\n",
       "    </tr>\n",
       "    <tr>\n",
       "      <th></th>\n",
       "      <th>debt</th>\n",
       "      <th>debt</th>\n",
       "      <th>debt</th>\n",
       "    </tr>\n",
       "    <tr>\n",
       "      <th>family_status</th>\n",
       "      <th></th>\n",
       "      <th></th>\n",
       "      <th></th>\n",
       "    </tr>\n",
       "  </thead>\n",
       "  <tbody>\n",
       "    <tr>\n",
       "      <th>Не женат / не замужем</th>\n",
       "      <td>274</td>\n",
       "      <td>2810</td>\n",
       "      <td>9.75</td>\n",
       "    </tr>\n",
       "    <tr>\n",
       "      <th>в разводе / вдовец / вдова</th>\n",
       "      <td>148</td>\n",
       "      <td>2154</td>\n",
       "      <td>6.87</td>\n",
       "    </tr>\n",
       "    <tr>\n",
       "      <th>гражданский брак</th>\n",
       "      <td>388</td>\n",
       "      <td>4151</td>\n",
       "      <td>9.35</td>\n",
       "    </tr>\n",
       "    <tr>\n",
       "      <th>женат / замужем</th>\n",
       "      <td>931</td>\n",
       "      <td>12339</td>\n",
       "      <td>7.55</td>\n",
       "    </tr>\n",
       "  </tbody>\n",
       "</table>\n",
       "</div>"
      ],
      "text/plain": [
       "                            sum  count ratio_in_procent\n",
       "                           debt   debt             debt\n",
       "family_status                                          \n",
       "Не женат / не замужем       274   2810             9.75\n",
       "в разводе / вдовец / вдова  148   2154             6.87\n",
       "гражданский брак            388   4151             9.35\n",
       "женат / замужем             931  12339             7.55"
      ]
     },
     "metadata": {},
     "output_type": "display_data"
    },
    {
     "data": {
      "text/plain": [
       "'Невозврат кредита по всей выборке: 8.12%'"
      ]
     },
     "metadata": {},
     "output_type": "display_data"
    },
    {
     "data": {
      "text/html": [
       "<div>\n",
       "<style scoped>\n",
       "    .dataframe tbody tr th:only-of-type {\n",
       "        vertical-align: middle;\n",
       "    }\n",
       "\n",
       "    .dataframe tbody tr th {\n",
       "        vertical-align: top;\n",
       "    }\n",
       "\n",
       "    .dataframe thead th {\n",
       "        text-align: right;\n",
       "    }\n",
       "</style>\n",
       "<table border=\"1\" class=\"dataframe\">\n",
       "  <thead>\n",
       "    <tr style=\"text-align: right;\">\n",
       "      <th>years_employed_categories</th>\n",
       "      <th>до десяти лет</th>\n",
       "      <th>до пяти лет</th>\n",
       "      <th>меньше года</th>\n",
       "      <th>свыше десяти лет</th>\n",
       "    </tr>\n",
       "    <tr>\n",
       "      <th>family_status</th>\n",
       "      <th></th>\n",
       "      <th></th>\n",
       "      <th></th>\n",
       "      <th></th>\n",
       "    </tr>\n",
       "  </thead>\n",
       "  <tbody>\n",
       "    <tr>\n",
       "      <th>Не женат / не замужем</th>\n",
       "      <td>9.36</td>\n",
       "      <td>11.74</td>\n",
       "      <td>12.61</td>\n",
       "      <td>5.05</td>\n",
       "    </tr>\n",
       "    <tr>\n",
       "      <th>в разводе / вдовец / вдова</th>\n",
       "      <td>5.59</td>\n",
       "      <td>8.60</td>\n",
       "      <td>9.09</td>\n",
       "      <td>6.36</td>\n",
       "    </tr>\n",
       "    <tr>\n",
       "      <th>гражданский брак</th>\n",
       "      <td>10.27</td>\n",
       "      <td>10.95</td>\n",
       "      <td>11.96</td>\n",
       "      <td>5.84</td>\n",
       "    </tr>\n",
       "    <tr>\n",
       "      <th>женат / замужем</th>\n",
       "      <td>7.75</td>\n",
       "      <td>9.47</td>\n",
       "      <td>9.50</td>\n",
       "      <td>5.10</td>\n",
       "    </tr>\n",
       "  </tbody>\n",
       "</table>\n",
       "</div>"
      ],
      "text/plain": [
       "years_employed_categories   до десяти лет  до пяти лет  меньше года  \\\n",
       "family_status                                                         \n",
       "Не женат / не замужем                9.36        11.74        12.61   \n",
       "в разводе / вдовец / вдова           5.59         8.60         9.09   \n",
       "гражданский брак                    10.27        10.95        11.96   \n",
       "женат / замужем                      7.75         9.47         9.50   \n",
       "\n",
       "years_employed_categories   свыше десяти лет  \n",
       "family_status                                 \n",
       "Не женат / не замужем                   5.05  \n",
       "в разводе / вдовец / вдова              6.36  \n",
       "гражданский брак                        5.84  \n",
       "женат / замужем                         5.10  "
      ]
     },
     "metadata": {},
     "output_type": "display_data"
    },
    {
     "data": {
      "image/png": "[encoded data removed]",
      "text/plain": [
       "<Figure size 300x200 with 2 Axes>"
      ]
     },
     "metadata": {},
     "output_type": "display_data"
    }
   ],
   "source": [
    "an.cat_debt_pivot(df, 'family_status', 'years_employed_categories')"
   ]
  },
  {
   "cell_type": "markdown",
   "metadata": {},
   "source": [
    "**Вывод**"
   ]
  },
  {
   "cell_type": "markdown",
   "metadata": {},
   "source": [
    "- При сравнении показателей по сводным таблицам, видно, что семейный статус влияет на возврат кредита в срок. В статусах в женат/замужем и в разводе/вдовец/вдова доля невозврата кредита в срок ниже чем у групп не женатых и состоящих в гражданском браке.\n",
    "- При рассмотрении влияния наличия статуса с разбивкой на стаж видно понижение процента невозврата кредита в срок с ростом стажа практически во всех группах.\n",
    "\n",
    "Есть зависимость между семейным положением и возвратом кредита в срок. Кредитовать людей состоящих или состоявших в браке надежнее."
   ]
  },
  {
   "cell_type": "markdown",
   "metadata": {},
   "source": [
    "- Есть ли зависимость между уровнем дохода и возвратом кредита в срок?"
   ]
  },
  {
   "cell_type": "code",
   "execution_count": 23,
   "metadata": {},
   "outputs": [
    {
     "data": {
      "text/html": [
       "<div>\n",
       "<style scoped>\n",
       "    .dataframe tbody tr th:only-of-type {\n",
       "        vertical-align: middle;\n",
       "    }\n",
       "\n",
       "    .dataframe tbody tr th {\n",
       "        vertical-align: top;\n",
       "    }\n",
       "\n",
       "    .dataframe thead tr th {\n",
       "        text-align: left;\n",
       "    }\n",
       "\n",
       "    .dataframe thead tr:last-of-type th {\n",
       "        text-align: right;\n",
       "    }\n",
       "</style>\n",
       "<table border=\"1\" class=\"dataframe\">\n",
       "  <thead>\n",
       "    <tr>\n",
       "      <th></th>\n",
       "      <th>sum</th>\n",
       "      <th>count</th>\n",
       "      <th>ratio_in_procent</th>\n",
       "    </tr>\n",
       "    <tr>\n",
       "      <th></th>\n",
       "      <th>debt</th>\n",
       "      <th>debt</th>\n",
       "      <th>debt</th>\n",
       "    </tr>\n",
       "    <tr>\n",
       "      <th>total_income_level</th>\n",
       "      <th></th>\n",
       "      <th></th>\n",
       "      <th></th>\n",
       "    </tr>\n",
       "  </thead>\n",
       "  <tbody>\n",
       "    <tr>\n",
       "      <th>высокий</th>\n",
       "      <td>134</td>\n",
       "      <td>1890</td>\n",
       "      <td>7.09</td>\n",
       "    </tr>\n",
       "    <tr>\n",
       "      <th>выше среднего</th>\n",
       "      <td>534</td>\n",
       "      <td>6830</td>\n",
       "      <td>7.82</td>\n",
       "    </tr>\n",
       "    <tr>\n",
       "      <th>низкий</th>\n",
       "      <td>262</td>\n",
       "      <td>3348</td>\n",
       "      <td>7.83</td>\n",
       "    </tr>\n",
       "    <tr>\n",
       "      <th>средний</th>\n",
       "      <td>811</td>\n",
       "      <td>9386</td>\n",
       "      <td>8.64</td>\n",
       "    </tr>\n",
       "  </tbody>\n",
       "</table>\n",
       "</div>"
      ],
      "text/plain": [
       "                    sum count ratio_in_procent\n",
       "                   debt  debt             debt\n",
       "total_income_level                            \n",
       "высокий             134  1890             7.09\n",
       "выше среднего       534  6830             7.82\n",
       "низкий              262  3348             7.83\n",
       "средний             811  9386             8.64"
      ]
     },
     "metadata": {},
     "output_type": "display_data"
    },
    {
     "data": {
      "text/plain": [
       "'Невозврат кредита по всей выборке: 8.12%'"
      ]
     },
     "metadata": {},
     "output_type": "display_data"
    },
    {
     "data": {
      "text/html": [
       "<div>\n",
       "<style scoped>\n",
       "    .dataframe tbody tr th:only-of-type {\n",
       "        vertical-align: middle;\n",
       "    }\n",
       "\n",
       "    .dataframe tbody tr th {\n",
       "        vertical-align: top;\n",
       "    }\n",
       "\n",
       "    .dataframe thead th {\n",
       "        text-align: right;\n",
       "    }\n",
       "</style>\n",
       "<table border=\"1\" class=\"dataframe\">\n",
       "  <thead>\n",
       "    <tr style=\"text-align: right;\">\n",
       "      <th>education</th>\n",
       "      <th>высшее</th>\n",
       "      <th>среднее</th>\n",
       "    </tr>\n",
       "    <tr>\n",
       "      <th>total_income_level</th>\n",
       "      <th></th>\n",
       "      <th></th>\n",
       "    </tr>\n",
       "  </thead>\n",
       "  <tbody>\n",
       "    <tr>\n",
       "      <th>высокий</th>\n",
       "      <td>4.98</td>\n",
       "      <td>9.19</td>\n",
       "    </tr>\n",
       "    <tr>\n",
       "      <th>выше среднего</th>\n",
       "      <td>5.98</td>\n",
       "      <td>8.77</td>\n",
       "    </tr>\n",
       "    <tr>\n",
       "      <th>низкий</th>\n",
       "      <td>6.32</td>\n",
       "      <td>8.09</td>\n",
       "    </tr>\n",
       "    <tr>\n",
       "      <th>средний</th>\n",
       "      <td>5.75</td>\n",
       "      <td>9.54</td>\n",
       "    </tr>\n",
       "  </tbody>\n",
       "</table>\n",
       "</div>"
      ],
      "text/plain": [
       "education           высшее  среднее\n",
       "total_income_level                 \n",
       "высокий               4.98     9.19\n",
       "выше среднего         5.98     8.77\n",
       "низкий                6.32     8.09\n",
       "средний               5.75     9.54"
      ]
     },
     "metadata": {},
     "output_type": "display_data"
    },
    {
     "data": {
      "image/png": "[encoded data removed]",
      "text/plain": [
       "<Figure size 300x200 with 2 Axes>"
      ]
     },
     "metadata": {},
     "output_type": "display_data"
    }
   ],
   "source": [
    "an.cat_debt_pivot(df, 'total_income_level', 'education')"
   ]
  },
  {
   "cell_type": "markdown",
   "metadata": {},
   "source": [
    "**Вывод**"
   ]
  },
  {
   "cell_type": "markdown",
   "metadata": {},
   "source": [
    "- При сравнении показателей по сводным таблицам, видно, что уровень дохода влияет на возврат кредита в срок незначительно. В группе с высокими доходами процент невозврата ниже, в остальных группах близок к среднему по сету данных.\n",
    "- При рассмотрении влияния уровня дохода с разбивкой на образование видно, что в группе с высшим образованием примерно соблюдается последовательность: чем выше доход тем ниже процент невозврата в срок. В группе с средним образованием такой последовательности по уровню дохода не прослеживается.\n",
    "\n",
    "Зависимость невозврата кредита в срок от уровня дохода есть в группе с вышим образованием, в общем по группе четкой зависимости нет. Стоит обращать внимание на уровень дохода заемщиков с высшим образованием."
   ]
  },
  {
   "cell_type": "markdown",
   "metadata": {},
   "source": [
    "- Как разные цели кредита влияют на его возврат в срок?"
   ]
  },
  {
   "cell_type": "code",
   "execution_count": 24,
   "metadata": {},
   "outputs": [
    {
     "data": {
      "text/html": [
       "<div>\n",
       "<style scoped>\n",
       "    .dataframe tbody tr th:only-of-type {\n",
       "        vertical-align: middle;\n",
       "    }\n",
       "\n",
       "    .dataframe tbody tr th {\n",
       "        vertical-align: top;\n",
       "    }\n",
       "\n",
       "    .dataframe thead tr th {\n",
       "        text-align: left;\n",
       "    }\n",
       "\n",
       "    .dataframe thead tr:last-of-type th {\n",
       "        text-align: right;\n",
       "    }\n",
       "</style>\n",
       "<table border=\"1\" class=\"dataframe\">\n",
       "  <thead>\n",
       "    <tr>\n",
       "      <th></th>\n",
       "      <th>sum</th>\n",
       "      <th>count</th>\n",
       "      <th>ratio_in_procent</th>\n",
       "    </tr>\n",
       "    <tr>\n",
       "      <th></th>\n",
       "      <th>debt</th>\n",
       "      <th>debt</th>\n",
       "      <th>debt</th>\n",
       "    </tr>\n",
       "    <tr>\n",
       "      <th>purpose_categories</th>\n",
       "      <th></th>\n",
       "      <th></th>\n",
       "      <th></th>\n",
       "    </tr>\n",
       "  </thead>\n",
       "  <tbody>\n",
       "    <tr>\n",
       "      <th>автомобиль</th>\n",
       "      <td>403</td>\n",
       "      <td>4306</td>\n",
       "      <td>9.36</td>\n",
       "    </tr>\n",
       "    <tr>\n",
       "      <th>недвижимость</th>\n",
       "      <td>737</td>\n",
       "      <td>10173</td>\n",
       "      <td>7.24</td>\n",
       "    </tr>\n",
       "    <tr>\n",
       "      <th>образование</th>\n",
       "      <td>370</td>\n",
       "      <td>4013</td>\n",
       "      <td>9.22</td>\n",
       "    </tr>\n",
       "    <tr>\n",
       "      <th>свадьба</th>\n",
       "      <td>231</td>\n",
       "      <td>2962</td>\n",
       "      <td>7.80</td>\n",
       "    </tr>\n",
       "  </tbody>\n",
       "</table>\n",
       "</div>"
      ],
      "text/plain": [
       "                    sum  count ratio_in_procent\n",
       "                   debt   debt             debt\n",
       "purpose_categories                             \n",
       "автомобиль          403   4306             9.36\n",
       "недвижимость        737  10173             7.24\n",
       "образование         370   4013             9.22\n",
       "свадьба             231   2962             7.80"
      ]
     },
     "metadata": {},
     "output_type": "display_data"
    },
    {
     "data": {
      "text/plain": [
       "'Невозврат кредита по всей выборке: 8.12%'"
      ]
     },
     "metadata": {},
     "output_type": "display_data"
    },
    {
     "data": {
      "text/html": [
       "<div>\n",
       "<style scoped>\n",
       "    .dataframe tbody tr th:only-of-type {\n",
       "        vertical-align: middle;\n",
       "    }\n",
       "\n",
       "    .dataframe tbody tr th {\n",
       "        vertical-align: top;\n",
       "    }\n",
       "\n",
       "    .dataframe thead th {\n",
       "        text-align: right;\n",
       "    }\n",
       "</style>\n",
       "<table border=\"1\" class=\"dataframe\">\n",
       "  <thead>\n",
       "    <tr style=\"text-align: right;\">\n",
       "      <th>dob_years_categories</th>\n",
       "      <th>молодой возраст</th>\n",
       "      <th>пожилой возраст</th>\n",
       "      <th>средний возраст</th>\n",
       "    </tr>\n",
       "    <tr>\n",
       "      <th>purpose_categories</th>\n",
       "      <th></th>\n",
       "      <th></th>\n",
       "      <th></th>\n",
       "    </tr>\n",
       "  </thead>\n",
       "  <tbody>\n",
       "    <tr>\n",
       "      <th>автомобиль</th>\n",
       "      <td>12.77</td>\n",
       "      <td>6.19</td>\n",
       "      <td>8.95</td>\n",
       "    </tr>\n",
       "    <tr>\n",
       "      <th>недвижимость</th>\n",
       "      <td>9.73</td>\n",
       "      <td>4.95</td>\n",
       "      <td>6.83</td>\n",
       "    </tr>\n",
       "    <tr>\n",
       "      <th>образование</th>\n",
       "      <td>13.07</td>\n",
       "      <td>6.30</td>\n",
       "      <td>8.44</td>\n",
       "    </tr>\n",
       "    <tr>\n",
       "      <th>свадьба</th>\n",
       "      <td>9.43</td>\n",
       "      <td>5.18</td>\n",
       "      <td>8.09</td>\n",
       "    </tr>\n",
       "  </tbody>\n",
       "</table>\n",
       "</div>"
      ],
      "text/plain": [
       "dob_years_categories  молодой возраст  пожилой возраст  средний возраст\n",
       "purpose_categories                                                     \n",
       "автомобиль                      12.77             6.19             8.95\n",
       "недвижимость                     9.73             4.95             6.83\n",
       "образование                     13.07             6.30             8.44\n",
       "свадьба                          9.43             5.18             8.09"
      ]
     },
     "metadata": {},
     "output_type": "display_data"
    },
    {
     "data": {
      "image/png": "[encoded data removed]",
      "text/plain": [
       "<Figure size 300x200 with 2 Axes>"
      ]
     },
     "metadata": {},
     "output_type": "display_data"
    }
   ],
   "source": [
    "an.cat_debt_pivot(df, 'purpose_categories', 'dob_years_categories')"
   ]
  },
  {
   "cell_type": "markdown",
   "metadata": {},
   "source": [
    "**Вывод**"
   ]
  },
  {
   "cell_type": "markdown",
   "metadata": {},
   "source": [
    "- При сравнении показателей по сводным таблицам, видно, что цель кридита влияет на возврат кредита в срок. Для целей кредита на недвижимость процент невозврата в срок ниже других групп и ниже среднего процента по сету. Для цели свадьба процент невозврата вовремя примерно равен среднему проценту по сету. Для целей на автомобиль и на образование процент невозврата вовремя выше целей на недвижимость и не свадьбу и выше среднего по сету.\n",
    "- При рассмотрении влияния целей кредита по группам возраста зависимость сохраняется одинаковой для всех групп возраста.\n",
    "\n",
    "Зависимость невозврата кредита в срок от цели кредита есть. Кредитовать недвижимость предпочтительнее, чем кредитовать на автомобиль или образование."
   ]
  },
  {
   "cell_type": "markdown",
   "metadata": {},
   "source": [
    "## Шаг 4. Общий вывод"
   ]
  },
  {
   "cell_type": "markdown",
   "metadata": {},
   "source": [
    "Зависимость между наличием детей и невозвратом кредита в срок, семейным положением и невозвратом кредита в срок, целью кредита и невозвратом кредита в срок есть, между уровнем дохода и возвратом кредита в срок не очевидна, но оптимально рассматривать влияние разных факторов вместе при достаточно большом количестве данных."
   ]
  }
 ],
 "metadata": {
  "ExecuteTimeLog": [
   {
    "duration": 768,
    "start_time": "2021-12-14T19:01:56.332Z"
   },
   {
    "duration": 85,
    "start_time": "2021-12-14T19:04:21.873Z"
   },
   {
    "duration": 109,
    "start_time": "2021-12-14T19:04:30.261Z"
   },
   {
    "duration": 93,
    "start_time": "2021-12-14T19:04:34.275Z"
   },
   {
    "duration": 830,
    "start_time": "2021-12-14T19:04:39.727Z"
   },
   {
    "duration": 626,
    "start_time": "2021-12-14T19:05:28.645Z"
   },
   {
    "duration": 86,
    "start_time": "2021-12-14T19:07:03.865Z"
   },
   {
    "duration": 62,
    "start_time": "2021-12-14T19:08:36.392Z"
   },
   {
    "duration": 60,
    "start_time": "2021-12-14T19:08:40.666Z"
   },
   {
    "duration": 86,
    "start_time": "2021-12-14T19:08:46.421Z"
   },
   {
    "duration": 74,
    "start_time": "2021-12-14T19:09:18.964Z"
   },
   {
    "duration": 65,
    "start_time": "2021-12-14T19:12:03.474Z"
   },
   {
    "duration": 78,
    "start_time": "2021-12-14T19:12:38.475Z"
   },
   {
    "duration": 78,
    "start_time": "2021-12-14T19:12:53.952Z"
   },
   {
    "duration": 88,
    "start_time": "2021-12-14T19:13:21.430Z"
   },
   {
    "duration": 135,
    "start_time": "2021-12-14T19:37:03.580Z"
   },
   {
    "duration": 85,
    "start_time": "2021-12-14T19:46:15.280Z"
   },
   {
    "duration": 91,
    "start_time": "2021-12-14T19:47:00.170Z"
   },
   {
    "duration": 87,
    "start_time": "2021-12-14T19:47:26.774Z"
   },
   {
    "duration": 87,
    "start_time": "2021-12-14T19:48:05.826Z"
   },
   {
    "duration": 8,
    "start_time": "2021-12-14T19:52:02.317Z"
   },
   {
    "duration": 10,
    "start_time": "2021-12-14T20:05:44.806Z"
   },
   {
    "duration": 9,
    "start_time": "2021-12-14T20:07:45.341Z"
   },
   {
    "duration": 430,
    "start_time": "2021-12-14T20:16:44.217Z"
   },
   {
    "duration": 336,
    "start_time": "2021-12-14T20:16:59.217Z"
   },
   {
    "duration": 50,
    "start_time": "2021-12-14T20:17:17.095Z"
   },
   {
    "duration": 27,
    "start_time": "2021-12-14T20:19:35.930Z"
   },
   {
    "duration": 13,
    "start_time": "2021-12-14T20:19:53.654Z"
   },
   {
    "duration": 13,
    "start_time": "2021-12-14T20:20:07.312Z"
   },
   {
    "duration": 12,
    "start_time": "2021-12-14T20:21:55.152Z"
   },
   {
    "duration": 70,
    "start_time": "2021-12-14T20:22:59.721Z"
   },
   {
    "duration": 20,
    "start_time": "2021-12-14T20:23:29.209Z"
   },
   {
    "duration": 20,
    "start_time": "2021-12-14T20:26:13.967Z"
   },
   {
    "duration": 266,
    "start_time": "2021-12-14T20:36:41.825Z"
   },
   {
    "duration": 15,
    "start_time": "2021-12-14T20:43:11.106Z"
   },
   {
    "duration": 84,
    "start_time": "2021-12-14T20:45:27.300Z"
   },
   {
    "duration": 105,
    "start_time": "2021-12-14T20:47:15.105Z"
   },
   {
    "duration": 87,
    "start_time": "2021-12-14T20:47:55.778Z"
   },
   {
    "duration": 79,
    "start_time": "2021-12-14T20:48:03.665Z"
   },
   {
    "duration": 243,
    "start_time": "2021-12-14T20:48:31.468Z"
   },
   {
    "duration": 240,
    "start_time": "2021-12-14T20:49:12.714Z"
   },
   {
    "duration": 15,
    "start_time": "2021-12-14T20:50:56.053Z"
   },
   {
    "duration": 3146,
    "start_time": "2021-12-14T20:54:01.549Z"
   },
   {
    "duration": 3282,
    "start_time": "2021-12-14T20:54:11.178Z"
   },
   {
    "duration": 12,
    "start_time": "2021-12-14T20:57:10.509Z"
   },
   {
    "duration": 287,
    "start_time": "2021-12-14T20:59:43.819Z"
   },
   {
    "duration": 259,
    "start_time": "2021-12-14T21:00:26.131Z"
   },
   {
    "duration": 827,
    "start_time": "2021-12-14T21:01:01.776Z"
   },
   {
    "duration": 339,
    "start_time": "2021-12-14T21:01:08.635Z"
   },
   {
    "duration": 250,
    "start_time": "2021-12-14T21:01:24.695Z"
   },
   {
    "duration": 242,
    "start_time": "2021-12-14T21:01:57.937Z"
   },
   {
    "duration": 254,
    "start_time": "2021-12-14T21:02:40.511Z"
   },
   {
    "duration": 250,
    "start_time": "2021-12-14T21:03:09.753Z"
   },
   {
    "duration": 778,
    "start_time": "2021-12-14T21:03:31.963Z"
   },
   {
    "duration": 21,
    "start_time": "2021-12-14T21:03:42.280Z"
   },
   {
    "duration": 17,
    "start_time": "2021-12-14T21:03:48.356Z"
   },
   {
    "duration": 322,
    "start_time": "2021-12-14T21:04:03.377Z"
   },
   {
    "duration": 245,
    "start_time": "2021-12-14T21:04:23.303Z"
   },
   {
    "duration": 542,
    "start_time": "2021-12-14T21:04:38.336Z"
   },
   {
    "duration": 540,
    "start_time": "2021-12-14T21:04:51.112Z"
   },
   {
    "duration": 265,
    "start_time": "2021-12-14T21:05:18.847Z"
   },
   {
    "duration": 262,
    "start_time": "2021-12-14T21:05:32.177Z"
   },
   {
    "duration": 71,
    "start_time": "2021-12-14T21:05:41.405Z"
   },
   {
    "duration": 811,
    "start_time": "2021-12-14T21:05:59.521Z"
   },
   {
    "duration": 33,
    "start_time": "2021-12-14T21:06:08.269Z"
   },
   {
    "duration": 13,
    "start_time": "2021-12-14T21:06:55.938Z"
   },
   {
    "duration": 70,
    "start_time": "2021-12-14T21:07:08.381Z"
   },
   {
    "duration": 23,
    "start_time": "2021-12-14T21:07:08.453Z"
   },
   {
    "duration": 16,
    "start_time": "2021-12-14T21:07:08.479Z"
   },
   {
    "duration": 21,
    "start_time": "2021-12-14T21:08:55.515Z"
   },
   {
    "duration": 330,
    "start_time": "2021-12-15T09:22:14.184Z"
   },
   {
    "duration": 762,
    "start_time": "2021-12-15T09:22:29.054Z"
   },
   {
    "duration": 31,
    "start_time": "2021-12-15T09:22:34.119Z"
   },
   {
    "duration": 13,
    "start_time": "2021-12-15T09:22:38.605Z"
   },
   {
    "duration": 15,
    "start_time": "2021-12-15T09:22:41.801Z"
   },
   {
    "duration": 334,
    "start_time": "2021-12-15T09:24:57.366Z"
   },
   {
    "duration": 16,
    "start_time": "2021-12-15T09:25:20.604Z"
   },
   {
    "duration": 15,
    "start_time": "2021-12-15T09:25:49.603Z"
   },
   {
    "duration": 17,
    "start_time": "2021-12-15T09:27:49.084Z"
   },
   {
    "duration": 41,
    "start_time": "2021-12-15T09:28:29.831Z"
   },
   {
    "duration": 17,
    "start_time": "2021-12-15T09:30:13.320Z"
   },
   {
    "duration": 17,
    "start_time": "2021-12-15T09:31:19.895Z"
   },
   {
    "duration": 21,
    "start_time": "2021-12-15T09:31:37.704Z"
   },
   {
    "duration": 20,
    "start_time": "2021-12-15T09:32:06.177Z"
   },
   {
    "duration": 320,
    "start_time": "2021-12-15T09:33:20.867Z"
   },
   {
    "duration": 19,
    "start_time": "2021-12-15T09:33:36.024Z"
   },
   {
    "duration": 23,
    "start_time": "2021-12-15T09:34:01.728Z"
   },
   {
    "duration": 16,
    "start_time": "2021-12-15T09:34:28.584Z"
   },
   {
    "duration": 19,
    "start_time": "2021-12-15T09:34:51.375Z"
   },
   {
    "duration": 19,
    "start_time": "2021-12-15T09:35:24.109Z"
   },
   {
    "duration": 18,
    "start_time": "2021-12-15T09:35:41.701Z"
   },
   {
    "duration": 24,
    "start_time": "2021-12-15T09:36:16.027Z"
   },
   {
    "duration": 19,
    "start_time": "2021-12-15T09:36:53.173Z"
   },
   {
    "duration": 20,
    "start_time": "2021-12-15T09:37:08.006Z"
   },
   {
    "duration": -47,
    "start_time": "2021-12-15T09:37:40.532Z"
   },
   {
    "duration": 31,
    "start_time": "2021-12-15T10:03:44.913Z"
   },
   {
    "duration": 33,
    "start_time": "2021-12-15T10:04:23.083Z"
   },
   {
    "duration": 220,
    "start_time": "2021-12-15T10:07:40.453Z"
   },
   {
    "duration": 68,
    "start_time": "2021-12-15T10:08:17.989Z"
   },
   {
    "duration": 29,
    "start_time": "2021-12-15T10:08:18.060Z"
   },
   {
    "duration": 29,
    "start_time": "2021-12-15T10:08:18.095Z"
   },
   {
    "duration": 89,
    "start_time": "2021-12-15T10:08:33.996Z"
   },
   {
    "duration": 671,
    "start_time": "2021-12-15T10:08:47.813Z"
   },
   {
    "duration": 96,
    "start_time": "2021-12-15T10:10:08.616Z"
   },
   {
    "duration": 127,
    "start_time": "2021-12-15T10:10:15.612Z"
   },
   {
    "duration": 327,
    "start_time": "2021-12-15T10:10:52.927Z"
   },
   {
    "duration": 349,
    "start_time": "2021-12-15T10:11:01.895Z"
   },
   {
    "duration": 34,
    "start_time": "2021-12-15T10:11:22.757Z"
   },
   {
    "duration": 30,
    "start_time": "2021-12-15T10:12:23.638Z"
   },
   {
    "duration": 30,
    "start_time": "2021-12-15T10:12:59.310Z"
   },
   {
    "duration": 27,
    "start_time": "2021-12-15T10:15:01.351Z"
   },
   {
    "duration": 308,
    "start_time": "2021-12-15T10:17:09.928Z"
   },
   {
    "duration": 6,
    "start_time": "2021-12-15T10:17:19.455Z"
   },
   {
    "duration": 67,
    "start_time": "2021-12-15T10:17:32.235Z"
   },
   {
    "duration": 20,
    "start_time": "2021-12-15T10:17:32.304Z"
   },
   {
    "duration": 17,
    "start_time": "2021-12-15T10:17:32.326Z"
   },
   {
    "duration": 57,
    "start_time": "2021-12-15T17:39:34.364Z"
   },
   {
    "duration": 21,
    "start_time": "2021-12-15T17:39:43.302Z"
   },
   {
    "duration": 10,
    "start_time": "2021-12-15T17:39:55.417Z"
   },
   {
    "duration": 4,
    "start_time": "2021-12-15T17:40:03.489Z"
   },
   {
    "duration": 24,
    "start_time": "2021-12-15T17:40:31.627Z"
   },
   {
    "duration": 122,
    "start_time": "2021-12-15T17:44:45.901Z"
   },
   {
    "duration": 408,
    "start_time": "2021-12-15T17:45:02.484Z"
   },
   {
    "duration": 56,
    "start_time": "2021-12-15T17:45:16.957Z"
   },
   {
    "duration": 14,
    "start_time": "2021-12-15T17:45:23.860Z"
   },
   {
    "duration": 9,
    "start_time": "2021-12-15T17:45:32.246Z"
   },
   {
    "duration": 356,
    "start_time": "2021-12-15T17:45:37.185Z"
   },
   {
    "duration": 21,
    "start_time": "2021-12-15T17:45:55.450Z"
   },
   {
    "duration": 20,
    "start_time": "2021-12-15T17:46:58.646Z"
   },
   {
    "duration": 116,
    "start_time": "2021-12-15T17:53:53.211Z"
   },
   {
    "duration": 337,
    "start_time": "2021-12-15T17:59:58.415Z"
   },
   {
    "duration": 20,
    "start_time": "2021-12-15T18:00:07.833Z"
   },
   {
    "duration": 810,
    "start_time": "2021-12-15T18:23:12.039Z"
   },
   {
    "duration": 7,
    "start_time": "2021-12-15T18:23:30.556Z"
   },
   {
    "duration": 5,
    "start_time": "2021-12-15T18:24:17.865Z"
   },
   {
    "duration": 5,
    "start_time": "2021-12-15T18:25:15.215Z"
   },
   {
    "duration": 4,
    "start_time": "2021-12-15T18:30:16.659Z"
   },
   {
    "duration": 5,
    "start_time": "2021-12-15T18:30:30.978Z"
   },
   {
    "duration": 22,
    "start_time": "2021-12-15T18:30:43.367Z"
   },
   {
    "duration": 4,
    "start_time": "2021-12-15T18:30:47.405Z"
   },
   {
    "duration": 5,
    "start_time": "2021-12-15T18:31:10.599Z"
   },
   {
    "duration": 7,
    "start_time": "2021-12-15T18:32:07.679Z"
   },
   {
    "duration": 6,
    "start_time": "2021-12-15T18:32:41.717Z"
   },
   {
    "duration": 7,
    "start_time": "2021-12-15T18:33:23.881Z"
   },
   {
    "duration": 3,
    "start_time": "2021-12-15T18:34:37.188Z"
   },
   {
    "duration": 7,
    "start_time": "2021-12-15T18:35:06.146Z"
   },
   {
    "duration": 6,
    "start_time": "2021-12-15T18:35:39.082Z"
   },
   {
    "duration": 26,
    "start_time": "2021-12-15T18:39:47.420Z"
   },
   {
    "duration": 398,
    "start_time": "2021-12-15T18:41:28.239Z"
   },
   {
    "duration": 26,
    "start_time": "2021-12-15T18:44:54.169Z"
   },
   {
    "duration": 19,
    "start_time": "2021-12-15T18:45:11.088Z"
   },
   {
    "duration": 18,
    "start_time": "2021-12-15T18:45:16.539Z"
   },
   {
    "duration": 17,
    "start_time": "2021-12-15T18:46:24.526Z"
   },
   {
    "duration": 16,
    "start_time": "2021-12-15T18:46:34.858Z"
   },
   {
    "duration": 8,
    "start_time": "2021-12-15T18:46:41.698Z"
   },
   {
    "duration": 10,
    "start_time": "2021-12-15T18:46:58.154Z"
   },
   {
    "duration": 11,
    "start_time": "2021-12-15T18:47:01.314Z"
   },
   {
    "duration": 5,
    "start_time": "2021-12-15T18:47:29.261Z"
   },
   {
    "duration": 701,
    "start_time": "2021-12-15T18:47:58.543Z"
   },
   {
    "duration": 22,
    "start_time": "2021-12-15T18:47:59.246Z"
   },
   {
    "duration": 11,
    "start_time": "2021-12-15T18:47:59.270Z"
   },
   {
    "duration": 43,
    "start_time": "2021-12-15T18:47:59.283Z"
   },
   {
    "duration": 5,
    "start_time": "2021-12-15T18:47:59.328Z"
   },
   {
    "duration": 441,
    "start_time": "2021-12-15T18:48:32.800Z"
   },
   {
    "duration": 521,
    "start_time": "2021-12-15T18:48:52.702Z"
   },
   {
    "duration": 6,
    "start_time": "2021-12-15T18:50:38.370Z"
   },
   {
    "duration": 347,
    "start_time": "2021-12-15T18:51:00.615Z"
   },
   {
    "duration": 357,
    "start_time": "2021-12-15T18:51:06.712Z"
   },
   {
    "duration": 5,
    "start_time": "2021-12-15T18:51:29.472Z"
   },
   {
    "duration": 6,
    "start_time": "2021-12-15T18:51:39.250Z"
   },
   {
    "duration": 337,
    "start_time": "2021-12-15T18:51:47.475Z"
   },
   {
    "duration": 5,
    "start_time": "2021-12-15T18:52:21.308Z"
   },
   {
    "duration": 6,
    "start_time": "2021-12-15T18:52:38.779Z"
   },
   {
    "duration": 8,
    "start_time": "2021-12-15T18:54:25.453Z"
   },
   {
    "duration": 7,
    "start_time": "2021-12-15T18:54:46.863Z"
   },
   {
    "duration": 7,
    "start_time": "2021-12-15T18:54:54.978Z"
   },
   {
    "duration": 11,
    "start_time": "2021-12-15T18:55:04.410Z"
   },
   {
    "duration": 114,
    "start_time": "2021-12-15T18:56:03.746Z"
   },
   {
    "duration": 368,
    "start_time": "2021-12-15T18:56:07.220Z"
   },
   {
    "duration": 18,
    "start_time": "2021-12-15T18:56:21.343Z"
   },
   {
    "duration": 14,
    "start_time": "2021-12-15T18:56:32.718Z"
   },
   {
    "duration": 384,
    "start_time": "2021-12-15T18:56:58.598Z"
   },
   {
    "duration": 15,
    "start_time": "2021-12-15T18:57:04.340Z"
   },
   {
    "duration": 124,
    "start_time": "2021-12-15T18:58:17.244Z"
   },
   {
    "duration": 107,
    "start_time": "2021-12-15T18:58:22.368Z"
   },
   {
    "duration": 142,
    "start_time": "2021-12-15T18:58:36.822Z"
   },
   {
    "duration": 13,
    "start_time": "2021-12-15T18:58:50.527Z"
   },
   {
    "duration": 12,
    "start_time": "2021-12-15T18:59:05.551Z"
   },
   {
    "duration": 6,
    "start_time": "2021-12-15T18:59:29.147Z"
   },
   {
    "duration": 333,
    "start_time": "2021-12-15T19:00:16.011Z"
   },
   {
    "duration": 382,
    "start_time": "2021-12-15T19:00:30.194Z"
   },
   {
    "duration": 7,
    "start_time": "2021-12-15T19:00:48.717Z"
   },
   {
    "duration": 377,
    "start_time": "2021-12-15T19:01:10.823Z"
   },
   {
    "duration": 17,
    "start_time": "2021-12-15T19:02:50.742Z"
   },
   {
    "duration": 12,
    "start_time": "2021-12-15T19:04:05.449Z"
   },
   {
    "duration": 12,
    "start_time": "2021-12-15T19:04:27.925Z"
   },
   {
    "duration": 12,
    "start_time": "2021-12-15T19:04:46.483Z"
   },
   {
    "duration": 6,
    "start_time": "2021-12-15T19:05:11.538Z"
   },
   {
    "duration": 6,
    "start_time": "2021-12-15T19:05:36.237Z"
   },
   {
    "duration": 13,
    "start_time": "2021-12-15T19:05:58.448Z"
   },
   {
    "duration": 12,
    "start_time": "2021-12-15T19:06:17.048Z"
   },
   {
    "duration": 19,
    "start_time": "2021-12-15T19:06:30.783Z"
   },
   {
    "duration": 660,
    "start_time": "2021-12-15T19:06:56.422Z"
   },
   {
    "duration": 19,
    "start_time": "2021-12-15T19:06:57.084Z"
   },
   {
    "duration": 9,
    "start_time": "2021-12-15T19:06:57.105Z"
   },
   {
    "duration": 21,
    "start_time": "2021-12-15T19:06:57.116Z"
   },
   {
    "duration": 18,
    "start_time": "2021-12-15T19:07:11.233Z"
   },
   {
    "duration": 16,
    "start_time": "2021-12-15T19:08:17.752Z"
   },
   {
    "duration": 430,
    "start_time": "2021-12-15T19:15:54.305Z"
   },
   {
    "duration": 357,
    "start_time": "2021-12-15T19:16:18.384Z"
   },
   {
    "duration": 691,
    "start_time": "2021-12-15T19:16:24.731Z"
   },
   {
    "duration": 25,
    "start_time": "2021-12-15T19:18:51.697Z"
   },
   {
    "duration": 608,
    "start_time": "2021-12-15T19:21:03.272Z"
   },
   {
    "duration": 22,
    "start_time": "2021-12-15T19:21:08.652Z"
   },
   {
    "duration": 29,
    "start_time": "2021-12-15T19:21:28.914Z"
   },
   {
    "duration": 26,
    "start_time": "2021-12-15T19:22:00.636Z"
   },
   {
    "duration": 12,
    "start_time": "2021-12-15T19:22:35.705Z"
   },
   {
    "duration": 390,
    "start_time": "2021-12-15T19:25:23.230Z"
   },
   {
    "duration": 8,
    "start_time": "2021-12-15T19:25:40.085Z"
   },
   {
    "duration": 7,
    "start_time": "2021-12-15T19:25:47.526Z"
   },
   {
    "duration": 8,
    "start_time": "2021-12-15T19:26:01.512Z"
   },
   {
    "duration": 35,
    "start_time": "2021-12-15T19:30:51.095Z"
   },
   {
    "duration": 35,
    "start_time": "2021-12-15T19:31:14.514Z"
   },
   {
    "duration": 39,
    "start_time": "2021-12-15T19:31:48.055Z"
   },
   {
    "duration": 414,
    "start_time": "2021-12-15T19:33:09.166Z"
   },
   {
    "duration": 42,
    "start_time": "2021-12-15T19:33:15.689Z"
   },
   {
    "duration": 38,
    "start_time": "2021-12-15T19:33:48.875Z"
   },
   {
    "duration": 110,
    "start_time": "2021-12-15T19:34:26.029Z"
   },
   {
    "duration": 41,
    "start_time": "2021-12-15T19:36:05.498Z"
   },
   {
    "duration": 39,
    "start_time": "2021-12-15T19:37:02.309Z"
   },
   {
    "duration": 38,
    "start_time": "2021-12-15T19:37:07.013Z"
   },
   {
    "duration": 36,
    "start_time": "2021-12-15T19:38:39.157Z"
   },
   {
    "duration": 38,
    "start_time": "2021-12-15T19:39:26.927Z"
   },
   {
    "duration": 36,
    "start_time": "2021-12-15T19:40:13.835Z"
   },
   {
    "duration": 675,
    "start_time": "2021-12-15T19:40:28.156Z"
   },
   {
    "duration": 19,
    "start_time": "2021-12-15T19:40:28.833Z"
   },
   {
    "duration": 8,
    "start_time": "2021-12-15T19:40:28.854Z"
   },
   {
    "duration": 18,
    "start_time": "2021-12-15T19:40:28.864Z"
   },
   {
    "duration": 461,
    "start_time": "2021-12-15T19:40:56.476Z"
   },
   {
    "duration": 667,
    "start_time": "2021-12-15T19:41:20.724Z"
   },
   {
    "duration": 20,
    "start_time": "2021-12-15T19:41:21.393Z"
   },
   {
    "duration": 9,
    "start_time": "2021-12-15T19:41:21.415Z"
   },
   {
    "duration": 20,
    "start_time": "2021-12-15T19:41:21.427Z"
   },
   {
    "duration": 533,
    "start_time": "2021-12-15T19:41:34.380Z"
   },
   {
    "duration": 683,
    "start_time": "2021-12-15T19:41:54.968Z"
   },
   {
    "duration": 19,
    "start_time": "2021-12-15T19:41:55.653Z"
   },
   {
    "duration": 9,
    "start_time": "2021-12-15T19:41:55.675Z"
   },
   {
    "duration": 34,
    "start_time": "2021-12-15T19:41:55.686Z"
   },
   {
    "duration": 402,
    "start_time": "2021-12-15T19:42:22.089Z"
   },
   {
    "duration": 36,
    "start_time": "2021-12-15T19:42:52.128Z"
   },
   {
    "duration": 51,
    "start_time": "2021-12-15T19:43:10.150Z"
   },
   {
    "duration": 38,
    "start_time": "2021-12-15T19:43:23.497Z"
   },
   {
    "duration": 42,
    "start_time": "2021-12-15T19:44:11.161Z"
   },
   {
    "duration": 42,
    "start_time": "2021-12-15T19:44:33.282Z"
   },
   {
    "duration": 751,
    "start_time": "2021-12-15T19:45:09.180Z"
   },
   {
    "duration": 24,
    "start_time": "2021-12-15T19:45:09.933Z"
   },
   {
    "duration": 11,
    "start_time": "2021-12-15T19:45:09.960Z"
   },
   {
    "duration": 45,
    "start_time": "2021-12-15T19:45:09.973Z"
   },
   {
    "duration": 35,
    "start_time": "2021-12-15T19:45:19.268Z"
   },
   {
    "duration": 43,
    "start_time": "2021-12-15T19:48:05.886Z"
   },
   {
    "duration": 30,
    "start_time": "2021-12-15T19:49:23.447Z"
   },
   {
    "duration": 988,
    "start_time": "2021-12-15T19:49:44.875Z"
   },
   {
    "duration": 22,
    "start_time": "2021-12-15T19:49:45.865Z"
   },
   {
    "duration": 18,
    "start_time": "2021-12-15T19:49:45.889Z"
   },
   {
    "duration": 450,
    "start_time": "2021-12-15T19:49:52.520Z"
   },
   {
    "duration": 12,
    "start_time": "2021-12-15T19:53:35.396Z"
   },
   {
    "duration": 26,
    "start_time": "2021-12-15T19:54:12.577Z"
   },
   {
    "duration": 37,
    "start_time": "2021-12-15T19:54:37.420Z"
   },
   {
    "duration": 113,
    "start_time": "2021-12-15T20:05:08.129Z"
   },
   {
    "duration": 665,
    "start_time": "2021-12-15T20:06:04.542Z"
   },
   {
    "duration": 21,
    "start_time": "2021-12-15T20:06:05.208Z"
   },
   {
    "duration": 12,
    "start_time": "2021-12-15T20:06:05.231Z"
   },
   {
    "duration": 26,
    "start_time": "2021-12-15T20:06:05.245Z"
   },
   {
    "duration": 117,
    "start_time": "2021-12-15T20:06:44.297Z"
   },
   {
    "duration": 37,
    "start_time": "2021-12-15T20:07:36.826Z"
   },
   {
    "duration": 42,
    "start_time": "2021-12-15T20:10:44.501Z"
   },
   {
    "duration": 37,
    "start_time": "2021-12-15T20:11:13.071Z"
   },
   {
    "duration": 69,
    "start_time": "2021-12-15T20:13:51.716Z"
   },
   {
    "duration": 40,
    "start_time": "2021-12-15T20:15:00.565Z"
   },
   {
    "duration": 42,
    "start_time": "2021-12-15T20:17:34.375Z"
   },
   {
    "duration": 41,
    "start_time": "2021-12-15T20:18:59.007Z"
   },
   {
    "duration": 49,
    "start_time": "2021-12-15T20:20:08.991Z"
   },
   {
    "duration": 42,
    "start_time": "2021-12-15T20:20:15.768Z"
   },
   {
    "duration": 42,
    "start_time": "2021-12-15T20:21:15.545Z"
   },
   {
    "duration": 186,
    "start_time": "2021-12-15T20:21:35.262Z"
   },
   {
    "duration": 40,
    "start_time": "2021-12-15T20:21:42.399Z"
   },
   {
    "duration": 40,
    "start_time": "2021-12-15T20:22:30.664Z"
   },
   {
    "duration": 45,
    "start_time": "2021-12-15T20:24:01.307Z"
   },
   {
    "duration": 40,
    "start_time": "2021-12-15T20:24:26.481Z"
   },
   {
    "duration": 43,
    "start_time": "2021-12-15T20:26:29.593Z"
   },
   {
    "duration": 41,
    "start_time": "2021-12-15T20:26:59.671Z"
   },
   {
    "duration": 36,
    "start_time": "2021-12-15T20:27:13.463Z"
   },
   {
    "duration": 37,
    "start_time": "2021-12-15T20:27:33.189Z"
   },
   {
    "duration": 42,
    "start_time": "2021-12-15T20:29:25.521Z"
   },
   {
    "duration": 47,
    "start_time": "2021-12-15T20:30:07.181Z"
   },
   {
    "duration": 44,
    "start_time": "2021-12-15T20:30:16.695Z"
   },
   {
    "duration": 433,
    "start_time": "2021-12-17T09:23:09.151Z"
   },
   {
    "duration": 835,
    "start_time": "2021-12-17T09:23:23.676Z"
   },
   {
    "duration": 32,
    "start_time": "2021-12-17T09:23:24.514Z"
   },
   {
    "duration": 12,
    "start_time": "2021-12-17T09:23:24.560Z"
   },
   {
    "duration": 37,
    "start_time": "2021-12-17T09:23:24.575Z"
   },
   {
    "duration": 56,
    "start_time": "2021-12-17T09:23:40.876Z"
   },
   {
    "duration": 63,
    "start_time": "2021-12-17T09:25:53.925Z"
   },
   {
    "duration": 557,
    "start_time": "2021-12-17T09:25:58.194Z"
   },
   {
    "duration": 895,
    "start_time": "2021-12-17T09:26:12.649Z"
   },
   {
    "duration": 24,
    "start_time": "2021-12-17T09:26:21.429Z"
   },
   {
    "duration": 34,
    "start_time": "2021-12-17T09:26:29.994Z"
   },
   {
    "duration": 58,
    "start_time": "2021-12-17T09:26:37.609Z"
   },
   {
    "duration": 504,
    "start_time": "2021-12-17T09:26:57.764Z"
   },
   {
    "duration": 421,
    "start_time": "2021-12-17T09:27:15.725Z"
   },
   {
    "duration": 106,
    "start_time": "2021-12-17T09:27:23.059Z"
   },
   {
    "duration": 14,
    "start_time": "2021-12-17T09:27:29.801Z"
   },
   {
    "duration": 28,
    "start_time": "2021-12-17T09:27:35.838Z"
   },
   {
    "duration": 34,
    "start_time": "2021-12-17T09:27:42.942Z"
   },
   {
    "duration": 54,
    "start_time": "2021-12-17T09:27:48.186Z"
   },
   {
    "duration": 387,
    "start_time": "2021-12-17T09:29:54.300Z"
   },
   {
    "duration": 835,
    "start_time": "2021-12-17T09:30:15.911Z"
   },
   {
    "duration": 31,
    "start_time": "2021-12-17T09:30:16.748Z"
   },
   {
    "duration": 12,
    "start_time": "2021-12-17T09:30:16.782Z"
   },
   {
    "duration": 65,
    "start_time": "2021-12-17T09:30:16.797Z"
   },
   {
    "duration": 469,
    "start_time": "2021-12-17T09:30:16.866Z"
   },
   {
    "duration": 65,
    "start_time": "2021-12-17T09:30:41.782Z"
   },
   {
    "duration": 95,
    "start_time": "2021-12-17T09:33:21.732Z"
   },
   {
    "duration": 326,
    "start_time": "2021-12-17T19:06:21.139Z"
   },
   {
    "duration": 871,
    "start_time": "2021-12-17T19:06:42.351Z"
   },
   {
    "duration": 42,
    "start_time": "2021-12-17T19:06:43.224Z"
   },
   {
    "duration": 12,
    "start_time": "2021-12-17T19:06:43.270Z"
   },
   {
    "duration": 36,
    "start_time": "2021-12-17T19:06:43.284Z"
   },
   {
    "duration": 75,
    "start_time": "2021-12-17T19:06:52.510Z"
   },
   {
    "duration": 22,
    "start_time": "2021-12-17T19:06:55.204Z"
   },
   {
    "duration": 15,
    "start_time": "2021-12-17T19:06:57.796Z"
   },
   {
    "duration": 36,
    "start_time": "2021-12-17T19:06:58.709Z"
   },
   {
    "duration": 52,
    "start_time": "2021-12-17T19:07:00.483Z"
   },
   {
    "duration": 6,
    "start_time": "2021-12-17T19:22:26.973Z"
   },
   {
    "duration": 6,
    "start_time": "2021-12-17T19:22:34.552Z"
   },
   {
    "duration": 6,
    "start_time": "2021-12-17T19:23:54.708Z"
   },
   {
    "duration": 8,
    "start_time": "2021-12-17T19:24:19.006Z"
   },
   {
    "duration": 7,
    "start_time": "2021-12-17T19:24:30.121Z"
   },
   {
    "duration": 6,
    "start_time": "2021-12-17T19:24:53.380Z"
   },
   {
    "duration": 11,
    "start_time": "2021-12-17T19:26:56.565Z"
   },
   {
    "duration": 103,
    "start_time": "2021-12-17T19:30:58.427Z"
   },
   {
    "duration": 95,
    "start_time": "2021-12-17T19:31:13.227Z"
   },
   {
    "duration": 7,
    "start_time": "2021-12-17T19:31:41.469Z"
   },
   {
    "duration": 88,
    "start_time": "2021-12-17T19:32:11.876Z"
   },
   {
    "duration": 86,
    "start_time": "2021-12-17T19:32:56.321Z"
   },
   {
    "duration": 400,
    "start_time": "2021-12-17T19:33:53.000Z"
   },
   {
    "duration": 274,
    "start_time": "2021-12-17T19:34:25.968Z"
   },
   {
    "duration": 292,
    "start_time": "2021-12-17T19:36:07.672Z"
   },
   {
    "duration": 50,
    "start_time": "2021-12-17T19:36:29.713Z"
   },
   {
    "duration": 248,
    "start_time": "2021-12-17T19:38:46.631Z"
   },
   {
    "duration": 361,
    "start_time": "2021-12-17T19:38:54.679Z"
   },
   {
    "duration": 36,
    "start_time": "2021-12-17T19:39:01.856Z"
   },
   {
    "duration": 44,
    "start_time": "2021-12-17T19:39:28.004Z"
   },
   {
    "duration": 34,
    "start_time": "2021-12-17T19:50:17.941Z"
   },
   {
    "duration": 33,
    "start_time": "2021-12-17T19:50:48.523Z"
   },
   {
    "duration": 35,
    "start_time": "2021-12-17T19:51:09.769Z"
   },
   {
    "duration": 100,
    "start_time": "2021-12-17T19:52:29.374Z"
   },
   {
    "duration": 35,
    "start_time": "2021-12-17T19:54:24.172Z"
   },
   {
    "duration": 24,
    "start_time": "2021-12-17T19:55:04.456Z"
   },
   {
    "duration": 56,
    "start_time": "2021-12-17T19:55:13.053Z"
   },
   {
    "duration": 44,
    "start_time": "2021-12-17T19:55:21.011Z"
   },
   {
    "duration": 433,
    "start_time": "2021-12-18T09:34:23.577Z"
   },
   {
    "duration": 391,
    "start_time": "2021-12-18T09:36:17.310Z"
   },
   {
    "duration": 814,
    "start_time": "2021-12-18T09:36:40.501Z"
   },
   {
    "duration": 32,
    "start_time": "2021-12-18T09:36:47.516Z"
   },
   {
    "duration": 46,
    "start_time": "2021-12-18T09:36:52.508Z"
   },
   {
    "duration": 34,
    "start_time": "2021-12-18T09:38:08.531Z"
   },
   {
    "duration": 43,
    "start_time": "2021-12-18T09:38:23.613Z"
   },
   {
    "duration": 42,
    "start_time": "2021-12-18T09:38:40.330Z"
   },
   {
    "duration": 84,
    "start_time": "2021-12-18T09:38:51.602Z"
   },
   {
    "duration": 127,
    "start_time": "2021-12-18T09:42:53.001Z"
   },
   {
    "duration": 121,
    "start_time": "2021-12-18T09:43:01.928Z"
   },
   {
    "duration": 526,
    "start_time": "2021-12-18T09:43:15.606Z"
   },
   {
    "duration": 42,
    "start_time": "2021-12-18T09:43:27.846Z"
   },
   {
    "duration": 376,
    "start_time": "2021-12-18T09:43:34.967Z"
   },
   {
    "duration": 128,
    "start_time": "2021-12-18T09:43:43.754Z"
   },
   {
    "duration": 41,
    "start_time": "2021-12-18T09:43:54.595Z"
   },
   {
    "duration": 64,
    "start_time": "2021-12-18T09:44:03.848Z"
   },
   {
    "duration": 130,
    "start_time": "2021-12-18T09:45:17.947Z"
   },
   {
    "duration": 799,
    "start_time": "2021-12-18T09:45:45.693Z"
   },
   {
    "duration": 40,
    "start_time": "2021-12-18T09:45:53.449Z"
   },
   {
    "duration": 42,
    "start_time": "2021-12-18T09:46:04.957Z"
   },
   {
    "duration": 32,
    "start_time": "2021-12-18T09:48:15.641Z"
   },
   {
    "duration": 58,
    "start_time": "2021-12-18T09:52:07.579Z"
   },
   {
    "duration": 32,
    "start_time": "2021-12-18T09:57:04.022Z"
   },
   {
    "duration": 46,
    "start_time": "2021-12-18T09:57:24.942Z"
   },
   {
    "duration": 31,
    "start_time": "2021-12-18T09:59:02.483Z"
   },
   {
    "duration": 461,
    "start_time": "2021-12-18T09:59:44.621Z"
   },
   {
    "duration": 33,
    "start_time": "2021-12-18T09:59:52.125Z"
   },
   {
    "duration": 41,
    "start_time": "2021-12-18T10:00:46.473Z"
   },
   {
    "duration": 30,
    "start_time": "2021-12-18T10:02:38.224Z"
   },
   {
    "duration": 57,
    "start_time": "2021-12-18T10:02:56.516Z"
   },
   {
    "duration": 32,
    "start_time": "2021-12-18T10:03:27.617Z"
   },
   {
    "duration": 36,
    "start_time": "2021-12-18T10:03:51.480Z"
   },
   {
    "duration": 33,
    "start_time": "2021-12-18T10:04:11.366Z"
   },
   {
    "duration": 33,
    "start_time": "2021-12-18T10:04:20.654Z"
   },
   {
    "duration": 44,
    "start_time": "2021-12-18T10:05:26.463Z"
   },
   {
    "duration": 33,
    "start_time": "2021-12-18T10:05:50.741Z"
   },
   {
    "duration": 49,
    "start_time": "2021-12-18T10:06:17.156Z"
   },
   {
    "duration": 37,
    "start_time": "2021-12-18T10:07:04.040Z"
   },
   {
    "duration": 32,
    "start_time": "2021-12-18T10:07:18.865Z"
   },
   {
    "duration": 121,
    "start_time": "2021-12-18T10:14:20.859Z"
   },
   {
    "duration": 129,
    "start_time": "2021-12-18T10:18:30.902Z"
   },
   {
    "duration": 412,
    "start_time": "2021-12-18T10:19:01.827Z"
   },
   {
    "duration": 84,
    "start_time": "2021-12-18T10:19:13.318Z"
   },
   {
    "duration": 101,
    "start_time": "2021-12-18T10:19:51.606Z"
   },
   {
    "duration": -1680,
    "start_time": "2021-12-18T10:26:43.255Z"
   },
   {
    "duration": -127,
    "start_time": "2021-12-18T10:35:25.858Z"
   },
   {
    "duration": 913,
    "start_time": "2021-12-18T10:35:36.932Z"
   },
   {
    "duration": 30,
    "start_time": "2021-12-18T10:35:37.848Z"
   },
   {
    "duration": 39,
    "start_time": "2021-12-18T10:35:37.881Z"
   },
   {
    "duration": 48,
    "start_time": "2021-12-18T10:35:37.923Z"
   },
   {
    "duration": 55,
    "start_time": "2021-12-18T10:35:37.973Z"
   },
   {
    "duration": 128,
    "start_time": "2021-12-18T10:35:38.031Z"
   },
   {
    "duration": 13383,
    "start_time": "2021-12-18T10:35:38.162Z"
   },
   {
    "duration": 434,
    "start_time": "2021-12-18T10:42:01.082Z"
   },
   {
    "duration": 5,
    "start_time": "2021-12-18T10:43:39.157Z"
   },
   {
    "duration": 7,
    "start_time": "2021-12-18T10:43:58.278Z"
   },
   {
    "duration": 4132,
    "start_time": "2021-12-18T10:45:47.030Z"
   },
   {
    "duration": 10425,
    "start_time": "2021-12-18T10:46:34.194Z"
   },
   {
    "duration": 32991,
    "start_time": "2021-12-18T10:46:59.017Z"
   },
   {
    "duration": -137,
    "start_time": "2021-12-18T10:55:09.279Z"
   },
   {
    "duration": 123,
    "start_time": "2021-12-18T11:03:37.013Z"
   },
   {
    "duration": 18,
    "start_time": "2021-12-18T11:04:16.181Z"
   },
   {
    "duration": -88,
    "start_time": "2021-12-18T11:05:49.037Z"
   },
   {
    "duration": 10423,
    "start_time": "2021-12-18T11:05:50.825Z"
   },
   {
    "duration": 8,
    "start_time": "2021-12-18T11:06:05.033Z"
   },
   {
    "duration": 454,
    "start_time": "2021-12-18T11:08:17.342Z"
   },
   {
    "duration": 10,
    "start_time": "2021-12-18T11:08:58.244Z"
   },
   {
    "duration": 18,
    "start_time": "2021-12-18T11:09:24.413Z"
   },
   {
    "duration": 18,
    "start_time": "2021-12-18T11:09:37.282Z"
   },
   {
    "duration": 18,
    "start_time": "2021-12-18T11:10:21.465Z"
   },
   {
    "duration": 18,
    "start_time": "2021-12-18T11:11:17.456Z"
   },
   {
    "duration": 20,
    "start_time": "2021-12-18T11:11:22.170Z"
   },
   {
    "duration": 83,
    "start_time": "2021-12-18T11:11:33.416Z"
   },
   {
    "duration": 139,
    "start_time": "2021-12-18T11:12:17.218Z"
   },
   {
    "duration": 18,
    "start_time": "2021-12-18T11:12:29.428Z"
   },
   {
    "duration": 414,
    "start_time": "2021-12-18T11:13:16.202Z"
   },
   {
    "duration": 19,
    "start_time": "2021-12-18T11:13:56.280Z"
   },
   {
    "duration": 21,
    "start_time": "2021-12-18T11:14:10.949Z"
   },
   {
    "duration": 18,
    "start_time": "2021-12-18T11:14:34.467Z"
   },
   {
    "duration": 29,
    "start_time": "2021-12-18T11:14:37.771Z"
   },
   {
    "duration": 463,
    "start_time": "2021-12-18T11:15:16.349Z"
   },
   {
    "duration": 996,
    "start_time": "2021-12-18T11:15:22.778Z"
   },
   {
    "duration": 32,
    "start_time": "2021-12-18T11:15:23.777Z"
   },
   {
    "duration": 65,
    "start_time": "2021-12-18T11:15:23.812Z"
   },
   {
    "duration": 24,
    "start_time": "2021-12-18T11:15:23.880Z"
   },
   {
    "duration": 83,
    "start_time": "2021-12-18T11:15:23.906Z"
   },
   {
    "duration": 108,
    "start_time": "2021-12-18T11:15:23.992Z"
   },
   {
    "duration": 26,
    "start_time": "2021-12-18T11:15:24.102Z"
   },
   {
    "duration": 911,
    "start_time": "2021-12-19T10:31:03.911Z"
   },
   {
    "duration": 32,
    "start_time": "2021-12-19T10:31:11.236Z"
   },
   {
    "duration": 44,
    "start_time": "2021-12-19T10:31:17.366Z"
   },
   {
    "duration": 46,
    "start_time": "2021-12-19T10:31:54.288Z"
   },
   {
    "duration": 25,
    "start_time": "2021-12-19T10:32:05.116Z"
   },
   {
    "duration": 125,
    "start_time": "2021-12-19T10:32:10.281Z"
   },
   {
    "duration": 130,
    "start_time": "2021-12-19T10:32:29.803Z"
   },
   {
    "duration": 23,
    "start_time": "2021-12-19T10:32:40.581Z"
   },
   {
    "duration": 25,
    "start_time": "2021-12-19T10:37:20.364Z"
   },
   {
    "duration": 25,
    "start_time": "2021-12-19T10:37:44.839Z"
   },
   {
    "duration": 27,
    "start_time": "2021-12-19T10:38:02.749Z"
   },
   {
    "duration": 25,
    "start_time": "2021-12-19T10:38:15.403Z"
   },
   {
    "duration": 39,
    "start_time": "2021-12-19T10:38:24.361Z"
   },
   {
    "duration": 891,
    "start_time": "2021-12-19T10:41:44.951Z"
   },
   {
    "duration": 32,
    "start_time": "2021-12-19T10:41:45.845Z"
   },
   {
    "duration": 53,
    "start_time": "2021-12-19T10:41:45.881Z"
   },
   {
    "duration": 41,
    "start_time": "2021-12-19T10:41:45.938Z"
   },
   {
    "duration": 82,
    "start_time": "2021-12-19T10:41:45.982Z"
   },
   {
    "duration": 101,
    "start_time": "2021-12-19T10:41:46.066Z"
   },
   {
    "duration": 11,
    "start_time": "2021-12-19T10:41:46.170Z"
   },
   {
    "duration": 28,
    "start_time": "2021-12-19T10:44:50.015Z"
   },
   {
    "duration": 28,
    "start_time": "2021-12-19T10:45:05.470Z"
   },
   {
    "duration": 37,
    "start_time": "2021-12-19T10:45:11.667Z"
   },
   {
    "duration": 41,
    "start_time": "2021-12-19T10:46:07.523Z"
   },
   {
    "duration": 31,
    "start_time": "2021-12-19T10:46:11.847Z"
   },
   {
    "duration": 35,
    "start_time": "2021-12-19T10:47:09.543Z"
   },
   {
    "duration": 21,
    "start_time": "2021-12-19T10:47:13.506Z"
   },
   {
    "duration": 25,
    "start_time": "2021-12-19T10:47:15.723Z"
   },
   {
    "duration": 100,
    "start_time": "2021-12-19T10:50:46.443Z"
   },
   {
    "duration": 129,
    "start_time": "2021-12-19T10:51:03.747Z"
   },
   {
    "duration": 98,
    "start_time": "2021-12-19T10:51:13.822Z"
   },
   {
    "duration": 104,
    "start_time": "2021-12-19T10:51:39.491Z"
   },
   {
    "duration": 386,
    "start_time": "2021-12-19T10:52:46.573Z"
   },
   {
    "duration": 121,
    "start_time": "2021-12-19T10:56:30.782Z"
   },
   {
    "duration": 100,
    "start_time": "2021-12-19T10:59:00.302Z"
   },
   {
    "duration": 23,
    "start_time": "2021-12-19T10:59:18.320Z"
   },
   {
    "duration": 23,
    "start_time": "2021-12-19T11:00:23.795Z"
   },
   {
    "duration": 23,
    "start_time": "2021-12-19T11:02:48.998Z"
   },
   {
    "duration": 34,
    "start_time": "2021-12-19T11:03:33.066Z"
   },
   {
    "duration": 22,
    "start_time": "2021-12-19T11:03:39.768Z"
   },
   {
    "duration": 28,
    "start_time": "2021-12-19T11:03:59.220Z"
   },
   {
    "duration": 25,
    "start_time": "2021-12-19T11:04:46.696Z"
   },
   {
    "duration": 35,
    "start_time": "2021-12-19T11:05:00.529Z"
   },
   {
    "duration": 43,
    "start_time": "2021-12-19T11:08:28.107Z"
   },
   {
    "duration": 8847,
    "start_time": "2021-12-19T11:12:11.110Z"
   },
   {
    "duration": 42,
    "start_time": "2021-12-19T11:13:26.635Z"
   },
   {
    "duration": 53,
    "start_time": "2021-12-19T11:14:09.177Z"
   },
   {
    "duration": 34,
    "start_time": "2021-12-19T11:15:01.515Z"
   },
   {
    "duration": 862,
    "start_time": "2021-12-19T11:16:03.345Z"
   },
   {
    "duration": 32,
    "start_time": "2021-12-19T11:16:04.210Z"
   },
   {
    "duration": 56,
    "start_time": "2021-12-19T11:16:04.245Z"
   },
   {
    "duration": 24,
    "start_time": "2021-12-19T11:16:04.304Z"
   },
   {
    "duration": 86,
    "start_time": "2021-12-19T11:16:04.330Z"
   },
   {
    "duration": 112,
    "start_time": "2021-12-19T11:16:04.419Z"
   },
   {
    "duration": 413,
    "start_time": "2021-12-19T11:16:10.067Z"
   },
   {
    "duration": 62,
    "start_time": "2021-12-19T11:17:06.958Z"
   },
   {
    "duration": 83,
    "start_time": "2021-12-19T11:21:32.273Z"
   },
   {
    "duration": 27,
    "start_time": "2021-12-19T11:45:44.414Z"
   },
   {
    "duration": 100,
    "start_time": "2021-12-19T11:46:09.890Z"
   },
   {
    "duration": 305,
    "start_time": "2021-12-19T11:47:10.076Z"
   },
   {
    "duration": 31,
    "start_time": "2021-12-19T11:47:19.816Z"
   },
   {
    "duration": 93,
    "start_time": "2021-12-19T12:07:41.974Z"
   },
   {
    "duration": 95,
    "start_time": "2021-12-19T12:08:07.084Z"
   },
   {
    "duration": 17,
    "start_time": "2021-12-19T12:09:00.408Z"
   },
   {
    "duration": 8,
    "start_time": "2021-12-19T12:10:23.337Z"
   },
   {
    "duration": 11,
    "start_time": "2021-12-19T12:11:12.477Z"
   },
   {
    "duration": 9,
    "start_time": "2021-12-19T12:11:37.825Z"
   },
   {
    "duration": 8,
    "start_time": "2021-12-19T12:11:45.484Z"
   },
   {
    "duration": 12,
    "start_time": "2021-12-19T12:12:13.691Z"
   },
   {
    "duration": 9,
    "start_time": "2021-12-19T12:13:29.868Z"
   },
   {
    "duration": 135,
    "start_time": "2021-12-19T12:13:49.761Z"
   },
   {
    "duration": 87,
    "start_time": "2021-12-19T12:15:03.469Z"
   },
   {
    "duration": 104,
    "start_time": "2021-12-19T12:18:23.278Z"
   },
   {
    "duration": 84,
    "start_time": "2021-12-19T12:18:37.215Z"
   },
   {
    "duration": 85,
    "start_time": "2021-12-19T12:21:09.682Z"
   },
   {
    "duration": 95,
    "start_time": "2021-12-19T12:22:16.245Z"
   },
   {
    "duration": 86,
    "start_time": "2021-12-19T12:22:34.983Z"
   },
   {
    "duration": 809,
    "start_time": "2021-12-19T12:23:30.579Z"
   },
   {
    "duration": 30,
    "start_time": "2021-12-19T12:23:31.391Z"
   },
   {
    "duration": 63,
    "start_time": "2021-12-19T12:23:31.424Z"
   },
   {
    "duration": 23,
    "start_time": "2021-12-19T12:23:31.490Z"
   },
   {
    "duration": 81,
    "start_time": "2021-12-19T12:23:31.515Z"
   },
   {
    "duration": 110,
    "start_time": "2021-12-19T12:23:31.598Z"
   },
   {
    "duration": 380,
    "start_time": "2021-12-19T12:23:31.711Z"
   },
   {
    "duration": -46,
    "start_time": "2021-12-19T12:23:32.140Z"
   },
   {
    "duration": 94,
    "start_time": "2021-12-19T12:24:56.444Z"
   },
   {
    "duration": 296,
    "start_time": "2021-12-19T12:25:35.591Z"
   },
   {
    "duration": 45,
    "start_time": "2021-12-19T12:27:56.437Z"
   },
   {
    "duration": 34,
    "start_time": "2021-12-19T12:28:44.212Z"
   },
   {
    "duration": 80,
    "start_time": "2021-12-19T12:29:28.478Z"
   },
   {
    "duration": 84,
    "start_time": "2021-12-19T12:30:39.277Z"
   },
   {
    "duration": 323,
    "start_time": "2021-12-19T12:35:41.171Z"
   },
   {
    "duration": 285,
    "start_time": "2021-12-19T12:35:44.976Z"
   },
   {
    "duration": 151,
    "start_time": "2021-12-19T12:36:20.857Z"
   },
   {
    "duration": 116,
    "start_time": "2021-12-19T12:36:28.605Z"
   },
   {
    "duration": 1050,
    "start_time": "2021-12-19T12:39:23.682Z"
   },
   {
    "duration": 42,
    "start_time": "2021-12-19T12:39:24.735Z"
   },
   {
    "duration": 44,
    "start_time": "2021-12-19T12:39:24.781Z"
   },
   {
    "duration": 56,
    "start_time": "2021-12-19T12:39:24.828Z"
   },
   {
    "duration": 85,
    "start_time": "2021-12-19T12:39:24.886Z"
   },
   {
    "duration": 105,
    "start_time": "2021-12-19T12:39:24.975Z"
   },
   {
    "duration": -23,
    "start_time": "2021-12-19T12:39:25.107Z"
   },
   {
    "duration": -25,
    "start_time": "2021-12-19T12:39:25.110Z"
   },
   {
    "duration": 110,
    "start_time": "2021-12-19T12:39:41.642Z"
   },
   {
    "duration": 97,
    "start_time": "2021-12-19T12:39:54.284Z"
   },
   {
    "duration": 401,
    "start_time": "2021-12-19T12:58:26.790Z"
   },
   {
    "duration": 470,
    "start_time": "2021-12-19T12:59:43.608Z"
   },
   {
    "duration": 36,
    "start_time": "2021-12-19T13:00:20.786Z"
   },
   {
    "duration": 309,
    "start_time": "2021-12-19T13:12:43.456Z"
   },
   {
    "duration": 106,
    "start_time": "2021-12-19T13:13:06.751Z"
   },
   {
    "duration": 109,
    "start_time": "2021-12-19T13:13:36.120Z"
   },
   {
    "duration": 101,
    "start_time": "2021-12-19T13:14:26.926Z"
   },
   {
    "duration": 77,
    "start_time": "2021-12-19T13:15:56.904Z"
   },
   {
    "duration": 34,
    "start_time": "2021-12-19T13:16:10.030Z"
   },
   {
    "duration": 31,
    "start_time": "2021-12-19T13:19:34.287Z"
   },
   {
    "duration": 981,
    "start_time": "2021-12-19T13:21:58.484Z"
   },
   {
    "duration": 37,
    "start_time": "2021-12-19T13:21:59.468Z"
   },
   {
    "duration": 74,
    "start_time": "2021-12-19T13:21:59.509Z"
   },
   {
    "duration": 26,
    "start_time": "2021-12-19T13:21:59.586Z"
   },
   {
    "duration": 83,
    "start_time": "2021-12-19T13:21:59.614Z"
   },
   {
    "duration": 124,
    "start_time": "2021-12-19T13:21:59.700Z"
   },
   {
    "duration": 8062,
    "start_time": "2021-12-19T13:21:59.827Z"
   },
   {
    "duration": -62,
    "start_time": "2021-12-19T13:22:07.953Z"
   },
   {
    "duration": 4399,
    "start_time": "2021-12-19T13:23:03.010Z"
   },
   {
    "duration": 4396,
    "start_time": "2021-12-19T13:23:22.150Z"
   },
   {
    "duration": 6983,
    "start_time": "2021-12-19T13:27:29.439Z"
   },
   {
    "duration": 4324,
    "start_time": "2021-12-19T13:28:17.315Z"
   },
   {
    "duration": 3707,
    "start_time": "2021-12-19T13:28:42.045Z"
   },
   {
    "duration": 861,
    "start_time": "2021-12-19T13:29:02.590Z"
   },
   {
    "duration": 34,
    "start_time": "2021-12-19T13:29:03.454Z"
   },
   {
    "duration": 44,
    "start_time": "2021-12-19T13:29:03.492Z"
   },
   {
    "duration": 26,
    "start_time": "2021-12-19T13:29:03.564Z"
   },
   {
    "duration": 86,
    "start_time": "2021-12-19T13:29:03.592Z"
   },
   {
    "duration": 125,
    "start_time": "2021-12-19T13:29:03.681Z"
   },
   {
    "duration": 672,
    "start_time": "2021-12-19T13:29:03.808Z"
   },
   {
    "duration": -41,
    "start_time": "2021-12-19T13:29:04.525Z"
   },
   {
    "duration": 35,
    "start_time": "2021-12-19T13:29:26.415Z"
   },
   {
    "duration": 110,
    "start_time": "2021-12-19T13:35:44.217Z"
   },
   {
    "duration": 541,
    "start_time": "2021-12-19T13:36:07.172Z"
   },
   {
    "duration": 165,
    "start_time": "2021-12-19T13:36:32.058Z"
   },
   {
    "duration": 115,
    "start_time": "2021-12-19T13:36:50.861Z"
   },
   {
    "duration": 109,
    "start_time": "2021-12-19T13:37:01.520Z"
   },
   {
    "duration": 37,
    "start_time": "2021-12-19T13:37:23.751Z"
   },
   {
    "duration": 109,
    "start_time": "2021-12-19T13:37:58.296Z"
   },
   {
    "duration": 156,
    "start_time": "2021-12-19T13:38:37.602Z"
   },
   {
    "duration": 116,
    "start_time": "2021-12-19T13:39:10.333Z"
   },
   {
    "duration": 156,
    "start_time": "2021-12-19T13:39:29.876Z"
   },
   {
    "duration": 86,
    "start_time": "2021-12-19T13:41:51.708Z"
   },
   {
    "duration": 85,
    "start_time": "2021-12-19T13:45:45.835Z"
   },
   {
    "duration": 107,
    "start_time": "2021-12-19T13:45:59.348Z"
   },
   {
    "duration": 86,
    "start_time": "2021-12-19T13:46:17.508Z"
   },
   {
    "duration": 85,
    "start_time": "2021-12-19T13:46:39.632Z"
   },
   {
    "duration": 83,
    "start_time": "2021-12-19T13:47:40.657Z"
   },
   {
    "duration": 173,
    "start_time": "2021-12-19T13:52:13.214Z"
   },
   {
    "duration": 511,
    "start_time": "2021-12-19T14:10:45.411Z"
   },
   {
    "duration": 566,
    "start_time": "2021-12-19T14:11:20.210Z"
   },
   {
    "duration": 23,
    "start_time": "2021-12-19T14:11:53.631Z"
   },
   {
    "duration": 24,
    "start_time": "2021-12-19T14:13:06.158Z"
   },
   {
    "duration": 57,
    "start_time": "2021-12-19T14:13:17.822Z"
   },
   {
    "duration": 828,
    "start_time": "2021-12-19T14:19:42.158Z"
   },
   {
    "duration": 33,
    "start_time": "2021-12-19T14:19:42.989Z"
   },
   {
    "duration": 59,
    "start_time": "2021-12-19T14:19:43.024Z"
   },
   {
    "duration": 22,
    "start_time": "2021-12-19T14:19:43.086Z"
   },
   {
    "duration": 83,
    "start_time": "2021-12-19T14:19:43.110Z"
   },
   {
    "duration": 111,
    "start_time": "2021-12-19T14:19:43.196Z"
   },
   {
    "duration": 165,
    "start_time": "2021-12-19T14:19:43.309Z"
   },
   {
    "duration": 199,
    "start_time": "2021-12-19T14:19:43.477Z"
   },
   {
    "duration": 844,
    "start_time": "2021-12-19T14:22:21.978Z"
   },
   {
    "duration": 19,
    "start_time": "2021-12-19T14:22:47.181Z"
   },
   {
    "duration": 34,
    "start_time": "2021-12-19T14:23:16.664Z"
   },
   {
    "duration": 54,
    "start_time": "2021-12-19T14:31:32.916Z"
   },
   {
    "duration": 927,
    "start_time": "2021-12-19T14:33:18.912Z"
   },
   {
    "duration": 39,
    "start_time": "2021-12-19T14:33:19.842Z"
   },
   {
    "duration": 45,
    "start_time": "2021-12-19T14:33:19.885Z"
   },
   {
    "duration": 48,
    "start_time": "2021-12-19T14:33:19.933Z"
   },
   {
    "duration": 87,
    "start_time": "2021-12-19T14:33:19.983Z"
   },
   {
    "duration": 120,
    "start_time": "2021-12-19T14:33:20.073Z"
   },
   {
    "duration": 160,
    "start_time": "2021-12-19T14:33:20.196Z"
   },
   {
    "duration": 125,
    "start_time": "2021-12-19T14:33:20.364Z"
   },
   {
    "duration": 604,
    "start_time": "2021-12-19T14:33:20.492Z"
   },
   {
    "duration": 22,
    "start_time": "2021-12-19T14:33:51.214Z"
   },
   {
    "duration": 191,
    "start_time": "2021-12-19T14:36:13.607Z"
   },
   {
    "duration": 24,
    "start_time": "2021-12-19T14:36:22.930Z"
   },
   {
    "duration": 34,
    "start_time": "2021-12-19T14:36:35.796Z"
   },
   {
    "duration": 26,
    "start_time": "2021-12-19T14:36:46.858Z"
   },
   {
    "duration": 857,
    "start_time": "2021-12-19T14:37:30.956Z"
   },
   {
    "duration": 33,
    "start_time": "2021-12-19T14:37:31.816Z"
   },
   {
    "duration": 42,
    "start_time": "2021-12-19T14:37:31.862Z"
   },
   {
    "duration": 25,
    "start_time": "2021-12-19T14:37:31.907Z"
   },
   {
    "duration": 81,
    "start_time": "2021-12-19T14:37:31.935Z"
   },
   {
    "duration": 127,
    "start_time": "2021-12-19T14:37:32.018Z"
   },
   {
    "duration": 163,
    "start_time": "2021-12-19T14:37:32.147Z"
   },
   {
    "duration": 220,
    "start_time": "2021-12-19T14:37:32.314Z"
   },
   {
    "duration": 33,
    "start_time": "2021-12-19T14:37:32.537Z"
   },
   {
    "duration": 40,
    "start_time": "2021-12-19T14:37:46.873Z"
   },
   {
    "duration": 1073,
    "start_time": "2021-12-19T14:39:25.920Z"
   },
   {
    "duration": 39,
    "start_time": "2021-12-19T14:39:26.996Z"
   },
   {
    "duration": 76,
    "start_time": "2021-12-19T14:39:27.038Z"
   },
   {
    "duration": 48,
    "start_time": "2021-12-19T14:39:27.116Z"
   },
   {
    "duration": 66,
    "start_time": "2021-12-19T14:39:27.167Z"
   },
   {
    "duration": 144,
    "start_time": "2021-12-19T14:39:27.236Z"
   },
   {
    "duration": 172,
    "start_time": "2021-12-19T14:39:27.383Z"
   },
   {
    "duration": 256,
    "start_time": "2021-12-19T14:39:27.563Z"
   },
   {
    "duration": 64,
    "start_time": "2021-12-19T14:39:27.822Z"
   },
   {
    "duration": 22,
    "start_time": "2021-12-19T15:45:05.447Z"
   },
   {
    "duration": 22,
    "start_time": "2021-12-19T15:45:17.892Z"
   },
   {
    "duration": 94,
    "start_time": "2021-12-19T15:45:44.158Z"
   },
   {
    "duration": 91,
    "start_time": "2021-12-19T15:48:18.165Z"
   },
   {
    "duration": 122,
    "start_time": "2021-12-19T15:51:17.324Z"
   },
   {
    "duration": 80,
    "start_time": "2021-12-19T15:55:51.294Z"
   },
   {
    "duration": 76,
    "start_time": "2021-12-19T15:56:18.941Z"
   },
   {
    "duration": 64,
    "start_time": "2021-12-19T15:56:34.117Z"
   },
   {
    "duration": 80,
    "start_time": "2021-12-19T15:58:00.466Z"
   },
   {
    "duration": 813,
    "start_time": "2021-12-19T15:59:04.274Z"
   },
   {
    "duration": 33,
    "start_time": "2021-12-19T15:59:09.713Z"
   },
   {
    "duration": 45,
    "start_time": "2021-12-19T15:59:16.671Z"
   },
   {
    "duration": 25,
    "start_time": "2021-12-19T15:59:25.430Z"
   },
   {
    "duration": 83,
    "start_time": "2021-12-19T15:59:33.061Z"
   },
   {
    "duration": 46,
    "start_time": "2021-12-19T16:00:38.363Z"
   },
   {
    "duration": 92,
    "start_time": "2021-12-19T16:00:48.057Z"
   },
   {
    "duration": 830,
    "start_time": "2021-12-19T16:01:15.201Z"
   },
   {
    "duration": 32,
    "start_time": "2021-12-19T16:01:16.035Z"
   },
   {
    "duration": 42,
    "start_time": "2021-12-19T16:01:16.070Z"
   },
   {
    "duration": 50,
    "start_time": "2021-12-19T16:01:16.114Z"
   },
   {
    "duration": 35,
    "start_time": "2021-12-19T16:01:16.166Z"
   },
   {
    "duration": 125,
    "start_time": "2021-12-19T16:01:16.203Z"
   },
   {
    "duration": 168,
    "start_time": "2021-12-19T16:01:16.331Z"
   },
   {
    "duration": 199,
    "start_time": "2021-12-19T16:01:16.504Z"
   },
   {
    "duration": 34,
    "start_time": "2021-12-19T16:01:16.706Z"
   },
   {
    "duration": 42,
    "start_time": "2021-12-19T16:01:16.742Z"
   },
   {
    "duration": 21,
    "start_time": "2021-12-19T16:02:32.706Z"
   },
   {
    "duration": 22,
    "start_time": "2021-12-19T16:02:46.083Z"
   },
   {
    "duration": 45,
    "start_time": "2021-12-19T16:05:11.044Z"
   },
   {
    "duration": 42,
    "start_time": "2021-12-19T16:05:16.752Z"
   },
   {
    "duration": 23,
    "start_time": "2021-12-19T17:00:19.021Z"
   },
   {
    "duration": 400,
    "start_time": "2021-12-19T17:01:47.540Z"
   },
   {
    "duration": 8,
    "start_time": "2021-12-19T17:02:05.697Z"
   },
   {
    "duration": 839,
    "start_time": "2021-12-19T17:02:42.135Z"
   },
   {
    "duration": 31,
    "start_time": "2021-12-19T17:02:42.977Z"
   },
   {
    "duration": 60,
    "start_time": "2021-12-19T17:02:43.011Z"
   },
   {
    "duration": 22,
    "start_time": "2021-12-19T17:02:43.074Z"
   },
   {
    "duration": 64,
    "start_time": "2021-12-19T17:02:43.098Z"
   },
   {
    "duration": 105,
    "start_time": "2021-12-19T17:02:43.165Z"
   },
   {
    "duration": 161,
    "start_time": "2021-12-19T17:02:43.273Z"
   },
   {
    "duration": 205,
    "start_time": "2021-12-19T17:02:43.437Z"
   },
   {
    "duration": 43,
    "start_time": "2021-12-19T17:02:43.645Z"
   },
   {
    "duration": 46,
    "start_time": "2021-12-19T17:02:43.691Z"
   },
   {
    "duration": 5238,
    "start_time": "2021-12-19T17:02:43.739Z"
   },
   {
    "duration": 28,
    "start_time": "2021-12-19T17:03:12.482Z"
   },
   {
    "duration": 27,
    "start_time": "2021-12-19T17:47:46.090Z"
   },
   {
    "duration": 901,
    "start_time": "2021-12-19T17:48:38.590Z"
   },
   {
    "duration": 31,
    "start_time": "2021-12-19T17:48:39.494Z"
   },
   {
    "duration": 56,
    "start_time": "2021-12-19T17:48:39.528Z"
   },
   {
    "duration": 24,
    "start_time": "2021-12-19T17:48:39.587Z"
   },
   {
    "duration": 74,
    "start_time": "2021-12-19T17:48:39.614Z"
   },
   {
    "duration": 113,
    "start_time": "2021-12-19T17:48:39.691Z"
   },
   {
    "duration": 169,
    "start_time": "2021-12-19T17:48:39.807Z"
   },
   {
    "duration": 205,
    "start_time": "2021-12-19T17:48:39.979Z"
   },
   {
    "duration": 35,
    "start_time": "2021-12-19T17:48:40.187Z"
   },
   {
    "duration": 75,
    "start_time": "2021-12-19T17:48:40.225Z"
   },
   {
    "duration": 966,
    "start_time": "2021-12-19T17:48:40.303Z"
   },
   {
    "duration": 978,
    "start_time": "2021-12-19T17:49:59.765Z"
   },
   {
    "duration": 7,
    "start_time": "2021-12-19T17:51:25.842Z"
   },
   {
    "duration": 24,
    "start_time": "2021-12-19T17:52:12.184Z"
   },
   {
    "duration": 24,
    "start_time": "2021-12-19T17:52:41.467Z"
   },
   {
    "duration": 109,
    "start_time": "2021-12-19T17:53:05.466Z"
   },
   {
    "duration": 95,
    "start_time": "2021-12-19T17:53:29.423Z"
   },
   {
    "duration": 109,
    "start_time": "2021-12-19T17:53:46.352Z"
   },
   {
    "duration": 383,
    "start_time": "2021-12-19T17:54:20.489Z"
   },
   {
    "duration": -61,
    "start_time": "2021-12-19T17:54:49.693Z"
   },
   {
    "duration": 286,
    "start_time": "2021-12-19T17:55:07.493Z"
   },
   {
    "duration": 298,
    "start_time": "2021-12-19T17:55:23.129Z"
   },
   {
    "duration": 288,
    "start_time": "2021-12-19T18:04:13.616Z"
   },
   {
    "duration": 286,
    "start_time": "2021-12-19T18:04:51.335Z"
   },
   {
    "duration": 374,
    "start_time": "2021-12-19T18:05:24.945Z"
   },
   {
    "duration": 851,
    "start_time": "2021-12-19T18:05:38.756Z"
   },
   {
    "duration": 30,
    "start_time": "2021-12-19T18:05:39.610Z"
   },
   {
    "duration": 60,
    "start_time": "2021-12-19T18:05:39.644Z"
   },
   {
    "duration": 24,
    "start_time": "2021-12-19T18:05:39.707Z"
   },
   {
    "duration": 37,
    "start_time": "2021-12-19T18:05:39.763Z"
   },
   {
    "duration": 114,
    "start_time": "2021-12-19T18:05:39.802Z"
   },
   {
    "duration": 161,
    "start_time": "2021-12-19T18:05:39.918Z"
   },
   {
    "duration": 199,
    "start_time": "2021-12-19T18:05:40.083Z"
   },
   {
    "duration": 55,
    "start_time": "2021-12-19T18:05:40.285Z"
   },
   {
    "duration": 80,
    "start_time": "2021-12-19T18:05:40.343Z"
   },
   {
    "duration": 14579,
    "start_time": "2021-12-19T18:05:40.426Z"
   },
   {
    "duration": 8354,
    "start_time": "2021-12-19T18:06:25.958Z"
   },
   {
    "duration": 2111,
    "start_time": "2021-12-19T18:07:06.507Z"
   },
   {
    "duration": 296,
    "start_time": "2021-12-19T18:08:36.584Z"
   },
   {
    "duration": 1989,
    "start_time": "2021-12-19T18:08:45.011Z"
   },
   {
    "duration": 4948,
    "start_time": "2021-12-19T18:11:58.944Z"
   },
   {
    "duration": 805,
    "start_time": "2021-12-19T18:19:07.904Z"
   },
   {
    "duration": 31,
    "start_time": "2021-12-19T18:19:08.711Z"
   },
   {
    "duration": 45,
    "start_time": "2021-12-19T18:19:08.745Z"
   },
   {
    "duration": 21,
    "start_time": "2021-12-19T18:19:08.793Z"
   },
   {
    "duration": 45,
    "start_time": "2021-12-19T18:19:08.817Z"
   },
   {
    "duration": 100,
    "start_time": "2021-12-19T18:19:08.865Z"
   },
   {
    "duration": 147,
    "start_time": "2021-12-19T18:19:08.967Z"
   },
   {
    "duration": 201,
    "start_time": "2021-12-19T18:19:09.117Z"
   },
   {
    "duration": 56,
    "start_time": "2021-12-19T18:19:09.321Z"
   },
   {
    "duration": 60,
    "start_time": "2021-12-19T18:19:09.380Z"
   },
   {
    "duration": 7785,
    "start_time": "2021-12-19T18:19:09.442Z"
   },
   {
    "duration": 40,
    "start_time": "2021-12-19T18:19:34.668Z"
   },
   {
    "duration": 7891,
    "start_time": "2021-12-19T18:21:54.135Z"
   },
   {
    "duration": 7660,
    "start_time": "2021-12-19T18:22:52.141Z"
   },
   {
    "duration": 341,
    "start_time": "2021-12-19T18:24:04.334Z"
   },
   {
    "duration": 5918,
    "start_time": "2021-12-19T18:24:18.519Z"
   },
   {
    "duration": 841,
    "start_time": "2021-12-19T19:11:34.438Z"
   },
   {
    "duration": 29,
    "start_time": "2021-12-19T19:11:35.282Z"
   },
   {
    "duration": 74,
    "start_time": "2021-12-19T19:11:35.314Z"
   },
   {
    "duration": 22,
    "start_time": "2021-12-19T19:11:35.392Z"
   },
   {
    "duration": 68,
    "start_time": "2021-12-19T19:11:35.416Z"
   },
   {
    "duration": 114,
    "start_time": "2021-12-19T19:11:35.487Z"
   },
   {
    "duration": 169,
    "start_time": "2021-12-19T19:11:35.605Z"
   },
   {
    "duration": 205,
    "start_time": "2021-12-19T19:11:35.779Z"
   },
   {
    "duration": 35,
    "start_time": "2021-12-19T19:11:35.987Z"
   },
   {
    "duration": 66,
    "start_time": "2021-12-19T19:11:36.025Z"
   },
   {
    "duration": 100,
    "start_time": "2021-12-19T19:11:45.444Z"
   },
   {
    "duration": 102,
    "start_time": "2021-12-19T19:12:33.045Z"
   },
   {
    "duration": 6319,
    "start_time": "2021-12-19T19:14:57.714Z"
   },
   {
    "duration": -34,
    "start_time": "2021-12-19T19:25:05.843Z"
   },
   {
    "duration": 7171,
    "start_time": "2021-12-19T19:25:14.806Z"
   },
   {
    "duration": 8670,
    "start_time": "2021-12-19T19:26:19.939Z"
   },
   {
    "duration": 980,
    "start_time": "2021-12-19T19:26:49.812Z"
   },
   {
    "duration": 45,
    "start_time": "2021-12-19T19:26:50.795Z"
   },
   {
    "duration": 78,
    "start_time": "2021-12-19T19:26:50.843Z"
   },
   {
    "duration": 39,
    "start_time": "2021-12-19T19:26:50.924Z"
   },
   {
    "duration": 38,
    "start_time": "2021-12-19T19:26:50.966Z"
   },
   {
    "duration": 155,
    "start_time": "2021-12-19T19:26:51.007Z"
   },
   {
    "duration": 166,
    "start_time": "2021-12-19T19:26:51.168Z"
   },
   {
    "duration": 216,
    "start_time": "2021-12-19T19:26:51.337Z"
   },
   {
    "duration": 40,
    "start_time": "2021-12-19T19:26:51.564Z"
   },
   {
    "duration": 97,
    "start_time": "2021-12-19T19:26:51.607Z"
   },
   {
    "duration": 6432,
    "start_time": "2021-12-19T19:26:51.708Z"
   },
   {
    "duration": 8608,
    "start_time": "2021-12-19T19:27:05.302Z"
   },
   {
    "duration": 1935,
    "start_time": "2021-12-19T19:28:47.369Z"
   },
   {
    "duration": 289,
    "start_time": "2021-12-19T19:29:43.136Z"
   },
   {
    "duration": 17,
    "start_time": "2021-12-19T19:29:59.133Z"
   },
   {
    "duration": 299,
    "start_time": "2021-12-19T19:31:30.303Z"
   },
   {
    "duration": 16,
    "start_time": "2021-12-19T19:31:48.081Z"
   },
   {
    "duration": 11,
    "start_time": "2021-12-19T19:32:12.306Z"
   },
   {
    "duration": 10,
    "start_time": "2021-12-19T19:32:40.482Z"
   },
   {
    "duration": 11,
    "start_time": "2021-12-19T19:32:52.457Z"
   },
   {
    "duration": 99,
    "start_time": "2021-12-19T19:41:21.123Z"
   },
   {
    "duration": 192,
    "start_time": "2021-12-19T19:42:41.799Z"
   },
   {
    "duration": 100,
    "start_time": "2021-12-19T19:43:19.958Z"
   },
   {
    "duration": 19,
    "start_time": "2021-12-19T19:43:39.643Z"
   },
   {
    "duration": 22,
    "start_time": "2021-12-19T19:46:25.222Z"
   },
   {
    "duration": 23,
    "start_time": "2021-12-19T19:46:52.061Z"
   },
   {
    "duration": 23,
    "start_time": "2021-12-19T19:57:32.686Z"
   },
   {
    "duration": 25,
    "start_time": "2021-12-19T19:59:18.453Z"
   },
   {
    "duration": 329,
    "start_time": "2021-12-19T20:03:04.689Z"
   },
   {
    "duration": 323,
    "start_time": "2021-12-19T20:03:14.659Z"
   },
   {
    "duration": 324,
    "start_time": "2021-12-19T20:03:54.593Z"
   },
   {
    "duration": 373,
    "start_time": "2021-12-19T20:04:19.799Z"
   },
   {
    "duration": 653,
    "start_time": "2021-12-19T20:05:56.333Z"
   },
   {
    "duration": 514,
    "start_time": "2021-12-19T20:06:52.314Z"
   },
   {
    "duration": 498,
    "start_time": "2021-12-19T20:10:29.522Z"
   },
   {
    "duration": 724,
    "start_time": "2021-12-19T20:10:39.846Z"
   },
   {
    "duration": 576,
    "start_time": "2021-12-19T20:11:21.191Z"
   },
   {
    "duration": 28,
    "start_time": "2021-12-19T20:11:44.165Z"
   },
   {
    "duration": 908,
    "start_time": "2021-12-19T20:12:14.572Z"
   },
   {
    "duration": 347,
    "start_time": "2021-12-19T20:12:35.824Z"
   },
   {
    "duration": 838,
    "start_time": "2021-12-19T20:12:54.446Z"
   },
   {
    "duration": 709,
    "start_time": "2021-12-19T20:13:05.945Z"
   },
   {
    "duration": -61,
    "start_time": "2021-12-19T20:13:42.278Z"
   },
   {
    "duration": 1074,
    "start_time": "2021-12-19T20:13:56.033Z"
   },
   {
    "duration": 851,
    "start_time": "2021-12-19T20:14:53.675Z"
   },
   {
    "duration": 1056,
    "start_time": "2021-12-19T20:15:12.358Z"
   },
   {
    "duration": 387,
    "start_time": "2021-12-19T20:16:02.308Z"
   },
   {
    "duration": 397,
    "start_time": "2021-12-19T20:16:16.702Z"
   },
   {
    "duration": -37,
    "start_time": "2021-12-19T20:17:02.764Z"
   },
   {
    "duration": 753,
    "start_time": "2021-12-19T20:17:46.396Z"
   },
   {
    "duration": 38,
    "start_time": "2021-12-19T20:18:53.674Z"
   },
   {
    "duration": 51,
    "start_time": "2021-12-19T20:19:11.073Z"
   },
   {
    "duration": 900,
    "start_time": "2021-12-19T20:20:14.295Z"
   },
   {
    "duration": 35,
    "start_time": "2021-12-19T20:20:29.635Z"
   },
   {
    "duration": 33,
    "start_time": "2021-12-19T20:21:44.422Z"
   },
   {
    "duration": 42,
    "start_time": "2021-12-19T20:34:30.230Z"
   },
   {
    "duration": 55,
    "start_time": "2021-12-19T20:36:54.341Z"
   },
   {
    "duration": 53,
    "start_time": "2021-12-19T20:37:20.351Z"
   },
   {
    "duration": 821,
    "start_time": "2021-12-20T07:13:02.003Z"
   },
   {
    "duration": 32,
    "start_time": "2021-12-20T07:13:02.828Z"
   },
   {
    "duration": 66,
    "start_time": "2021-12-20T07:13:02.863Z"
   },
   {
    "duration": 23,
    "start_time": "2021-12-20T07:13:02.933Z"
   },
   {
    "duration": 70,
    "start_time": "2021-12-20T07:13:02.959Z"
   },
   {
    "duration": 99,
    "start_time": "2021-12-20T07:13:03.031Z"
   },
   {
    "duration": 155,
    "start_time": "2021-12-20T07:13:03.133Z"
   },
   {
    "duration": 205,
    "start_time": "2021-12-20T07:13:03.291Z"
   },
   {
    "duration": 42,
    "start_time": "2021-12-20T07:13:03.499Z"
   },
   {
    "duration": 53,
    "start_time": "2021-12-20T07:13:03.543Z"
   },
   {
    "duration": 5596,
    "start_time": "2021-12-20T07:13:03.598Z"
   },
   {
    "duration": 28,
    "start_time": "2021-12-20T07:13:17.564Z"
   },
   {
    "duration": 18,
    "start_time": "2021-12-20T07:13:35.937Z"
   },
   {
    "duration": 32,
    "start_time": "2021-12-20T07:13:45.156Z"
   },
   {
    "duration": 29,
    "start_time": "2021-12-20T07:14:10.465Z"
   },
   {
    "duration": 382,
    "start_time": "2021-12-20T07:14:59.092Z"
   },
   {
    "duration": 21,
    "start_time": "2021-12-20T07:15:05.717Z"
   },
   {
    "duration": 20,
    "start_time": "2021-12-20T07:15:20.445Z"
   },
   {
    "duration": 824,
    "start_time": "2021-12-20T07:15:38.130Z"
   },
   {
    "duration": 30,
    "start_time": "2021-12-20T07:15:41.588Z"
   },
   {
    "duration": 48,
    "start_time": "2021-12-20T07:15:44.216Z"
   },
   {
    "duration": 28,
    "start_time": "2021-12-20T07:15:44.779Z"
   },
   {
    "duration": 36,
    "start_time": "2021-12-20T07:15:45.336Z"
   },
   {
    "duration": 91,
    "start_time": "2021-12-20T07:15:46.661Z"
   },
   {
    "duration": 140,
    "start_time": "2021-12-20T07:15:48.724Z"
   },
   {
    "duration": 171,
    "start_time": "2021-12-20T07:15:49.594Z"
   },
   {
    "duration": 34,
    "start_time": "2021-12-20T07:15:53.459Z"
   },
   {
    "duration": 46,
    "start_time": "2021-12-20T07:15:57.054Z"
   },
   {
    "duration": 5564,
    "start_time": "2021-12-20T07:15:59.875Z"
   },
   {
    "duration": 32,
    "start_time": "2021-12-20T07:18:26.507Z"
   },
   {
    "duration": 23,
    "start_time": "2021-12-20T07:18:57.474Z"
   },
   {
    "duration": 23,
    "start_time": "2021-12-20T07:19:54.987Z"
   },
   {
    "duration": 692,
    "start_time": "2021-12-20T17:26:11.512Z"
   },
   {
    "duration": 938,
    "start_time": "2021-12-20T17:26:18.794Z"
   },
   {
    "duration": 33,
    "start_time": "2021-12-20T17:26:19.736Z"
   },
   {
    "duration": 68,
    "start_time": "2021-12-20T17:26:19.773Z"
   },
   {
    "duration": 29,
    "start_time": "2021-12-20T17:26:19.844Z"
   },
   {
    "duration": 78,
    "start_time": "2021-12-20T17:26:19.876Z"
   },
   {
    "duration": 108,
    "start_time": "2021-12-20T17:26:19.956Z"
   },
   {
    "duration": 181,
    "start_time": "2021-12-20T17:26:20.067Z"
   },
   {
    "duration": 297,
    "start_time": "2021-12-20T17:26:20.253Z"
   },
   {
    "duration": 36,
    "start_time": "2021-12-20T17:26:20.553Z"
   },
   {
    "duration": 76,
    "start_time": "2021-12-20T17:26:20.592Z"
   },
   {
    "duration": 1320,
    "start_time": "2021-12-20T17:26:20.671Z"
   },
   {
    "duration": 12047,
    "start_time": "2021-12-20T17:26:58.166Z"
   },
   {
    "duration": 13167,
    "start_time": "2021-12-20T17:28:15.439Z"
   },
   {
    "duration": 10860,
    "start_time": "2021-12-20T17:32:17.670Z"
   },
   {
    "duration": 59,
    "start_time": "2021-12-20T17:37:28.527Z"
   },
   {
    "duration": 122,
    "start_time": "2021-12-20T18:04:20.924Z"
   },
   {
    "duration": 110,
    "start_time": "2021-12-20T18:04:42.282Z"
   },
   {
    "duration": 90,
    "start_time": "2021-12-20T18:05:18.434Z"
   },
   {
    "duration": 94,
    "start_time": "2021-12-20T18:05:40.848Z"
   },
   {
    "duration": 90,
    "start_time": "2021-12-20T18:05:46.496Z"
   },
   {
    "duration": 107,
    "start_time": "2021-12-20T18:06:47.082Z"
   },
   {
    "duration": 380,
    "start_time": "2021-12-20T18:07:12.639Z"
   },
   {
    "duration": 63,
    "start_time": "2021-12-20T18:19:17.460Z"
   },
   {
    "duration": 101,
    "start_time": "2021-12-20T18:19:39.465Z"
   },
   {
    "duration": 10486,
    "start_time": "2021-12-20T18:20:55.897Z"
   },
   {
    "duration": 66,
    "start_time": "2021-12-20T18:22:30.054Z"
   },
   {
    "duration": 70,
    "start_time": "2021-12-20T18:23:56.572Z"
   },
   {
    "duration": 72,
    "start_time": "2021-12-20T18:25:42.700Z"
   },
   {
    "duration": 85,
    "start_time": "2021-12-20T18:33:18.681Z"
   },
   {
    "duration": 4168,
    "start_time": "2021-12-20T18:33:44.920Z"
   },
   {
    "duration": 88,
    "start_time": "2021-12-20T18:33:57.069Z"
   },
   {
    "duration": 83,
    "start_time": "2021-12-20T18:34:45.720Z"
   },
   {
    "duration": 10720,
    "start_time": "2021-12-20T18:35:56.893Z"
   },
   {
    "duration": 94,
    "start_time": "2021-12-20T18:36:17.444Z"
   },
   {
    "duration": 111,
    "start_time": "2021-12-20T18:39:19.020Z"
   },
   {
    "duration": 128,
    "start_time": "2021-12-20T18:40:08.137Z"
   },
   {
    "duration": 96,
    "start_time": "2021-12-20T18:40:36.450Z"
   },
   {
    "duration": 116,
    "start_time": "2021-12-20T18:41:15.919Z"
   },
   {
    "duration": 86,
    "start_time": "2021-12-20T18:41:25.876Z"
   },
   {
    "duration": 81,
    "start_time": "2021-12-20T18:42:33.487Z"
   },
   {
    "duration": 92,
    "start_time": "2021-12-20T18:44:47.949Z"
   },
   {
    "duration": 143,
    "start_time": "2021-12-20T18:45:49.619Z"
   },
   {
    "duration": 119,
    "start_time": "2021-12-20T18:47:47.368Z"
   },
   {
    "duration": 133,
    "start_time": "2021-12-20T18:48:03.662Z"
   },
   {
    "duration": 125,
    "start_time": "2021-12-20T18:48:26.951Z"
   },
   {
    "duration": 148,
    "start_time": "2021-12-20T18:53:32.221Z"
   },
   {
    "duration": 134,
    "start_time": "2021-12-20T18:53:46.235Z"
   },
   {
    "duration": 110,
    "start_time": "2021-12-20T18:54:34.115Z"
   },
   {
    "duration": 130,
    "start_time": "2021-12-20T18:55:07.473Z"
   },
   {
    "duration": 105,
    "start_time": "2021-12-20T18:56:25.863Z"
   },
   {
    "duration": 399,
    "start_time": "2021-12-20T18:57:53.761Z"
   },
   {
    "duration": 373,
    "start_time": "2021-12-20T18:58:20.221Z"
   },
   {
    "duration": 127,
    "start_time": "2021-12-20T18:59:07.500Z"
   },
   {
    "duration": 104,
    "start_time": "2021-12-20T19:01:02.954Z"
   },
   {
    "duration": 117,
    "start_time": "2021-12-20T19:01:35.792Z"
   },
   {
    "duration": 101,
    "start_time": "2021-12-20T19:02:55.901Z"
   },
   {
    "duration": 128,
    "start_time": "2021-12-20T19:27:21.576Z"
   },
   {
    "duration": 3935,
    "start_time": "2021-12-20T19:41:28.727Z"
   },
   {
    "duration": 3778,
    "start_time": "2021-12-20T19:44:13.855Z"
   },
   {
    "duration": 3858,
    "start_time": "2021-12-20T19:45:50.515Z"
   },
   {
    "duration": 3589,
    "start_time": "2021-12-20T19:46:38.857Z"
   },
   {
    "duration": 4060,
    "start_time": "2021-12-20T19:47:34.076Z"
   },
   {
    "duration": 3949,
    "start_time": "2021-12-20T19:48:16.336Z"
   },
   {
    "duration": 4073,
    "start_time": "2021-12-20T19:48:44.793Z"
   },
   {
    "duration": 3702,
    "start_time": "2021-12-20T19:49:15.168Z"
   },
   {
    "duration": 174,
    "start_time": "2021-12-20T19:50:05.916Z"
   },
   {
    "duration": 122,
    "start_time": "2021-12-20T19:50:14.249Z"
   },
   {
    "duration": 112,
    "start_time": "2021-12-20T19:57:04.095Z"
   },
   {
    "duration": 302,
    "start_time": "2021-12-20T20:07:29.303Z"
   },
   {
    "duration": 284,
    "start_time": "2021-12-20T20:09:19.974Z"
   },
   {
    "duration": 299,
    "start_time": "2021-12-20T20:10:08.491Z"
   },
   {
    "duration": 265,
    "start_time": "2021-12-20T20:10:35.088Z"
   },
   {
    "duration": 21,
    "start_time": "2021-12-20T20:11:56.149Z"
   },
   {
    "duration": 107,
    "start_time": "2021-12-20T20:12:25.235Z"
   },
   {
    "duration": 22,
    "start_time": "2021-12-20T20:12:30.790Z"
   },
   {
    "duration": 31,
    "start_time": "2021-12-20T20:12:47.825Z"
   },
   {
    "duration": 53,
    "start_time": "2021-12-20T20:13:43.129Z"
   },
   {
    "duration": 286,
    "start_time": "2021-12-20T20:14:31.704Z"
   },
   {
    "duration": 52,
    "start_time": "2021-12-20T20:14:39.254Z"
   },
   {
    "duration": 326,
    "start_time": "2021-12-20T20:16:43.948Z"
   },
   {
    "duration": 64,
    "start_time": "2021-12-20T20:17:02.044Z"
   },
   {
    "duration": 34,
    "start_time": "2021-12-20T20:17:14.411Z"
   },
   {
    "duration": 327,
    "start_time": "2021-12-20T20:24:49.482Z"
   },
   {
    "duration": 480,
    "start_time": "2021-12-20T20:27:41.399Z"
   },
   {
    "duration": 322,
    "start_time": "2021-12-20T20:27:49.538Z"
   },
   {
    "duration": 323,
    "start_time": "2021-12-20T20:28:48.526Z"
   },
   {
    "duration": 284,
    "start_time": "2021-12-20T20:29:04.237Z"
   },
   {
    "duration": 287,
    "start_time": "2021-12-20T20:29:30.697Z"
   },
   {
    "duration": 336,
    "start_time": "2021-12-20T20:36:59.508Z"
   },
   {
    "duration": 943,
    "start_time": "2021-12-20T20:37:14.138Z"
   },
   {
    "duration": 40,
    "start_time": "2021-12-20T20:37:15.084Z"
   },
   {
    "duration": 45,
    "start_time": "2021-12-20T20:37:15.130Z"
   },
   {
    "duration": 50,
    "start_time": "2021-12-20T20:37:15.178Z"
   },
   {
    "duration": 37,
    "start_time": "2021-12-20T20:37:15.233Z"
   },
   {
    "duration": 118,
    "start_time": "2021-12-20T20:37:15.273Z"
   },
   {
    "duration": 168,
    "start_time": "2021-12-20T20:37:15.394Z"
   },
   {
    "duration": 208,
    "start_time": "2021-12-20T20:37:15.565Z"
   },
   {
    "duration": 52,
    "start_time": "2021-12-20T20:37:15.776Z"
   },
   {
    "duration": 43,
    "start_time": "2021-12-20T20:37:15.833Z"
   },
   {
    "duration": 12453,
    "start_time": "2021-12-20T20:37:15.878Z"
   },
   {
    "duration": 142,
    "start_time": "2021-12-20T20:37:28.334Z"
   },
   {
    "duration": 379,
    "start_time": "2021-12-20T20:37:28.481Z"
   },
   {
    "duration": 360,
    "start_time": "2021-12-20T20:38:06.502Z"
   },
   {
    "duration": 54,
    "start_time": "2021-12-20T20:38:13.449Z"
   },
   {
    "duration": 95,
    "start_time": "2021-12-20T20:54:22.645Z"
   },
   {
    "duration": 32,
    "start_time": "2021-12-20T20:54:27.879Z"
   },
   {
    "duration": 35,
    "start_time": "2021-12-20T20:55:59.576Z"
   },
   {
    "duration": 35,
    "start_time": "2021-12-20T20:58:56.307Z"
   },
   {
    "duration": 37,
    "start_time": "2021-12-20T20:59:06.058Z"
   },
   {
    "duration": 33,
    "start_time": "2021-12-20T21:01:06.858Z"
   },
   {
    "duration": 35,
    "start_time": "2021-12-20T21:02:51.697Z"
   },
   {
    "duration": 36,
    "start_time": "2021-12-20T21:04:46.279Z"
   },
   {
    "duration": 33,
    "start_time": "2021-12-20T21:06:34.089Z"
   },
   {
    "duration": 45,
    "start_time": "2021-12-20T21:10:07.698Z"
   },
   {
    "duration": 38,
    "start_time": "2021-12-20T21:11:12.630Z"
   },
   {
    "duration": 39,
    "start_time": "2021-12-20T21:11:24.758Z"
   },
   {
    "duration": 124,
    "start_time": "2021-12-20T21:11:33.937Z"
   },
   {
    "duration": 39,
    "start_time": "2021-12-20T21:11:39.081Z"
   },
   {
    "duration": 35,
    "start_time": "2021-12-20T21:12:44.371Z"
   },
   {
    "duration": 103,
    "start_time": "2021-12-20T21:15:00.101Z"
   },
   {
    "duration": 109,
    "start_time": "2021-12-20T21:15:17.792Z"
   },
   {
    "duration": 74,
    "start_time": "2021-12-20T21:16:06.603Z"
   },
   {
    "duration": 92,
    "start_time": "2021-12-20T21:16:31.400Z"
   },
   {
    "duration": -45,
    "start_time": "2021-12-20T21:19:04.123Z"
   },
   {
    "duration": 9792,
    "start_time": "2021-12-20T21:19:47.703Z"
   },
   {
    "duration": 129,
    "start_time": "2021-12-20T21:20:00.215Z"
   },
   {
    "duration": 88,
    "start_time": "2021-12-20T21:20:25.438Z"
   },
   {
    "duration": 93,
    "start_time": "2021-12-20T21:20:53.853Z"
   },
   {
    "duration": 83,
    "start_time": "2021-12-20T21:22:04.037Z"
   },
   {
    "duration": 10018,
    "start_time": "2021-12-20T21:22:35.479Z"
   },
   {
    "duration": 86,
    "start_time": "2021-12-20T21:22:48.357Z"
   },
   {
    "duration": -208,
    "start_time": "2021-12-20T21:42:48.660Z"
   },
   {
    "duration": 5880,
    "start_time": "2021-12-20T21:43:06.945Z"
   },
   {
    "duration": 5941,
    "start_time": "2021-12-20T21:43:34.269Z"
   },
   {
    "duration": 74,
    "start_time": "2021-12-20T21:44:40.121Z"
   },
   {
    "duration": 74,
    "start_time": "2021-12-20T21:45:15.734Z"
   },
   {
    "duration": 7441,
    "start_time": "2021-12-20T21:45:57.656Z"
   },
   {
    "duration": -72,
    "start_time": "2021-12-20T21:49:12.392Z"
   },
   {
    "duration": -95,
    "start_time": "2021-12-20T21:49:32.149Z"
   },
   {
    "duration": 290,
    "start_time": "2021-12-20T21:51:25.407Z"
   },
   {
    "duration": 80,
    "start_time": "2021-12-20T21:53:35.118Z"
   },
   {
    "duration": 80,
    "start_time": "2021-12-20T21:54:13.428Z"
   },
   {
    "duration": 116,
    "start_time": "2021-12-20T21:54:16.819Z"
   },
   {
    "duration": 97,
    "start_time": "2021-12-20T21:54:25.095Z"
   },
   {
    "duration": 819,
    "start_time": "2021-12-20T21:57:04.024Z"
   },
   {
    "duration": 880,
    "start_time": "2021-12-20T21:57:50.500Z"
   },
   {
    "duration": 5737,
    "start_time": "2021-12-20T21:58:20.129Z"
   },
   {
    "duration": 5608,
    "start_time": "2021-12-20T21:58:30.174Z"
   },
   {
    "duration": 6734,
    "start_time": "2021-12-20T21:58:36.059Z"
   },
   {
    "duration": 895,
    "start_time": "2021-12-20T21:59:07.873Z"
   },
   {
    "duration": 76,
    "start_time": "2021-12-20T22:03:06.222Z"
   },
   {
    "duration": 80,
    "start_time": "2021-12-20T22:03:33.292Z"
   },
   {
    "duration": 111,
    "start_time": "2021-12-20T22:04:12.332Z"
   },
   {
    "duration": 123,
    "start_time": "2021-12-20T22:05:02.082Z"
   },
   {
    "duration": 71,
    "start_time": "2021-12-20T22:06:45.714Z"
   },
   {
    "duration": 152,
    "start_time": "2021-12-20T22:08:45.908Z"
   },
   {
    "duration": 304,
    "start_time": "2021-12-20T22:10:27.444Z"
   },
   {
    "duration": 166,
    "start_time": "2021-12-20T22:10:39.170Z"
   },
   {
    "duration": 175,
    "start_time": "2021-12-20T22:10:43.843Z"
   },
   {
    "duration": 96,
    "start_time": "2021-12-20T22:11:05.831Z"
   },
   {
    "duration": 872,
    "start_time": "2021-12-21T07:45:18.792Z"
   },
   {
    "duration": 30,
    "start_time": "2021-12-21T07:45:19.666Z"
   },
   {
    "duration": 61,
    "start_time": "2021-12-21T07:45:19.699Z"
   },
   {
    "duration": 23,
    "start_time": "2021-12-21T07:45:19.762Z"
   },
   {
    "duration": 63,
    "start_time": "2021-12-21T07:45:19.787Z"
   },
   {
    "duration": 114,
    "start_time": "2021-12-21T07:45:19.853Z"
   },
   {
    "duration": 168,
    "start_time": "2021-12-21T07:45:19.970Z"
   },
   {
    "duration": 205,
    "start_time": "2021-12-21T07:45:20.142Z"
   },
   {
    "duration": 35,
    "start_time": "2021-12-21T07:45:20.350Z"
   },
   {
    "duration": 69,
    "start_time": "2021-12-21T07:45:20.388Z"
   },
   {
    "duration": 10178,
    "start_time": "2021-12-21T07:45:20.460Z"
   },
   {
    "duration": 131,
    "start_time": "2021-12-21T07:45:30.641Z"
   },
   {
    "duration": 442,
    "start_time": "2021-12-21T07:45:50.667Z"
   },
   {
    "duration": 91,
    "start_time": "2021-12-21T07:48:49.338Z"
   },
   {
    "duration": 91,
    "start_time": "2021-12-21T07:49:06.600Z"
   },
   {
    "duration": 87,
    "start_time": "2021-12-21T07:49:47.880Z"
   },
   {
    "duration": 84,
    "start_time": "2021-12-21T07:49:55.478Z"
   },
   {
    "duration": 55,
    "start_time": "2021-12-21T08:36:46.748Z"
   },
   {
    "duration": 55,
    "start_time": "2021-12-21T08:36:53.915Z"
   },
   {
    "duration": 51,
    "start_time": "2021-12-21T08:37:52.634Z"
   },
   {
    "duration": 110,
    "start_time": "2021-12-21T08:38:00.297Z"
   },
   {
    "duration": 83,
    "start_time": "2021-12-21T08:39:02.804Z"
   },
   {
    "duration": 47,
    "start_time": "2021-12-21T08:39:17.888Z"
   },
   {
    "duration": 89,
    "start_time": "2021-12-21T08:41:15.015Z"
   },
   {
    "duration": 84,
    "start_time": "2021-12-21T08:43:04.747Z"
   },
   {
    "duration": 338,
    "start_time": "2021-12-21T08:46:02.666Z"
   },
   {
    "duration": 89,
    "start_time": "2021-12-21T08:47:40.780Z"
   },
   {
    "duration": 295,
    "start_time": "2021-12-21T08:48:14.505Z"
   },
   {
    "duration": 104,
    "start_time": "2021-12-21T08:48:47.264Z"
   },
   {
    "duration": 316,
    "start_time": "2021-12-21T08:48:53.769Z"
   },
   {
    "duration": 107,
    "start_time": "2021-12-21T08:50:38.499Z"
   },
   {
    "duration": 109,
    "start_time": "2021-12-21T08:50:47.931Z"
   },
   {
    "duration": 133,
    "start_time": "2021-12-21T08:51:28.790Z"
   },
   {
    "duration": 89,
    "start_time": "2021-12-21T08:51:47.887Z"
   },
   {
    "duration": 80,
    "start_time": "2021-12-21T09:03:09.549Z"
   },
   {
    "duration": 79,
    "start_time": "2021-12-21T09:19:18.312Z"
   },
   {
    "duration": 86,
    "start_time": "2021-12-21T09:19:30.779Z"
   },
   {
    "duration": 87,
    "start_time": "2021-12-21T09:19:41.570Z"
   },
   {
    "duration": 107,
    "start_time": "2021-12-21T09:22:24.612Z"
   },
   {
    "duration": 94,
    "start_time": "2021-12-21T09:22:40.451Z"
   },
   {
    "duration": 986,
    "start_time": "2021-12-21T09:23:03.114Z"
   },
   {
    "duration": 40,
    "start_time": "2021-12-21T09:23:04.103Z"
   },
   {
    "duration": 82,
    "start_time": "2021-12-21T09:23:04.147Z"
   },
   {
    "duration": 23,
    "start_time": "2021-12-21T09:23:04.232Z"
   },
   {
    "duration": 70,
    "start_time": "2021-12-21T09:23:04.257Z"
   },
   {
    "duration": 114,
    "start_time": "2021-12-21T09:23:04.330Z"
   },
   {
    "duration": 153,
    "start_time": "2021-12-21T09:23:04.446Z"
   },
   {
    "duration": 301,
    "start_time": "2021-12-21T09:23:04.605Z"
   },
   {
    "duration": 45,
    "start_time": "2021-12-21T09:23:04.908Z"
   },
   {
    "duration": 70,
    "start_time": "2021-12-21T09:23:04.958Z"
   },
   {
    "duration": 10951,
    "start_time": "2021-12-21T09:23:05.032Z"
   },
   {
    "duration": 196,
    "start_time": "2021-12-21T09:23:15.985Z"
   },
   {
    "duration": 469,
    "start_time": "2021-12-21T09:23:16.184Z"
   },
   {
    "duration": 8,
    "start_time": "2021-12-21T09:23:16.648Z"
   },
   {
    "duration": 93,
    "start_time": "2021-12-21T09:24:49.476Z"
   },
   {
    "duration": 87,
    "start_time": "2021-12-21T09:25:00.054Z"
   },
   {
    "duration": 313,
    "start_time": "2021-12-21T09:25:12.995Z"
   },
   {
    "duration": 93,
    "start_time": "2021-12-21T09:25:45.999Z"
   },
   {
    "duration": 95,
    "start_time": "2021-12-21T09:26:51.153Z"
   },
   {
    "duration": 279,
    "start_time": "2021-12-21T09:29:05.733Z"
   },
   {
    "duration": 297,
    "start_time": "2021-12-21T09:29:16.313Z"
   },
   {
    "duration": 323,
    "start_time": "2021-12-21T09:29:27.388Z"
   },
   {
    "duration": 128,
    "start_time": "2021-12-21T09:29:31.816Z"
   },
   {
    "duration": 816,
    "start_time": "2021-12-21T09:31:32.117Z"
   },
   {
    "duration": 33,
    "start_time": "2021-12-21T09:31:32.936Z"
   },
   {
    "duration": 82,
    "start_time": "2021-12-21T09:31:32.972Z"
   },
   {
    "duration": 26,
    "start_time": "2021-12-21T09:31:33.057Z"
   },
   {
    "duration": 71,
    "start_time": "2021-12-21T09:31:33.086Z"
   },
   {
    "duration": 118,
    "start_time": "2021-12-21T09:31:33.160Z"
   },
   {
    "duration": 172,
    "start_time": "2021-12-21T09:31:33.282Z"
   },
   {
    "duration": 202,
    "start_time": "2021-12-21T09:31:33.457Z"
   },
   {
    "duration": 35,
    "start_time": "2021-12-21T09:31:33.663Z"
   },
   {
    "duration": 48,
    "start_time": "2021-12-21T09:31:33.717Z"
   },
   {
    "duration": 11021,
    "start_time": "2021-12-21T09:31:33.768Z"
   },
   {
    "duration": 137,
    "start_time": "2021-12-21T09:31:44.792Z"
   },
   {
    "duration": 111,
    "start_time": "2021-12-21T09:31:44.931Z"
   },
   {
    "duration": 116,
    "start_time": "2021-12-21T09:31:45.044Z"
   },
   {
    "duration": 112,
    "start_time": "2021-12-21T09:31:45.162Z"
   },
   {
    "duration": 97,
    "start_time": "2021-12-21T09:31:45.277Z"
   },
   {
    "duration": 99,
    "start_time": "2021-12-21T11:27:06.625Z"
   },
   {
    "duration": 104,
    "start_time": "2021-12-21T11:29:28.709Z"
   },
   {
    "duration": 88,
    "start_time": "2021-12-21T11:34:55.555Z"
   },
   {
    "duration": 86,
    "start_time": "2021-12-21T11:35:34.716Z"
   },
   {
    "duration": 79,
    "start_time": "2021-12-21T11:36:07.577Z"
   },
   {
    "duration": 107,
    "start_time": "2021-12-21T11:44:24.581Z"
   },
   {
    "duration": 144,
    "start_time": "2021-12-21T11:44:48.573Z"
   },
   {
    "duration": 116,
    "start_time": "2021-12-21T11:45:30.926Z"
   },
   {
    "duration": 92,
    "start_time": "2021-12-21T11:47:58.522Z"
   },
   {
    "duration": 460,
    "start_time": "2021-12-21T11:49:44.075Z"
   },
   {
    "duration": 111,
    "start_time": "2021-12-21T11:49:50.590Z"
   },
   {
    "duration": 100,
    "start_time": "2021-12-21T11:51:13.365Z"
   },
   {
    "duration": 112,
    "start_time": "2021-12-21T11:51:20.715Z"
   },
   {
    "duration": 112,
    "start_time": "2021-12-21T11:51:29.181Z"
   },
   {
    "duration": 109,
    "start_time": "2021-12-21T11:51:51.269Z"
   },
   {
    "duration": 134,
    "start_time": "2021-12-21T11:52:05.643Z"
   },
   {
    "duration": 110,
    "start_time": "2021-12-21T11:52:24.492Z"
   },
   {
    "duration": 111,
    "start_time": "2021-12-21T11:52:32.722Z"
   },
   {
    "duration": 110,
    "start_time": "2021-12-21T11:59:10.481Z"
   },
   {
    "duration": 112,
    "start_time": "2021-12-21T11:59:25.936Z"
   },
   {
    "duration": 138,
    "start_time": "2021-12-21T12:04:04.438Z"
   },
   {
    "duration": 84,
    "start_time": "2021-12-21T12:04:09.811Z"
   },
   {
    "duration": 85,
    "start_time": "2021-12-21T12:04:18.120Z"
   },
   {
    "duration": 854,
    "start_time": "2021-12-21T12:04:59.678Z"
   },
   {
    "duration": 34,
    "start_time": "2021-12-21T12:05:00.535Z"
   },
   {
    "duration": 84,
    "start_time": "2021-12-21T12:05:00.573Z"
   },
   {
    "duration": 23,
    "start_time": "2021-12-21T12:05:00.661Z"
   },
   {
    "duration": 64,
    "start_time": "2021-12-21T12:05:00.686Z"
   },
   {
    "duration": 115,
    "start_time": "2021-12-21T12:05:00.752Z"
   },
   {
    "duration": 174,
    "start_time": "2021-12-21T12:05:00.869Z"
   },
   {
    "duration": 210,
    "start_time": "2021-12-21T12:05:01.047Z"
   },
   {
    "duration": 57,
    "start_time": "2021-12-21T12:05:01.260Z"
   },
   {
    "duration": 48,
    "start_time": "2021-12-21T12:05:01.320Z"
   },
   {
    "duration": 10069,
    "start_time": "2021-12-21T12:05:01.370Z"
   },
   {
    "duration": 154,
    "start_time": "2021-12-21T12:05:11.442Z"
   },
   {
    "duration": 91,
    "start_time": "2021-12-21T12:05:11.599Z"
   },
   {
    "duration": 94,
    "start_time": "2021-12-21T12:06:03.922Z"
   },
   {
    "duration": 82,
    "start_time": "2021-12-21T12:06:18.394Z"
   },
   {
    "duration": 716,
    "start_time": "2021-12-21T17:27:59.357Z"
   },
   {
    "duration": 816,
    "start_time": "2021-12-21T17:28:14.415Z"
   },
   {
    "duration": 43,
    "start_time": "2021-12-21T17:28:15.234Z"
   },
   {
    "duration": 44,
    "start_time": "2021-12-21T17:28:15.280Z"
   },
   {
    "duration": 53,
    "start_time": "2021-12-21T17:28:15.327Z"
   },
   {
    "duration": 43,
    "start_time": "2021-12-21T17:28:15.382Z"
   },
   {
    "duration": 138,
    "start_time": "2021-12-21T17:28:15.428Z"
   },
   {
    "duration": 180,
    "start_time": "2021-12-21T17:28:15.569Z"
   },
   {
    "duration": 209,
    "start_time": "2021-12-21T17:28:15.753Z"
   },
   {
    "duration": 37,
    "start_time": "2021-12-21T17:28:15.964Z"
   },
   {
    "duration": 74,
    "start_time": "2021-12-21T17:28:16.004Z"
   },
   {
    "duration": 11102,
    "start_time": "2021-12-21T17:28:16.080Z"
   },
   {
    "duration": 168,
    "start_time": "2021-12-21T17:28:27.185Z"
   },
   {
    "duration": 113,
    "start_time": "2021-12-21T17:28:27.356Z"
   },
   {
    "duration": 89,
    "start_time": "2021-12-21T17:28:58.595Z"
   },
   {
    "duration": 88,
    "start_time": "2021-12-21T17:30:32.917Z"
   },
   {
    "duration": 91,
    "start_time": "2021-12-21T17:30:37.368Z"
   },
   {
    "duration": 131,
    "start_time": "2021-12-21T17:31:04.498Z"
   },
   {
    "duration": 106,
    "start_time": "2021-12-21T17:31:19.027Z"
   },
   {
    "duration": 94,
    "start_time": "2021-12-21T17:31:50.890Z"
   },
   {
    "duration": 82,
    "start_time": "2021-12-21T17:32:54.866Z"
   },
   {
    "duration": 145,
    "start_time": "2021-12-21T17:34:57.806Z"
   },
   {
    "duration": 111,
    "start_time": "2021-12-21T17:35:10.272Z"
   },
   {
    "duration": 140,
    "start_time": "2021-12-21T17:35:30.343Z"
   },
   {
    "duration": 81,
    "start_time": "2021-12-21T17:35:38.624Z"
   },
   {
    "duration": 141,
    "start_time": "2021-12-21T17:36:06.826Z"
   },
   {
    "duration": 81,
    "start_time": "2021-12-21T17:36:17.104Z"
   },
   {
    "duration": 82,
    "start_time": "2021-12-21T17:43:34.493Z"
   },
   {
    "duration": 85,
    "start_time": "2021-12-21T17:50:29.447Z"
   },
   {
    "duration": 89,
    "start_time": "2021-12-21T18:04:59.446Z"
   },
   {
    "duration": 95,
    "start_time": "2021-12-21T18:05:16.868Z"
   },
   {
    "duration": 882,
    "start_time": "2021-12-21T18:05:39.560Z"
   },
   {
    "duration": 100,
    "start_time": "2021-12-21T18:05:52.758Z"
   },
   {
    "duration": 84,
    "start_time": "2021-12-21T18:05:59.510Z"
   },
   {
    "duration": 92,
    "start_time": "2021-12-21T18:06:05.077Z"
   },
   {
    "duration": 85,
    "start_time": "2021-12-21T18:09:59.160Z"
   },
   {
    "duration": 112,
    "start_time": "2021-12-21T18:10:10.856Z"
   },
   {
    "duration": 1001,
    "start_time": "2021-12-21T18:10:23.322Z"
   },
   {
    "duration": 50,
    "start_time": "2021-12-21T18:10:24.327Z"
   },
   {
    "duration": 86,
    "start_time": "2021-12-21T18:10:24.382Z"
   },
   {
    "duration": 27,
    "start_time": "2021-12-21T18:10:24.472Z"
   },
   {
    "duration": 76,
    "start_time": "2021-12-21T18:10:24.502Z"
   },
   {
    "duration": 162,
    "start_time": "2021-12-21T18:10:24.581Z"
   },
   {
    "duration": 240,
    "start_time": "2021-12-21T18:10:24.746Z"
   },
   {
    "duration": 246,
    "start_time": "2021-12-21T18:10:24.991Z"
   },
   {
    "duration": 73,
    "start_time": "2021-12-21T18:10:25.241Z"
   },
   {
    "duration": 83,
    "start_time": "2021-12-21T18:10:25.316Z"
   },
   {
    "duration": 10916,
    "start_time": "2021-12-21T18:10:25.401Z"
   },
   {
    "duration": 251,
    "start_time": "2021-12-21T18:10:36.320Z"
   },
   {
    "duration": 107,
    "start_time": "2021-12-21T18:10:36.575Z"
   },
   {
    "duration": 83,
    "start_time": "2021-12-21T18:10:50.148Z"
   },
   {
    "duration": 82,
    "start_time": "2021-12-21T18:11:04.216Z"
   },
   {
    "duration": 100,
    "start_time": "2021-12-21T18:11:29.407Z"
   },
   {
    "duration": 103,
    "start_time": "2021-12-21T18:11:40.369Z"
   },
   {
    "duration": 120,
    "start_time": "2021-12-21T18:12:52.026Z"
   },
   {
    "duration": 377,
    "start_time": "2021-12-21T18:13:14.303Z"
   },
   {
    "duration": 93,
    "start_time": "2021-12-21T18:13:32.744Z"
   },
   {
    "duration": 95,
    "start_time": "2021-12-21T18:13:42.856Z"
   },
   {
    "duration": 119,
    "start_time": "2021-12-21T18:14:02.979Z"
   },
   {
    "duration": 285,
    "start_time": "2021-12-21T18:14:15.564Z"
   },
   {
    "duration": 82,
    "start_time": "2021-12-21T18:14:29.042Z"
   },
   {
    "duration": 96,
    "start_time": "2021-12-21T18:14:37.088Z"
   },
   {
    "duration": 116,
    "start_time": "2021-12-21T18:15:07.143Z"
   },
   {
    "duration": 91,
    "start_time": "2021-12-21T18:15:25.888Z"
   },
   {
    "duration": 88,
    "start_time": "2021-12-21T18:17:21.964Z"
   },
   {
    "duration": 651,
    "start_time": "2021-12-22T08:43:31.475Z"
   },
   {
    "duration": 20,
    "start_time": "2021-12-22T08:43:32.128Z"
   },
   {
    "duration": 30,
    "start_time": "2021-12-22T08:43:33.047Z"
   },
   {
    "duration": 15,
    "start_time": "2021-12-22T08:43:33.520Z"
   },
   {
    "duration": 27,
    "start_time": "2021-12-22T08:43:33.991Z"
   },
   {
    "duration": 59,
    "start_time": "2021-12-22T08:43:34.279Z"
   },
   {
    "duration": 91,
    "start_time": "2021-12-22T08:43:34.599Z"
   },
   {
    "duration": 119,
    "start_time": "2021-12-22T08:43:34.783Z"
   },
   {
    "duration": 22,
    "start_time": "2021-12-22T08:43:36.223Z"
   },
   {
    "duration": 29,
    "start_time": "2021-12-22T08:43:37.118Z"
   },
   {
    "duration": 7023,
    "start_time": "2021-12-22T08:43:37.990Z"
   },
   {
    "duration": 163,
    "start_time": "2021-12-22T09:19:54.375Z"
   }
  ],
  "celltoolbar": "Необработанный формат ячейки",
  "kernelspec": {
   "display_name": "Python 3 (ipykernel)",
   "language": "python",
   "name": "python3"
  },
  "language_info": {
   "codemirror_mode": {
    "name": "ipython",
    "version": 3
   },
   "file_extension": ".py",
   "mimetype": "text/x-python",
   "name": "python",
   "nbconvert_exporter": "python",
   "pygments_lexer": "ipython3",
   "version": "3.9.13"
  },
  "toc": {
   "base_numbering": 1,
   "nav_menu": {
    "height": "229px",
    "width": "444px"
   },
   "number_sections": true,
   "sideBar": true,
   "skip_h1_title": true,
   "title_cell": "Table of Contents",
   "title_sidebar": "Contents",
   "toc_cell": false,
   "toc_position": {},
   "toc_section_display": true,
   "toc_window_display": false
  }
 },
 "nbformat": 4,
 "nbformat_minor": 2
}
