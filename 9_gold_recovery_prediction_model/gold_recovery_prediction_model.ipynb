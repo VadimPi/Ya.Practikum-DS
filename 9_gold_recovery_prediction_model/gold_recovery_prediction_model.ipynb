{
 "cells": [
  {
   "cell_type": "markdown",
   "metadata": {
    "toc": true
   },
   "source": [
    "<h1>Содержание<span class=\"tocSkip\"></span></h1>\n",
    "<div class=\"toc\"><ul class=\"toc-item\"><li><span><a href=\"#Подготовка-данных\" data-toc-modified-id=\"Подготовка-данных-1\"><span class=\"toc-item-num\">1&nbsp;&nbsp;</span>Подготовка данных</a></span><ul class=\"toc-item\"><li><span><a href=\"#Открываю-файлы\" data-toc-modified-id=\"Открываю-файлы-1.1\"><span class=\"toc-item-num\">1.1&nbsp;&nbsp;</span>Открываю файлы</a></span></li><li><span><a href=\"#Проверка,-что-эффективность-обогащения-рассчитана-правильно.\" data-toc-modified-id=\"Проверка,-что-эффективность-обогащения-рассчитана-правильно.-1.2\"><span class=\"toc-item-num\">1.2&nbsp;&nbsp;</span>Проверка, что эффективность обогащения рассчитана правильно.</a></span></li><li><span><a href=\"#Проанализируйте-признаки,-недоступные-в-тестовой-выборке.\" data-toc-modified-id=\"Проанализируйте-признаки,-недоступные-в-тестовой-выборке.-1.3\"><span class=\"toc-item-num\">1.3&nbsp;&nbsp;</span>Проанализируйте признаки, недоступные в тестовой выборке.</a></span></li><li><span><a href=\"#Проведите-предобработку-данных.\" data-toc-modified-id=\"Проведите-предобработку-данных.-1.4\"><span class=\"toc-item-num\">1.4&nbsp;&nbsp;</span>Проведите предобработку данных.</a></span></li></ul></li><li><span><a href=\"#Анализ-данных\" data-toc-modified-id=\"Анализ-данных-2\"><span class=\"toc-item-num\">2&nbsp;&nbsp;</span>Анализ данных</a></span><ul class=\"toc-item\"><li><span><a href=\"#Посмотрите,-как-меняется-концентрация-металлов-(Au,-Ag,-Pb)-на-различных-этапах-очистки.\" data-toc-modified-id=\"Посмотрите,-как-меняется-концентрация-металлов-(Au,-Ag,-Pb)-на-различных-этапах-очистки.-2.1\"><span class=\"toc-item-num\">2.1&nbsp;&nbsp;</span>Посмотрите, как меняется концентрация металлов (Au, Ag, Pb) на различных этапах очистки.</a></span></li><li><span><a href=\"#Сравните-распределения-размеров-гранул-сырья-на-обучающей-и-тестовой-выборках.-Если-распределения-сильно-отличаются-друг-от-друга,-оценка-модели-будет-неправильной.\" data-toc-modified-id=\"Сравните-распределения-размеров-гранул-сырья-на-обучающей-и-тестовой-выборках.-Если-распределения-сильно-отличаются-друг-от-друга,-оценка-модели-будет-неправильной.-2.2\"><span class=\"toc-item-num\">2.2&nbsp;&nbsp;</span>Сравните распределения размеров гранул сырья на обучающей и тестовой выборках. Если распределения сильно отличаются друг от друга, оценка модели будет неправильной.</a></span></li><li><span><a href=\"#Исследуйте-суммарную-концентрацию-всех-веществ-на-разных-стадиях:-в-сырье,-в-черновом-и-финальном-концентратах.\" data-toc-modified-id=\"Исследуйте-суммарную-концентрацию-всех-веществ-на-разных-стадиях:-в-сырье,-в-черновом-и-финальном-концентратах.-2.3\"><span class=\"toc-item-num\">2.3&nbsp;&nbsp;</span>Исследуйте суммарную концентрацию всех веществ на разных стадиях: в сырье, в черновом и финальном концентратах.</a></span></li></ul></li><li><span><a href=\"#Модель\" data-toc-modified-id=\"Модель-3\"><span class=\"toc-item-num\">3&nbsp;&nbsp;</span>Модель</a></span><ul class=\"toc-item\"><li><span><a href=\"#Напишите-функцию-для-вычисления-итоговой-sMAPE.\" data-toc-modified-id=\"Напишите-функцию-для-вычисления-итоговой-sMAPE.-3.1\"><span class=\"toc-item-num\">3.1&nbsp;&nbsp;</span>Напишите функцию для вычисления итоговой sMAPE.</a></span></li><li><span><a href=\"#Обучите-разные-модели-и-оцените-их-качество-кросс-валидацией.-Выберите-лучшую-модель-и-проверьте-её-на-тестовой-выборке.\" data-toc-modified-id=\"Обучите-разные-модели-и-оцените-их-качество-кросс-валидацией.-Выберите-лучшую-модель-и-проверьте-её-на-тестовой-выборке.-3.2\"><span class=\"toc-item-num\">3.2&nbsp;&nbsp;</span>Обучите разные модели и оцените их качество кросс-валидацией. Выберите лучшую модель и проверьте её на тестовой выборке.</a></span></li></ul></li><li><span><a href=\"#Вывод\" data-toc-modified-id=\"Вывод-4\"><span class=\"toc-item-num\">4&nbsp;&nbsp;</span>Вывод</a></span></li></ul></div>"
   ]
  },
  {
   "cell_type": "markdown",
   "metadata": {},
   "source": [
    "# Восстановление золота из руды"
   ]
  },
  {
   "cell_type": "markdown",
   "metadata": {},
   "source": [
    "Подготовьте прототип модели машинного обучения для «Цифры». Компания разрабатывает решения для эффективной работы промышленных предприятий.\n",
    "\n",
    "Модель должна предсказать коэффициент восстановления золота из золотосодержащей руды. Используйте данные с параметрами добычи и очистки. \n",
    "\n",
    "Модель поможет оптимизировать производство, чтобы не запускать предприятие с убыточными характеристиками.\n",
    "\n",
    "Вам нужно:\n",
    "\n",
    "1. Подготовить данные;\n",
    "2. Провести исследовательский анализ данных;\n",
    "3. Построить и обучить модель.\n",
    "\n",
    "Чтобы выполнить проект, обращайтесь к библиотекам *pandas*, *matplotlib* и *sklearn.* Вам поможет их документация."
   ]
  },
  {
   "cell_type": "markdown",
   "metadata": {},
   "source": [
    "## Подготовка данных"
   ]
  },
  {
   "cell_type": "markdown",
   "metadata": {},
   "source": [
    "### Открываю файлы"
   ]
  },
  {
   "cell_type": "code",
   "execution_count": 1,
   "metadata": {},
   "outputs": [],
   "source": [
    "import pandas as pd\n",
    "import numpy as np\n",
    "import matplotlib.pyplot as plt\n",
    "import seaborn as sns\n",
    "\n",
    "from sklearn.linear_model import LinearRegression\n",
    "from sklearn.ensemble import RandomForestRegressor\n",
    "from sklearn.tree import DecisionTreeRegressor\n",
    "\n",
    "\n",
    "from sklearn.model_selection import train_test_split, GridSearchCV, cross_val_score\n",
    "\n",
    "from sklearn.metrics import mean_absolute_error, make_scorer"
   ]
  },
  {
   "cell_type": "code",
   "execution_count": 2,
   "metadata": {
    "scrolled": true
   },
   "outputs": [
    {
     "data": {
      "text/html": [
       "<div>\n",
       "<style scoped>\n",
       "    .dataframe tbody tr th:only-of-type {\n",
       "        vertical-align: middle;\n",
       "    }\n",
       "\n",
       "    .dataframe tbody tr th {\n",
       "        vertical-align: top;\n",
       "    }\n",
       "\n",
       "    .dataframe thead th {\n",
       "        text-align: right;\n",
       "    }\n",
       "</style>\n",
       "<table border=\"1\" class=\"dataframe\">\n",
       "  <thead>\n",
       "    <tr style=\"text-align: right;\">\n",
       "      <th></th>\n",
       "      <th>date</th>\n",
       "      <th>final.output.concentrate_ag</th>\n",
       "      <th>final.output.concentrate_pb</th>\n",
       "      <th>final.output.concentrate_sol</th>\n",
       "      <th>final.output.concentrate_au</th>\n",
       "      <th>final.output.recovery</th>\n",
       "      <th>final.output.tail_ag</th>\n",
       "      <th>final.output.tail_pb</th>\n",
       "      <th>final.output.tail_sol</th>\n",
       "      <th>final.output.tail_au</th>\n",
       "      <th>...</th>\n",
       "      <th>secondary_cleaner.state.floatbank4_a_air</th>\n",
       "      <th>secondary_cleaner.state.floatbank4_a_level</th>\n",
       "      <th>secondary_cleaner.state.floatbank4_b_air</th>\n",
       "      <th>secondary_cleaner.state.floatbank4_b_level</th>\n",
       "      <th>secondary_cleaner.state.floatbank5_a_air</th>\n",
       "      <th>secondary_cleaner.state.floatbank5_a_level</th>\n",
       "      <th>secondary_cleaner.state.floatbank5_b_air</th>\n",
       "      <th>secondary_cleaner.state.floatbank5_b_level</th>\n",
       "      <th>secondary_cleaner.state.floatbank6_a_air</th>\n",
       "      <th>secondary_cleaner.state.floatbank6_a_level</th>\n",
       "    </tr>\n",
       "  </thead>\n",
       "  <tbody>\n",
       "    <tr>\n",
       "      <th>0</th>\n",
       "      <td>2016-01-15 00:00:00</td>\n",
       "      <td>6.055403</td>\n",
       "      <td>9.889648</td>\n",
       "      <td>5.507324</td>\n",
       "      <td>42.192020</td>\n",
       "      <td>70.541216</td>\n",
       "      <td>10.411962</td>\n",
       "      <td>0.895447</td>\n",
       "      <td>16.904297</td>\n",
       "      <td>2.143149</td>\n",
       "      <td>...</td>\n",
       "      <td>14.016835</td>\n",
       "      <td>-502.488007</td>\n",
       "      <td>12.099931</td>\n",
       "      <td>-504.715942</td>\n",
       "      <td>9.925633</td>\n",
       "      <td>-498.310211</td>\n",
       "      <td>8.079666</td>\n",
       "      <td>-500.470978</td>\n",
       "      <td>14.151341</td>\n",
       "      <td>-605.841980</td>\n",
       "    </tr>\n",
       "    <tr>\n",
       "      <th>1</th>\n",
       "      <td>2016-01-15 01:00:00</td>\n",
       "      <td>6.029369</td>\n",
       "      <td>9.968944</td>\n",
       "      <td>5.257781</td>\n",
       "      <td>42.701629</td>\n",
       "      <td>69.266198</td>\n",
       "      <td>10.462676</td>\n",
       "      <td>0.927452</td>\n",
       "      <td>16.634514</td>\n",
       "      <td>2.224930</td>\n",
       "      <td>...</td>\n",
       "      <td>13.992281</td>\n",
       "      <td>-505.503262</td>\n",
       "      <td>11.950531</td>\n",
       "      <td>-501.331529</td>\n",
       "      <td>10.039245</td>\n",
       "      <td>-500.169983</td>\n",
       "      <td>7.984757</td>\n",
       "      <td>-500.582168</td>\n",
       "      <td>13.998353</td>\n",
       "      <td>-599.787184</td>\n",
       "    </tr>\n",
       "    <tr>\n",
       "      <th>2</th>\n",
       "      <td>2016-01-15 02:00:00</td>\n",
       "      <td>6.055926</td>\n",
       "      <td>10.213995</td>\n",
       "      <td>5.383759</td>\n",
       "      <td>42.657501</td>\n",
       "      <td>68.116445</td>\n",
       "      <td>10.507046</td>\n",
       "      <td>0.953716</td>\n",
       "      <td>16.208849</td>\n",
       "      <td>2.257889</td>\n",
       "      <td>...</td>\n",
       "      <td>14.015015</td>\n",
       "      <td>-502.520901</td>\n",
       "      <td>11.912783</td>\n",
       "      <td>-501.133383</td>\n",
       "      <td>10.070913</td>\n",
       "      <td>-500.129135</td>\n",
       "      <td>8.013877</td>\n",
       "      <td>-500.517572</td>\n",
       "      <td>14.028663</td>\n",
       "      <td>-601.427363</td>\n",
       "    </tr>\n",
       "    <tr>\n",
       "      <th>3</th>\n",
       "      <td>2016-01-15 03:00:00</td>\n",
       "      <td>6.047977</td>\n",
       "      <td>9.977019</td>\n",
       "      <td>4.858634</td>\n",
       "      <td>42.689819</td>\n",
       "      <td>68.347543</td>\n",
       "      <td>10.422762</td>\n",
       "      <td>0.883763</td>\n",
       "      <td>16.532835</td>\n",
       "      <td>2.146849</td>\n",
       "      <td>...</td>\n",
       "      <td>14.036510</td>\n",
       "      <td>-500.857308</td>\n",
       "      <td>11.999550</td>\n",
       "      <td>-501.193686</td>\n",
       "      <td>9.970366</td>\n",
       "      <td>-499.201640</td>\n",
       "      <td>7.977324</td>\n",
       "      <td>-500.255908</td>\n",
       "      <td>14.005551</td>\n",
       "      <td>-599.996129</td>\n",
       "    </tr>\n",
       "    <tr>\n",
       "      <th>4</th>\n",
       "      <td>2016-01-15 04:00:00</td>\n",
       "      <td>6.148599</td>\n",
       "      <td>10.142511</td>\n",
       "      <td>4.939416</td>\n",
       "      <td>42.774141</td>\n",
       "      <td>66.927016</td>\n",
       "      <td>10.360302</td>\n",
       "      <td>0.792826</td>\n",
       "      <td>16.525686</td>\n",
       "      <td>2.055292</td>\n",
       "      <td>...</td>\n",
       "      <td>14.027298</td>\n",
       "      <td>-499.838632</td>\n",
       "      <td>11.953070</td>\n",
       "      <td>-501.053894</td>\n",
       "      <td>9.925709</td>\n",
       "      <td>-501.686727</td>\n",
       "      <td>7.894242</td>\n",
       "      <td>-500.356035</td>\n",
       "      <td>13.996647</td>\n",
       "      <td>-601.496691</td>\n",
       "    </tr>\n",
       "    <tr>\n",
       "      <th>5</th>\n",
       "      <td>2016-01-15 05:00:00</td>\n",
       "      <td>6.482968</td>\n",
       "      <td>10.049416</td>\n",
       "      <td>5.480257</td>\n",
       "      <td>41.633678</td>\n",
       "      <td>69.465816</td>\n",
       "      <td>10.182708</td>\n",
       "      <td>0.664118</td>\n",
       "      <td>16.999638</td>\n",
       "      <td>1.918586</td>\n",
       "      <td>...</td>\n",
       "      <td>13.938497</td>\n",
       "      <td>-500.970168</td>\n",
       "      <td>11.883350</td>\n",
       "      <td>-500.395298</td>\n",
       "      <td>10.054147</td>\n",
       "      <td>-496.374715</td>\n",
       "      <td>7.965083</td>\n",
       "      <td>-499.364752</td>\n",
       "      <td>14.017067</td>\n",
       "      <td>-599.707915</td>\n",
       "    </tr>\n",
       "    <tr>\n",
       "      <th>6</th>\n",
       "      <td>2016-01-15 06:00:00</td>\n",
       "      <td>6.533849</td>\n",
       "      <td>10.058141</td>\n",
       "      <td>4.569100</td>\n",
       "      <td>41.995316</td>\n",
       "      <td>69.300835</td>\n",
       "      <td>10.304598</td>\n",
       "      <td>0.807342</td>\n",
       "      <td>16.723575</td>\n",
       "      <td>2.058913</td>\n",
       "      <td>...</td>\n",
       "      <td>14.046819</td>\n",
       "      <td>-500.971133</td>\n",
       "      <td>12.091543</td>\n",
       "      <td>-500.501426</td>\n",
       "      <td>10.003247</td>\n",
       "      <td>-497.083180</td>\n",
       "      <td>8.010890</td>\n",
       "      <td>-500.002423</td>\n",
       "      <td>14.029649</td>\n",
       "      <td>-600.905470</td>\n",
       "    </tr>\n",
       "    <tr>\n",
       "      <th>7</th>\n",
       "      <td>2016-01-15 07:00:00</td>\n",
       "      <td>6.130823</td>\n",
       "      <td>9.935481</td>\n",
       "      <td>4.389813</td>\n",
       "      <td>42.452727</td>\n",
       "      <td>70.230976</td>\n",
       "      <td>10.443288</td>\n",
       "      <td>0.949346</td>\n",
       "      <td>16.689959</td>\n",
       "      <td>2.143437</td>\n",
       "      <td>...</td>\n",
       "      <td>13.974691</td>\n",
       "      <td>-501.819696</td>\n",
       "      <td>12.101324</td>\n",
       "      <td>-500.583446</td>\n",
       "      <td>9.873169</td>\n",
       "      <td>-499.171928</td>\n",
       "      <td>7.993381</td>\n",
       "      <td>-499.794518</td>\n",
       "      <td>13.984498</td>\n",
       "      <td>-600.411070</td>\n",
       "    </tr>\n",
       "    <tr>\n",
       "      <th>8</th>\n",
       "      <td>2016-01-15 08:00:00</td>\n",
       "      <td>5.834140</td>\n",
       "      <td>10.071156</td>\n",
       "      <td>4.876389</td>\n",
       "      <td>43.404078</td>\n",
       "      <td>69.688595</td>\n",
       "      <td>10.420140</td>\n",
       "      <td>1.065453</td>\n",
       "      <td>17.201948</td>\n",
       "      <td>2.209881</td>\n",
       "      <td>...</td>\n",
       "      <td>13.964030</td>\n",
       "      <td>-504.252450</td>\n",
       "      <td>12.060738</td>\n",
       "      <td>-501.174549</td>\n",
       "      <td>10.033838</td>\n",
       "      <td>-501.178133</td>\n",
       "      <td>7.881604</td>\n",
       "      <td>-499.729434</td>\n",
       "      <td>13.967135</td>\n",
       "      <td>-599.061188</td>\n",
       "    </tr>\n",
       "    <tr>\n",
       "      <th>9</th>\n",
       "      <td>2016-01-15 09:00:00</td>\n",
       "      <td>5.687063</td>\n",
       "      <td>9.980404</td>\n",
       "      <td>5.282514</td>\n",
       "      <td>43.235220</td>\n",
       "      <td>70.279619</td>\n",
       "      <td>10.487013</td>\n",
       "      <td>1.159805</td>\n",
       "      <td>17.483979</td>\n",
       "      <td>2.209593</td>\n",
       "      <td>...</td>\n",
       "      <td>13.989632</td>\n",
       "      <td>-503.195299</td>\n",
       "      <td>12.052233</td>\n",
       "      <td>-500.928547</td>\n",
       "      <td>9.962574</td>\n",
       "      <td>-502.986357</td>\n",
       "      <td>7.979219</td>\n",
       "      <td>-500.146835</td>\n",
       "      <td>13.981614</td>\n",
       "      <td>-598.070855</td>\n",
       "    </tr>\n",
       "  </tbody>\n",
       "</table>\n",
       "<p>10 rows × 87 columns</p>\n",
       "</div>"
      ],
      "text/plain": [
       "                  date  final.output.concentrate_ag  \\\n",
       "0  2016-01-15 00:00:00                     6.055403   \n",
       "1  2016-01-15 01:00:00                     6.029369   \n",
       "2  2016-01-15 02:00:00                     6.055926   \n",
       "3  2016-01-15 03:00:00                     6.047977   \n",
       "4  2016-01-15 04:00:00                     6.148599   \n",
       "5  2016-01-15 05:00:00                     6.482968   \n",
       "6  2016-01-15 06:00:00                     6.533849   \n",
       "7  2016-01-15 07:00:00                     6.130823   \n",
       "8  2016-01-15 08:00:00                     5.834140   \n",
       "9  2016-01-15 09:00:00                     5.687063   \n",
       "\n",
       "   final.output.concentrate_pb  final.output.concentrate_sol  \\\n",
       "0                     9.889648                      5.507324   \n",
       "1                     9.968944                      5.257781   \n",
       "2                    10.213995                      5.383759   \n",
       "3                     9.977019                      4.858634   \n",
       "4                    10.142511                      4.939416   \n",
       "5                    10.049416                      5.480257   \n",
       "6                    10.058141                      4.569100   \n",
       "7                     9.935481                      4.389813   \n",
       "8                    10.071156                      4.876389   \n",
       "9                     9.980404                      5.282514   \n",
       "\n",
       "   final.output.concentrate_au  final.output.recovery  final.output.tail_ag  \\\n",
       "0                    42.192020              70.541216             10.411962   \n",
       "1                    42.701629              69.266198             10.462676   \n",
       "2                    42.657501              68.116445             10.507046   \n",
       "3                    42.689819              68.347543             10.422762   \n",
       "4                    42.774141              66.927016             10.360302   \n",
       "5                    41.633678              69.465816             10.182708   \n",
       "6                    41.995316              69.300835             10.304598   \n",
       "7                    42.452727              70.230976             10.443288   \n",
       "8                    43.404078              69.688595             10.420140   \n",
       "9                    43.235220              70.279619             10.487013   \n",
       "\n",
       "   final.output.tail_pb  final.output.tail_sol  final.output.tail_au  ...  \\\n",
       "0              0.895447              16.904297              2.143149  ...   \n",
       "1              0.927452              16.634514              2.224930  ...   \n",
       "2              0.953716              16.208849              2.257889  ...   \n",
       "3              0.883763              16.532835              2.146849  ...   \n",
       "4              0.792826              16.525686              2.055292  ...   \n",
       "5              0.664118              16.999638              1.918586  ...   \n",
       "6              0.807342              16.723575              2.058913  ...   \n",
       "7              0.949346              16.689959              2.143437  ...   \n",
       "8              1.065453              17.201948              2.209881  ...   \n",
       "9              1.159805              17.483979              2.209593  ...   \n",
       "\n",
       "   secondary_cleaner.state.floatbank4_a_air  \\\n",
       "0                                 14.016835   \n",
       "1                                 13.992281   \n",
       "2                                 14.015015   \n",
       "3                                 14.036510   \n",
       "4                                 14.027298   \n",
       "5                                 13.938497   \n",
       "6                                 14.046819   \n",
       "7                                 13.974691   \n",
       "8                                 13.964030   \n",
       "9                                 13.989632   \n",
       "\n",
       "   secondary_cleaner.state.floatbank4_a_level  \\\n",
       "0                                 -502.488007   \n",
       "1                                 -505.503262   \n",
       "2                                 -502.520901   \n",
       "3                                 -500.857308   \n",
       "4                                 -499.838632   \n",
       "5                                 -500.970168   \n",
       "6                                 -500.971133   \n",
       "7                                 -501.819696   \n",
       "8                                 -504.252450   \n",
       "9                                 -503.195299   \n",
       "\n",
       "   secondary_cleaner.state.floatbank4_b_air  \\\n",
       "0                                 12.099931   \n",
       "1                                 11.950531   \n",
       "2                                 11.912783   \n",
       "3                                 11.999550   \n",
       "4                                 11.953070   \n",
       "5                                 11.883350   \n",
       "6                                 12.091543   \n",
       "7                                 12.101324   \n",
       "8                                 12.060738   \n",
       "9                                 12.052233   \n",
       "\n",
       "   secondary_cleaner.state.floatbank4_b_level  \\\n",
       "0                                 -504.715942   \n",
       "1                                 -501.331529   \n",
       "2                                 -501.133383   \n",
       "3                                 -501.193686   \n",
       "4                                 -501.053894   \n",
       "5                                 -500.395298   \n",
       "6                                 -500.501426   \n",
       "7                                 -500.583446   \n",
       "8                                 -501.174549   \n",
       "9                                 -500.928547   \n",
       "\n",
       "   secondary_cleaner.state.floatbank5_a_air  \\\n",
       "0                                  9.925633   \n",
       "1                                 10.039245   \n",
       "2                                 10.070913   \n",
       "3                                  9.970366   \n",
       "4                                  9.925709   \n",
       "5                                 10.054147   \n",
       "6                                 10.003247   \n",
       "7                                  9.873169   \n",
       "8                                 10.033838   \n",
       "9                                  9.962574   \n",
       "\n",
       "   secondary_cleaner.state.floatbank5_a_level  \\\n",
       "0                                 -498.310211   \n",
       "1                                 -500.169983   \n",
       "2                                 -500.129135   \n",
       "3                                 -499.201640   \n",
       "4                                 -501.686727   \n",
       "5                                 -496.374715   \n",
       "6                                 -497.083180   \n",
       "7                                 -499.171928   \n",
       "8                                 -501.178133   \n",
       "9                                 -502.986357   \n",
       "\n",
       "   secondary_cleaner.state.floatbank5_b_air  \\\n",
       "0                                  8.079666   \n",
       "1                                  7.984757   \n",
       "2                                  8.013877   \n",
       "3                                  7.977324   \n",
       "4                                  7.894242   \n",
       "5                                  7.965083   \n",
       "6                                  8.010890   \n",
       "7                                  7.993381   \n",
       "8                                  7.881604   \n",
       "9                                  7.979219   \n",
       "\n",
       "   secondary_cleaner.state.floatbank5_b_level  \\\n",
       "0                                 -500.470978   \n",
       "1                                 -500.582168   \n",
       "2                                 -500.517572   \n",
       "3                                 -500.255908   \n",
       "4                                 -500.356035   \n",
       "5                                 -499.364752   \n",
       "6                                 -500.002423   \n",
       "7                                 -499.794518   \n",
       "8                                 -499.729434   \n",
       "9                                 -500.146835   \n",
       "\n",
       "   secondary_cleaner.state.floatbank6_a_air  \\\n",
       "0                                 14.151341   \n",
       "1                                 13.998353   \n",
       "2                                 14.028663   \n",
       "3                                 14.005551   \n",
       "4                                 13.996647   \n",
       "5                                 14.017067   \n",
       "6                                 14.029649   \n",
       "7                                 13.984498   \n",
       "8                                 13.967135   \n",
       "9                                 13.981614   \n",
       "\n",
       "   secondary_cleaner.state.floatbank6_a_level  \n",
       "0                                 -605.841980  \n",
       "1                                 -599.787184  \n",
       "2                                 -601.427363  \n",
       "3                                 -599.996129  \n",
       "4                                 -601.496691  \n",
       "5                                 -599.707915  \n",
       "6                                 -600.905470  \n",
       "7                                 -600.411070  \n",
       "8                                 -599.061188  \n",
       "9                                 -598.070855  \n",
       "\n",
       "[10 rows x 87 columns]"
      ]
     },
     "metadata": {},
     "output_type": "display_data"
    },
    {
     "name": "stdout",
     "output_type": "stream",
     "text": [
      "<class 'pandas.core.frame.DataFrame'>\n",
      "RangeIndex: 14149 entries, 0 to 14148\n",
      "Data columns (total 87 columns):\n",
      " #   Column                                              Non-Null Count  Dtype  \n",
      "---  ------                                              --------------  -----  \n",
      " 0   date                                                14149 non-null  object \n",
      " 1   final.output.concentrate_ag                         14148 non-null  float64\n",
      " 2   final.output.concentrate_pb                         14148 non-null  float64\n",
      " 3   final.output.concentrate_sol                        13938 non-null  float64\n",
      " 4   final.output.concentrate_au                         14149 non-null  float64\n",
      " 5   final.output.recovery                               14149 non-null  float64\n",
      " 6   final.output.tail_ag                                14149 non-null  float64\n",
      " 7   final.output.tail_pb                                14049 non-null  float64\n",
      " 8   final.output.tail_sol                               14144 non-null  float64\n",
      " 9   final.output.tail_au                                14149 non-null  float64\n",
      " 10  primary_cleaner.input.sulfate                       14129 non-null  float64\n",
      " 11  primary_cleaner.input.depressant                    14117 non-null  float64\n",
      " 12  primary_cleaner.input.feed_size                     14149 non-null  float64\n",
      " 13  primary_cleaner.input.xanthate                      14049 non-null  float64\n",
      " 14  primary_cleaner.output.concentrate_ag               14149 non-null  float64\n",
      " 15  primary_cleaner.output.concentrate_pb               14063 non-null  float64\n",
      " 16  primary_cleaner.output.concentrate_sol              13863 non-null  float64\n",
      " 17  primary_cleaner.output.concentrate_au               14149 non-null  float64\n",
      " 18  primary_cleaner.output.tail_ag                      14148 non-null  float64\n",
      " 19  primary_cleaner.output.tail_pb                      14134 non-null  float64\n",
      " 20  primary_cleaner.output.tail_sol                     14103 non-null  float64\n",
      " 21  primary_cleaner.output.tail_au                      14149 non-null  float64\n",
      " 22  primary_cleaner.state.floatbank8_a_air              14145 non-null  float64\n",
      " 23  primary_cleaner.state.floatbank8_a_level            14148 non-null  float64\n",
      " 24  primary_cleaner.state.floatbank8_b_air              14145 non-null  float64\n",
      " 25  primary_cleaner.state.floatbank8_b_level            14148 non-null  float64\n",
      " 26  primary_cleaner.state.floatbank8_c_air              14147 non-null  float64\n",
      " 27  primary_cleaner.state.floatbank8_c_level            14148 non-null  float64\n",
      " 28  primary_cleaner.state.floatbank8_d_air              14146 non-null  float64\n",
      " 29  primary_cleaner.state.floatbank8_d_level            14148 non-null  float64\n",
      " 30  rougher.calculation.sulfate_to_au_concentrate       14148 non-null  float64\n",
      " 31  rougher.calculation.floatbank10_sulfate_to_au_feed  14148 non-null  float64\n",
      " 32  rougher.calculation.floatbank11_sulfate_to_au_feed  14148 non-null  float64\n",
      " 33  rougher.calculation.au_pb_ratio                     14149 non-null  float64\n",
      " 34  rougher.input.feed_ag                               14149 non-null  float64\n",
      " 35  rougher.input.feed_pb                               14049 non-null  float64\n",
      " 36  rougher.input.feed_rate                             14141 non-null  float64\n",
      " 37  rougher.input.feed_size                             14005 non-null  float64\n",
      " 38  rougher.input.feed_sol                              14071 non-null  float64\n",
      " 39  rougher.input.feed_au                               14149 non-null  float64\n",
      " 40  rougher.input.floatbank10_sulfate                   14120 non-null  float64\n",
      " 41  rougher.input.floatbank10_xanthate                  14141 non-null  float64\n",
      " 42  rougher.input.floatbank11_sulfate                   14113 non-null  float64\n",
      " 43  rougher.input.floatbank11_xanthate                  13721 non-null  float64\n",
      " 44  rougher.output.concentrate_ag                       14149 non-null  float64\n",
      " 45  rougher.output.concentrate_pb                       14149 non-null  float64\n",
      " 46  rougher.output.concentrate_sol                      14127 non-null  float64\n",
      " 47  rougher.output.concentrate_au                       14149 non-null  float64\n",
      " 48  rougher.output.recovery                             14149 non-null  float64\n",
      " 49  rougher.output.tail_ag                              14148 non-null  float64\n",
      " 50  rougher.output.tail_pb                              14149 non-null  float64\n",
      " 51  rougher.output.tail_sol                             14149 non-null  float64\n",
      " 52  rougher.output.tail_au                              14149 non-null  float64\n",
      " 53  rougher.state.floatbank10_a_air                     14148 non-null  float64\n",
      " 54  rougher.state.floatbank10_a_level                   14148 non-null  float64\n",
      " 55  rougher.state.floatbank10_b_air                     14148 non-null  float64\n",
      " 56  rougher.state.floatbank10_b_level                   14148 non-null  float64\n",
      " 57  rougher.state.floatbank10_c_air                     14148 non-null  float64\n",
      " 58  rougher.state.floatbank10_c_level                   14148 non-null  float64\n",
      " 59  rougher.state.floatbank10_d_air                     14149 non-null  float64\n",
      " 60  rougher.state.floatbank10_d_level                   14149 non-null  float64\n",
      " 61  rougher.state.floatbank10_e_air                     13713 non-null  float64\n",
      " 62  rougher.state.floatbank10_e_level                   14149 non-null  float64\n",
      " 63  rougher.state.floatbank10_f_air                     14149 non-null  float64\n",
      " 64  rougher.state.floatbank10_f_level                   14149 non-null  float64\n",
      " 65  secondary_cleaner.output.tail_ag                    14147 non-null  float64\n",
      " 66  secondary_cleaner.output.tail_pb                    14139 non-null  float64\n",
      " 67  secondary_cleaner.output.tail_sol                   12544 non-null  float64\n",
      " 68  secondary_cleaner.output.tail_au                    14149 non-null  float64\n",
      " 69  secondary_cleaner.state.floatbank2_a_air            13932 non-null  float64\n",
      " 70  secondary_cleaner.state.floatbank2_a_level          14148 non-null  float64\n",
      " 71  secondary_cleaner.state.floatbank2_b_air            14128 non-null  float64\n",
      " 72  secondary_cleaner.state.floatbank2_b_level          14148 non-null  float64\n",
      " 73  secondary_cleaner.state.floatbank3_a_air            14145 non-null  float64\n",
      " 74  secondary_cleaner.state.floatbank3_a_level          14148 non-null  float64\n",
      " 75  secondary_cleaner.state.floatbank3_b_air            14148 non-null  float64\n",
      " 76  secondary_cleaner.state.floatbank3_b_level          14148 non-null  float64\n",
      " 77  secondary_cleaner.state.floatbank4_a_air            14143 non-null  float64\n",
      " 78  secondary_cleaner.state.floatbank4_a_level          14148 non-null  float64\n",
      " 79  secondary_cleaner.state.floatbank4_b_air            14148 non-null  float64\n",
      " 80  secondary_cleaner.state.floatbank4_b_level          14148 non-null  float64\n",
      " 81  secondary_cleaner.state.floatbank5_a_air            14148 non-null  float64\n",
      " 82  secondary_cleaner.state.floatbank5_a_level          14148 non-null  float64\n",
      " 83  secondary_cleaner.state.floatbank5_b_air            14148 non-null  float64\n",
      " 84  secondary_cleaner.state.floatbank5_b_level          14148 non-null  float64\n",
      " 85  secondary_cleaner.state.floatbank6_a_air            14147 non-null  float64\n",
      " 86  secondary_cleaner.state.floatbank6_a_level          14148 non-null  float64\n",
      "dtypes: float64(86), object(1)\n",
      "memory usage: 9.4+ MB\n",
      "None\n",
      "date                                            0\n",
      "final.output.concentrate_ag                     1\n",
      "final.output.concentrate_pb                     1\n",
      "final.output.concentrate_sol                  211\n",
      "final.output.concentrate_au                     0\n",
      "                                             ... \n",
      "secondary_cleaner.state.floatbank5_a_level      1\n",
      "secondary_cleaner.state.floatbank5_b_air        1\n",
      "secondary_cleaner.state.floatbank5_b_level      1\n",
      "secondary_cleaner.state.floatbank6_a_air        2\n",
      "secondary_cleaner.state.floatbank6_a_level      1\n",
      "Length: 87, dtype: int64\n",
      "<class 'pandas.core.frame.DataFrame'>\n",
      "RangeIndex: 14149 entries, 0 to 14148\n",
      "Data columns (total 87 columns):\n",
      " #   Column                                              Non-Null Count  Dtype  \n",
      "---  ------                                              --------------  -----  \n",
      " 0   date                                                14149 non-null  object \n",
      " 1   final.output.concentrate_ag                         14148 non-null  float64\n",
      " 2   final.output.concentrate_pb                         14148 non-null  float64\n",
      " 3   final.output.concentrate_sol                        13938 non-null  float64\n",
      " 4   final.output.concentrate_au                         14149 non-null  float64\n",
      " 5   final.output.recovery                               14149 non-null  float64\n",
      " 6   final.output.tail_ag                                14149 non-null  float64\n",
      " 7   final.output.tail_pb                                14049 non-null  float64\n",
      " 8   final.output.tail_sol                               14144 non-null  float64\n",
      " 9   final.output.tail_au                                14149 non-null  float64\n",
      " 10  primary_cleaner.input.sulfate                       14129 non-null  float64\n",
      " 11  primary_cleaner.input.depressant                    14117 non-null  float64\n",
      " 12  primary_cleaner.input.feed_size                     14149 non-null  float64\n",
      " 13  primary_cleaner.input.xanthate                      14049 non-null  float64\n",
      " 14  primary_cleaner.output.concentrate_ag               14149 non-null  float64\n",
      " 15  primary_cleaner.output.concentrate_pb               14063 non-null  float64\n",
      " 16  primary_cleaner.output.concentrate_sol              13863 non-null  float64\n",
      " 17  primary_cleaner.output.concentrate_au               14149 non-null  float64\n",
      " 18  primary_cleaner.output.tail_ag                      14148 non-null  float64\n",
      " 19  primary_cleaner.output.tail_pb                      14134 non-null  float64\n",
      " 20  primary_cleaner.output.tail_sol                     14103 non-null  float64\n",
      " 21  primary_cleaner.output.tail_au                      14149 non-null  float64\n",
      " 22  primary_cleaner.state.floatbank8_a_air              14145 non-null  float64\n",
      " 23  primary_cleaner.state.floatbank8_a_level            14148 non-null  float64\n",
      " 24  primary_cleaner.state.floatbank8_b_air              14145 non-null  float64\n",
      " 25  primary_cleaner.state.floatbank8_b_level            14148 non-null  float64\n",
      " 26  primary_cleaner.state.floatbank8_c_air              14147 non-null  float64\n",
      " 27  primary_cleaner.state.floatbank8_c_level            14148 non-null  float64\n",
      " 28  primary_cleaner.state.floatbank8_d_air              14146 non-null  float64\n",
      " 29  primary_cleaner.state.floatbank8_d_level            14148 non-null  float64\n",
      " 30  rougher.calculation.sulfate_to_au_concentrate       14148 non-null  float64\n",
      " 31  rougher.calculation.floatbank10_sulfate_to_au_feed  14148 non-null  float64\n",
      " 32  rougher.calculation.floatbank11_sulfate_to_au_feed  14148 non-null  float64\n",
      " 33  rougher.calculation.au_pb_ratio                     14149 non-null  float64\n",
      " 34  rougher.input.feed_ag                               14149 non-null  float64\n",
      " 35  rougher.input.feed_pb                               14049 non-null  float64\n",
      " 36  rougher.input.feed_rate                             14141 non-null  float64\n",
      " 37  rougher.input.feed_size                             14005 non-null  float64\n",
      " 38  rougher.input.feed_sol                              14071 non-null  float64\n",
      " 39  rougher.input.feed_au                               14149 non-null  float64\n",
      " 40  rougher.input.floatbank10_sulfate                   14120 non-null  float64\n",
      " 41  rougher.input.floatbank10_xanthate                  14141 non-null  float64\n",
      " 42  rougher.input.floatbank11_sulfate                   14113 non-null  float64\n",
      " 43  rougher.input.floatbank11_xanthate                  13721 non-null  float64\n",
      " 44  rougher.output.concentrate_ag                       14149 non-null  float64\n",
      " 45  rougher.output.concentrate_pb                       14149 non-null  float64\n",
      " 46  rougher.output.concentrate_sol                      14127 non-null  float64\n",
      " 47  rougher.output.concentrate_au                       14149 non-null  float64\n",
      " 48  rougher.output.recovery                             14149 non-null  float64\n",
      " 49  rougher.output.tail_ag                              14148 non-null  float64\n",
      " 50  rougher.output.tail_pb                              14149 non-null  float64\n",
      " 51  rougher.output.tail_sol                             14149 non-null  float64\n",
      " 52  rougher.output.tail_au                              14149 non-null  float64\n",
      " 53  rougher.state.floatbank10_a_air                     14148 non-null  float64\n",
      " 54  rougher.state.floatbank10_a_level                   14148 non-null  float64\n",
      " 55  rougher.state.floatbank10_b_air                     14148 non-null  float64\n",
      " 56  rougher.state.floatbank10_b_level                   14148 non-null  float64\n",
      " 57  rougher.state.floatbank10_c_air                     14148 non-null  float64\n",
      " 58  rougher.state.floatbank10_c_level                   14148 non-null  float64\n",
      " 59  rougher.state.floatbank10_d_air                     14149 non-null  float64\n",
      " 60  rougher.state.floatbank10_d_level                   14149 non-null  float64\n",
      " 61  rougher.state.floatbank10_e_air                     13713 non-null  float64\n",
      " 62  rougher.state.floatbank10_e_level                   14149 non-null  float64\n",
      " 63  rougher.state.floatbank10_f_air                     14149 non-null  float64\n",
      " 64  rougher.state.floatbank10_f_level                   14149 non-null  float64\n",
      " 65  secondary_cleaner.output.tail_ag                    14147 non-null  float64\n",
      " 66  secondary_cleaner.output.tail_pb                    14139 non-null  float64\n",
      " 67  secondary_cleaner.output.tail_sol                   12544 non-null  float64\n",
      " 68  secondary_cleaner.output.tail_au                    14149 non-null  float64\n",
      " 69  secondary_cleaner.state.floatbank2_a_air            13932 non-null  float64\n",
      " 70  secondary_cleaner.state.floatbank2_a_level          14148 non-null  float64\n",
      " 71  secondary_cleaner.state.floatbank2_b_air            14128 non-null  float64\n",
      " 72  secondary_cleaner.state.floatbank2_b_level          14148 non-null  float64\n",
      " 73  secondary_cleaner.state.floatbank3_a_air            14145 non-null  float64\n",
      " 74  secondary_cleaner.state.floatbank3_a_level          14148 non-null  float64\n",
      " 75  secondary_cleaner.state.floatbank3_b_air            14148 non-null  float64\n",
      " 76  secondary_cleaner.state.floatbank3_b_level          14148 non-null  float64\n",
      " 77  secondary_cleaner.state.floatbank4_a_air            14143 non-null  float64\n",
      " 78  secondary_cleaner.state.floatbank4_a_level          14148 non-null  float64\n",
      " 79  secondary_cleaner.state.floatbank4_b_air            14148 non-null  float64\n",
      " 80  secondary_cleaner.state.floatbank4_b_level          14148 non-null  float64\n",
      " 81  secondary_cleaner.state.floatbank5_a_air            14148 non-null  float64\n",
      " 82  secondary_cleaner.state.floatbank5_a_level          14148 non-null  float64\n",
      " 83  secondary_cleaner.state.floatbank5_b_air            14148 non-null  float64\n",
      " 84  secondary_cleaner.state.floatbank5_b_level          14148 non-null  float64\n",
      " 85  secondary_cleaner.state.floatbank6_a_air            14147 non-null  float64\n",
      " 86  secondary_cleaner.state.floatbank6_a_level          14148 non-null  float64\n",
      "dtypes: float64(86), object(1)\n",
      "memory usage: 9.4+ MB\n",
      "None\n"
     ]
    },
    {
     "data": {
      "text/html": [
       "<div>\n",
       "<style scoped>\n",
       "    .dataframe tbody tr th:only-of-type {\n",
       "        vertical-align: middle;\n",
       "    }\n",
       "\n",
       "    .dataframe tbody tr th {\n",
       "        vertical-align: top;\n",
       "    }\n",
       "\n",
       "    .dataframe thead th {\n",
       "        text-align: right;\n",
       "    }\n",
       "</style>\n",
       "<table border=\"1\" class=\"dataframe\">\n",
       "  <thead>\n",
       "    <tr style=\"text-align: right;\">\n",
       "      <th></th>\n",
       "      <th>date</th>\n",
       "      <th>primary_cleaner.input.sulfate</th>\n",
       "      <th>primary_cleaner.input.depressant</th>\n",
       "      <th>primary_cleaner.input.feed_size</th>\n",
       "      <th>primary_cleaner.input.xanthate</th>\n",
       "      <th>primary_cleaner.state.floatbank8_a_air</th>\n",
       "      <th>primary_cleaner.state.floatbank8_a_level</th>\n",
       "      <th>primary_cleaner.state.floatbank8_b_air</th>\n",
       "      <th>primary_cleaner.state.floatbank8_b_level</th>\n",
       "      <th>primary_cleaner.state.floatbank8_c_air</th>\n",
       "      <th>...</th>\n",
       "      <th>secondary_cleaner.state.floatbank4_a_air</th>\n",
       "      <th>secondary_cleaner.state.floatbank4_a_level</th>\n",
       "      <th>secondary_cleaner.state.floatbank4_b_air</th>\n",
       "      <th>secondary_cleaner.state.floatbank4_b_level</th>\n",
       "      <th>secondary_cleaner.state.floatbank5_a_air</th>\n",
       "      <th>secondary_cleaner.state.floatbank5_a_level</th>\n",
       "      <th>secondary_cleaner.state.floatbank5_b_air</th>\n",
       "      <th>secondary_cleaner.state.floatbank5_b_level</th>\n",
       "      <th>secondary_cleaner.state.floatbank6_a_air</th>\n",
       "      <th>secondary_cleaner.state.floatbank6_a_level</th>\n",
       "    </tr>\n",
       "  </thead>\n",
       "  <tbody>\n",
       "    <tr>\n",
       "      <th>0</th>\n",
       "      <td>2016-09-01 00:59:59</td>\n",
       "      <td>210.800909</td>\n",
       "      <td>14.993118</td>\n",
       "      <td>8.080000</td>\n",
       "      <td>1.005021</td>\n",
       "      <td>1398.981301</td>\n",
       "      <td>-500.225577</td>\n",
       "      <td>1399.144926</td>\n",
       "      <td>-499.919735</td>\n",
       "      <td>1400.102998</td>\n",
       "      <td>...</td>\n",
       "      <td>12.023554</td>\n",
       "      <td>-497.795834</td>\n",
       "      <td>8.016656</td>\n",
       "      <td>-501.289139</td>\n",
       "      <td>7.946562</td>\n",
       "      <td>-432.317850</td>\n",
       "      <td>4.872511</td>\n",
       "      <td>-500.037437</td>\n",
       "      <td>26.705889</td>\n",
       "      <td>-499.709414</td>\n",
       "    </tr>\n",
       "    <tr>\n",
       "      <th>1</th>\n",
       "      <td>2016-09-01 01:59:59</td>\n",
       "      <td>215.392455</td>\n",
       "      <td>14.987471</td>\n",
       "      <td>8.080000</td>\n",
       "      <td>0.990469</td>\n",
       "      <td>1398.777912</td>\n",
       "      <td>-500.057435</td>\n",
       "      <td>1398.055362</td>\n",
       "      <td>-499.778182</td>\n",
       "      <td>1396.151033</td>\n",
       "      <td>...</td>\n",
       "      <td>12.058140</td>\n",
       "      <td>-498.695773</td>\n",
       "      <td>8.130979</td>\n",
       "      <td>-499.634209</td>\n",
       "      <td>7.958270</td>\n",
       "      <td>-525.839648</td>\n",
       "      <td>4.878850</td>\n",
       "      <td>-500.162375</td>\n",
       "      <td>25.019940</td>\n",
       "      <td>-499.819438</td>\n",
       "    </tr>\n",
       "    <tr>\n",
       "      <th>2</th>\n",
       "      <td>2016-09-01 02:59:59</td>\n",
       "      <td>215.259946</td>\n",
       "      <td>12.884934</td>\n",
       "      <td>7.786667</td>\n",
       "      <td>0.996043</td>\n",
       "      <td>1398.493666</td>\n",
       "      <td>-500.868360</td>\n",
       "      <td>1398.860436</td>\n",
       "      <td>-499.764529</td>\n",
       "      <td>1398.075709</td>\n",
       "      <td>...</td>\n",
       "      <td>11.962366</td>\n",
       "      <td>-498.767484</td>\n",
       "      <td>8.096893</td>\n",
       "      <td>-500.827423</td>\n",
       "      <td>8.071056</td>\n",
       "      <td>-500.801673</td>\n",
       "      <td>4.905125</td>\n",
       "      <td>-499.828510</td>\n",
       "      <td>24.994862</td>\n",
       "      <td>-500.622559</td>\n",
       "    </tr>\n",
       "    <tr>\n",
       "      <th>3</th>\n",
       "      <td>2016-09-01 03:59:59</td>\n",
       "      <td>215.336236</td>\n",
       "      <td>12.006805</td>\n",
       "      <td>7.640000</td>\n",
       "      <td>0.863514</td>\n",
       "      <td>1399.618111</td>\n",
       "      <td>-498.863574</td>\n",
       "      <td>1397.440120</td>\n",
       "      <td>-499.211024</td>\n",
       "      <td>1400.129303</td>\n",
       "      <td>...</td>\n",
       "      <td>12.033091</td>\n",
       "      <td>-498.350935</td>\n",
       "      <td>8.074946</td>\n",
       "      <td>-499.474407</td>\n",
       "      <td>7.897085</td>\n",
       "      <td>-500.868509</td>\n",
       "      <td>4.931400</td>\n",
       "      <td>-499.963623</td>\n",
       "      <td>24.948919</td>\n",
       "      <td>-498.709987</td>\n",
       "    </tr>\n",
       "    <tr>\n",
       "      <th>4</th>\n",
       "      <td>2016-09-01 04:59:59</td>\n",
       "      <td>199.099327</td>\n",
       "      <td>10.682530</td>\n",
       "      <td>7.530000</td>\n",
       "      <td>0.805575</td>\n",
       "      <td>1401.268123</td>\n",
       "      <td>-500.808305</td>\n",
       "      <td>1398.128818</td>\n",
       "      <td>-499.504543</td>\n",
       "      <td>1402.172226</td>\n",
       "      <td>...</td>\n",
       "      <td>12.025367</td>\n",
       "      <td>-500.786497</td>\n",
       "      <td>8.054678</td>\n",
       "      <td>-500.397500</td>\n",
       "      <td>8.107890</td>\n",
       "      <td>-509.526725</td>\n",
       "      <td>4.957674</td>\n",
       "      <td>-500.360026</td>\n",
       "      <td>25.003331</td>\n",
       "      <td>-500.856333</td>\n",
       "    </tr>\n",
       "    <tr>\n",
       "      <th>5</th>\n",
       "      <td>2016-09-01 05:59:59</td>\n",
       "      <td>168.485085</td>\n",
       "      <td>8.817007</td>\n",
       "      <td>7.420000</td>\n",
       "      <td>0.791191</td>\n",
       "      <td>1402.826803</td>\n",
       "      <td>-499.299521</td>\n",
       "      <td>1401.511119</td>\n",
       "      <td>-499.205357</td>\n",
       "      <td>1404.088107</td>\n",
       "      <td>...</td>\n",
       "      <td>12.029797</td>\n",
       "      <td>-499.814895</td>\n",
       "      <td>8.036586</td>\n",
       "      <td>-500.371492</td>\n",
       "      <td>8.041446</td>\n",
       "      <td>-510.037054</td>\n",
       "      <td>4.983949</td>\n",
       "      <td>-499.990990</td>\n",
       "      <td>24.978973</td>\n",
       "      <td>-500.475640</td>\n",
       "    </tr>\n",
       "    <tr>\n",
       "      <th>6</th>\n",
       "      <td>2016-09-01 06:59:59</td>\n",
       "      <td>144.133440</td>\n",
       "      <td>7.924610</td>\n",
       "      <td>7.420000</td>\n",
       "      <td>0.788838</td>\n",
       "      <td>1398.252401</td>\n",
       "      <td>-499.748672</td>\n",
       "      <td>1393.255503</td>\n",
       "      <td>-499.195380</td>\n",
       "      <td>1396.738566</td>\n",
       "      <td>...</td>\n",
       "      <td>12.026296</td>\n",
       "      <td>-499.473127</td>\n",
       "      <td>8.027984</td>\n",
       "      <td>-500.983079</td>\n",
       "      <td>7.907340</td>\n",
       "      <td>-507.964971</td>\n",
       "      <td>5.010224</td>\n",
       "      <td>-500.043697</td>\n",
       "      <td>25.040709</td>\n",
       "      <td>-499.501984</td>\n",
       "    </tr>\n",
       "    <tr>\n",
       "      <th>7</th>\n",
       "      <td>2016-09-01 07:59:59</td>\n",
       "      <td>133.513396</td>\n",
       "      <td>8.055252</td>\n",
       "      <td>6.988000</td>\n",
       "      <td>0.801871</td>\n",
       "      <td>1401.669677</td>\n",
       "      <td>-501.777839</td>\n",
       "      <td>1400.754446</td>\n",
       "      <td>-502.514024</td>\n",
       "      <td>1400.465244</td>\n",
       "      <td>...</td>\n",
       "      <td>12.040911</td>\n",
       "      <td>-501.293852</td>\n",
       "      <td>8.020490</td>\n",
       "      <td>-499.185229</td>\n",
       "      <td>8.116897</td>\n",
       "      <td>-511.927561</td>\n",
       "      <td>5.036498</td>\n",
       "      <td>-500.149615</td>\n",
       "      <td>25.032580</td>\n",
       "      <td>-503.970657</td>\n",
       "    </tr>\n",
       "    <tr>\n",
       "      <th>8</th>\n",
       "      <td>2016-09-01 08:59:59</td>\n",
       "      <td>133.735356</td>\n",
       "      <td>7.999618</td>\n",
       "      <td>6.935000</td>\n",
       "      <td>0.789329</td>\n",
       "      <td>1402.358981</td>\n",
       "      <td>-499.981597</td>\n",
       "      <td>1400.985954</td>\n",
       "      <td>-496.802968</td>\n",
       "      <td>1401.168584</td>\n",
       "      <td>...</td>\n",
       "      <td>11.998184</td>\n",
       "      <td>-499.481608</td>\n",
       "      <td>8.012610</td>\n",
       "      <td>-500.896783</td>\n",
       "      <td>7.974422</td>\n",
       "      <td>-521.199104</td>\n",
       "      <td>5.061599</td>\n",
       "      <td>-499.791519</td>\n",
       "      <td>25.005063</td>\n",
       "      <td>-497.613716</td>\n",
       "    </tr>\n",
       "    <tr>\n",
       "      <th>9</th>\n",
       "      <td>2016-09-01 09:59:59</td>\n",
       "      <td>126.961069</td>\n",
       "      <td>8.017856</td>\n",
       "      <td>7.030000</td>\n",
       "      <td>0.805298</td>\n",
       "      <td>1400.816120</td>\n",
       "      <td>-499.014158</td>\n",
       "      <td>1399.975401</td>\n",
       "      <td>-499.570552</td>\n",
       "      <td>1401.871924</td>\n",
       "      <td>...</td>\n",
       "      <td>12.040725</td>\n",
       "      <td>-499.987743</td>\n",
       "      <td>7.989503</td>\n",
       "      <td>-499.750625</td>\n",
       "      <td>7.989710</td>\n",
       "      <td>-509.946737</td>\n",
       "      <td>5.068811</td>\n",
       "      <td>-499.293900</td>\n",
       "      <td>24.992741</td>\n",
       "      <td>-499.272255</td>\n",
       "    </tr>\n",
       "  </tbody>\n",
       "</table>\n",
       "<p>10 rows × 53 columns</p>\n",
       "</div>"
      ],
      "text/plain": [
       "                  date  primary_cleaner.input.sulfate  \\\n",
       "0  2016-09-01 00:59:59                     210.800909   \n",
       "1  2016-09-01 01:59:59                     215.392455   \n",
       "2  2016-09-01 02:59:59                     215.259946   \n",
       "3  2016-09-01 03:59:59                     215.336236   \n",
       "4  2016-09-01 04:59:59                     199.099327   \n",
       "5  2016-09-01 05:59:59                     168.485085   \n",
       "6  2016-09-01 06:59:59                     144.133440   \n",
       "7  2016-09-01 07:59:59                     133.513396   \n",
       "8  2016-09-01 08:59:59                     133.735356   \n",
       "9  2016-09-01 09:59:59                     126.961069   \n",
       "\n",
       "   primary_cleaner.input.depressant  primary_cleaner.input.feed_size  \\\n",
       "0                         14.993118                         8.080000   \n",
       "1                         14.987471                         8.080000   \n",
       "2                         12.884934                         7.786667   \n",
       "3                         12.006805                         7.640000   \n",
       "4                         10.682530                         7.530000   \n",
       "5                          8.817007                         7.420000   \n",
       "6                          7.924610                         7.420000   \n",
       "7                          8.055252                         6.988000   \n",
       "8                          7.999618                         6.935000   \n",
       "9                          8.017856                         7.030000   \n",
       "\n",
       "   primary_cleaner.input.xanthate  primary_cleaner.state.floatbank8_a_air  \\\n",
       "0                        1.005021                             1398.981301   \n",
       "1                        0.990469                             1398.777912   \n",
       "2                        0.996043                             1398.493666   \n",
       "3                        0.863514                             1399.618111   \n",
       "4                        0.805575                             1401.268123   \n",
       "5                        0.791191                             1402.826803   \n",
       "6                        0.788838                             1398.252401   \n",
       "7                        0.801871                             1401.669677   \n",
       "8                        0.789329                             1402.358981   \n",
       "9                        0.805298                             1400.816120   \n",
       "\n",
       "   primary_cleaner.state.floatbank8_a_level  \\\n",
       "0                               -500.225577   \n",
       "1                               -500.057435   \n",
       "2                               -500.868360   \n",
       "3                               -498.863574   \n",
       "4                               -500.808305   \n",
       "5                               -499.299521   \n",
       "6                               -499.748672   \n",
       "7                               -501.777839   \n",
       "8                               -499.981597   \n",
       "9                               -499.014158   \n",
       "\n",
       "   primary_cleaner.state.floatbank8_b_air  \\\n",
       "0                             1399.144926   \n",
       "1                             1398.055362   \n",
       "2                             1398.860436   \n",
       "3                             1397.440120   \n",
       "4                             1398.128818   \n",
       "5                             1401.511119   \n",
       "6                             1393.255503   \n",
       "7                             1400.754446   \n",
       "8                             1400.985954   \n",
       "9                             1399.975401   \n",
       "\n",
       "   primary_cleaner.state.floatbank8_b_level  \\\n",
       "0                               -499.919735   \n",
       "1                               -499.778182   \n",
       "2                               -499.764529   \n",
       "3                               -499.211024   \n",
       "4                               -499.504543   \n",
       "5                               -499.205357   \n",
       "6                               -499.195380   \n",
       "7                               -502.514024   \n",
       "8                               -496.802968   \n",
       "9                               -499.570552   \n",
       "\n",
       "   primary_cleaner.state.floatbank8_c_air  ...  \\\n",
       "0                             1400.102998  ...   \n",
       "1                             1396.151033  ...   \n",
       "2                             1398.075709  ...   \n",
       "3                             1400.129303  ...   \n",
       "4                             1402.172226  ...   \n",
       "5                             1404.088107  ...   \n",
       "6                             1396.738566  ...   \n",
       "7                             1400.465244  ...   \n",
       "8                             1401.168584  ...   \n",
       "9                             1401.871924  ...   \n",
       "\n",
       "   secondary_cleaner.state.floatbank4_a_air  \\\n",
       "0                                 12.023554   \n",
       "1                                 12.058140   \n",
       "2                                 11.962366   \n",
       "3                                 12.033091   \n",
       "4                                 12.025367   \n",
       "5                                 12.029797   \n",
       "6                                 12.026296   \n",
       "7                                 12.040911   \n",
       "8                                 11.998184   \n",
       "9                                 12.040725   \n",
       "\n",
       "   secondary_cleaner.state.floatbank4_a_level  \\\n",
       "0                                 -497.795834   \n",
       "1                                 -498.695773   \n",
       "2                                 -498.767484   \n",
       "3                                 -498.350935   \n",
       "4                                 -500.786497   \n",
       "5                                 -499.814895   \n",
       "6                                 -499.473127   \n",
       "7                                 -501.293852   \n",
       "8                                 -499.481608   \n",
       "9                                 -499.987743   \n",
       "\n",
       "   secondary_cleaner.state.floatbank4_b_air  \\\n",
       "0                                  8.016656   \n",
       "1                                  8.130979   \n",
       "2                                  8.096893   \n",
       "3                                  8.074946   \n",
       "4                                  8.054678   \n",
       "5                                  8.036586   \n",
       "6                                  8.027984   \n",
       "7                                  8.020490   \n",
       "8                                  8.012610   \n",
       "9                                  7.989503   \n",
       "\n",
       "   secondary_cleaner.state.floatbank4_b_level  \\\n",
       "0                                 -501.289139   \n",
       "1                                 -499.634209   \n",
       "2                                 -500.827423   \n",
       "3                                 -499.474407   \n",
       "4                                 -500.397500   \n",
       "5                                 -500.371492   \n",
       "6                                 -500.983079   \n",
       "7                                 -499.185229   \n",
       "8                                 -500.896783   \n",
       "9                                 -499.750625   \n",
       "\n",
       "   secondary_cleaner.state.floatbank5_a_air  \\\n",
       "0                                  7.946562   \n",
       "1                                  7.958270   \n",
       "2                                  8.071056   \n",
       "3                                  7.897085   \n",
       "4                                  8.107890   \n",
       "5                                  8.041446   \n",
       "6                                  7.907340   \n",
       "7                                  8.116897   \n",
       "8                                  7.974422   \n",
       "9                                  7.989710   \n",
       "\n",
       "   secondary_cleaner.state.floatbank5_a_level  \\\n",
       "0                                 -432.317850   \n",
       "1                                 -525.839648   \n",
       "2                                 -500.801673   \n",
       "3                                 -500.868509   \n",
       "4                                 -509.526725   \n",
       "5                                 -510.037054   \n",
       "6                                 -507.964971   \n",
       "7                                 -511.927561   \n",
       "8                                 -521.199104   \n",
       "9                                 -509.946737   \n",
       "\n",
       "   secondary_cleaner.state.floatbank5_b_air  \\\n",
       "0                                  4.872511   \n",
       "1                                  4.878850   \n",
       "2                                  4.905125   \n",
       "3                                  4.931400   \n",
       "4                                  4.957674   \n",
       "5                                  4.983949   \n",
       "6                                  5.010224   \n",
       "7                                  5.036498   \n",
       "8                                  5.061599   \n",
       "9                                  5.068811   \n",
       "\n",
       "   secondary_cleaner.state.floatbank5_b_level  \\\n",
       "0                                 -500.037437   \n",
       "1                                 -500.162375   \n",
       "2                                 -499.828510   \n",
       "3                                 -499.963623   \n",
       "4                                 -500.360026   \n",
       "5                                 -499.990990   \n",
       "6                                 -500.043697   \n",
       "7                                 -500.149615   \n",
       "8                                 -499.791519   \n",
       "9                                 -499.293900   \n",
       "\n",
       "   secondary_cleaner.state.floatbank6_a_air  \\\n",
       "0                                 26.705889   \n",
       "1                                 25.019940   \n",
       "2                                 24.994862   \n",
       "3                                 24.948919   \n",
       "4                                 25.003331   \n",
       "5                                 24.978973   \n",
       "6                                 25.040709   \n",
       "7                                 25.032580   \n",
       "8                                 25.005063   \n",
       "9                                 24.992741   \n",
       "\n",
       "   secondary_cleaner.state.floatbank6_a_level  \n",
       "0                                 -499.709414  \n",
       "1                                 -499.819438  \n",
       "2                                 -500.622559  \n",
       "3                                 -498.709987  \n",
       "4                                 -500.856333  \n",
       "5                                 -500.475640  \n",
       "6                                 -499.501984  \n",
       "7                                 -503.970657  \n",
       "8                                 -497.613716  \n",
       "9                                 -499.272255  \n",
       "\n",
       "[10 rows x 53 columns]"
      ]
     },
     "metadata": {},
     "output_type": "display_data"
    },
    {
     "name": "stdout",
     "output_type": "stream",
     "text": [
      "<class 'pandas.core.frame.DataFrame'>\n",
      "RangeIndex: 5290 entries, 0 to 5289\n",
      "Data columns (total 53 columns):\n",
      " #   Column                                      Non-Null Count  Dtype  \n",
      "---  ------                                      --------------  -----  \n",
      " 0   date                                        5290 non-null   object \n",
      " 1   primary_cleaner.input.sulfate               5286 non-null   float64\n",
      " 2   primary_cleaner.input.depressant            5285 non-null   float64\n",
      " 3   primary_cleaner.input.feed_size             5290 non-null   float64\n",
      " 4   primary_cleaner.input.xanthate              5286 non-null   float64\n",
      " 5   primary_cleaner.state.floatbank8_a_air      5290 non-null   float64\n",
      " 6   primary_cleaner.state.floatbank8_a_level    5290 non-null   float64\n",
      " 7   primary_cleaner.state.floatbank8_b_air      5290 non-null   float64\n",
      " 8   primary_cleaner.state.floatbank8_b_level    5290 non-null   float64\n",
      " 9   primary_cleaner.state.floatbank8_c_air      5290 non-null   float64\n",
      " 10  primary_cleaner.state.floatbank8_c_level    5290 non-null   float64\n",
      " 11  primary_cleaner.state.floatbank8_d_air      5290 non-null   float64\n",
      " 12  primary_cleaner.state.floatbank8_d_level    5290 non-null   float64\n",
      " 13  rougher.input.feed_ag                       5290 non-null   float64\n",
      " 14  rougher.input.feed_pb                       5290 non-null   float64\n",
      " 15  rougher.input.feed_rate                     5287 non-null   float64\n",
      " 16  rougher.input.feed_size                     5289 non-null   float64\n",
      " 17  rougher.input.feed_sol                      5269 non-null   float64\n",
      " 18  rougher.input.feed_au                       5290 non-null   float64\n",
      " 19  rougher.input.floatbank10_sulfate           5285 non-null   float64\n",
      " 20  rougher.input.floatbank10_xanthate          5290 non-null   float64\n",
      " 21  rougher.input.floatbank11_sulfate           5282 non-null   float64\n",
      " 22  rougher.input.floatbank11_xanthate          5265 non-null   float64\n",
      " 23  rougher.state.floatbank10_a_air             5290 non-null   float64\n",
      " 24  rougher.state.floatbank10_a_level           5290 non-null   float64\n",
      " 25  rougher.state.floatbank10_b_air             5290 non-null   float64\n",
      " 26  rougher.state.floatbank10_b_level           5290 non-null   float64\n",
      " 27  rougher.state.floatbank10_c_air             5290 non-null   float64\n",
      " 28  rougher.state.floatbank10_c_level           5290 non-null   float64\n",
      " 29  rougher.state.floatbank10_d_air             5290 non-null   float64\n",
      " 30  rougher.state.floatbank10_d_level           5290 non-null   float64\n",
      " 31  rougher.state.floatbank10_e_air             5290 non-null   float64\n",
      " 32  rougher.state.floatbank10_e_level           5290 non-null   float64\n",
      " 33  rougher.state.floatbank10_f_air             5290 non-null   float64\n",
      " 34  rougher.state.floatbank10_f_level           5290 non-null   float64\n",
      " 35  secondary_cleaner.state.floatbank2_a_air    5287 non-null   float64\n",
      " 36  secondary_cleaner.state.floatbank2_a_level  5290 non-null   float64\n",
      " 37  secondary_cleaner.state.floatbank2_b_air    5288 non-null   float64\n",
      " 38  secondary_cleaner.state.floatbank2_b_level  5290 non-null   float64\n",
      " 39  secondary_cleaner.state.floatbank3_a_air    5281 non-null   float64\n",
      " 40  secondary_cleaner.state.floatbank3_a_level  5290 non-null   float64\n",
      " 41  secondary_cleaner.state.floatbank3_b_air    5290 non-null   float64\n",
      " 42  secondary_cleaner.state.floatbank3_b_level  5290 non-null   float64\n",
      " 43  secondary_cleaner.state.floatbank4_a_air    5290 non-null   float64\n",
      " 44  secondary_cleaner.state.floatbank4_a_level  5290 non-null   float64\n",
      " 45  secondary_cleaner.state.floatbank4_b_air    5290 non-null   float64\n",
      " 46  secondary_cleaner.state.floatbank4_b_level  5290 non-null   float64\n",
      " 47  secondary_cleaner.state.floatbank5_a_air    5290 non-null   float64\n",
      " 48  secondary_cleaner.state.floatbank5_a_level  5290 non-null   float64\n",
      " 49  secondary_cleaner.state.floatbank5_b_air    5290 non-null   float64\n",
      " 50  secondary_cleaner.state.floatbank5_b_level  5290 non-null   float64\n",
      " 51  secondary_cleaner.state.floatbank6_a_air    5290 non-null   float64\n",
      " 52  secondary_cleaner.state.floatbank6_a_level  5290 non-null   float64\n",
      "dtypes: float64(52), object(1)\n",
      "memory usage: 2.1+ MB\n",
      "None\n",
      "date                                           0\n",
      "primary_cleaner.input.sulfate                  4\n",
      "primary_cleaner.input.depressant               5\n",
      "primary_cleaner.input.feed_size                0\n",
      "primary_cleaner.input.xanthate                 4\n",
      "primary_cleaner.state.floatbank8_a_air         0\n",
      "primary_cleaner.state.floatbank8_a_level       0\n",
      "primary_cleaner.state.floatbank8_b_air         0\n",
      "primary_cleaner.state.floatbank8_b_level       0\n",
      "primary_cleaner.state.floatbank8_c_air         0\n",
      "primary_cleaner.state.floatbank8_c_level       0\n",
      "primary_cleaner.state.floatbank8_d_air         0\n",
      "primary_cleaner.state.floatbank8_d_level       0\n",
      "rougher.input.feed_ag                          0\n",
      "rougher.input.feed_pb                          0\n",
      "rougher.input.feed_rate                        3\n",
      "rougher.input.feed_size                        1\n",
      "rougher.input.feed_sol                        21\n",
      "rougher.input.feed_au                          0\n",
      "rougher.input.floatbank10_sulfate              5\n",
      "rougher.input.floatbank10_xanthate             0\n",
      "rougher.input.floatbank11_sulfate              8\n",
      "rougher.input.floatbank11_xanthate            25\n",
      "rougher.state.floatbank10_a_air                0\n",
      "rougher.state.floatbank10_a_level              0\n",
      "rougher.state.floatbank10_b_air                0\n",
      "rougher.state.floatbank10_b_level              0\n",
      "rougher.state.floatbank10_c_air                0\n",
      "rougher.state.floatbank10_c_level              0\n",
      "rougher.state.floatbank10_d_air                0\n",
      "rougher.state.floatbank10_d_level              0\n",
      "rougher.state.floatbank10_e_air                0\n",
      "rougher.state.floatbank10_e_level              0\n",
      "rougher.state.floatbank10_f_air                0\n",
      "rougher.state.floatbank10_f_level              0\n",
      "secondary_cleaner.state.floatbank2_a_air       3\n",
      "secondary_cleaner.state.floatbank2_a_level     0\n",
      "secondary_cleaner.state.floatbank2_b_air       2\n",
      "secondary_cleaner.state.floatbank2_b_level     0\n",
      "secondary_cleaner.state.floatbank3_a_air       9\n",
      "secondary_cleaner.state.floatbank3_a_level     0\n",
      "secondary_cleaner.state.floatbank3_b_air       0\n",
      "secondary_cleaner.state.floatbank3_b_level     0\n",
      "secondary_cleaner.state.floatbank4_a_air       0\n",
      "secondary_cleaner.state.floatbank4_a_level     0\n",
      "secondary_cleaner.state.floatbank4_b_air       0\n",
      "secondary_cleaner.state.floatbank4_b_level     0\n",
      "secondary_cleaner.state.floatbank5_a_air       0\n",
      "secondary_cleaner.state.floatbank5_a_level     0\n",
      "secondary_cleaner.state.floatbank5_b_air       0\n",
      "secondary_cleaner.state.floatbank5_b_level     0\n",
      "secondary_cleaner.state.floatbank6_a_air       0\n",
      "secondary_cleaner.state.floatbank6_a_level     0\n",
      "dtype: int64\n",
      "<class 'pandas.core.frame.DataFrame'>\n",
      "RangeIndex: 5290 entries, 0 to 5289\n",
      "Data columns (total 53 columns):\n",
      " #   Column                                      Non-Null Count  Dtype  \n",
      "---  ------                                      --------------  -----  \n",
      " 0   date                                        5290 non-null   object \n",
      " 1   primary_cleaner.input.sulfate               5286 non-null   float64\n",
      " 2   primary_cleaner.input.depressant            5285 non-null   float64\n",
      " 3   primary_cleaner.input.feed_size             5290 non-null   float64\n",
      " 4   primary_cleaner.input.xanthate              5286 non-null   float64\n",
      " 5   primary_cleaner.state.floatbank8_a_air      5290 non-null   float64\n",
      " 6   primary_cleaner.state.floatbank8_a_level    5290 non-null   float64\n",
      " 7   primary_cleaner.state.floatbank8_b_air      5290 non-null   float64\n",
      " 8   primary_cleaner.state.floatbank8_b_level    5290 non-null   float64\n",
      " 9   primary_cleaner.state.floatbank8_c_air      5290 non-null   float64\n",
      " 10  primary_cleaner.state.floatbank8_c_level    5290 non-null   float64\n",
      " 11  primary_cleaner.state.floatbank8_d_air      5290 non-null   float64\n",
      " 12  primary_cleaner.state.floatbank8_d_level    5290 non-null   float64\n",
      " 13  rougher.input.feed_ag                       5290 non-null   float64\n",
      " 14  rougher.input.feed_pb                       5290 non-null   float64\n",
      " 15  rougher.input.feed_rate                     5287 non-null   float64\n",
      " 16  rougher.input.feed_size                     5289 non-null   float64\n",
      " 17  rougher.input.feed_sol                      5269 non-null   float64\n",
      " 18  rougher.input.feed_au                       5290 non-null   float64\n",
      " 19  rougher.input.floatbank10_sulfate           5285 non-null   float64\n",
      " 20  rougher.input.floatbank10_xanthate          5290 non-null   float64\n",
      " 21  rougher.input.floatbank11_sulfate           5282 non-null   float64\n",
      " 22  rougher.input.floatbank11_xanthate          5265 non-null   float64\n",
      " 23  rougher.state.floatbank10_a_air             5290 non-null   float64\n",
      " 24  rougher.state.floatbank10_a_level           5290 non-null   float64\n",
      " 25  rougher.state.floatbank10_b_air             5290 non-null   float64\n",
      " 26  rougher.state.floatbank10_b_level           5290 non-null   float64\n",
      " 27  rougher.state.floatbank10_c_air             5290 non-null   float64\n",
      " 28  rougher.state.floatbank10_c_level           5290 non-null   float64\n",
      " 29  rougher.state.floatbank10_d_air             5290 non-null   float64\n",
      " 30  rougher.state.floatbank10_d_level           5290 non-null   float64\n",
      " 31  rougher.state.floatbank10_e_air             5290 non-null   float64\n",
      " 32  rougher.state.floatbank10_e_level           5290 non-null   float64\n",
      " 33  rougher.state.floatbank10_f_air             5290 non-null   float64\n",
      " 34  rougher.state.floatbank10_f_level           5290 non-null   float64\n",
      " 35  secondary_cleaner.state.floatbank2_a_air    5287 non-null   float64\n",
      " 36  secondary_cleaner.state.floatbank2_a_level  5290 non-null   float64\n",
      " 37  secondary_cleaner.state.floatbank2_b_air    5288 non-null   float64\n",
      " 38  secondary_cleaner.state.floatbank2_b_level  5290 non-null   float64\n",
      " 39  secondary_cleaner.state.floatbank3_a_air    5281 non-null   float64\n",
      " 40  secondary_cleaner.state.floatbank3_a_level  5290 non-null   float64\n",
      " 41  secondary_cleaner.state.floatbank3_b_air    5290 non-null   float64\n",
      " 42  secondary_cleaner.state.floatbank3_b_level  5290 non-null   float64\n",
      " 43  secondary_cleaner.state.floatbank4_a_air    5290 non-null   float64\n",
      " 44  secondary_cleaner.state.floatbank4_a_level  5290 non-null   float64\n",
      " 45  secondary_cleaner.state.floatbank4_b_air    5290 non-null   float64\n",
      " 46  secondary_cleaner.state.floatbank4_b_level  5290 non-null   float64\n",
      " 47  secondary_cleaner.state.floatbank5_a_air    5290 non-null   float64\n",
      " 48  secondary_cleaner.state.floatbank5_a_level  5290 non-null   float64\n",
      " 49  secondary_cleaner.state.floatbank5_b_air    5290 non-null   float64\n",
      " 50  secondary_cleaner.state.floatbank5_b_level  5290 non-null   float64\n",
      " 51  secondary_cleaner.state.floatbank6_a_air    5290 non-null   float64\n",
      " 52  secondary_cleaner.state.floatbank6_a_level  5290 non-null   float64\n",
      "dtypes: float64(52), object(1)\n",
      "memory usage: 2.1+ MB\n",
      "None\n"
     ]
    },
    {
     "data": {
      "text/html": [
       "<div>\n",
       "<style scoped>\n",
       "    .dataframe tbody tr th:only-of-type {\n",
       "        vertical-align: middle;\n",
       "    }\n",
       "\n",
       "    .dataframe tbody tr th {\n",
       "        vertical-align: top;\n",
       "    }\n",
       "\n",
       "    .dataframe thead th {\n",
       "        text-align: right;\n",
       "    }\n",
       "</style>\n",
       "<table border=\"1\" class=\"dataframe\">\n",
       "  <thead>\n",
       "    <tr style=\"text-align: right;\">\n",
       "      <th></th>\n",
       "      <th>date</th>\n",
       "      <th>final.output.concentrate_ag</th>\n",
       "      <th>final.output.concentrate_pb</th>\n",
       "      <th>final.output.concentrate_sol</th>\n",
       "      <th>final.output.concentrate_au</th>\n",
       "      <th>final.output.recovery</th>\n",
       "      <th>final.output.tail_ag</th>\n",
       "      <th>final.output.tail_pb</th>\n",
       "      <th>final.output.tail_sol</th>\n",
       "      <th>final.output.tail_au</th>\n",
       "      <th>...</th>\n",
       "      <th>secondary_cleaner.state.floatbank4_a_air</th>\n",
       "      <th>secondary_cleaner.state.floatbank4_a_level</th>\n",
       "      <th>secondary_cleaner.state.floatbank4_b_air</th>\n",
       "      <th>secondary_cleaner.state.floatbank4_b_level</th>\n",
       "      <th>secondary_cleaner.state.floatbank5_a_air</th>\n",
       "      <th>secondary_cleaner.state.floatbank5_a_level</th>\n",
       "      <th>secondary_cleaner.state.floatbank5_b_air</th>\n",
       "      <th>secondary_cleaner.state.floatbank5_b_level</th>\n",
       "      <th>secondary_cleaner.state.floatbank6_a_air</th>\n",
       "      <th>secondary_cleaner.state.floatbank6_a_level</th>\n",
       "    </tr>\n",
       "  </thead>\n",
       "  <tbody>\n",
       "    <tr>\n",
       "      <th>0</th>\n",
       "      <td>2016-01-15 00:00:00</td>\n",
       "      <td>6.055403</td>\n",
       "      <td>9.889648</td>\n",
       "      <td>5.507324</td>\n",
       "      <td>42.192020</td>\n",
       "      <td>70.541216</td>\n",
       "      <td>10.411962</td>\n",
       "      <td>0.895447</td>\n",
       "      <td>16.904297</td>\n",
       "      <td>2.143149</td>\n",
       "      <td>...</td>\n",
       "      <td>14.016835</td>\n",
       "      <td>-502.488007</td>\n",
       "      <td>12.099931</td>\n",
       "      <td>-504.715942</td>\n",
       "      <td>9.925633</td>\n",
       "      <td>-498.310211</td>\n",
       "      <td>8.079666</td>\n",
       "      <td>-500.470978</td>\n",
       "      <td>14.151341</td>\n",
       "      <td>-605.841980</td>\n",
       "    </tr>\n",
       "    <tr>\n",
       "      <th>1</th>\n",
       "      <td>2016-01-15 01:00:00</td>\n",
       "      <td>6.029369</td>\n",
       "      <td>9.968944</td>\n",
       "      <td>5.257781</td>\n",
       "      <td>42.701629</td>\n",
       "      <td>69.266198</td>\n",
       "      <td>10.462676</td>\n",
       "      <td>0.927452</td>\n",
       "      <td>16.634514</td>\n",
       "      <td>2.224930</td>\n",
       "      <td>...</td>\n",
       "      <td>13.992281</td>\n",
       "      <td>-505.503262</td>\n",
       "      <td>11.950531</td>\n",
       "      <td>-501.331529</td>\n",
       "      <td>10.039245</td>\n",
       "      <td>-500.169983</td>\n",
       "      <td>7.984757</td>\n",
       "      <td>-500.582168</td>\n",
       "      <td>13.998353</td>\n",
       "      <td>-599.787184</td>\n",
       "    </tr>\n",
       "    <tr>\n",
       "      <th>2</th>\n",
       "      <td>2016-01-15 02:00:00</td>\n",
       "      <td>6.055926</td>\n",
       "      <td>10.213995</td>\n",
       "      <td>5.383759</td>\n",
       "      <td>42.657501</td>\n",
       "      <td>68.116445</td>\n",
       "      <td>10.507046</td>\n",
       "      <td>0.953716</td>\n",
       "      <td>16.208849</td>\n",
       "      <td>2.257889</td>\n",
       "      <td>...</td>\n",
       "      <td>14.015015</td>\n",
       "      <td>-502.520901</td>\n",
       "      <td>11.912783</td>\n",
       "      <td>-501.133383</td>\n",
       "      <td>10.070913</td>\n",
       "      <td>-500.129135</td>\n",
       "      <td>8.013877</td>\n",
       "      <td>-500.517572</td>\n",
       "      <td>14.028663</td>\n",
       "      <td>-601.427363</td>\n",
       "    </tr>\n",
       "    <tr>\n",
       "      <th>3</th>\n",
       "      <td>2016-01-15 03:00:00</td>\n",
       "      <td>6.047977</td>\n",
       "      <td>9.977019</td>\n",
       "      <td>4.858634</td>\n",
       "      <td>42.689819</td>\n",
       "      <td>68.347543</td>\n",
       "      <td>10.422762</td>\n",
       "      <td>0.883763</td>\n",
       "      <td>16.532835</td>\n",
       "      <td>2.146849</td>\n",
       "      <td>...</td>\n",
       "      <td>14.036510</td>\n",
       "      <td>-500.857308</td>\n",
       "      <td>11.999550</td>\n",
       "      <td>-501.193686</td>\n",
       "      <td>9.970366</td>\n",
       "      <td>-499.201640</td>\n",
       "      <td>7.977324</td>\n",
       "      <td>-500.255908</td>\n",
       "      <td>14.005551</td>\n",
       "      <td>-599.996129</td>\n",
       "    </tr>\n",
       "    <tr>\n",
       "      <th>4</th>\n",
       "      <td>2016-01-15 04:00:00</td>\n",
       "      <td>6.148599</td>\n",
       "      <td>10.142511</td>\n",
       "      <td>4.939416</td>\n",
       "      <td>42.774141</td>\n",
       "      <td>66.927016</td>\n",
       "      <td>10.360302</td>\n",
       "      <td>0.792826</td>\n",
       "      <td>16.525686</td>\n",
       "      <td>2.055292</td>\n",
       "      <td>...</td>\n",
       "      <td>14.027298</td>\n",
       "      <td>-499.838632</td>\n",
       "      <td>11.953070</td>\n",
       "      <td>-501.053894</td>\n",
       "      <td>9.925709</td>\n",
       "      <td>-501.686727</td>\n",
       "      <td>7.894242</td>\n",
       "      <td>-500.356035</td>\n",
       "      <td>13.996647</td>\n",
       "      <td>-601.496691</td>\n",
       "    </tr>\n",
       "    <tr>\n",
       "      <th>5</th>\n",
       "      <td>2016-01-15 05:00:00</td>\n",
       "      <td>6.482968</td>\n",
       "      <td>10.049416</td>\n",
       "      <td>5.480257</td>\n",
       "      <td>41.633678</td>\n",
       "      <td>69.465816</td>\n",
       "      <td>10.182708</td>\n",
       "      <td>0.664118</td>\n",
       "      <td>16.999638</td>\n",
       "      <td>1.918586</td>\n",
       "      <td>...</td>\n",
       "      <td>13.938497</td>\n",
       "      <td>-500.970168</td>\n",
       "      <td>11.883350</td>\n",
       "      <td>-500.395298</td>\n",
       "      <td>10.054147</td>\n",
       "      <td>-496.374715</td>\n",
       "      <td>7.965083</td>\n",
       "      <td>-499.364752</td>\n",
       "      <td>14.017067</td>\n",
       "      <td>-599.707915</td>\n",
       "    </tr>\n",
       "    <tr>\n",
       "      <th>6</th>\n",
       "      <td>2016-01-15 06:00:00</td>\n",
       "      <td>6.533849</td>\n",
       "      <td>10.058141</td>\n",
       "      <td>4.569100</td>\n",
       "      <td>41.995316</td>\n",
       "      <td>69.300835</td>\n",
       "      <td>10.304598</td>\n",
       "      <td>0.807342</td>\n",
       "      <td>16.723575</td>\n",
       "      <td>2.058913</td>\n",
       "      <td>...</td>\n",
       "      <td>14.046819</td>\n",
       "      <td>-500.971133</td>\n",
       "      <td>12.091543</td>\n",
       "      <td>-500.501426</td>\n",
       "      <td>10.003247</td>\n",
       "      <td>-497.083180</td>\n",
       "      <td>8.010890</td>\n",
       "      <td>-500.002423</td>\n",
       "      <td>14.029649</td>\n",
       "      <td>-600.905470</td>\n",
       "    </tr>\n",
       "    <tr>\n",
       "      <th>7</th>\n",
       "      <td>2016-01-15 07:00:00</td>\n",
       "      <td>6.130823</td>\n",
       "      <td>9.935481</td>\n",
       "      <td>4.389813</td>\n",
       "      <td>42.452727</td>\n",
       "      <td>70.230976</td>\n",
       "      <td>10.443288</td>\n",
       "      <td>0.949346</td>\n",
       "      <td>16.689959</td>\n",
       "      <td>2.143437</td>\n",
       "      <td>...</td>\n",
       "      <td>13.974691</td>\n",
       "      <td>-501.819696</td>\n",
       "      <td>12.101324</td>\n",
       "      <td>-500.583446</td>\n",
       "      <td>9.873169</td>\n",
       "      <td>-499.171928</td>\n",
       "      <td>7.993381</td>\n",
       "      <td>-499.794518</td>\n",
       "      <td>13.984498</td>\n",
       "      <td>-600.411070</td>\n",
       "    </tr>\n",
       "    <tr>\n",
       "      <th>8</th>\n",
       "      <td>2016-01-15 08:00:00</td>\n",
       "      <td>5.834140</td>\n",
       "      <td>10.071156</td>\n",
       "      <td>4.876389</td>\n",
       "      <td>43.404078</td>\n",
       "      <td>69.688595</td>\n",
       "      <td>10.420140</td>\n",
       "      <td>1.065453</td>\n",
       "      <td>17.201948</td>\n",
       "      <td>2.209881</td>\n",
       "      <td>...</td>\n",
       "      <td>13.964030</td>\n",
       "      <td>-504.252450</td>\n",
       "      <td>12.060738</td>\n",
       "      <td>-501.174549</td>\n",
       "      <td>10.033838</td>\n",
       "      <td>-501.178133</td>\n",
       "      <td>7.881604</td>\n",
       "      <td>-499.729434</td>\n",
       "      <td>13.967135</td>\n",
       "      <td>-599.061188</td>\n",
       "    </tr>\n",
       "    <tr>\n",
       "      <th>9</th>\n",
       "      <td>2016-01-15 09:00:00</td>\n",
       "      <td>5.687063</td>\n",
       "      <td>9.980404</td>\n",
       "      <td>5.282514</td>\n",
       "      <td>43.235220</td>\n",
       "      <td>70.279619</td>\n",
       "      <td>10.487013</td>\n",
       "      <td>1.159805</td>\n",
       "      <td>17.483979</td>\n",
       "      <td>2.209593</td>\n",
       "      <td>...</td>\n",
       "      <td>13.989632</td>\n",
       "      <td>-503.195299</td>\n",
       "      <td>12.052233</td>\n",
       "      <td>-500.928547</td>\n",
       "      <td>9.962574</td>\n",
       "      <td>-502.986357</td>\n",
       "      <td>7.979219</td>\n",
       "      <td>-500.146835</td>\n",
       "      <td>13.981614</td>\n",
       "      <td>-598.070855</td>\n",
       "    </tr>\n",
       "  </tbody>\n",
       "</table>\n",
       "<p>10 rows × 87 columns</p>\n",
       "</div>"
      ],
      "text/plain": [
       "                  date  final.output.concentrate_ag  \\\n",
       "0  2016-01-15 00:00:00                     6.055403   \n",
       "1  2016-01-15 01:00:00                     6.029369   \n",
       "2  2016-01-15 02:00:00                     6.055926   \n",
       "3  2016-01-15 03:00:00                     6.047977   \n",
       "4  2016-01-15 04:00:00                     6.148599   \n",
       "5  2016-01-15 05:00:00                     6.482968   \n",
       "6  2016-01-15 06:00:00                     6.533849   \n",
       "7  2016-01-15 07:00:00                     6.130823   \n",
       "8  2016-01-15 08:00:00                     5.834140   \n",
       "9  2016-01-15 09:00:00                     5.687063   \n",
       "\n",
       "   final.output.concentrate_pb  final.output.concentrate_sol  \\\n",
       "0                     9.889648                      5.507324   \n",
       "1                     9.968944                      5.257781   \n",
       "2                    10.213995                      5.383759   \n",
       "3                     9.977019                      4.858634   \n",
       "4                    10.142511                      4.939416   \n",
       "5                    10.049416                      5.480257   \n",
       "6                    10.058141                      4.569100   \n",
       "7                     9.935481                      4.389813   \n",
       "8                    10.071156                      4.876389   \n",
       "9                     9.980404                      5.282514   \n",
       "\n",
       "   final.output.concentrate_au  final.output.recovery  final.output.tail_ag  \\\n",
       "0                    42.192020              70.541216             10.411962   \n",
       "1                    42.701629              69.266198             10.462676   \n",
       "2                    42.657501              68.116445             10.507046   \n",
       "3                    42.689819              68.347543             10.422762   \n",
       "4                    42.774141              66.927016             10.360302   \n",
       "5                    41.633678              69.465816             10.182708   \n",
       "6                    41.995316              69.300835             10.304598   \n",
       "7                    42.452727              70.230976             10.443288   \n",
       "8                    43.404078              69.688595             10.420140   \n",
       "9                    43.235220              70.279619             10.487013   \n",
       "\n",
       "   final.output.tail_pb  final.output.tail_sol  final.output.tail_au  ...  \\\n",
       "0              0.895447              16.904297              2.143149  ...   \n",
       "1              0.927452              16.634514              2.224930  ...   \n",
       "2              0.953716              16.208849              2.257889  ...   \n",
       "3              0.883763              16.532835              2.146849  ...   \n",
       "4              0.792826              16.525686              2.055292  ...   \n",
       "5              0.664118              16.999638              1.918586  ...   \n",
       "6              0.807342              16.723575              2.058913  ...   \n",
       "7              0.949346              16.689959              2.143437  ...   \n",
       "8              1.065453              17.201948              2.209881  ...   \n",
       "9              1.159805              17.483979              2.209593  ...   \n",
       "\n",
       "   secondary_cleaner.state.floatbank4_a_air  \\\n",
       "0                                 14.016835   \n",
       "1                                 13.992281   \n",
       "2                                 14.015015   \n",
       "3                                 14.036510   \n",
       "4                                 14.027298   \n",
       "5                                 13.938497   \n",
       "6                                 14.046819   \n",
       "7                                 13.974691   \n",
       "8                                 13.964030   \n",
       "9                                 13.989632   \n",
       "\n",
       "   secondary_cleaner.state.floatbank4_a_level  \\\n",
       "0                                 -502.488007   \n",
       "1                                 -505.503262   \n",
       "2                                 -502.520901   \n",
       "3                                 -500.857308   \n",
       "4                                 -499.838632   \n",
       "5                                 -500.970168   \n",
       "6                                 -500.971133   \n",
       "7                                 -501.819696   \n",
       "8                                 -504.252450   \n",
       "9                                 -503.195299   \n",
       "\n",
       "   secondary_cleaner.state.floatbank4_b_air  \\\n",
       "0                                 12.099931   \n",
       "1                                 11.950531   \n",
       "2                                 11.912783   \n",
       "3                                 11.999550   \n",
       "4                                 11.953070   \n",
       "5                                 11.883350   \n",
       "6                                 12.091543   \n",
       "7                                 12.101324   \n",
       "8                                 12.060738   \n",
       "9                                 12.052233   \n",
       "\n",
       "   secondary_cleaner.state.floatbank4_b_level  \\\n",
       "0                                 -504.715942   \n",
       "1                                 -501.331529   \n",
       "2                                 -501.133383   \n",
       "3                                 -501.193686   \n",
       "4                                 -501.053894   \n",
       "5                                 -500.395298   \n",
       "6                                 -500.501426   \n",
       "7                                 -500.583446   \n",
       "8                                 -501.174549   \n",
       "9                                 -500.928547   \n",
       "\n",
       "   secondary_cleaner.state.floatbank5_a_air  \\\n",
       "0                                  9.925633   \n",
       "1                                 10.039245   \n",
       "2                                 10.070913   \n",
       "3                                  9.970366   \n",
       "4                                  9.925709   \n",
       "5                                 10.054147   \n",
       "6                                 10.003247   \n",
       "7                                  9.873169   \n",
       "8                                 10.033838   \n",
       "9                                  9.962574   \n",
       "\n",
       "   secondary_cleaner.state.floatbank5_a_level  \\\n",
       "0                                 -498.310211   \n",
       "1                                 -500.169983   \n",
       "2                                 -500.129135   \n",
       "3                                 -499.201640   \n",
       "4                                 -501.686727   \n",
       "5                                 -496.374715   \n",
       "6                                 -497.083180   \n",
       "7                                 -499.171928   \n",
       "8                                 -501.178133   \n",
       "9                                 -502.986357   \n",
       "\n",
       "   secondary_cleaner.state.floatbank5_b_air  \\\n",
       "0                                  8.079666   \n",
       "1                                  7.984757   \n",
       "2                                  8.013877   \n",
       "3                                  7.977324   \n",
       "4                                  7.894242   \n",
       "5                                  7.965083   \n",
       "6                                  8.010890   \n",
       "7                                  7.993381   \n",
       "8                                  7.881604   \n",
       "9                                  7.979219   \n",
       "\n",
       "   secondary_cleaner.state.floatbank5_b_level  \\\n",
       "0                                 -500.470978   \n",
       "1                                 -500.582168   \n",
       "2                                 -500.517572   \n",
       "3                                 -500.255908   \n",
       "4                                 -500.356035   \n",
       "5                                 -499.364752   \n",
       "6                                 -500.002423   \n",
       "7                                 -499.794518   \n",
       "8                                 -499.729434   \n",
       "9                                 -500.146835   \n",
       "\n",
       "   secondary_cleaner.state.floatbank6_a_air  \\\n",
       "0                                 14.151341   \n",
       "1                                 13.998353   \n",
       "2                                 14.028663   \n",
       "3                                 14.005551   \n",
       "4                                 13.996647   \n",
       "5                                 14.017067   \n",
       "6                                 14.029649   \n",
       "7                                 13.984498   \n",
       "8                                 13.967135   \n",
       "9                                 13.981614   \n",
       "\n",
       "   secondary_cleaner.state.floatbank6_a_level  \n",
       "0                                 -605.841980  \n",
       "1                                 -599.787184  \n",
       "2                                 -601.427363  \n",
       "3                                 -599.996129  \n",
       "4                                 -601.496691  \n",
       "5                                 -599.707915  \n",
       "6                                 -600.905470  \n",
       "7                                 -600.411070  \n",
       "8                                 -599.061188  \n",
       "9                                 -598.070855  \n",
       "\n",
       "[10 rows x 87 columns]"
      ]
     },
     "metadata": {},
     "output_type": "display_data"
    },
    {
     "name": "stdout",
     "output_type": "stream",
     "text": [
      "<class 'pandas.core.frame.DataFrame'>\n",
      "RangeIndex: 19439 entries, 0 to 19438\n",
      "Data columns (total 87 columns):\n",
      " #   Column                                              Non-Null Count  Dtype  \n",
      "---  ------                                              --------------  -----  \n",
      " 0   date                                                19439 non-null  object \n",
      " 1   final.output.concentrate_ag                         19438 non-null  float64\n",
      " 2   final.output.concentrate_pb                         19438 non-null  float64\n",
      " 3   final.output.concentrate_sol                        19228 non-null  float64\n",
      " 4   final.output.concentrate_au                         19439 non-null  float64\n",
      " 5   final.output.recovery                               19439 non-null  float64\n",
      " 6   final.output.tail_ag                                19438 non-null  float64\n",
      " 7   final.output.tail_pb                                19338 non-null  float64\n",
      " 8   final.output.tail_sol                               19433 non-null  float64\n",
      " 9   final.output.tail_au                                19439 non-null  float64\n",
      " 10  primary_cleaner.input.sulfate                       19415 non-null  float64\n",
      " 11  primary_cleaner.input.depressant                    19402 non-null  float64\n",
      " 12  primary_cleaner.input.feed_size                     19439 non-null  float64\n",
      " 13  primary_cleaner.input.xanthate                      19335 non-null  float64\n",
      " 14  primary_cleaner.output.concentrate_ag               19439 non-null  float64\n",
      " 15  primary_cleaner.output.concentrate_pb               19323 non-null  float64\n",
      " 16  primary_cleaner.output.concentrate_sol              19069 non-null  float64\n",
      " 17  primary_cleaner.output.concentrate_au               19439 non-null  float64\n",
      " 18  primary_cleaner.output.tail_ag                      19435 non-null  float64\n",
      " 19  primary_cleaner.output.tail_pb                      19418 non-null  float64\n",
      " 20  primary_cleaner.output.tail_sol                     19377 non-null  float64\n",
      " 21  primary_cleaner.output.tail_au                      19439 non-null  float64\n",
      " 22  primary_cleaner.state.floatbank8_a_air              19435 non-null  float64\n",
      " 23  primary_cleaner.state.floatbank8_a_level            19438 non-null  float64\n",
      " 24  primary_cleaner.state.floatbank8_b_air              19435 non-null  float64\n",
      " 25  primary_cleaner.state.floatbank8_b_level            19438 non-null  float64\n",
      " 26  primary_cleaner.state.floatbank8_c_air              19437 non-null  float64\n",
      " 27  primary_cleaner.state.floatbank8_c_level            19438 non-null  float64\n",
      " 28  primary_cleaner.state.floatbank8_d_air              19436 non-null  float64\n",
      " 29  primary_cleaner.state.floatbank8_d_level            19438 non-null  float64\n",
      " 30  rougher.calculation.sulfate_to_au_concentrate       19437 non-null  float64\n",
      " 31  rougher.calculation.floatbank10_sulfate_to_au_feed  19437 non-null  float64\n",
      " 32  rougher.calculation.floatbank11_sulfate_to_au_feed  19437 non-null  float64\n",
      " 33  rougher.calculation.au_pb_ratio                     19439 non-null  float64\n",
      " 34  rougher.input.feed_ag                               19439 non-null  float64\n",
      " 35  rougher.input.feed_pb                               19339 non-null  float64\n",
      " 36  rougher.input.feed_rate                             19428 non-null  float64\n",
      " 37  rougher.input.feed_size                             19294 non-null  float64\n",
      " 38  rougher.input.feed_sol                              19340 non-null  float64\n",
      " 39  rougher.input.feed_au                               19439 non-null  float64\n",
      " 40  rougher.input.floatbank10_sulfate                   19405 non-null  float64\n",
      " 41  rougher.input.floatbank10_xanthate                  19431 non-null  float64\n",
      " 42  rougher.input.floatbank11_sulfate                   19395 non-null  float64\n",
      " 43  rougher.input.floatbank11_xanthate                  18986 non-null  float64\n",
      " 44  rougher.output.concentrate_ag                       19439 non-null  float64\n",
      " 45  rougher.output.concentrate_pb                       19439 non-null  float64\n",
      " 46  rougher.output.concentrate_sol                      19416 non-null  float64\n",
      " 47  rougher.output.concentrate_au                       19439 non-null  float64\n",
      " 48  rougher.output.recovery                             19439 non-null  float64\n",
      " 49  rougher.output.tail_ag                              19438 non-null  float64\n",
      " 50  rougher.output.tail_pb                              19439 non-null  float64\n",
      " 51  rougher.output.tail_sol                             19439 non-null  float64\n",
      " 52  rougher.output.tail_au                              19439 non-null  float64\n",
      " 53  rougher.state.floatbank10_a_air                     19438 non-null  float64\n",
      " 54  rougher.state.floatbank10_a_level                   19438 non-null  float64\n",
      " 55  rougher.state.floatbank10_b_air                     19438 non-null  float64\n",
      " 56  rougher.state.floatbank10_b_level                   19438 non-null  float64\n",
      " 57  rougher.state.floatbank10_c_air                     19438 non-null  float64\n",
      " 58  rougher.state.floatbank10_c_level                   19438 non-null  float64\n",
      " 59  rougher.state.floatbank10_d_air                     19439 non-null  float64\n",
      " 60  rougher.state.floatbank10_d_level                   19439 non-null  float64\n",
      " 61  rougher.state.floatbank10_e_air                     19003 non-null  float64\n",
      " 62  rougher.state.floatbank10_e_level                   19439 non-null  float64\n",
      " 63  rougher.state.floatbank10_f_air                     19439 non-null  float64\n",
      " 64  rougher.state.floatbank10_f_level                   19439 non-null  float64\n",
      " 65  secondary_cleaner.output.tail_ag                    19437 non-null  float64\n",
      " 66  secondary_cleaner.output.tail_pb                    19427 non-null  float64\n",
      " 67  secondary_cleaner.output.tail_sol                   17691 non-null  float64\n",
      " 68  secondary_cleaner.output.tail_au                    19439 non-null  float64\n",
      " 69  secondary_cleaner.state.floatbank2_a_air            19219 non-null  float64\n",
      " 70  secondary_cleaner.state.floatbank2_a_level          19438 non-null  float64\n",
      " 71  secondary_cleaner.state.floatbank2_b_air            19416 non-null  float64\n",
      " 72  secondary_cleaner.state.floatbank2_b_level          19438 non-null  float64\n",
      " 73  secondary_cleaner.state.floatbank3_a_air            19426 non-null  float64\n",
      " 74  secondary_cleaner.state.floatbank3_a_level          19438 non-null  float64\n",
      " 75  secondary_cleaner.state.floatbank3_b_air            19438 non-null  float64\n",
      " 76  secondary_cleaner.state.floatbank3_b_level          19438 non-null  float64\n",
      " 77  secondary_cleaner.state.floatbank4_a_air            19433 non-null  float64\n",
      " 78  secondary_cleaner.state.floatbank4_a_level          19438 non-null  float64\n",
      " 79  secondary_cleaner.state.floatbank4_b_air            19438 non-null  float64\n",
      " 80  secondary_cleaner.state.floatbank4_b_level          19438 non-null  float64\n",
      " 81  secondary_cleaner.state.floatbank5_a_air            19438 non-null  float64\n",
      " 82  secondary_cleaner.state.floatbank5_a_level          19438 non-null  float64\n",
      " 83  secondary_cleaner.state.floatbank5_b_air            19438 non-null  float64\n",
      " 84  secondary_cleaner.state.floatbank5_b_level          19438 non-null  float64\n",
      " 85  secondary_cleaner.state.floatbank6_a_air            19437 non-null  float64\n",
      " 86  secondary_cleaner.state.floatbank6_a_level          19438 non-null  float64\n",
      "dtypes: float64(86), object(1)\n",
      "memory usage: 12.9+ MB\n",
      "None\n",
      "date                                            0\n",
      "final.output.concentrate_ag                     1\n",
      "final.output.concentrate_pb                     1\n",
      "final.output.concentrate_sol                  211\n",
      "final.output.concentrate_au                     0\n",
      "                                             ... \n",
      "secondary_cleaner.state.floatbank5_a_level      1\n",
      "secondary_cleaner.state.floatbank5_b_air        1\n",
      "secondary_cleaner.state.floatbank5_b_level      1\n",
      "secondary_cleaner.state.floatbank6_a_air        2\n",
      "secondary_cleaner.state.floatbank6_a_level      1\n",
      "Length: 87, dtype: int64\n",
      "<class 'pandas.core.frame.DataFrame'>\n",
      "RangeIndex: 19439 entries, 0 to 19438\n",
      "Data columns (total 87 columns):\n",
      " #   Column                                              Non-Null Count  Dtype  \n",
      "---  ------                                              --------------  -----  \n",
      " 0   date                                                19439 non-null  object \n",
      " 1   final.output.concentrate_ag                         19438 non-null  float64\n",
      " 2   final.output.concentrate_pb                         19438 non-null  float64\n",
      " 3   final.output.concentrate_sol                        19228 non-null  float64\n",
      " 4   final.output.concentrate_au                         19439 non-null  float64\n",
      " 5   final.output.recovery                               19439 non-null  float64\n",
      " 6   final.output.tail_ag                                19438 non-null  float64\n",
      " 7   final.output.tail_pb                                19338 non-null  float64\n",
      " 8   final.output.tail_sol                               19433 non-null  float64\n",
      " 9   final.output.tail_au                                19439 non-null  float64\n",
      " 10  primary_cleaner.input.sulfate                       19415 non-null  float64\n",
      " 11  primary_cleaner.input.depressant                    19402 non-null  float64\n",
      " 12  primary_cleaner.input.feed_size                     19439 non-null  float64\n",
      " 13  primary_cleaner.input.xanthate                      19335 non-null  float64\n",
      " 14  primary_cleaner.output.concentrate_ag               19439 non-null  float64\n",
      " 15  primary_cleaner.output.concentrate_pb               19323 non-null  float64\n",
      " 16  primary_cleaner.output.concentrate_sol              19069 non-null  float64\n",
      " 17  primary_cleaner.output.concentrate_au               19439 non-null  float64\n",
      " 18  primary_cleaner.output.tail_ag                      19435 non-null  float64\n",
      " 19  primary_cleaner.output.tail_pb                      19418 non-null  float64\n",
      " 20  primary_cleaner.output.tail_sol                     19377 non-null  float64\n",
      " 21  primary_cleaner.output.tail_au                      19439 non-null  float64\n",
      " 22  primary_cleaner.state.floatbank8_a_air              19435 non-null  float64\n",
      " 23  primary_cleaner.state.floatbank8_a_level            19438 non-null  float64\n",
      " 24  primary_cleaner.state.floatbank8_b_air              19435 non-null  float64\n",
      " 25  primary_cleaner.state.floatbank8_b_level            19438 non-null  float64\n",
      " 26  primary_cleaner.state.floatbank8_c_air              19437 non-null  float64\n",
      " 27  primary_cleaner.state.floatbank8_c_level            19438 non-null  float64\n",
      " 28  primary_cleaner.state.floatbank8_d_air              19436 non-null  float64\n",
      " 29  primary_cleaner.state.floatbank8_d_level            19438 non-null  float64\n",
      " 30  rougher.calculation.sulfate_to_au_concentrate       19437 non-null  float64\n",
      " 31  rougher.calculation.floatbank10_sulfate_to_au_feed  19437 non-null  float64\n",
      " 32  rougher.calculation.floatbank11_sulfate_to_au_feed  19437 non-null  float64\n",
      " 33  rougher.calculation.au_pb_ratio                     19439 non-null  float64\n",
      " 34  rougher.input.feed_ag                               19439 non-null  float64\n",
      " 35  rougher.input.feed_pb                               19339 non-null  float64\n",
      " 36  rougher.input.feed_rate                             19428 non-null  float64\n",
      " 37  rougher.input.feed_size                             19294 non-null  float64\n",
      " 38  rougher.input.feed_sol                              19340 non-null  float64\n",
      " 39  rougher.input.feed_au                               19439 non-null  float64\n",
      " 40  rougher.input.floatbank10_sulfate                   19405 non-null  float64\n",
      " 41  rougher.input.floatbank10_xanthate                  19431 non-null  float64\n",
      " 42  rougher.input.floatbank11_sulfate                   19395 non-null  float64\n",
      " 43  rougher.input.floatbank11_xanthate                  18986 non-null  float64\n",
      " 44  rougher.output.concentrate_ag                       19439 non-null  float64\n",
      " 45  rougher.output.concentrate_pb                       19439 non-null  float64\n",
      " 46  rougher.output.concentrate_sol                      19416 non-null  float64\n",
      " 47  rougher.output.concentrate_au                       19439 non-null  float64\n",
      " 48  rougher.output.recovery                             19439 non-null  float64\n",
      " 49  rougher.output.tail_ag                              19438 non-null  float64\n",
      " 50  rougher.output.tail_pb                              19439 non-null  float64\n",
      " 51  rougher.output.tail_sol                             19439 non-null  float64\n",
      " 52  rougher.output.tail_au                              19439 non-null  float64\n",
      " 53  rougher.state.floatbank10_a_air                     19438 non-null  float64\n",
      " 54  rougher.state.floatbank10_a_level                   19438 non-null  float64\n",
      " 55  rougher.state.floatbank10_b_air                     19438 non-null  float64\n",
      " 56  rougher.state.floatbank10_b_level                   19438 non-null  float64\n",
      " 57  rougher.state.floatbank10_c_air                     19438 non-null  float64\n",
      " 58  rougher.state.floatbank10_c_level                   19438 non-null  float64\n",
      " 59  rougher.state.floatbank10_d_air                     19439 non-null  float64\n",
      " 60  rougher.state.floatbank10_d_level                   19439 non-null  float64\n",
      " 61  rougher.state.floatbank10_e_air                     19003 non-null  float64\n",
      " 62  rougher.state.floatbank10_e_level                   19439 non-null  float64\n",
      " 63  rougher.state.floatbank10_f_air                     19439 non-null  float64\n",
      " 64  rougher.state.floatbank10_f_level                   19439 non-null  float64\n",
      " 65  secondary_cleaner.output.tail_ag                    19437 non-null  float64\n",
      " 66  secondary_cleaner.output.tail_pb                    19427 non-null  float64\n",
      " 67  secondary_cleaner.output.tail_sol                   17691 non-null  float64\n",
      " 68  secondary_cleaner.output.tail_au                    19439 non-null  float64\n",
      " 69  secondary_cleaner.state.floatbank2_a_air            19219 non-null  float64\n",
      " 70  secondary_cleaner.state.floatbank2_a_level          19438 non-null  float64\n",
      " 71  secondary_cleaner.state.floatbank2_b_air            19416 non-null  float64\n",
      " 72  secondary_cleaner.state.floatbank2_b_level          19438 non-null  float64\n",
      " 73  secondary_cleaner.state.floatbank3_a_air            19426 non-null  float64\n",
      " 74  secondary_cleaner.state.floatbank3_a_level          19438 non-null  float64\n",
      " 75  secondary_cleaner.state.floatbank3_b_air            19438 non-null  float64\n",
      " 76  secondary_cleaner.state.floatbank3_b_level          19438 non-null  float64\n",
      " 77  secondary_cleaner.state.floatbank4_a_air            19433 non-null  float64\n",
      " 78  secondary_cleaner.state.floatbank4_a_level          19438 non-null  float64\n",
      " 79  secondary_cleaner.state.floatbank4_b_air            19438 non-null  float64\n",
      " 80  secondary_cleaner.state.floatbank4_b_level          19438 non-null  float64\n",
      " 81  secondary_cleaner.state.floatbank5_a_air            19438 non-null  float64\n",
      " 82  secondary_cleaner.state.floatbank5_a_level          19438 non-null  float64\n",
      " 83  secondary_cleaner.state.floatbank5_b_air            19438 non-null  float64\n",
      " 84  secondary_cleaner.state.floatbank5_b_level          19438 non-null  float64\n",
      " 85  secondary_cleaner.state.floatbank6_a_air            19437 non-null  float64\n",
      " 86  secondary_cleaner.state.floatbank6_a_level          19438 non-null  float64\n",
      "dtypes: float64(86), object(1)\n",
      "memory usage: 12.9+ MB\n",
      "None\n"
     ]
    }
   ],
   "source": [
    "# Открываю фреймы, смотрю информацию, оцениваю наличие пропусков\n",
    "df_train = pd.read_csv('/datasets/gold_recovery_train_new.csv')\n",
    "df_test = pd.read_csv('/datasets/gold_recovery_test_new.csv')\n",
    "df_full = pd.read_csv('/datasets/gold_recovery_full_new.csv')\n",
    "df_list = [df_train, df_test, df_full]\n",
    "for df in df_list:\n",
    "    display(df.head(10))\n",
    "    print(df.info())\n",
    "    print(df.isna().sum())\n",
    "    print(df.info())"
   ]
  },
  {
   "cell_type": "markdown",
   "metadata": {},
   "source": [
    "### Проверка, что эффективность обогащения рассчитана правильно. \n",
    "Вычислите её на обучающей выборке для признака rougher.output.recovery. Найдите MAE между вашими расчётами и значением признака."
   ]
  },
  {
   "cell_type": "code",
   "execution_count": 3,
   "metadata": {},
   "outputs": [
    {
     "name": "stdout",
     "output_type": "stream",
     "text": [
      "MAE rougher.output.recovery = 1.1048088336081847e-16\n"
     ]
    }
   ],
   "source": [
    "\n",
    "df_train['recovery_calc'] = df_train.apply(lambda x: x['rougher.output.recovery'] \n",
    "    -(100* x['rougher.output.concentrate_au']\n",
    "    *(x['rougher.input.feed_au'] - x['rougher.output.tail_au']))/(x['rougher.input.feed_au']*(x['rougher.output.concentrate_au']-x['rougher.output.tail_au'])),\n",
    "                                           axis=1)\n",
    "print('MAE rougher.output.recovery =',df_train['recovery_calc'].mean())\n"
   ]
  },
  {
   "cell_type": "markdown",
   "metadata": {},
   "source": [
    "**Вывод**\n",
    "recovery в выборках верный."
   ]
  },
  {
   "cell_type": "markdown",
   "metadata": {},
   "source": [
    "### Проанализируйте признаки, недоступные в тестовой выборке. \n",
    "Что это за параметры? К какому типу относятся?"
   ]
  },
  {
   "cell_type": "code",
   "execution_count": 4,
   "metadata": {},
   "outputs": [
    {
     "name": "stdout",
     "output_type": "stream",
     "text": [
      "0                           final.output.concentrate_ag\n",
      "1                           final.output.concentrate_pb\n",
      "2                          final.output.concentrate_sol\n",
      "3                           final.output.concentrate_au\n",
      "4                                 final.output.recovery\n",
      "5                                  final.output.tail_ag\n",
      "6                                  final.output.tail_pb\n",
      "7                                 final.output.tail_sol\n",
      "8                                  final.output.tail_au\n",
      "9                 primary_cleaner.output.concentrate_ag\n",
      "10                primary_cleaner.output.concentrate_pb\n",
      "11               primary_cleaner.output.concentrate_sol\n",
      "12                primary_cleaner.output.concentrate_au\n",
      "13                       primary_cleaner.output.tail_ag\n",
      "14                       primary_cleaner.output.tail_pb\n",
      "15                      primary_cleaner.output.tail_sol\n",
      "16                       primary_cleaner.output.tail_au\n",
      "17        rougher.calculation.sulfate_to_au_concentrate\n",
      "18    rougher.calculation.floatbank10_sulfate_to_au_...\n",
      "19    rougher.calculation.floatbank11_sulfate_to_au_...\n",
      "20                      rougher.calculation.au_pb_ratio\n",
      "21                        rougher.output.concentrate_ag\n",
      "22                        rougher.output.concentrate_pb\n",
      "23                       rougher.output.concentrate_sol\n",
      "24                        rougher.output.concentrate_au\n",
      "25                              rougher.output.recovery\n",
      "26                               rougher.output.tail_ag\n",
      "27                               rougher.output.tail_pb\n",
      "28                              rougher.output.tail_sol\n",
      "29                               rougher.output.tail_au\n",
      "30                     secondary_cleaner.output.tail_ag\n",
      "31                     secondary_cleaner.output.tail_pb\n",
      "32                    secondary_cleaner.output.tail_sol\n",
      "33                     secondary_cleaner.output.tail_au\n",
      "dtype: object\n"
     ]
    }
   ],
   "source": [
    "columns_test = df_test.columns.tolist()\n",
    "columns_full = df_full.columns.tolist()\n",
    "columns_nontest =[]\n",
    "\n",
    "# В цикле переберем все столбцы, не входящие в тестовую выборку запишем в список\n",
    "for col in columns_full:\n",
    "    if not col in columns_test:\n",
    "        columns_nontest.append(col)\n",
    "columns_nontest = pd.Series(columns_nontest)\n",
    "print(columns_nontest)"
   ]
  },
  {
   "cell_type": "markdown",
   "metadata": {},
   "source": [
    "**Вывод**\n",
    "\n",
    "Все признаки, недоступные в тестовой выборке это результаты этапов обогащения породы. Вероятно, необходимо строить модель, которая предскажет результат обогащения до начала обработки руды, что логично, обогащение породы идет в больших объемах, анализ результатов это лабораторные исследования, требующие времени, значит даже первая стадия обогощения породы с низким выходом концентрата принесет убытки как и время ожидания лабораторных испытаний образцов породы."
   ]
  },
  {
   "cell_type": "markdown",
   "metadata": {},
   "source": [
    "### Проведите предобработку данных.\n",
    "а) Дополним тестовую выборку таргетными параметрами."
   ]
  },
  {
   "cell_type": "code",
   "execution_count": 5,
   "metadata": {},
   "outputs": [],
   "source": [
    "# Создаем новую индексацию фреймов\n",
    "df_full = df_full.ffill().reset_index()\n",
    "df_train = df_train.ffill().reset_index()\n",
    "df_test = df_test.ffill().reset_index()\n",
    "\n",
    "# Прерводим значения столбца Date в тип данных дата(Пандас)\n",
    "df_full['date'] = pd.to_datetime(df_full['date'],\n",
    "format='%Y-%m-%d %H:%M:%S')\n",
    "df_train['date'] = pd.to_datetime(df_train['date'],\n",
    "format='%Y-%m-%d %H:%M:%S')\n",
    "df_test['date'] = pd.to_datetime(df_test['date'],\n",
    "format='%Y-%m-%d %H:%M:%S')\n",
    "\n",
    "# сращиваем выделенные таргетные столбцы с тестовой выборкой синхронизирую по дате\n",
    "df_target_col = df_full[['date','rougher.output.recovery','final.output.recovery']]\n",
    "df_test = df_test.merge(df_target_col, on='date')\n",
    "df_test = df_test.drop('date',axis=1)"
   ]
  },
  {
   "cell_type": "code",
   "execution_count": 6,
   "metadata": {},
   "outputs": [],
   "source": [
    "# Удаляем пропуски в данных\n",
    "df_train = df_train.dropna().reset_index()\n",
    "df_test = df_test.dropna().reset_index()"
   ]
  },
  {
   "cell_type": "markdown",
   "metadata": {},
   "source": [
    "б) удаляем нулевые значения из обучающей выборки "
   ]
  },
  {
   "cell_type": "code",
   "execution_count": 7,
   "metadata": {},
   "outputs": [],
   "source": [
    "df_train = df_train.drop(df_train[df_train['rougher.output.recovery'] == 0].index.tolist(), axis=0)\n",
    "\n",
    "df_train = df_train.drop(df_train[df_train['final.output.recovery'] == 0].index.tolist(), axis=0)"
   ]
  },
  {
   "cell_type": "code",
   "execution_count": 8,
   "metadata": {},
   "outputs": [],
   "source": [
    "# Функция по удалению коллинеарных признаков, не использую\n",
    "\n",
    "def correlation(dataset, threshold):\n",
    "    col_corr = set() # Set of all the names of deleted columns\n",
    "    corr_matrix = dataset.corr()\n",
    "    for i in range(len(corr_matrix.columns)):\n",
    "        for j in range(i):\n",
    "            if (corr_matrix.iloc[i, j] >= threshold) and (corr_matrix.columns[j] not in col_corr):\n",
    "                colname = corr_matrix.columns[i] # getting the name of column\n",
    "                col_corr.add(colname)\n",
    "                if colname in dataset.columns:\n",
    "                    dataset = dataset.drop(colname, axis=1) # deleting the column from the dataset\n",
    "\n",
    "    return dataset\n",
    "\n",
    "#df_test = correlation(df_test, 0.6)\n"
   ]
  },
  {
   "cell_type": "code",
   "execution_count": 9,
   "metadata": {},
   "outputs": [],
   "source": [
    "# Выравниваю признаки в тренинговой выборке с признаками в тестовой\n",
    "df_train = df_train[df_test.columns]"
   ]
  },
  {
   "cell_type": "code",
   "execution_count": 10,
   "metadata": {
    "scrolled": false
   },
   "outputs": [
    {
     "data": {
      "image/png": "[encoded data removed]",
      "text/plain": [
       "<Figure size 864x504 with 1 Axes>"
      ]
     },
     "metadata": {
      "needs_background": "light"
     },
     "output_type": "display_data"
    }
   ],
   "source": [
    "plt.figure(figsize=(12,7))\n",
    "sns.kdeplot(df_train['rougher.output.recovery'])\n",
    "sns.kdeplot(df_train['final.output.recovery'])\n",
    "plt.legend(['rougher','Final'],fontsize='x-large', loc='upper left')\n",
    "plt.show()\n"
   ]
  },
  {
   "cell_type": "markdown",
   "metadata": {},
   "source": [
    "## Анализ данных"
   ]
  },
  {
   "cell_type": "markdown",
   "metadata": {},
   "source": [
    "### Посмотрите, как меняется концентрация металлов (Au, Ag, Pb) на различных этапах очистки."
   ]
  },
  {
   "cell_type": "code",
   "execution_count": 12,
   "metadata": {
    "scrolled": true
   },
   "outputs": [],
   "source": [
    "def kde_columns(df,col_list, plot):\n",
    "    for word in col_list:\n",
    "        word_list = df.columns[df.columns.str.contains(word)].tolist()\n",
    "        plt.figure(figsize=(15,9))\n",
    "        plot(df[word_list[0]], fill=True, alpha=0.3)\n",
    "        plot(df_full[word_list[1]], fill=True, alpha=0.3)\n",
    "        plot(df_full[word_list[2]], fill=True, alpha=0.3)\n",
    "        plt.legend(word_list, fontsize='x-large')\n",
    "        plt.show()"
   ]
  },
  {
   "cell_type": "code",
   "execution_count": 13,
   "metadata": {},
   "outputs": [
    {
     "data": {
      "image/png": "[encoded data removed]",
      "text/plain": [
       "<Figure size 1080x648 with 1 Axes>"
      ]
     },
     "metadata": {
      "needs_background": "light"
     },
     "output_type": "display_data"
    },
    {
     "data": {
      "image/png": "[encoded data removed]",
      "text/plain": [
       "<Figure size 1080x648 with 1 Axes>"
      ]
     },
     "metadata": {
      "needs_background": "light"
     },
     "output_type": "display_data"
    },
    {
     "data": {
      "image/png": "[encoded data removed]",
      "text/plain": [
       "<Figure size 1080x648 with 1 Axes>"
      ]
     },
     "metadata": {
      "needs_background": "light"
     },
     "output_type": "display_data"
    }
   ],
   "source": [
    "metals = ['concentrate_au', 'concentrate_ag', 'concentrate_pb']\n",
    "kde_columns(df_full,metals, plot=sns.kdeplot)"
   ]
  },
  {
   "cell_type": "code",
   "execution_count": 14,
   "metadata": {
    "scrolled": false
   },
   "outputs": [
    {
     "data": {
      "image/png": "[encoded data removed]",
      "text/plain": [
       "<Figure size 1080x648 with 1 Axes>"
      ]
     },
     "metadata": {
      "needs_background": "light"
     },
     "output_type": "display_data"
    },
    {
     "data": {
      "image/png": "[encoded data removed]",
      "text/plain": [
       "<Figure size 1080x648 with 1 Axes>"
      ]
     },
     "metadata": {
      "needs_background": "light"
     },
     "output_type": "display_data"
    },
    {
     "data": {
      "image/png": "[encoded data removed]",
      "text/plain": [
       "<Figure size 1080x648 with 1 Axes>"
      ]
     },
     "metadata": {
      "needs_background": "light"
     },
     "output_type": "display_data"
    }
   ],
   "source": [
    "metals = ['tail_au', 'tail_ag', 'tail_pb']\n",
    "kde_columns(df_full,metals, sns.kdeplot)"
   ]
  },
  {
   "cell_type": "markdown",
   "metadata": {},
   "source": [
    "**Вывод**\n",
    "\n",
    "Концентрация золота от этапа к этапу в породе растет, серебра падает, свинец примерно одинаково на всех этапах.\n",
    "В отвальных хвостах концентрация минимальна, серебро на этапах активно уходит в хвосты, свинец уходит умеренно и с большим разбросом.           "
   ]
  },
  {
   "cell_type": "markdown",
   "metadata": {},
   "source": [
    "###  Сравните распределения размеров гранул сырья на обучающей и тестовой выборках. Если распределения сильно отличаются друг от друга, оценка модели будет неправильной."
   ]
  },
  {
   "cell_type": "code",
   "execution_count": 15,
   "metadata": {
    "scrolled": false
   },
   "outputs": [
    {
     "data": {
      "image/png": "[encoded data removed]",
      "text/plain": [
       "<Figure size 1080x648 with 1 Axes>"
      ]
     },
     "metadata": {
      "needs_background": "light"
     },
     "output_type": "display_data"
    },
    {
     "data": {
      "image/png": "[encoded data removed]",
      "text/plain": [
       "<Figure size 576x1080 with 1 Axes>"
      ]
     },
     "metadata": {
      "needs_background": "light"
     },
     "output_type": "display_data"
    }
   ],
   "source": [
    "plt.figure(figsize=(15,9))\n",
    "sns.kdeplot(df_train['primary_cleaner.input.feed_size'],fill=True, alpha=0.3)\n",
    "sns.kdeplot(df_test['primary_cleaner.input.feed_size'],fill=True, alpha=0.3)\n",
    "plt.legend(['Train','Test'],fontsize='x-large')\n",
    "plt.show()\n",
    "\n",
    "list_size = df_train.columns[df_train.columns.str.contains('size')].tolist()\n",
    "df_train[list_size].boxplot(figsize=(8,15))\n",
    "df_test[list_size].boxplot(figsize=(8,15))\n",
    "plt.legend(list_size, fontsize='x-large')\n",
    "plt.show()"
   ]
  },
  {
   "cell_type": "markdown",
   "metadata": {},
   "source": [
    "Распределения не сильно отличаются друг от друга, но имеются выбросы, у тренировочной выборки выбросы в минимальное значение гранул, у тестовой выбросы в крупный размер гранулы."
   ]
  },
  {
   "cell_type": "markdown",
   "metadata": {},
   "source": [
    "### Исследуйте суммарную концентрацию всех веществ на разных стадиях: в сырье, в черновом и финальном концентратах."
   ]
  },
  {
   "cell_type": "code",
   "execution_count": 16,
   "metadata": {
    "scrolled": false
   },
   "outputs": [
    {
     "data": {
      "image/png": "[encoded data removed]",
      "text/plain": [
       "<Figure size 576x720 with 1 Axes>"
      ]
     },
     "metadata": {
      "needs_background": "light"
     },
     "output_type": "display_data"
    },
    {
     "data": {
      "image/png": "[encoded data removed]",
      "text/plain": [
       "<Figure size 576x720 with 1 Axes>"
      ]
     },
     "metadata": {
      "needs_background": "light"
     },
     "output_type": "display_data"
    },
    {
     "data": {
      "image/png": "[encoded data removed]",
      "text/plain": [
       "<Figure size 576x720 with 1 Axes>"
      ]
     },
     "metadata": {
      "needs_background": "light"
     },
     "output_type": "display_data"
    },
    {
     "data": {
      "image/png": "[encoded data removed]",
      "text/plain": [
       "<Figure size 576x864 with 1 Axes>"
      ]
     },
     "metadata": {
      "needs_background": "light"
     },
     "output_type": "display_data"
    }
   ],
   "source": [
    "metales = ['rougher.output.concentrate', 'cleaner.output.concentrate', 'final.output.concentrate']\n",
    "stad_list = 0\n",
    "df_stad=[]\n",
    "met_conc = []\n",
    "\n",
    "for met in metales:\n",
    "    stad_list = df_full.columns[df_full.columns.str.contains(met)].tolist()\n",
    "    for i in range(len(stad_list)):\n",
    "        met_conc.insert(0,df_full[stad_list[i]].median())\n",
    "    df_stad.append(met_conc)\n",
    "    met_conc=[]\n",
    "    \n",
    "    df_full[stad_list].plot.hist(density=True, stacked=True, alpha=0.5, figsize=(8,10), grid=True)\n",
    "    plt.legend(stad_list, fontsize='large')\n",
    "    plt.show()\n",
    "\n",
    "metales = ['concentrate_sol', 'concentrate_ag', 'concentrate_pb', 'concentrate_au']\n",
    "stad_list = 0\n",
    "df_stad=[]\n",
    "met_conc = []\n",
    "\n",
    "for met in metales:\n",
    "    stad_list = df_full.columns[df_full.columns.str.contains(met)].tolist()\n",
    "    for i in range(len(stad_list)):\n",
    "        met_conc.insert(0,df_full[stad_list[i]].median())\n",
    "    df_stad.append(met_conc)\n",
    "    met_conc=[]\n",
    "    \n",
    "columns=['fin','clean','rough']\n",
    "index = np.arange(len(columns)) + 0.3\n",
    "y_offset = np.zeros(len(columns))\n",
    "plt.figure(figsize=(8,12))\n",
    "for row in range(len(df_stad)):\n",
    "    plt.bar(index, df_stad[row],width=0.5, bottom=y_offset)\n",
    "    y_offset = y_offset + df_stad[row]\n",
    "    \n",
    "plt.legend(['ag','pb','sol','au'], fontsize='large')\n",
    "plt.xlabel('rough -> clean -> final')\n",
    "plt.ylabel('median concentrate in %')\n",
    "plt.show()\n"
   ]
  },
  {
   "cell_type": "markdown",
   "metadata": {},
   "source": [
    "**Вывод**\n",
    "\n",
    "При не слишком сильно отличающейся по этапам суммарной концентрации металлов, доля золота в суммарном концентрате значительно растет, доля металлов падает."
   ]
  },
  {
   "cell_type": "markdown",
   "metadata": {},
   "source": [
    "## Модель"
   ]
  },
  {
   "cell_type": "code",
   "execution_count": 17,
   "metadata": {},
   "outputs": [],
   "source": [
    "train_rough_target = df_train['rougher.output.recovery']\n",
    "train_final_target = df_train['final.output.recovery']\n",
    "train_rough_features = df_train[[ 'rougher.input.feed_rate',\n",
    "                                 'rougher.input.feed_size',\n",
    "                                 'rougher.input.feed_au']]\n",
    "train_final_features = df_train[['primary_cleaner.input.sulfate',\n",
    "                                 'primary_cleaner.input.feed_size',\n",
    "                                 'primary_cleaner.state.floatbank8_a_air',\n",
    "                                 'secondary_cleaner.state.floatbank2_a_air']]\n",
    "\n",
    "test_rough_target = df_test['rougher.output.recovery']\n",
    "test_final_target = df_test['final.output.recovery']\n",
    "test_rough_features = df_test[[ 'rougher.input.feed_rate',\n",
    "                               'rougher.input.feed_size',\n",
    "                               'rougher.input.feed_au']]\n",
    "test_final_features = df_test[['primary_cleaner.input.sulfate',\n",
    "                               'primary_cleaner.input.feed_size',\n",
    "                               'primary_cleaner.state.floatbank8_a_air',\n",
    "                               'secondary_cleaner.state.floatbank2_a_air']]\n"
   ]
  },
  {
   "cell_type": "markdown",
   "metadata": {},
   "source": [
    "### Напишите функцию для вычисления итоговой sMAPE."
   ]
  },
  {
   "cell_type": "code",
   "execution_count": 18,
   "metadata": {},
   "outputs": [],
   "source": [
    "# Функция SMAPE\n",
    "def smape(targ, pred):\n",
    "    err = abs(targ - pred)\n",
    "    scal = (abs(targ) + abs(pred))/2\n",
    "    return (err/scal).mean()*100\n",
    "\n",
    "# Функция SMAPE для первого этапа и финального\n",
    "def total_smape(df1,df2,text):\n",
    "    print(text, df1*0.25+df2*0.75)\n",
    "\n",
    "# Функция теста на вменяемость\n",
    "def sanity_check(df1, text, func=mean_absolute_error, result=True):\n",
    "    const_list=[]\n",
    "    for i in range(len(df1)):\n",
    "        const_list.append(df1.mean())\n",
    "    const_pred = pd.Series(const_list)\n",
    "    res = func(df1.reset_index(drop=True), const_pred)\n",
    "    print(text, res)\n",
    "    if result==True:\n",
    "        return res\n",
    "\n",
    "# Функция обучения модели с кроссвалидациейи финальным вычислением SMAPE для тестовой выборки\n",
    "def model_smape_score_cv (model, model_name, test=False):\n",
    "    text=f'SMAPE for model {model_name} for all proces:'\n",
    "    smape_score = make_scorer(smape, greater_is_better=False) #Создаем скоринг-параметр для кроссвалидации\n",
    "# Обучение модели для 1 этапа очистки и кроссвалидация с подсчетом SMAPE    \n",
    "    model_r = model.fit(train_rough_features, train_rough_target) \n",
    "    result_smape_rough_train = cross_val_score(model_r, train_rough_features, train_rough_target, scoring=smape_score, cv=5)\n",
    "    print(f'SMAPE for Rough-stadies train sample of {model_name}:', result_smape_rough_train.mean())\n",
    "# Обучение модели для последнего этапа очистки и кроссвалидация с подсчетом     \n",
    "    model_f = model.fit(train_final_features, train_final_target) \n",
    "    result_smape_final_train = cross_val_score(model_f, train_final_features, train_final_target, scoring=smape_score, cv=5)\n",
    "    print(f'SMAPE for Final-stadies train sample of {model_name}:', result_smape_final_train.mean())\n",
    "# Подсчет SMAPE для всего процесса на тренировочной выборке  \n",
    "    total_smape(result_smape_rough_train.mean(), result_smape_final_train.mean(), text=text)\n",
    "    print('')\n",
    "    if test==True:# Проверка модели с подсчетом SMAPE \n",
    "        model_r = model.fit(train_rough_features, train_rough_target) \n",
    "        predicted_r = model_r.predict(test_rough_features)\n",
    "        print(f'SMAPE for Rough-stadies test sample of {model_name}:', smape(test_rough_target, predicted_r))\n",
    "        model_f = model.fit(train_final_features, train_final_target)\n",
    "        predicted_f = model_f.predict(test_final_features)\n",
    "        print(f'SMAPE for Final-stadies test sample of {model_name}:', smape(test_final_target, predicted_f))\n",
    "        \n",
    "        total_smape(smape(test_rough_target, predicted_r), smape(test_final_target, predicted_f), text=text)\n",
    "        print('')"
   ]
  },
  {
   "cell_type": "code",
   "execution_count": 24,
   "metadata": {},
   "outputs": [
    {
     "name": "stdout",
     "output_type": "stream",
     "text": [
      "Sanity check SMAPE: 8.782646809148407\n",
      "Sanity check SMAPE: 9.370995594347834\n",
      "Sanity check SMAPE for all proces: 9.223908398047978\n"
     ]
    }
   ],
   "source": [
    "# Тест на вменяемость\n",
    "rough_smape = sanity_check(test_rough_target,func=smape, text='Sanity check SMAPE:')\n",
    "final_smape = sanity_check(test_final_target,func=smape, text='Sanity check SMAPE:')\n",
    "total_smape(rough_smape,final_smape, text='Sanity check SMAPE for all proces:')"
   ]
  },
  {
   "cell_type": "markdown",
   "metadata": {},
   "source": [
    "### Обучите разные модели и оцените их качество кросс-валидацией. Выберите лучшую модель и проверьте её на тестовой выборке."
   ]
  },
  {
   "cell_type": "code",
   "execution_count": 25,
   "metadata": {},
   "outputs": [
    {
     "name": "stdout",
     "output_type": "stream",
     "text": [
      "SMAPE for Rough-stadies train sample of LinearRegression: -7.45272227846724\n",
      "SMAPE for Final-stadies train sample of LinearRegression: -9.715028272242611\n",
      "SMAPE for model LinearRegression for all proces: -9.149451773798768\n",
      "\n",
      "SMAPE for Rough-stadies test sample of LinearRegression: 7.481583908559773\n",
      "SMAPE for Final-stadies test sample of LinearRegression: 9.015651091330955\n",
      "SMAPE for model LinearRegression for all proces: 8.63213429563816\n",
      "\n"
     ]
    }
   ],
   "source": [
    "model = LinearRegression(normalize=True)\n",
    "model_smape_score_cv(model=model,model_name='LinearRegression', test=True)"
   ]
  },
  {
   "cell_type": "code",
   "execution_count": 26,
   "metadata": {},
   "outputs": [
    {
     "name": "stdout",
     "output_type": "stream",
     "text": [
      "SMAPE for Rough-stadies train sample of DecisionTreeRegressor: -6.518193604420228\n",
      "SMAPE for Final-stadies train sample of DecisionTreeRegressor: -9.817188631184418\n",
      "SMAPE for model DecisionTreeRegressor for all proces: -8.992439874493371\n",
      "\n",
      "SMAPE for Rough-stadies test sample of DecisionTreeRegressor: 8.342471810948432\n",
      "SMAPE for Final-stadies test sample of DecisionTreeRegressor: 10.975982597731813\n",
      "SMAPE for model DecisionTreeRegressor for all proces: 10.317604901035967\n",
      "\n"
     ]
    }
   ],
   "source": [
    "smape_score = make_scorer(smape, greater_is_better=False)\n",
    "dtc = DecisionTreeRegressor(random_state=12345)\n",
    "parametrs_dtc = {'max_depth': range (1,15, 1)}\n",
    "grid_dtc = GridSearchCV(dtc, parametrs_dtc, scoring=smape_score, cv=5)\n",
    "grid_dtc.fit(train_rough_features, train_rough_target)\n",
    "best_tree_model = grid_dtc.best_estimator_\n",
    "\n",
    "model_smape_score_cv(model=best_tree_model,model_name='DecisionTreeRegressor', test=True)\n"
   ]
  },
  {
   "cell_type": "code",
   "execution_count": null,
   "metadata": {},
   "outputs": [],
   "source": [
    "smape_score = make_scorer(smape, greater_is_better=False)\n",
    "dtc = RandomForestRegressor(random_state=12345)\n",
    "parametrs_dtc = {'max_depth': range (1,10,2),\n",
    "                'n_estimators': range (40,90,5)}\n",
    "grid_dtc = GridSearchCV(dtc, parametrs_dtc, scoring=smape_score, cv=5)\n",
    "grid_dtc.fit(train_rough_features, train_rough_target)\n",
    "best_tree_model = grid_dtc.best_estimator_\n",
    "\n",
    "model_smape_score_cv(model=best_tree_model,model_name='DecisionTreeRegressor', test=True)"
   ]
  },
  {
   "cell_type": "markdown",
   "metadata": {},
   "source": [
    "## Вывод\n",
    "\n",
    "Наилучший показатель у модели линейной регрессии, модель так же лучше чем показатели теста на вменяемость с средним значением целевого параметра для всех данных."
   ]
  }
 ],
 "metadata": {
  "ExecuteTimeLog": [
   {
    "duration": 69,
    "start_time": "2022-03-23T17:47:33.040Z"
   },
   {
    "duration": 2097,
    "start_time": "2022-03-23T17:47:38.028Z"
   },
   {
    "duration": 173,
    "start_time": "2022-03-23T17:47:40.128Z"
   },
   {
    "duration": 845,
    "start_time": "2022-03-23T17:48:30.739Z"
   },
   {
    "duration": 942,
    "start_time": "2022-03-23T17:48:44.284Z"
   },
   {
    "duration": 896,
    "start_time": "2022-03-23T17:52:15.321Z"
   },
   {
    "duration": 972,
    "start_time": "2022-03-23T17:52:27.360Z"
   },
   {
    "duration": 900,
    "start_time": "2022-03-23T17:53:10.228Z"
   },
   {
    "duration": 1281,
    "start_time": "2022-03-23T18:41:10.766Z"
   },
   {
    "duration": 102011,
    "start_time": "2022-03-23T18:46:08.079Z"
   },
   {
    "duration": 209,
    "start_time": "2022-03-23T18:49:10.184Z"
   },
   {
    "duration": 31,
    "start_time": "2022-03-23T18:56:21.264Z"
   },
   {
    "duration": 0,
    "start_time": "2022-03-23T18:57:39.544Z"
   },
   {
    "duration": 2002,
    "start_time": "2022-03-23T18:57:50.746Z"
   },
   {
    "duration": 1071,
    "start_time": "2022-03-23T18:57:52.751Z"
   },
   {
    "duration": 196774,
    "start_time": "2022-03-23T18:57:53.825Z"
   },
   {
    "duration": 2133,
    "start_time": "2022-03-23T19:01:37.161Z"
   },
   {
    "duration": 2563,
    "start_time": "2022-03-23T19:01:39.297Z"
   },
   {
    "duration": 115196,
    "start_time": "2022-03-23T19:01:41.863Z"
   },
   {
    "duration": 1542,
    "start_time": "2022-03-24T07:56:11.782Z"
   },
   {
    "duration": 803,
    "start_time": "2022-03-24T07:56:13.326Z"
   },
   {
    "duration": 92,
    "start_time": "2022-03-24T07:56:19.680Z"
   },
   {
    "duration": 8,
    "start_time": "2022-03-24T07:56:48.949Z"
   },
   {
    "duration": 9,
    "start_time": "2022-03-24T07:57:08.541Z"
   },
   {
    "duration": 3,
    "start_time": "2022-03-24T07:58:56.950Z"
   },
   {
    "duration": 4,
    "start_time": "2022-03-24T08:00:14.655Z"
   },
   {
    "duration": 201,
    "start_time": "2022-03-24T08:02:50.694Z"
   },
   {
    "duration": 1708,
    "start_time": "2022-03-24T08:03:14.391Z"
   },
   {
    "duration": 1573,
    "start_time": "2022-03-24T08:03:24.953Z"
   },
   {
    "duration": 18,
    "start_time": "2022-03-24T08:03:38.393Z"
   },
   {
    "duration": 15,
    "start_time": "2022-03-24T08:03:58.630Z"
   },
   {
    "duration": 110287,
    "start_time": "2022-03-24T08:04:52.621Z"
   },
   {
    "duration": 216,
    "start_time": "2022-03-24T09:34:10.013Z"
   },
   {
    "duration": 246,
    "start_time": "2022-03-24T09:34:17.194Z"
   },
   {
    "duration": 20,
    "start_time": "2022-03-24T09:34:36.707Z"
   },
   {
    "duration": 21,
    "start_time": "2022-03-24T09:36:31.756Z"
   },
   {
    "duration": 205,
    "start_time": "2022-03-24T09:39:37.422Z"
   },
   {
    "duration": 25,
    "start_time": "2022-03-24T09:39:42.971Z"
   },
   {
    "duration": 37,
    "start_time": "2022-03-24T09:39:55.571Z"
   },
   {
    "duration": 28,
    "start_time": "2022-03-24T09:40:44.892Z"
   },
   {
    "duration": 3,
    "start_time": "2022-03-24T09:40:56.878Z"
   },
   {
    "duration": 2520,
    "start_time": "2022-03-24T09:40:57.312Z"
   },
   {
    "duration": 25,
    "start_time": "2022-03-24T09:40:59.834Z"
   },
   {
    "duration": 20,
    "start_time": "2022-03-24T09:41:03.552Z"
   },
   {
    "duration": 27,
    "start_time": "2022-03-24T09:42:06.117Z"
   },
   {
    "duration": 197,
    "start_time": "2022-03-24T09:44:22.950Z"
   },
   {
    "duration": 18,
    "start_time": "2022-03-24T09:44:33.296Z"
   },
   {
    "duration": 29,
    "start_time": "2022-03-24T09:45:19.783Z"
   },
   {
    "duration": 15,
    "start_time": "2022-03-24T09:46:10.135Z"
   },
   {
    "duration": 168,
    "start_time": "2022-03-24T09:46:34.026Z"
   },
   {
    "duration": 20,
    "start_time": "2022-03-24T09:47:20.954Z"
   },
   {
    "duration": 693,
    "start_time": "2022-03-24T09:48:10.892Z"
   },
   {
    "duration": 22,
    "start_time": "2022-03-24T09:48:11.670Z"
   },
   {
    "duration": 22,
    "start_time": "2022-03-24T09:48:33.049Z"
   },
   {
    "duration": 230,
    "start_time": "2022-03-24T09:48:45.553Z"
   },
   {
    "duration": 786,
    "start_time": "2022-03-24T09:49:20.361Z"
   },
   {
    "duration": 313,
    "start_time": "2022-03-24T09:49:31.678Z"
   },
   {
    "duration": 1753,
    "start_time": "2022-03-24T17:59:27.971Z"
   },
   {
    "duration": 926,
    "start_time": "2022-03-24T17:59:29.727Z"
   },
   {
    "duration": 354,
    "start_time": "2022-03-24T17:59:30.655Z"
   },
   {
    "duration": 4,
    "start_time": "2022-03-24T18:02:54.622Z"
   },
   {
    "duration": 318,
    "start_time": "2022-03-24T18:02:59.184Z"
   },
   {
    "duration": 4,
    "start_time": "2022-03-24T18:04:47.122Z"
   },
   {
    "duration": 5846,
    "start_time": "2022-03-24T18:07:10.574Z"
   },
   {
    "duration": 4765,
    "start_time": "2022-03-24T18:17:37.642Z"
   },
   {
    "duration": 39,
    "start_time": "2022-03-24T18:18:05.997Z"
   },
   {
    "duration": 4114,
    "start_time": "2022-03-24T18:18:11.499Z"
   },
   {
    "duration": 1720,
    "start_time": "2022-03-24T18:23:46.560Z"
   },
   {
    "duration": 1222,
    "start_time": "2022-03-24T18:23:48.282Z"
   },
   {
    "duration": 1661,
    "start_time": "2022-03-24T18:25:37.297Z"
   },
   {
    "duration": 878,
    "start_time": "2022-03-24T18:25:38.961Z"
   },
   {
    "duration": 2563563,
    "start_time": "2022-03-24T18:25:45.802Z"
   },
   {
    "duration": 2206,
    "start_time": "2022-03-27T08:44:37.487Z"
   },
   {
    "duration": 1051,
    "start_time": "2022-03-27T08:44:39.696Z"
   },
   {
    "duration": 2867957,
    "start_time": "2022-03-27T08:44:46.776Z"
   },
   {
    "duration": 9,
    "start_time": "2022-03-27T09:52:43.743Z"
   },
   {
    "duration": 27748,
    "start_time": "2022-03-27T09:52:52.649Z"
   },
   {
    "duration": 59302,
    "start_time": "2022-03-27T09:53:46.271Z"
   },
   {
    "duration": 528112,
    "start_time": "2022-03-27T09:55:24.579Z"
   },
   {
    "duration": 1985,
    "start_time": "2022-03-27T10:04:20.992Z"
   },
   {
    "duration": 1045,
    "start_time": "2022-03-27T10:04:22.980Z"
   },
   {
    "duration": 480,
    "start_time": "2022-03-27T10:04:25.696Z"
   },
   {
    "duration": 1902,
    "start_time": "2022-03-27T10:05:49.561Z"
   },
   {
    "duration": 1054,
    "start_time": "2022-03-27T10:05:51.466Z"
   },
   {
    "duration": 2263,
    "start_time": "2022-03-27T10:37:37.618Z"
   },
   {
    "duration": 1002,
    "start_time": "2022-03-27T10:37:40.485Z"
   },
   {
    "duration": 1893,
    "start_time": "2022-03-27T10:46:44.146Z"
   },
   {
    "duration": 1003,
    "start_time": "2022-03-27T10:46:46.044Z"
   },
   {
    "duration": 2299,
    "start_time": "2022-03-27T10:46:47.049Z"
   },
   {
    "duration": 66,
    "start_time": "2022-03-27T11:08:43.762Z"
   },
   {
    "duration": 2156,
    "start_time": "2022-03-27T11:08:49.752Z"
   },
   {
    "duration": 995,
    "start_time": "2022-03-27T11:08:51.910Z"
   },
   {
    "duration": 25,
    "start_time": "2022-03-27T11:08:53.704Z"
   },
   {
    "duration": 84,
    "start_time": "2022-03-27T11:09:59.532Z"
   },
   {
    "duration": 161,
    "start_time": "2022-03-27T11:14:44.854Z"
   },
   {
    "duration": 900,
    "start_time": "2022-03-27T11:16:04.606Z"
   },
   {
    "duration": 453,
    "start_time": "2022-03-27T11:16:17.303Z"
   },
   {
    "duration": 566,
    "start_time": "2022-03-27T11:16:40.453Z"
   },
   {
    "duration": 376,
    "start_time": "2022-03-27T11:17:27.304Z"
   },
   {
    "duration": 347,
    "start_time": "2022-03-27T11:17:38.891Z"
   },
   {
    "duration": 259,
    "start_time": "2022-03-27T11:20:55.502Z"
   },
   {
    "duration": 200,
    "start_time": "2022-03-27T11:21:06.868Z"
   },
   {
    "duration": 382,
    "start_time": "2022-03-27T11:21:17.059Z"
   },
   {
    "duration": 468,
    "start_time": "2022-03-27T11:21:28.463Z"
   },
   {
    "duration": 333,
    "start_time": "2022-03-27T11:22:08.878Z"
   },
   {
    "duration": 344,
    "start_time": "2022-03-27T11:25:36.447Z"
   },
   {
    "duration": 296,
    "start_time": "2022-03-27T11:26:02.422Z"
   },
   {
    "duration": 211,
    "start_time": "2022-03-27T11:26:20.018Z"
   },
   {
    "duration": 487,
    "start_time": "2022-03-27T11:31:18.383Z"
   },
   {
    "duration": 478,
    "start_time": "2022-03-27T11:31:30.428Z"
   },
   {
    "duration": 517,
    "start_time": "2022-03-27T11:31:38.490Z"
   },
   {
    "duration": 188,
    "start_time": "2022-03-27T11:33:03.656Z"
   },
   {
    "duration": 204,
    "start_time": "2022-03-27T11:33:40.161Z"
   },
   {
    "duration": 204,
    "start_time": "2022-03-27T11:34:03.220Z"
   },
   {
    "duration": 460,
    "start_time": "2022-03-27T11:34:32.119Z"
   },
   {
    "duration": 434,
    "start_time": "2022-03-27T11:34:44.271Z"
   },
   {
    "duration": 656,
    "start_time": "2022-03-27T11:34:51.992Z"
   },
   {
    "duration": 701,
    "start_time": "2022-03-27T11:37:59.947Z"
   },
   {
    "duration": 1126,
    "start_time": "2022-03-27T11:38:19.650Z"
   },
   {
    "duration": 1012,
    "start_time": "2022-03-27T11:39:09.064Z"
   },
   {
    "duration": 1479,
    "start_time": "2022-03-27T11:42:03.507Z"
   },
   {
    "duration": 992,
    "start_time": "2022-03-27T11:43:09.738Z"
   },
   {
    "duration": 1187,
    "start_time": "2022-03-27T11:44:03.563Z"
   },
   {
    "duration": 469,
    "start_time": "2022-03-27T11:46:11.479Z"
   },
   {
    "duration": 1025,
    "start_time": "2022-03-27T11:50:24.335Z"
   },
   {
    "duration": 1210,
    "start_time": "2022-03-27T11:51:11.993Z"
   },
   {
    "duration": 1915,
    "start_time": "2022-03-27T16:31:59.591Z"
   },
   {
    "duration": 807,
    "start_time": "2022-03-27T16:32:01.508Z"
   },
   {
    "duration": 721,
    "start_time": "2022-03-27T16:32:02.317Z"
   },
   {
    "duration": 850,
    "start_time": "2022-03-27T16:32:17.876Z"
   },
   {
    "duration": 3490,
    "start_time": "2022-03-27T16:32:44.710Z"
   },
   {
    "duration": 1979,
    "start_time": "2022-03-27T16:33:28.911Z"
   },
   {
    "duration": 521,
    "start_time": "2022-03-27T16:33:49.111Z"
   },
   {
    "duration": 747,
    "start_time": "2022-03-27T16:34:31.362Z"
   },
   {
    "duration": 1138,
    "start_time": "2022-03-27T16:34:50.354Z"
   },
   {
    "duration": 308,
    "start_time": "2022-03-27T16:35:38.140Z"
   },
   {
    "duration": 725,
    "start_time": "2022-03-27T16:35:50.980Z"
   },
   {
    "duration": 888,
    "start_time": "2022-03-27T16:36:09.513Z"
   },
   {
    "duration": 890,
    "start_time": "2022-03-27T16:37:43.911Z"
   },
   {
    "duration": 1439,
    "start_time": "2022-03-27T16:37:58.865Z"
   },
   {
    "duration": 1636,
    "start_time": "2022-03-27T16:38:26.534Z"
   },
   {
    "duration": 1154,
    "start_time": "2022-03-27T16:38:28.172Z"
   },
   {
    "duration": 1913,
    "start_time": "2022-03-27T16:38:29.329Z"
   },
   {
    "duration": 1815,
    "start_time": "2022-03-27T16:55:29.046Z"
   },
   {
    "duration": 2276,
    "start_time": "2022-03-27T16:56:58.052Z"
   },
   {
    "duration": 1544,
    "start_time": "2022-03-27T16:57:54.055Z"
   },
   {
    "duration": 307,
    "start_time": "2022-03-27T16:59:21.161Z"
   },
   {
    "duration": 4068,
    "start_time": "2022-03-27T16:59:40.534Z"
   },
   {
    "duration": 2021,
    "start_time": "2022-03-27T17:00:29.283Z"
   },
   {
    "duration": 1461,
    "start_time": "2022-03-27T17:00:59.449Z"
   },
   {
    "duration": 4183,
    "start_time": "2022-03-27T17:01:23.115Z"
   },
   {
    "duration": 6846,
    "start_time": "2022-03-27T17:04:31.360Z"
   },
   {
    "duration": 3924,
    "start_time": "2022-03-27T17:04:45.379Z"
   },
   {
    "duration": 29,
    "start_time": "2022-03-27T17:14:52.351Z"
   },
   {
    "duration": 27,
    "start_time": "2022-03-27T17:15:32.746Z"
   },
   {
    "duration": 4253,
    "start_time": "2022-03-27T17:16:45.436Z"
   },
   {
    "duration": 5102,
    "start_time": "2022-03-27T17:17:28.010Z"
   },
   {
    "duration": 4818,
    "start_time": "2022-03-27T17:17:55.290Z"
   },
   {
    "duration": 59,
    "start_time": "2022-03-27T17:18:05.943Z"
   },
   {
    "duration": 61,
    "start_time": "2022-03-27T17:18:47.900Z"
   },
   {
    "duration": 49,
    "start_time": "2022-03-27T17:19:07.233Z"
   },
   {
    "duration": 36,
    "start_time": "2022-03-27T17:20:48.705Z"
   },
   {
    "duration": 40,
    "start_time": "2022-03-27T17:22:13.243Z"
   },
   {
    "duration": 198,
    "start_time": "2022-03-27T17:26:07.001Z"
   },
   {
    "duration": 35,
    "start_time": "2022-03-27T17:26:17.811Z"
   },
   {
    "duration": 124,
    "start_time": "2022-03-27T17:30:59.518Z"
   },
   {
    "duration": 132,
    "start_time": "2022-03-27T17:31:37.369Z"
   },
   {
    "duration": 56,
    "start_time": "2022-03-27T17:31:53.052Z"
   },
   {
    "duration": 48,
    "start_time": "2022-03-27T17:34:28.164Z"
   },
   {
    "duration": 6810,
    "start_time": "2022-03-27T17:34:49.522Z"
   },
   {
    "duration": 1843,
    "start_time": "2022-03-27T17:39:30.664Z"
   },
   {
    "duration": 244,
    "start_time": "2022-03-27T17:42:16.035Z"
   },
   {
    "duration": 37,
    "start_time": "2022-03-27T17:42:51.851Z"
   },
   {
    "duration": 243,
    "start_time": "2022-03-27T17:43:17.398Z"
   },
   {
    "duration": 37,
    "start_time": "2022-03-27T17:43:41.112Z"
   },
   {
    "duration": 235,
    "start_time": "2022-03-27T17:44:06.840Z"
   },
   {
    "duration": 200,
    "start_time": "2022-03-27T17:44:19.206Z"
   },
   {
    "duration": 29,
    "start_time": "2022-03-27T17:48:20.650Z"
   },
   {
    "duration": 31,
    "start_time": "2022-03-27T17:48:40.512Z"
   },
   {
    "duration": 40,
    "start_time": "2022-03-27T17:51:00.409Z"
   },
   {
    "duration": 33,
    "start_time": "2022-03-27T17:51:38.009Z"
   },
   {
    "duration": 48,
    "start_time": "2022-03-27T17:51:55.919Z"
   },
   {
    "duration": 32,
    "start_time": "2022-03-27T17:52:30.850Z"
   },
   {
    "duration": 25,
    "start_time": "2022-03-27T17:53:03.808Z"
   },
   {
    "duration": 4136,
    "start_time": "2022-03-27T17:53:24.967Z"
   },
   {
    "duration": 4467,
    "start_time": "2022-03-27T18:11:33.553Z"
   },
   {
    "duration": 4335,
    "start_time": "2022-03-27T18:11:49.483Z"
   },
   {
    "duration": 28,
    "start_time": "2022-03-27T18:17:23.836Z"
   },
   {
    "duration": 1796,
    "start_time": "2022-03-27T19:24:59.191Z"
   },
   {
    "duration": 833,
    "start_time": "2022-03-27T19:25:00.989Z"
   },
   {
    "duration": 148,
    "start_time": "2022-03-27T19:26:27.465Z"
   },
   {
    "duration": 110,
    "start_time": "2022-03-27T19:26:57.690Z"
   },
   {
    "duration": 129,
    "start_time": "2022-03-27T19:28:53.431Z"
   },
   {
    "duration": 15,
    "start_time": "2022-03-27T19:29:14.751Z"
   },
   {
    "duration": 101,
    "start_time": "2022-03-27T19:29:36.199Z"
   },
   {
    "duration": 165,
    "start_time": "2022-03-27T19:30:02.101Z"
   },
   {
    "duration": 19,
    "start_time": "2022-03-27T19:31:11.561Z"
   },
   {
    "duration": 55,
    "start_time": "2022-03-27T19:31:45.641Z"
   },
   {
    "duration": 20,
    "start_time": "2022-03-27T19:31:46.613Z"
   },
   {
    "duration": 4,
    "start_time": "2022-03-27T19:31:55.860Z"
   },
   {
    "duration": 1028,
    "start_time": "2022-03-27T19:31:56.520Z"
   },
   {
    "duration": 51,
    "start_time": "2022-03-27T19:31:58.387Z"
   },
   {
    "duration": 15,
    "start_time": "2022-03-27T19:32:00.177Z"
   },
   {
    "duration": 139,
    "start_time": "2022-03-27T19:33:27.010Z"
   },
   {
    "duration": 162,
    "start_time": "2022-03-27T19:33:39.662Z"
   },
   {
    "duration": 206,
    "start_time": "2022-03-27T19:33:49.149Z"
   },
   {
    "duration": 14,
    "start_time": "2022-03-27T19:49:00.593Z"
   },
   {
    "duration": 13,
    "start_time": "2022-03-27T19:49:17.359Z"
   },
   {
    "duration": 19,
    "start_time": "2022-03-27T19:51:16.651Z"
   },
   {
    "duration": 21,
    "start_time": "2022-03-27T19:52:28.280Z"
   },
   {
    "duration": 18,
    "start_time": "2022-03-27T19:52:52.724Z"
   },
   {
    "duration": 1475,
    "start_time": "2022-03-27T19:54:40.606Z"
   },
   {
    "duration": 797,
    "start_time": "2022-03-27T19:54:42.686Z"
   },
   {
    "duration": 3,
    "start_time": "2022-03-27T19:54:44.488Z"
   },
   {
    "duration": 102,
    "start_time": "2022-03-27T19:54:45.715Z"
   },
   {
    "duration": 3861,
    "start_time": "2022-03-27T19:54:47.502Z"
   },
   {
    "duration": 18,
    "start_time": "2022-03-27T19:56:02.998Z"
   },
   {
    "duration": 16,
    "start_time": "2022-03-27T19:56:57.289Z"
   },
   {
    "duration": 16,
    "start_time": "2022-03-27T19:57:19.464Z"
   },
   {
    "duration": 16,
    "start_time": "2022-03-27T19:58:05.347Z"
   },
   {
    "duration": 28,
    "start_time": "2022-03-27T19:58:53.022Z"
   },
   {
    "duration": 47,
    "start_time": "2022-03-27T19:58:57.251Z"
   },
   {
    "duration": 19,
    "start_time": "2022-03-27T19:58:58.133Z"
   },
   {
    "duration": 1552,
    "start_time": "2022-03-27T19:59:18.845Z"
   },
   {
    "duration": 798,
    "start_time": "2022-03-27T19:59:20.399Z"
   },
   {
    "duration": 63,
    "start_time": "2022-03-27T19:59:21.200Z"
   },
   {
    "duration": 21,
    "start_time": "2022-03-27T19:59:21.265Z"
   },
   {
    "duration": 3,
    "start_time": "2022-03-27T20:00:55.174Z"
   },
   {
    "duration": 17,
    "start_time": "2022-03-27T20:01:52.022Z"
   },
   {
    "duration": 4876,
    "start_time": "2022-03-27T20:02:38.039Z"
   },
   {
    "duration": 4283,
    "start_time": "2022-03-27T20:03:38.455Z"
   },
   {
    "duration": 137,
    "start_time": "2022-03-27T20:07:52.406Z"
   },
   {
    "duration": 4983,
    "start_time": "2022-03-27T20:07:53.654Z"
   },
   {
    "duration": 20,
    "start_time": "2022-03-27T20:08:25.734Z"
   },
   {
    "duration": 17,
    "start_time": "2022-03-27T20:08:34.465Z"
   },
   {
    "duration": 2411,
    "start_time": "2022-03-27T20:08:54.592Z"
   },
   {
    "duration": 802,
    "start_time": "2022-03-27T20:08:57.005Z"
   },
   {
    "duration": 85,
    "start_time": "2022-03-27T20:08:57.810Z"
   },
   {
    "duration": 16,
    "start_time": "2022-03-27T20:08:57.899Z"
   },
   {
    "duration": 20,
    "start_time": "2022-03-27T20:08:57.917Z"
   },
   {
    "duration": 4837,
    "start_time": "2022-03-27T20:08:57.938Z"
   },
   {
    "duration": 25,
    "start_time": "2022-03-27T20:10:06.801Z"
   },
   {
    "duration": 6,
    "start_time": "2022-03-27T20:10:17.148Z"
   },
   {
    "duration": 2437,
    "start_time": "2022-03-27T20:11:30.956Z"
   },
   {
    "duration": 7,
    "start_time": "2022-03-27T20:11:57.858Z"
   },
   {
    "duration": 9,
    "start_time": "2022-03-27T20:12:20.835Z"
   },
   {
    "duration": 10,
    "start_time": "2022-03-27T20:12:28.732Z"
   },
   {
    "duration": 10,
    "start_time": "2022-03-27T20:12:36.145Z"
   },
   {
    "duration": 2119,
    "start_time": "2022-03-27T20:12:54.935Z"
   },
   {
    "duration": 1603,
    "start_time": "2022-03-27T20:13:17.726Z"
   },
   {
    "duration": 800,
    "start_time": "2022-03-27T20:13:19.331Z"
   },
   {
    "duration": 67,
    "start_time": "2022-03-27T20:13:20.133Z"
   },
   {
    "duration": 11,
    "start_time": "2022-03-27T20:13:20.203Z"
   },
   {
    "duration": 2302,
    "start_time": "2022-03-27T20:13:26.341Z"
   },
   {
    "duration": 16,
    "start_time": "2022-03-27T20:13:38.782Z"
   },
   {
    "duration": 134,
    "start_time": "2022-03-27T20:13:40.172Z"
   },
   {
    "duration": 6,
    "start_time": "2022-03-27T20:13:54.448Z"
   },
   {
    "duration": 5245,
    "start_time": "2022-03-27T20:14:23.905Z"
   },
   {
    "duration": 4802,
    "start_time": "2022-03-27T20:16:31.380Z"
   },
   {
    "duration": 1575,
    "start_time": "2022-03-27T20:17:27.600Z"
   },
   {
    "duration": 945,
    "start_time": "2022-03-27T20:17:29.178Z"
   },
   {
    "duration": 80,
    "start_time": "2022-03-27T20:17:30.125Z"
   },
   {
    "duration": 13,
    "start_time": "2022-03-27T20:17:30.208Z"
   },
   {
    "duration": 7,
    "start_time": "2022-03-27T20:17:33.775Z"
   },
   {
    "duration": 6184,
    "start_time": "2022-03-27T20:17:34.581Z"
   },
   {
    "duration": 6045,
    "start_time": "2022-03-27T20:21:38.492Z"
   },
   {
    "duration": 3222,
    "start_time": "2022-03-27T20:22:46.227Z"
   },
   {
    "duration": 3032,
    "start_time": "2022-03-27T20:24:58.640Z"
   },
   {
    "duration": 2454,
    "start_time": "2022-03-27T20:28:09.122Z"
   },
   {
    "duration": 3939,
    "start_time": "2022-03-27T20:28:38.533Z"
   },
   {
    "duration": 2867,
    "start_time": "2022-03-27T20:29:41.780Z"
   },
   {
    "duration": 2708,
    "start_time": "2022-03-27T20:30:04.545Z"
   },
   {
    "duration": 1872,
    "start_time": "2022-03-27T20:30:55.907Z"
   },
   {
    "duration": 812,
    "start_time": "2022-03-27T20:30:57.781Z"
   },
   {
    "duration": 46,
    "start_time": "2022-03-27T20:30:58.595Z"
   },
   {
    "duration": 26,
    "start_time": "2022-03-27T20:30:58.643Z"
   },
   {
    "duration": 5,
    "start_time": "2022-03-27T20:30:58.671Z"
   },
   {
    "duration": 2981,
    "start_time": "2022-03-27T20:31:01.487Z"
   },
   {
    "duration": 2425,
    "start_time": "2022-03-27T20:32:53.644Z"
   },
   {
    "duration": 71,
    "start_time": "2022-03-27T20:35:36.388Z"
   },
   {
    "duration": 1586,
    "start_time": "2022-03-27T20:35:45.157Z"
   },
   {
    "duration": 805,
    "start_time": "2022-03-27T20:35:47.264Z"
   },
   {
    "duration": 54,
    "start_time": "2022-03-27T20:35:48.389Z"
   },
   {
    "duration": 10,
    "start_time": "2022-03-27T20:35:49.292Z"
   },
   {
    "duration": 6,
    "start_time": "2022-03-27T20:35:50.448Z"
   },
   {
    "duration": 3450,
    "start_time": "2022-03-27T20:35:54.155Z"
   },
   {
    "duration": 3095,
    "start_time": "2022-03-27T20:36:18.294Z"
   },
   {
    "duration": 3529,
    "start_time": "2022-03-27T20:37:22.953Z"
   },
   {
    "duration": 2727,
    "start_time": "2022-03-27T20:39:58.353Z"
   },
   {
    "duration": 1959,
    "start_time": "2022-03-27T20:44:33.223Z"
   },
   {
    "duration": 1878,
    "start_time": "2022-03-27T20:44:58.298Z"
   },
   {
    "duration": 2438,
    "start_time": "2022-03-27T20:45:15.759Z"
   },
   {
    "duration": 176,
    "start_time": "2022-03-27T20:46:20.714Z"
   },
   {
    "duration": 2523,
    "start_time": "2022-03-27T20:46:56.643Z"
   },
   {
    "duration": 2679,
    "start_time": "2022-03-27T20:48:59.827Z"
   },
   {
    "duration": 1825,
    "start_time": "2022-03-27T20:50:21.972Z"
   },
   {
    "duration": 2517,
    "start_time": "2022-03-27T20:54:13.658Z"
   },
   {
    "duration": 2733,
    "start_time": "2022-03-27T20:55:01.736Z"
   },
   {
    "duration": 2354,
    "start_time": "2022-03-27T20:55:39.605Z"
   },
   {
    "duration": 5,
    "start_time": "2022-03-28T20:05:24.053Z"
   },
   {
    "duration": 1849,
    "start_time": "2022-03-28T20:06:48.537Z"
   },
   {
    "duration": 847,
    "start_time": "2022-03-28T20:06:50.389Z"
   },
   {
    "duration": 49,
    "start_time": "2022-03-28T20:06:53.090Z"
   },
   {
    "duration": 10,
    "start_time": "2022-03-28T20:06:55.012Z"
   },
   {
    "duration": 8,
    "start_time": "2022-03-28T20:06:55.995Z"
   },
   {
    "duration": 2465,
    "start_time": "2022-03-28T20:22:00.144Z"
   },
   {
    "duration": 1616,
    "start_time": "2022-03-28T20:23:21.652Z"
   },
   {
    "duration": 872,
    "start_time": "2022-03-28T20:23:23.764Z"
   },
   {
    "duration": 396,
    "start_time": "2022-03-28T20:23:25.887Z"
   },
   {
    "duration": 437,
    "start_time": "2022-03-28T20:25:06.980Z"
   },
   {
    "duration": 387,
    "start_time": "2022-03-28T20:25:26.299Z"
   },
   {
    "duration": 46,
    "start_time": "2022-03-28T20:25:28.672Z"
   },
   {
    "duration": 10,
    "start_time": "2022-03-28T20:25:29.448Z"
   },
   {
    "duration": 9,
    "start_time": "2022-03-28T20:25:30.475Z"
   },
   {
    "duration": 2518,
    "start_time": "2022-03-28T20:26:13.615Z"
   },
   {
    "duration": 1720,
    "start_time": "2022-03-28T20:26:25.763Z"
   },
   {
    "duration": 862,
    "start_time": "2022-03-28T20:26:27.486Z"
   },
   {
    "duration": 4,
    "start_time": "2022-03-28T20:26:45.383Z"
   },
   {
    "duration": 954,
    "start_time": "2022-03-28T20:26:45.933Z"
   },
   {
    "duration": 402,
    "start_time": "2022-03-28T20:26:46.902Z"
   },
   {
    "duration": 384,
    "start_time": "2022-03-28T20:27:21.201Z"
   },
   {
    "duration": 44,
    "start_time": "2022-03-28T20:28:23.420Z"
   },
   {
    "duration": 10,
    "start_time": "2022-03-28T20:28:24.310Z"
   },
   {
    "duration": 8,
    "start_time": "2022-03-28T20:28:24.959Z"
   },
   {
    "duration": 128,
    "start_time": "2022-03-28T20:30:34.058Z"
   },
   {
    "duration": 108,
    "start_time": "2022-03-28T20:31:30.326Z"
   },
   {
    "duration": 344,
    "start_time": "2022-03-28T20:31:52.808Z"
   },
   {
    "duration": 553,
    "start_time": "2022-03-28T20:32:18.990Z"
   },
   {
    "duration": 413,
    "start_time": "2022-03-28T20:36:50.137Z"
   },
   {
    "duration": 316,
    "start_time": "2022-03-28T20:40:56.839Z"
   },
   {
    "duration": 709,
    "start_time": "2022-03-28T20:42:23.936Z"
   },
   {
    "duration": 426,
    "start_time": "2022-03-28T20:46:00.766Z"
   },
   {
    "duration": 127,
    "start_time": "2022-03-28T20:47:55.370Z"
   },
   {
    "duration": 218,
    "start_time": "2022-03-28T20:48:02.832Z"
   },
   {
    "duration": 155,
    "start_time": "2022-03-28T20:48:25.049Z"
   },
   {
    "duration": 343,
    "start_time": "2022-03-28T20:48:35.512Z"
   },
   {
    "duration": 15,
    "start_time": "2022-03-28T20:49:13.042Z"
   },
   {
    "duration": 680,
    "start_time": "2022-03-28T20:49:22.470Z"
   },
   {
    "duration": 673,
    "start_time": "2022-03-28T20:49:46.582Z"
   },
   {
    "duration": 540,
    "start_time": "2022-03-28T20:50:31.705Z"
   },
   {
    "duration": 754,
    "start_time": "2022-03-28T20:50:37.737Z"
   },
   {
    "duration": 710,
    "start_time": "2022-03-28T20:54:09.454Z"
   },
   {
    "duration": 29,
    "start_time": "2022-03-28T20:55:05.822Z"
   },
   {
    "duration": 18,
    "start_time": "2022-03-28T20:58:09.847Z"
   },
   {
    "duration": 137,
    "start_time": "2022-03-28T20:59:21.447Z"
   },
   {
    "duration": 569,
    "start_time": "2022-03-28T20:59:32.490Z"
   },
   {
    "duration": 387,
    "start_time": "2022-03-28T21:00:01.316Z"
   },
   {
    "duration": 18,
    "start_time": "2022-03-28T21:00:16.558Z"
   },
   {
    "duration": 1743,
    "start_time": "2022-03-28T21:00:33.830Z"
   },
   {
    "duration": 895,
    "start_time": "2022-03-28T21:00:35.576Z"
   },
   {
    "duration": 443,
    "start_time": "2022-03-28T21:00:36.473Z"
   },
   {
    "duration": 53,
    "start_time": "2022-03-28T21:00:36.918Z"
   },
   {
    "duration": 10,
    "start_time": "2022-03-28T21:00:36.974Z"
   },
   {
    "duration": 14,
    "start_time": "2022-03-28T21:00:37.004Z"
   },
   {
    "duration": 656,
    "start_time": "2022-03-28T21:00:37.020Z"
   },
   {
    "duration": 608,
    "start_time": "2022-03-28T21:00:43.158Z"
   },
   {
    "duration": 436,
    "start_time": "2022-03-28T21:06:14.073Z"
   },
   {
    "duration": 410,
    "start_time": "2022-03-28T21:06:57.803Z"
   },
   {
    "duration": 461,
    "start_time": "2022-03-28T21:07:24.759Z"
   },
   {
    "duration": 457,
    "start_time": "2022-03-28T21:07:31.774Z"
   },
   {
    "duration": 482,
    "start_time": "2022-03-28T21:08:36.860Z"
   },
   {
    "duration": 125,
    "start_time": "2022-03-28T21:09:05.633Z"
   },
   {
    "duration": 15,
    "start_time": "2022-03-28T21:09:16.493Z"
   },
   {
    "duration": 16,
    "start_time": "2022-03-28T21:09:35.860Z"
   },
   {
    "duration": 441,
    "start_time": "2022-03-28T21:12:08.091Z"
   },
   {
    "duration": 430,
    "start_time": "2022-03-28T21:12:20.096Z"
   },
   {
    "duration": 412,
    "start_time": "2022-03-28T21:12:31.513Z"
   },
   {
    "duration": 878,
    "start_time": "2022-03-28T21:12:43.884Z"
   },
   {
    "duration": 617,
    "start_time": "2022-03-28T21:12:49.737Z"
   },
   {
    "duration": 16,
    "start_time": "2022-03-28T21:20:51.074Z"
   },
   {
    "duration": 514,
    "start_time": "2022-03-28T21:20:57.817Z"
   },
   {
    "duration": 15,
    "start_time": "2022-03-28T21:21:23.606Z"
   },
   {
    "duration": 14,
    "start_time": "2022-03-28T21:22:11.732Z"
   },
   {
    "duration": 15,
    "start_time": "2022-03-28T21:22:24.754Z"
   },
   {
    "duration": 525,
    "start_time": "2022-03-28T21:24:21.048Z"
   },
   {
    "duration": 603,
    "start_time": "2022-03-28T21:24:41.464Z"
   },
   {
    "duration": 609,
    "start_time": "2022-03-28T21:25:05.144Z"
   },
   {
    "duration": 615,
    "start_time": "2022-03-28T21:27:00.942Z"
   },
   {
    "duration": 674,
    "start_time": "2022-03-28T21:27:20.619Z"
   },
   {
    "duration": 667,
    "start_time": "2022-03-28T21:27:30.438Z"
   },
   {
    "duration": 622,
    "start_time": "2022-03-28T21:28:00.570Z"
   },
   {
    "duration": 411,
    "start_time": "2022-03-28T21:28:30.736Z"
   },
   {
    "duration": 470,
    "start_time": "2022-03-28T21:28:42.377Z"
   },
   {
    "duration": 482,
    "start_time": "2022-03-28T21:28:50.685Z"
   },
   {
    "duration": 485,
    "start_time": "2022-03-28T21:30:53.256Z"
   },
   {
    "duration": 578,
    "start_time": "2022-03-28T21:31:54.868Z"
   },
   {
    "duration": 472,
    "start_time": "2022-03-28T21:32:01.490Z"
   },
   {
    "duration": 492,
    "start_time": "2022-03-28T21:32:10.258Z"
   },
   {
    "duration": 458,
    "start_time": "2022-03-28T21:32:25.389Z"
   },
   {
    "duration": 599,
    "start_time": "2022-03-28T21:32:31.060Z"
   },
   {
    "duration": 631,
    "start_time": "2022-03-28T21:33:27.238Z"
   },
   {
    "duration": 732,
    "start_time": "2022-03-28T21:34:19.052Z"
   },
   {
    "duration": 886,
    "start_time": "2022-03-28T21:34:39.903Z"
   },
   {
    "duration": 2183,
    "start_time": "2022-03-29T17:05:15.572Z"
   },
   {
    "duration": 1019,
    "start_time": "2022-03-29T17:05:17.758Z"
   },
   {
    "duration": 646,
    "start_time": "2022-03-29T17:05:18.779Z"
   },
   {
    "duration": 81,
    "start_time": "2022-03-29T17:05:19.428Z"
   },
   {
    "duration": 16,
    "start_time": "2022-03-29T17:05:21.109Z"
   },
   {
    "duration": 11,
    "start_time": "2022-03-29T17:05:21.802Z"
   },
   {
    "duration": 868,
    "start_time": "2022-03-29T17:05:22.681Z"
   },
   {
    "duration": 780,
    "start_time": "2022-03-29T17:05:25.261Z"
   },
   {
    "duration": 654,
    "start_time": "2022-03-29T17:05:28.231Z"
   },
   {
    "duration": 173,
    "start_time": "2022-03-29T17:20:59.600Z"
   },
   {
    "duration": 15,
    "start_time": "2022-03-29T17:21:39.000Z"
   },
   {
    "duration": 7,
    "start_time": "2022-03-29T17:22:43.756Z"
   },
   {
    "duration": 35,
    "start_time": "2022-03-29T17:25:12.422Z"
   },
   {
    "duration": 21,
    "start_time": "2022-03-29T17:27:16.674Z"
   },
   {
    "duration": 5148,
    "start_time": "2022-03-29T17:27:54.208Z"
   },
   {
    "duration": 5119,
    "start_time": "2022-03-29T17:28:26.694Z"
   },
   {
    "duration": 5326,
    "start_time": "2022-03-29T17:28:52.810Z"
   },
   {
    "duration": 3547,
    "start_time": "2022-03-29T17:30:00.698Z"
   },
   {
    "duration": 3789,
    "start_time": "2022-03-29T17:39:27.671Z"
   },
   {
    "duration": 3702,
    "start_time": "2022-03-29T17:40:12.890Z"
   },
   {
    "duration": 17,
    "start_time": "2022-03-29T18:08:44.143Z"
   },
   {
    "duration": 68,
    "start_time": "2022-03-29T18:16:15.762Z"
   },
   {
    "duration": 2256,
    "start_time": "2022-03-29T18:16:24.808Z"
   },
   {
    "duration": 1038,
    "start_time": "2022-03-29T18:16:27.067Z"
   },
   {
    "duration": 641,
    "start_time": "2022-03-29T18:16:28.107Z"
   },
   {
    "duration": 71,
    "start_time": "2022-03-29T18:16:28.751Z"
   },
   {
    "duration": 14,
    "start_time": "2022-03-29T18:16:28.825Z"
   },
   {
    "duration": 9,
    "start_time": "2022-03-29T18:16:28.841Z"
   },
   {
    "duration": 793,
    "start_time": "2022-03-29T18:16:28.852Z"
   },
   {
    "duration": 793,
    "start_time": "2022-03-29T18:16:29.648Z"
   },
   {
    "duration": 3631,
    "start_time": "2022-03-29T18:16:31.297Z"
   },
   {
    "duration": 3630,
    "start_time": "2022-03-29T18:16:34.931Z"
   },
   {
    "duration": 736,
    "start_time": "2022-03-29T18:16:38.564Z"
   },
   {
    "duration": 7,
    "start_time": "2022-03-29T18:16:39.303Z"
   },
   {
    "duration": 7,
    "start_time": "2022-03-29T18:18:17.493Z"
   },
   {
    "duration": 5274,
    "start_time": "2022-03-29T18:18:37.292Z"
   },
   {
    "duration": 4443,
    "start_time": "2022-03-29T18:20:42.090Z"
   },
   {
    "duration": 3980,
    "start_time": "2022-03-29T18:26:14.257Z"
   },
   {
    "duration": 424,
    "start_time": "2022-03-29T18:26:48.858Z"
   },
   {
    "duration": 4442,
    "start_time": "2022-03-29T18:27:03.676Z"
   },
   {
    "duration": 4012,
    "start_time": "2022-03-29T18:29:07.652Z"
   },
   {
    "duration": 39,
    "start_time": "2022-03-29T18:36:23.841Z"
   },
   {
    "duration": 189,
    "start_time": "2022-03-29T18:36:46.832Z"
   },
   {
    "duration": 22,
    "start_time": "2022-03-29T18:38:36.891Z"
   },
   {
    "duration": 33,
    "start_time": "2022-03-29T18:39:09.069Z"
   },
   {
    "duration": 46,
    "start_time": "2022-03-29T18:41:00.652Z"
   },
   {
    "duration": 46,
    "start_time": "2022-03-29T18:42:15.658Z"
   },
   {
    "duration": 4223,
    "start_time": "2022-03-29T18:42:55.349Z"
   },
   {
    "duration": 2451,
    "start_time": "2022-03-29T18:43:53.469Z"
   },
   {
    "duration": 1920,
    "start_time": "2022-03-29T18:44:23.829Z"
   },
   {
    "duration": 977,
    "start_time": "2022-03-29T18:44:25.752Z"
   },
   {
    "duration": 615,
    "start_time": "2022-03-29T18:44:26.732Z"
   },
   {
    "duration": 87,
    "start_time": "2022-03-29T18:44:27.351Z"
   },
   {
    "duration": 15,
    "start_time": "2022-03-29T18:44:27.440Z"
   },
   {
    "duration": 25,
    "start_time": "2022-03-29T18:44:27.457Z"
   },
   {
    "duration": 770,
    "start_time": "2022-03-29T18:44:27.484Z"
   },
   {
    "duration": 887,
    "start_time": "2022-03-29T18:44:28.257Z"
   },
   {
    "duration": 3679,
    "start_time": "2022-03-29T18:44:29.147Z"
   },
   {
    "duration": 3931,
    "start_time": "2022-03-29T18:44:32.831Z"
   },
   {
    "duration": 622,
    "start_time": "2022-03-29T18:44:36.764Z"
   },
   {
    "duration": 2514,
    "start_time": "2022-03-29T18:44:37.389Z"
   },
   {
    "duration": 2315,
    "start_time": "2022-03-29T18:45:08.731Z"
   },
   {
    "duration": 2484,
    "start_time": "2022-03-29T18:45:40.464Z"
   },
   {
    "duration": 2478,
    "start_time": "2022-03-29T18:46:13.608Z"
   },
   {
    "duration": 3716,
    "start_time": "2022-03-29T18:46:53.230Z"
   },
   {
    "duration": 2424,
    "start_time": "2022-03-29T18:47:41.498Z"
   },
   {
    "duration": 2454,
    "start_time": "2022-03-29T18:47:55.148Z"
   },
   {
    "duration": 3212,
    "start_time": "2022-03-29T18:48:24.192Z"
   },
   {
    "duration": 4131,
    "start_time": "2022-03-29T18:49:43.604Z"
   },
   {
    "duration": 23,
    "start_time": "2022-03-29T18:54:06.799Z"
   },
   {
    "duration": 3429,
    "start_time": "2022-03-29T18:54:31.935Z"
   },
   {
    "duration": 3461,
    "start_time": "2022-03-29T18:58:43.924Z"
   },
   {
    "duration": 3314,
    "start_time": "2022-03-29T18:59:01.568Z"
   },
   {
    "duration": 3499,
    "start_time": "2022-03-29T19:00:04.420Z"
   },
   {
    "duration": 4334,
    "start_time": "2022-03-29T19:00:24.690Z"
   },
   {
    "duration": 6640,
    "start_time": "2022-03-29T19:05:24.922Z"
   },
   {
    "duration": 7071,
    "start_time": "2022-03-29T19:06:08.890Z"
   },
   {
    "duration": 6389,
    "start_time": "2022-03-29T19:06:57.870Z"
   },
   {
    "duration": 7206,
    "start_time": "2022-03-29T19:07:06.431Z"
   },
   {
    "duration": 6490,
    "start_time": "2022-03-29T19:07:27.894Z"
   },
   {
    "duration": 6579,
    "start_time": "2022-03-29T19:08:10.762Z"
   },
   {
    "duration": 3259,
    "start_time": "2022-03-29T19:08:31.715Z"
   },
   {
    "duration": 5048,
    "start_time": "2022-03-29T19:47:17.085Z"
   },
   {
    "duration": 4370,
    "start_time": "2022-03-29T19:47:51.084Z"
   },
   {
    "duration": 7204,
    "start_time": "2022-03-29T19:48:03.730Z"
   },
   {
    "duration": 4031,
    "start_time": "2022-03-29T19:48:40.079Z"
   },
   {
    "duration": 1872,
    "start_time": "2022-03-29T19:57:40.805Z"
   },
   {
    "duration": 845,
    "start_time": "2022-03-29T19:57:42.680Z"
   },
   {
    "duration": 423,
    "start_time": "2022-03-29T19:57:43.527Z"
   },
   {
    "duration": 64,
    "start_time": "2022-03-29T19:57:43.952Z"
   },
   {
    "duration": 10,
    "start_time": "2022-03-29T19:57:44.018Z"
   },
   {
    "duration": 7,
    "start_time": "2022-03-29T19:57:44.030Z"
   },
   {
    "duration": 642,
    "start_time": "2022-03-29T19:57:44.039Z"
   },
   {
    "duration": 592,
    "start_time": "2022-03-29T19:57:44.683Z"
   },
   {
    "duration": 2860,
    "start_time": "2022-03-29T19:57:45.278Z"
   },
   {
    "duration": 3120,
    "start_time": "2022-03-29T19:57:48.141Z"
   },
   {
    "duration": 490,
    "start_time": "2022-03-29T19:57:51.262Z"
   },
   {
    "duration": 2635,
    "start_time": "2022-03-29T19:57:57.501Z"
   },
   {
    "duration": 358,
    "start_time": "2022-03-29T20:03:06.819Z"
   },
   {
    "duration": 1177,
    "start_time": "2022-03-29T20:03:28.579Z"
   },
   {
    "duration": 2314,
    "start_time": "2022-03-29T20:04:08.430Z"
   },
   {
    "duration": 179,
    "start_time": "2022-03-29T20:31:57.220Z"
   },
   {
    "duration": 75,
    "start_time": "2022-03-29T20:32:24.553Z"
   },
   {
    "duration": 23,
    "start_time": "2022-03-29T20:32:43.238Z"
   },
   {
    "duration": 395,
    "start_time": "2022-03-29T20:33:19.551Z"
   },
   {
    "duration": 416,
    "start_time": "2022-03-29T20:37:28.180Z"
   },
   {
    "duration": 0,
    "start_time": "2022-03-29T20:41:52.435Z"
   },
   {
    "duration": 53,
    "start_time": "2022-03-29T20:46:08.905Z"
   },
   {
    "duration": 1681,
    "start_time": "2022-03-29T20:46:19.786Z"
   },
   {
    "duration": 779,
    "start_time": "2022-03-29T20:46:21.469Z"
   },
   {
    "duration": 416,
    "start_time": "2022-03-29T20:46:22.250Z"
   },
   {
    "duration": 68,
    "start_time": "2022-03-29T20:46:22.669Z"
   },
   {
    "duration": 11,
    "start_time": "2022-03-29T20:46:22.740Z"
   },
   {
    "duration": 9,
    "start_time": "2022-03-29T20:46:22.752Z"
   },
   {
    "duration": 611,
    "start_time": "2022-03-29T20:46:22.763Z"
   },
   {
    "duration": 595,
    "start_time": "2022-03-29T20:46:23.376Z"
   },
   {
    "duration": 2953,
    "start_time": "2022-03-29T20:46:23.973Z"
   },
   {
    "duration": 2917,
    "start_time": "2022-03-29T20:46:26.929Z"
   },
   {
    "duration": 500,
    "start_time": "2022-03-29T20:46:29.848Z"
   },
   {
    "duration": 527622,
    "start_time": "2022-03-29T21:02:09.154Z"
   },
   {
    "duration": 1537,
    "start_time": "2022-03-30T05:16:28.747Z"
   },
   {
    "duration": 801,
    "start_time": "2022-03-30T05:16:30.286Z"
   },
   {
    "duration": 402,
    "start_time": "2022-03-30T05:16:31.089Z"
   },
   {
    "duration": 55,
    "start_time": "2022-03-30T05:16:31.493Z"
   },
   {
    "duration": 9,
    "start_time": "2022-03-30T05:16:31.550Z"
   },
   {
    "duration": 6,
    "start_time": "2022-03-30T05:16:31.561Z"
   },
   {
    "duration": 707,
    "start_time": "2022-03-30T05:16:31.569Z"
   },
   {
    "duration": 609,
    "start_time": "2022-03-30T05:16:32.278Z"
   },
   {
    "duration": 1034,
    "start_time": "2022-03-30T05:16:32.888Z"
   },
   {
    "duration": 0,
    "start_time": "2022-03-30T05:16:33.924Z"
   },
   {
    "duration": 0,
    "start_time": "2022-03-30T05:16:33.926Z"
   },
   {
    "duration": 0,
    "start_time": "2022-03-30T05:16:33.927Z"
   },
   {
    "duration": 1439,
    "start_time": "2022-03-30T05:16:54.249Z"
   },
   {
    "duration": 788,
    "start_time": "2022-03-30T05:16:55.690Z"
   },
   {
    "duration": 383,
    "start_time": "2022-03-30T05:16:56.479Z"
   },
   {
    "duration": 63,
    "start_time": "2022-03-30T05:16:56.865Z"
   },
   {
    "duration": 10,
    "start_time": "2022-03-30T05:16:56.930Z"
   },
   {
    "duration": 8,
    "start_time": "2022-03-30T05:16:56.942Z"
   },
   {
    "duration": 629,
    "start_time": "2022-03-30T05:16:56.952Z"
   },
   {
    "duration": 599,
    "start_time": "2022-03-30T05:16:57.583Z"
   },
   {
    "duration": 2844,
    "start_time": "2022-03-30T05:16:58.184Z"
   },
   {
    "duration": 3032,
    "start_time": "2022-03-30T05:17:01.031Z"
   },
   {
    "duration": 500,
    "start_time": "2022-03-30T05:17:04.065Z"
   },
   {
    "duration": 110776,
    "start_time": "2022-03-30T05:17:04.567Z"
   },
   {
    "duration": 0,
    "start_time": "2022-03-30T05:21:20.444Z"
   },
   {
    "duration": 446703,
    "start_time": "2022-03-30T05:35:32.291Z"
   },
   {
    "duration": 26,
    "start_time": "2022-03-30T06:59:36.767Z"
   },
   {
    "duration": 785,
    "start_time": "2022-03-30T07:01:21.261Z"
   },
   {
    "duration": 885,
    "start_time": "2022-03-30T07:01:40.347Z"
   },
   {
    "duration": 1661,
    "start_time": "2022-03-30T07:03:55.596Z"
   },
   {
    "duration": 263,
    "start_time": "2022-03-30T07:04:53.836Z"
   },
   {
    "duration": 254,
    "start_time": "2022-03-30T07:04:59.583Z"
   },
   {
    "duration": 1804,
    "start_time": "2022-03-30T07:05:05.058Z"
   },
   {
    "duration": 1641,
    "start_time": "2022-03-30T07:08:38.439Z"
   },
   {
    "duration": 18,
    "start_time": "2022-03-30T07:09:25.278Z"
   },
   {
    "duration": 223,
    "start_time": "2022-03-30T07:09:35.147Z"
   },
   {
    "duration": 775,
    "start_time": "2022-03-30T07:09:49.846Z"
   },
   {
    "duration": 504,
    "start_time": "2022-03-30T07:10:33.516Z"
   },
   {
    "duration": 1541,
    "start_time": "2022-03-30T07:10:52.956Z"
   },
   {
    "duration": 173,
    "start_time": "2022-03-30T07:12:33.787Z"
   },
   {
    "duration": 148,
    "start_time": "2022-03-30T07:13:24.166Z"
   },
   {
    "duration": 62,
    "start_time": "2022-03-30T07:14:00.989Z"
   },
   {
    "duration": 424,
    "start_time": "2022-03-30T07:14:09.122Z"
   },
   {
    "duration": 60,
    "start_time": "2022-03-30T07:15:03.462Z"
   },
   {
    "duration": 65,
    "start_time": "2022-03-30T07:15:13.620Z"
   },
   {
    "duration": 387,
    "start_time": "2022-03-30T07:15:20.642Z"
   },
   {
    "duration": 277,
    "start_time": "2022-03-30T07:15:38.062Z"
   },
   {
    "duration": 67,
    "start_time": "2022-03-30T07:16:19.734Z"
   },
   {
    "duration": 92,
    "start_time": "2022-03-30T07:16:34.749Z"
   },
   {
    "duration": 68,
    "start_time": "2022-03-30T07:16:40.693Z"
   },
   {
    "duration": 16,
    "start_time": "2022-03-30T07:17:00.437Z"
   },
   {
    "duration": 281,
    "start_time": "2022-03-30T07:17:10.846Z"
   },
   {
    "duration": 851,
    "start_time": "2022-03-30T07:17:36.472Z"
   },
   {
    "duration": 776,
    "start_time": "2022-03-30T07:18:02.295Z"
   },
   {
    "duration": 3129,
    "start_time": "2022-03-30T07:18:31.516Z"
   },
   {
    "duration": 3147,
    "start_time": "2022-03-30T07:19:47.298Z"
   },
   {
    "duration": 3175,
    "start_time": "2022-03-30T07:21:38.837Z"
   },
   {
    "duration": 3114,
    "start_time": "2022-03-30T07:22:43.699Z"
   },
   {
    "duration": 14,
    "start_time": "2022-03-30T07:24:35.141Z"
   },
   {
    "duration": 2872,
    "start_time": "2022-03-30T07:28:05.292Z"
   },
   {
    "duration": 2815,
    "start_time": "2022-03-30T07:28:18.565Z"
   },
   {
    "duration": 2736,
    "start_time": "2022-03-30T07:28:46.302Z"
   },
   {
    "duration": 1993,
    "start_time": "2022-03-30T07:29:18.552Z"
   },
   {
    "duration": 15231,
    "start_time": "2022-03-30T07:30:27.432Z"
   },
   {
    "duration": 3107,
    "start_time": "2022-03-30T07:30:58.928Z"
   },
   {
    "duration": 3091,
    "start_time": "2022-03-30T07:31:16.663Z"
   },
   {
    "duration": 3019,
    "start_time": "2022-03-30T07:35:14.216Z"
   },
   {
    "duration": 2931,
    "start_time": "2022-03-30T07:35:50.223Z"
   },
   {
    "duration": 2293,
    "start_time": "2022-03-30T18:19:52.956Z"
   },
   {
    "duration": 1289,
    "start_time": "2022-03-30T18:19:55.252Z"
   },
   {
    "duration": 661,
    "start_time": "2022-03-30T18:19:56.543Z"
   },
   {
    "duration": 71,
    "start_time": "2022-03-30T18:19:57.207Z"
   },
   {
    "duration": 14,
    "start_time": "2022-03-30T18:19:57.280Z"
   },
   {
    "duration": 9,
    "start_time": "2022-03-30T18:19:57.296Z"
   },
   {
    "duration": 927,
    "start_time": "2022-03-30T18:19:57.308Z"
   },
   {
    "duration": 791,
    "start_time": "2022-03-30T18:19:58.238Z"
   },
   {
    "duration": 3884,
    "start_time": "2022-03-30T18:19:59.032Z"
   },
   {
    "duration": 3649,
    "start_time": "2022-03-30T18:20:02.921Z"
   },
   {
    "duration": 691,
    "start_time": "2022-03-30T18:20:06.572Z"
   },
   {
    "duration": 1648,
    "start_time": "2022-03-30T18:20:12.427Z"
   },
   {
    "duration": 1727,
    "start_time": "2022-03-30T18:23:10.303Z"
   },
   {
    "duration": 116,
    "start_time": "2022-03-30T18:29:01.700Z"
   },
   {
    "duration": 213,
    "start_time": "2022-03-30T18:29:38.537Z"
   },
   {
    "duration": 1259,
    "start_time": "2022-03-30T18:30:20.085Z"
   },
   {
    "duration": 1188,
    "start_time": "2022-03-30T18:33:31.831Z"
   },
   {
    "duration": 52,
    "start_time": "2022-03-30T18:40:32.474Z"
   },
   {
    "duration": 2030,
    "start_time": "2022-03-30T18:40:49.242Z"
   },
   {
    "duration": 784,
    "start_time": "2022-03-30T18:40:51.275Z"
   },
   {
    "duration": 396,
    "start_time": "2022-03-30T18:40:52.061Z"
   },
   {
    "duration": 58,
    "start_time": "2022-03-30T18:40:52.459Z"
   },
   {
    "duration": 9,
    "start_time": "2022-03-30T18:40:52.519Z"
   },
   {
    "duration": 12,
    "start_time": "2022-03-30T18:40:52.530Z"
   },
   {
    "duration": 621,
    "start_time": "2022-03-30T18:40:52.543Z"
   },
   {
    "duration": 587,
    "start_time": "2022-03-30T18:40:53.166Z"
   },
   {
    "duration": 2839,
    "start_time": "2022-03-30T18:40:53.754Z"
   },
   {
    "duration": 2828,
    "start_time": "2022-03-30T18:40:56.595Z"
   },
   {
    "duration": 408,
    "start_time": "2022-03-30T18:40:59.425Z"
   },
   {
    "duration": 781,
    "start_time": "2022-03-30T18:40:59.835Z"
   },
   {
    "duration": 1057,
    "start_time": "2022-03-30T18:41:57.383Z"
   },
   {
    "duration": 1050,
    "start_time": "2022-03-30T18:42:22.556Z"
   },
   {
    "duration": 1069,
    "start_time": "2022-03-30T18:43:35.426Z"
   },
   {
    "duration": 865,
    "start_time": "2022-03-30T18:43:53.936Z"
   },
   {
    "duration": 1086,
    "start_time": "2022-03-30T18:44:12.381Z"
   },
   {
    "duration": 953,
    "start_time": "2022-03-30T18:45:15.910Z"
   },
   {
    "duration": 827,
    "start_time": "2022-03-30T18:45:54.142Z"
   },
   {
    "duration": 1081,
    "start_time": "2022-03-30T18:46:13.163Z"
   },
   {
    "duration": 779,
    "start_time": "2022-03-30T18:46:29.124Z"
   },
   {
    "duration": 966,
    "start_time": "2022-03-30T18:48:46.298Z"
   },
   {
    "duration": 854,
    "start_time": "2022-03-30T18:49:14.039Z"
   },
   {
    "duration": 987,
    "start_time": "2022-03-30T18:50:43.962Z"
   },
   {
    "duration": 993,
    "start_time": "2022-03-30T18:51:19.544Z"
   },
   {
    "duration": 720,
    "start_time": "2022-03-30T18:51:42.045Z"
   },
   {
    "duration": 906,
    "start_time": "2022-03-30T18:54:03.356Z"
   },
   {
    "duration": 964,
    "start_time": "2022-03-30T18:54:23.620Z"
   },
   {
    "duration": 1079,
    "start_time": "2022-03-30T18:54:54.672Z"
   },
   {
    "duration": 1610,
    "start_time": "2022-03-30T18:56:09.951Z"
   },
   {
    "duration": 1021,
    "start_time": "2022-03-30T18:56:27.366Z"
   },
   {
    "duration": 822,
    "start_time": "2022-03-30T18:56:51.568Z"
   },
   {
    "duration": 1005,
    "start_time": "2022-03-30T18:57:19.015Z"
   },
   {
    "duration": 697,
    "start_time": "2022-03-30T19:07:45.929Z"
   },
   {
    "duration": 674,
    "start_time": "2022-03-30T19:21:32.168Z"
   },
   {
    "duration": 817,
    "start_time": "2022-03-30T19:22:07.050Z"
   },
   {
    "duration": 840,
    "start_time": "2022-03-30T19:22:28.188Z"
   },
   {
    "duration": 925,
    "start_time": "2022-03-30T19:23:38.176Z"
   },
   {
    "duration": 930,
    "start_time": "2022-03-30T19:24:27.330Z"
   },
   {
    "duration": 790,
    "start_time": "2022-03-30T19:25:29.321Z"
   },
   {
    "duration": 912,
    "start_time": "2022-03-30T19:27:40.907Z"
   },
   {
    "duration": 1196,
    "start_time": "2022-03-30T19:32:06.742Z"
   },
   {
    "duration": 1220,
    "start_time": "2022-03-30T19:33:00.765Z"
   },
   {
    "duration": 944,
    "start_time": "2022-03-30T19:33:43.818Z"
   },
   {
    "duration": 1104,
    "start_time": "2022-03-30T19:34:01.088Z"
   },
   {
    "duration": 13,
    "start_time": "2022-03-30T19:36:18.890Z"
   },
   {
    "duration": 2695,
    "start_time": "2022-03-30T19:36:32.535Z"
   },
   {
    "duration": 14,
    "start_time": "2022-03-30T19:36:48.852Z"
   },
   {
    "duration": 12,
    "start_time": "2022-03-30T19:37:26.193Z"
   },
   {
    "duration": 1006,
    "start_time": "2022-03-30T19:37:52.496Z"
   },
   {
    "duration": 24,
    "start_time": "2022-03-30T19:38:14.785Z"
   },
   {
    "duration": 1066,
    "start_time": "2022-03-30T19:43:59.620Z"
   },
   {
    "duration": 1009,
    "start_time": "2022-03-30T19:46:06.551Z"
   },
   {
    "duration": 1136,
    "start_time": "2022-03-30T19:47:16.945Z"
   },
   {
    "duration": 1004,
    "start_time": "2022-03-30T19:49:13.527Z"
   },
   {
    "duration": 1081,
    "start_time": "2022-03-30T19:49:56.915Z"
   },
   {
    "duration": 994,
    "start_time": "2022-03-30T19:50:22.220Z"
   },
   {
    "duration": 1094,
    "start_time": "2022-03-30T19:51:21.977Z"
   },
   {
    "duration": 970,
    "start_time": "2022-03-30T19:52:08.050Z"
   },
   {
    "duration": 996,
    "start_time": "2022-03-30T19:53:21.034Z"
   },
   {
    "duration": 1248,
    "start_time": "2022-03-30T19:54:10.948Z"
   },
   {
    "duration": 4,
    "start_time": "2022-03-30T20:10:20.535Z"
   },
   {
    "duration": 7,
    "start_time": "2022-03-30T20:10:20.975Z"
   },
   {
    "duration": 142,
    "start_time": "2022-03-30T20:36:05.660Z"
   },
   {
    "duration": 15,
    "start_time": "2022-03-30T20:36:34.773Z"
   },
   {
    "duration": 14,
    "start_time": "2022-03-30T20:37:23.120Z"
   },
   {
    "duration": 14,
    "start_time": "2022-03-30T20:38:33.361Z"
   },
   {
    "duration": 20,
    "start_time": "2022-03-30T20:38:36.821Z"
   },
   {
    "duration": 290,
    "start_time": "2022-03-30T20:38:37.317Z"
   },
   {
    "duration": 279,
    "start_time": "2022-03-30T20:39:18.521Z"
   },
   {
    "duration": 166,
    "start_time": "2022-03-30T20:40:20.239Z"
   },
   {
    "duration": 27,
    "start_time": "2022-03-30T20:40:39.282Z"
   },
   {
    "duration": 3,
    "start_time": "2022-03-30T20:42:19.951Z"
   },
   {
    "duration": 51,
    "start_time": "2022-03-30T20:42:40.057Z"
   },
   {
    "duration": 3,
    "start_time": "2022-03-30T20:43:06.201Z"
   },
   {
    "duration": 55,
    "start_time": "2022-03-30T20:43:17.754Z"
   },
   {
    "duration": 113,
    "start_time": "2022-03-30T20:45:28.790Z"
   },
   {
    "duration": 3,
    "start_time": "2022-03-30T20:45:56.460Z"
   },
   {
    "duration": 15,
    "start_time": "2022-03-30T20:45:58.580Z"
   },
   {
    "duration": 40,
    "start_time": "2022-03-30T20:45:59.067Z"
   },
   {
    "duration": 3,
    "start_time": "2022-03-30T20:46:59.497Z"
   },
   {
    "duration": 13,
    "start_time": "2022-03-30T20:46:59.891Z"
   },
   {
    "duration": 190,
    "start_time": "2022-03-30T20:47:00.815Z"
   },
   {
    "duration": 3,
    "start_time": "2022-03-30T20:47:44.921Z"
   },
   {
    "duration": 12,
    "start_time": "2022-03-30T20:47:46.647Z"
   },
   {
    "duration": 151,
    "start_time": "2022-03-30T20:47:47.058Z"
   },
   {
    "duration": 4,
    "start_time": "2022-03-30T20:48:56.197Z"
   },
   {
    "duration": 12,
    "start_time": "2022-03-30T20:48:56.561Z"
   },
   {
    "duration": 175,
    "start_time": "2022-03-30T20:48:57.027Z"
   },
   {
    "duration": 3,
    "start_time": "2022-03-30T20:50:23.465Z"
   },
   {
    "duration": 75,
    "start_time": "2022-03-30T20:50:34.031Z"
   },
   {
    "duration": 197,
    "start_time": "2022-03-30T20:54:41.107Z"
   },
   {
    "duration": 3,
    "start_time": "2022-03-30T20:55:41.048Z"
   },
   {
    "duration": 13,
    "start_time": "2022-03-30T20:55:45.807Z"
   },
   {
    "duration": 72,
    "start_time": "2022-03-30T20:55:46.130Z"
   },
   {
    "duration": 331,
    "start_time": "2022-03-30T20:56:52.674Z"
   },
   {
    "duration": 422,
    "start_time": "2022-03-30T20:57:09.880Z"
   },
   {
    "duration": 740,
    "start_time": "2022-03-30T21:06:12.674Z"
   },
   {
    "duration": 706,
    "start_time": "2022-03-30T21:07:40.101Z"
   },
   {
    "duration": 779,
    "start_time": "2022-03-30T21:08:13.123Z"
   },
   {
    "duration": 418,
    "start_time": "2022-03-30T21:08:48.990Z"
   },
   {
    "duration": 432,
    "start_time": "2022-03-30T21:09:21.170Z"
   },
   {
    "duration": 433,
    "start_time": "2022-03-30T21:09:31.469Z"
   },
   {
    "duration": 425,
    "start_time": "2022-03-30T21:09:52.777Z"
   },
   {
    "duration": 614,
    "start_time": "2022-03-30T21:12:16.095Z"
   },
   {
    "duration": 413,
    "start_time": "2022-03-30T21:12:22.889Z"
   },
   {
    "duration": 408,
    "start_time": "2022-03-30T21:12:51.899Z"
   },
   {
    "duration": 774,
    "start_time": "2022-03-30T21:16:47.505Z"
   },
   {
    "duration": 907,
    "start_time": "2022-03-30T21:17:01.747Z"
   },
   {
    "duration": 1734,
    "start_time": "2022-03-31T11:17:58.555Z"
   },
   {
    "duration": 762,
    "start_time": "2022-03-31T11:18:00.291Z"
   },
   {
    "duration": 378,
    "start_time": "2022-03-31T11:18:01.055Z"
   },
   {
    "duration": 52,
    "start_time": "2022-03-31T11:18:01.436Z"
   },
   {
    "duration": 10,
    "start_time": "2022-03-31T11:18:01.501Z"
   },
   {
    "duration": 8,
    "start_time": "2022-03-31T11:18:01.512Z"
   },
   {
    "duration": 634,
    "start_time": "2022-03-31T11:18:01.522Z"
   },
   {
    "duration": 593,
    "start_time": "2022-03-31T11:18:02.158Z"
   },
   {
    "duration": 2860,
    "start_time": "2022-03-31T11:18:02.753Z"
   },
   {
    "duration": 2708,
    "start_time": "2022-03-31T11:18:05.615Z"
   },
   {
    "duration": 418,
    "start_time": "2022-03-31T11:18:08.325Z"
   },
   {
    "duration": 1133,
    "start_time": "2022-03-31T11:18:08.745Z"
   },
   {
    "duration": 3,
    "start_time": "2022-03-31T11:18:09.880Z"
   },
   {
    "duration": 24,
    "start_time": "2022-03-31T11:18:09.885Z"
   },
   {
    "duration": 809,
    "start_time": "2022-03-31T11:18:18.317Z"
   },
   {
    "duration": 1000,
    "start_time": "2022-03-31T11:18:57.052Z"
   },
   {
    "duration": 1056,
    "start_time": "2022-03-31T11:40:06.454Z"
   },
   {
    "duration": 717,
    "start_time": "2022-03-31T11:42:45.931Z"
   },
   {
    "duration": 980,
    "start_time": "2022-03-31T11:43:18.522Z"
   },
   {
    "duration": 10,
    "start_time": "2022-03-31T11:47:52.339Z"
   },
   {
    "duration": 545506,
    "start_time": "2022-03-31T11:48:25.977Z"
   },
   {
    "duration": 8,
    "start_time": "2022-03-31T11:58:38.369Z"
   },
   {
    "duration": 890,
    "start_time": "2022-03-31T11:59:37.487Z"
   },
   {
    "duration": 34,
    "start_time": "2022-03-31T12:01:37.455Z"
   },
   {
    "duration": 4370,
    "start_time": "2022-03-31T12:02:19.912Z"
   },
   {
    "duration": 15,
    "start_time": "2022-03-31T12:04:02.713Z"
   },
   {
    "duration": 14,
    "start_time": "2022-03-31T12:04:28.580Z"
   },
   {
    "duration": 14,
    "start_time": "2022-03-31T12:04:32.120Z"
   },
   {
    "duration": 3,
    "start_time": "2022-03-31T12:04:41.944Z"
   },
   {
    "duration": 21,
    "start_time": "2022-03-31T12:04:54.665Z"
   },
   {
    "duration": 201,
    "start_time": "2022-03-31T12:05:13.693Z"
   },
   {
    "duration": 16,
    "start_time": "2022-03-31T12:05:25.573Z"
   },
   {
    "duration": 3344,
    "start_time": "2022-03-31T12:06:01.205Z"
   },
   {
    "duration": 3311,
    "start_time": "2022-03-31T12:06:38.060Z"
   },
   {
    "duration": 4,
    "start_time": "2022-03-31T12:07:14.264Z"
   },
   {
    "duration": 54,
    "start_time": "2022-03-31T12:07:46.811Z"
   },
   {
    "duration": 13,
    "start_time": "2022-03-31T12:07:47.384Z"
   },
   {
    "duration": 9,
    "start_time": "2022-03-31T12:07:47.968Z"
   },
   {
    "duration": 22,
    "start_time": "2022-03-31T12:08:14.383Z"
   },
   {
    "duration": 18,
    "start_time": "2022-03-31T12:08:19.976Z"
   },
   {
    "duration": 1595,
    "start_time": "2022-03-31T12:08:33.239Z"
   },
   {
    "duration": 844,
    "start_time": "2022-03-31T12:08:34.836Z"
   },
   {
    "duration": 574,
    "start_time": "2022-03-31T12:08:35.683Z"
   },
   {
    "duration": 58,
    "start_time": "2022-03-31T12:08:36.259Z"
   },
   {
    "duration": 9,
    "start_time": "2022-03-31T12:08:36.318Z"
   },
   {
    "duration": 7,
    "start_time": "2022-03-31T12:08:36.329Z"
   },
   {
    "duration": 4,
    "start_time": "2022-03-31T12:08:46.409Z"
   },
   {
    "duration": 111,
    "start_time": "2022-03-31T12:09:24.661Z"
   },
   {
    "duration": 3440,
    "start_time": "2022-03-31T12:09:27.972Z"
   },
   {
    "duration": 0,
    "start_time": "2022-03-31T12:09:31.414Z"
   },
   {
    "duration": 1678,
    "start_time": "2022-03-31T12:09:41.490Z"
   },
   {
    "duration": 839,
    "start_time": "2022-03-31T12:09:43.170Z"
   },
   {
    "duration": 370,
    "start_time": "2022-03-31T12:09:44.011Z"
   },
   {
    "duration": 56,
    "start_time": "2022-03-31T12:09:44.383Z"
   },
   {
    "duration": 10,
    "start_time": "2022-03-31T12:09:44.441Z"
   },
   {
    "duration": 13,
    "start_time": "2022-03-31T12:09:44.453Z"
   },
   {
    "duration": 5,
    "start_time": "2022-03-31T12:09:47.347Z"
   },
   {
    "duration": 1991,
    "start_time": "2022-03-31T12:10:23.385Z"
   },
   {
    "duration": 937,
    "start_time": "2022-03-31T12:10:25.378Z"
   },
   {
    "duration": 393,
    "start_time": "2022-03-31T12:10:26.317Z"
   },
   {
    "duration": 54,
    "start_time": "2022-03-31T12:10:26.712Z"
   },
   {
    "duration": 10,
    "start_time": "2022-03-31T12:10:26.768Z"
   },
   {
    "duration": 9,
    "start_time": "2022-03-31T12:10:26.800Z"
   },
   {
    "duration": 33,
    "start_time": "2022-03-31T12:10:26.811Z"
   },
   {
    "duration": 206,
    "start_time": "2022-03-31T12:11:24.327Z"
   },
   {
    "duration": 3994,
    "start_time": "2022-03-31T12:11:36.238Z"
   },
   {
    "duration": 19,
    "start_time": "2022-03-31T12:11:59.030Z"
   },
   {
    "duration": 5,
    "start_time": "2022-03-31T12:13:39.724Z"
   },
   {
    "duration": 20,
    "start_time": "2022-03-31T12:13:40.526Z"
   },
   {
    "duration": 1649,
    "start_time": "2022-03-31T12:13:56.056Z"
   },
   {
    "duration": 821,
    "start_time": "2022-03-31T12:13:57.707Z"
   },
   {
    "duration": 393,
    "start_time": "2022-03-31T12:13:58.530Z"
   },
   {
    "duration": 46,
    "start_time": "2022-03-31T12:13:58.925Z"
   },
   {
    "duration": 9,
    "start_time": "2022-03-31T12:13:58.973Z"
   },
   {
    "duration": 21,
    "start_time": "2022-03-31T12:13:58.983Z"
   },
   {
    "duration": 37,
    "start_time": "2022-03-31T12:13:59.005Z"
   },
   {
    "duration": 2262,
    "start_time": "2022-03-31T18:12:15.723Z"
   },
   {
    "duration": 1119,
    "start_time": "2022-03-31T18:12:17.988Z"
   },
   {
    "duration": 635,
    "start_time": "2022-03-31T18:12:19.110Z"
   },
   {
    "duration": 219,
    "start_time": "2022-03-31T18:12:27.567Z"
   },
   {
    "duration": 43,
    "start_time": "2022-03-31T18:12:56.136Z"
   },
   {
    "duration": 22,
    "start_time": "2022-03-31T18:12:59.043Z"
   },
   {
    "duration": 9,
    "start_time": "2022-03-31T18:13:06.926Z"
   },
   {
    "duration": 34,
    "start_time": "2022-03-31T18:13:07.944Z"
   },
   {
    "duration": 36,
    "start_time": "2022-03-31T18:13:29.133Z"
   },
   {
    "duration": 38,
    "start_time": "2022-03-31T18:13:50.169Z"
   },
   {
    "duration": 38,
    "start_time": "2022-03-31T18:13:58.073Z"
   },
   {
    "duration": 2121,
    "start_time": "2022-03-31T18:14:22.989Z"
   },
   {
    "duration": 1152,
    "start_time": "2022-03-31T18:14:25.113Z"
   },
   {
    "duration": 640,
    "start_time": "2022-03-31T18:14:26.267Z"
   },
   {
    "duration": 50,
    "start_time": "2022-03-31T18:14:29.151Z"
   },
   {
    "duration": 22,
    "start_time": "2022-03-31T18:14:31.517Z"
   },
   {
    "duration": 7,
    "start_time": "2022-03-31T18:14:32.851Z"
   },
   {
    "duration": 970,
    "start_time": "2022-03-31T18:19:12.467Z"
   },
   {
    "duration": 19,
    "start_time": "2022-03-31T18:22:35.715Z"
   },
   {
    "duration": 2632,
    "start_time": "2022-03-31T18:23:45.697Z"
   },
   {
    "duration": 1501,
    "start_time": "2022-03-31T18:23:48.332Z"
   },
   {
    "duration": 1045,
    "start_time": "2022-03-31T18:23:49.836Z"
   },
   {
    "duration": 3568,
    "start_time": "2022-03-31T18:23:54.884Z"
   },
   {
    "duration": 20,
    "start_time": "2022-03-31T18:24:16.661Z"
   },
   {
    "duration": 20,
    "start_time": "2022-03-31T18:24:20.759Z"
   },
   {
    "duration": 61,
    "start_time": "2022-03-31T18:25:26.948Z"
   },
   {
    "duration": 212,
    "start_time": "2022-03-31T18:25:27.675Z"
   },
   {
    "duration": 6,
    "start_time": "2022-03-31T18:32:03.933Z"
   },
   {
    "duration": 141,
    "start_time": "2022-03-31T18:32:09.032Z"
   },
   {
    "duration": 413,
    "start_time": "2022-03-31T18:32:20.808Z"
   },
   {
    "duration": 2106,
    "start_time": "2022-03-31T18:32:41.012Z"
   },
   {
    "duration": 1063,
    "start_time": "2022-03-31T18:32:43.121Z"
   },
   {
    "duration": 901,
    "start_time": "2022-03-31T18:32:44.186Z"
   },
   {
    "duration": 429,
    "start_time": "2022-03-31T18:32:45.090Z"
   },
   {
    "duration": 258,
    "start_time": "2022-03-31T18:33:25.680Z"
   },
   {
    "duration": 38,
    "start_time": "2022-03-31T18:33:34.031Z"
   },
   {
    "duration": 2065,
    "start_time": "2022-03-31T18:33:59.147Z"
   },
   {
    "duration": 1019,
    "start_time": "2022-03-31T18:34:01.215Z"
   },
   {
    "duration": 640,
    "start_time": "2022-03-31T18:34:02.237Z"
   },
   {
    "duration": 256,
    "start_time": "2022-03-31T18:34:05.908Z"
   },
   {
    "duration": 9,
    "start_time": "2022-03-31T18:34:11.234Z"
   },
   {
    "duration": 7,
    "start_time": "2022-03-31T18:34:12.646Z"
   },
   {
    "duration": 38,
    "start_time": "2022-03-31T18:34:15.111Z"
   },
   {
    "duration": 766,
    "start_time": "2022-03-31T18:34:29.694Z"
   },
   {
    "duration": 749,
    "start_time": "2022-03-31T18:34:30.606Z"
   },
   {
    "duration": 3695,
    "start_time": "2022-03-31T18:34:34.052Z"
   },
   {
    "duration": 3617,
    "start_time": "2022-03-31T18:34:37.749Z"
   },
   {
    "duration": 704,
    "start_time": "2022-03-31T18:34:41.369Z"
   },
   {
    "duration": 5,
    "start_time": "2022-03-31T18:34:54.230Z"
   },
   {
    "duration": 28,
    "start_time": "2022-03-31T18:34:55.061Z"
   },
   {
    "duration": 235,
    "start_time": "2022-03-31T18:34:56.193Z"
   },
   {
    "duration": 55124,
    "start_time": "2022-03-31T18:34:58.676Z"
   },
   {
    "duration": 0,
    "start_time": "2022-03-31T18:35:53.803Z"
   },
   {
    "duration": 0,
    "start_time": "2022-03-31T18:35:53.805Z"
   },
   {
    "duration": 0,
    "start_time": "2022-03-31T18:35:53.807Z"
   },
   {
    "duration": 0,
    "start_time": "2022-03-31T18:35:53.808Z"
   },
   {
    "duration": 0,
    "start_time": "2022-03-31T18:35:53.810Z"
   },
   {
    "duration": 0,
    "start_time": "2022-03-31T18:35:53.811Z"
   },
   {
    "duration": 0,
    "start_time": "2022-03-31T18:35:53.813Z"
   },
   {
    "duration": 12,
    "start_time": "2022-03-31T18:36:00.631Z"
   },
   {
    "duration": 798,
    "start_time": "2022-03-31T18:36:02.956Z"
   },
   {
    "duration": 841,
    "start_time": "2022-03-31T18:36:04.938Z"
   },
   {
    "duration": 3615,
    "start_time": "2022-03-31T18:36:15.533Z"
   },
   {
    "duration": 3718,
    "start_time": "2022-03-31T18:36:19.151Z"
   },
   {
    "duration": 623,
    "start_time": "2022-03-31T18:36:22.871Z"
   },
   {
    "duration": 1977,
    "start_time": "2022-03-31T18:36:23.497Z"
   },
   {
    "duration": 4,
    "start_time": "2022-03-31T18:36:32.168Z"
   },
   {
    "duration": 20,
    "start_time": "2022-03-31T18:36:33.040Z"
   },
   {
    "duration": 25,
    "start_time": "2022-03-31T18:37:44.413Z"
   },
   {
    "duration": 2474,
    "start_time": "2022-03-31T18:37:57.178Z"
   },
   {
    "duration": 1217,
    "start_time": "2022-03-31T18:37:59.655Z"
   },
   {
    "duration": 738,
    "start_time": "2022-03-31T18:38:00.884Z"
   },
   {
    "duration": 367,
    "start_time": "2022-03-31T18:38:01.626Z"
   },
   {
    "duration": 14,
    "start_time": "2022-03-31T18:38:01.996Z"
   },
   {
    "duration": 240,
    "start_time": "2022-03-31T18:38:02.013Z"
   },
   {
    "duration": 0,
    "start_time": "2022-03-31T18:38:02.256Z"
   },
   {
    "duration": 0,
    "start_time": "2022-03-31T18:38:02.258Z"
   },
   {
    "duration": 1,
    "start_time": "2022-03-31T18:38:02.260Z"
   },
   {
    "duration": 0,
    "start_time": "2022-03-31T18:38:02.263Z"
   },
   {
    "duration": 0,
    "start_time": "2022-03-31T18:38:02.266Z"
   },
   {
    "duration": 0,
    "start_time": "2022-03-31T18:38:02.284Z"
   },
   {
    "duration": 0,
    "start_time": "2022-03-31T18:38:02.286Z"
   },
   {
    "duration": 0,
    "start_time": "2022-03-31T18:38:02.288Z"
   },
   {
    "duration": 0,
    "start_time": "2022-03-31T18:38:02.291Z"
   },
   {
    "duration": 0,
    "start_time": "2022-03-31T18:38:02.292Z"
   },
   {
    "duration": 0,
    "start_time": "2022-03-31T18:38:02.293Z"
   },
   {
    "duration": 18,
    "start_time": "2022-03-31T18:38:16.132Z"
   },
   {
    "duration": 2124,
    "start_time": "2022-03-31T18:38:22.243Z"
   },
   {
    "duration": 1099,
    "start_time": "2022-03-31T18:38:24.370Z"
   },
   {
    "duration": 637,
    "start_time": "2022-03-31T18:38:25.471Z"
   },
   {
    "duration": 274,
    "start_time": "2022-03-31T18:38:26.111Z"
   },
   {
    "duration": 10,
    "start_time": "2022-03-31T18:38:26.387Z"
   },
   {
    "duration": 16,
    "start_time": "2022-03-31T18:38:26.400Z"
   },
   {
    "duration": 847,
    "start_time": "2022-03-31T18:38:26.419Z"
   },
   {
    "duration": 793,
    "start_time": "2022-03-31T18:38:27.268Z"
   },
   {
    "duration": 3695,
    "start_time": "2022-03-31T18:38:28.064Z"
   },
   {
    "duration": 3648,
    "start_time": "2022-03-31T18:38:31.762Z"
   },
   {
    "duration": 677,
    "start_time": "2022-03-31T18:38:35.412Z"
   },
   {
    "duration": 1980,
    "start_time": "2022-03-31T18:38:36.091Z"
   },
   {
    "duration": 10,
    "start_time": "2022-03-31T18:38:38.074Z"
   },
   {
    "duration": 20,
    "start_time": "2022-03-31T18:38:38.087Z"
   },
   {
    "duration": 1277,
    "start_time": "2022-03-31T18:38:38.110Z"
   },
   {
    "duration": 679041,
    "start_time": "2022-03-31T18:38:39.390Z"
   },
   {
    "duration": 9,
    "start_time": "2022-03-31T18:49:58.434Z"
   },
   {
    "duration": 5,
    "start_time": "2022-03-31T18:54:06.084Z"
   },
   {
    "duration": 2953,
    "start_time": "2022-03-31T19:18:12.937Z"
   },
   {
    "duration": 3586,
    "start_time": "2022-03-31T19:19:10.004Z"
   },
   {
    "duration": 3040,
    "start_time": "2022-03-31T19:19:56.154Z"
   },
   {
    "duration": 8638,
    "start_time": "2022-03-31T19:20:46.246Z"
   },
   {
    "duration": 7210,
    "start_time": "2022-03-31T19:21:16.748Z"
   },
   {
    "duration": 8770,
    "start_time": "2022-03-31T19:22:58.367Z"
   },
   {
    "duration": 54,
    "start_time": "2022-03-31T19:23:50.140Z"
   },
   {
    "duration": 2857,
    "start_time": "2022-03-31T19:24:50.669Z"
   },
   {
    "duration": 1597,
    "start_time": "2022-03-31T19:24:53.530Z"
   },
   {
    "duration": 1008,
    "start_time": "2022-03-31T19:24:55.129Z"
   },
   {
    "duration": 108,
    "start_time": "2022-03-31T19:24:56.140Z"
   },
   {
    "duration": 18,
    "start_time": "2022-03-31T19:24:56.251Z"
   },
   {
    "duration": 18,
    "start_time": "2022-03-31T19:24:56.272Z"
   },
   {
    "duration": 873,
    "start_time": "2022-03-31T19:24:56.292Z"
   },
   {
    "duration": 790,
    "start_time": "2022-03-31T19:24:57.167Z"
   },
   {
    "duration": 3691,
    "start_time": "2022-03-31T19:24:57.959Z"
   },
   {
    "duration": 3626,
    "start_time": "2022-03-31T19:25:01.654Z"
   },
   {
    "duration": 607,
    "start_time": "2022-03-31T19:25:05.283Z"
   },
   {
    "duration": 2036,
    "start_time": "2022-03-31T19:25:05.892Z"
   },
   {
    "duration": 4,
    "start_time": "2022-03-31T19:25:07.931Z"
   },
   {
    "duration": 52,
    "start_time": "2022-03-31T19:25:07.938Z"
   },
   {
    "duration": 442,
    "start_time": "2022-03-31T19:25:07.993Z"
   },
   {
    "duration": 0,
    "start_time": "2022-03-31T19:25:08.437Z"
   },
   {
    "duration": 0,
    "start_time": "2022-03-31T19:25:08.440Z"
   },
   {
    "duration": 0,
    "start_time": "2022-03-31T19:25:08.441Z"
   },
   {
    "duration": 190,
    "start_time": "2022-03-31T19:25:36.384Z"
   },
   {
    "duration": 4,
    "start_time": "2022-03-31T19:25:44.894Z"
   },
   {
    "duration": 28,
    "start_time": "2022-03-31T19:25:46.028Z"
   },
   {
    "duration": 134,
    "start_time": "2022-03-31T19:25:48.262Z"
   },
   {
    "duration": 12,
    "start_time": "2022-03-31T19:27:09.284Z"
   },
   {
    "duration": 834,
    "start_time": "2022-03-31T19:27:10.136Z"
   },
   {
    "duration": 929,
    "start_time": "2022-03-31T19:27:10.973Z"
   },
   {
    "duration": 3647,
    "start_time": "2022-03-31T19:27:11.904Z"
   },
   {
    "duration": 3616,
    "start_time": "2022-03-31T19:27:15.554Z"
   },
   {
    "duration": 633,
    "start_time": "2022-03-31T19:27:19.173Z"
   },
   {
    "duration": 2259,
    "start_time": "2022-03-31T19:27:19.809Z"
   },
   {
    "duration": 13,
    "start_time": "2022-03-31T19:27:22.071Z"
   },
   {
    "duration": 21,
    "start_time": "2022-03-31T19:27:22.086Z"
   },
   {
    "duration": 7738,
    "start_time": "2022-03-31T19:27:22.109Z"
   },
   {
    "duration": 136,
    "start_time": "2022-03-31T19:27:29.851Z"
   },
   {
    "duration": 2120,
    "start_time": "2022-03-31T19:29:25.749Z"
   },
   {
    "duration": 1081,
    "start_time": "2022-03-31T19:29:27.872Z"
   },
   {
    "duration": 643,
    "start_time": "2022-03-31T19:29:28.956Z"
   },
   {
    "duration": 82,
    "start_time": "2022-03-31T19:29:29.602Z"
   },
   {
    "duration": 16,
    "start_time": "2022-03-31T19:29:29.686Z"
   },
   {
    "duration": 14,
    "start_time": "2022-03-31T19:29:29.705Z"
   },
   {
    "duration": 839,
    "start_time": "2022-03-31T19:29:29.722Z"
   },
   {
    "duration": 790,
    "start_time": "2022-03-31T19:29:30.563Z"
   },
   {
    "duration": 3713,
    "start_time": "2022-03-31T19:29:31.355Z"
   },
   {
    "duration": 4229,
    "start_time": "2022-03-31T19:29:35.072Z"
   },
   {
    "duration": 680,
    "start_time": "2022-03-31T19:29:39.304Z"
   },
   {
    "duration": 1954,
    "start_time": "2022-03-31T19:29:39.986Z"
   },
   {
    "duration": 4,
    "start_time": "2022-03-31T19:29:41.942Z"
   },
   {
    "duration": 13,
    "start_time": "2022-03-31T19:29:41.948Z"
   },
   {
    "duration": 168,
    "start_time": "2022-03-31T19:29:41.963Z"
   },
   {
    "duration": 0,
    "start_time": "2022-03-31T19:29:42.133Z"
   },
   {
    "duration": 0,
    "start_time": "2022-03-31T19:29:42.134Z"
   },
   {
    "duration": 0,
    "start_time": "2022-03-31T19:29:42.136Z"
   },
   {
    "duration": 10,
    "start_time": "2022-03-31T19:30:26.686Z"
   },
   {
    "duration": 6405,
    "start_time": "2022-03-31T19:30:27.382Z"
   },
   {
    "duration": 19,
    "start_time": "2022-03-31T19:31:27.935Z"
   },
   {
    "duration": 8826,
    "start_time": "2022-03-31T19:31:28.920Z"
   },
   {
    "duration": 46,
    "start_time": "2022-03-31T19:31:37.748Z"
   },
   {
    "duration": 8130,
    "start_time": "2022-03-31T19:33:39.849Z"
   },
   {
    "duration": 9782,
    "start_time": "2022-03-31T19:33:57.952Z"
   },
   {
    "duration": 9052,
    "start_time": "2022-03-31T19:34:47.516Z"
   },
   {
    "duration": 90,
    "start_time": "2022-03-31T19:35:00.507Z"
   },
   {
    "duration": 9445,
    "start_time": "2022-03-31T19:35:44.832Z"
   },
   {
    "duration": 86,
    "start_time": "2022-03-31T19:35:56.908Z"
   },
   {
    "duration": 10,
    "start_time": "2022-03-31T19:37:08.902Z"
   },
   {
    "duration": 25,
    "start_time": "2022-03-31T19:37:14.124Z"
   },
   {
    "duration": 8710,
    "start_time": "2022-03-31T19:38:35.231Z"
   },
   {
    "duration": 26,
    "start_time": "2022-03-31T19:38:51.261Z"
   },
   {
    "duration": 21,
    "start_time": "2022-03-31T19:40:21.680Z"
   },
   {
    "duration": 20,
    "start_time": "2022-03-31T19:40:45.915Z"
   },
   {
    "duration": 2655,
    "start_time": "2022-03-31T19:40:51.996Z"
   },
   {
    "duration": 1588,
    "start_time": "2022-03-31T19:40:54.655Z"
   },
   {
    "duration": 643,
    "start_time": "2022-03-31T19:40:56.246Z"
   },
   {
    "duration": 65,
    "start_time": "2022-03-31T19:40:56.893Z"
   },
   {
    "duration": 33,
    "start_time": "2022-03-31T19:40:56.961Z"
   },
   {
    "duration": 10,
    "start_time": "2022-03-31T19:40:56.996Z"
   },
   {
    "duration": 854,
    "start_time": "2022-03-31T19:40:57.008Z"
   },
   {
    "duration": 794,
    "start_time": "2022-03-31T19:40:57.864Z"
   },
   {
    "duration": 3889,
    "start_time": "2022-03-31T19:40:58.661Z"
   },
   {
    "duration": 4164,
    "start_time": "2022-03-31T19:41:02.554Z"
   },
   {
    "duration": 815,
    "start_time": "2022-03-31T19:41:06.721Z"
   },
   {
    "duration": 2639,
    "start_time": "2022-03-31T19:41:07.539Z"
   },
   {
    "duration": 4,
    "start_time": "2022-03-31T19:41:10.185Z"
   },
   {
    "duration": 15,
    "start_time": "2022-03-31T19:41:10.192Z"
   },
   {
    "duration": 8691,
    "start_time": "2022-03-31T19:41:10.210Z"
   },
   {
    "duration": 91,
    "start_time": "2022-03-31T19:41:18.904Z"
   },
   {
    "duration": 353,
    "start_time": "2022-03-31T19:41:18.997Z"
   },
   {
    "duration": 0,
    "start_time": "2022-03-31T19:41:19.353Z"
   },
   {
    "duration": 10,
    "start_time": "2022-03-31T19:42:25.806Z"
   },
   {
    "duration": 8434,
    "start_time": "2022-03-31T19:42:26.325Z"
   },
   {
    "duration": 2087,
    "start_time": "2022-03-31T19:48:51.542Z"
   },
   {
    "duration": 1156,
    "start_time": "2022-03-31T19:48:53.632Z"
   },
   {
    "duration": 643,
    "start_time": "2022-03-31T19:48:54.790Z"
   },
   {
    "duration": 79,
    "start_time": "2022-03-31T19:48:55.436Z"
   },
   {
    "duration": 15,
    "start_time": "2022-03-31T19:48:55.517Z"
   },
   {
    "duration": 9,
    "start_time": "2022-03-31T19:48:55.534Z"
   },
   {
    "duration": 823,
    "start_time": "2022-03-31T19:48:55.546Z"
   },
   {
    "duration": 3,
    "start_time": "2022-03-31T19:48:56.372Z"
   },
   {
    "duration": 3669,
    "start_time": "2022-03-31T19:48:56.384Z"
   },
   {
    "duration": 3614,
    "start_time": "2022-03-31T19:49:00.056Z"
   },
   {
    "duration": 622,
    "start_time": "2022-03-31T19:49:03.672Z"
   },
   {
    "duration": 1941,
    "start_time": "2022-03-31T19:49:04.297Z"
   },
   {
    "duration": 4,
    "start_time": "2022-03-31T19:49:06.240Z"
   },
   {
    "duration": 19,
    "start_time": "2022-03-31T19:49:06.246Z"
   },
   {
    "duration": 7631,
    "start_time": "2022-03-31T19:49:06.268Z"
   },
   {
    "duration": 92,
    "start_time": "2022-03-31T19:49:13.902Z"
   },
   {
    "duration": 2115,
    "start_time": "2022-03-31T19:56:30.055Z"
   },
   {
    "duration": 1085,
    "start_time": "2022-03-31T19:56:32.172Z"
   },
   {
    "duration": 636,
    "start_time": "2022-03-31T19:56:33.259Z"
   },
   {
    "duration": 64,
    "start_time": "2022-03-31T19:56:33.898Z"
   },
   {
    "duration": 32,
    "start_time": "2022-03-31T19:56:33.964Z"
   },
   {
    "duration": 11,
    "start_time": "2022-03-31T19:56:33.998Z"
   },
   {
    "duration": 851,
    "start_time": "2022-03-31T19:56:34.011Z"
   },
   {
    "duration": 192,
    "start_time": "2022-03-31T19:56:39.121Z"
   },
   {
    "duration": 55,
    "start_time": "2022-03-31T19:57:39.161Z"
   },
   {
    "duration": 31,
    "start_time": "2022-03-31T19:58:00.529Z"
   },
   {
    "duration": 55,
    "start_time": "2022-03-31T19:58:25.399Z"
   },
   {
    "duration": 698,
    "start_time": "2022-03-31T20:00:32.606Z"
   },
   {
    "duration": 821,
    "start_time": "2022-03-31T20:00:35.828Z"
   },
   {
    "duration": 3675,
    "start_time": "2022-03-31T20:00:46.766Z"
   },
   {
    "duration": 3621,
    "start_time": "2022-03-31T20:00:50.444Z"
   },
   {
    "duration": 5,
    "start_time": "2022-03-31T20:01:19.557Z"
   },
   {
    "duration": 13,
    "start_time": "2022-03-31T20:01:20.569Z"
   },
   {
    "duration": 163,
    "start_time": "2022-03-31T20:01:22.508Z"
   },
   {
    "duration": 12,
    "start_time": "2022-03-31T20:01:24.210Z"
   },
   {
    "duration": 20219,
    "start_time": "2022-03-31T20:01:25.365Z"
   },
   {
    "duration": 677,
    "start_time": "2022-03-31T20:02:43.753Z"
   },
   {
    "duration": 812,
    "start_time": "2022-03-31T20:02:44.433Z"
   },
   {
    "duration": 3628,
    "start_time": "2022-03-31T20:02:45.628Z"
   },
   {
    "duration": 3611,
    "start_time": "2022-03-31T20:02:49.259Z"
   },
   {
    "duration": 683,
    "start_time": "2022-03-31T20:02:52.874Z"
   },
   {
    "duration": 1861,
    "start_time": "2022-03-31T20:02:53.562Z"
   },
   {
    "duration": 6,
    "start_time": "2022-03-31T20:02:55.426Z"
   },
   {
    "duration": 14,
    "start_time": "2022-03-31T20:02:55.434Z"
   },
   {
    "duration": 152,
    "start_time": "2022-03-31T20:03:00.925Z"
   },
   {
    "duration": 13,
    "start_time": "2022-03-31T20:03:02.444Z"
   },
   {
    "duration": 2085,
    "start_time": "2022-03-31T20:03:09.419Z"
   },
   {
    "duration": 1128,
    "start_time": "2022-03-31T20:03:11.507Z"
   },
   {
    "duration": 626,
    "start_time": "2022-03-31T20:03:12.637Z"
   },
   {
    "duration": 70,
    "start_time": "2022-03-31T20:03:13.266Z"
   },
   {
    "duration": 14,
    "start_time": "2022-03-31T20:03:13.339Z"
   },
   {
    "duration": 30,
    "start_time": "2022-03-31T20:03:13.355Z"
   },
   {
    "duration": 773,
    "start_time": "2022-03-31T20:03:13.387Z"
   },
   {
    "duration": 786,
    "start_time": "2022-03-31T20:03:14.162Z"
   },
   {
    "duration": 804,
    "start_time": "2022-03-31T20:03:14.951Z"
   },
   {
    "duration": 3701,
    "start_time": "2022-03-31T20:03:15.759Z"
   },
   {
    "duration": 3658,
    "start_time": "2022-03-31T20:03:19.463Z"
   },
   {
    "duration": 613,
    "start_time": "2022-03-31T20:03:23.123Z"
   },
   {
    "duration": 2008,
    "start_time": "2022-03-31T20:03:23.739Z"
   },
   {
    "duration": 6,
    "start_time": "2022-03-31T20:03:25.749Z"
   },
   {
    "duration": 30,
    "start_time": "2022-03-31T20:03:25.757Z"
   },
   {
    "duration": 326,
    "start_time": "2022-03-31T20:03:25.789Z"
   },
   {
    "duration": 0,
    "start_time": "2022-03-31T20:03:26.117Z"
   },
   {
    "duration": 0,
    "start_time": "2022-03-31T20:03:26.118Z"
   },
   {
    "duration": 0,
    "start_time": "2022-03-31T20:03:26.120Z"
   },
   {
    "duration": 159,
    "start_time": "2022-03-31T20:07:06.553Z"
   },
   {
    "duration": 160,
    "start_time": "2022-03-31T20:07:22.198Z"
   },
   {
    "duration": 218,
    "start_time": "2022-03-31T20:07:57.519Z"
   },
   {
    "duration": 679,
    "start_time": "2022-03-31T20:08:31.117Z"
   },
   {
    "duration": 845,
    "start_time": "2022-03-31T20:08:31.798Z"
   },
   {
    "duration": 3551,
    "start_time": "2022-03-31T20:08:35.197Z"
   },
   {
    "duration": 3620,
    "start_time": "2022-03-31T20:08:38.750Z"
   },
   {
    "duration": 676,
    "start_time": "2022-03-31T20:08:42.372Z"
   },
   {
    "duration": 2141,
    "start_time": "2022-03-31T20:08:43.050Z"
   },
   {
    "duration": 4,
    "start_time": "2022-03-31T20:08:45.193Z"
   },
   {
    "duration": 10,
    "start_time": "2022-03-31T20:09:09.405Z"
   },
   {
    "duration": 159,
    "start_time": "2022-03-31T20:09:10.145Z"
   },
   {
    "duration": 14,
    "start_time": "2022-03-31T20:09:11.351Z"
   },
   {
    "duration": 20635,
    "start_time": "2022-03-31T20:09:12.256Z"
   },
   {
    "duration": 165,
    "start_time": "2022-03-31T20:10:01.498Z"
   },
   {
    "duration": 2011,
    "start_time": "2022-03-31T20:10:39.703Z"
   },
   {
    "duration": 1100,
    "start_time": "2022-03-31T20:10:41.717Z"
   },
   {
    "duration": 641,
    "start_time": "2022-03-31T20:10:42.820Z"
   },
   {
    "duration": 78,
    "start_time": "2022-03-31T20:10:43.466Z"
   },
   {
    "duration": 38,
    "start_time": "2022-03-31T20:10:43.546Z"
   },
   {
    "duration": 12,
    "start_time": "2022-03-31T20:10:43.587Z"
   },
   {
    "duration": 864,
    "start_time": "2022-03-31T20:10:43.601Z"
   },
   {
    "duration": 708,
    "start_time": "2022-03-31T20:10:44.468Z"
   },
   {
    "duration": 771,
    "start_time": "2022-03-31T20:10:45.179Z"
   },
   {
    "duration": 3701,
    "start_time": "2022-03-31T20:10:45.953Z"
   },
   {
    "duration": 3625,
    "start_time": "2022-03-31T20:10:49.656Z"
   },
   {
    "duration": 568,
    "start_time": "2022-03-31T20:10:53.285Z"
   },
   {
    "duration": 1979,
    "start_time": "2022-03-31T20:10:53.856Z"
   },
   {
    "duration": 5,
    "start_time": "2022-03-31T20:10:55.838Z"
   },
   {
    "duration": 38,
    "start_time": "2022-03-31T20:10:55.845Z"
   },
   {
    "duration": 306,
    "start_time": "2022-03-31T20:10:55.886Z"
   },
   {
    "duration": 0,
    "start_time": "2022-03-31T20:10:56.195Z"
   },
   {
    "duration": 0,
    "start_time": "2022-03-31T20:10:56.196Z"
   },
   {
    "duration": 0,
    "start_time": "2022-03-31T20:10:56.198Z"
   },
   {
    "duration": 2055,
    "start_time": "2022-03-31T20:11:46.883Z"
   },
   {
    "duration": 1085,
    "start_time": "2022-03-31T20:11:48.940Z"
   },
   {
    "duration": 751,
    "start_time": "2022-03-31T20:11:50.028Z"
   },
   {
    "duration": 68,
    "start_time": "2022-03-31T20:11:50.781Z"
   },
   {
    "duration": 36,
    "start_time": "2022-03-31T20:11:50.852Z"
   },
   {
    "duration": 9,
    "start_time": "2022-03-31T20:11:50.891Z"
   },
   {
    "duration": 860,
    "start_time": "2022-03-31T20:11:50.903Z"
   },
   {
    "duration": 788,
    "start_time": "2022-03-31T20:11:51.765Z"
   },
   {
    "duration": 4090,
    "start_time": "2022-03-31T20:11:52.556Z"
   },
   {
    "duration": 3614,
    "start_time": "2022-03-31T20:11:56.649Z"
   },
   {
    "duration": 622,
    "start_time": "2022-03-31T20:12:00.265Z"
   },
   {
    "duration": 1948,
    "start_time": "2022-03-31T20:12:00.890Z"
   },
   {
    "duration": 4,
    "start_time": "2022-03-31T20:12:02.841Z"
   },
   {
    "duration": 29,
    "start_time": "2022-03-31T20:12:02.847Z"
   },
   {
    "duration": 3556,
    "start_time": "2022-03-31T20:12:02.885Z"
   },
   {
    "duration": 349,
    "start_time": "2022-03-31T20:12:06.444Z"
   },
   {
    "duration": 0,
    "start_time": "2022-03-31T20:12:06.795Z"
   },
   {
    "duration": 0,
    "start_time": "2022-03-31T20:12:06.797Z"
   },
   {
    "duration": 3498,
    "start_time": "2022-03-31T20:12:55.152Z"
   },
   {
    "duration": 6718,
    "start_time": "2022-03-31T20:14:11.527Z"
   },
   {
    "duration": 23,
    "start_time": "2022-03-31T20:14:23.521Z"
   },
   {
    "duration": 1107,
    "start_time": "2022-03-31T20:16:14.694Z"
   },
   {
    "duration": 17,
    "start_time": "2022-03-31T20:16:21.829Z"
   },
   {
    "duration": 70,
    "start_time": "2022-03-31T20:16:39.621Z"
   },
   {
    "duration": 6175,
    "start_time": "2022-03-31T20:18:17.715Z"
   },
   {
    "duration": 1114,
    "start_time": "2022-03-31T20:18:28.170Z"
   },
   {
    "duration": 1108,
    "start_time": "2022-03-31T20:18:47.859Z"
   },
   {
    "duration": 6339,
    "start_time": "2022-03-31T20:19:22.546Z"
   },
   {
    "duration": 6350,
    "start_time": "2022-03-31T20:20:30.641Z"
   },
   {
    "duration": 6570,
    "start_time": "2022-03-31T20:20:45.315Z"
   },
   {
    "duration": 15,
    "start_time": "2022-03-31T20:29:31.553Z"
   },
   {
    "duration": 6,
    "start_time": "2022-03-31T20:29:43.337Z"
   },
   {
    "duration": 3077,
    "start_time": "2022-03-31T20:29:50.515Z"
   },
   {
    "duration": 5,
    "start_time": "2022-03-31T20:31:11.782Z"
   },
   {
    "duration": 15,
    "start_time": "2022-03-31T20:32:49.757Z"
   },
   {
    "duration": 3228,
    "start_time": "2022-03-31T20:33:00.965Z"
   },
   {
    "duration": 3833,
    "start_time": "2022-03-31T20:33:34.455Z"
   },
   {
    "duration": 186,
    "start_time": "2022-03-31T20:36:31.046Z"
   },
   {
    "duration": 112,
    "start_time": "2022-03-31T21:00:47.097Z"
   },
   {
    "duration": 125,
    "start_time": "2022-03-31T21:00:59.162Z"
   },
   {
    "duration": 1990,
    "start_time": "2022-03-31T21:01:11.031Z"
   },
   {
    "duration": 1065,
    "start_time": "2022-03-31T21:01:13.024Z"
   },
   {
    "duration": 617,
    "start_time": "2022-03-31T21:01:14.091Z"
   },
   {
    "duration": 76,
    "start_time": "2022-03-31T21:01:14.711Z"
   },
   {
    "duration": 17,
    "start_time": "2022-03-31T21:01:14.790Z"
   },
   {
    "duration": 147,
    "start_time": "2022-03-31T21:01:14.809Z"
   },
   {
    "duration": 6,
    "start_time": "2022-03-31T21:01:14.958Z"
   },
   {
    "duration": 797,
    "start_time": "2022-03-31T21:01:14.966Z"
   },
   {
    "duration": 3680,
    "start_time": "2022-03-31T21:01:15.765Z"
   },
   {
    "duration": 3739,
    "start_time": "2022-03-31T21:01:19.450Z"
   },
   {
    "duration": 695,
    "start_time": "2022-03-31T21:01:23.192Z"
   },
   {
    "duration": 2081,
    "start_time": "2022-03-31T21:01:23.890Z"
   },
   {
    "duration": 14,
    "start_time": "2022-03-31T21:01:25.973Z"
   },
   {
    "duration": 31,
    "start_time": "2022-03-31T21:01:25.989Z"
   },
   {
    "duration": 1178,
    "start_time": "2022-03-31T21:01:26.023Z"
   },
   {
    "duration": 5179,
    "start_time": "2022-03-31T21:01:27.204Z"
   },
   {
    "duration": 2797,
    "start_time": "2022-03-31T21:01:32.387Z"
   },
   {
    "duration": 454909,
    "start_time": "2022-03-31T21:01:35.188Z"
   },
   {
    "duration": 12,
    "start_time": "2022-03-31T21:09:10.100Z"
   },
   {
    "duration": 20,
    "start_time": "2022-03-31T21:09:10.117Z"
   },
   {
    "duration": 16480,
    "start_time": "2022-03-31T21:15:25.345Z"
   },
   {
    "duration": 5664,
    "start_time": "2022-03-31T21:15:47.520Z"
   },
   {
    "duration": 15734,
    "start_time": "2022-03-31T21:15:56.119Z"
   },
   {
    "duration": 15807,
    "start_time": "2022-03-31T21:16:50.587Z"
   },
   {
    "duration": 2003,
    "start_time": "2022-03-31T21:19:16.507Z"
   },
   {
    "duration": 1047,
    "start_time": "2022-03-31T21:19:18.513Z"
   },
   {
    "duration": 641,
    "start_time": "2022-03-31T21:19:19.563Z"
   },
   {
    "duration": 64,
    "start_time": "2022-03-31T21:19:20.207Z"
   },
   {
    "duration": 18,
    "start_time": "2022-03-31T21:19:20.283Z"
   },
   {
    "duration": 1489,
    "start_time": "2022-03-31T21:19:20.303Z"
   },
   {
    "duration": 0,
    "start_time": "2022-03-31T21:19:21.795Z"
   },
   {
    "duration": 0,
    "start_time": "2022-03-31T21:19:21.796Z"
   },
   {
    "duration": 0,
    "start_time": "2022-03-31T21:19:21.798Z"
   },
   {
    "duration": 1,
    "start_time": "2022-03-31T21:19:21.799Z"
   },
   {
    "duration": 0,
    "start_time": "2022-03-31T21:19:21.801Z"
   },
   {
    "duration": 0,
    "start_time": "2022-03-31T21:19:21.802Z"
   },
   {
    "duration": 0,
    "start_time": "2022-03-31T21:19:21.804Z"
   },
   {
    "duration": 0,
    "start_time": "2022-03-31T21:19:21.806Z"
   },
   {
    "duration": 0,
    "start_time": "2022-03-31T21:19:21.807Z"
   },
   {
    "duration": 0,
    "start_time": "2022-03-31T21:19:21.809Z"
   },
   {
    "duration": 0,
    "start_time": "2022-03-31T21:19:21.810Z"
   },
   {
    "duration": 0,
    "start_time": "2022-03-31T21:19:21.811Z"
   },
   {
    "duration": 0,
    "start_time": "2022-03-31T21:19:21.812Z"
   },
   {
    "duration": 0,
    "start_time": "2022-03-31T21:19:21.814Z"
   },
   {
    "duration": 1235,
    "start_time": "2022-03-31T21:25:55.219Z"
   },
   {
    "duration": 1266,
    "start_time": "2022-03-31T21:27:11.161Z"
   },
   {
    "duration": 1598,
    "start_time": "2022-03-31T21:27:41.397Z"
   },
   {
    "duration": 1985,
    "start_time": "2022-03-31T21:28:40.227Z"
   },
   {
    "duration": 1054,
    "start_time": "2022-03-31T21:28:42.215Z"
   },
   {
    "duration": 623,
    "start_time": "2022-03-31T21:28:43.283Z"
   },
   {
    "duration": 78,
    "start_time": "2022-03-31T21:28:43.909Z"
   },
   {
    "duration": 18,
    "start_time": "2022-03-31T21:28:43.989Z"
   },
   {
    "duration": 183,
    "start_time": "2022-03-31T21:28:44.009Z"
   },
   {
    "duration": 17,
    "start_time": "2022-03-31T21:29:18.499Z"
   },
   {
    "duration": 24,
    "start_time": "2022-03-31T21:29:45.886Z"
   },
   {
    "duration": 45,
    "start_time": "2022-03-31T21:29:57.905Z"
   },
   {
    "duration": 117,
    "start_time": "2022-03-31T21:30:25.728Z"
   },
   {
    "duration": 7,
    "start_time": "2022-03-31T21:31:06.146Z"
   },
   {
    "duration": 23,
    "start_time": "2022-03-31T21:32:27.395Z"
   },
   {
    "duration": 126,
    "start_time": "2022-03-31T21:32:28.158Z"
   },
   {
    "duration": 19,
    "start_time": "2022-03-31T21:32:29.089Z"
   },
   {
    "duration": 7,
    "start_time": "2022-03-31T21:32:29.495Z"
   },
   {
    "duration": 875,
    "start_time": "2022-03-31T21:32:29.991Z"
   },
   {
    "duration": 3726,
    "start_time": "2022-03-31T21:32:31.422Z"
   },
   {
    "duration": 3625,
    "start_time": "2022-03-31T21:32:35.151Z"
   },
   {
    "duration": 611,
    "start_time": "2022-03-31T21:32:38.778Z"
   },
   {
    "duration": 1836,
    "start_time": "2022-03-31T21:32:39.391Z"
   },
   {
    "duration": 4,
    "start_time": "2022-03-31T21:32:41.229Z"
   },
   {
    "duration": 21,
    "start_time": "2022-03-31T21:32:41.235Z"
   },
   {
    "duration": 1192,
    "start_time": "2022-03-31T21:32:41.258Z"
   },
   {
    "duration": 5739,
    "start_time": "2022-03-31T21:32:42.452Z"
   },
   {
    "duration": 14895,
    "start_time": "2022-03-31T21:32:53.736Z"
   },
   {
    "duration": 76,
    "start_time": "2022-03-31T21:34:07.884Z"
   },
   {
    "duration": 2000,
    "start_time": "2022-03-31T21:34:16.636Z"
   },
   {
    "duration": 1072,
    "start_time": "2022-03-31T21:34:18.639Z"
   },
   {
    "duration": 642,
    "start_time": "2022-03-31T21:34:19.714Z"
   },
   {
    "duration": 79,
    "start_time": "2022-03-31T21:34:20.360Z"
   },
   {
    "duration": 19,
    "start_time": "2022-03-31T21:34:20.441Z"
   },
   {
    "duration": 44,
    "start_time": "2022-03-31T21:34:20.463Z"
   },
   {
    "duration": 175,
    "start_time": "2022-03-31T21:34:20.509Z"
   },
   {
    "duration": 16,
    "start_time": "2022-03-31T21:34:20.686Z"
   },
   {
    "duration": 13,
    "start_time": "2022-03-31T21:34:20.705Z"
   },
   {
    "duration": 2421,
    "start_time": "2022-03-31T21:34:20.723Z"
   },
   {
    "duration": 0,
    "start_time": "2022-03-31T21:34:23.147Z"
   },
   {
    "duration": 0,
    "start_time": "2022-03-31T21:34:23.149Z"
   },
   {
    "duration": 0,
    "start_time": "2022-03-31T21:34:23.151Z"
   },
   {
    "duration": 0,
    "start_time": "2022-03-31T21:34:23.153Z"
   },
   {
    "duration": 0,
    "start_time": "2022-03-31T21:34:23.154Z"
   },
   {
    "duration": 0,
    "start_time": "2022-03-31T21:34:23.156Z"
   },
   {
    "duration": 0,
    "start_time": "2022-03-31T21:34:23.157Z"
   },
   {
    "duration": 0,
    "start_time": "2022-03-31T21:34:23.158Z"
   },
   {
    "duration": 0,
    "start_time": "2022-03-31T21:34:23.159Z"
   },
   {
    "duration": 0,
    "start_time": "2022-03-31T21:34:23.160Z"
   },
   {
    "duration": 8,
    "start_time": "2022-03-31T21:34:57.027Z"
   },
   {
    "duration": 2316,
    "start_time": "2022-03-31T21:35:09.225Z"
   },
   {
    "duration": 1054,
    "start_time": "2022-03-31T21:35:11.543Z"
   },
   {
    "duration": 630,
    "start_time": "2022-03-31T21:35:12.599Z"
   },
   {
    "duration": 81,
    "start_time": "2022-03-31T21:35:13.233Z"
   },
   {
    "duration": 18,
    "start_time": "2022-03-31T21:35:13.316Z"
   },
   {
    "duration": 28,
    "start_time": "2022-03-31T21:35:13.336Z"
   },
   {
    "duration": 153,
    "start_time": "2022-03-31T21:35:13.366Z"
   },
   {
    "duration": 7,
    "start_time": "2022-03-31T21:35:13.521Z"
   },
   {
    "duration": 825,
    "start_time": "2022-03-31T21:35:13.530Z"
   },
   {
    "duration": 3804,
    "start_time": "2022-03-31T21:35:14.359Z"
   },
   {
    "duration": 3597,
    "start_time": "2022-03-31T21:35:18.166Z"
   },
   {
    "duration": 608,
    "start_time": "2022-03-31T21:35:21.765Z"
   },
   {
    "duration": 1566,
    "start_time": "2022-04-01T06:58:59.656Z"
   },
   {
    "duration": 769,
    "start_time": "2022-04-01T06:59:01.224Z"
   },
   {
    "duration": 363,
    "start_time": "2022-04-01T06:59:01.994Z"
   },
   {
    "duration": 53,
    "start_time": "2022-04-01T06:59:02.360Z"
   },
   {
    "duration": 24,
    "start_time": "2022-04-01T06:59:02.415Z"
   },
   {
    "duration": 15,
    "start_time": "2022-04-01T06:59:02.441Z"
   },
   {
    "duration": 103,
    "start_time": "2022-04-01T06:59:02.458Z"
   },
   {
    "duration": 4,
    "start_time": "2022-04-01T06:59:02.563Z"
   },
   {
    "duration": 623,
    "start_time": "2022-04-01T06:59:02.569Z"
   },
   {
    "duration": 2843,
    "start_time": "2022-04-01T06:59:03.195Z"
   },
   {
    "duration": 2615,
    "start_time": "2022-04-01T06:59:06.039Z"
   },
   {
    "duration": 408,
    "start_time": "2022-04-01T06:59:08.656Z"
   },
   {
    "duration": 1003,
    "start_time": "2022-04-01T06:59:09.065Z"
   },
   {
    "duration": 3,
    "start_time": "2022-04-01T06:59:10.070Z"
   },
   {
    "duration": 13,
    "start_time": "2022-04-01T06:59:10.074Z"
   },
   {
    "duration": 554,
    "start_time": "2022-04-01T06:59:10.089Z"
   },
   {
    "duration": 3693,
    "start_time": "2022-04-01T06:59:10.645Z"
   },
   {
    "duration": 9219,
    "start_time": "2022-04-01T06:59:14.340Z"
   },
   {
    "duration": 7,
    "start_time": "2022-04-01T06:59:23.561Z"
   },
   {
    "duration": 110,
    "start_time": "2022-04-01T07:01:05.359Z"
   },
   {
    "duration": 428,
    "start_time": "2022-04-01T07:01:23.705Z"
   },
   {
    "duration": 364,
    "start_time": "2022-04-01T07:01:58.972Z"
   },
   {
    "duration": 291,
    "start_time": "2022-04-01T07:04:07.546Z"
   },
   {
    "duration": 765,
    "start_time": "2022-04-01T07:05:56.172Z"
   },
   {
    "duration": 753,
    "start_time": "2022-04-01T07:06:07.584Z"
   },
   {
    "duration": 699,
    "start_time": "2022-04-01T07:07:18.843Z"
   },
   {
    "duration": 625,
    "start_time": "2022-04-01T07:07:37.717Z"
   },
   {
    "duration": 1174,
    "start_time": "2022-04-01T07:07:51.467Z"
   },
   {
    "duration": 802,
    "start_time": "2022-04-01T07:19:27.838Z"
   },
   {
    "duration": 1328,
    "start_time": "2022-04-01T07:20:10.805Z"
   },
   {
    "duration": 1185,
    "start_time": "2022-04-01T07:20:25.848Z"
   },
   {
    "duration": 6,
    "start_time": "2022-04-01T07:21:58.511Z"
   },
   {
    "duration": 608,
    "start_time": "2022-04-01T07:22:02.670Z"
   },
   {
    "duration": 3268,
    "start_time": "2022-04-01T07:22:04.366Z"
   },
   {
    "duration": 1352,
    "start_time": "2022-04-01T07:22:18.382Z"
   },
   {
    "duration": 1579,
    "start_time": "2022-04-01T07:22:57.359Z"
   },
   {
    "duration": 1215,
    "start_time": "2022-04-01T07:23:12.319Z"
   },
   {
    "duration": 1400,
    "start_time": "2022-04-01T07:23:57.239Z"
   },
   {
    "duration": 3,
    "start_time": "2022-04-01T07:29:36.530Z"
   },
   {
    "duration": 6,
    "start_time": "2022-04-01T07:29:37.232Z"
   },
   {
    "duration": 547,
    "start_time": "2022-04-01T07:29:38.904Z"
   },
   {
    "duration": 3787,
    "start_time": "2022-04-01T07:29:41.047Z"
   },
   {
    "duration": 950,
    "start_time": "2022-04-01T07:29:48.593Z"
   },
   {
    "duration": 13153,
    "start_time": "2022-04-01T07:29:51.538Z"
   },
   {
    "duration": 1560,
    "start_time": "2022-04-01T07:33:19.193Z"
   },
   {
    "duration": 22,
    "start_time": "2022-04-01T07:55:58.504Z"
   },
   {
    "duration": 20,
    "start_time": "2022-04-01T07:57:34.709Z"
   },
   {
    "duration": 1536,
    "start_time": "2022-04-01T07:57:38.167Z"
   },
   {
    "duration": 80,
    "start_time": "2022-04-01T07:57:40.855Z"
   },
   {
    "duration": 73,
    "start_time": "2022-04-01T07:57:53.255Z"
   },
   {
    "duration": 19,
    "start_time": "2022-04-01T07:58:16.557Z"
   },
   {
    "duration": 1487,
    "start_time": "2022-04-01T07:58:18.069Z"
   },
   {
    "duration": 85,
    "start_time": "2022-04-01T07:58:19.558Z"
   },
   {
    "duration": 73,
    "start_time": "2022-04-01T07:58:19.930Z"
   },
   {
    "duration": 1427,
    "start_time": "2022-04-01T07:59:31.685Z"
   },
   {
    "duration": 769,
    "start_time": "2022-04-01T07:59:33.114Z"
   },
   {
    "duration": 363,
    "start_time": "2022-04-01T07:59:33.884Z"
   },
   {
    "duration": 54,
    "start_time": "2022-04-01T07:59:34.249Z"
   },
   {
    "duration": 11,
    "start_time": "2022-04-01T07:59:34.304Z"
   },
   {
    "duration": 15,
    "start_time": "2022-04-01T07:59:34.333Z"
   },
   {
    "duration": 94,
    "start_time": "2022-04-01T07:59:34.350Z"
   },
   {
    "duration": 4,
    "start_time": "2022-04-01T07:59:34.446Z"
   },
   {
    "duration": 534,
    "start_time": "2022-04-01T07:59:34.452Z"
   },
   {
    "duration": 2843,
    "start_time": "2022-04-01T07:59:34.989Z"
   },
   {
    "duration": 2620,
    "start_time": "2022-04-01T07:59:37.834Z"
   },
   {
    "duration": 405,
    "start_time": "2022-04-01T07:59:40.456Z"
   },
   {
    "duration": 1057,
    "start_time": "2022-04-01T07:59:40.863Z"
   },
   {
    "duration": 12,
    "start_time": "2022-04-01T07:59:41.922Z"
   },
   {
    "duration": 11,
    "start_time": "2022-04-01T07:59:41.936Z"
   },
   {
    "duration": 131,
    "start_time": "2022-04-01T07:59:41.949Z"
   },
   {
    "duration": 1602,
    "start_time": "2022-04-01T07:59:42.082Z"
   },
   {
    "duration": 211,
    "start_time": "2022-04-01T07:59:43.686Z"
   },
   {
    "duration": 0,
    "start_time": "2022-04-01T07:59:43.899Z"
   },
   {
    "duration": 0,
    "start_time": "2022-04-01T07:59:43.900Z"
   },
   {
    "duration": 0,
    "start_time": "2022-04-01T07:59:43.901Z"
   },
   {
    "duration": 46,
    "start_time": "2022-04-01T08:00:52.004Z"
   },
   {
    "duration": 61,
    "start_time": "2022-04-01T08:00:58.188Z"
   },
   {
    "duration": 1512,
    "start_time": "2022-04-01T08:01:03.260Z"
   },
   {
    "duration": 189,
    "start_time": "2022-04-01T08:01:04.774Z"
   },
   {
    "duration": 166,
    "start_time": "2022-04-01T08:01:06.101Z"
   },
   {
    "duration": 794,
    "start_time": "2022-04-01T08:01:07.261Z"
   },
   {
    "duration": 1576,
    "start_time": "2022-04-01T08:01:45.426Z"
   },
   {
    "duration": 162,
    "start_time": "2022-04-01T08:01:47.219Z"
   },
   {
    "duration": 1453,
    "start_time": "2022-04-01T08:01:52.064Z"
   },
   {
    "duration": 773,
    "start_time": "2022-04-01T08:01:53.519Z"
   },
   {
    "duration": 373,
    "start_time": "2022-04-01T08:01:54.294Z"
   },
   {
    "duration": 64,
    "start_time": "2022-04-01T08:01:54.669Z"
   },
   {
    "duration": 11,
    "start_time": "2022-04-01T08:01:54.735Z"
   },
   {
    "duration": 15,
    "start_time": "2022-04-01T08:01:54.748Z"
   },
   {
    "duration": 106,
    "start_time": "2022-04-01T08:01:54.765Z"
   },
   {
    "duration": 5,
    "start_time": "2022-04-01T08:01:54.872Z"
   },
   {
    "duration": 615,
    "start_time": "2022-04-01T08:01:54.879Z"
   },
   {
    "duration": 2873,
    "start_time": "2022-04-01T08:01:55.496Z"
   },
   {
    "duration": 2686,
    "start_time": "2022-04-01T08:01:58.371Z"
   },
   {
    "duration": 415,
    "start_time": "2022-04-01T08:02:01.059Z"
   },
   {
    "duration": 1013,
    "start_time": "2022-04-01T08:02:01.475Z"
   },
   {
    "duration": 4,
    "start_time": "2022-04-01T08:02:02.490Z"
   },
   {
    "duration": 11,
    "start_time": "2022-04-01T08:02:02.496Z"
   },
   {
    "duration": 1637,
    "start_time": "2022-04-01T08:02:02.509Z"
   },
   {
    "duration": 1970,
    "start_time": "2022-04-01T08:02:04.148Z"
   },
   {
    "duration": 0,
    "start_time": "2022-04-01T08:02:06.120Z"
   },
   {
    "duration": 0,
    "start_time": "2022-04-01T08:02:06.133Z"
   },
   {
    "duration": 0,
    "start_time": "2022-04-01T08:02:06.135Z"
   },
   {
    "duration": 5,
    "start_time": "2022-04-01T08:05:36.594Z"
   },
   {
    "duration": 21,
    "start_time": "2022-04-01T08:06:30.152Z"
   },
   {
    "duration": 5,
    "start_time": "2022-04-01T08:06:30.864Z"
   },
   {
    "duration": 1451,
    "start_time": "2022-04-01T08:06:38.264Z"
   },
   {
    "duration": 778,
    "start_time": "2022-04-01T08:06:39.717Z"
   },
   {
    "duration": 372,
    "start_time": "2022-04-01T08:06:40.497Z"
   },
   {
    "duration": 62,
    "start_time": "2022-04-01T08:06:40.871Z"
   },
   {
    "duration": 11,
    "start_time": "2022-04-01T08:06:40.935Z"
   },
   {
    "duration": 16,
    "start_time": "2022-04-01T08:06:40.948Z"
   },
   {
    "duration": 104,
    "start_time": "2022-04-01T08:06:40.966Z"
   },
   {
    "duration": 5,
    "start_time": "2022-04-01T08:06:41.072Z"
   },
   {
    "duration": 613,
    "start_time": "2022-04-01T08:06:41.079Z"
   },
   {
    "duration": 2842,
    "start_time": "2022-04-01T08:06:41.694Z"
   },
   {
    "duration": 2707,
    "start_time": "2022-04-01T08:06:44.537Z"
   },
   {
    "duration": 411,
    "start_time": "2022-04-01T08:06:47.245Z"
   },
   {
    "duration": 1014,
    "start_time": "2022-04-01T08:06:47.658Z"
   },
   {
    "duration": 3,
    "start_time": "2022-04-01T08:06:48.673Z"
   },
   {
    "duration": 7,
    "start_time": "2022-04-01T08:06:48.678Z"
   },
   {
    "duration": 1504,
    "start_time": "2022-04-01T08:06:48.687Z"
   },
   {
    "duration": 2142,
    "start_time": "2022-04-01T08:06:50.193Z"
   },
   {
    "duration": 0,
    "start_time": "2022-04-01T08:06:52.337Z"
   },
   {
    "duration": 0,
    "start_time": "2022-04-01T08:06:52.338Z"
   },
   {
    "duration": 0,
    "start_time": "2022-04-01T08:06:52.339Z"
   },
   {
    "duration": 16,
    "start_time": "2022-04-01T08:11:45.517Z"
   },
   {
    "duration": 6,
    "start_time": "2022-04-01T08:12:11.829Z"
   },
   {
    "duration": 9,
    "start_time": "2022-04-01T08:16:15.670Z"
   },
   {
    "duration": 1613,
    "start_time": "2022-04-01T08:16:17.254Z"
   },
   {
    "duration": 1442,
    "start_time": "2022-04-01T08:16:19.092Z"
   },
   {
    "duration": 3560,
    "start_time": "2022-04-01T08:17:51.074Z"
   },
   {
    "duration": 11,
    "start_time": "2022-04-01T08:20:28.958Z"
   },
   {
    "duration": 3351,
    "start_time": "2022-04-01T08:21:00.286Z"
   },
   {
    "duration": 576,
    "start_time": "2022-04-01T08:21:31.799Z"
   },
   {
    "duration": 34,
    "start_time": "2022-04-01T08:22:32.718Z"
   },
   {
    "duration": 5,
    "start_time": "2022-04-01T08:22:33.422Z"
   },
   {
    "duration": 28,
    "start_time": "2022-04-01T08:22:40.326Z"
   },
   {
    "duration": 6,
    "start_time": "2022-04-01T08:22:40.957Z"
   },
   {
    "duration": 8,
    "start_time": "2022-04-01T08:22:50.769Z"
   },
   {
    "duration": 5,
    "start_time": "2022-04-01T08:22:53.642Z"
   },
   {
    "duration": 7,
    "start_time": "2022-04-01T08:22:58.128Z"
   },
   {
    "duration": 5,
    "start_time": "2022-04-01T08:23:01.149Z"
   },
   {
    "duration": 7,
    "start_time": "2022-04-01T08:23:05.878Z"
   },
   {
    "duration": 4,
    "start_time": "2022-04-01T08:23:06.854Z"
   },
   {
    "duration": 7,
    "start_time": "2022-04-01T08:23:19.815Z"
   },
   {
    "duration": 4,
    "start_time": "2022-04-01T08:23:20.438Z"
   },
   {
    "duration": 1525,
    "start_time": "2022-04-01T08:23:28.118Z"
   },
   {
    "duration": 798,
    "start_time": "2022-04-01T08:23:29.645Z"
   },
   {
    "duration": 384,
    "start_time": "2022-04-01T08:23:30.444Z"
   },
   {
    "duration": 57,
    "start_time": "2022-04-01T08:23:30.833Z"
   },
   {
    "duration": 12,
    "start_time": "2022-04-01T08:23:30.892Z"
   },
   {
    "duration": 31,
    "start_time": "2022-04-01T08:23:30.905Z"
   },
   {
    "duration": 97,
    "start_time": "2022-04-01T08:23:30.938Z"
   },
   {
    "duration": 5,
    "start_time": "2022-04-01T08:23:31.037Z"
   },
   {
    "duration": 550,
    "start_time": "2022-04-01T08:23:31.044Z"
   },
   {
    "duration": 2839,
    "start_time": "2022-04-01T08:23:31.597Z"
   },
   {
    "duration": 2621,
    "start_time": "2022-04-01T08:23:34.438Z"
   },
   {
    "duration": 417,
    "start_time": "2022-04-01T08:23:37.061Z"
   },
   {
    "duration": 1091,
    "start_time": "2022-04-01T08:23:37.481Z"
   },
   {
    "duration": 4,
    "start_time": "2022-04-01T08:23:38.574Z"
   },
   {
    "duration": 13,
    "start_time": "2022-04-01T08:23:38.580Z"
   },
   {
    "duration": 624,
    "start_time": "2022-04-01T08:23:38.595Z"
   },
   {
    "duration": 3821,
    "start_time": "2022-04-01T08:23:39.220Z"
   },
   {
    "duration": 293,
    "start_time": "2022-04-01T08:23:43.043Z"
   },
   {
    "duration": 0,
    "start_time": "2022-04-01T08:23:43.338Z"
   },
   {
    "duration": 0,
    "start_time": "2022-04-01T08:23:43.340Z"
   },
   {
    "duration": 0,
    "start_time": "2022-04-01T08:23:43.340Z"
   },
   {
    "duration": 0,
    "start_time": "2022-04-01T08:23:43.341Z"
   },
   {
    "duration": 31,
    "start_time": "2022-04-01T08:24:13.034Z"
   },
   {
    "duration": 6,
    "start_time": "2022-04-01T08:24:16.315Z"
   },
   {
    "duration": 23,
    "start_time": "2022-04-01T08:24:22.409Z"
   },
   {
    "duration": 5,
    "start_time": "2022-04-01T08:24:23.577Z"
   },
   {
    "duration": 11,
    "start_time": "2022-04-01T08:24:36.727Z"
   },
   {
    "duration": 562,
    "start_time": "2022-04-01T08:24:38.884Z"
   },
   {
    "duration": 1744,
    "start_time": "2022-04-01T08:24:42.996Z"
   },
   {
    "duration": 294,
    "start_time": "2022-04-01T08:26:16.038Z"
   },
   {
    "duration": 1555,
    "start_time": "2022-04-01T08:26:45.435Z"
   },
   {
    "duration": 787,
    "start_time": "2022-04-01T08:26:46.993Z"
   },
   {
    "duration": 378,
    "start_time": "2022-04-01T08:26:47.782Z"
   },
   {
    "duration": 56,
    "start_time": "2022-04-01T08:26:48.163Z"
   },
   {
    "duration": 21,
    "start_time": "2022-04-01T08:26:48.221Z"
   },
   {
    "duration": 17,
    "start_time": "2022-04-01T08:26:48.243Z"
   },
   {
    "duration": 114,
    "start_time": "2022-04-01T08:26:48.261Z"
   },
   {
    "duration": 6,
    "start_time": "2022-04-01T08:26:48.376Z"
   },
   {
    "duration": 616,
    "start_time": "2022-04-01T08:26:48.383Z"
   },
   {
    "duration": 2844,
    "start_time": "2022-04-01T08:26:49.002Z"
   },
   {
    "duration": 2606,
    "start_time": "2022-04-01T08:26:51.848Z"
   },
   {
    "duration": 405,
    "start_time": "2022-04-01T08:26:54.456Z"
   },
   {
    "duration": 1056,
    "start_time": "2022-04-01T08:26:54.862Z"
   },
   {
    "duration": 3,
    "start_time": "2022-04-01T08:26:55.920Z"
   },
   {
    "duration": 10,
    "start_time": "2022-04-01T08:26:55.933Z"
   },
   {
    "duration": 608,
    "start_time": "2022-04-01T08:26:55.945Z"
   },
   {
    "duration": 378,
    "start_time": "2022-04-01T08:26:56.555Z"
   },
   {
    "duration": 3602,
    "start_time": "2022-04-01T08:26:56.935Z"
   },
   {
    "duration": 250,
    "start_time": "2022-04-01T08:27:00.539Z"
   },
   {
    "duration": 0,
    "start_time": "2022-04-01T08:27:00.790Z"
   },
   {
    "duration": 0,
    "start_time": "2022-04-01T08:27:00.792Z"
   },
   {
    "duration": 1762,
    "start_time": "2022-04-01T08:29:13.500Z"
   },
   {
    "duration": 776,
    "start_time": "2022-04-01T08:29:15.264Z"
   },
   {
    "duration": 369,
    "start_time": "2022-04-01T08:29:16.042Z"
   },
   {
    "duration": 61,
    "start_time": "2022-04-01T08:29:16.413Z"
   },
   {
    "duration": 12,
    "start_time": "2022-04-01T08:29:16.476Z"
   },
   {
    "duration": 12,
    "start_time": "2022-04-01T08:29:16.489Z"
   },
   {
    "duration": 6,
    "start_time": "2022-04-01T08:29:16.503Z"
   },
   {
    "duration": 590,
    "start_time": "2022-04-01T08:29:16.510Z"
   },
   {
    "duration": 2845,
    "start_time": "2022-04-01T08:29:17.101Z"
   },
   {
    "duration": 2709,
    "start_time": "2022-04-01T08:29:19.949Z"
   },
   {
    "duration": 435,
    "start_time": "2022-04-01T08:29:22.660Z"
   },
   {
    "duration": 1042,
    "start_time": "2022-04-01T08:29:23.097Z"
   },
   {
    "duration": 3,
    "start_time": "2022-04-01T08:29:24.141Z"
   },
   {
    "duration": 19,
    "start_time": "2022-04-01T08:29:24.145Z"
   },
   {
    "duration": 584,
    "start_time": "2022-04-01T08:29:24.166Z"
   },
   {
    "duration": 585,
    "start_time": "2022-04-01T08:29:24.752Z"
   },
   {
    "duration": 4402,
    "start_time": "2022-04-01T08:29:25.340Z"
   },
   {
    "duration": 211,
    "start_time": "2022-04-01T08:29:29.834Z"
   },
   {
    "duration": 0,
    "start_time": "2022-04-01T08:29:30.047Z"
   },
   {
    "duration": 0,
    "start_time": "2022-04-01T08:29:30.048Z"
   },
   {
    "duration": 118,
    "start_time": "2022-04-01T08:34:35.579Z"
   },
   {
    "duration": 10,
    "start_time": "2022-04-01T08:34:49.141Z"
   },
   {
    "duration": 576,
    "start_time": "2022-04-01T08:34:51.310Z"
   },
   {
    "duration": 205,
    "start_time": "2022-04-01T08:34:52.639Z"
   },
   {
    "duration": 2929,
    "start_time": "2022-04-01T08:34:54.511Z"
   },
   {
    "duration": 9,
    "start_time": "2022-04-01T08:36:06.927Z"
   },
   {
    "duration": 565,
    "start_time": "2022-04-01T08:36:08.173Z"
   },
   {
    "duration": 101,
    "start_time": "2022-04-01T08:36:09.437Z"
   },
   {
    "duration": 2689,
    "start_time": "2022-04-01T08:36:13.348Z"
   },
   {
    "duration": 8,
    "start_time": "2022-04-01T08:37:13.750Z"
   },
   {
    "duration": 579,
    "start_time": "2022-04-01T08:37:16.822Z"
   },
   {
    "duration": 64,
    "start_time": "2022-04-01T08:37:18.278Z"
   },
   {
    "duration": 2961,
    "start_time": "2022-04-01T08:37:21.776Z"
   },
   {
    "duration": 7,
    "start_time": "2022-04-01T08:38:22.784Z"
   },
   {
    "duration": 592,
    "start_time": "2022-04-01T08:38:24.949Z"
   },
   {
    "duration": 26,
    "start_time": "2022-04-01T08:38:27.310Z"
   },
   {
    "duration": 2539,
    "start_time": "2022-04-01T08:38:28.998Z"
   },
   {
    "duration": 8,
    "start_time": "2022-04-01T08:40:02.911Z"
   },
   {
    "duration": 581,
    "start_time": "2022-04-01T08:40:04.638Z"
   },
   {
    "duration": 126,
    "start_time": "2022-04-01T08:40:06.207Z"
   },
   {
    "duration": 2971,
    "start_time": "2022-04-01T08:40:09.866Z"
   },
   {
    "duration": 9,
    "start_time": "2022-04-01T08:41:36.943Z"
   },
   {
    "duration": 565,
    "start_time": "2022-04-01T08:41:38.985Z"
   },
   {
    "duration": 177,
    "start_time": "2022-04-01T08:41:39.656Z"
   },
   {
    "duration": 8,
    "start_time": "2022-04-01T08:41:59.160Z"
   },
   {
    "duration": 951,
    "start_time": "2022-04-01T08:42:00.904Z"
   },
   {
    "duration": 156,
    "start_time": "2022-04-01T08:42:02.185Z"
   },
   {
    "duration": 8,
    "start_time": "2022-04-01T08:42:40.857Z"
   },
   {
    "duration": 590,
    "start_time": "2022-04-01T08:42:42.247Z"
   },
   {
    "duration": 242,
    "start_time": "2022-04-01T08:42:43.694Z"
   },
   {
    "duration": 2828,
    "start_time": "2022-04-01T08:42:47.112Z"
   },
   {
    "duration": 8,
    "start_time": "2022-04-01T08:43:15.678Z"
   },
   {
    "duration": 145,
    "start_time": "2022-04-01T08:43:18.488Z"
   },
   {
    "duration": 2833,
    "start_time": "2022-04-01T08:43:22.206Z"
   },
   {
    "duration": 8,
    "start_time": "2022-04-01T08:44:19.570Z"
   },
   {
    "duration": 173,
    "start_time": "2022-04-01T08:44:22.360Z"
   },
   {
    "duration": 8,
    "start_time": "2022-04-01T08:45:02.000Z"
   },
   {
    "duration": 124,
    "start_time": "2022-04-01T08:45:04.015Z"
   },
   {
    "duration": 9,
    "start_time": "2022-04-01T08:45:18.656Z"
   },
   {
    "duration": 546,
    "start_time": "2022-04-01T08:45:21.071Z"
   },
   {
    "duration": 150,
    "start_time": "2022-04-01T08:45:22.785Z"
   },
   {
    "duration": 8,
    "start_time": "2022-04-01T08:46:10.073Z"
   },
   {
    "duration": 101,
    "start_time": "2022-04-01T08:46:12.441Z"
   },
   {
    "duration": 12,
    "start_time": "2022-04-01T08:46:30.001Z"
   },
   {
    "duration": 175,
    "start_time": "2022-04-01T08:46:34.361Z"
   },
   {
    "duration": 9,
    "start_time": "2022-04-01T08:46:55.376Z"
   },
   {
    "duration": 177,
    "start_time": "2022-04-01T08:46:58.161Z"
   },
   {
    "duration": 8,
    "start_time": "2022-04-01T08:48:24.868Z"
   },
   {
    "duration": 138,
    "start_time": "2022-04-01T08:48:28.496Z"
   },
   {
    "duration": 8,
    "start_time": "2022-04-01T08:48:40.066Z"
   },
   {
    "duration": 202,
    "start_time": "2022-04-01T08:48:43.337Z"
   },
   {
    "duration": 11,
    "start_time": "2022-04-01T08:49:08.131Z"
   },
   {
    "duration": 120,
    "start_time": "2022-04-01T08:49:14.417Z"
   },
   {
    "duration": 9,
    "start_time": "2022-04-01T08:49:47.569Z"
   },
   {
    "duration": 204,
    "start_time": "2022-04-01T08:49:49.834Z"
   },
   {
    "duration": 8,
    "start_time": "2022-04-01T08:52:32.382Z"
   },
   {
    "duration": 7,
    "start_time": "2022-04-01T08:54:42.419Z"
   },
   {
    "duration": 107,
    "start_time": "2022-04-01T08:54:44.730Z"
   },
   {
    "duration": 9,
    "start_time": "2022-04-01T08:54:53.097Z"
   },
   {
    "duration": 149,
    "start_time": "2022-04-01T08:54:56.091Z"
   },
   {
    "duration": 8,
    "start_time": "2022-04-01T08:55:09.444Z"
   },
   {
    "duration": 91,
    "start_time": "2022-04-01T08:55:12.346Z"
   },
   {
    "duration": 7,
    "start_time": "2022-04-01T08:55:22.638Z"
   },
   {
    "duration": 123,
    "start_time": "2022-04-01T08:55:25.011Z"
   },
   {
    "duration": 7,
    "start_time": "2022-04-01T08:55:34.698Z"
   },
   {
    "duration": 96,
    "start_time": "2022-04-01T08:55:36.843Z"
   },
   {
    "duration": 8,
    "start_time": "2022-04-01T08:56:04.667Z"
   },
   {
    "duration": 55,
    "start_time": "2022-04-01T08:56:07.386Z"
   },
   {
    "duration": 8,
    "start_time": "2022-04-01T08:56:22.083Z"
   },
   {
    "duration": 159,
    "start_time": "2022-04-01T08:56:23.276Z"
   },
   {
    "duration": 8,
    "start_time": "2022-04-01T08:56:40.931Z"
   },
   {
    "duration": 7,
    "start_time": "2022-04-01T08:56:50.403Z"
   },
   {
    "duration": 79,
    "start_time": "2022-04-01T08:56:52.555Z"
   },
   {
    "duration": 7,
    "start_time": "2022-04-01T08:57:06.490Z"
   },
   {
    "duration": 41,
    "start_time": "2022-04-01T08:57:08.593Z"
   },
   {
    "duration": 8,
    "start_time": "2022-04-01T08:57:32.074Z"
   },
   {
    "duration": 106,
    "start_time": "2022-04-01T08:57:34.529Z"
   },
   {
    "duration": 8,
    "start_time": "2022-04-01T08:57:50.067Z"
   },
   {
    "duration": 84,
    "start_time": "2022-04-01T08:57:52.955Z"
   },
   {
    "duration": 7,
    "start_time": "2022-04-01T08:58:11.442Z"
   },
   {
    "duration": 73,
    "start_time": "2022-04-01T08:58:14.165Z"
   },
   {
    "duration": 19,
    "start_time": "2022-04-01T08:58:29.523Z"
   },
   {
    "duration": 7,
    "start_time": "2022-04-01T08:58:36.573Z"
   },
   {
    "duration": 7,
    "start_time": "2022-04-01T08:58:38.811Z"
   },
   {
    "duration": 7,
    "start_time": "2022-04-01T08:58:40.357Z"
   },
   {
    "duration": 7,
    "start_time": "2022-04-01T08:58:46.828Z"
   },
   {
    "duration": 82,
    "start_time": "2022-04-01T08:58:50.052Z"
   },
   {
    "duration": 8,
    "start_time": "2022-04-01T08:58:59.499Z"
   },
   {
    "duration": 88,
    "start_time": "2022-04-01T08:59:02.646Z"
   },
   {
    "duration": 609,
    "start_time": "2022-04-01T09:30:59.994Z"
   },
   {
    "duration": 109,
    "start_time": "2022-04-01T09:31:01.125Z"
   },
   {
    "duration": 81,
    "start_time": "2022-04-01T09:33:56.753Z"
   },
   {
    "duration": 597,
    "start_time": "2022-04-01T09:36:00.700Z"
   },
   {
    "duration": 1735,
    "start_time": "2022-04-01T09:39:19.250Z"
   },
   {
    "duration": 1127,
    "start_time": "2022-04-01T09:39:50.077Z"
   },
   {
    "duration": 8,
    "start_time": "2022-04-01T10:01:53.870Z"
   },
   {
    "duration": 123,
    "start_time": "2022-04-01T10:01:58.318Z"
   },
   {
    "duration": 7,
    "start_time": "2022-04-01T10:02:13.597Z"
   },
   {
    "duration": 63,
    "start_time": "2022-04-01T10:02:18.776Z"
   },
   {
    "duration": 2283,
    "start_time": "2022-04-01T17:14:39.368Z"
   },
   {
    "duration": 1069,
    "start_time": "2022-04-01T17:14:41.654Z"
   },
   {
    "duration": 636,
    "start_time": "2022-04-01T17:14:42.726Z"
   },
   {
    "duration": 75,
    "start_time": "2022-04-01T17:14:43.365Z"
   },
   {
    "duration": 19,
    "start_time": "2022-04-01T17:14:43.442Z"
   },
   {
    "duration": 46,
    "start_time": "2022-04-01T17:14:43.463Z"
   },
   {
    "duration": 7,
    "start_time": "2022-04-01T17:14:43.511Z"
   },
   {
    "duration": 844,
    "start_time": "2022-04-01T17:14:43.520Z"
   },
   {
    "duration": 3697,
    "start_time": "2022-04-01T17:14:44.367Z"
   },
   {
    "duration": 3542,
    "start_time": "2022-04-01T17:14:48.067Z"
   },
   {
    "duration": 682,
    "start_time": "2022-04-01T17:14:51.611Z"
   },
   {
    "duration": 2149,
    "start_time": "2022-04-01T17:14:52.295Z"
   },
   {
    "duration": 5,
    "start_time": "2022-04-01T17:14:54.446Z"
   },
   {
    "duration": 19,
    "start_time": "2022-04-01T17:14:54.453Z"
   },
   {
    "duration": 18,
    "start_time": "2022-04-01T17:14:54.474Z"
   },
   {
    "duration": 212,
    "start_time": "2022-04-01T17:14:54.495Z"
   },
   {
    "duration": 0,
    "start_time": "2022-04-01T17:14:54.709Z"
   },
   {
    "duration": 0,
    "start_time": "2022-04-01T17:14:54.711Z"
   },
   {
    "duration": 0,
    "start_time": "2022-04-01T17:14:54.713Z"
   },
   {
    "duration": 0,
    "start_time": "2022-04-01T17:14:54.715Z"
   },
   {
    "duration": 0,
    "start_time": "2022-04-01T17:14:54.716Z"
   },
   {
    "duration": 109,
    "start_time": "2022-04-01T17:15:25.764Z"
   },
   {
    "duration": 6,
    "start_time": "2022-04-01T17:15:43.914Z"
   },
   {
    "duration": 1168,
    "start_time": "2022-04-01T17:18:13.284Z"
   },
   {
    "duration": 8,
    "start_time": "2022-04-01T17:18:37.312Z"
   },
   {
    "duration": 1144,
    "start_time": "2022-04-01T17:18:37.857Z"
   },
   {
    "duration": 103,
    "start_time": "2022-04-01T17:26:13.090Z"
   },
   {
    "duration": 9,
    "start_time": "2022-04-01T17:26:40.559Z"
   },
   {
    "duration": 2191,
    "start_time": "2022-04-01T17:26:41.888Z"
   },
   {
    "duration": 1153,
    "start_time": "2022-04-01T17:27:51.352Z"
   },
   {
    "duration": 260,
    "start_time": "2022-04-01T18:07:26.140Z"
   },
   {
    "duration": 17,
    "start_time": "2022-04-01T18:07:56.326Z"
   },
   {
    "duration": 122,
    "start_time": "2022-04-01T18:09:18.502Z"
   },
   {
    "duration": 166,
    "start_time": "2022-04-01T18:09:52.285Z"
   },
   {
    "duration": 15,
    "start_time": "2022-04-01T18:10:00.240Z"
   },
   {
    "duration": 18,
    "start_time": "2022-04-01T18:10:03.950Z"
   },
   {
    "duration": 17,
    "start_time": "2022-04-01T18:10:55.322Z"
   },
   {
    "duration": 542,
    "start_time": "2022-04-01T18:11:01.157Z"
   },
   {
    "duration": 778,
    "start_time": "2022-04-01T18:11:32.249Z"
   },
   {
    "duration": 136,
    "start_time": "2022-04-01T18:21:34.019Z"
   },
   {
    "duration": 11,
    "start_time": "2022-04-01T18:22:13.038Z"
   },
   {
    "duration": 119,
    "start_time": "2022-04-01T18:22:16.680Z"
   },
   {
    "duration": 1184,
    "start_time": "2022-04-01T18:22:35.167Z"
   },
   {
    "duration": 512,
    "start_time": "2022-04-01T18:22:51.383Z"
   },
   {
    "duration": 890,
    "start_time": "2022-04-01T18:23:14.660Z"
   },
   {
    "duration": 464,
    "start_time": "2022-04-01T18:24:01.126Z"
   },
   {
    "duration": 13,
    "start_time": "2022-04-01T18:25:22.498Z"
   },
   {
    "duration": 1142,
    "start_time": "2022-04-01T18:25:23.430Z"
   },
   {
    "duration": 524,
    "start_time": "2022-04-01T18:25:26.163Z"
   },
   {
    "duration": 386,
    "start_time": "2022-04-01T18:25:49.797Z"
   },
   {
    "duration": 511,
    "start_time": "2022-04-01T18:25:51.173Z"
   },
   {
    "duration": 16,
    "start_time": "2022-04-01T18:28:47.417Z"
   },
   {
    "duration": 2874,
    "start_time": "2022-04-01T18:29:06.218Z"
   },
   {
    "duration": 3029,
    "start_time": "2022-04-01T18:29:44.030Z"
   },
   {
    "duration": 739396,
    "start_time": "2022-04-01T18:32:43.545Z"
   },
   {
    "duration": 0,
    "start_time": "2022-04-01T18:45:02.944Z"
   },
   {
    "duration": 2060,
    "start_time": "2022-04-01T18:54:55.375Z"
   },
   {
    "duration": 1077,
    "start_time": "2022-04-01T18:54:57.437Z"
   },
   {
    "duration": 645,
    "start_time": "2022-04-01T18:54:58.516Z"
   },
   {
    "duration": 87,
    "start_time": "2022-04-01T18:54:59.164Z"
   },
   {
    "duration": 31,
    "start_time": "2022-04-01T18:54:59.253Z"
   },
   {
    "duration": 4,
    "start_time": "2022-04-01T18:54:59.286Z"
   },
   {
    "duration": 14,
    "start_time": "2022-04-01T18:54:59.292Z"
   },
   {
    "duration": 851,
    "start_time": "2022-04-01T18:54:59.308Z"
   },
   {
    "duration": 6,
    "start_time": "2022-04-01T18:55:00.161Z"
   },
   {
    "duration": 3581,
    "start_time": "2022-04-01T18:55:00.170Z"
   },
   {
    "duration": 3712,
    "start_time": "2022-04-01T18:55:03.753Z"
   },
   {
    "duration": 619,
    "start_time": "2022-04-01T18:55:07.467Z"
   },
   {
    "duration": 1822,
    "start_time": "2022-04-01T18:55:08.089Z"
   },
   {
    "duration": 10,
    "start_time": "2022-04-01T18:55:09.913Z"
   },
   {
    "duration": 46,
    "start_time": "2022-04-01T18:55:09.925Z"
   },
   {
    "duration": 1168,
    "start_time": "2022-04-01T18:55:09.974Z"
   },
   {
    "duration": 546,
    "start_time": "2022-04-01T18:55:11.144Z"
   },
   {
    "duration": 357,
    "start_time": "2022-04-01T18:55:11.693Z"
   },
   {
    "duration": 0,
    "start_time": "2022-04-01T18:55:12.053Z"
   },
   {
    "duration": 0,
    "start_time": "2022-04-01T18:55:12.055Z"
   },
   {
    "duration": 6,
    "start_time": "2022-04-01T18:58:17.534Z"
   },
   {
    "duration": 28,
    "start_time": "2022-04-01T18:58:44.685Z"
   },
   {
    "duration": 2996,
    "start_time": "2022-04-01T18:58:44.774Z"
   },
   {
    "duration": 6,
    "start_time": "2022-04-01T19:10:03.443Z"
   },
   {
    "duration": 18,
    "start_time": "2022-04-01T19:11:57.225Z"
   },
   {
    "duration": 25,
    "start_time": "2022-04-01T19:12:47.785Z"
   },
   {
    "duration": 13,
    "start_time": "2022-04-01T19:12:49.223Z"
   },
   {
    "duration": 1244,
    "start_time": "2022-04-01T19:12:51.051Z"
   },
   {
    "duration": 1112,
    "start_time": "2022-04-01T19:13:49.473Z"
   },
   {
    "duration": 7121,
    "start_time": "2022-04-01T19:13:56.911Z"
   },
   {
    "duration": 1855,
    "start_time": "2022-04-01T19:14:28.836Z"
   },
   {
    "duration": 1833,
    "start_time": "2022-04-01T19:14:42.457Z"
   },
   {
    "duration": 2062,
    "start_time": "2022-04-01T19:15:14.243Z"
   },
   {
    "duration": 1122,
    "start_time": "2022-04-01T19:15:16.308Z"
   },
   {
    "duration": 791,
    "start_time": "2022-04-01T19:15:17.432Z"
   },
   {
    "duration": 88,
    "start_time": "2022-04-01T19:15:18.226Z"
   },
   {
    "duration": 28,
    "start_time": "2022-04-01T19:15:18.316Z"
   },
   {
    "duration": 4,
    "start_time": "2022-04-01T19:15:18.346Z"
   },
   {
    "duration": 13,
    "start_time": "2022-04-01T19:15:18.352Z"
   },
   {
    "duration": 791,
    "start_time": "2022-04-01T19:15:18.367Z"
   },
   {
    "duration": 7,
    "start_time": "2022-04-01T19:15:19.160Z"
   },
   {
    "duration": 3579,
    "start_time": "2022-04-01T19:15:19.170Z"
   },
   {
    "duration": 3718,
    "start_time": "2022-04-01T19:15:22.751Z"
   },
   {
    "duration": 753,
    "start_time": "2022-04-01T19:15:26.471Z"
   },
   {
    "duration": 2164,
    "start_time": "2022-04-01T19:15:27.227Z"
   },
   {
    "duration": 16,
    "start_time": "2022-04-01T19:15:29.394Z"
   },
   {
    "duration": 26,
    "start_time": "2022-04-01T19:15:29.413Z"
   },
   {
    "duration": 1361,
    "start_time": "2022-04-01T19:15:29.442Z"
   },
   {
    "duration": 857,
    "start_time": "2022-04-01T19:15:30.805Z"
   },
   {
    "duration": 3418,
    "start_time": "2022-04-01T19:15:31.665Z"
   },
   {
    "duration": 259726,
    "start_time": "2022-04-01T19:15:35.085Z"
   },
   {
    "duration": 166,
    "start_time": "2022-04-01T19:29:34.534Z"
   },
   {
    "duration": 6,
    "start_time": "2022-04-01T19:30:18.449Z"
   },
   {
    "duration": 8,
    "start_time": "2022-04-01T19:30:49.938Z"
   },
   {
    "duration": 11,
    "start_time": "2022-04-01T19:43:43.163Z"
   },
   {
    "duration": 1687,
    "start_time": "2022-04-01T19:46:36.065Z"
   },
   {
    "duration": 2042,
    "start_time": "2022-04-01T19:47:05.993Z"
   },
   {
    "duration": 1032,
    "start_time": "2022-04-01T19:47:08.038Z"
   },
   {
    "duration": 612,
    "start_time": "2022-04-01T19:47:11.885Z"
   },
   {
    "duration": 7,
    "start_time": "2022-04-01T19:47:24.175Z"
   },
   {
    "duration": 8,
    "start_time": "2022-04-01T19:58:18.016Z"
   },
   {
    "duration": 6,
    "start_time": "2022-04-01T19:58:31.780Z"
   },
   {
    "duration": 6,
    "start_time": "2022-04-01T19:58:59.437Z"
   },
   {
    "duration": 7,
    "start_time": "2022-04-01T20:00:04.837Z"
   },
   {
    "duration": 7,
    "start_time": "2022-04-01T20:00:20.237Z"
   },
   {
    "duration": 5,
    "start_time": "2022-04-01T20:00:28.212Z"
   },
   {
    "duration": 6,
    "start_time": "2022-04-01T20:02:02.324Z"
   },
   {
    "duration": 162,
    "start_time": "2022-04-01T20:05:19.044Z"
   },
   {
    "duration": 12,
    "start_time": "2022-04-01T20:05:20.703Z"
   },
   {
    "duration": 7,
    "start_time": "2022-04-01T20:05:33.214Z"
   },
   {
    "duration": 3707,
    "start_time": "2022-04-01T20:05:33.854Z"
   },
   {
    "duration": 3684,
    "start_time": "2022-04-01T20:05:37.563Z"
   },
   {
    "duration": 6,
    "start_time": "2022-04-01T20:17:39.829Z"
   },
   {
    "duration": 4041,
    "start_time": "2022-04-01T20:17:40.721Z"
   },
   {
    "duration": 3694,
    "start_time": "2022-04-01T20:18:02.465Z"
   },
   {
    "duration": 919,
    "start_time": "2022-04-01T20:19:01.917Z"
   },
   {
    "duration": 656,
    "start_time": "2022-04-01T20:21:35.544Z"
   },
   {
    "duration": 737,
    "start_time": "2022-04-01T20:21:51.179Z"
   },
   {
    "duration": 631,
    "start_time": "2022-04-01T20:22:50.583Z"
   },
   {
    "duration": 597,
    "start_time": "2022-04-01T20:23:07.197Z"
   },
   {
    "duration": 662,
    "start_time": "2022-04-01T20:24:10.244Z"
   },
   {
    "duration": 666,
    "start_time": "2022-04-01T20:25:26.537Z"
   },
   {
    "duration": 1180,
    "start_time": "2022-04-01T20:26:43.725Z"
   },
   {
    "duration": 1130,
    "start_time": "2022-04-01T20:27:44.067Z"
   },
   {
    "duration": 941,
    "start_time": "2022-04-01T20:28:20.764Z"
   },
   {
    "duration": 1097,
    "start_time": "2022-04-01T20:29:18.776Z"
   },
   {
    "duration": 21,
    "start_time": "2022-04-01T20:33:14.664Z"
   },
   {
    "duration": 1948,
    "start_time": "2022-04-01T20:33:33.629Z"
   },
   {
    "duration": 5588,
    "start_time": "2022-04-01T20:35:21.187Z"
   },
   {
    "duration": 1856,
    "start_time": "2022-04-01T20:35:53.317Z"
   },
   {
    "duration": 2485,
    "start_time": "2022-04-01T20:37:03.002Z"
   },
   {
    "duration": 1530,
    "start_time": "2022-04-01T20:37:50.309Z"
   },
   {
    "duration": 12,
    "start_time": "2022-04-01T21:00:40.420Z"
   },
   {
    "duration": 13,
    "start_time": "2022-04-01T21:00:43.328Z"
   },
   {
    "duration": 13,
    "start_time": "2022-04-01T21:01:25.902Z"
   },
   {
    "duration": 12,
    "start_time": "2022-04-01T21:01:38.230Z"
   },
   {
    "duration": 13,
    "start_time": "2022-04-01T21:02:10.426Z"
   },
   {
    "duration": 12,
    "start_time": "2022-04-01T21:02:13.069Z"
   },
   {
    "duration": 13,
    "start_time": "2022-04-01T21:02:32.516Z"
   },
   {
    "duration": 19,
    "start_time": "2022-04-01T21:02:33.334Z"
   },
   {
    "duration": 25,
    "start_time": "2022-04-01T21:02:33.922Z"
   },
   {
    "duration": 1812,
    "start_time": "2022-04-01T21:03:08.785Z"
   },
   {
    "duration": 2040,
    "start_time": "2022-04-01T21:03:15.176Z"
   },
   {
    "duration": 1069,
    "start_time": "2022-04-01T21:03:17.219Z"
   },
   {
    "duration": 633,
    "start_time": "2022-04-01T21:03:18.290Z"
   },
   {
    "duration": 8,
    "start_time": "2022-04-01T21:03:18.926Z"
   },
   {
    "duration": 190,
    "start_time": "2022-04-01T21:03:18.936Z"
   },
   {
    "duration": 0,
    "start_time": "2022-04-01T21:03:19.129Z"
   },
   {
    "duration": 0,
    "start_time": "2022-04-01T21:03:19.131Z"
   },
   {
    "duration": 0,
    "start_time": "2022-04-01T21:03:19.134Z"
   },
   {
    "duration": 0,
    "start_time": "2022-04-01T21:03:19.137Z"
   },
   {
    "duration": 0,
    "start_time": "2022-04-01T21:03:19.138Z"
   },
   {
    "duration": 0,
    "start_time": "2022-04-01T21:03:19.140Z"
   },
   {
    "duration": 0,
    "start_time": "2022-04-01T21:03:19.141Z"
   },
   {
    "duration": 0,
    "start_time": "2022-04-01T21:03:19.142Z"
   },
   {
    "duration": 0,
    "start_time": "2022-04-01T21:03:19.144Z"
   },
   {
    "duration": 0,
    "start_time": "2022-04-01T21:03:19.145Z"
   },
   {
    "duration": 0,
    "start_time": "2022-04-01T21:03:19.146Z"
   },
   {
    "duration": 0,
    "start_time": "2022-04-01T21:03:19.147Z"
   },
   {
    "duration": 0,
    "start_time": "2022-04-01T21:03:19.150Z"
   },
   {
    "duration": 0,
    "start_time": "2022-04-01T21:03:19.152Z"
   },
   {
    "duration": 0,
    "start_time": "2022-04-01T21:03:19.154Z"
   },
   {
    "duration": 0,
    "start_time": "2022-04-01T21:03:19.155Z"
   },
   {
    "duration": 1,
    "start_time": "2022-04-01T21:03:19.156Z"
   },
   {
    "duration": 0,
    "start_time": "2022-04-01T21:03:19.158Z"
   },
   {
    "duration": 79,
    "start_time": "2022-04-01T21:04:06.234Z"
   },
   {
    "duration": 12,
    "start_time": "2022-04-01T21:04:08.359Z"
   },
   {
    "duration": 12,
    "start_time": "2022-04-01T21:05:08.606Z"
   },
   {
    "duration": 12,
    "start_time": "2022-04-01T21:05:46.445Z"
   },
   {
    "duration": 2005,
    "start_time": "2022-04-01T21:06:23.820Z"
   },
   {
    "duration": 1161,
    "start_time": "2022-04-01T21:06:25.827Z"
   },
   {
    "duration": 618,
    "start_time": "2022-04-01T21:06:26.991Z"
   },
   {
    "duration": 7,
    "start_time": "2022-04-01T21:06:27.612Z"
   },
   {
    "duration": 95,
    "start_time": "2022-04-01T21:06:27.620Z"
   },
   {
    "duration": 35,
    "start_time": "2022-04-01T21:06:27.717Z"
   },
   {
    "duration": 36,
    "start_time": "2022-04-01T21:06:27.755Z"
   },
   {
    "duration": 6,
    "start_time": "2022-04-01T21:06:27.793Z"
   },
   {
    "duration": 12,
    "start_time": "2022-04-01T21:06:27.801Z"
   },
   {
    "duration": 839,
    "start_time": "2022-04-01T21:06:27.817Z"
   },
   {
    "duration": 6,
    "start_time": "2022-04-01T21:06:28.658Z"
   },
   {
    "duration": 21,
    "start_time": "2022-04-01T21:06:28.666Z"
   },
   {
    "duration": 3573,
    "start_time": "2022-04-01T21:06:28.689Z"
   },
   {
    "duration": 3688,
    "start_time": "2022-04-01T21:06:32.265Z"
   },
   {
    "duration": 1119,
    "start_time": "2022-04-01T21:06:35.955Z"
   },
   {
    "duration": 1585,
    "start_time": "2022-04-01T21:06:37.084Z"
   },
   {
    "duration": 19,
    "start_time": "2022-04-01T21:06:38.671Z"
   },
   {
    "duration": 13,
    "start_time": "2022-04-01T21:06:38.692Z"
   },
   {
    "duration": 1197,
    "start_time": "2022-04-01T21:06:38.708Z"
   },
   {
    "duration": 1080,
    "start_time": "2022-04-01T21:06:39.907Z"
   },
   {
    "duration": 0,
    "start_time": "2022-04-01T21:06:40.990Z"
   },
   {
    "duration": 0,
    "start_time": "2022-04-01T21:06:40.992Z"
   },
   {
    "duration": 113,
    "start_time": "2022-04-01T21:12:09.365Z"
   },
   {
    "duration": 0,
    "start_time": "2022-04-01T21:12:09.480Z"
   },
   {
    "duration": 699,
    "start_time": "2022-04-01T21:12:10.393Z"
   },
   {
    "duration": 117,
    "start_time": "2022-04-01T21:13:02.722Z"
   },
   {
    "duration": 112,
    "start_time": "2022-04-01T21:13:10.921Z"
   },
   {
    "duration": 208,
    "start_time": "2022-04-01T21:13:20.307Z"
   },
   {
    "duration": 12,
    "start_time": "2022-04-01T21:14:21.420Z"
   },
   {
    "duration": 1178,
    "start_time": "2022-04-01T21:14:23.233Z"
   },
   {
    "duration": 694,
    "start_time": "2022-04-01T21:14:25.697Z"
   },
   {
    "duration": 13,
    "start_time": "2022-04-01T21:15:44.997Z"
   },
   {
    "duration": 1157,
    "start_time": "2022-04-01T21:15:46.493Z"
   },
   {
    "duration": 684,
    "start_time": "2022-04-01T21:15:49.007Z"
   },
   {
    "duration": 21,
    "start_time": "2022-04-01T21:18:00.495Z"
   },
   {
    "duration": 20,
    "start_time": "2022-04-01T21:18:14.133Z"
   },
   {
    "duration": 20,
    "start_time": "2022-04-01T21:18:30.851Z"
   },
   {
    "duration": 1940,
    "start_time": "2022-04-01T21:18:42.096Z"
   },
   {
    "duration": 1068,
    "start_time": "2022-04-01T21:18:44.039Z"
   },
   {
    "duration": 635,
    "start_time": "2022-04-01T21:18:45.109Z"
   },
   {
    "duration": 7,
    "start_time": "2022-04-01T21:18:45.748Z"
   },
   {
    "duration": 98,
    "start_time": "2022-04-01T21:18:45.758Z"
   },
   {
    "duration": 39,
    "start_time": "2022-04-01T21:18:45.858Z"
   },
   {
    "duration": 20,
    "start_time": "2022-04-01T21:18:45.899Z"
   },
   {
    "duration": 6,
    "start_time": "2022-04-01T21:18:45.921Z"
   },
   {
    "duration": 12,
    "start_time": "2022-04-01T21:18:45.929Z"
   },
   {
    "duration": 808,
    "start_time": "2022-04-01T21:18:45.945Z"
   },
   {
    "duration": 6,
    "start_time": "2022-04-01T21:18:46.755Z"
   },
   {
    "duration": 21,
    "start_time": "2022-04-01T21:18:46.763Z"
   },
   {
    "duration": 3561,
    "start_time": "2022-04-01T21:18:46.786Z"
   },
   {
    "duration": 3702,
    "start_time": "2022-04-01T21:18:50.349Z"
   },
   {
    "duration": 1006,
    "start_time": "2022-04-01T21:18:54.053Z"
   },
   {
    "duration": 1547,
    "start_time": "2022-04-01T21:18:55.061Z"
   },
   {
    "duration": 188,
    "start_time": "2022-04-01T21:18:56.611Z"
   },
   {
    "duration": 0,
    "start_time": "2022-04-01T21:18:56.802Z"
   },
   {
    "duration": 0,
    "start_time": "2022-04-01T21:18:56.803Z"
   },
   {
    "duration": 0,
    "start_time": "2022-04-01T21:18:56.805Z"
   },
   {
    "duration": 0,
    "start_time": "2022-04-01T21:18:56.806Z"
   },
   {
    "duration": 0,
    "start_time": "2022-04-01T21:18:56.807Z"
   },
   {
    "duration": 12,
    "start_time": "2022-04-01T21:19:31.849Z"
   },
   {
    "duration": 12,
    "start_time": "2022-04-01T21:19:48.095Z"
   },
   {
    "duration": 11,
    "start_time": "2022-04-01T21:20:12.861Z"
   },
   {
    "duration": 11,
    "start_time": "2022-04-01T21:20:19.889Z"
   },
   {
    "duration": 13,
    "start_time": "2022-04-01T21:20:21.267Z"
   },
   {
    "duration": 1159,
    "start_time": "2022-04-01T21:20:22.072Z"
   },
   {
    "duration": 662,
    "start_time": "2022-04-01T21:20:23.233Z"
   },
   {
    "duration": 13,
    "start_time": "2022-04-01T21:21:09.853Z"
   },
   {
    "duration": 1119,
    "start_time": "2022-04-01T21:21:11.297Z"
   },
   {
    "duration": 769,
    "start_time": "2022-04-01T21:21:13.017Z"
   },
   {
    "duration": 2991,
    "start_time": "2022-04-01T21:21:22.437Z"
   },
   {
    "duration": 246155,
    "start_time": "2022-04-01T21:21:29.068Z"
   },
   {
    "duration": 2161,
    "start_time": "2022-04-02T20:17:27.704Z"
   },
   {
    "duration": 989,
    "start_time": "2022-04-02T20:17:29.867Z"
   },
   {
    "duration": 603,
    "start_time": "2022-04-02T20:17:30.859Z"
   },
   {
    "duration": 18,
    "start_time": "2022-04-02T20:17:31.465Z"
   },
   {
    "duration": 97,
    "start_time": "2022-04-02T20:17:31.486Z"
   },
   {
    "duration": 38,
    "start_time": "2022-04-02T20:17:31.586Z"
   },
   {
    "duration": 19,
    "start_time": "2022-04-02T20:17:31.627Z"
   },
   {
    "duration": 6,
    "start_time": "2022-04-02T20:17:31.649Z"
   },
   {
    "duration": 31,
    "start_time": "2022-04-02T20:17:31.657Z"
   },
   {
    "duration": 951,
    "start_time": "2022-04-02T20:17:31.694Z"
   },
   {
    "duration": 7,
    "start_time": "2022-04-02T20:17:32.647Z"
   },
   {
    "duration": 26,
    "start_time": "2022-04-02T20:17:32.656Z"
   },
   {
    "duration": 3565,
    "start_time": "2022-04-02T20:17:32.685Z"
   },
   {
    "duration": 3670,
    "start_time": "2022-04-02T20:17:36.252Z"
   },
   {
    "duration": 1000,
    "start_time": "2022-04-02T20:17:39.924Z"
   },
   {
    "duration": 1446,
    "start_time": "2022-04-02T20:17:40.927Z"
   },
   {
    "duration": 10,
    "start_time": "2022-04-02T20:17:42.383Z"
   },
   {
    "duration": 16,
    "start_time": "2022-04-02T20:17:42.395Z"
   },
   {
    "duration": 1086,
    "start_time": "2022-04-02T20:17:42.413Z"
   },
   {
    "duration": 790,
    "start_time": "2022-04-02T20:17:43.501Z"
   },
   {
    "duration": 168,
    "start_time": "2022-04-02T20:17:44.383Z"
   },
   {
    "duration": 0,
    "start_time": "2022-04-02T20:17:44.553Z"
   },
   {
    "duration": 2820,
    "start_time": "2022-04-02T20:18:37.332Z"
   },
   {
    "duration": 257058,
    "start_time": "2022-04-02T20:18:52.924Z"
   },
   {
    "duration": 1081,
    "start_time": "2022-04-02T20:24:19.597Z"
   },
   {
    "duration": 728,
    "start_time": "2022-04-02T20:24:22.756Z"
   },
   {
    "duration": 2775,
    "start_time": "2022-04-02T20:24:43.387Z"
   }
  ],
  "kernelspec": {
   "display_name": "Python 3 (ipykernel)",
   "language": "python",
   "name": "python3"
  },
  "language_info": {
   "codemirror_mode": {
    "name": "ipython",
    "version": 3
   },
   "file_extension": ".py",
   "mimetype": "text/x-python",
   "name": "python",
   "nbconvert_exporter": "python",
   "pygments_lexer": "ipython3",
   "version": "3.9.5"
  },
  "toc": {
   "base_numbering": 1,
   "nav_menu": {},
   "number_sections": true,
   "sideBar": true,
   "skip_h1_title": true,
   "title_cell": "Содержание",
   "title_sidebar": "Contents",
   "toc_cell": true,
   "toc_position": {},
   "toc_section_display": true,
   "toc_window_display": false
  }
 },
 "nbformat": 4,
 "nbformat_minor": 2
}
