{
 "cells": [
  {
   "cell_type": "markdown",
   "metadata": {
    "toc": true
   },
   "source": [
    "<h1>Содержание<span class=\"tocSkip\"></span></h1>\n",
    "<div class=\"toc\"><ul class=\"toc-item\"><li><span><a href=\"#Подготовка-данных\" data-toc-modified-id=\"Подготовка-данных-1\"><span class=\"toc-item-num\">1&nbsp;&nbsp;</span>Подготовка данных</a></span><ul class=\"toc-item\"><li><span><a href=\"#-Комментарий-ревьюера-v1\" data-toc-modified-id=\"-Комментарий-ревьюера-v1-1.1\"><span class=\"toc-item-num\">1.1&nbsp;&nbsp;</span> Комментарий ревьюера v1</a></span></li><li><span><a href=\"#Вывод:\" data-toc-modified-id=\"Вывод:-1.2\"><span class=\"toc-item-num\">1.2&nbsp;&nbsp;</span>Вывод:</a></span></li></ul></li><li><span><a href=\"#Исследование-задачи\" data-toc-modified-id=\"Исследование-задачи-2\"><span class=\"toc-item-num\">2&nbsp;&nbsp;</span>Исследование задачи</a></span><ul class=\"toc-item\"><li><span><a href=\"#-Комментарий-ревьюера-v1\" data-toc-modified-id=\"-Комментарий-ревьюера-v1-2.1\"><span class=\"toc-item-num\">2.1&nbsp;&nbsp;</span> Комментарий ревьюера v1</a></span></li><li><span><a href=\"#-Комментарий-ревьюера-v1\" data-toc-modified-id=\"-Комментарий-ревьюера-v1-2.2\"><span class=\"toc-item-num\">2.2&nbsp;&nbsp;</span> Комментарий ревьюера v1</a></span></li><li><span><a href=\"#-Комментарий-ревьюера-v1\" data-toc-modified-id=\"-Комментарий-ревьюера-v1-2.3\"><span class=\"toc-item-num\">2.3&nbsp;&nbsp;</span> Комментарий ревьюера v1</a></span></li><li><span><a href=\"#Вывод:\" data-toc-modified-id=\"Вывод:-2.4\"><span class=\"toc-item-num\">2.4&nbsp;&nbsp;</span>Вывод:</a></span></li></ul></li><li><span><a href=\"#Борьба-с-дисбалансом\" data-toc-modified-id=\"Борьба-с-дисбалансом-3\"><span class=\"toc-item-num\">3&nbsp;&nbsp;</span>Борьба с дисбалансом</a></span><ul class=\"toc-item\"><li><span><a href=\"#-Комментарий-ревьюера-v1\" data-toc-modified-id=\"-Комментарий-ревьюера-v1-3.1\"><span class=\"toc-item-num\">3.1&nbsp;&nbsp;</span> Комментарий ревьюера v1</a></span></li><li><span><a href=\"#-Комментарий-ревьюера-v1\" data-toc-modified-id=\"-Комментарий-ревьюера-v1-3.2\"><span class=\"toc-item-num\">3.2&nbsp;&nbsp;</span> Комментарий ревьюера v1</a></span></li><li><span><a href=\"#Вывод:\" data-toc-modified-id=\"Вывод:-3.3\"><span class=\"toc-item-num\">3.3&nbsp;&nbsp;</span>Вывод:</a></span></li></ul></li><li><span><a href=\"#Тестирование-модели\" data-toc-modified-id=\"Тестирование-модели-4\"><span class=\"toc-item-num\">4&nbsp;&nbsp;</span>Тестирование модели</a></span><ul class=\"toc-item\"><li><span><a href=\"#Вывод:\" data-toc-modified-id=\"Вывод:-4.1\"><span class=\"toc-item-num\">4.1&nbsp;&nbsp;</span>Вывод:</a></span></li></ul></li><li><span><a href=\"#Вывод:\" data-toc-modified-id=\"Вывод:-5\"><span class=\"toc-item-num\">5&nbsp;&nbsp;</span>Вывод:</a></span><ul class=\"toc-item\"><li><span><a href=\"#-Комментарий-ревьюера-v1\" data-toc-modified-id=\"-Комментарий-ревьюера-v1-5.1\"><span class=\"toc-item-num\">5.1&nbsp;&nbsp;</span> Комментарий ревьюера v1</a></span></li></ul></li><li><span><a href=\"#Чек-лист-готовности-проекта\" data-toc-modified-id=\"Чек-лист-готовности-проекта-6\"><span class=\"toc-item-num\">6&nbsp;&nbsp;</span>Чек-лист готовности проекта</a></span></li><li><span><a href=\"#-Итоговый-комментарий-v1\" data-toc-modified-id=\"-Итоговый-комментарий-v1-7\"><span class=\"toc-item-num\">7&nbsp;&nbsp;</span> Итоговый комментарий v1</a></span></li></ul></div>"
   ]
  },
  {
   "cell_type": "markdown",
   "metadata": {},
   "source": [
    "# Отток клиентов"
   ]
  },
  {
   "cell_type": "markdown",
   "metadata": {},
   "source": [
    "Из «Бета-Банка» стали уходить клиенты. Каждый месяц. Немного, но заметно. Банковские маркетологи посчитали: сохранять текущих клиентов дешевле, чем привлекать новых.\n",
    "\n",
    "Нужно спрогнозировать, уйдёт клиент из банка в ближайшее время или нет. Вам предоставлены исторические данные о поведении клиентов и расторжении договоров с банком. \n",
    "\n",
    "Постройте модель с предельно большим значением *F1*-меры. Чтобы сдать проект успешно, нужно довести метрику до 0.59. Проверьте *F1*-меру на тестовой выборке самостоятельно.\n",
    "\n",
    "Дополнительно измеряйте *AUC-ROC*, сравнивайте её значение с *F1*-мерой.\n",
    "\n",
    "Источник данных: [https://www.kaggle.com/barelydedicated/bank-customer-churn-modeling](https://www.kaggle.com/barelydedicated/bank-customer-churn-modeling)"
   ]
  },
  {
   "cell_type": "markdown",
   "metadata": {},
   "source": [
    "# Описание данных\n",
    "\n",
    "**Признаки**\n",
    "- RowNumber — индекс строки в данных\n",
    "- CustomerId — уникальный идентификатор клиента\n",
    "- Surname — фамилия\n",
    "- CreditScore — кредитный рейтинг\n",
    "- Geography — страна проживания\n",
    "- Gender — пол\n",
    "- Age — возраст\n",
    "- Tenure — сколько лет человек является клиентом банка\n",
    "- Balance — баланс на счёте\n",
    "- NumOfProducts — количество продуктов банка, используемых клиентом\n",
    "- HasCrCard — наличие кредитной карты\n",
    "- IsActiveMember — активность клиента\n",
    "- EstimatedSalary — предполагаемая зарплата\n",
    "\n",
    "**Целевой признак**\n",
    "- Exited — факт ухода клиента"
   ]
  },
  {
   "cell_type": "markdown",
   "metadata": {},
   "source": [
    "## Подготовка данных"
   ]
  },
  {
   "cell_type": "code",
   "execution_count": 6,
   "metadata": {},
   "outputs": [],
   "source": [
    "import pandas as pd\n",
    "import seaborn as sns\n",
    "import matplotlib.pyplot as plt\n",
    "\n",
    "from sklearn.model_selection import train_test_split, GridSearchCV\n",
    "\n",
    "from sklearn.preprocessing import OrdinalEncoder, StandardScaler\n",
    "\n",
    "\n",
    "from sklearn.metrics import f1_score, roc_auc_score, accuracy_score, mean_absolute_error, roc_curve\n",
    "from sklearn.utils import shuffle\n",
    "\n",
    "from sklearn.tree import DecisionTreeClassifier\n",
    "from sklearn.linear_model import LogisticRegression\n",
    "from sklearn.ensemble import RandomForestClassifier"
   ]
  },
  {
   "cell_type": "code",
   "execution_count": 16,
   "metadata": {
    "scrolled": false
   },
   "outputs": [
    {
     "name": "stdout",
     "output_type": "stream",
     "text": [
      "<class 'pandas.core.frame.DataFrame'>\n",
      "RangeIndex: 10000 entries, 0 to 9999\n",
      "Data columns (total 14 columns):\n",
      " #   Column           Non-Null Count  Dtype  \n",
      "---  ------           --------------  -----  \n",
      " 0   RowNumber        10000 non-null  int64  \n",
      " 1   CustomerId       10000 non-null  int64  \n",
      " 2   Surname          10000 non-null  object \n",
      " 3   CreditScore      10000 non-null  int64  \n",
      " 4   Geography        10000 non-null  object \n",
      " 5   Gender           10000 non-null  object \n",
      " 6   Age              10000 non-null  int64  \n",
      " 7   Tenure           9091 non-null   float64\n",
      " 8   Balance          10000 non-null  float64\n",
      " 9   NumOfProducts    10000 non-null  int64  \n",
      " 10  HasCrCard        10000 non-null  int64  \n",
      " 11  IsActiveMember   10000 non-null  int64  \n",
      " 12  EstimatedSalary  10000 non-null  float64\n",
      " 13  Exited           10000 non-null  int64  \n",
      "dtypes: float64(3), int64(8), object(3)\n",
      "memory usage: 1.1+ MB\n"
     ]
    },
    {
     "data": {
      "text/plain": [
       "None"
      ]
     },
     "metadata": {},
     "output_type": "display_data"
    },
    {
     "data": {
      "text/html": [
       "<div>\n",
       "<style scoped>\n",
       "    .dataframe tbody tr th:only-of-type {\n",
       "        vertical-align: middle;\n",
       "    }\n",
       "\n",
       "    .dataframe tbody tr th {\n",
       "        vertical-align: top;\n",
       "    }\n",
       "\n",
       "    .dataframe thead th {\n",
       "        text-align: right;\n",
       "    }\n",
       "</style>\n",
       "<table border=\"1\" class=\"dataframe\">\n",
       "  <thead>\n",
       "    <tr style=\"text-align: right;\">\n",
       "      <th></th>\n",
       "      <th>RowNumber</th>\n",
       "      <th>CustomerId</th>\n",
       "      <th>Surname</th>\n",
       "      <th>CreditScore</th>\n",
       "      <th>Geography</th>\n",
       "      <th>Gender</th>\n",
       "      <th>Age</th>\n",
       "      <th>Tenure</th>\n",
       "      <th>Balance</th>\n",
       "      <th>NumOfProducts</th>\n",
       "      <th>HasCrCard</th>\n",
       "      <th>IsActiveMember</th>\n",
       "      <th>EstimatedSalary</th>\n",
       "      <th>Exited</th>\n",
       "    </tr>\n",
       "  </thead>\n",
       "  <tbody>\n",
       "    <tr>\n",
       "      <th>0</th>\n",
       "      <td>1</td>\n",
       "      <td>15634602</td>\n",
       "      <td>Hargrave</td>\n",
       "      <td>619</td>\n",
       "      <td>France</td>\n",
       "      <td>Female</td>\n",
       "      <td>42</td>\n",
       "      <td>2.0</td>\n",
       "      <td>0.00</td>\n",
       "      <td>1</td>\n",
       "      <td>1</td>\n",
       "      <td>1</td>\n",
       "      <td>101348.88</td>\n",
       "      <td>1</td>\n",
       "    </tr>\n",
       "    <tr>\n",
       "      <th>1</th>\n",
       "      <td>2</td>\n",
       "      <td>15647311</td>\n",
       "      <td>Hill</td>\n",
       "      <td>608</td>\n",
       "      <td>Spain</td>\n",
       "      <td>Female</td>\n",
       "      <td>41</td>\n",
       "      <td>1.0</td>\n",
       "      <td>83807.86</td>\n",
       "      <td>1</td>\n",
       "      <td>0</td>\n",
       "      <td>1</td>\n",
       "      <td>112542.58</td>\n",
       "      <td>0</td>\n",
       "    </tr>\n",
       "    <tr>\n",
       "      <th>2</th>\n",
       "      <td>3</td>\n",
       "      <td>15619304</td>\n",
       "      <td>Onio</td>\n",
       "      <td>502</td>\n",
       "      <td>France</td>\n",
       "      <td>Female</td>\n",
       "      <td>42</td>\n",
       "      <td>8.0</td>\n",
       "      <td>159660.80</td>\n",
       "      <td>3</td>\n",
       "      <td>1</td>\n",
       "      <td>0</td>\n",
       "      <td>113931.57</td>\n",
       "      <td>1</td>\n",
       "    </tr>\n",
       "    <tr>\n",
       "      <th>3</th>\n",
       "      <td>4</td>\n",
       "      <td>15701354</td>\n",
       "      <td>Boni</td>\n",
       "      <td>699</td>\n",
       "      <td>France</td>\n",
       "      <td>Female</td>\n",
       "      <td>39</td>\n",
       "      <td>1.0</td>\n",
       "      <td>0.00</td>\n",
       "      <td>2</td>\n",
       "      <td>0</td>\n",
       "      <td>0</td>\n",
       "      <td>93826.63</td>\n",
       "      <td>0</td>\n",
       "    </tr>\n",
       "    <tr>\n",
       "      <th>4</th>\n",
       "      <td>5</td>\n",
       "      <td>15737888</td>\n",
       "      <td>Mitchell</td>\n",
       "      <td>850</td>\n",
       "      <td>Spain</td>\n",
       "      <td>Female</td>\n",
       "      <td>43</td>\n",
       "      <td>2.0</td>\n",
       "      <td>125510.82</td>\n",
       "      <td>1</td>\n",
       "      <td>1</td>\n",
       "      <td>1</td>\n",
       "      <td>79084.10</td>\n",
       "      <td>0</td>\n",
       "    </tr>\n",
       "    <tr>\n",
       "      <th>5</th>\n",
       "      <td>6</td>\n",
       "      <td>15574012</td>\n",
       "      <td>Chu</td>\n",
       "      <td>645</td>\n",
       "      <td>Spain</td>\n",
       "      <td>Male</td>\n",
       "      <td>44</td>\n",
       "      <td>8.0</td>\n",
       "      <td>113755.78</td>\n",
       "      <td>2</td>\n",
       "      <td>1</td>\n",
       "      <td>0</td>\n",
       "      <td>149756.71</td>\n",
       "      <td>1</td>\n",
       "    </tr>\n",
       "    <tr>\n",
       "      <th>6</th>\n",
       "      <td>7</td>\n",
       "      <td>15592531</td>\n",
       "      <td>Bartlett</td>\n",
       "      <td>822</td>\n",
       "      <td>France</td>\n",
       "      <td>Male</td>\n",
       "      <td>50</td>\n",
       "      <td>7.0</td>\n",
       "      <td>0.00</td>\n",
       "      <td>2</td>\n",
       "      <td>1</td>\n",
       "      <td>1</td>\n",
       "      <td>10062.80</td>\n",
       "      <td>0</td>\n",
       "    </tr>\n",
       "    <tr>\n",
       "      <th>7</th>\n",
       "      <td>8</td>\n",
       "      <td>15656148</td>\n",
       "      <td>Obinna</td>\n",
       "      <td>376</td>\n",
       "      <td>Germany</td>\n",
       "      <td>Female</td>\n",
       "      <td>29</td>\n",
       "      <td>4.0</td>\n",
       "      <td>115046.74</td>\n",
       "      <td>4</td>\n",
       "      <td>1</td>\n",
       "      <td>0</td>\n",
       "      <td>119346.88</td>\n",
       "      <td>1</td>\n",
       "    </tr>\n",
       "    <tr>\n",
       "      <th>8</th>\n",
       "      <td>9</td>\n",
       "      <td>15792365</td>\n",
       "      <td>He</td>\n",
       "      <td>501</td>\n",
       "      <td>France</td>\n",
       "      <td>Male</td>\n",
       "      <td>44</td>\n",
       "      <td>4.0</td>\n",
       "      <td>142051.07</td>\n",
       "      <td>2</td>\n",
       "      <td>0</td>\n",
       "      <td>1</td>\n",
       "      <td>74940.50</td>\n",
       "      <td>0</td>\n",
       "    </tr>\n",
       "    <tr>\n",
       "      <th>9</th>\n",
       "      <td>10</td>\n",
       "      <td>15592389</td>\n",
       "      <td>H?</td>\n",
       "      <td>684</td>\n",
       "      <td>France</td>\n",
       "      <td>Male</td>\n",
       "      <td>27</td>\n",
       "      <td>2.0</td>\n",
       "      <td>134603.88</td>\n",
       "      <td>1</td>\n",
       "      <td>1</td>\n",
       "      <td>1</td>\n",
       "      <td>71725.73</td>\n",
       "      <td>0</td>\n",
       "    </tr>\n",
       "  </tbody>\n",
       "</table>\n",
       "</div>"
      ],
      "text/plain": [
       "   RowNumber  CustomerId   Surname  CreditScore Geography  Gender  Age  \\\n",
       "0          1    15634602  Hargrave          619    France  Female   42   \n",
       "1          2    15647311      Hill          608     Spain  Female   41   \n",
       "2          3    15619304      Onio          502    France  Female   42   \n",
       "3          4    15701354      Boni          699    France  Female   39   \n",
       "4          5    15737888  Mitchell          850     Spain  Female   43   \n",
       "5          6    15574012       Chu          645     Spain    Male   44   \n",
       "6          7    15592531  Bartlett          822    France    Male   50   \n",
       "7          8    15656148    Obinna          376   Germany  Female   29   \n",
       "8          9    15792365        He          501    France    Male   44   \n",
       "9         10    15592389        H?          684    France    Male   27   \n",
       "\n",
       "   Tenure    Balance  NumOfProducts  HasCrCard  IsActiveMember  \\\n",
       "0     2.0       0.00              1          1               1   \n",
       "1     1.0   83807.86              1          0               1   \n",
       "2     8.0  159660.80              3          1               0   \n",
       "3     1.0       0.00              2          0               0   \n",
       "4     2.0  125510.82              1          1               1   \n",
       "5     8.0  113755.78              2          1               0   \n",
       "6     7.0       0.00              2          1               1   \n",
       "7     4.0  115046.74              4          1               0   \n",
       "8     4.0  142051.07              2          0               1   \n",
       "9     2.0  134603.88              1          1               1   \n",
       "\n",
       "   EstimatedSalary  Exited  \n",
       "0        101348.88       1  \n",
       "1        112542.58       0  \n",
       "2        113931.57       1  \n",
       "3         93826.63       0  \n",
       "4         79084.10       0  \n",
       "5        149756.71       1  \n",
       "6         10062.80       0  \n",
       "7        119346.88       1  \n",
       "8         74940.50       0  \n",
       "9         71725.73       0  "
      ]
     },
     "metadata": {},
     "output_type": "display_data"
    },
    {
     "data": {
      "text/html": [
       "<div>\n",
       "<style scoped>\n",
       "    .dataframe tbody tr th:only-of-type {\n",
       "        vertical-align: middle;\n",
       "    }\n",
       "\n",
       "    .dataframe tbody tr th {\n",
       "        vertical-align: top;\n",
       "    }\n",
       "\n",
       "    .dataframe thead th {\n",
       "        text-align: right;\n",
       "    }\n",
       "</style>\n",
       "<table border=\"1\" class=\"dataframe\">\n",
       "  <thead>\n",
       "    <tr style=\"text-align: right;\">\n",
       "      <th></th>\n",
       "      <th>RowNumber</th>\n",
       "      <th>CustomerId</th>\n",
       "      <th>Surname</th>\n",
       "      <th>CreditScore</th>\n",
       "      <th>Geography</th>\n",
       "      <th>Gender</th>\n",
       "      <th>Age</th>\n",
       "      <th>Tenure</th>\n",
       "      <th>Balance</th>\n",
       "      <th>NumOfProducts</th>\n",
       "      <th>HasCrCard</th>\n",
       "      <th>IsActiveMember</th>\n",
       "      <th>EstimatedSalary</th>\n",
       "      <th>Exited</th>\n",
       "    </tr>\n",
       "  </thead>\n",
       "  <tbody>\n",
       "    <tr>\n",
       "      <th>9990</th>\n",
       "      <td>9991</td>\n",
       "      <td>15798964</td>\n",
       "      <td>Nkemakonam</td>\n",
       "      <td>714</td>\n",
       "      <td>Germany</td>\n",
       "      <td>Male</td>\n",
       "      <td>33</td>\n",
       "      <td>3.0</td>\n",
       "      <td>35016.60</td>\n",
       "      <td>1</td>\n",
       "      <td>1</td>\n",
       "      <td>0</td>\n",
       "      <td>53667.08</td>\n",
       "      <td>0</td>\n",
       "    </tr>\n",
       "    <tr>\n",
       "      <th>9991</th>\n",
       "      <td>9992</td>\n",
       "      <td>15769959</td>\n",
       "      <td>Ajuluchukwu</td>\n",
       "      <td>597</td>\n",
       "      <td>France</td>\n",
       "      <td>Female</td>\n",
       "      <td>53</td>\n",
       "      <td>4.0</td>\n",
       "      <td>88381.21</td>\n",
       "      <td>1</td>\n",
       "      <td>1</td>\n",
       "      <td>0</td>\n",
       "      <td>69384.71</td>\n",
       "      <td>1</td>\n",
       "    </tr>\n",
       "    <tr>\n",
       "      <th>9992</th>\n",
       "      <td>9993</td>\n",
       "      <td>15657105</td>\n",
       "      <td>Chukwualuka</td>\n",
       "      <td>726</td>\n",
       "      <td>Spain</td>\n",
       "      <td>Male</td>\n",
       "      <td>36</td>\n",
       "      <td>2.0</td>\n",
       "      <td>0.00</td>\n",
       "      <td>1</td>\n",
       "      <td>1</td>\n",
       "      <td>0</td>\n",
       "      <td>195192.40</td>\n",
       "      <td>0</td>\n",
       "    </tr>\n",
       "    <tr>\n",
       "      <th>9993</th>\n",
       "      <td>9994</td>\n",
       "      <td>15569266</td>\n",
       "      <td>Rahman</td>\n",
       "      <td>644</td>\n",
       "      <td>France</td>\n",
       "      <td>Male</td>\n",
       "      <td>28</td>\n",
       "      <td>7.0</td>\n",
       "      <td>155060.41</td>\n",
       "      <td>1</td>\n",
       "      <td>1</td>\n",
       "      <td>0</td>\n",
       "      <td>29179.52</td>\n",
       "      <td>0</td>\n",
       "    </tr>\n",
       "    <tr>\n",
       "      <th>9994</th>\n",
       "      <td>9995</td>\n",
       "      <td>15719294</td>\n",
       "      <td>Wood</td>\n",
       "      <td>800</td>\n",
       "      <td>France</td>\n",
       "      <td>Female</td>\n",
       "      <td>29</td>\n",
       "      <td>2.0</td>\n",
       "      <td>0.00</td>\n",
       "      <td>2</td>\n",
       "      <td>0</td>\n",
       "      <td>0</td>\n",
       "      <td>167773.55</td>\n",
       "      <td>0</td>\n",
       "    </tr>\n",
       "    <tr>\n",
       "      <th>9995</th>\n",
       "      <td>9996</td>\n",
       "      <td>15606229</td>\n",
       "      <td>Obijiaku</td>\n",
       "      <td>771</td>\n",
       "      <td>France</td>\n",
       "      <td>Male</td>\n",
       "      <td>39</td>\n",
       "      <td>5.0</td>\n",
       "      <td>0.00</td>\n",
       "      <td>2</td>\n",
       "      <td>1</td>\n",
       "      <td>0</td>\n",
       "      <td>96270.64</td>\n",
       "      <td>0</td>\n",
       "    </tr>\n",
       "    <tr>\n",
       "      <th>9996</th>\n",
       "      <td>9997</td>\n",
       "      <td>15569892</td>\n",
       "      <td>Johnstone</td>\n",
       "      <td>516</td>\n",
       "      <td>France</td>\n",
       "      <td>Male</td>\n",
       "      <td>35</td>\n",
       "      <td>10.0</td>\n",
       "      <td>57369.61</td>\n",
       "      <td>1</td>\n",
       "      <td>1</td>\n",
       "      <td>1</td>\n",
       "      <td>101699.77</td>\n",
       "      <td>0</td>\n",
       "    </tr>\n",
       "    <tr>\n",
       "      <th>9997</th>\n",
       "      <td>9998</td>\n",
       "      <td>15584532</td>\n",
       "      <td>Liu</td>\n",
       "      <td>709</td>\n",
       "      <td>France</td>\n",
       "      <td>Female</td>\n",
       "      <td>36</td>\n",
       "      <td>7.0</td>\n",
       "      <td>0.00</td>\n",
       "      <td>1</td>\n",
       "      <td>0</td>\n",
       "      <td>1</td>\n",
       "      <td>42085.58</td>\n",
       "      <td>1</td>\n",
       "    </tr>\n",
       "    <tr>\n",
       "      <th>9998</th>\n",
       "      <td>9999</td>\n",
       "      <td>15682355</td>\n",
       "      <td>Sabbatini</td>\n",
       "      <td>772</td>\n",
       "      <td>Germany</td>\n",
       "      <td>Male</td>\n",
       "      <td>42</td>\n",
       "      <td>3.0</td>\n",
       "      <td>75075.31</td>\n",
       "      <td>2</td>\n",
       "      <td>1</td>\n",
       "      <td>0</td>\n",
       "      <td>92888.52</td>\n",
       "      <td>1</td>\n",
       "    </tr>\n",
       "    <tr>\n",
       "      <th>9999</th>\n",
       "      <td>10000</td>\n",
       "      <td>15628319</td>\n",
       "      <td>Walker</td>\n",
       "      <td>792</td>\n",
       "      <td>France</td>\n",
       "      <td>Female</td>\n",
       "      <td>28</td>\n",
       "      <td>NaN</td>\n",
       "      <td>130142.79</td>\n",
       "      <td>1</td>\n",
       "      <td>1</td>\n",
       "      <td>0</td>\n",
       "      <td>38190.78</td>\n",
       "      <td>0</td>\n",
       "    </tr>\n",
       "  </tbody>\n",
       "</table>\n",
       "</div>"
      ],
      "text/plain": [
       "      RowNumber  CustomerId      Surname  CreditScore Geography  Gender  Age  \\\n",
       "9990       9991    15798964   Nkemakonam          714   Germany    Male   33   \n",
       "9991       9992    15769959  Ajuluchukwu          597    France  Female   53   \n",
       "9992       9993    15657105  Chukwualuka          726     Spain    Male   36   \n",
       "9993       9994    15569266       Rahman          644    France    Male   28   \n",
       "9994       9995    15719294         Wood          800    France  Female   29   \n",
       "9995       9996    15606229     Obijiaku          771    France    Male   39   \n",
       "9996       9997    15569892    Johnstone          516    France    Male   35   \n",
       "9997       9998    15584532          Liu          709    France  Female   36   \n",
       "9998       9999    15682355    Sabbatini          772   Germany    Male   42   \n",
       "9999      10000    15628319       Walker          792    France  Female   28   \n",
       "\n",
       "      Tenure    Balance  NumOfProducts  HasCrCard  IsActiveMember  \\\n",
       "9990     3.0   35016.60              1          1               0   \n",
       "9991     4.0   88381.21              1          1               0   \n",
       "9992     2.0       0.00              1          1               0   \n",
       "9993     7.0  155060.41              1          1               0   \n",
       "9994     2.0       0.00              2          0               0   \n",
       "9995     5.0       0.00              2          1               0   \n",
       "9996    10.0   57369.61              1          1               1   \n",
       "9997     7.0       0.00              1          0               1   \n",
       "9998     3.0   75075.31              2          1               0   \n",
       "9999     NaN  130142.79              1          1               0   \n",
       "\n",
       "      EstimatedSalary  Exited  \n",
       "9990         53667.08       0  \n",
       "9991         69384.71       1  \n",
       "9992        195192.40       0  \n",
       "9993         29179.52       0  \n",
       "9994        167773.55       0  \n",
       "9995         96270.64       0  \n",
       "9996        101699.77       0  \n",
       "9997         42085.58       1  \n",
       "9998         92888.52       1  \n",
       "9999         38190.78       0  "
      ]
     },
     "metadata": {},
     "output_type": "display_data"
    }
   ],
   "source": [
    "try:\n",
    "    df = pd.read_csv(r'/datasets/Churn.csv')\n",
    "except:\n",
    "    df = pd.read_csv(r'C:\\Users\\vadim.pilipenko\\Desktop\\личное\\Практикум\\ML\\прочее\\Churn.csv')\n",
    "display(df.info(), df.head(10), df.tail(10))\n"
   ]
  },
  {
   "cell_type": "code",
   "execution_count": 3,
   "metadata": {},
   "outputs": [
    {
     "name": "stdout",
     "output_type": "stream",
     "text": [
      "credit_score          0\n",
      "geography             0\n",
      "gender                0\n",
      "age                   0\n",
      "tenure              909\n",
      "balance               0\n",
      "num_of_products       0\n",
      "has_cr_card           0\n",
      "is_active_member      0\n",
      "estimated_salary      0\n",
      "exited                0\n",
      "dtype: int64\n",
      "\n",
      "credit_score        0\n",
      "geography           0\n",
      "gender              0\n",
      "age                 0\n",
      "tenure              0\n",
      "balance             0\n",
      "num_of_products     0\n",
      "has_cr_card         0\n",
      "is_active_member    0\n",
      "estimated_salary    0\n",
      "exited              0\n",
      "dtype: int64 \n",
      "\n",
      "Количество дубликатов 0\n"
     ]
    }
   ],
   "source": [
    "df = df.drop(columns=['RowNumber','CustomerId','Surname'],axis=1)\n",
    "\n",
    "df.rename(columns={'CreditScore' : 'Credit_Score', 'NumOfProducts' : 'Num_Of_Products','HasCrCard' : 'Has_Cr_Card', 'IsActiveMember' : 'Is_Active_Member', 'EstimatedSalary':'Estimated_Salary'}, inplace = True) \n",
    "df.columns = df.columns.str.lower()\n",
    "print(f'''{df.isna().sum()}\n",
    "''')\n",
    "df['tenure'] = df['tenure'].fillna(df['tenure'].median())\n",
    "print(f'''{df.isna().sum()} \n",
    "\n",
    "Количество дубликатов {df.duplicated().sum()}''')\n"
   ]
  },
  {
   "cell_type": "markdown",
   "metadata": {},
   "source": [
    "### Вывод:\n",
    "Данные достаточно полные, заменили пропуски на медиану, для удобства поработали с названиями столбцов, удалили лишние столбцы с личными данными, которые явно не могут влиять на вероятность ухода из банка."
   ]
  },
  {
   "cell_type": "markdown",
   "metadata": {},
   "source": [
    "## Исследование задачи"
   ]
  },
  {
   "cell_type": "markdown",
   "metadata": {},
   "source": [
    "В данных есть несколько столбцов с категориальными данными в виде строк, преобразуем сет с помощью порядкового кодирования"
   ]
  },
  {
   "cell_type": "code",
   "execution_count": 6,
   "metadata": {},
   "outputs": [
    {
     "data": {
      "text/html": [
       "<div>\n",
       "<style scoped>\n",
       "    .dataframe tbody tr th:only-of-type {\n",
       "        vertical-align: middle;\n",
       "    }\n",
       "\n",
       "    .dataframe tbody tr th {\n",
       "        vertical-align: top;\n",
       "    }\n",
       "\n",
       "    .dataframe thead th {\n",
       "        text-align: right;\n",
       "    }\n",
       "</style>\n",
       "<table border=\"1\" class=\"dataframe\">\n",
       "  <thead>\n",
       "    <tr style=\"text-align: right;\">\n",
       "      <th></th>\n",
       "      <th>credit_score</th>\n",
       "      <th>age</th>\n",
       "      <th>tenure</th>\n",
       "      <th>balance</th>\n",
       "      <th>num_of_products</th>\n",
       "      <th>has_cr_card</th>\n",
       "      <th>is_active_member</th>\n",
       "      <th>estimated_salary</th>\n",
       "      <th>exited</th>\n",
       "      <th>geography_Germany</th>\n",
       "      <th>geography_Spain</th>\n",
       "      <th>gender_Male</th>\n",
       "    </tr>\n",
       "  </thead>\n",
       "  <tbody>\n",
       "    <tr>\n",
       "      <td>0</td>\n",
       "      <td>619</td>\n",
       "      <td>42</td>\n",
       "      <td>2.0</td>\n",
       "      <td>0.00</td>\n",
       "      <td>1</td>\n",
       "      <td>1</td>\n",
       "      <td>1</td>\n",
       "      <td>101348.88</td>\n",
       "      <td>1</td>\n",
       "      <td>0</td>\n",
       "      <td>0</td>\n",
       "      <td>0</td>\n",
       "    </tr>\n",
       "    <tr>\n",
       "      <td>1</td>\n",
       "      <td>608</td>\n",
       "      <td>41</td>\n",
       "      <td>1.0</td>\n",
       "      <td>83807.86</td>\n",
       "      <td>1</td>\n",
       "      <td>0</td>\n",
       "      <td>1</td>\n",
       "      <td>112542.58</td>\n",
       "      <td>0</td>\n",
       "      <td>0</td>\n",
       "      <td>1</td>\n",
       "      <td>0</td>\n",
       "    </tr>\n",
       "    <tr>\n",
       "      <td>2</td>\n",
       "      <td>502</td>\n",
       "      <td>42</td>\n",
       "      <td>8.0</td>\n",
       "      <td>159660.80</td>\n",
       "      <td>3</td>\n",
       "      <td>1</td>\n",
       "      <td>0</td>\n",
       "      <td>113931.57</td>\n",
       "      <td>1</td>\n",
       "      <td>0</td>\n",
       "      <td>0</td>\n",
       "      <td>0</td>\n",
       "    </tr>\n",
       "    <tr>\n",
       "      <td>3</td>\n",
       "      <td>699</td>\n",
       "      <td>39</td>\n",
       "      <td>1.0</td>\n",
       "      <td>0.00</td>\n",
       "      <td>2</td>\n",
       "      <td>0</td>\n",
       "      <td>0</td>\n",
       "      <td>93826.63</td>\n",
       "      <td>0</td>\n",
       "      <td>0</td>\n",
       "      <td>0</td>\n",
       "      <td>0</td>\n",
       "    </tr>\n",
       "    <tr>\n",
       "      <td>4</td>\n",
       "      <td>850</td>\n",
       "      <td>43</td>\n",
       "      <td>2.0</td>\n",
       "      <td>125510.82</td>\n",
       "      <td>1</td>\n",
       "      <td>1</td>\n",
       "      <td>1</td>\n",
       "      <td>79084.10</td>\n",
       "      <td>0</td>\n",
       "      <td>0</td>\n",
       "      <td>1</td>\n",
       "      <td>0</td>\n",
       "    </tr>\n",
       "    <tr>\n",
       "      <td>5</td>\n",
       "      <td>645</td>\n",
       "      <td>44</td>\n",
       "      <td>8.0</td>\n",
       "      <td>113755.78</td>\n",
       "      <td>2</td>\n",
       "      <td>1</td>\n",
       "      <td>0</td>\n",
       "      <td>149756.71</td>\n",
       "      <td>1</td>\n",
       "      <td>0</td>\n",
       "      <td>1</td>\n",
       "      <td>1</td>\n",
       "    </tr>\n",
       "    <tr>\n",
       "      <td>6</td>\n",
       "      <td>822</td>\n",
       "      <td>50</td>\n",
       "      <td>7.0</td>\n",
       "      <td>0.00</td>\n",
       "      <td>2</td>\n",
       "      <td>1</td>\n",
       "      <td>1</td>\n",
       "      <td>10062.80</td>\n",
       "      <td>0</td>\n",
       "      <td>0</td>\n",
       "      <td>0</td>\n",
       "      <td>1</td>\n",
       "    </tr>\n",
       "    <tr>\n",
       "      <td>7</td>\n",
       "      <td>376</td>\n",
       "      <td>29</td>\n",
       "      <td>4.0</td>\n",
       "      <td>115046.74</td>\n",
       "      <td>4</td>\n",
       "      <td>1</td>\n",
       "      <td>0</td>\n",
       "      <td>119346.88</td>\n",
       "      <td>1</td>\n",
       "      <td>1</td>\n",
       "      <td>0</td>\n",
       "      <td>0</td>\n",
       "    </tr>\n",
       "    <tr>\n",
       "      <td>8</td>\n",
       "      <td>501</td>\n",
       "      <td>44</td>\n",
       "      <td>4.0</td>\n",
       "      <td>142051.07</td>\n",
       "      <td>2</td>\n",
       "      <td>0</td>\n",
       "      <td>1</td>\n",
       "      <td>74940.50</td>\n",
       "      <td>0</td>\n",
       "      <td>0</td>\n",
       "      <td>0</td>\n",
       "      <td>1</td>\n",
       "    </tr>\n",
       "    <tr>\n",
       "      <td>9</td>\n",
       "      <td>684</td>\n",
       "      <td>27</td>\n",
       "      <td>2.0</td>\n",
       "      <td>134603.88</td>\n",
       "      <td>1</td>\n",
       "      <td>1</td>\n",
       "      <td>1</td>\n",
       "      <td>71725.73</td>\n",
       "      <td>0</td>\n",
       "      <td>0</td>\n",
       "      <td>0</td>\n",
       "      <td>1</td>\n",
       "    </tr>\n",
       "    <tr>\n",
       "      <td>10</td>\n",
       "      <td>528</td>\n",
       "      <td>31</td>\n",
       "      <td>6.0</td>\n",
       "      <td>102016.72</td>\n",
       "      <td>2</td>\n",
       "      <td>0</td>\n",
       "      <td>0</td>\n",
       "      <td>80181.12</td>\n",
       "      <td>0</td>\n",
       "      <td>0</td>\n",
       "      <td>0</td>\n",
       "      <td>1</td>\n",
       "    </tr>\n",
       "    <tr>\n",
       "      <td>11</td>\n",
       "      <td>497</td>\n",
       "      <td>24</td>\n",
       "      <td>3.0</td>\n",
       "      <td>0.00</td>\n",
       "      <td>2</td>\n",
       "      <td>1</td>\n",
       "      <td>0</td>\n",
       "      <td>76390.01</td>\n",
       "      <td>0</td>\n",
       "      <td>0</td>\n",
       "      <td>1</td>\n",
       "      <td>1</td>\n",
       "    </tr>\n",
       "    <tr>\n",
       "      <td>12</td>\n",
       "      <td>476</td>\n",
       "      <td>34</td>\n",
       "      <td>10.0</td>\n",
       "      <td>0.00</td>\n",
       "      <td>2</td>\n",
       "      <td>1</td>\n",
       "      <td>0</td>\n",
       "      <td>26260.98</td>\n",
       "      <td>0</td>\n",
       "      <td>0</td>\n",
       "      <td>0</td>\n",
       "      <td>0</td>\n",
       "    </tr>\n",
       "    <tr>\n",
       "      <td>13</td>\n",
       "      <td>549</td>\n",
       "      <td>25</td>\n",
       "      <td>5.0</td>\n",
       "      <td>0.00</td>\n",
       "      <td>2</td>\n",
       "      <td>0</td>\n",
       "      <td>0</td>\n",
       "      <td>190857.79</td>\n",
       "      <td>0</td>\n",
       "      <td>0</td>\n",
       "      <td>0</td>\n",
       "      <td>0</td>\n",
       "    </tr>\n",
       "    <tr>\n",
       "      <td>14</td>\n",
       "      <td>635</td>\n",
       "      <td>35</td>\n",
       "      <td>7.0</td>\n",
       "      <td>0.00</td>\n",
       "      <td>2</td>\n",
       "      <td>1</td>\n",
       "      <td>1</td>\n",
       "      <td>65951.65</td>\n",
       "      <td>0</td>\n",
       "      <td>0</td>\n",
       "      <td>1</td>\n",
       "      <td>0</td>\n",
       "    </tr>\n",
       "    <tr>\n",
       "      <td>15</td>\n",
       "      <td>616</td>\n",
       "      <td>45</td>\n",
       "      <td>3.0</td>\n",
       "      <td>143129.41</td>\n",
       "      <td>2</td>\n",
       "      <td>0</td>\n",
       "      <td>1</td>\n",
       "      <td>64327.26</td>\n",
       "      <td>0</td>\n",
       "      <td>1</td>\n",
       "      <td>0</td>\n",
       "      <td>1</td>\n",
       "    </tr>\n",
       "    <tr>\n",
       "      <td>16</td>\n",
       "      <td>653</td>\n",
       "      <td>58</td>\n",
       "      <td>1.0</td>\n",
       "      <td>132602.88</td>\n",
       "      <td>1</td>\n",
       "      <td>1</td>\n",
       "      <td>0</td>\n",
       "      <td>5097.67</td>\n",
       "      <td>1</td>\n",
       "      <td>1</td>\n",
       "      <td>0</td>\n",
       "      <td>1</td>\n",
       "    </tr>\n",
       "    <tr>\n",
       "      <td>17</td>\n",
       "      <td>549</td>\n",
       "      <td>24</td>\n",
       "      <td>9.0</td>\n",
       "      <td>0.00</td>\n",
       "      <td>2</td>\n",
       "      <td>1</td>\n",
       "      <td>1</td>\n",
       "      <td>14406.41</td>\n",
       "      <td>0</td>\n",
       "      <td>0</td>\n",
       "      <td>1</td>\n",
       "      <td>0</td>\n",
       "    </tr>\n",
       "    <tr>\n",
       "      <td>18</td>\n",
       "      <td>587</td>\n",
       "      <td>45</td>\n",
       "      <td>6.0</td>\n",
       "      <td>0.00</td>\n",
       "      <td>1</td>\n",
       "      <td>0</td>\n",
       "      <td>0</td>\n",
       "      <td>158684.81</td>\n",
       "      <td>0</td>\n",
       "      <td>0</td>\n",
       "      <td>1</td>\n",
       "      <td>1</td>\n",
       "    </tr>\n",
       "    <tr>\n",
       "      <td>19</td>\n",
       "      <td>726</td>\n",
       "      <td>24</td>\n",
       "      <td>6.0</td>\n",
       "      <td>0.00</td>\n",
       "      <td>2</td>\n",
       "      <td>1</td>\n",
       "      <td>1</td>\n",
       "      <td>54724.03</td>\n",
       "      <td>0</td>\n",
       "      <td>0</td>\n",
       "      <td>0</td>\n",
       "      <td>0</td>\n",
       "    </tr>\n",
       "  </tbody>\n",
       "</table>\n",
       "</div>"
      ],
      "text/plain": [
       "    credit_score  age  tenure    balance  num_of_products  has_cr_card  \\\n",
       "0            619   42     2.0       0.00                1            1   \n",
       "1            608   41     1.0   83807.86                1            0   \n",
       "2            502   42     8.0  159660.80                3            1   \n",
       "3            699   39     1.0       0.00                2            0   \n",
       "4            850   43     2.0  125510.82                1            1   \n",
       "5            645   44     8.0  113755.78                2            1   \n",
       "6            822   50     7.0       0.00                2            1   \n",
       "7            376   29     4.0  115046.74                4            1   \n",
       "8            501   44     4.0  142051.07                2            0   \n",
       "9            684   27     2.0  134603.88                1            1   \n",
       "10           528   31     6.0  102016.72                2            0   \n",
       "11           497   24     3.0       0.00                2            1   \n",
       "12           476   34    10.0       0.00                2            1   \n",
       "13           549   25     5.0       0.00                2            0   \n",
       "14           635   35     7.0       0.00                2            1   \n",
       "15           616   45     3.0  143129.41                2            0   \n",
       "16           653   58     1.0  132602.88                1            1   \n",
       "17           549   24     9.0       0.00                2            1   \n",
       "18           587   45     6.0       0.00                1            0   \n",
       "19           726   24     6.0       0.00                2            1   \n",
       "\n",
       "    is_active_member  estimated_salary  exited  geography_Germany  \\\n",
       "0                  1         101348.88       1                  0   \n",
       "1                  1         112542.58       0                  0   \n",
       "2                  0         113931.57       1                  0   \n",
       "3                  0          93826.63       0                  0   \n",
       "4                  1          79084.10       0                  0   \n",
       "5                  0         149756.71       1                  0   \n",
       "6                  1          10062.80       0                  0   \n",
       "7                  0         119346.88       1                  1   \n",
       "8                  1          74940.50       0                  0   \n",
       "9                  1          71725.73       0                  0   \n",
       "10                 0          80181.12       0                  0   \n",
       "11                 0          76390.01       0                  0   \n",
       "12                 0          26260.98       0                  0   \n",
       "13                 0         190857.79       0                  0   \n",
       "14                 1          65951.65       0                  0   \n",
       "15                 1          64327.26       0                  1   \n",
       "16                 0           5097.67       1                  1   \n",
       "17                 1          14406.41       0                  0   \n",
       "18                 0         158684.81       0                  0   \n",
       "19                 1          54724.03       0                  0   \n",
       "\n",
       "    geography_Spain  gender_Male  \n",
       "0                 0            0  \n",
       "1                 1            0  \n",
       "2                 0            0  \n",
       "3                 0            0  \n",
       "4                 1            0  \n",
       "5                 1            1  \n",
       "6                 0            1  \n",
       "7                 0            0  \n",
       "8                 0            1  \n",
       "9                 0            1  \n",
       "10                0            1  \n",
       "11                1            1  \n",
       "12                0            0  \n",
       "13                0            0  \n",
       "14                1            0  \n",
       "15                0            1  \n",
       "16                0            1  \n",
       "17                1            0  \n",
       "18                1            1  \n",
       "19                0            0  "
      ]
     },
     "metadata": {},
     "output_type": "display_data"
    }
   ],
   "source": [
    "df_ohe = pd.get_dummies(df, drop_first=True)\n",
    "\n",
    "target = df_ohe['exited']\n",
    "features = df_ohe.drop('exited', axis=1)\n",
    "features_train, features_vt, target_train, target_vt = train_test_split(features, target, test_size=0.4, random_state=12345)\n",
    "features_valid, features_test, target_valid, target_test = train_test_split(features, target, test_size=0.5, random_state=12345)\n",
    "\n",
    "display(df_ohe.head(20))"
   ]
  },
  {
   "cell_type": "code",
   "execution_count": 7,
   "metadata": {},
   "outputs": [
    {
     "name": "stdout",
     "output_type": "stream",
     "text": [
      "Accuracy наилучшей модели решающего дерева на валидационной выборке: = 0.942, глубина древа:= 12\n"
     ]
    }
   ],
   "source": [
    "best_tree_model = None # Подберем оптимальную модель решающего древа\n",
    "t_best_result = 0\n",
    "optimal_depth = 0\n",
    "for i in range(1,13):\n",
    "    t_model = DecisionTreeClassifier(random_state=12345, max_depth=i) # цикл перебора параметра max_depth\n",
    "    t_model.fit(features_train, target_train)\n",
    "    result = t_model.score(features_valid,target_valid)# значение метрики Accuracy на валидационной выборке\n",
    "    if result > t_best_result:\n",
    "        t_best_result = result\n",
    "        best_tree_model = t_model\n",
    "        optimal_depth = i\n",
    "print(f'Accuracy наилучшей модели решающего дерева на валидационной выборке: = {t_best_result}, глубина древа:= {optimal_depth}')"
   ]
  },
  {
   "cell_type": "code",
   "execution_count": 8,
   "metadata": {},
   "outputs": [
    {
     "name": "stdout",
     "output_type": "stream",
     "text": [
      "Accuracy наилучшей модели случайного леса на валидационной выборке: 0.941 , количество деревьев: 48 , глубина древа: 12\n"
     ]
    }
   ],
   "source": [
    "best_forest_model = None # Подберем оптимальную модель случайного леса\n",
    "f_best_result = 0\n",
    "best_est = 0\n",
    "best_depth = 0\n",
    "for est in range(20, 100, 1):\n",
    "        f_model = RandomForestClassifier(random_state=12345, n_estimators=est, max_depth=optimal_depth) # циклы перебора параметров n_estimators, max_depth\n",
    "        f_model.fit(features_train,target_train) # обучение модель на тренировочной выборке\n",
    "        result = f_model.score(features_valid, target_valid) # значение метрики Accuracy на валидационной выборке\n",
    "        if result > f_best_result:\n",
    "            best_forest_model = f_model\n",
    "            f_best_result = result\n",
    "            best_est = est\n",
    "\n",
    "print(\"Accuracy наилучшей модели случайного леса на валидационной выборке:\", f_best_result, \", количество деревьев:\", best_est, \", глубина древа:\", optimal_depth)"
   ]
  },
  {
   "cell_type": "code",
   "execution_count": 9,
   "metadata": {},
   "outputs": [
    {
     "name": "stdout",
     "output_type": "stream",
     "text": [
      "Accuracy наилучшей модели решающего дерева на валидационной выборке: = 0.866\n"
     ]
    }
   ],
   "source": [
    "dtc = DecisionTreeClassifier(random_state=12345)\n",
    "parametrs_dtc = {'max_depth': range (1,15, 1),\n",
    "              'min_samples_leaf': range (1,8),\n",
    "              'min_samples_split': range (2,10,2)\n",
    "                }\n",
    "grid_dtc = GridSearchCV(dtc, parametrs_dtc, cv=5)\n",
    "grid_dtc.fit(features_train, target_train)\n",
    "best_tree_model = grid_dtc.best_estimator_\n",
    "best_tree_model.fit(features_train,target_train)\n",
    "result = best_tree_model.score(features_valid, target_valid)\n",
    "print(f'Accuracy наилучшей модели решающего дерева на валидационной выборке: = {result}')"
   ]
  },
  {
   "cell_type": "code",
   "execution_count": 10,
   "metadata": {},
   "outputs": [
    {
     "name": "stdout",
     "output_type": "stream",
     "text": [
      "Accuracy наилучшей модели решающего дерева на валидационной выборке: = 0.9018\n"
     ]
    }
   ],
   "source": [
    "rfc = RandomForestClassifier(random_state=12345)\n",
    "parametrs_rfc = {'n_estimators': range(40,60, 2),\n",
    "                 'max_depth': range (6,12, 1)\n",
    "                }\n",
    "grid_rfc = GridSearchCV(rfc, parametrs_rfc, cv=5)\n",
    "grid_rfc.fit(features_train, target_train)\n",
    "best_forest_model = grid_rfc.best_estimator_\n",
    "best_forest_model.fit(features_train,target_train)\n",
    "result = best_forest_model.score(features_valid, target_valid)\n",
    "print(f'Accuracy наилучшей модели решающего дерева на валидационной выборке: = {result}')"
   ]
  },
  {
   "cell_type": "code",
   "execution_count": 11,
   "metadata": {
    "scrolled": true
   },
   "outputs": [
    {
     "name": "stdout",
     "output_type": "stream",
     "text": [
      "Accuracy наилучшей модели логистической регрессии на валидационной выборке: 0.791\n"
     ]
    }
   ],
   "source": [
    "\n",
    "l_model = LogisticRegression(random_state=12345, solver='lbfgs')\n",
    "l_model.fit(features_train, target_train) # обучение модель на тренировочной выборке\n",
    "result = l_model.score(features_valid,target_valid) # значение метрики Accuracy на валидационной выборке\n",
    "\n",
    "print(f'''Accuracy наилучшей модели логистической регрессии на валидационной выборке: {result}''')"
   ]
  },
  {
   "cell_type": "markdown",
   "metadata": {},
   "source": [
    "Оценим полученные результаты на вменяемость"
   ]
  },
  {
   "cell_type": "code",
   "execution_count": 12,
   "metadata": {},
   "outputs": [
    {
     "name": "stdout",
     "output_type": "stream",
     "text": [
      "0.7963\n"
     ]
    }
   ],
   "source": [
    "val=[]  #Создадим и проверим на accuracy серию с 0 значением во всех ячейках серии\n",
    "for i in range(len(target)):\n",
    "    val.append(0)\n",
    "target_pred_constant = pd.Series(val)\n",
    "\n",
    "print(accuracy_score(target, target_pred_constant)) "
   ]
  },
  {
   "cell_type": "markdown",
   "metadata": {},
   "source": [
    "Результат на вменяемость показывает, что модели стоит проверить по параметрам F1, AUC_ROC, MAE, чтобы оценить их работу"
   ]
  },
  {
   "cell_type": "code",
   "execution_count": 13,
   "metadata": {},
   "outputs": [
    {
     "name": "stdout",
     "output_type": "stream",
     "text": [
      "\n",
      "    F1 модели DecisionTreeClassifier: 0.5754119138149556\n",
      "    \n",
      "AUC_ROC модели DecisionTreeClassifier: 0.7098709799829239\n",
      "    \n",
      "MAE модели DecisionTreeClassifier: 0.134\n",
      "\n",
      "    F1 модели RandomForestClassifier: 0.6894370651486401\n",
      "    \n",
      "AUC_ROC модели RandomForestClassifier: 0.7656986212566804\n",
      "    \n",
      "MAE модели RandomForestClassifier: 0.0982\n",
      "\n",
      "    F1 модели LogisticRegression: 0.09680207433016422\n",
      "    \n",
      "AUC_ROC модели LogisticRegression: 0.5168913844353793\n",
      "    \n",
      "MAE модели LogisticRegression: 0.209\n"
     ]
    }
   ],
   "source": [
    "list_mod = [best_tree_model,best_forest_model,l_model]\n",
    "for mod in list_mod:\n",
    "    predicted_valid = mod.predict(features_valid)\n",
    "    indic=str(mod).find('(')\n",
    "    print(f'''\n",
    "    F1 модели {str(mod)[:indic]}: {f1_score(target_valid, predicted_valid)}\n",
    "    ''')\n",
    "    print(f'''AUC_ROC модели {str(mod)[:indic]}: {roc_auc_score(target_valid,predicted_valid)}\n",
    "    ''')\n",
    "    print(f'''MAE модели {str(mod)[:indic]}: {mean_absolute_error(target_valid,predicted_valid)}''')\n"
   ]
  },
  {
   "cell_type": "markdown",
   "metadata": {},
   "source": [
    "### Вывод:\n",
    "Показатели моделей по параметрам F1, AUC_ROC, MAE для решающего дерева и случайного леса достаточно высокие, но стоит оценить баланс в данных"
   ]
  },
  {
   "cell_type": "markdown",
   "metadata": {},
   "source": [
    "## Борьба с дисбалансом"
   ]
  },
  {
   "cell_type": "markdown",
   "metadata": {},
   "source": [
    "В данных кредитный рейтинг, возраст, баланс и суммы повторяющихся выплат сильно выбиваются от остальных данных, стандартизируем велечины."
   ]
  },
  {
   "cell_type": "code",
   "execution_count": 14,
   "metadata": {},
   "outputs": [],
   "source": [
    "numeric = ['credit_score', 'age', 'balance', 'estimated_salary'] #список стандартизируемых столбцов\n",
    "scaler = StandardScaler()\n",
    "pd.options.mode.chained_assignment = None\n",
    "\n",
    "scaler.fit(features_train[numeric]) # обучение и транчформация обучающих, валидационных и тестовых наборов признаков\n",
    "features_train[numeric] = scaler.transform(features_train[numeric])\n",
    "features_valid[numeric] = scaler.transform(features_valid[numeric])\n",
    "features_test[numeric] = scaler.transform(features_test[numeric])"
   ]
  },
  {
   "cell_type": "markdown",
   "metadata": {},
   "source": [
    "Проверим количество уходящих и остающихся клиентов в выборке"
   ]
  },
  {
   "cell_type": "code",
   "execution_count": 16,
   "metadata": {
    "scrolled": true
   },
   "outputs": [
    {
     "name": "stdout",
     "output_type": "stream",
     "text": [
      "количество записей с exited = 0: 7963\n",
      "количество записей с exited = 1: 2037\n"
     ]
    }
   ],
   "source": [
    "print('количество записей с exited = 0:', df_ohe.query('exited == 0').exited.count())\n",
    "print('количество записей с exited = 1:', df_ohe.query('exited == 1').exited.count())"
   ]
  },
  {
   "cell_type": "markdown",
   "metadata": {},
   "source": [
    "Отношение равно примерно 4:1, попробуем и оценим методы сокращения выборки с записью 0 в классе exited и увеличения выборки с записью 1 в классе exited"
   ]
  },
  {
   "cell_type": "code",
   "execution_count": 17,
   "metadata": {},
   "outputs": [
    {
     "name": "stdout",
     "output_type": "stream",
     "text": [
      " После выравнивания классов\n",
      "accuracy модели best_forest_model: 0.9026\n",
      "\n",
      "F1 модели best_forest_model: 0.772110435189518\n",
      "    \n",
      "AUC_ROC модели best_forest_model: 0.868855342630364\n",
      "    \n",
      "MAE модели best_forest_model: 0.0974\n"
     ]
    }
   ],
   "source": [
    "def downsample(features, target, fraction): #функция уменьшения семпла данных\n",
    "    features_zeros = features[target == 0]\n",
    "    features_ones = features[target == 1]\n",
    "    target_zeros = target[target == 0]\n",
    "    target_ones = target[target == 1]\n",
    "\n",
    "    features_downsampled = pd.concat(\n",
    "        [features_zeros.sample(frac=fraction, random_state=12345)] + [features_ones])\n",
    "    target_downsampled = pd.concat(\n",
    "        [target_zeros.sample(frac=fraction, random_state=12345)] + [target_ones])\n",
    "    \n",
    "    features_downsampled, target_downsampled = shuffle(\n",
    "        features_downsampled, target_downsampled, random_state=12345)\n",
    "    \n",
    "    return features_downsampled, target_downsampled\n",
    "\n",
    "features_downsampled, target_downsampled = downsample(features_train, target_train, 0.41) #Подбирал в ручную, можно автоматизировать, но задача ограниченая в размере\n",
    "best_forest_model.fit(features_downsampled, target_downsampled)\n",
    "predicted_valid = best_forest_model.predict(features_valid)\n",
    "\n",
    "def display_f1_auc_mae(target, predicted, text): #функция вывода характеристик обученной модели\n",
    "    print(f''' {text}\n",
    "accuracy модели best_forest_model: {accuracy_score(target, predicted)}''')\n",
    "    print(f'''\n",
    "F1 модели best_forest_model: {f1_score(target, predicted)}\n",
    "    ''')\n",
    "    print(f'''AUC_ROC модели best_forest_model: {roc_auc_score(target,predicted)}\n",
    "    ''')\n",
    "    print(f'''MAE модели best_forest_model: {mean_absolute_error(target,predicted)}''')\n",
    "    \n",
    "display_f1_auc_mae(target_valid, predicted_valid,'После выравнивания классов')"
   ]
  },
  {
   "cell_type": "code",
   "execution_count": 18,
   "metadata": {},
   "outputs": [
    {
     "name": "stdout",
     "output_type": "stream",
     "text": [
      " После выравнивания классов\n",
      "accuracy модели best_forest_model: 0.9298\n",
      "\n",
      "F1 модели best_forest_model: 0.8310062590274435\n",
      "    \n",
      "AUC_ROC модели best_forest_model: 0.8998553268190874\n",
      "    \n",
      "MAE модели best_forest_model: 0.0702\n"
     ]
    }
   ],
   "source": [
    "def upsample(features, target, repeat): #функция увеличения семпла данных\n",
    "    features_zeros = features[target == 0]\n",
    "    features_ones = features[target == 1]\n",
    "    target_zeros = target[target == 0]\n",
    "    target_ones = target[target == 1]\n",
    "\n",
    "    features_upsampled = pd.concat([features_zeros] + [features_ones] * repeat)\n",
    "    target_upsampled = pd.concat([target_zeros] + [target_ones] * repeat)\n",
    "    \n",
    "    features_upsampled, target_upsampled = shuffle(\n",
    "        features_upsampled, target_upsampled, random_state=12345)\n",
    "    \n",
    "    return features_upsampled, target_upsampled\n",
    "\n",
    "features_upsampled, target_upsampled = upsample(features_train, target_train, 3)  #Подбирал в ручную, можно автоматизировать, но задача ограниченая в размере\n",
    "best_forest_model.fit(features_upsampled, target_upsampled)\n",
    "predicted_valid = best_forest_model.predict(features_valid)\n",
    "\n",
    "display_f1_auc_mae(target_valid, predicted_valid, 'После выравнивания классов')"
   ]
  },
  {
   "cell_type": "markdown",
   "metadata": {},
   "source": [
    "### Вывод:\n",
    "Стандартизировал данные и убрал дисбаланс классов, выравнивание баланса классов за счет уменьшения выборки в данном случае показало себя лучше."
   ]
  },
  {
   "cell_type": "markdown",
   "metadata": {},
   "source": [
    "## Тестирование модели"
   ]
  },
  {
   "cell_type": "code",
   "execution_count": 19,
   "metadata": {
    "scrolled": true
   },
   "outputs": [
    {
     "name": "stdout",
     "output_type": "stream",
     "text": [
      " Результат модели на тестовой выборке\n",
      "accuracy модели best_forest_model: 0.8568\n",
      "\n",
      "F1 модели best_forest_model: 0.6493633692458374\n",
      "    \n",
      "AUC_ROC модели best_forest_model: 0.7796955071914032\n",
      "    \n",
      "MAE модели best_forest_model: 0.1432\n"
     ]
    }
   ],
   "source": [
    "predicted_test = best_forest_model.predict(features_test)\n",
    "\n",
    "display_f1_auc_mae(target_test, predicted_test,'Результат модели на тестовой выборке')"
   ]
  },
  {
   "cell_type": "markdown",
   "metadata": {},
   "source": [
    "### Вывод:\n",
    "Проведя тестирование лучшей модели случайного леса классификации получили достаточно высокий показатель точности предсказания F1 = 0.6683, достигнув цели проекта получиить показатель F1 > 0.59\n",
    "\n",
    "Исследуя ROC_AUC характеристики, прослеживается прямая корреляция с F1 параметром и обратная корреляция с MAE."
   ]
  },
  {
   "cell_type": "markdown",
   "metadata": {},
   "source": [
    "## Общий вывод:\n",
    "Проверив модели решающего дерева, случайного леса и логистической регресси, получили оптимальную модель случайного леса как наиболее точную, проверив модели на адекватность исправили дисбалансс классов сета данных и стандартизировали признаки, увеличили точность предсказаний, что оценили по показателям параметров F1, AUC_ROC, MAE.\n",
    "Задача по получению точности параметра F1 модели > 0.59 выполнена."
   ]
  }
 ],
 "metadata": {
  "ExecuteTimeLog": [
   {
    "duration": 576,
    "start_time": "2022-03-02T18:28:25.049Z"
   },
   {
    "duration": 593,
    "start_time": "2022-03-02T18:28:30.888Z"
   },
   {
    "duration": 65,
    "start_time": "2022-03-02T18:28:37.502Z"
   },
   {
    "duration": 535,
    "start_time": "2022-03-02T18:35:12.790Z"
   },
   {
    "duration": 72525,
    "start_time": "2022-03-02T18:36:25.807Z"
   },
   {
    "duration": 59,
    "start_time": "2022-03-02T18:46:08.408Z"
   },
   {
    "duration": 9,
    "start_time": "2022-03-02T18:54:21.525Z"
   },
   {
    "duration": 313,
    "start_time": "2022-03-02T18:56:28.406Z"
   },
   {
    "duration": 271,
    "start_time": "2022-03-02T18:58:42.494Z"
   },
   {
    "duration": 1131,
    "start_time": "2022-03-02T18:59:17.995Z"
   },
   {
    "duration": 71,
    "start_time": "2022-03-02T18:59:19.949Z"
   },
   {
    "duration": 361,
    "start_time": "2022-03-02T18:59:21.811Z"
   },
   {
    "duration": 273,
    "start_time": "2022-03-02T18:59:43.789Z"
   },
   {
    "duration": 1243,
    "start_time": "2022-03-02T18:59:52.664Z"
   },
   {
    "duration": 78,
    "start_time": "2022-03-02T18:59:53.910Z"
   },
   {
    "duration": 10,
    "start_time": "2022-03-02T18:59:53.991Z"
   },
   {
    "duration": 361,
    "start_time": "2022-03-02T19:10:04.678Z"
   },
   {
    "duration": 1138,
    "start_time": "2022-03-02T19:10:42.096Z"
   },
   {
    "duration": 72,
    "start_time": "2022-03-02T19:10:43.236Z"
   },
   {
    "duration": 57,
    "start_time": "2022-03-02T19:10:45.501Z"
   },
   {
    "duration": 386,
    "start_time": "2022-03-02T19:10:47.068Z"
   },
   {
    "duration": 287,
    "start_time": "2022-03-02T19:11:06.420Z"
   },
   {
    "duration": 1095,
    "start_time": "2022-03-02T19:11:23.036Z"
   },
   {
    "duration": 62,
    "start_time": "2022-03-02T19:11:24.133Z"
   },
   {
    "duration": 1122,
    "start_time": "2022-03-02T19:11:24.197Z"
   },
   {
    "duration": 295,
    "start_time": "2022-03-02T19:14:06.717Z"
   },
   {
    "duration": 276,
    "start_time": "2022-03-02T19:15:00.052Z"
   },
   {
    "duration": 1189,
    "start_time": "2022-03-02T19:15:10.053Z"
   },
   {
    "duration": 71,
    "start_time": "2022-03-02T19:15:11.244Z"
   },
   {
    "duration": 9,
    "start_time": "2022-03-02T19:15:11.317Z"
   },
   {
    "duration": 391,
    "start_time": "2022-03-02T19:16:53.937Z"
   },
   {
    "duration": 99,
    "start_time": "2022-03-02T19:18:00.667Z"
   },
   {
    "duration": 10,
    "start_time": "2022-03-02T19:18:10.206Z"
   },
   {
    "duration": 263,
    "start_time": "2022-03-02T19:18:22.445Z"
   },
   {
    "duration": 263,
    "start_time": "2022-03-02T19:18:42.833Z"
   },
   {
    "duration": 1143,
    "start_time": "2022-03-02T19:18:56.283Z"
   },
   {
    "duration": 60,
    "start_time": "2022-03-02T19:18:57.428Z"
   },
   {
    "duration": 12,
    "start_time": "2022-03-02T19:18:57.490Z"
   },
   {
    "duration": 86,
    "start_time": "2022-03-02T19:19:09.052Z"
   },
   {
    "duration": 14,
    "start_time": "2022-03-02T19:19:16.486Z"
   },
   {
    "duration": 19,
    "start_time": "2022-03-02T19:20:18.170Z"
   },
   {
    "duration": 405,
    "start_time": "2022-03-02T19:20:37.202Z"
   },
   {
    "duration": 18,
    "start_time": "2022-03-02T19:20:43.826Z"
   },
   {
    "duration": 83,
    "start_time": "2022-03-02T19:20:58.916Z"
   },
   {
    "duration": 18,
    "start_time": "2022-03-02T19:21:44.693Z"
   },
   {
    "duration": 92,
    "start_time": "2022-03-02T19:22:55.852Z"
   },
   {
    "duration": 18,
    "start_time": "2022-03-02T19:23:05.416Z"
   },
   {
    "duration": 23,
    "start_time": "2022-03-02T19:23:14.172Z"
   },
   {
    "duration": 17,
    "start_time": "2022-03-02T19:23:18.936Z"
   },
   {
    "duration": 1964,
    "start_time": "2022-03-03T18:15:51.221Z"
   },
   {
    "duration": 66,
    "start_time": "2022-03-03T18:15:53.186Z"
   },
   {
    "duration": 16,
    "start_time": "2022-03-03T18:15:53.254Z"
   },
   {
    "duration": 21458,
    "start_time": "2022-03-03T18:15:53.271Z"
   },
   {
    "duration": 35950,
    "start_time": "2022-03-03T18:17:02.904Z"
   },
   {
    "duration": 215,
    "start_time": "2022-03-07T16:50:18.310Z"
   },
   {
    "duration": 1174,
    "start_time": "2022-03-07T16:50:32.962Z"
   },
   {
    "duration": 62,
    "start_time": "2022-03-07T16:50:34.138Z"
   },
   {
    "duration": 35,
    "start_time": "2022-03-07T16:50:34.203Z"
   },
   {
    "duration": 312,
    "start_time": "2022-03-07T16:51:14.094Z"
   },
   {
    "duration": -27,
    "start_time": "2022-03-07T16:51:14.435Z"
   },
   {
    "duration": 41,
    "start_time": "2022-03-07T16:52:41.375Z"
   },
   {
    "duration": 1495,
    "start_time": "2022-03-08T09:15:55.086Z"
   },
   {
    "duration": 82,
    "start_time": "2022-03-08T09:15:56.583Z"
   },
   {
    "duration": 34,
    "start_time": "2022-03-08T09:15:56.668Z"
   },
   {
    "duration": 329,
    "start_time": "2022-03-08T09:17:30.003Z"
   },
   {
    "duration": 1443,
    "start_time": "2022-03-08T09:17:42.675Z"
   },
   {
    "duration": 88,
    "start_time": "2022-03-08T09:17:44.121Z"
   },
   {
    "duration": 27,
    "start_time": "2022-03-08T09:17:44.258Z"
   },
   {
    "duration": 57,
    "start_time": "2022-03-08T09:17:48.926Z"
   },
   {
    "duration": 61,
    "start_time": "2022-03-08T09:18:00.304Z"
   },
   {
    "duration": 16,
    "start_time": "2022-03-08T09:23:25.715Z"
   },
   {
    "duration": 77,
    "start_time": "2022-03-08T09:23:26.304Z"
   },
   {
    "duration": 24,
    "start_time": "2022-03-08T09:23:27.252Z"
   },
   {
    "duration": 61,
    "start_time": "2022-03-08T09:23:34.091Z"
   },
   {
    "duration": 325,
    "start_time": "2022-03-08T09:23:41.902Z"
   },
   {
    "duration": 10,
    "start_time": "2022-03-08T09:23:54.120Z"
   },
   {
    "duration": 320,
    "start_time": "2022-03-08T09:25:24.104Z"
   },
   {
    "duration": -43,
    "start_time": "2022-03-08T09:30:17.339Z"
   },
   {
    "duration": 14232,
    "start_time": "2022-03-08T09:30:24.796Z"
   },
   {
    "duration": 1497,
    "start_time": "2022-03-08T09:30:56.450Z"
   },
   {
    "duration": 81,
    "start_time": "2022-03-08T09:30:57.949Z"
   },
   {
    "duration": 55,
    "start_time": "2022-03-08T09:30:58.035Z"
   },
   {
    "duration": 74,
    "start_time": "2022-03-08T09:31:35.739Z"
   },
   {
    "duration": 12,
    "start_time": "2022-03-08T09:31:35.817Z"
   },
   {
    "duration": 388,
    "start_time": "2022-03-08T09:31:35.832Z"
   },
   {
    "duration": 1624,
    "start_time": "2022-03-08T09:32:09.440Z"
   },
   {
    "duration": 84,
    "start_time": "2022-03-08T09:32:11.066Z"
   },
   {
    "duration": 45,
    "start_time": "2022-03-08T09:32:11.154Z"
   },
   {
    "duration": 4,
    "start_time": "2022-03-08T09:32:11.201Z"
   },
   {
    "duration": 94,
    "start_time": "2022-03-08T09:32:11.207Z"
   },
   {
    "duration": 10,
    "start_time": "2022-03-08T09:32:11.305Z"
   },
   {
    "duration": 374,
    "start_time": "2022-03-08T09:32:11.318Z"
   },
   {
    "duration": 120001,
    "start_time": "2022-03-08T09:32:11.695Z"
   },
   {
    "duration": 69407,
    "start_time": "2022-03-08T09:35:16.690Z"
   },
   {
    "duration": 179,
    "start_time": "2022-03-08T09:36:39.619Z"
   },
   {
    "duration": 3532,
    "start_time": "2022-03-08T09:37:19.158Z"
   },
   {
    "duration": 378,
    "start_time": "2022-03-08T10:01:39.601Z"
   },
   {
    "duration": 5,
    "start_time": "2022-03-08T10:01:51.032Z"
   },
   {
    "duration": 12,
    "start_time": "2022-03-08T10:01:57.454Z"
   },
   {
    "duration": 5,
    "start_time": "2022-03-08T10:03:28.067Z"
   },
   {
    "duration": 89,
    "start_time": "2022-03-08T10:12:47.197Z"
   },
   {
    "duration": 62,
    "start_time": "2022-03-08T10:16:30.922Z"
   },
   {
    "duration": 149,
    "start_time": "2022-03-08T10:17:47.233Z"
   },
   {
    "duration": 1592,
    "start_time": "2022-03-09T19:08:50.866Z"
   },
   {
    "duration": 91,
    "start_time": "2022-03-09T19:08:52.461Z"
   },
   {
    "duration": 52,
    "start_time": "2022-03-09T19:08:52.556Z"
   },
   {
    "duration": 5,
    "start_time": "2022-03-09T19:08:52.612Z"
   },
   {
    "duration": 93,
    "start_time": "2022-03-09T19:08:52.620Z"
   },
   {
    "duration": 12,
    "start_time": "2022-03-09T19:08:52.717Z"
   },
   {
    "duration": 383,
    "start_time": "2022-03-09T19:08:52.732Z"
   },
   {
    "duration": 98128,
    "start_time": "2022-03-09T19:08:53.120Z"
   },
   {
    "duration": -570,
    "start_time": "2022-03-09T19:10:31.821Z"
   },
   {
    "duration": -576,
    "start_time": "2022-03-09T19:10:31.829Z"
   },
   {
    "duration": -583,
    "start_time": "2022-03-09T19:10:31.837Z"
   },
   {
    "duration": 1564,
    "start_time": "2022-03-09T19:11:29.803Z"
   },
   {
    "duration": 87,
    "start_time": "2022-03-09T19:11:31.417Z"
   },
   {
    "duration": 29,
    "start_time": "2022-03-09T19:11:33.276Z"
   },
   {
    "duration": 4,
    "start_time": "2022-03-09T19:11:36.135Z"
   },
   {
    "duration": 72,
    "start_time": "2022-03-09T19:11:37.129Z"
   },
   {
    "duration": 11,
    "start_time": "2022-03-09T19:11:38.544Z"
   },
   {
    "duration": 352,
    "start_time": "2022-03-09T19:11:40.055Z"
   },
   {
    "duration": -50,
    "start_time": "2022-03-09T19:14:41.883Z"
   },
   {
    "duration": 1600,
    "start_time": "2022-03-09T19:14:47.164Z"
   },
   {
    "duration": 88,
    "start_time": "2022-03-09T19:14:48.767Z"
   },
   {
    "duration": 49,
    "start_time": "2022-03-09T19:14:48.858Z"
   },
   {
    "duration": 4,
    "start_time": "2022-03-09T19:14:48.910Z"
   },
   {
    "duration": 89,
    "start_time": "2022-03-09T19:14:48.916Z"
   },
   {
    "duration": 10,
    "start_time": "2022-03-09T19:14:49.007Z"
   },
   {
    "duration": 373,
    "start_time": "2022-03-09T19:14:49.020Z"
   },
   {
    "duration": 1684,
    "start_time": "2022-03-09T19:16:24.552Z"
   },
   {
    "duration": 98,
    "start_time": "2022-03-09T19:16:26.240Z"
   },
   {
    "duration": 26,
    "start_time": "2022-03-09T19:16:26.340Z"
   },
   {
    "duration": 5,
    "start_time": "2022-03-09T19:16:26.397Z"
   },
   {
    "duration": 64,
    "start_time": "2022-03-09T19:16:26.405Z"
   },
   {
    "duration": 15,
    "start_time": "2022-03-09T19:16:26.487Z"
   },
   {
    "duration": 373,
    "start_time": "2022-03-09T19:16:26.505Z"
   },
   {
    "duration": 600,
    "start_time": "2022-03-09T19:16:26.881Z"
   },
   {
    "duration": -24,
    "start_time": "2022-03-09T19:16:27.507Z"
   },
   {
    "duration": -33,
    "start_time": "2022-03-09T19:16:27.518Z"
   },
   {
    "duration": -34,
    "start_time": "2022-03-09T19:16:27.520Z"
   },
   {
    "duration": 14281,
    "start_time": "2022-03-09T19:17:25.602Z"
   },
   {
    "duration": 2480,
    "start_time": "2022-03-09T19:17:45.416Z"
   },
   {
    "duration": 12,
    "start_time": "2022-03-09T19:17:49.172Z"
   },
   {
    "duration": 138,
    "start_time": "2022-03-09T19:17:52.350Z"
   },
   {
    "duration": 232,
    "start_time": "2022-03-09T19:18:18.705Z"
   },
   {
    "duration": 240,
    "start_time": "2022-03-09T19:18:27.387Z"
   },
   {
    "duration": 239,
    "start_time": "2022-03-09T19:18:34.717Z"
   },
   {
    "duration": 239,
    "start_time": "2022-03-09T19:20:58.520Z"
   },
   {
    "duration": 68,
    "start_time": "2022-03-09T19:21:19.036Z"
   },
   {
    "duration": 249,
    "start_time": "2022-03-09T19:23:58.444Z"
   },
   {
    "duration": 233,
    "start_time": "2022-03-09T19:24:15.080Z"
   },
   {
    "duration": 56,
    "start_time": "2022-03-09T19:24:21.232Z"
   },
   {
    "duration": 289,
    "start_time": "2022-03-09T19:25:06.427Z"
   },
   {
    "duration": 62,
    "start_time": "2022-03-09T19:25:31.948Z"
   },
   {
    "duration": 47,
    "start_time": "2022-03-09T19:28:38.300Z"
   },
   {
    "duration": 79,
    "start_time": "2022-03-09T19:36:27.548Z"
   },
   {
    "duration": 89,
    "start_time": "2022-03-09T19:36:39.999Z"
   },
   {
    "duration": 130,
    "start_time": "2022-03-09T19:36:45.962Z"
   },
   {
    "duration": 86,
    "start_time": "2022-03-09T19:37:40.800Z"
   },
   {
    "duration": 73,
    "start_time": "2022-03-09T19:38:01.411Z"
   },
   {
    "duration": 73,
    "start_time": "2022-03-09T19:38:13.442Z"
   },
   {
    "duration": 42,
    "start_time": "2022-03-09T19:38:19.141Z"
   },
   {
    "duration": 44,
    "start_time": "2022-03-09T19:38:38.663Z"
   },
   {
    "duration": 48,
    "start_time": "2022-03-09T19:40:21.683Z"
   },
   {
    "duration": 68,
    "start_time": "2022-03-09T19:40:34.150Z"
   },
   {
    "duration": 115,
    "start_time": "2022-03-09T19:40:47.676Z"
   },
   {
    "duration": 243,
    "start_time": "2022-03-09T19:47:09.028Z"
   },
   {
    "duration": 283,
    "start_time": "2022-03-09T19:47:37.300Z"
   },
   {
    "duration": 58,
    "start_time": "2022-03-09T19:47:57.336Z"
   },
   {
    "duration": 89,
    "start_time": "2022-03-09T19:48:12.306Z"
   },
   {
    "duration": 5,
    "start_time": "2022-03-09T19:51:10.739Z"
   },
   {
    "duration": 55,
    "start_time": "2022-03-09T19:52:08.274Z"
   },
   {
    "duration": 276,
    "start_time": "2022-03-09T19:52:37.585Z"
   },
   {
    "duration": 64,
    "start_time": "2022-03-09T19:54:10.636Z"
   },
   {
    "duration": 522,
    "start_time": "2022-03-10T19:28:11.953Z"
   },
   {
    "duration": 1528,
    "start_time": "2022-03-10T19:28:20.045Z"
   },
   {
    "duration": 91,
    "start_time": "2022-03-10T19:28:21.576Z"
   },
   {
    "duration": 25,
    "start_time": "2022-03-10T19:28:21.670Z"
   },
   {
    "duration": 3,
    "start_time": "2022-03-10T19:28:21.697Z"
   },
   {
    "duration": 89,
    "start_time": "2022-03-10T19:28:21.703Z"
   },
   {
    "duration": 10,
    "start_time": "2022-03-10T19:28:21.796Z"
   },
   {
    "duration": 362,
    "start_time": "2022-03-10T19:28:21.809Z"
   },
   {
    "duration": 13509,
    "start_time": "2022-03-10T19:28:22.174Z"
   },
   {
    "duration": 1047,
    "start_time": "2022-03-10T19:28:35.686Z"
   },
   {
    "duration": 99,
    "start_time": "2022-03-10T19:28:36.736Z"
   },
   {
    "duration": 195,
    "start_time": "2022-03-10T19:28:36.838Z"
   },
   {
    "duration": 16,
    "start_time": "2022-03-10T19:28:37.036Z"
   },
   {
    "duration": 8,
    "start_time": "2022-03-10T19:29:02.340Z"
   },
   {
    "duration": 12,
    "start_time": "2022-03-10T19:29:13.633Z"
   },
   {
    "duration": 12,
    "start_time": "2022-03-10T19:30:07.103Z"
   },
   {
    "duration": 12,
    "start_time": "2022-03-10T19:30:32.012Z"
   },
   {
    "duration": 1306,
    "start_time": "2022-03-10T19:35:44.060Z"
   },
   {
    "duration": 6,
    "start_time": "2022-03-10T19:36:19.835Z"
   },
   {
    "duration": 563,
    "start_time": "2022-03-10T19:36:28.024Z"
   },
   {
    "duration": 135,
    "start_time": "2022-03-10T19:37:52.114Z"
   },
   {
    "duration": 565,
    "start_time": "2022-03-10T19:38:28.392Z"
   },
   {
    "duration": 561,
    "start_time": "2022-03-10T19:39:07.283Z"
   },
   {
    "duration": 566,
    "start_time": "2022-03-10T19:39:39.601Z"
   },
   {
    "duration": 189,
    "start_time": "2022-03-10T19:43:14.559Z"
   },
   {
    "duration": 348,
    "start_time": "2022-03-10T19:43:44.847Z"
   },
   {
    "duration": 14522,
    "start_time": "2022-03-10T19:48:02.167Z"
   },
   {
    "duration": 13,
    "start_time": "2022-03-10T19:48:22.269Z"
   },
   {
    "duration": 91,
    "start_time": "2022-03-10T19:48:25.848Z"
   },
   {
    "duration": 13372,
    "start_time": "2022-03-10T19:48:57.340Z"
   },
   {
    "duration": 19871,
    "start_time": "2022-03-10T19:49:17.776Z"
   },
   {
    "duration": 40748,
    "start_time": "2022-03-10T19:49:50.076Z"
   },
   {
    "duration": 13401,
    "start_time": "2022-03-10T19:50:43.856Z"
   },
   {
    "duration": 40538,
    "start_time": "2022-03-10T19:51:12.094Z"
   },
   {
    "duration": 187,
    "start_time": "2022-03-10T19:52:01.547Z"
   },
   {
    "duration": 12,
    "start_time": "2022-03-10T19:52:17.610Z"
   },
   {
    "duration": 588,
    "start_time": "2022-03-10T19:52:21.008Z"
   },
   {
    "duration": 242,
    "start_time": "2022-03-10T19:52:27.090Z"
   },
   {
    "duration": 694,
    "start_time": "2022-03-10T19:52:55.425Z"
   },
   {
    "duration": 650,
    "start_time": "2022-03-10T19:53:07.182Z"
   },
   {
    "duration": 549,
    "start_time": "2022-03-10T19:53:20.220Z"
   },
   {
    "duration": 554,
    "start_time": "2022-03-10T19:53:29.687Z"
   },
   {
    "duration": 476,
    "start_time": "2022-03-10T19:53:39.638Z"
   },
   {
    "duration": 593,
    "start_time": "2022-03-10T19:53:47.386Z"
   },
   {
    "duration": 256,
    "start_time": "2022-03-10T19:53:56.932Z"
   },
   {
    "duration": 253,
    "start_time": "2022-03-10T19:54:05.547Z"
   },
   {
    "duration": 266,
    "start_time": "2022-03-10T19:54:11.657Z"
   },
   {
    "duration": 289,
    "start_time": "2022-03-10T19:54:16.453Z"
   },
   {
    "duration": 263,
    "start_time": "2022-03-10T19:54:22.475Z"
   },
   {
    "duration": 272,
    "start_time": "2022-03-10T19:54:30.702Z"
   },
   {
    "duration": 281,
    "start_time": "2022-03-10T19:54:35.129Z"
   },
   {
    "duration": 256,
    "start_time": "2022-03-10T19:54:39.670Z"
   },
   {
    "duration": 264,
    "start_time": "2022-03-10T19:54:44.080Z"
   },
   {
    "duration": 262,
    "start_time": "2022-03-10T19:54:49.276Z"
   },
   {
    "duration": 371,
    "start_time": "2022-03-10T19:54:55.692Z"
   },
   {
    "duration": 262,
    "start_time": "2022-03-10T19:55:06.836Z"
   },
   {
    "duration": 267,
    "start_time": "2022-03-10T19:55:12.037Z"
   },
   {
    "duration": 273,
    "start_time": "2022-03-10T19:55:18.554Z"
   },
   {
    "duration": 15,
    "start_time": "2022-03-10T20:00:52.242Z"
   },
   {
    "duration": 415,
    "start_time": "2022-03-10T20:00:54.350Z"
   },
   {
    "duration": 64372,
    "start_time": "2022-03-10T20:00:59.833Z"
   },
   {
    "duration": 1141,
    "start_time": "2022-03-10T20:02:15.300Z"
   },
   {
    "duration": 11,
    "start_time": "2022-03-10T20:02:18.276Z"
   },
   {
    "duration": 177,
    "start_time": "2022-03-10T20:02:21.660Z"
   },
   {
    "duration": 15,
    "start_time": "2022-03-10T20:02:32.031Z"
   },
   {
    "duration": 575,
    "start_time": "2022-03-10T20:02:33.283Z"
   },
   {
    "duration": 301,
    "start_time": "2022-03-10T20:02:35.351Z"
   },
   {
    "duration": 313,
    "start_time": "2022-03-10T20:04:20.341Z"
   },
   {
    "duration": 352,
    "start_time": "2022-03-10T20:04:27.244Z"
   },
   {
    "duration": 411,
    "start_time": "2022-03-10T20:04:33.341Z"
   },
   {
    "duration": 468,
    "start_time": "2022-03-10T20:04:38.608Z"
   },
   {
    "duration": 292,
    "start_time": "2022-03-10T20:09:24.806Z"
   },
   {
    "duration": 564,
    "start_time": "2022-03-10T20:09:26.215Z"
   },
   {
    "duration": 381,
    "start_time": "2022-03-10T20:10:56.222Z"
   },
   {
    "duration": 13,
    "start_time": "2022-03-10T20:11:15.491Z"
   },
   {
    "duration": 57,
    "start_time": "2022-03-10T20:11:26.296Z"
   },
   {
    "duration": 269,
    "start_time": "2022-03-10T20:13:33.239Z"
   },
   {
    "duration": 292,
    "start_time": "2022-03-10T20:13:43.661Z"
   },
   {
    "duration": 414,
    "start_time": "2022-03-10T20:13:52.931Z"
   },
   {
    "duration": 289,
    "start_time": "2022-03-10T20:14:07.272Z"
   },
   {
    "duration": 307,
    "start_time": "2022-03-10T20:14:16.467Z"
   },
   {
    "duration": 294,
    "start_time": "2022-03-10T20:14:25.764Z"
   },
   {
    "duration": 306,
    "start_time": "2022-03-10T20:14:36.582Z"
   },
   {
    "duration": 650,
    "start_time": "2022-03-10T20:14:58.369Z"
   },
   {
    "duration": 515,
    "start_time": "2022-03-10T20:15:04.548Z"
   },
   {
    "duration": 569,
    "start_time": "2022-03-10T20:15:09.873Z"
   },
   {
    "duration": 312,
    "start_time": "2022-03-10T20:15:32.040Z"
   },
   {
    "duration": 57,
    "start_time": "2022-03-10T20:15:33.517Z"
   },
   {
    "duration": 57,
    "start_time": "2022-03-10T20:15:59.383Z"
   },
   {
    "duration": 56,
    "start_time": "2022-03-10T20:18:15.025Z"
   },
   {
    "duration": 464,
    "start_time": "2022-03-12T10:19:46.499Z"
   },
   {
    "duration": 12,
    "start_time": "2022-03-12T10:19:46.953Z"
   },
   {
    "duration": 8,
    "start_time": "2022-03-12T10:19:46.958Z"
   },
   {
    "duration": 7,
    "start_time": "2022-03-12T10:19:46.960Z"
   },
   {
    "duration": 3,
    "start_time": "2022-03-12T10:19:46.965Z"
   },
   {
    "duration": 2,
    "start_time": "2022-03-12T10:19:46.967Z"
   },
   {
    "duration": 1,
    "start_time": "2022-03-12T10:19:46.969Z"
   },
   {
    "duration": -3,
    "start_time": "2022-03-12T10:19:46.974Z"
   },
   {
    "duration": -3,
    "start_time": "2022-03-12T10:19:46.975Z"
   },
   {
    "duration": -4,
    "start_time": "2022-03-12T10:19:46.977Z"
   },
   {
    "duration": -7,
    "start_time": "2022-03-12T10:19:46.981Z"
   },
   {
    "duration": -8,
    "start_time": "2022-03-12T10:19:46.983Z"
   },
   {
    "duration": -9,
    "start_time": "2022-03-12T10:19:46.985Z"
   },
   {
    "duration": -9,
    "start_time": "2022-03-12T10:19:46.986Z"
   },
   {
    "duration": -9,
    "start_time": "2022-03-12T10:19:46.987Z"
   },
   {
    "duration": -10,
    "start_time": "2022-03-12T10:19:46.989Z"
   },
   {
    "duration": 1150,
    "start_time": "2022-03-12T10:20:11.493Z"
   },
   {
    "duration": 53,
    "start_time": "2022-03-12T10:20:14.100Z"
   },
   {
    "duration": 20,
    "start_time": "2022-03-12T10:20:16.468Z"
   },
   {
    "duration": 3,
    "start_time": "2022-03-12T10:20:19.439Z"
   },
   {
    "duration": 46,
    "start_time": "2022-03-12T10:20:20.241Z"
   },
   {
    "duration": 12,
    "start_time": "2022-03-12T10:20:21.303Z"
   },
   {
    "duration": 326,
    "start_time": "2022-03-12T10:20:22.744Z"
   },
   {
    "duration": 10622,
    "start_time": "2022-03-12T10:20:24.336Z"
   },
   {
    "duration": 320,
    "start_time": "2022-03-12T10:20:45.325Z"
   },
   {
    "duration": 33493,
    "start_time": "2022-03-12T10:21:12.171Z"
   },
   {
    "duration": 330,
    "start_time": "2022-03-12T10:22:11.535Z"
   },
   {
    "duration": 729,
    "start_time": "2022-03-12T10:22:21.439Z"
   },
   {
    "duration": 9,
    "start_time": "2022-03-12T10:22:24.416Z"
   },
   {
    "duration": 130,
    "start_time": "2022-03-12T10:22:25.833Z"
   },
   {
    "duration": 13,
    "start_time": "2022-03-12T10:23:32.844Z"
   },
   {
    "duration": 11,
    "start_time": "2022-03-12T10:23:35.867Z"
   },
   {
    "duration": 391,
    "start_time": "2022-03-12T10:23:40.293Z"
   },
   {
    "duration": 223,
    "start_time": "2022-03-12T10:23:45.859Z"
   },
   {
    "duration": 42,
    "start_time": "2022-03-12T10:23:48.883Z"
   },
   {
    "duration": 322,
    "start_time": "2022-03-12T10:25:11.359Z"
   },
   {
    "duration": 193,
    "start_time": "2022-03-12T10:25:58.427Z"
   },
   {
    "duration": 206,
    "start_time": "2022-03-12T10:26:03.608Z"
   },
   {
    "duration": 1241,
    "start_time": "2022-03-12T10:26:29.137Z"
   },
   {
    "duration": 62,
    "start_time": "2022-03-12T10:26:30.380Z"
   },
   {
    "duration": 24,
    "start_time": "2022-03-12T10:26:30.444Z"
   },
   {
    "duration": 2,
    "start_time": "2022-03-12T10:26:30.470Z"
   },
   {
    "duration": 50,
    "start_time": "2022-03-12T10:26:30.474Z"
   },
   {
    "duration": 11,
    "start_time": "2022-03-12T10:26:30.525Z"
   },
   {
    "duration": 233,
    "start_time": "2022-03-12T10:26:30.537Z"
   },
   {
    "duration": 32478,
    "start_time": "2022-03-12T10:26:30.773Z"
   },
   {
    "duration": 1115,
    "start_time": "2022-03-12T10:27:03.253Z"
   },
   {
    "duration": 102,
    "start_time": "2022-03-12T10:27:04.461Z"
   },
   {
    "duration": 101,
    "start_time": "2022-03-12T10:27:04.565Z"
   },
   {
    "duration": 15,
    "start_time": "2022-03-12T10:27:04.758Z"
   },
   {
    "duration": 10,
    "start_time": "2022-03-12T10:27:04.775Z"
   },
   {
    "duration": 416,
    "start_time": "2022-03-12T10:27:04.787Z"
   },
   {
    "duration": 217,
    "start_time": "2022-03-12T10:27:05.205Z"
   },
   {
    "duration": 45,
    "start_time": "2022-03-12T10:27:05.423Z"
   },
   {
    "duration": 207,
    "start_time": "2022-03-12T10:28:38.386Z"
   },
   {
    "duration": 383,
    "start_time": "2022-03-12T10:28:40.131Z"
   },
   {
    "duration": 42,
    "start_time": "2022-03-12T10:28:43.597Z"
   },
   {
    "duration": 43,
    "start_time": "2022-03-12T10:35:26.738Z"
   },
   {
    "duration": 9,
    "start_time": "2022-03-12T10:36:42.626Z"
   },
   {
    "duration": 54,
    "start_time": "2022-03-12T10:42:06.413Z"
   },
   {
    "duration": 42,
    "start_time": "2022-03-12T10:43:07.450Z"
   },
   {
    "duration": 10,
    "start_time": "2022-03-12T10:43:08.239Z"
   },
   {
    "duration": 204,
    "start_time": "2022-03-12T10:43:09.285Z"
   },
   {
    "duration": 32813,
    "start_time": "2022-03-12T10:43:10.935Z"
   },
   {
    "duration": 863,
    "start_time": "2022-03-12T10:43:46.505Z"
   },
   {
    "duration": 8,
    "start_time": "2022-03-12T10:43:50.311Z"
   },
   {
    "duration": 105,
    "start_time": "2022-03-12T10:43:53.863Z"
   },
   {
    "duration": 216,
    "start_time": "2022-03-12T11:20:19.426Z"
   },
   {
    "duration": 213,
    "start_time": "2022-03-12T11:20:32.141Z"
   },
   {
    "duration": 213,
    "start_time": "2022-03-12T11:20:43.730Z"
   },
   {
    "duration": 212,
    "start_time": "2022-03-12T11:20:52.043Z"
   },
   {
    "duration": 205,
    "start_time": "2022-03-12T11:20:58.846Z"
   },
   {
    "duration": 212,
    "start_time": "2022-03-12T11:35:57.355Z"
   },
   {
    "duration": 393,
    "start_time": "2022-03-12T11:36:16.692Z"
   },
   {
    "duration": 42,
    "start_time": "2022-03-12T11:36:42.132Z"
   },
   {
    "duration": 209,
    "start_time": "2022-03-12T11:37:31.807Z"
   },
   {
    "duration": 405,
    "start_time": "2022-03-12T11:37:52.299Z"
   },
   {
    "duration": 43,
    "start_time": "2022-03-12T11:38:25.366Z"
   },
   {
    "duration": 3,
    "start_time": "2022-03-12T11:47:19.726Z"
   },
   {
    "duration": 4,
    "start_time": "2022-03-12T11:47:53.391Z"
   },
   {
    "duration": 281,
    "start_time": "2022-03-12T11:48:57.436Z"
   },
   {
    "duration": 204,
    "start_time": "2022-03-12T11:50:01.074Z"
   },
   {
    "duration": 192,
    "start_time": "2022-03-12T11:55:13.079Z"
   },
   {
    "duration": 434,
    "start_time": "2022-03-12T11:55:49.127Z"
   },
   {
    "duration": 391,
    "start_time": "2022-03-12T11:56:10.700Z"
   },
   {
    "duration": 386,
    "start_time": "2022-03-12T11:56:27.468Z"
   },
   {
    "duration": 384,
    "start_time": "2022-03-12T11:59:12.452Z"
   },
   {
    "duration": 1138,
    "start_time": "2022-03-12T12:20:55.302Z"
   },
   {
    "duration": 59,
    "start_time": "2022-03-12T12:20:56.441Z"
   },
   {
    "duration": 18,
    "start_time": "2022-03-12T12:20:56.502Z"
   },
   {
    "duration": 56,
    "start_time": "2022-03-12T12:21:38.468Z"
   },
   {
    "duration": 55,
    "start_time": "2022-03-12T12:21:38.470Z"
   },
   {
    "duration": 54,
    "start_time": "2022-03-12T12:21:38.472Z"
   },
   {
    "duration": 54,
    "start_time": "2022-03-12T12:21:38.474Z"
   },
   {
    "duration": 53,
    "start_time": "2022-03-12T12:21:38.476Z"
   },
   {
    "duration": 49,
    "start_time": "2022-03-12T12:21:38.481Z"
   },
   {
    "duration": 48,
    "start_time": "2022-03-12T12:21:38.483Z"
   },
   {
    "duration": 46,
    "start_time": "2022-03-12T12:21:38.486Z"
   },
   {
    "duration": 45,
    "start_time": "2022-03-12T12:21:38.488Z"
   },
   {
    "duration": 43,
    "start_time": "2022-03-12T12:21:38.491Z"
   },
   {
    "duration": 42,
    "start_time": "2022-03-12T12:21:38.493Z"
   },
   {
    "duration": 40,
    "start_time": "2022-03-12T12:21:38.496Z"
   },
   {
    "duration": 39,
    "start_time": "2022-03-12T12:21:38.498Z"
   },
   {
    "duration": 1344,
    "start_time": "2022-03-12T12:21:52.437Z"
   },
   {
    "duration": 58,
    "start_time": "2022-03-12T12:21:53.783Z"
   },
   {
    "duration": 20,
    "start_time": "2022-03-12T12:21:53.844Z"
   },
   {
    "duration": 3,
    "start_time": "2022-03-12T12:21:53.866Z"
   },
   {
    "duration": 322,
    "start_time": "2022-03-12T12:21:53.872Z"
   },
   {
    "duration": 32,
    "start_time": "2022-03-12T12:21:54.164Z"
   },
   {
    "duration": 29,
    "start_time": "2022-03-12T12:21:54.168Z"
   },
   {
    "duration": 27,
    "start_time": "2022-03-12T12:21:54.171Z"
   },
   {
    "duration": 24,
    "start_time": "2022-03-12T12:21:54.175Z"
   },
   {
    "duration": 23,
    "start_time": "2022-03-12T12:21:54.177Z"
   },
   {
    "duration": 23,
    "start_time": "2022-03-12T12:21:54.178Z"
   },
   {
    "duration": 21,
    "start_time": "2022-03-12T12:21:54.182Z"
   },
   {
    "duration": 19,
    "start_time": "2022-03-12T12:21:54.185Z"
   },
   {
    "duration": 16,
    "start_time": "2022-03-12T12:21:54.189Z"
   },
   {
    "duration": 16,
    "start_time": "2022-03-12T12:21:54.190Z"
   },
   {
    "duration": 15,
    "start_time": "2022-03-12T12:21:54.192Z"
   },
   {
    "duration": 50,
    "start_time": "2022-03-12T12:23:29.355Z"
   },
   {
    "duration": 200,
    "start_time": "2022-03-12T12:23:33.554Z"
   },
   {
    "duration": 32635,
    "start_time": "2022-03-12T12:23:36.124Z"
   },
   {
    "duration": 752,
    "start_time": "2022-03-12T12:24:10.916Z"
   },
   {
    "duration": 9,
    "start_time": "2022-03-12T12:24:13.271Z"
   },
   {
    "duration": 80,
    "start_time": "2022-03-12T12:24:15.388Z"
   },
   {
    "duration": 16,
    "start_time": "2022-03-12T12:24:20.679Z"
   },
   {
    "duration": 11,
    "start_time": "2022-03-12T12:24:22.448Z"
   },
   {
    "duration": 219,
    "start_time": "2022-03-12T12:24:24.858Z"
   },
   {
    "duration": 400,
    "start_time": "2022-03-12T12:24:26.055Z"
   },
   {
    "duration": 43,
    "start_time": "2022-03-12T12:24:28.896Z"
   },
   {
    "duration": 1157,
    "start_time": "2022-03-12T12:24:42.586Z"
   },
   {
    "duration": 52,
    "start_time": "2022-03-12T12:24:43.745Z"
   },
   {
    "duration": 20,
    "start_time": "2022-03-12T12:24:43.799Z"
   },
   {
    "duration": 3,
    "start_time": "2022-03-12T12:24:43.821Z"
   },
   {
    "duration": 73,
    "start_time": "2022-03-12T12:24:43.826Z"
   },
   {
    "duration": 211,
    "start_time": "2022-03-12T12:24:43.901Z"
   },
   {
    "duration": 32488,
    "start_time": "2022-03-12T12:24:44.115Z"
   },
   {
    "duration": 953,
    "start_time": "2022-03-12T12:25:16.606Z"
   },
   {
    "duration": 101,
    "start_time": "2022-03-12T12:25:17.562Z"
   },
   {
    "duration": 97,
    "start_time": "2022-03-12T12:25:17.665Z"
   },
   {
    "duration": 104,
    "start_time": "2022-03-12T12:25:17.765Z"
   },
   {
    "duration": 10,
    "start_time": "2022-03-12T12:25:17.871Z"
   },
   {
    "duration": 233,
    "start_time": "2022-03-12T12:25:17.882Z"
   },
   {
    "duration": 420,
    "start_time": "2022-03-12T12:25:18.116Z"
   },
   {
    "duration": 45,
    "start_time": "2022-03-12T12:25:18.538Z"
   },
   {
    "duration": 2686,
    "start_time": "2022-03-13T08:46:19.073Z"
   },
   {
    "duration": 63,
    "start_time": "2022-03-13T08:46:21.760Z"
   },
   {
    "duration": 15,
    "start_time": "2022-03-13T08:46:21.825Z"
   },
   {
    "duration": 2,
    "start_time": "2022-03-13T08:46:21.841Z"
   },
   {
    "duration": 61,
    "start_time": "2022-03-13T08:46:21.845Z"
   },
   {
    "duration": 172,
    "start_time": "2022-03-13T08:46:21.908Z"
   },
   {
    "duration": 29808,
    "start_time": "2022-03-13T08:46:22.082Z"
   },
   {
    "duration": 424,
    "start_time": "2022-03-13T08:46:51.891Z"
   },
   {
    "duration": 89,
    "start_time": "2022-03-13T08:46:52.318Z"
   },
   {
    "duration": 205,
    "start_time": "2022-03-13T08:46:52.409Z"
   },
   {
    "duration": 12,
    "start_time": "2022-03-13T08:46:52.706Z"
   },
   {
    "duration": 10,
    "start_time": "2022-03-13T08:46:52.719Z"
   },
   {
    "duration": 199,
    "start_time": "2022-03-13T08:46:52.730Z"
   },
   {
    "duration": 350,
    "start_time": "2022-03-13T08:46:52.930Z"
   },
   {
    "duration": 44,
    "start_time": "2022-03-13T08:46:53.282Z"
   },
   {
    "duration": 1185,
    "start_time": "2022-03-13T09:35:05.655Z"
   },
   {
    "duration": 1354,
    "start_time": "2022-03-14T17:26:36.898Z"
   },
   {
    "duration": 64,
    "start_time": "2022-03-14T17:26:38.255Z"
   },
   {
    "duration": 22,
    "start_time": "2022-03-14T17:26:40.902Z"
   },
   {
    "duration": 3,
    "start_time": "2022-03-14T17:26:41.894Z"
   },
   {
    "duration": 80,
    "start_time": "2022-03-14T17:26:44.764Z"
   },
   {
    "duration": 138,
    "start_time": "2022-03-14T17:26:53.262Z"
   },
   {
    "duration": 448,
    "start_time": "2022-03-14T17:26:55.277Z"
   },
   {
    "duration": 35,
    "start_time": "2022-03-14T17:27:22.612Z"
   },
   {
    "duration": 83,
    "start_time": "2022-03-14T17:28:11.701Z"
   },
   {
    "duration": 3,
    "start_time": "2022-03-14T17:28:26.351Z"
   },
   {
    "duration": 99,
    "start_time": "2022-03-14T17:32:00.239Z"
   },
   {
    "duration": 4,
    "start_time": "2022-03-14T17:34:50.102Z"
   },
   {
    "duration": 264,
    "start_time": "2022-03-14T17:42:09.908Z"
   },
   {
    "duration": 35209,
    "start_time": "2022-03-14T17:42:30.681Z"
   },
   {
    "duration": 1328,
    "start_time": "2022-03-14T17:43:28.887Z"
   },
   {
    "duration": 4966,
    "start_time": "2022-03-14T17:46:14.806Z"
   },
   {
    "duration": 1305,
    "start_time": "2022-03-14T17:46:49.559Z"
   },
   {
    "duration": 3581,
    "start_time": "2022-03-14T17:46:53.640Z"
   },
   {
    "duration": 3549,
    "start_time": "2022-03-14T17:47:17.484Z"
   },
   {
    "duration": 3657,
    "start_time": "2022-03-14T17:47:39.921Z"
   },
   {
    "duration": 3629,
    "start_time": "2022-03-14T17:47:47.467Z"
   },
   {
    "duration": 135764,
    "start_time": "2022-03-14T17:48:57.165Z"
   },
   {
    "duration": 1369,
    "start_time": "2022-03-14T17:51:32.076Z"
   },
   {
    "duration": 77,
    "start_time": "2022-03-14T17:51:33.447Z"
   },
   {
    "duration": 20,
    "start_time": "2022-03-14T17:51:33.527Z"
   },
   {
    "duration": 2,
    "start_time": "2022-03-14T17:51:33.550Z"
   },
   {
    "duration": 7,
    "start_time": "2022-03-14T17:51:33.554Z"
   },
   {
    "duration": 37,
    "start_time": "2022-03-14T17:51:33.563Z"
   },
   {
    "duration": 249,
    "start_time": "2022-03-14T17:51:33.601Z"
   },
   {
    "duration": 34104,
    "start_time": "2022-03-14T17:51:33.853Z"
   },
   {
    "duration": 1402,
    "start_time": "2022-03-14T17:52:19.439Z"
   },
   {
    "duration": 77,
    "start_time": "2022-03-14T17:53:36.874Z"
   },
   {
    "duration": 33850,
    "start_time": "2022-03-14T17:53:46.191Z"
   },
   {
    "duration": 34262,
    "start_time": "2022-03-14T17:57:27.049Z"
   },
   {
    "duration": 34600,
    "start_time": "2022-03-14T18:04:56.044Z"
   },
   {
    "duration": 34354,
    "start_time": "2022-03-14T18:05:56.430Z"
   },
   {
    "duration": 34702,
    "start_time": "2022-03-14T18:08:07.238Z"
   },
   {
    "duration": 1277,
    "start_time": "2022-03-14T18:08:49.824Z"
   },
   {
    "duration": 66,
    "start_time": "2022-03-14T18:08:51.104Z"
   },
   {
    "duration": 20,
    "start_time": "2022-03-14T18:08:51.172Z"
   },
   {
    "duration": 2,
    "start_time": "2022-03-14T18:08:51.195Z"
   },
   {
    "duration": 6,
    "start_time": "2022-03-14T18:08:51.199Z"
   },
   {
    "duration": 37,
    "start_time": "2022-03-14T18:08:51.231Z"
   },
   {
    "duration": 251,
    "start_time": "2022-03-14T18:08:51.271Z"
   },
   {
    "duration": 34600,
    "start_time": "2022-03-14T18:08:51.526Z"
   },
   {
    "duration": 34860,
    "start_time": "2022-03-14T18:09:26.132Z"
   },
   {
    "duration": 34762,
    "start_time": "2022-03-14T18:17:58.948Z"
   },
   {
    "duration": 34283,
    "start_time": "2022-03-14T18:19:17.303Z"
   },
   {
    "duration": 34002,
    "start_time": "2022-03-14T18:22:16.060Z"
   },
   {
    "duration": 70427,
    "start_time": "2022-03-14T18:50:41.938Z"
   },
   {
    "duration": 36808,
    "start_time": "2022-03-14T19:48:42.750Z"
   },
   {
    "duration": 74635,
    "start_time": "2022-03-14T19:49:19.560Z"
   },
   {
    "duration": 764,
    "start_time": "2022-03-14T20:08:26.081Z"
   },
   {
    "duration": 9,
    "start_time": "2022-03-14T20:08:28.658Z"
   },
   {
    "duration": 133,
    "start_time": "2022-03-14T20:08:31.813Z"
   },
   {
    "duration": 24,
    "start_time": "2022-03-14T20:08:44.047Z"
   },
   {
    "duration": 249,
    "start_time": "2022-03-14T20:08:45.627Z"
   },
   {
    "duration": 264,
    "start_time": "2022-03-14T20:08:47.592Z"
   },
   {
    "duration": 478,
    "start_time": "2022-03-14T20:08:52.652Z"
   },
   {
    "duration": 49,
    "start_time": "2022-03-14T20:08:58.467Z"
   },
   {
    "duration": 94,
    "start_time": "2022-03-14T20:12:49.684Z"
   },
   {
    "duration": 1274,
    "start_time": "2022-03-14T20:16:03.089Z"
   },
   {
    "duration": 68,
    "start_time": "2022-03-14T20:16:04.365Z"
   },
   {
    "duration": 23,
    "start_time": "2022-03-14T20:16:04.436Z"
   },
   {
    "duration": 3,
    "start_time": "2022-03-14T20:16:04.461Z"
   },
   {
    "duration": 6,
    "start_time": "2022-03-14T20:16:04.466Z"
   },
   {
    "duration": 72,
    "start_time": "2022-03-14T20:16:04.474Z"
   },
   {
    "duration": 239,
    "start_time": "2022-03-14T20:16:04.549Z"
   },
   {
    "duration": 35687,
    "start_time": "2022-03-14T20:16:04.791Z"
   },
   {
    "duration": 35405,
    "start_time": "2022-03-14T20:16:40.480Z"
   },
   {
    "duration": 72233,
    "start_time": "2022-03-14T20:17:15.887Z"
   },
   {
    "duration": 1125,
    "start_time": "2022-03-14T20:18:28.122Z"
   },
   {
    "duration": 91,
    "start_time": "2022-03-14T20:18:29.255Z"
   },
   {
    "duration": 178,
    "start_time": "2022-03-14T20:18:29.360Z"
   },
   {
    "duration": 115,
    "start_time": "2022-03-14T20:18:29.540Z"
   },
   {
    "duration": 385,
    "start_time": "2022-03-14T20:18:29.657Z"
   },
   {
    "duration": -23,
    "start_time": "2022-03-14T20:18:30.069Z"
   },
   {
    "duration": -25,
    "start_time": "2022-03-14T20:18:30.073Z"
   },
   {
    "duration": -26,
    "start_time": "2022-03-14T20:18:30.075Z"
   },
   {
    "duration": 11,
    "start_time": "2022-03-14T20:19:27.771Z"
   },
   {
    "duration": 271,
    "start_time": "2022-03-14T20:19:32.977Z"
   },
   {
    "duration": 496,
    "start_time": "2022-03-14T20:19:34.101Z"
   },
   {
    "duration": 55,
    "start_time": "2022-03-14T20:19:38.591Z"
   },
   {
    "duration": 46,
    "start_time": "2022-03-18T09:13:35.278Z"
   },
   {
    "duration": 1659,
    "start_time": "2022-03-18T09:13:39.673Z"
   },
   {
    "duration": 158,
    "start_time": "2022-03-18T09:13:41.334Z"
   },
   {
    "duration": 77,
    "start_time": "2022-03-18T09:14:10.180Z"
   },
   {
    "duration": 87,
    "start_time": "2022-03-18T09:25:52.810Z"
   },
   {
    "duration": 4,
    "start_time": "2022-03-18T09:25:57.971Z"
   },
   {
    "duration": 78,
    "start_time": "2022-03-18T09:25:58.568Z"
   },
   {
    "duration": 77,
    "start_time": "2022-03-18T09:26:03.115Z"
   },
   {
    "duration": 75,
    "start_time": "2022-03-18T09:29:45.568Z"
   },
   {
    "duration": 152,
    "start_time": "2022-03-18T09:30:35.287Z"
   },
   {
    "duration": 62,
    "start_time": "2022-03-18T09:31:11.646Z"
   }
  ],
  "kernelspec": {
   "display_name": "Python 3 (ipykernel)",
   "language": "python",
   "name": "python3"
  },
  "language_info": {
   "codemirror_mode": {
    "name": "ipython",
    "version": 3
   },
   "file_extension": ".py",
   "mimetype": "text/x-python",
   "name": "python",
   "nbconvert_exporter": "python",
   "pygments_lexer": "ipython3",
   "version": "3.9.13"
  },
  "toc": {
   "base_numbering": 1,
   "nav_menu": {},
   "number_sections": true,
   "sideBar": true,
   "skip_h1_title": true,
   "title_cell": "Содержание",
   "title_sidebar": "Contents",
   "toc_cell": true,
   "toc_position": {},
   "toc_section_display": true,
   "toc_window_display": true
  }
 },
 "nbformat": 4,
 "nbformat_minor": 2
}
