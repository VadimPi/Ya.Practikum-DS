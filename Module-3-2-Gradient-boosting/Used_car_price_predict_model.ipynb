{
 "cells": [
  {
   "cell_type": "markdown",
   "metadata": {},
   "source": [
    "# Определение стоимости автомобилей"
   ]
  },
  {
   "cell_type": "markdown",
   "metadata": {},
   "source": [
    "Сервис по продаже автомобилей с пробегом «Не бит, не крашен» разрабатывает приложение для привлечения новых клиентов. В нём можно быстро узнать рыночную стоимость своего автомобиля. В вашем распоряжении исторические данные: технические характеристики, комплектации и цены автомобилей. Вам нужно построить модель для определения стоимости. \n",
    "\n",
    "Заказчику важны:\n",
    "\n",
    "- качество предсказания;\n",
    "- скорость предсказания;\n",
    "- время обучения."
   ]
  },
  {
   "cell_type": "markdown",
   "metadata": {},
   "source": [
    "### Цели по выполнению проекта\n",
    "Чтобы усилить исследование, не ограничивайтесь градиентным бустингом. Попробуйте более простые модели — иногда они работают лучше. Это редкие случаи, которые легко пропустить, если всегда применять только бустинг. Поэкспериментируйте и сравните характеристики моделей: скорость работы, точность результата.\n",
    "\n",
    "- Обучите разные модели. Для каждой попробуйте различные гиперпараметры.\n",
    "- Проанализируйте скорость работы и качество моделей.\n",
    "Примечания:\n",
    "- Для оценки качества моделей применяйте метрику RMSE.\n",
    "- Самостоятельно освойте библиотеку LightGBM и её средствами постройте модели градиентного бустинга.\n",
    "- Время выполнения ячейки кода Jupyter Notebook можно получить специальной командой. Найдите её.\n",
    "- Поскольку модель градиентного бустинга может обучаться долго, измените у неё только два-три параметра.\n",
    "- Если перестанет работать Jupyter Notebook, удалите лишние переменные оператором del:"
   ]
  },
  {
   "cell_type": "markdown",
   "metadata": {},
   "source": [
    "## Описание данных\n",
    "\n",
    "Признаки:\n",
    "- DateCrawled — дата скачивания анкеты из базы\n",
    "- VehicleType — тип автомобильного кузова\n",
    "- RegistrationYear — год регистрации автомобиля\n",
    "- Gearbox — тип коробки передач\n",
    "- Power — мощность (л. с.)\n",
    "- Model — модель автомобиля\n",
    "- Kilometer — пробег (км)\n",
    "- RegistrationMonth — месяц регистрации автомобиля\n",
    "- FuelType — тип топлива\n",
    "- Brand — марка автомобиля\n",
    "- NotRepaired — была машина в ремонте или нет\n",
    "- DateCreated — дата создания анкеты\n",
    "- NumberOfPictures — количество фотографий автомобиля\n",
    "- PostalCode — почтовый индекс владельца анкеты (пользователя)\n",
    "- LastSeen — дата последней активности пользователя\n",
    "\n",
    "Целевой признак\n",
    "- Price — цена (евро)"
   ]
  },
  {
   "cell_type": "markdown",
   "metadata": {},
   "source": [
    "## Подготовка данных"
   ]
  },
  {
   "cell_type": "code",
   "execution_count": 1,
   "metadata": {},
   "outputs": [
    {
     "name": "stdout",
     "output_type": "stream",
     "text": [
      "Defaulting to user installation because normal site-packages is not writeable\n",
      "Requirement already satisfied: optuna in c:\\users\\elitebook\\appdata\\roaming\\python\\python39\\site-packages (3.0.3)\n",
      "Requirement already satisfied: colorlog in c:\\users\\elitebook\\appdata\\roaming\\python\\python39\\site-packages (from optuna) (6.7.0)\n",
      "Requirement already satisfied: cliff in c:\\users\\elitebook\\appdata\\roaming\\python\\python39\\site-packages (from optuna) (4.0.0)\n",
      "Requirement already satisfied: sqlalchemy>=1.3.0 in c:\\programdata\\anaconda3\\lib\\site-packages (from optuna) (1.4.39)\n",
      "Requirement already satisfied: PyYAML in c:\\programdata\\anaconda3\\lib\\site-packages (from optuna) (6.0)\n",
      "Requirement already satisfied: alembic>=1.5.0 in c:\\users\\elitebook\\appdata\\roaming\\python\\python39\\site-packages (from optuna) (1.8.1)\n",
      "Requirement already satisfied: numpy in c:\\programdata\\anaconda3\\lib\\site-packages (from optuna) (1.21.5)\n",
      "Requirement already satisfied: tqdm in c:\\programdata\\anaconda3\\lib\\site-packages (from optuna) (4.64.1)\n",
      "Requirement already satisfied: cmaes>=0.8.2 in c:\\users\\elitebook\\appdata\\roaming\\python\\python39\\site-packages (from optuna) (0.8.2)\n",
      "Requirement already satisfied: packaging>=20.0 in c:\\programdata\\anaconda3\\lib\\site-packages (from optuna) (21.3)\n",
      "Requirement already satisfied: scipy<1.9.0,>=1.7.0 in c:\\users\\elitebook\\appdata\\roaming\\python\\python39\\site-packages (from optuna) (1.8.1)\n",
      "Requirement already satisfied: importlib-metadata<5.0.0 in c:\\programdata\\anaconda3\\lib\\site-packages (from optuna) (4.11.3)\n",
      "Requirement already satisfied: Mako in c:\\users\\elitebook\\appdata\\roaming\\python\\python39\\site-packages (from alembic>=1.5.0->optuna) (1.2.3)\n",
      "Requirement already satisfied: zipp>=0.5 in c:\\programdata\\anaconda3\\lib\\site-packages (from importlib-metadata<5.0.0->optuna) (3.8.0)\n",
      "Requirement already satisfied: pyparsing!=3.0.5,>=2.0.2 in c:\\programdata\\anaconda3\\lib\\site-packages (from packaging>=20.0->optuna) (3.0.9)\n",
      "Requirement already satisfied: greenlet!=0.4.17 in c:\\programdata\\anaconda3\\lib\\site-packages (from sqlalchemy>=1.3.0->optuna) (1.1.1)\n",
      "Requirement already satisfied: PrettyTable>=0.7.2 in c:\\users\\elitebook\\appdata\\roaming\\python\\python39\\site-packages (from cliff->optuna) (3.4.1)\n",
      "Requirement already satisfied: stevedore>=2.0.1 in c:\\users\\elitebook\\appdata\\roaming\\python\\python39\\site-packages (from cliff->optuna) (4.1.0)\n",
      "Requirement already satisfied: autopage>=0.4.0 in c:\\users\\elitebook\\appdata\\roaming\\python\\python39\\site-packages (from cliff->optuna) (0.5.1)\n",
      "Requirement already satisfied: cmd2>=1.0.0 in c:\\users\\elitebook\\appdata\\roaming\\python\\python39\\site-packages (from cliff->optuna) (2.4.2)\n",
      "Requirement already satisfied: colorama in c:\\programdata\\anaconda3\\lib\\site-packages (from colorlog->optuna) (0.4.5)\n",
      "Requirement already satisfied: pyperclip>=1.6 in c:\\users\\elitebook\\appdata\\roaming\\python\\python39\\site-packages (from cmd2>=1.0.0->cliff->optuna) (1.8.2)\n",
      "Requirement already satisfied: pyreadline3 in c:\\users\\elitebook\\appdata\\roaming\\python\\python39\\site-packages (from cmd2>=1.0.0->cliff->optuna) (3.4.1)\n",
      "Requirement already satisfied: attrs>=16.3.0 in c:\\programdata\\anaconda3\\lib\\site-packages (from cmd2>=1.0.0->cliff->optuna) (21.4.0)\n",
      "Requirement already satisfied: wcwidth>=0.1.7 in c:\\programdata\\anaconda3\\lib\\site-packages (from cmd2>=1.0.0->cliff->optuna) (0.2.5)\n",
      "Requirement already satisfied: pbr!=2.1.0,>=2.0.0 in c:\\users\\elitebook\\appdata\\roaming\\python\\python39\\site-packages (from stevedore>=2.0.1->cliff->optuna) (5.11.0)\n",
      "Requirement already satisfied: MarkupSafe>=0.9.2 in c:\\programdata\\anaconda3\\lib\\site-packages (from Mako->alembic>=1.5.0->optuna) (2.0.1)\n"
     ]
    }
   ],
   "source": [
    "!pip install optuna"
   ]
  },
  {
   "cell_type": "code",
   "execution_count": 2,
   "metadata": {},
   "outputs": [],
   "source": [
    "import matplotlib.pyplot as plt\n",
    "import numpy as np\n",
    "import pandas as pd\n",
    "\n",
    "from sklearn.dummy import DummyRegressor\n",
    "from sklearn.ensemble import RandomForestRegressor\n",
    "from sklearn.linear_model import LinearRegression\n",
    "from sklearn.model_selection import train_test_split\n",
    "from sklearn.metrics import mean_squared_error\n",
    "from sklearn.preprocessing import OrdinalEncoder, LabelEncoder\n",
    "\n",
    "import lightgbm as lgb\n",
    "\n",
    "import optuna\n",
    "import time\n",
    "\n",
    "STATE = 12345"
   ]
  },
  {
   "cell_type": "code",
   "execution_count": 3,
   "metadata": {
    "scrolled": false
   },
   "outputs": [
    {
     "name": "stdout",
     "output_type": "stream",
     "text": [
      "<class 'pandas.core.frame.DataFrame'>\n",
      "RangeIndex: 354369 entries, 0 to 354368\n",
      "Data columns (total 16 columns):\n",
      " #   Column             Non-Null Count   Dtype \n",
      "---  ------             --------------   ----- \n",
      " 0   DateCrawled        354369 non-null  object\n",
      " 1   Price              354369 non-null  int64 \n",
      " 2   VehicleType        316879 non-null  object\n",
      " 3   RegistrationYear   354369 non-null  int64 \n",
      " 4   Gearbox            334536 non-null  object\n",
      " 5   Power              354369 non-null  int64 \n",
      " 6   Model              334664 non-null  object\n",
      " 7   Kilometer          354369 non-null  int64 \n",
      " 8   RegistrationMonth  354369 non-null  int64 \n",
      " 9   FuelType           321474 non-null  object\n",
      " 10  Brand              354369 non-null  object\n",
      " 11  Repaired           283215 non-null  object\n",
      " 12  DateCreated        354369 non-null  int64 \n",
      " 13  NumberOfPictures   354369 non-null  int64 \n",
      " 14  PostalCode         354369 non-null  int64 \n",
      " 15  LastSeen           354369 non-null  object\n",
      "dtypes: int64(8), object(8)\n",
      "memory usage: 43.3+ MB\n"
     ]
    },
    {
     "data": {
      "text/plain": [
       "None"
      ]
     },
     "metadata": {},
     "output_type": "display_data"
    },
    {
     "data": {
      "text/html": [
       "<div>\n",
       "<style scoped>\n",
       "    .dataframe tbody tr th:only-of-type {\n",
       "        vertical-align: middle;\n",
       "    }\n",
       "\n",
       "    .dataframe tbody tr th {\n",
       "        vertical-align: top;\n",
       "    }\n",
       "\n",
       "    .dataframe thead th {\n",
       "        text-align: right;\n",
       "    }\n",
       "</style>\n",
       "<table border=\"1\" class=\"dataframe\">\n",
       "  <thead>\n",
       "    <tr style=\"text-align: right;\">\n",
       "      <th></th>\n",
       "      <th>DateCrawled</th>\n",
       "      <th>Price</th>\n",
       "      <th>VehicleType</th>\n",
       "      <th>RegistrationYear</th>\n",
       "      <th>Gearbox</th>\n",
       "      <th>Power</th>\n",
       "      <th>Model</th>\n",
       "      <th>Kilometer</th>\n",
       "      <th>RegistrationMonth</th>\n",
       "      <th>FuelType</th>\n",
       "      <th>Brand</th>\n",
       "      <th>Repaired</th>\n",
       "      <th>DateCreated</th>\n",
       "      <th>NumberOfPictures</th>\n",
       "      <th>PostalCode</th>\n",
       "      <th>LastSeen</th>\n",
       "    </tr>\n",
       "  </thead>\n",
       "  <tbody>\n",
       "    <tr>\n",
       "      <th>0</th>\n",
       "      <td>2016-03-24 11:52:17</td>\n",
       "      <td>480</td>\n",
       "      <td>NaN</td>\n",
       "      <td>1993</td>\n",
       "      <td>manual</td>\n",
       "      <td>0</td>\n",
       "      <td>golf</td>\n",
       "      <td>150000</td>\n",
       "      <td>0</td>\n",
       "      <td>petrol</td>\n",
       "      <td>volkswagen</td>\n",
       "      <td>NaN</td>\n",
       "      <td>3</td>\n",
       "      <td>0</td>\n",
       "      <td>70435</td>\n",
       "      <td>2016-04-07 03:16:57</td>\n",
       "    </tr>\n",
       "    <tr>\n",
       "      <th>1</th>\n",
       "      <td>2016-03-24 10:58:45</td>\n",
       "      <td>18300</td>\n",
       "      <td>coupe</td>\n",
       "      <td>2011</td>\n",
       "      <td>manual</td>\n",
       "      <td>190</td>\n",
       "      <td>NaN</td>\n",
       "      <td>125000</td>\n",
       "      <td>5</td>\n",
       "      <td>gasoline</td>\n",
       "      <td>audi</td>\n",
       "      <td>yes</td>\n",
       "      <td>3</td>\n",
       "      <td>0</td>\n",
       "      <td>66954</td>\n",
       "      <td>2016-04-07 01:46:50</td>\n",
       "    </tr>\n",
       "    <tr>\n",
       "      <th>2</th>\n",
       "      <td>2016-03-14 12:52:21</td>\n",
       "      <td>9800</td>\n",
       "      <td>suv</td>\n",
       "      <td>2004</td>\n",
       "      <td>auto</td>\n",
       "      <td>163</td>\n",
       "      <td>grand</td>\n",
       "      <td>125000</td>\n",
       "      <td>8</td>\n",
       "      <td>gasoline</td>\n",
       "      <td>jeep</td>\n",
       "      <td>NaN</td>\n",
       "      <td>3</td>\n",
       "      <td>0</td>\n",
       "      <td>90480</td>\n",
       "      <td>2016-04-05 12:47:46</td>\n",
       "    </tr>\n",
       "    <tr>\n",
       "      <th>3</th>\n",
       "      <td>2016-03-17 16:54:04</td>\n",
       "      <td>1500</td>\n",
       "      <td>small</td>\n",
       "      <td>2001</td>\n",
       "      <td>manual</td>\n",
       "      <td>75</td>\n",
       "      <td>golf</td>\n",
       "      <td>150000</td>\n",
       "      <td>6</td>\n",
       "      <td>petrol</td>\n",
       "      <td>volkswagen</td>\n",
       "      <td>no</td>\n",
       "      <td>3</td>\n",
       "      <td>0</td>\n",
       "      <td>91074</td>\n",
       "      <td>2016-03-17 17:40:17</td>\n",
       "    </tr>\n",
       "    <tr>\n",
       "      <th>4</th>\n",
       "      <td>2016-03-31 17:25:20</td>\n",
       "      <td>3600</td>\n",
       "      <td>small</td>\n",
       "      <td>2008</td>\n",
       "      <td>manual</td>\n",
       "      <td>69</td>\n",
       "      <td>fabia</td>\n",
       "      <td>90000</td>\n",
       "      <td>7</td>\n",
       "      <td>gasoline</td>\n",
       "      <td>skoda</td>\n",
       "      <td>no</td>\n",
       "      <td>3</td>\n",
       "      <td>0</td>\n",
       "      <td>60437</td>\n",
       "      <td>2016-04-06 10:17:21</td>\n",
       "    </tr>\n",
       "    <tr>\n",
       "      <th>5</th>\n",
       "      <td>2016-04-04 17:36:23</td>\n",
       "      <td>650</td>\n",
       "      <td>sedan</td>\n",
       "      <td>1995</td>\n",
       "      <td>manual</td>\n",
       "      <td>102</td>\n",
       "      <td>3er</td>\n",
       "      <td>150000</td>\n",
       "      <td>10</td>\n",
       "      <td>petrol</td>\n",
       "      <td>bmw</td>\n",
       "      <td>yes</td>\n",
       "      <td>4</td>\n",
       "      <td>0</td>\n",
       "      <td>33775</td>\n",
       "      <td>2016-04-06 19:17:07</td>\n",
       "    </tr>\n",
       "    <tr>\n",
       "      <th>6</th>\n",
       "      <td>2016-04-01 20:48:51</td>\n",
       "      <td>2200</td>\n",
       "      <td>convertible</td>\n",
       "      <td>2004</td>\n",
       "      <td>manual</td>\n",
       "      <td>109</td>\n",
       "      <td>2_reihe</td>\n",
       "      <td>150000</td>\n",
       "      <td>8</td>\n",
       "      <td>petrol</td>\n",
       "      <td>peugeot</td>\n",
       "      <td>no</td>\n",
       "      <td>4</td>\n",
       "      <td>0</td>\n",
       "      <td>67112</td>\n",
       "      <td>2016-04-05 18:18:39</td>\n",
       "    </tr>\n",
       "    <tr>\n",
       "      <th>7</th>\n",
       "      <td>2016-03-21 18:54:38</td>\n",
       "      <td>0</td>\n",
       "      <td>sedan</td>\n",
       "      <td>1980</td>\n",
       "      <td>manual</td>\n",
       "      <td>50</td>\n",
       "      <td>other</td>\n",
       "      <td>40000</td>\n",
       "      <td>7</td>\n",
       "      <td>petrol</td>\n",
       "      <td>volkswagen</td>\n",
       "      <td>no</td>\n",
       "      <td>3</td>\n",
       "      <td>0</td>\n",
       "      <td>19348</td>\n",
       "      <td>2016-03-25 16:47:58</td>\n",
       "    </tr>\n",
       "    <tr>\n",
       "      <th>8</th>\n",
       "      <td>2016-04-04 23:42:13</td>\n",
       "      <td>14500</td>\n",
       "      <td>bus</td>\n",
       "      <td>2014</td>\n",
       "      <td>manual</td>\n",
       "      <td>125</td>\n",
       "      <td>c_max</td>\n",
       "      <td>30000</td>\n",
       "      <td>8</td>\n",
       "      <td>petrol</td>\n",
       "      <td>ford</td>\n",
       "      <td>NaN</td>\n",
       "      <td>4</td>\n",
       "      <td>0</td>\n",
       "      <td>94505</td>\n",
       "      <td>2016-04-04 23:42:13</td>\n",
       "    </tr>\n",
       "    <tr>\n",
       "      <th>9</th>\n",
       "      <td>2016-03-17 10:53:50</td>\n",
       "      <td>999</td>\n",
       "      <td>small</td>\n",
       "      <td>1998</td>\n",
       "      <td>manual</td>\n",
       "      <td>101</td>\n",
       "      <td>golf</td>\n",
       "      <td>150000</td>\n",
       "      <td>0</td>\n",
       "      <td>NaN</td>\n",
       "      <td>volkswagen</td>\n",
       "      <td>NaN</td>\n",
       "      <td>3</td>\n",
       "      <td>0</td>\n",
       "      <td>27472</td>\n",
       "      <td>2016-03-31 17:17:06</td>\n",
       "    </tr>\n",
       "  </tbody>\n",
       "</table>\n",
       "</div>"
      ],
      "text/plain": [
       "           DateCrawled  Price  VehicleType  RegistrationYear Gearbox  Power  \\\n",
       "0  2016-03-24 11:52:17    480          NaN              1993  manual      0   \n",
       "1  2016-03-24 10:58:45  18300        coupe              2011  manual    190   \n",
       "2  2016-03-14 12:52:21   9800          suv              2004    auto    163   \n",
       "3  2016-03-17 16:54:04   1500        small              2001  manual     75   \n",
       "4  2016-03-31 17:25:20   3600        small              2008  manual     69   \n",
       "5  2016-04-04 17:36:23    650        sedan              1995  manual    102   \n",
       "6  2016-04-01 20:48:51   2200  convertible              2004  manual    109   \n",
       "7  2016-03-21 18:54:38      0        sedan              1980  manual     50   \n",
       "8  2016-04-04 23:42:13  14500          bus              2014  manual    125   \n",
       "9  2016-03-17 10:53:50    999        small              1998  manual    101   \n",
       "\n",
       "     Model  Kilometer  RegistrationMonth  FuelType       Brand Repaired  \\\n",
       "0     golf     150000                  0    petrol  volkswagen      NaN   \n",
       "1      NaN     125000                  5  gasoline        audi      yes   \n",
       "2    grand     125000                  8  gasoline        jeep      NaN   \n",
       "3     golf     150000                  6    petrol  volkswagen       no   \n",
       "4    fabia      90000                  7  gasoline       skoda       no   \n",
       "5      3er     150000                 10    petrol         bmw      yes   \n",
       "6  2_reihe     150000                  8    petrol     peugeot       no   \n",
       "7    other      40000                  7    petrol  volkswagen       no   \n",
       "8    c_max      30000                  8    petrol        ford      NaN   \n",
       "9     golf     150000                  0       NaN  volkswagen      NaN   \n",
       "\n",
       "   DateCreated  NumberOfPictures  PostalCode             LastSeen  \n",
       "0            3                 0       70435  2016-04-07 03:16:57  \n",
       "1            3                 0       66954  2016-04-07 01:46:50  \n",
       "2            3                 0       90480  2016-04-05 12:47:46  \n",
       "3            3                 0       91074  2016-03-17 17:40:17  \n",
       "4            3                 0       60437  2016-04-06 10:17:21  \n",
       "5            4                 0       33775  2016-04-06 19:17:07  \n",
       "6            4                 0       67112  2016-04-05 18:18:39  \n",
       "7            3                 0       19348  2016-03-25 16:47:58  \n",
       "8            4                 0       94505  2016-04-04 23:42:13  \n",
       "9            3                 0       27472  2016-03-31 17:17:06  "
      ]
     },
     "metadata": {},
     "output_type": "display_data"
    }
   ],
   "source": [
    "try:\n",
    "    df = pd.read_csv('/datasets/autos.csv', parse_dates=[12])\n",
    "except:\n",
    "    df = pd.read_csv(r'C:\\Users\\EliteBook\\Downloads\\autos.csv', parse_dates=[12])\n",
    "df['DateCreated'] = df['DateCreated'].dt.month\n",
    "display(df.info(), df.head(10))"
   ]
  },
  {
   "cell_type": "markdown",
   "metadata": {},
   "source": [
    "<div class=\"alert alert-success\">\n",
    "<h2> Комментарий ревьюера <a class=\"tocSkip\"> </h2>\n",
    "\n",
    "<b>Все отлично!👍:  </b> \n",
    "    \n",
    "Молодец, что не забываешь использовать конструкцию try... except...\n",
    "</div>"
   ]
  },
  {
   "cell_type": "code",
   "execution_count": 4,
   "metadata": {},
   "outputs": [],
   "source": [
    "# Удалим столбцы, которые по логике задачи не влияют на предсказания стоимости автомобиля\n",
    "df=df.drop(columns=['DateCrawled','NumberOfPictures','PostalCode', 'LastSeen'],axis=1)"
   ]
  },
  {
   "cell_type": "code",
   "execution_count": 5,
   "metadata": {},
   "outputs": [
    {
     "data": {
      "image/png": "[encoded data removed]",
      "text/plain": [
       "<Figure size 1000x500 with 1 Axes>"
      ]
     },
     "metadata": {},
     "output_type": "display_data"
    },
    {
     "data": {
      "image/png": "[encoded data removed]",
      "text/plain": [
       "<Figure size 1000x500 with 1 Axes>"
      ]
     },
     "metadata": {},
     "output_type": "display_data"
    }
   ],
   "source": [
    "# Изменения кода\n",
    "# Посмотрим на годовые тренды\n",
    "df.groupby('RegistrationMonth')['Price'].median().plot(figsize=(10,5), xlabel='RegistrationMonth', legend=True)\n",
    "plt.show()\n",
    "df.groupby('DateCreated')['Price'].median().plot(figsize=(10,5), xlabel='DateCreated', legend=True)\n",
    "plt.show()"
   ]
  },
  {
   "cell_type": "code",
   "execution_count": 7,
   "metadata": {},
   "outputs": [
    {
     "name": "stdout",
     "output_type": "stream",
     "text": [
      "<class 'pandas.core.frame.DataFrame'>\n",
      "RangeIndex: 273278 entries, 0 to 273277\n",
      "Data columns (total 12 columns):\n",
      " #   Column             Non-Null Count   Dtype  \n",
      "---  ------             --------------   -----  \n",
      " 0   Price              273278 non-null  int64  \n",
      " 1   VehicleType        273278 non-null  object \n",
      " 2   RegistrationYear   273278 non-null  float64\n",
      " 3   Gearbox            273278 non-null  object \n",
      " 4   Power              273278 non-null  float64\n",
      " 5   Model              273278 non-null  object \n",
      " 6   Kilometer          273278 non-null  int64  \n",
      " 7   RegistrationMonth  273278 non-null  int64  \n",
      " 8   FuelType           273278 non-null  object \n",
      " 9   Brand              273278 non-null  object \n",
      " 10  Repaired           273278 non-null  object \n",
      " 11  DateCreated        273278 non-null  int64  \n",
      "dtypes: float64(2), int64(4), object(6)\n",
      "memory usage: 25.0+ MB\n",
      "None\n"
     ]
    }
   ],
   "source": [
    "# Удалим выбросы вне квантилей 0.015 - 0.985\n",
    "# Изменения кода\n",
    "quantile= df.quantile([0.015, 0.985]).reset_index(drop=True)\n",
    "df.loc[df['Power']<=quantile.loc[0,'Power'],['Power']] = np.nan #df['Power'].median()\n",
    "df.loc[df['Power']>=quantile.loc[1,'Power'],['Power']] = np.nan #df['Power'].median()\n",
    "df.loc[df['RegistrationYear']<=quantile.loc[0,'RegistrationYear'],['RegistrationYear']] = np.nan #df['RegistrationYear'].median()\n",
    "df.loc[df['RegistrationYear']>=quantile.loc[1,'RegistrationYear'],['RegistrationYear']] = np.nan #df['RegistrationYear'].median()\n",
    "\n",
    "df['Repaired'] = df['Repaired'].fillna('unknow')\n",
    "df['Model'] = df['Model'].fillna('other')\n",
    "\n",
    "# Изменения кода\n",
    "#df=df.dropna(axis=0).reset_index(drop=True)\n",
    "def fillna_most_count(data, groupped, columns):\n",
    "    group = data[groupped].unique().tolist()\n",
    "    for gr in group:\n",
    "        for col in columns:\n",
    "            value = data.loc[data[groupped] == gr, col].value_counts(dropna=False).index[0]\n",
    "            data.loc[data[groupped] == gr, col] = data.loc[data[groupped] == gr, col].fillna(value=value)\n",
    "    return data\n",
    "\n",
    "df = fillna_most_count(df, 'Model',columns=['VehicleType','Gearbox','FuelType'])\n",
    "df=df.dropna(axis=0).reset_index(drop=True)\n",
    "print(df.info())\n"
   ]
  },
  {
   "cell_type": "code",
   "execution_count": 8,
   "metadata": {},
   "outputs": [
    {
     "name": "stdout",
     "output_type": "stream",
     "text": [
      "<class 'pandas.core.frame.DataFrame'>\n",
      "RangeIndex: 273278 entries, 0 to 273277\n",
      "Data columns (total 11 columns):\n",
      " #   Column             Non-Null Count   Dtype  \n",
      "---  ------             --------------   -----  \n",
      " 0   VehicleType        273278 non-null  object \n",
      " 1   RegistrationYear   273278 non-null  float64\n",
      " 2   Gearbox            273278 non-null  object \n",
      " 3   Power              273278 non-null  float64\n",
      " 4   Model              273278 non-null  object \n",
      " 5   Kilometer          273278 non-null  int64  \n",
      " 6   RegistrationMonth  273278 non-null  int64  \n",
      " 7   FuelType           273278 non-null  object \n",
      " 8   Brand              273278 non-null  object \n",
      " 9   Repaired           273278 non-null  object \n",
      " 10  DateCreated        273278 non-null  int64  \n",
      "dtypes: float64(2), int64(3), object(6)\n",
      "memory usage: 22.9+ MB\n"
     ]
    }
   ],
   "source": [
    "# Разделим данные на признаки и таргет\n",
    "# Отфильтруем категориальные признаки и переведем в числа методом OrdinalEncoder\n",
    "\n",
    "features = df.drop('Price',axis= 1)\n",
    "target = df['Price']\n",
    "\n",
    "#features_num = features.select_dtypes(['int64','float64'])\n",
    "#features_cat = features.select_dtypes('object').astype('category')\n",
    "\n",
    "#ordinal = OrdinalEncoder()\n",
    "#features_cat = pd.DataFrame(ordinal.fit_transform(features_cat),columns=features_cat.columns.tolist())\n",
    "\n",
    "#features = features_num.join(features_cat, on=features_cat.index) # Соединим категориальные и числовые колонки обратно в общуюю таблицу\n",
    "features.info()"
   ]
  },
  {
   "cell_type": "markdown",
   "metadata": {},
   "source": [
    "<div class=\"alert alert-success\">\n",
    "<h2> Комментарий ревьюера v.2 <a class=\"tocSkip\"> </h2>\n",
    "\n",
    "<b>Все отлично!👍:  </b> \n",
    "    \n",
    "Вижу, хорошо.\n",
    "</div>"
   ]
  },
  {
   "cell_type": "markdown",
   "metadata": {},
   "source": [
    "## Обучение моделей"
   ]
  },
  {
   "cell_type": "markdown",
   "metadata": {},
   "source": [
    "### Общee"
   ]
  },
  {
   "cell_type": "code",
   "execution_count": 9,
   "metadata": {},
   "outputs": [],
   "source": [
    "def rmse(target,preds):\n",
    "    return mean_squared_error(target, preds, squared=False)\n",
    "optuna.logging.set_verbosity(optuna.logging.ERROR)\n",
    "# Изменения кода\n",
    "# Выделяем валидационный сет из обучающего набора данных\n",
    "#X_train, X_vt, y_train, y_vt = train_test_split(features, target, test_size=0.4, random_state=STATE)\n",
    "#X_valid, X_test, y_valid, y_test = train_test_split(X_vt, y_vt, test_size=0.2, random_state=STATE)"
   ]
  },
  {
   "cell_type": "markdown",
   "metadata": {},
   "source": [
    "### LiteGBM + Optuna"
   ]
  },
  {
   "cell_type": "code",
   "execution_count": 10,
   "metadata": {},
   "outputs": [],
   "source": [
    "features_num = features.select_dtypes(['int64','float64'])\n",
    "features_cat = features.select_dtypes('object').astype('category')\n",
    "features = features_num.join(features_cat, on=features_cat.index) # Соединим категориальные и числовые колонки обратно в общуюю таблицу\n",
    "\n",
    "X_train, X_vt, y_train, y_vt = train_test_split(features, target, test_size=0.4, random_state=STATE)\n",
    "X_valid, X_test_1, y_valid, y_test_1 = train_test_split(X_vt, y_vt, test_size=0.2, random_state=STATE)"
   ]
  },
  {
   "cell_type": "code",
   "execution_count": 11,
   "metadata": {},
   "outputs": [],
   "source": [
    "def objective(trial, data=features, target=target):\n",
    "    feat_cat = features.select_dtypes('category').columns.tolist()\n",
    "    X_train, X_test, y_train, y_test = train_test_split(data, target, test_size=0.2, random_state=STATE-125)\n",
    "    # Выберем параметры, которые будем подбирать для модели, и запишем в переменную\n",
    "    # Изменения кода\n",
    "    params = {\n",
    "        'metric': 'rmse', \n",
    "        'random_state': STATE,\n",
    "        #'n_estimators' : 2000,\n",
    "        'learning_rate': trial.suggest_categorical('learning_rate', \n",
    "                                                   [0.005,0.006,0.008,0.01,0.015,0.02,0.03]),\n",
    "        'max_depth': trial.suggest_categorical('max_depth', [-1,10,15,20]),\n",
    "        'num_leaves' : 63\n",
    "    }\n",
    "    \n",
    "    model = lgb.LGBMRegressor(**params)\n",
    "    callbacks = [lgb.early_stopping(300, verbose=0), lgb.log_evaluation(period=0)] # Контроль переобучения\n",
    "    \n",
    "    # Обучаем модель      \n",
    "    model.fit(X_train, y_train, eval_set=[(X_test,y_test)], callbacks=callbacks)\n",
    "    preds = model.predict(X_test)\n",
    "    \n",
    "    #метрика RMSE\n",
    "    metric = rmse(y_test, preds)\n",
    "    \n",
    "    return metric\n"
   ]
  },
  {
   "cell_type": "code",
   "execution_count": 12,
   "metadata": {
    "scrolled": false
   },
   "outputs": [
    {
     "name": "stderr",
     "output_type": "stream",
     "text": [
      "C:\\ProgramData\\Anaconda3\\lib\\site-packages\\lightgbm\\basic.py:1780: UserWarning: Overriding the parameters from Reference Dataset.\n",
      "  _log_warning('Overriding the parameters from Reference Dataset.')\n",
      "C:\\ProgramData\\Anaconda3\\lib\\site-packages\\lightgbm\\basic.py:1513: UserWarning: categorical_column in param dict is overridden.\n",
      "  _log_warning(f'{cat_alias} in param dict is overridden.')\n",
      "C:\\ProgramData\\Anaconda3\\lib\\site-packages\\lightgbm\\basic.py:1780: UserWarning: Overriding the parameters from Reference Dataset.\n",
      "  _log_warning('Overriding the parameters from Reference Dataset.')\n",
      "C:\\ProgramData\\Anaconda3\\lib\\site-packages\\lightgbm\\basic.py:1513: UserWarning: categorical_column in param dict is overridden.\n",
      "  _log_warning(f'{cat_alias} in param dict is overridden.')\n",
      "C:\\ProgramData\\Anaconda3\\lib\\site-packages\\lightgbm\\basic.py:1780: UserWarning: Overriding the parameters from Reference Dataset.\n",
      "  _log_warning('Overriding the parameters from Reference Dataset.')\n",
      "C:\\ProgramData\\Anaconda3\\lib\\site-packages\\lightgbm\\basic.py:1513: UserWarning: categorical_column in param dict is overridden.\n",
      "  _log_warning(f'{cat_alias} in param dict is overridden.')\n",
      "C:\\ProgramData\\Anaconda3\\lib\\site-packages\\lightgbm\\basic.py:1780: UserWarning: Overriding the parameters from Reference Dataset.\n",
      "  _log_warning('Overriding the parameters from Reference Dataset.')\n",
      "C:\\ProgramData\\Anaconda3\\lib\\site-packages\\lightgbm\\basic.py:1513: UserWarning: categorical_column in param dict is overridden.\n",
      "  _log_warning(f'{cat_alias} in param dict is overridden.')\n",
      "C:\\ProgramData\\Anaconda3\\lib\\site-packages\\lightgbm\\basic.py:1780: UserWarning: Overriding the parameters from Reference Dataset.\n",
      "  _log_warning('Overriding the parameters from Reference Dataset.')\n",
      "C:\\ProgramData\\Anaconda3\\lib\\site-packages\\lightgbm\\basic.py:1513: UserWarning: categorical_column in param dict is overridden.\n",
      "  _log_warning(f'{cat_alias} in param dict is overridden.')\n",
      "C:\\ProgramData\\Anaconda3\\lib\\site-packages\\lightgbm\\basic.py:1780: UserWarning: Overriding the parameters from Reference Dataset.\n",
      "  _log_warning('Overriding the parameters from Reference Dataset.')\n",
      "C:\\ProgramData\\Anaconda3\\lib\\site-packages\\lightgbm\\basic.py:1513: UserWarning: categorical_column in param dict is overridden.\n",
      "  _log_warning(f'{cat_alias} in param dict is overridden.')\n"
     ]
    }
   ],
   "source": [
    "# Создаем задание для фреймворка\n",
    "t0=time.perf_counter()\n",
    "study_1 = optuna.create_study(direction='minimize')  # Минимизируем ошибку\n",
    "study_1.optimize(objective, n_trials=5)              # Количество итераций = 5\n",
    "t1=time.perf_counter()\n",
    "optuna_params = study_1.best_params                  # Сохраняем подобранные параметры\n",
    "\n",
    "optuna_params['metric'] = 'rmse'                     # Добавляем метрику\n",
    "optuna_params['random_state'] = STATE\n",
    "optuna_params['n_estimators'] = 1000\n",
    "optuna_params['reg_alpha'] = 0.09284842371017403,    # Подобрано через Optuna\n",
    "optuna_params['reg_lambda'] = 0.00251895685091536,   # Подобрано через Optuna\n",
    "optuna_params['subsample'] = 0.7                     # Подобрано через Optuna\n",
    "optuna_params['num_leaves'] = 63                     # Подобрано через Optuna\n",
    "\n",
    "# Создаем и обучаем модель с подобранными гиперпараметрами\n",
    "\n",
    "model_lgbm_optuna = lgb.LGBMRegressor(**optuna_params)\n",
    "callbacks = [lgb.early_stopping(300, verbose=0), lgb.log_evaluation(period=0)]\n",
    "model_lgbm_optuna.fit(X_train, y_train, eval_set=[(X_valid, y_valid)], callbacks=callbacks)\n",
    "t2=time.perf_counter()\n",
    "# Cоздаем предсказание и проверяем метрику\n",
    "pred_optuna = model_lgbm_optuna.predict(X_valid)\n",
    "result=rmse(y_valid, pred_optuna)\n",
    "t3=time.perf_counter()\n",
    "\n",
    "#print(f'''Model: LiteGBMRegressor\n",
    "#Time for parametrs optimization: {t1-t0}\n",
    "#Time for learning model: {t2-t1}\n",
    "#Time for predicted model:{t3-t2}\n",
    "#All hte time model is running: {t3-t0}\n",
    "#RMSE predictions: {result}\n",
    "#''')\n",
    "\n",
    "# Изменение кода\n",
    "# Преворк для сравнения моделей\n",
    "\n",
    "\n",
    "\n",
    "#study_1.best_params"
   ]
  },
  {
   "cell_type": "code",
   "execution_count": 13,
   "metadata": {},
   "outputs": [],
   "source": [
    "mt1 = t1-t0\n",
    "mt2 = t2-t1\n",
    "mt3 = t3-t2\n",
    "r1 = result"
   ]
  },
  {
   "cell_type": "markdown",
   "metadata": {},
   "source": [
    "### RandomForestRegressor+ Optuna"
   ]
  },
  {
   "cell_type": "code",
   "execution_count": 14,
   "metadata": {},
   "outputs": [],
   "source": [
    "features = df.drop('Price',axis= 1)\n",
    "target = df['Price']\n",
    "\n",
    "features_num = features.select_dtypes(['int64','float64'])\n",
    "features_cat = features.select_dtypes('object').astype('category')\n",
    "\n",
    "ordinal = OrdinalEncoder()\n",
    "features_cat = pd.DataFrame(ordinal.fit_transform(features_cat),columns=features_cat.columns.tolist())\n",
    "\n",
    "features = features_num.join(features_cat, on=features_cat.index) # Соединим категориальные и числовые колонки обратно в общуюю \n",
    "\n",
    "X_train, X_vt, y_train, y_vt = train_test_split(features, target, test_size=0.4, random_state=STATE)\n",
    "X_valid, X_test, y_valid, y_test = train_test_split(X_vt, y_vt, test_size=0.2, random_state=STATE)"
   ]
  },
  {
   "cell_type": "code",
   "execution_count": 15,
   "metadata": {},
   "outputs": [],
   "source": [
    "def objective(trial, data=features, target=target):\n",
    "    \n",
    "    X_train, X_test, y_train, y_test = train_test_split(data, target, test_size=0.2, random_state=STATE-125)\n",
    "    # Выберем параметры, которые будем подбирать для модели, и запишем в переменную\n",
    "    params = {\n",
    "        'random_state': STATE,\n",
    "        'n_estimators': 500,\n",
    "        'max_features': trial.suggest_categorical('max_features', ['log2', 'sqrt']),\n",
    "        'max_depth': trial.suggest_categorical('max_depth', [3,5,7,9,11,13,15,17,19])\n",
    "    }\n",
    "    \n",
    "    model = RandomForestRegressor(**params, verbose=0, n_jobs=-1)\n",
    "    \n",
    "    # Обучаем модель      \n",
    "    model.fit(X_train, y_train)\n",
    "    preds = model.predict(X_test)\n",
    "    \n",
    "    #метрика RMSE\n",
    "    metric = rmse(y_test, preds)\n",
    "    \n",
    "    return metric\n"
   ]
  },
  {
   "cell_type": "code",
   "execution_count": 16,
   "metadata": {
    "scrolled": true
   },
   "outputs": [],
   "source": [
    "# Создаем задание для фреймворка\n",
    "t0=time.perf_counter()\n",
    "\n",
    "study_2 = optuna.create_study(direction='minimize')  # Минимизируем ошибку\n",
    "study_2.optimize(objective, n_trials=5)              # Количество итераций = 5\n",
    "\n",
    "t1=time.perf_counter()\n",
    "optuna_params_2 = study_2.best_params                # Сохраняем подобранные параметры\n",
    "                \n",
    "optuna_params_2['random_state'] = STATE\n",
    "optuna_params_2['n_estimators'] = 500\n",
    "optuna_params_2['min_samples_split'] = 14            # Подобрано через Optuna\n",
    "optuna_params_2['min_samples_leaf'] = 5              # Подобрано через Optuna\n",
    "\n",
    "# Создаем и обучаем модель с подобранными гиперпараметрами\n",
    "model_rf_optuna = RandomForestRegressor(**optuna_params_2,  n_jobs=-1)\n",
    "model_rf_optuna.fit(X_train, y_train)\n",
    "\n",
    "t2=time.perf_counter()\n",
    "\n",
    "# Cоздаем предсказание и проверяем метрику\n",
    "pred_optuna = model_rf_optuna.predict(X_valid)\n",
    "result = rmse(y_valid, pred_optuna)\n",
    "\n",
    "t3=time.perf_counter()\n",
    "\n",
    "#print(f'''Model: RandomForestRegressor\n",
    "#Time for parametrs optimization: {t1-t0}\n",
    "#Time for learning model: {t2-t1}\n",
    "#Time for predicted model:{t3-t2}\n",
    "#All hte time model is running: {t3-t0}\n",
    "#RMSE predictions: {result}\n",
    "#''')\n",
    "\n",
    "# Изменение кода\n",
    "# Преворк для сравнения моделей\n",
    "\n"
   ]
  },
  {
   "cell_type": "code",
   "execution_count": 17,
   "metadata": {},
   "outputs": [],
   "source": [
    "mt12 = t1-t0\n",
    "mt22 = t2-t1\n",
    "mt32 = t3-t2\n",
    "r2 = result"
   ]
  },
  {
   "cell_type": "markdown",
   "metadata": {},
   "source": [
    "### LinearRegression"
   ]
  },
  {
   "cell_type": "code",
   "execution_count": 18,
   "metadata": {},
   "outputs": [
    {
     "name": "stdout",
     "output_type": "stream",
     "text": [
      "<class 'pandas.core.frame.DataFrame'>\n",
      "RangeIndex: 273278 entries, 0 to 273277\n",
      "Data columns (total 60 columns):\n",
      " #   Column                   Non-Null Count   Dtype  \n",
      "---  ------                   --------------   -----  \n",
      " 0   RegistrationYear         273278 non-null  float64\n",
      " 1   Power                    273278 non-null  float64\n",
      " 2   Kilometer                273278 non-null  int64  \n",
      " 3   RegistrationMonth        273278 non-null  int64  \n",
      " 4   DateCreated              273278 non-null  int64  \n",
      " 5   VehicleType_convertible  273278 non-null  int32  \n",
      " 6   VehicleType_coupe        273278 non-null  int32  \n",
      " 7   VehicleType_other        273278 non-null  int32  \n",
      " 8   VehicleType_sedan        273278 non-null  int32  \n",
      " 9   VehicleType_small        273278 non-null  int32  \n",
      " 10  VehicleType_suv          273278 non-null  int32  \n",
      " 11  VehicleType_wagon        273278 non-null  int32  \n",
      " 12  Gearbox_manual           273278 non-null  int32  \n",
      " 13  FuelType_electric        273278 non-null  int32  \n",
      " 14  FuelType_gasoline        273278 non-null  int32  \n",
      " 15  FuelType_hybrid          273278 non-null  int32  \n",
      " 16  FuelType_lpg             273278 non-null  int32  \n",
      " 17  FuelType_other           273278 non-null  int32  \n",
      " 18  FuelType_petrol          273278 non-null  int32  \n",
      " 19  Brand_audi               273278 non-null  int32  \n",
      " 20  Brand_bmw                273278 non-null  int32  \n",
      " 21  Brand_chevrolet          273278 non-null  int32  \n",
      " 22  Brand_chrysler           273278 non-null  int32  \n",
      " 23  Brand_citroen            273278 non-null  int32  \n",
      " 24  Brand_dacia              273278 non-null  int32  \n",
      " 25  Brand_daewoo             273278 non-null  int32  \n",
      " 26  Brand_daihatsu           273278 non-null  int32  \n",
      " 27  Brand_fiat               273278 non-null  int32  \n",
      " 28  Brand_ford               273278 non-null  int32  \n",
      " 29  Brand_honda              273278 non-null  int32  \n",
      " 30  Brand_hyundai            273278 non-null  int32  \n",
      " 31  Brand_jaguar             273278 non-null  int32  \n",
      " 32  Brand_jeep               273278 non-null  int32  \n",
      " 33  Brand_kia                273278 non-null  int32  \n",
      " 34  Brand_lada               273278 non-null  int32  \n",
      " 35  Brand_lancia             273278 non-null  int32  \n",
      " 36  Brand_land_rover         273278 non-null  int32  \n",
      " 37  Brand_mazda              273278 non-null  int32  \n",
      " 38  Brand_mercedes_benz      273278 non-null  int32  \n",
      " 39  Brand_mini               273278 non-null  int32  \n",
      " 40  Brand_mitsubishi         273278 non-null  int32  \n",
      " 41  Brand_nissan             273278 non-null  int32  \n",
      " 42  Brand_opel               273278 non-null  int32  \n",
      " 43  Brand_peugeot            273278 non-null  int32  \n",
      " 44  Brand_porsche            273278 non-null  int32  \n",
      " 45  Brand_renault            273278 non-null  int32  \n",
      " 46  Brand_rover              273278 non-null  int32  \n",
      " 47  Brand_saab               273278 non-null  int32  \n",
      " 48  Brand_seat               273278 non-null  int32  \n",
      " 49  Brand_skoda              273278 non-null  int32  \n",
      " 50  Brand_smart              273278 non-null  int32  \n",
      " 51  Brand_sonstige_autos     273278 non-null  int32  \n",
      " 52  Brand_subaru             273278 non-null  int32  \n",
      " 53  Brand_suzuki             273278 non-null  int32  \n",
      " 54  Brand_toyota             273278 non-null  int32  \n",
      " 55  Brand_trabant            273278 non-null  int32  \n",
      " 56  Brand_volkswagen         273278 non-null  int32  \n",
      " 57  Brand_volvo              273278 non-null  int32  \n",
      " 58  Repaired_unknow          273278 non-null  int32  \n",
      " 59  Repaired_yes             273278 non-null  int32  \n",
      "dtypes: float64(2), int32(55), int64(3)\n",
      "memory usage: 67.8 MB\n"
     ]
    }
   ],
   "source": [
    "# Разделим данные на признаки и таргет\n",
    "# Отфильтруем категориальные признаки и переведем в числа методом OrdinalEncoder\n",
    "\n",
    "features = df.drop('Price',axis= 1)\n",
    "target = df['Price']\n",
    "\n",
    "le = LabelEncoder()\n",
    "features['Model'] = le.fit_transform(features['Model'])\n",
    "\n",
    "features_num = features.select_dtypes(['int64','float64'])\n",
    "features_cat = features.select_dtypes('object')\n",
    "\n",
    "features_cat = pd.get_dummies(features_cat, drop_first=True).astype('int32')\n",
    "\n",
    "features = features_num.join(features_cat, on=features_cat.index) # Соединим категориальные и числовые колонки обратно в общуюю таблицу\n",
    "features.info()"
   ]
  },
  {
   "cell_type": "code",
   "execution_count": 19,
   "metadata": {},
   "outputs": [],
   "source": [
    "# Создаем и обучаем модель с подобранными гиперпараметрами\n",
    "t0=time.perf_counter()\n",
    "\n",
    "model_lr = LinearRegression(n_jobs=-1)\n",
    "model_lr.fit(X_train, y_train)\n",
    "\n",
    "t1=time.perf_counter()\n",
    "\n",
    "# Cоздаем предсказание и проверяем метрику\n",
    "pred_lr = model_lr.predict(X_valid)\n",
    "result = rmse(y_valid, pred_lr)\n",
    "\n",
    "t2=time.perf_counter()\n",
    "\n",
    "#print(f'''Model: LinearRegressian\n",
    "#Time for learning model: {t1-t0}\n",
    "#Time for predicted model:{t2-t1}\n",
    "#All hte time model is running: {t2-t0}\n",
    "#RMSE predictions: {result}\n",
    "#''')\n",
    "\n",
    "# Изменение кода\n",
    "# Преворк для сравнения моделей"
   ]
  },
  {
   "cell_type": "code",
   "execution_count": 20,
   "metadata": {},
   "outputs": [],
   "source": [
    "mt13 = 0\n",
    "mt23 = t1-t0\n",
    "mt33 = t2-t1\n",
    "r3 = result"
   ]
  },
  {
   "cell_type": "markdown",
   "metadata": {},
   "source": [
    "### Sanity test"
   ]
  },
  {
   "cell_type": "code",
   "execution_count": 21,
   "metadata": {},
   "outputs": [],
   "source": [
    "# Создаем и обучаем dummy модель \n",
    "model_dr = DummyRegressor(strategy='median')\n",
    "model_dr.fit(X_train, y_train)\n",
    "\n",
    "# Cоздаем предсказание и проверяем метрику\n",
    "pred_dr = model_dr.predict(X_test)\n",
    "result = rmse(y_test, pred_dr)\n",
    "\n",
    "#print(f'''Model: DummyRegressor\n",
    "#RMSE predictions: {result}\n",
    "#''')\n",
    "\n",
    "# Изменение кода\n",
    "# Преворк для сравнения моделей"
   ]
  },
  {
   "cell_type": "code",
   "execution_count": 22,
   "metadata": {},
   "outputs": [],
   "source": [
    "mt14 = 0\n",
    "mt24 = 0\n",
    "mt34 = 0\n",
    "r4 = result"
   ]
  },
  {
   "cell_type": "markdown",
   "metadata": {},
   "source": [
    "## Анализ моделей"
   ]
  },
  {
   "cell_type": "code",
   "execution_count": 23,
   "metadata": {},
   "outputs": [
    {
     "data": {
      "text/html": [
       "<div>\n",
       "<style scoped>\n",
       "    .dataframe tbody tr th:only-of-type {\n",
       "        vertical-align: middle;\n",
       "    }\n",
       "\n",
       "    .dataframe tbody tr th {\n",
       "        vertical-align: top;\n",
       "    }\n",
       "\n",
       "    .dataframe thead th {\n",
       "        text-align: right;\n",
       "    }\n",
       "</style>\n",
       "<table border=\"1\" class=\"dataframe\">\n",
       "  <thead>\n",
       "    <tr style=\"text-align: right;\">\n",
       "      <th></th>\n",
       "      <th>time_optimization (sec)</th>\n",
       "      <th>time_learning (sec)</th>\n",
       "      <th>time_predict (sec)</th>\n",
       "      <th>rmse_score</th>\n",
       "    </tr>\n",
       "    <tr>\n",
       "      <th>model_name</th>\n",
       "      <th></th>\n",
       "      <th></th>\n",
       "      <th></th>\n",
       "      <th></th>\n",
       "    </tr>\n",
       "  </thead>\n",
       "  <tbody>\n",
       "    <tr>\n",
       "      <th>LiteGBMRegressor</th>\n",
       "      <td>13.360631</td>\n",
       "      <td>12.563177</td>\n",
       "      <td>3.304563</td>\n",
       "      <td>1440.593641</td>\n",
       "    </tr>\n",
       "    <tr>\n",
       "      <th>RandomForestRegressor</th>\n",
       "      <td>258.360262</td>\n",
       "      <td>42.256738</td>\n",
       "      <td>3.225780</td>\n",
       "      <td>1532.435931</td>\n",
       "    </tr>\n",
       "    <tr>\n",
       "      <th>LinearRegression</th>\n",
       "      <td>0.000000</td>\n",
       "      <td>0.089584</td>\n",
       "      <td>0.041943</td>\n",
       "      <td>2494.930548</td>\n",
       "    </tr>\n",
       "    <tr>\n",
       "      <th>DummyRegressor</th>\n",
       "      <td>0.000000</td>\n",
       "      <td>0.000000</td>\n",
       "      <td>0.000000</td>\n",
       "      <td>4725.229239</td>\n",
       "    </tr>\n",
       "  </tbody>\n",
       "</table>\n",
       "</div>"
      ],
      "text/plain": [
       "                       time_optimization (sec)  time_learning (sec)  \\\n",
       "model_name                                                            \n",
       "LiteGBMRegressor                     13.360631            12.563177   \n",
       "RandomForestRegressor               258.360262            42.256738   \n",
       "LinearRegression                      0.000000             0.089584   \n",
       "DummyRegressor                        0.000000             0.000000   \n",
       "\n",
       "                       time_predict (sec)   rmse_score  \n",
       "model_name                                              \n",
       "LiteGBMRegressor                 3.304563  1440.593641  \n",
       "RandomForestRegressor            3.225780  1532.435931  \n",
       "LinearRegression                 0.041943  2494.930548  \n",
       "DummyRegressor                   0.000000  4725.229239  "
      ]
     },
     "metadata": {},
     "output_type": "display_data"
    }
   ],
   "source": [
    "# Изменение кода\n",
    "\n",
    "# Создадим и выведем таблицу для сравнения моделей\n",
    "model_tab = (pd.DataFrame(\n",
    "            [['LiteGBMRegressor', mt1, mt2, mt3, r1],\n",
    "    ['RandomForestRegressor', mt12, mt22, mt32, r2],\n",
    "    ['LinearRegression', mt13, mt23, mt33, r3,],\n",
    "    ['DummyRegressor', mt14, mt24, mt34, r4]],\n",
    "    columns=['model_name', 'time_optimization (sec)', 'time_learning (sec)', 'time_predict (sec)', 'rmse_score']\n",
    "    ).set_index('model_name')\n",
    "            )\n",
    "display(model_tab)"
   ]
  },
  {
   "cell_type": "code",
   "execution_count": 24,
   "metadata": {},
   "outputs": [
    {
     "data": {
      "text/html": [
       "<div>\n",
       "<style scoped>\n",
       "    .dataframe tbody tr th:only-of-type {\n",
       "        vertical-align: middle;\n",
       "    }\n",
       "\n",
       "    .dataframe tbody tr th {\n",
       "        vertical-align: top;\n",
       "    }\n",
       "\n",
       "    .dataframe thead th {\n",
       "        text-align: right;\n",
       "    }\n",
       "</style>\n",
       "<table border=\"1\" class=\"dataframe\">\n",
       "  <thead>\n",
       "    <tr style=\"text-align: right;\">\n",
       "      <th></th>\n",
       "      <th>time_optimization (sec)</th>\n",
       "      <th>time_learning (sec)</th>\n",
       "      <th>time_predict (sec)</th>\n",
       "      <th>rmse_score</th>\n",
       "    </tr>\n",
       "    <tr>\n",
       "      <th>model_name</th>\n",
       "      <th></th>\n",
       "      <th></th>\n",
       "      <th></th>\n",
       "      <th></th>\n",
       "    </tr>\n",
       "  </thead>\n",
       "  <tbody>\n",
       "    <tr>\n",
       "      <th>LiteGBMRegressor</th>\n",
       "      <td>33.856510</td>\n",
       "      <td>6.010502</td>\n",
       "      <td>3.109500</td>\n",
       "      <td>1417.774432</td>\n",
       "    </tr>\n",
       "    <tr>\n",
       "      <th>RandomForestRegressor</th>\n",
       "      <td>44.448087</td>\n",
       "      <td>6.777701</td>\n",
       "      <td>1.431388</td>\n",
       "      <td>1485.603326</td>\n",
       "    </tr>\n",
       "    <tr>\n",
       "      <th>LinearRegression</th>\n",
       "      <td>0.000000</td>\n",
       "      <td>0.028018</td>\n",
       "      <td>0.009941</td>\n",
       "      <td>2732.752592</td>\n",
       "    </tr>\n",
       "    <tr>\n",
       "      <th>DummyRegressor</th>\n",
       "      <td>0.000000</td>\n",
       "      <td>0.000000</td>\n",
       "      <td>0.000000</td>\n",
       "      <td>4831.637547</td>\n",
       "    </tr>\n",
       "  </tbody>\n",
       "</table>\n",
       "</div>"
      ],
      "text/plain": [
       "                       time_optimization (sec)  time_learning (sec)  \\\n",
       "model_name                                                            \n",
       "LiteGBMRegressor                     33.856510             6.010502   \n",
       "RandomForestRegressor                44.448087             6.777701   \n",
       "LinearRegression                      0.000000             0.028018   \n",
       "DummyRegressor                        0.000000             0.000000   \n",
       "\n",
       "                       time_predict (sec)   rmse_score  \n",
       "model_name                                              \n",
       "LiteGBMRegressor                 3.109500  1417.774432  \n",
       "RandomForestRegressor            1.431388  1485.603326  \n",
       "LinearRegression                 0.009941  2732.752592  \n",
       "DummyRegressor                   0.000000  4831.637547  "
      ]
     },
     "metadata": {},
     "output_type": "display_data"
    }
   ],
   "source": [
    "# Дублирую полученные данные, если не обработает\n",
    "model_tab = (pd.DataFrame(\n",
    "            [['LiteGBMRegressor', 33.856510, 6.010502, 3.109500, 1417.774432],\n",
    "    ['RandomForestRegressor', 44.448087, 6.777701, 1.431388, 1485.603326],\n",
    "    ['LinearRegression', 0, 0.028018, 0.009941, 2732.752592,],\n",
    "    ['DummyRegressor', 0, 0, 0, 4831.637547]],\n",
    "    columns=['model_name', 'time_optimization (sec)', 'time_learning (sec)', 'time_predict (sec)', 'rmse_score']\n",
    "    ).set_index('model_name')\n",
    "            )\n",
    "display(model_tab)"
   ]
  },
  {
   "cell_type": "markdown",
   "metadata": {},
   "source": [
    "Исходя из перебранных моделей, наиболее точной является модель градиентного бустинга LiteGBMRegressor, можно добиться лучшего показателя добавив гиперпараметров к перебору и количество итераций подбора параметров, но в рамках учебного выбора моделей ограничился текущими данными. Кроме того модель LiteGBMRegressor показала лучшее время на подборке гиперпараметров, обучении и предсказании по сравнению с RandomForestRegressor. Модель классической линейной регрессии показала значительно ниже результат RMSE, но значительно быстрее в работе чем указанные выше модели. В рамках задачи по предсказанию стоимости авто отклонение rmse в 2400 евро значительно.\n",
    "\n",
    "### Вывод \n",
    "\n",
    "Для предсказания стоимости автомобиля выбираем модель градиентного бустинга LiteGBMRegressor с подбором гиперпараметров Optuna. "
   ]
  },
  {
   "cell_type": "code",
   "execution_count": 25,
   "metadata": {},
   "outputs": [
    {
     "name": "stdout",
     "output_type": "stream",
     "text": [
      "Test LiteGBMRegressor\n",
      "Time for predicted model: 0.8388903000000028\n",
      "RMSE predictions: 1441.8587993294627\n",
      "\n"
     ]
    }
   ],
   "source": [
    "# Изменение кода\n",
    "\n",
    "# Проводим проверку выбранной модели на тестовой выборке\n",
    "t0=time.perf_counter()\n",
    "\n",
    "pred_optuna = model_lgbm_optuna.predict(X_test_1)\n",
    "result=rmse(y_test_1, pred_optuna)\n",
    "\n",
    "t1=time.perf_counter()\n",
    "\n",
    "print(f'''Test LiteGBMRegressor\n",
    "Time for predicted model: {t1-t0}\n",
    "RMSE predictions: {result}\n",
    "''')"
   ]
  },
  {
   "cell_type": "markdown",
   "metadata": {},
   "source": [
    "Test LiteGBMRegressor\n",
    "Time for predicted model:0.7207588999999928\n",
    "RMSE predictions: 1538.5364680314685"
   ]
  },
  {
   "cell_type": "code",
   "execution_count": 26,
   "metadata": {},
   "outputs": [
    {
     "data": {
      "image/png": "[encoded data removed]",
      "text/plain": [
       "<Figure size 1000x700 with 1 Axes>"
      ]
     },
     "metadata": {},
     "output_type": "display_data"
    }
   ],
   "source": [
    "feature_names = X_train.columns\n",
    "lgb.plot_importance(model_lgbm_optuna, figsize=(10,7), grid=False,)\n",
    "plt.show()"
   ]
  }
 ],
 "metadata": {
  "ExecuteTimeLog": [
   {
    "duration": 1313,
    "start_time": "2022-05-03T09:36:21.958Z"
   },
   {
    "duration": 897,
    "start_time": "2022-05-03T09:36:23.881Z"
   },
   {
    "duration": 895,
    "start_time": "2022-05-03T09:39:32.834Z"
   },
   {
    "duration": 27,
    "start_time": "2022-05-03T09:43:11.155Z"
   },
   {
    "duration": 94,
    "start_time": "2022-05-03T09:45:15.746Z"
   },
   {
    "duration": 20,
    "start_time": "2022-05-03T09:46:25.285Z"
   },
   {
    "duration": 2741,
    "start_time": "2022-05-03T09:49:16.332Z"
   },
   {
    "duration": 5,
    "start_time": "2022-05-03T09:54:41.249Z"
   },
   {
    "duration": 4,
    "start_time": "2022-05-03T09:55:15.586Z"
   },
   {
    "duration": 4,
    "start_time": "2022-05-03T09:55:28.358Z"
   },
   {
    "duration": 5,
    "start_time": "2022-05-03T09:55:35.254Z"
   },
   {
    "duration": 36,
    "start_time": "2022-05-03T09:56:48.712Z"
   },
   {
    "duration": 915,
    "start_time": "2022-05-03T09:57:01.291Z"
   },
   {
    "duration": 19,
    "start_time": "2022-05-03T10:01:00.080Z"
   },
   {
    "duration": 25,
    "start_time": "2022-05-03T10:02:03.680Z"
   },
   {
    "duration": 110,
    "start_time": "2022-05-03T10:11:37.392Z"
   },
   {
    "duration": 93,
    "start_time": "2022-05-03T10:14:02.139Z"
   },
   {
    "duration": 77,
    "start_time": "2022-05-03T10:14:49.548Z"
   },
   {
    "duration": 71,
    "start_time": "2022-05-03T10:15:05.350Z"
   },
   {
    "duration": 1093,
    "start_time": "2022-05-03T10:15:23.514Z"
   },
   {
    "duration": 941,
    "start_time": "2022-05-03T10:15:24.609Z"
   },
   {
    "duration": 85,
    "start_time": "2022-05-03T10:15:25.551Z"
   },
   {
    "duration": 91,
    "start_time": "2022-05-03T10:15:44.331Z"
   },
   {
    "duration": 92,
    "start_time": "2022-05-03T10:17:44.873Z"
   },
   {
    "duration": 97,
    "start_time": "2022-05-03T10:18:02.864Z"
   },
   {
    "duration": 77,
    "start_time": "2022-05-03T10:18:28.451Z"
   },
   {
    "duration": 79,
    "start_time": "2022-05-03T10:18:34.154Z"
   },
   {
    "duration": 75,
    "start_time": "2022-05-03T10:18:43.557Z"
   },
   {
    "duration": 78,
    "start_time": "2022-05-03T10:18:48.798Z"
   },
   {
    "duration": 79,
    "start_time": "2022-05-03T10:18:53.623Z"
   },
   {
    "duration": 97,
    "start_time": "2022-05-03T10:19:19.991Z"
   },
   {
    "duration": 82,
    "start_time": "2022-05-03T10:19:45.886Z"
   },
   {
    "duration": 93,
    "start_time": "2022-05-03T10:20:09.170Z"
   },
   {
    "duration": 193,
    "start_time": "2022-05-03T10:20:28.893Z"
   },
   {
    "duration": 85,
    "start_time": "2022-05-03T10:22:58.014Z"
   },
   {
    "duration": 23666,
    "start_time": "2022-05-03T10:24:16.003Z"
   },
   {
    "duration": 2213,
    "start_time": "2022-05-03T10:27:09.465Z"
   },
   {
    "duration": 116,
    "start_time": "2022-05-03T10:28:55.342Z"
   },
   {
    "duration": 2232,
    "start_time": "2022-05-03T10:29:05.204Z"
   },
   {
    "duration": 117,
    "start_time": "2022-05-03T10:30:50.770Z"
   },
   {
    "duration": 192,
    "start_time": "2022-05-03T10:31:03.271Z"
   },
   {
    "duration": 129,
    "start_time": "2022-05-03T10:31:17.397Z"
   },
   {
    "duration": 90,
    "start_time": "2022-05-03T10:31:32.740Z"
   },
   {
    "duration": 5461,
    "start_time": "2022-05-03T10:31:42.152Z"
   },
   {
    "duration": 3,
    "start_time": "2022-05-03T18:27:57.408Z"
   },
   {
    "duration": 931,
    "start_time": "2022-05-03T18:27:57.414Z"
   },
   {
    "duration": 51,
    "start_time": "2022-05-03T18:28:01.278Z"
   },
   {
    "duration": 1209,
    "start_time": "2022-05-03T18:28:21.996Z"
   },
   {
    "duration": 923,
    "start_time": "2022-05-03T18:28:23.207Z"
   },
   {
    "duration": 51,
    "start_time": "2022-05-03T18:28:27.497Z"
   },
   {
    "duration": 13447,
    "start_time": "2022-05-03T18:31:30.204Z"
   },
   {
    "duration": 13423,
    "start_time": "2022-05-03T18:32:13.743Z"
   },
   {
    "duration": 40302,
    "start_time": "2022-05-03T18:34:44.057Z"
   },
   {
    "duration": 3,
    "start_time": "2022-05-03T18:37:42.061Z"
   },
   {
    "duration": 181,
    "start_time": "2022-05-03T18:38:15.087Z"
   },
   {
    "duration": 97,
    "start_time": "2022-05-03T18:38:19.577Z"
   },
   {
    "duration": 1381,
    "start_time": "2022-05-04T16:25:45.780Z"
   },
   {
    "duration": 930,
    "start_time": "2022-05-04T16:25:47.164Z"
   },
   {
    "duration": 53,
    "start_time": "2022-05-04T16:25:48.097Z"
   },
   {
    "duration": 1244,
    "start_time": "2022-05-04T16:25:57.027Z"
   },
   {
    "duration": 12,
    "start_time": "2022-05-04T16:29:14.210Z"
   },
   {
    "duration": 9,
    "start_time": "2022-05-04T16:29:51.565Z"
   },
   {
    "duration": 195,
    "start_time": "2022-05-04T16:30:41.426Z"
   },
   {
    "duration": 974,
    "start_time": "2022-05-04T16:31:04.062Z"
   },
   {
    "duration": 53,
    "start_time": "2022-05-04T16:31:35.801Z"
   },
   {
    "duration": 55,
    "start_time": "2022-05-04T16:32:04.879Z"
   },
   {
    "duration": 9,
    "start_time": "2022-05-04T16:48:09.149Z"
   },
   {
    "duration": 275,
    "start_time": "2022-05-04T16:48:16.134Z"
   },
   {
    "duration": 1203,
    "start_time": "2022-05-04T16:49:16.181Z"
   },
   {
    "duration": 1670,
    "start_time": "2022-05-04T16:49:17.386Z"
   },
   {
    "duration": 47,
    "start_time": "2022-05-04T16:49:19.058Z"
   },
   {
    "duration": 294,
    "start_time": "2022-05-04T16:49:19.107Z"
   },
   {
    "duration": 172,
    "start_time": "2022-05-04T16:49:19.403Z"
   },
   {
    "duration": 112,
    "start_time": "2022-05-04T16:58:14.320Z"
   },
   {
    "duration": 201,
    "start_time": "2022-05-04T17:00:04.256Z"
   },
   {
    "duration": 143,
    "start_time": "2022-05-04T17:04:57.256Z"
   },
   {
    "duration": 3,
    "start_time": "2022-05-04T17:05:55.254Z"
   },
   {
    "duration": 134,
    "start_time": "2022-05-04T17:06:01.423Z"
   },
   {
    "duration": 15,
    "start_time": "2022-05-04T17:06:25.987Z"
   },
   {
    "duration": 125,
    "start_time": "2022-05-04T17:08:32.784Z"
   },
   {
    "duration": 128,
    "start_time": "2022-05-04T17:08:38.058Z"
   },
   {
    "duration": 19,
    "start_time": "2022-05-04T17:10:35.481Z"
   },
   {
    "duration": 1699,
    "start_time": "2022-05-04T17:15:16.201Z"
   },
   {
    "duration": 13,
    "start_time": "2022-05-04T17:16:30.688Z"
   },
   {
    "duration": 4179,
    "start_time": "2022-05-04T17:16:47.400Z"
   },
   {
    "duration": 6272,
    "start_time": "2022-05-04T17:18:35.878Z"
   },
   {
    "duration": 6072,
    "start_time": "2022-05-04T17:19:00.520Z"
   },
   {
    "duration": 156,
    "start_time": "2022-05-04T17:36:40.292Z"
   },
   {
    "duration": 150,
    "start_time": "2022-05-04T17:36:54.480Z"
   },
   {
    "duration": 144,
    "start_time": "2022-05-04T17:37:46.879Z"
   },
   {
    "duration": 139,
    "start_time": "2022-05-04T17:37:54.055Z"
   },
   {
    "duration": 152,
    "start_time": "2022-05-04T17:37:58.294Z"
   },
   {
    "duration": 147,
    "start_time": "2022-05-04T17:38:11.668Z"
   },
   {
    "duration": 152,
    "start_time": "2022-05-04T17:38:20.636Z"
   },
   {
    "duration": 150,
    "start_time": "2022-05-04T17:38:28.095Z"
   },
   {
    "duration": 142,
    "start_time": "2022-05-04T17:38:36.566Z"
   },
   {
    "duration": 143,
    "start_time": "2022-05-04T17:38:45.346Z"
   },
   {
    "duration": 142,
    "start_time": "2022-05-04T17:38:56.787Z"
   },
   {
    "duration": 145,
    "start_time": "2022-05-04T17:39:03.147Z"
   },
   {
    "duration": 146,
    "start_time": "2022-05-04T17:39:05.185Z"
   },
   {
    "duration": 2501,
    "start_time": "2022-05-04T17:39:37.804Z"
   },
   {
    "duration": 2616,
    "start_time": "2022-05-04T17:39:56.188Z"
   },
   {
    "duration": 2581,
    "start_time": "2022-05-04T17:40:29.106Z"
   },
   {
    "duration": 144,
    "start_time": "2022-05-04T17:41:04.284Z"
   },
   {
    "duration": 143,
    "start_time": "2022-05-04T17:41:11.135Z"
   },
   {
    "duration": 148,
    "start_time": "2022-05-04T17:41:16.152Z"
   },
   {
    "duration": 64,
    "start_time": "2022-05-04T17:49:08.674Z"
   },
   {
    "duration": 9,
    "start_time": "2022-05-04T17:49:25.642Z"
   },
   {
    "duration": 73,
    "start_time": "2022-05-04T17:49:36.883Z"
   },
   {
    "duration": 61,
    "start_time": "2022-05-04T17:50:03.924Z"
   },
   {
    "duration": 1442,
    "start_time": "2022-05-04T17:50:16.633Z"
   },
   {
    "duration": 2351,
    "start_time": "2022-05-04T17:50:18.077Z"
   },
   {
    "duration": 48,
    "start_time": "2022-05-04T17:50:20.433Z"
   },
   {
    "duration": 287,
    "start_time": "2022-05-04T17:50:20.483Z"
   },
   {
    "duration": 5901,
    "start_time": "2022-05-04T17:50:20.772Z"
   },
   {
    "duration": 79,
    "start_time": "2022-05-04T17:50:26.675Z"
   },
   {
    "duration": 64,
    "start_time": "2022-05-04T17:50:58.919Z"
   },
   {
    "duration": 144,
    "start_time": "2022-05-04T17:54:13.814Z"
   },
   {
    "duration": 2897,
    "start_time": "2022-05-04T17:56:03.349Z"
   },
   {
    "duration": 2697,
    "start_time": "2022-05-04T18:01:24.903Z"
   },
   {
    "duration": 1179,
    "start_time": "2022-05-04T18:02:17.489Z"
   },
   {
    "duration": 995,
    "start_time": "2022-05-04T18:02:18.671Z"
   },
   {
    "duration": 45,
    "start_time": "2022-05-04T18:02:19.669Z"
   },
   {
    "duration": 289,
    "start_time": "2022-05-04T18:02:19.717Z"
   },
   {
    "duration": 6633,
    "start_time": "2022-05-04T18:02:20.008Z"
   },
   {
    "duration": 2826,
    "start_time": "2022-05-04T18:02:29.710Z"
   },
   {
    "duration": 11,
    "start_time": "2022-05-04T18:03:25.870Z"
   },
   {
    "duration": 189,
    "start_time": "2022-05-04T18:03:43.658Z"
   },
   {
    "duration": 167,
    "start_time": "2022-05-04T18:03:47.848Z"
   },
   {
    "duration": 14,
    "start_time": "2022-05-04T18:04:12.141Z"
   },
   {
    "duration": 2850,
    "start_time": "2022-05-04T18:04:17.087Z"
   },
   {
    "duration": 48,
    "start_time": "2022-05-04T18:04:34.029Z"
   },
   {
    "duration": 173,
    "start_time": "2022-05-04T18:05:04.443Z"
   },
   {
    "duration": 37,
    "start_time": "2022-05-04T18:05:10.690Z"
   },
   {
    "duration": 18,
    "start_time": "2022-05-04T18:05:40.570Z"
   },
   {
    "duration": 18,
    "start_time": "2022-05-04T18:05:48.795Z"
   },
   {
    "duration": 42,
    "start_time": "2022-05-04T18:06:17.442Z"
   },
   {
    "duration": 38,
    "start_time": "2022-05-04T18:06:42.560Z"
   },
   {
    "duration": 38,
    "start_time": "2022-05-04T18:06:47.449Z"
   },
   {
    "duration": 59,
    "start_time": "2022-05-04T18:08:05.625Z"
   },
   {
    "duration": 54,
    "start_time": "2022-05-04T18:08:35.685Z"
   },
   {
    "duration": 35,
    "start_time": "2022-05-04T18:36:19.058Z"
   },
   {
    "duration": 2500,
    "start_time": "2022-05-04T18:40:18.915Z"
   },
   {
    "duration": 1371,
    "start_time": "2022-05-04T18:40:22.954Z"
   },
   {
    "duration": 50,
    "start_time": "2022-05-04T18:40:25.723Z"
   },
   {
    "duration": 347,
    "start_time": "2022-05-04T18:40:27.234Z"
   },
   {
    "duration": 556,
    "start_time": "2022-05-04T18:41:23.575Z"
   },
   {
    "duration": 155,
    "start_time": "2022-05-04T18:41:26.215Z"
   },
   {
    "duration": 4,
    "start_time": "2022-05-04T18:41:38.049Z"
   },
   {
    "duration": 4,
    "start_time": "2022-05-04T18:41:39.911Z"
   },
   {
    "duration": 5,
    "start_time": "2022-05-04T18:41:54.188Z"
   },
   {
    "duration": 1269,
    "start_time": "2022-05-04T18:42:09.206Z"
   },
   {
    "duration": 984,
    "start_time": "2022-05-04T18:42:10.478Z"
   },
   {
    "duration": 50,
    "start_time": "2022-05-04T18:42:11.464Z"
   },
   {
    "duration": 235,
    "start_time": "2022-05-04T18:42:11.517Z"
   },
   {
    "duration": 552,
    "start_time": "2022-05-04T18:42:11.754Z"
   },
   {
    "duration": 165,
    "start_time": "2022-05-04T18:42:12.308Z"
   },
   {
    "duration": 608,
    "start_time": "2022-05-04T18:43:53.364Z"
   },
   {
    "duration": 460,
    "start_time": "2022-05-04T18:44:09.080Z"
   },
   {
    "duration": 452,
    "start_time": "2022-05-04T18:44:26.243Z"
   },
   {
    "duration": 445,
    "start_time": "2022-05-04T18:45:27.553Z"
   },
   {
    "duration": 173,
    "start_time": "2022-05-04T18:47:46.846Z"
   },
   {
    "duration": 91,
    "start_time": "2022-05-04T18:48:22.968Z"
   },
   {
    "duration": 77,
    "start_time": "2022-05-04T18:49:50.474Z"
   },
   {
    "duration": 5,
    "start_time": "2022-05-04T18:51:42.929Z"
   },
   {
    "duration": 283,
    "start_time": "2022-05-04T18:51:47.671Z"
   },
   {
    "duration": 79,
    "start_time": "2022-05-04T18:54:16.566Z"
   },
   {
    "duration": 50,
    "start_time": "2022-05-04T18:54:40.100Z"
   },
   {
    "duration": 4413,
    "start_time": "2022-05-04T18:56:39.452Z"
   },
   {
    "duration": 1213,
    "start_time": "2022-05-04T19:01:03.165Z"
   },
   {
    "duration": 986,
    "start_time": "2022-05-04T19:01:04.380Z"
   },
   {
    "duration": 49,
    "start_time": "2022-05-04T19:01:05.367Z"
   },
   {
    "duration": 234,
    "start_time": "2022-05-04T19:01:05.418Z"
   },
   {
    "duration": 42040,
    "start_time": "2022-05-04T19:01:05.654Z"
   },
   {
    "duration": 55,
    "start_time": "2022-05-04T19:06:34.079Z"
   },
   {
    "duration": 42118,
    "start_time": "2022-05-04T19:06:42.407Z"
   },
   {
    "duration": 1316,
    "start_time": "2022-05-05T17:46:47.550Z"
   },
   {
    "duration": 957,
    "start_time": "2022-05-05T17:46:48.869Z"
   },
   {
    "duration": 52,
    "start_time": "2022-05-05T17:46:49.828Z"
   },
   {
    "duration": 64,
    "start_time": "2022-05-05T17:46:49.883Z"
   },
   {
    "duration": 39987,
    "start_time": "2022-05-05T17:46:49.949Z"
   },
   {
    "duration": 108,
    "start_time": "2022-05-05T17:47:29.939Z"
   },
   {
    "duration": 122,
    "start_time": "2022-05-05T17:48:48.319Z"
   },
   {
    "duration": 284,
    "start_time": "2022-05-05T17:50:10.481Z"
   },
   {
    "duration": 308,
    "start_time": "2022-05-05T17:51:32.210Z"
   },
   {
    "duration": 180,
    "start_time": "2022-05-05T17:53:47.302Z"
   },
   {
    "duration": 183,
    "start_time": "2022-05-05T17:53:54.998Z"
   },
   {
    "duration": 188,
    "start_time": "2022-05-05T17:53:59.802Z"
   },
   {
    "duration": 1157,
    "start_time": "2022-05-05T17:54:11.370Z"
   },
   {
    "duration": 945,
    "start_time": "2022-05-05T17:54:12.529Z"
   },
   {
    "duration": 51,
    "start_time": "2022-05-05T17:54:13.476Z"
   },
   {
    "duration": 77,
    "start_time": "2022-05-05T17:54:13.529Z"
   },
   {
    "duration": 279,
    "start_time": "2022-05-05T17:54:16.287Z"
   },
   {
    "duration": 18158,
    "start_time": "2022-05-05T17:56:34.616Z"
   },
   {
    "duration": 19115,
    "start_time": "2022-05-05T18:02:00.750Z"
   },
   {
    "duration": 44,
    "start_time": "2022-05-05T18:09:17.088Z"
   },
   {
    "duration": 200,
    "start_time": "2022-05-05T18:09:17.818Z"
   },
   {
    "duration": 21001,
    "start_time": "2022-05-05T18:09:19.236Z"
   },
   {
    "duration": 1132,
    "start_time": "2022-05-05T18:10:27.124Z"
   },
   {
    "duration": 994,
    "start_time": "2022-05-05T18:10:28.258Z"
   },
   {
    "duration": 61,
    "start_time": "2022-05-05T18:10:29.253Z"
   },
   {
    "duration": 80,
    "start_time": "2022-05-05T18:10:29.315Z"
   },
   {
    "duration": 275,
    "start_time": "2022-05-05T18:10:29.397Z"
   },
   {
    "duration": 16548,
    "start_time": "2022-05-05T18:10:29.673Z"
   },
   {
    "duration": 245,
    "start_time": "2022-05-05T18:11:26.847Z"
   },
   {
    "duration": 16613,
    "start_time": "2022-05-05T18:11:28.802Z"
   },
   {
    "duration": 2773,
    "start_time": "2022-05-07T18:33:22.158Z"
   },
   {
    "duration": 0,
    "start_time": "2022-05-07T18:33:24.934Z"
   },
   {
    "duration": 0,
    "start_time": "2022-05-07T18:33:24.936Z"
   },
   {
    "duration": 0,
    "start_time": "2022-05-07T18:33:24.938Z"
   },
   {
    "duration": 0,
    "start_time": "2022-05-07T18:33:24.951Z"
   },
   {
    "duration": 19,
    "start_time": "2022-05-07T18:33:25.542Z"
   },
   {
    "duration": 98,
    "start_time": "2022-05-07T18:33:26.715Z"
   },
   {
    "duration": 2202,
    "start_time": "2022-05-07T18:34:21.806Z"
   },
   {
    "duration": 0,
    "start_time": "2022-05-07T18:34:24.011Z"
   },
   {
    "duration": 0,
    "start_time": "2022-05-07T18:34:24.014Z"
   },
   {
    "duration": 0,
    "start_time": "2022-05-07T18:34:24.016Z"
   },
   {
    "duration": 0,
    "start_time": "2022-05-07T18:34:24.017Z"
   },
   {
    "duration": 0,
    "start_time": "2022-05-07T18:34:24.019Z"
   },
   {
    "duration": 0,
    "start_time": "2022-05-07T18:34:24.021Z"
   },
   {
    "duration": 12,
    "start_time": "2022-05-07T18:39:02.930Z"
   },
   {
    "duration": 103,
    "start_time": "2022-05-07T19:18:02.837Z"
   },
   {
    "duration": 2721,
    "start_time": "2022-05-09T11:05:56.705Z"
   },
   {
    "duration": 37,
    "start_time": "2022-05-09T11:06:14.873Z"
   },
   {
    "duration": 1592,
    "start_time": "2022-05-09T11:06:17.300Z"
   },
   {
    "duration": 107,
    "start_time": "2022-05-09T11:06:18.895Z"
   },
   {
    "duration": 121,
    "start_time": "2022-05-09T11:06:19.840Z"
   },
   {
    "duration": 412,
    "start_time": "2022-05-09T11:06:21.234Z"
   },
   {
    "duration": 23922,
    "start_time": "2022-05-09T11:06:22.941Z"
   },
   {
    "duration": 2447,
    "start_time": "2022-05-09T11:06:54.498Z"
   },
   {
    "duration": 3,
    "start_time": "2022-05-09T11:06:58.446Z"
   },
   {
    "duration": 64,
    "start_time": "2022-05-09T11:30:14.177Z"
   },
   {
    "duration": 6,
    "start_time": "2022-05-09T11:31:31.780Z"
   },
   {
    "duration": 61,
    "start_time": "2022-05-09T11:31:41.514Z"
   },
   {
    "duration": 6,
    "start_time": "2022-05-09T11:32:12.645Z"
   },
   {
    "duration": 445,
    "start_time": "2022-05-09T11:32:27.949Z"
   },
   {
    "duration": 6,
    "start_time": "2022-05-09T11:32:38.431Z"
   },
   {
    "duration": 193,
    "start_time": "2022-05-09T11:32:44.981Z"
   },
   {
    "duration": 5,
    "start_time": "2022-05-09T11:37:04.972Z"
   },
   {
    "duration": 41,
    "start_time": "2022-05-09T11:38:37.573Z"
   },
   {
    "duration": 259,
    "start_time": "2022-05-09T11:40:48.697Z"
   },
   {
    "duration": 16,
    "start_time": "2022-05-09T11:40:56.278Z"
   },
   {
    "duration": 114,
    "start_time": "2022-05-09T11:41:21.640Z"
   },
   {
    "duration": 9,
    "start_time": "2022-05-09T11:41:47.215Z"
   },
   {
    "duration": 1871,
    "start_time": "2022-05-10T09:20:43.337Z"
   },
   {
    "duration": 938,
    "start_time": "2022-05-10T09:20:45.439Z"
   },
   {
    "duration": 43,
    "start_time": "2022-05-10T09:20:47.632Z"
   },
   {
    "duration": 67,
    "start_time": "2022-05-10T09:20:49.249Z"
   },
   {
    "duration": 263,
    "start_time": "2022-05-10T09:20:52.185Z"
   },
   {
    "duration": 0,
    "start_time": "2022-05-10T09:21:29.768Z"
   },
   {
    "duration": 11448,
    "start_time": "2022-05-10T09:21:32.797Z"
   },
   {
    "duration": 12,
    "start_time": "2022-05-10T09:22:00.091Z"
   },
   {
    "duration": 11798,
    "start_time": "2022-05-10T09:22:21.595Z"
   },
   {
    "duration": 11800,
    "start_time": "2022-05-10T09:35:06.804Z"
   },
   {
    "duration": 10911,
    "start_time": "2022-05-10T12:05:11.696Z"
   },
   {
    "duration": 0,
    "start_time": "2022-05-10T12:05:22.703Z"
   },
   {
    "duration": 0,
    "start_time": "2022-05-10T12:05:22.704Z"
   },
   {
    "duration": 0,
    "start_time": "2022-05-10T12:05:22.705Z"
   },
   {
    "duration": 0,
    "start_time": "2022-05-10T12:05:22.706Z"
   },
   {
    "duration": 0,
    "start_time": "2022-05-10T12:05:22.707Z"
   },
   {
    "duration": 0,
    "start_time": "2022-05-10T12:05:22.793Z"
   },
   {
    "duration": 0,
    "start_time": "2022-05-10T12:05:22.796Z"
   },
   {
    "duration": 0,
    "start_time": "2022-05-10T12:05:22.797Z"
   },
   {
    "duration": 0,
    "start_time": "2022-05-10T12:05:22.803Z"
   },
   {
    "duration": 0,
    "start_time": "2022-05-10T12:05:22.806Z"
   },
   {
    "duration": 0,
    "start_time": "2022-05-10T12:05:22.807Z"
   },
   {
    "duration": 51197,
    "start_time": "2022-05-10T12:09:11.496Z"
   },
   {
    "duration": 3802,
    "start_time": "2022-05-10T12:10:02.700Z"
   },
   {
    "duration": 22497,
    "start_time": "2022-05-10T12:10:06.507Z"
   },
   {
    "duration": 490,
    "start_time": "2022-05-10T12:10:29.009Z"
   },
   {
    "duration": 2602,
    "start_time": "2022-05-10T12:10:29.503Z"
   },
   {
    "duration": 4790,
    "start_time": "2022-05-10T12:10:32.107Z"
   },
   {
    "duration": 405,
    "start_time": "2022-05-10T12:10:36.899Z"
   },
   {
    "duration": 13,
    "start_time": "2022-05-10T12:10:37.400Z"
   },
   {
    "duration": 13,
    "start_time": "2022-05-10T18:12:32.486Z"
   },
   {
    "duration": 49,
    "start_time": "2022-05-10T18:12:43.832Z"
   },
   {
    "duration": 0,
    "start_time": "2022-05-10T18:12:43.883Z"
   },
   {
    "duration": 0,
    "start_time": "2022-05-10T18:12:43.884Z"
   },
   {
    "duration": 0,
    "start_time": "2022-05-10T18:12:43.885Z"
   },
   {
    "duration": 0,
    "start_time": "2022-05-10T18:12:43.886Z"
   },
   {
    "duration": 8,
    "start_time": "2022-05-10T18:12:59.622Z"
   },
   {
    "duration": 1956,
    "start_time": "2022-05-10T18:13:08.466Z"
   },
   {
    "duration": 0,
    "start_time": "2022-05-10T18:13:10.425Z"
   },
   {
    "duration": 0,
    "start_time": "2022-05-10T18:13:10.426Z"
   },
   {
    "duration": 0,
    "start_time": "2022-05-10T18:13:10.427Z"
   },
   {
    "duration": 0,
    "start_time": "2022-05-10T18:13:10.428Z"
   },
   {
    "duration": 0,
    "start_time": "2022-05-10T18:13:10.430Z"
   },
   {
    "duration": 0,
    "start_time": "2022-05-10T18:13:10.431Z"
   },
   {
    "duration": 0,
    "start_time": "2022-05-10T18:13:10.432Z"
   },
   {
    "duration": 0,
    "start_time": "2022-05-10T18:13:10.437Z"
   },
   {
    "duration": 0,
    "start_time": "2022-05-10T18:13:10.439Z"
   },
   {
    "duration": 0,
    "start_time": "2022-05-10T18:13:10.440Z"
   },
   {
    "duration": 0,
    "start_time": "2022-05-10T18:13:10.441Z"
   },
   {
    "duration": 19209,
    "start_time": "2022-05-10T18:14:09.823Z"
   },
   {
    "duration": 2112,
    "start_time": "2022-05-10T18:14:29.034Z"
   },
   {
    "duration": 101,
    "start_time": "2022-05-10T18:14:31.148Z"
   },
   {
    "duration": 605,
    "start_time": "2022-05-10T18:14:31.251Z"
   },
   {
    "duration": 966,
    "start_time": "2022-05-10T18:14:31.860Z"
   },
   {
    "duration": 115,
    "start_time": "2022-05-10T18:14:32.828Z"
   },
   {
    "duration": 9,
    "start_time": "2022-05-10T18:14:32.946Z"
   },
   {
    "duration": 262398,
    "start_time": "2022-05-10T18:14:32.957Z"
   },
   {
    "duration": 0,
    "start_time": "2022-05-10T18:18:55.357Z"
   },
   {
    "duration": 0,
    "start_time": "2022-05-10T18:18:55.360Z"
   },
   {
    "duration": 0,
    "start_time": "2022-05-10T18:18:55.361Z"
   },
   {
    "duration": 0,
    "start_time": "2022-05-10T18:18:55.363Z"
   },
   {
    "duration": 396041,
    "start_time": "2022-05-10T18:19:38.588Z"
   },
   {
    "duration": 16,
    "start_time": "2022-05-10T18:26:27.307Z"
   },
   {
    "duration": 270070,
    "start_time": "2022-05-10T18:26:32.959Z"
   },
   {
    "duration": 99,
    "start_time": "2022-05-10T18:31:56.424Z"
   },
   {
    "duration": 31,
    "start_time": "2022-05-10T19:06:59.011Z"
   },
   {
    "duration": 4023,
    "start_time": "2022-05-10T19:07:32.413Z"
   },
   {
    "duration": 7316,
    "start_time": "2022-05-10T19:07:36.438Z"
   },
   {
    "duration": 166,
    "start_time": "2022-05-10T19:07:43.757Z"
   },
   {
    "duration": 928,
    "start_time": "2022-05-10T19:07:43.927Z"
   },
   {
    "duration": 1488,
    "start_time": "2022-05-10T19:07:44.858Z"
   },
   {
    "duration": 111,
    "start_time": "2022-05-10T19:07:46.348Z"
   },
   {
    "duration": 64,
    "start_time": "2022-05-10T19:07:46.461Z"
   },
   {
    "duration": 2516,
    "start_time": "2022-05-12T09:17:53.463Z"
   },
   {
    "duration": 1013,
    "start_time": "2022-05-12T09:17:59.074Z"
   },
   {
    "duration": 999,
    "start_time": "2022-05-12T09:19:34.290Z"
   },
   {
    "duration": 990,
    "start_time": "2022-05-12T09:19:50.962Z"
   },
   {
    "duration": 981,
    "start_time": "2022-05-12T09:20:03.117Z"
   },
   {
    "duration": 959,
    "start_time": "2022-05-12T09:20:31.629Z"
   },
   {
    "duration": 981,
    "start_time": "2022-05-12T09:21:23.824Z"
   },
   {
    "duration": 1103,
    "start_time": "2022-05-12T09:22:18.380Z"
   },
   {
    "duration": 1046,
    "start_time": "2022-05-12T09:22:34.860Z"
   },
   {
    "duration": 1024,
    "start_time": "2022-05-12T09:23:10.173Z"
   },
   {
    "duration": 884,
    "start_time": "2022-05-12T09:23:27.253Z"
   },
   {
    "duration": 1017,
    "start_time": "2022-05-12T09:23:32.037Z"
   },
   {
    "duration": 53,
    "start_time": "2022-05-12T09:23:57.373Z"
   },
   {
    "duration": 276,
    "start_time": "2022-05-12T09:24:02.425Z"
   },
   {
    "duration": 234,
    "start_time": "2022-05-12T09:27:23.715Z"
   },
   {
    "duration": 226,
    "start_time": "2022-05-12T09:27:33.819Z"
   },
   {
    "duration": 239,
    "start_time": "2022-05-12T09:29:34.354Z"
   },
   {
    "duration": 42172,
    "start_time": "2022-05-12T09:31:18.263Z"
   },
   {
    "duration": 41614,
    "start_time": "2022-05-12T09:32:33.498Z"
   },
   {
    "duration": 166,
    "start_time": "2022-05-12T09:36:09.019Z"
   },
   {
    "duration": 130,
    "start_time": "2022-05-12T09:36:28.656Z"
   },
   {
    "duration": 353,
    "start_time": "2022-05-12T09:37:27.723Z"
   },
   {
    "duration": 256,
    "start_time": "2022-05-12T09:37:53.299Z"
   },
   {
    "duration": 286,
    "start_time": "2022-05-12T09:38:19.430Z"
   },
   {
    "duration": 568,
    "start_time": "2022-05-12T09:38:56.716Z"
   },
   {
    "duration": 115,
    "start_time": "2022-05-12T17:15:10.606Z"
   },
   {
    "duration": 15,
    "start_time": "2022-05-12T17:15:17.850Z"
   },
   {
    "duration": 2746,
    "start_time": "2022-05-12T17:15:25.120Z"
   },
   {
    "duration": 1878,
    "start_time": "2022-05-12T17:15:27.869Z"
   },
   {
    "duration": 85,
    "start_time": "2022-05-12T17:15:32.270Z"
   },
   {
    "duration": 717,
    "start_time": "2022-05-12T17:15:38.695Z"
   },
   {
    "duration": 76274,
    "start_time": "2022-05-12T17:15:40.642Z"
   },
   {
    "duration": 2024,
    "start_time": "2022-05-14T16:14:16.627Z"
   },
   {
    "duration": 0,
    "start_time": "2022-05-14T16:14:18.655Z"
   },
   {
    "duration": 0,
    "start_time": "2022-05-14T16:14:18.657Z"
   },
   {
    "duration": 0,
    "start_time": "2022-05-14T16:14:18.659Z"
   },
   {
    "duration": 0,
    "start_time": "2022-05-14T16:14:18.661Z"
   },
   {
    "duration": 0,
    "start_time": "2022-05-14T16:14:18.662Z"
   },
   {
    "duration": 0,
    "start_time": "2022-05-14T16:14:18.664Z"
   },
   {
    "duration": 0,
    "start_time": "2022-05-14T16:14:18.666Z"
   },
   {
    "duration": 0,
    "start_time": "2022-05-14T16:14:18.667Z"
   },
   {
    "duration": 0,
    "start_time": "2022-05-14T16:14:18.669Z"
   },
   {
    "duration": 0,
    "start_time": "2022-05-14T16:14:18.670Z"
   },
   {
    "duration": 0,
    "start_time": "2022-05-14T16:14:18.673Z"
   },
   {
    "duration": 0,
    "start_time": "2022-05-14T16:14:18.674Z"
   },
   {
    "duration": 0,
    "start_time": "2022-05-14T16:14:18.676Z"
   },
   {
    "duration": 0,
    "start_time": "2022-05-14T16:14:18.677Z"
   },
   {
    "duration": 0,
    "start_time": "2022-05-14T16:14:18.679Z"
   },
   {
    "duration": 0,
    "start_time": "2022-05-14T16:14:18.681Z"
   },
   {
    "duration": 0,
    "start_time": "2022-05-14T16:14:18.682Z"
   },
   {
    "duration": 0,
    "start_time": "2022-05-14T16:14:18.684Z"
   },
   {
    "duration": 0,
    "start_time": "2022-05-14T16:14:18.685Z"
   },
   {
    "duration": 17953,
    "start_time": "2022-05-14T17:14:16.716Z"
   },
   {
    "duration": 4400,
    "start_time": "2022-05-14T17:14:34.671Z"
   },
   {
    "duration": 204,
    "start_time": "2022-05-14T17:14:39.073Z"
   },
   {
    "duration": 0,
    "start_time": "2022-05-14T17:14:39.280Z"
   },
   {
    "duration": 0,
    "start_time": "2022-05-14T17:14:39.281Z"
   },
   {
    "duration": 0,
    "start_time": "2022-05-14T17:14:39.283Z"
   },
   {
    "duration": 0,
    "start_time": "2022-05-14T17:14:39.285Z"
   },
   {
    "duration": 0,
    "start_time": "2022-05-14T17:14:39.286Z"
   },
   {
    "duration": 0,
    "start_time": "2022-05-14T17:14:39.288Z"
   },
   {
    "duration": 1,
    "start_time": "2022-05-14T17:14:39.289Z"
   },
   {
    "duration": 0,
    "start_time": "2022-05-14T17:14:39.291Z"
   },
   {
    "duration": 0,
    "start_time": "2022-05-14T17:14:39.292Z"
   },
   {
    "duration": 0,
    "start_time": "2022-05-14T17:14:39.294Z"
   },
   {
    "duration": 0,
    "start_time": "2022-05-14T17:14:39.296Z"
   },
   {
    "duration": 0,
    "start_time": "2022-05-14T17:14:39.298Z"
   },
   {
    "duration": 0,
    "start_time": "2022-05-14T17:14:39.352Z"
   },
   {
    "duration": 0,
    "start_time": "2022-05-14T17:14:39.354Z"
   },
   {
    "duration": 0,
    "start_time": "2022-05-14T17:14:39.356Z"
   },
   {
    "duration": 0,
    "start_time": "2022-05-14T17:14:39.358Z"
   },
   {
    "duration": 0,
    "start_time": "2022-05-14T17:14:39.359Z"
   },
   {
    "duration": 0,
    "start_time": "2022-05-14T17:14:39.361Z"
   },
   {
    "duration": 0,
    "start_time": "2022-05-14T17:14:39.362Z"
   },
   {
    "duration": 6,
    "start_time": "2022-05-14T17:21:46.398Z"
   },
   {
    "duration": 202,
    "start_time": "2022-05-14T17:21:50.934Z"
   },
   {
    "duration": 20,
    "start_time": "2022-05-14T17:22:10.127Z"
   },
   {
    "duration": 6,
    "start_time": "2022-05-14T17:22:16.638Z"
   },
   {
    "duration": 1329,
    "start_time": "2022-05-14T17:22:17.811Z"
   },
   {
    "duration": 88,
    "start_time": "2022-05-14T17:22:20.642Z"
   },
   {
    "duration": 513,
    "start_time": "2022-05-14T17:22:23.138Z"
   },
   {
    "duration": 62759,
    "start_time": "2022-05-14T17:22:23.654Z"
   },
   {
    "duration": 29,
    "start_time": "2022-05-14T17:23:26.424Z"
   },
   {
    "duration": 105,
    "start_time": "2022-05-14T17:31:37.835Z"
   },
   {
    "duration": 84,
    "start_time": "2022-05-14T17:32:47.139Z"
   },
   {
    "duration": 101,
    "start_time": "2022-05-14T17:36:02.847Z"
   },
   {
    "duration": 3590,
    "start_time": "2022-05-14T17:46:33.134Z"
   },
   {
    "duration": 2447,
    "start_time": "2022-05-14T17:46:36.727Z"
   },
   {
    "duration": 1343,
    "start_time": "2022-05-14T17:46:39.176Z"
   },
   {
    "duration": 89,
    "start_time": "2022-05-14T17:46:40.523Z"
   },
   {
    "duration": 503,
    "start_time": "2022-05-14T17:46:40.614Z"
   },
   {
    "duration": 64522,
    "start_time": "2022-05-14T17:46:41.120Z"
   },
   {
    "duration": 858,
    "start_time": "2022-05-14T17:47:45.644Z"
   },
   {
    "duration": 123,
    "start_time": "2022-05-14T17:47:46.505Z"
   },
   {
    "duration": 9,
    "start_time": "2022-05-14T17:47:46.630Z"
   },
   {
    "duration": 1688732,
    "start_time": "2022-05-14T17:47:46.651Z"
   },
   {
    "duration": 4,
    "start_time": "2022-05-14T18:15:55.385Z"
   },
   {
    "duration": 7,
    "start_time": "2022-05-14T18:15:55.391Z"
   },
   {
    "duration": 3563,
    "start_time": "2022-05-14T18:37:46.448Z"
   },
   {
    "duration": 2587,
    "start_time": "2022-05-14T18:37:50.014Z"
   },
   {
    "duration": 1324,
    "start_time": "2022-05-14T18:37:52.604Z"
   },
   {
    "duration": 93,
    "start_time": "2022-05-14T18:37:53.931Z"
   },
   {
    "duration": 492,
    "start_time": "2022-05-14T18:37:54.026Z"
   },
   {
    "duration": 60989,
    "start_time": "2022-05-14T18:37:54.521Z"
   },
   {
    "duration": 788,
    "start_time": "2022-05-14T18:38:55.512Z"
   },
   {
    "duration": 116,
    "start_time": "2022-05-14T18:38:56.302Z"
   },
   {
    "duration": 8,
    "start_time": "2022-05-14T18:38:56.420Z"
   },
   {
    "duration": 1584818,
    "start_time": "2022-05-14T18:38:56.434Z"
   },
   {
    "duration": 4,
    "start_time": "2022-05-14T19:05:21.254Z"
   },
   {
    "duration": 13,
    "start_time": "2022-05-14T19:05:21.260Z"
   },
   {
    "duration": 102,
    "start_time": "2022-05-14T19:38:44.511Z"
   },
   {
    "duration": 7984,
    "start_time": "2022-05-16T09:27:58.177Z"
   },
   {
    "duration": 1886,
    "start_time": "2022-05-16T09:28:06.164Z"
   },
   {
    "duration": 1058,
    "start_time": "2022-05-16T09:28:08.052Z"
   },
   {
    "duration": 81,
    "start_time": "2022-05-16T09:28:09.112Z"
   },
   {
    "duration": 266,
    "start_time": "2022-05-16T09:28:09.195Z"
   },
   {
    "duration": 39943,
    "start_time": "2022-05-16T09:28:09.463Z"
   },
   {
    "duration": 487,
    "start_time": "2022-05-16T09:28:49.407Z"
   },
   {
    "duration": 116,
    "start_time": "2022-05-16T09:28:49.896Z"
   },
   {
    "duration": 5,
    "start_time": "2022-05-16T09:28:50.014Z"
   },
   {
    "duration": 156369,
    "start_time": "2022-05-16T09:28:50.022Z"
   },
   {
    "duration": 2,
    "start_time": "2022-05-16T09:31:26.393Z"
   },
   {
    "duration": 8,
    "start_time": "2022-05-16T09:31:26.397Z"
   },
   {
    "duration": 2380,
    "start_time": "2022-05-16T10:13:42.327Z"
   },
   {
    "duration": 1955,
    "start_time": "2022-05-16T10:13:44.710Z"
   },
   {
    "duration": 1006,
    "start_time": "2022-05-16T10:13:46.667Z"
   },
   {
    "duration": 60,
    "start_time": "2022-05-16T10:13:47.675Z"
   },
   {
    "duration": 286,
    "start_time": "2022-05-16T10:13:47.736Z"
   },
   {
    "duration": 40961,
    "start_time": "2022-05-16T10:13:48.023Z"
   },
   {
    "duration": 483,
    "start_time": "2022-05-16T10:14:28.986Z"
   },
   {
    "duration": 99,
    "start_time": "2022-05-16T10:14:29.471Z"
   },
   {
    "duration": 5,
    "start_time": "2022-05-16T10:14:29.572Z"
   },
   {
    "duration": 164605,
    "start_time": "2022-05-16T10:14:29.579Z"
   },
   {
    "duration": 2,
    "start_time": "2022-05-16T10:17:14.186Z"
   },
   {
    "duration": 14,
    "start_time": "2022-05-16T10:17:14.190Z"
   },
   {
    "duration": 316427,
    "start_time": "2022-05-16T10:17:14.205Z"
   },
   {
    "duration": 3,
    "start_time": "2022-05-16T10:22:30.634Z"
   },
   {
    "duration": 226,
    "start_time": "2022-05-16T10:22:30.638Z"
   },
   {
    "duration": 3,
    "start_time": "2022-05-16T10:22:30.866Z"
   },
   {
    "duration": 50,
    "start_time": "2022-05-16T10:22:30.870Z"
   },
   {
    "duration": 13,
    "start_time": "2022-05-16T10:22:30.922Z"
   },
   {
    "duration": 25,
    "start_time": "2022-05-16T10:22:30.937Z"
   },
   {
    "duration": 44,
    "start_time": "2022-05-16T10:22:30.964Z"
   },
   {
    "duration": 9497,
    "start_time": "2022-05-16T10:22:31.010Z"
   },
   {
    "duration": 386,
    "start_time": "2022-05-16T10:22:40.509Z"
   },
   {
    "duration": 2299,
    "start_time": "2022-05-17T16:11:43.913Z"
   },
   {
    "duration": 2028,
    "start_time": "2022-05-17T16:11:46.214Z"
   },
   {
    "duration": 915,
    "start_time": "2022-05-17T16:11:48.244Z"
   },
   {
    "duration": 50,
    "start_time": "2022-05-17T16:11:49.165Z"
   },
   {
    "duration": 269,
    "start_time": "2022-05-17T16:11:49.217Z"
   },
   {
    "duration": 40951,
    "start_time": "2022-05-17T16:11:49.488Z"
   },
   {
    "duration": 94,
    "start_time": "2022-05-17T16:12:30.441Z"
   },
   {
    "duration": 4,
    "start_time": "2022-05-17T16:12:30.536Z"
   },
   {
    "duration": 230,
    "start_time": "2022-05-17T16:12:30.541Z"
   },
   {
    "duration": 5,
    "start_time": "2022-05-17T16:12:30.773Z"
   },
   {
    "duration": 173247,
    "start_time": "2022-05-17T16:12:30.780Z"
   },
   {
    "duration": 3,
    "start_time": "2022-05-17T16:15:24.028Z"
   },
   {
    "duration": 665,
    "start_time": "2022-05-17T16:15:24.064Z"
   },
   {
    "duration": 4,
    "start_time": "2022-05-17T16:15:24.731Z"
   },
   {
    "duration": 4392,
    "start_time": "2022-05-17T17:36:06.507Z"
   },
   {
    "duration": 3664,
    "start_time": "2022-05-17T17:36:10.900Z"
   },
   {
    "duration": 3440,
    "start_time": "2022-05-17T17:36:14.566Z"
   },
   {
    "duration": 106,
    "start_time": "2022-05-17T17:36:18.063Z"
   },
   {
    "duration": 516,
    "start_time": "2022-05-17T17:36:18.171Z"
   },
   {
    "duration": 84000,
    "start_time": "2022-05-17T17:36:18.690Z"
   },
   {
    "duration": 198,
    "start_time": "2022-05-17T17:37:42.693Z"
   },
   {
    "duration": 5,
    "start_time": "2022-05-17T17:37:42.893Z"
   },
   {
    "duration": 678,
    "start_time": "2022-05-17T17:37:42.900Z"
   },
   {
    "duration": 8,
    "start_time": "2022-05-17T17:37:43.580Z"
   },
   {
    "duration": 3901288,
    "start_time": "2022-05-17T17:37:43.590Z"
   },
   {
    "duration": 3,
    "start_time": "2022-05-17T18:42:44.880Z"
   },
   {
    "duration": 1198,
    "start_time": "2022-05-17T18:42:44.884Z"
   },
   {
    "duration": 5,
    "start_time": "2022-05-17T18:42:46.085Z"
   },
   {
    "duration": 2359,
    "start_time": "2022-05-17T19:15:11.874Z"
   },
   {
    "duration": 2006,
    "start_time": "2022-05-17T19:15:14.235Z"
   },
   {
    "duration": 966,
    "start_time": "2022-05-17T19:15:16.243Z"
   },
   {
    "duration": 57,
    "start_time": "2022-05-17T19:15:17.211Z"
   },
   {
    "duration": 271,
    "start_time": "2022-05-17T19:15:17.270Z"
   },
   {
    "duration": 38790,
    "start_time": "2022-05-17T19:15:17.543Z"
   },
   {
    "duration": 113,
    "start_time": "2022-05-17T19:15:56.335Z"
   },
   {
    "duration": 3,
    "start_time": "2022-05-17T19:15:56.449Z"
   },
   {
    "duration": 199,
    "start_time": "2022-05-17T19:15:56.454Z"
   },
   {
    "duration": 8,
    "start_time": "2022-05-17T19:15:56.656Z"
   },
   {
    "duration": 131520,
    "start_time": "2022-05-17T19:15:56.665Z"
   },
   {
    "duration": 3,
    "start_time": "2022-05-17T19:18:08.187Z"
   },
   {
    "duration": 610,
    "start_time": "2022-05-17T19:18:08.191Z"
   },
   {
    "duration": 5,
    "start_time": "2022-05-17T19:18:08.802Z"
   },
   {
    "duration": 2275,
    "start_time": "2022-05-17T19:22:43.317Z"
   },
   {
    "duration": 2009,
    "start_time": "2022-05-17T19:22:45.594Z"
   },
   {
    "duration": 950,
    "start_time": "2022-05-17T19:22:47.604Z"
   },
   {
    "duration": 61,
    "start_time": "2022-05-17T19:22:48.555Z"
   },
   {
    "duration": 269,
    "start_time": "2022-05-17T19:22:48.618Z"
   },
   {
    "duration": 38464,
    "start_time": "2022-05-17T19:22:48.889Z"
   },
   {
    "duration": 82,
    "start_time": "2022-05-17T19:23:27.355Z"
   },
   {
    "duration": 3,
    "start_time": "2022-05-17T19:23:27.439Z"
   },
   {
    "duration": 207,
    "start_time": "2022-05-17T19:23:27.444Z"
   },
   {
    "duration": 12,
    "start_time": "2022-05-17T19:23:27.653Z"
   }
  ],
  "celltoolbar": "Необработанный формат ячейки",
  "kernelspec": {
   "display_name": "Python 3 (ipykernel)",
   "language": "python",
   "name": "python3"
  },
  "language_info": {
   "codemirror_mode": {
    "name": "ipython",
    "version": 3
   },
   "file_extension": ".py",
   "mimetype": "text/x-python",
   "name": "python",
   "nbconvert_exporter": "python",
   "pygments_lexer": "ipython3",
   "version": "3.9.13"
  },
  "toc": {
   "base_numbering": 1,
   "nav_menu": {},
   "number_sections": true,
   "sideBar": true,
   "skip_h1_title": true,
   "title_cell": "Table of Contents",
   "title_sidebar": "Contents",
   "toc_cell": false,
   "toc_position": {
    "height": "calc(100% - 180px)",
    "left": "10px",
    "top": "150px",
    "width": "170px"
   },
   "toc_section_display": true,
   "toc_window_display": true
  }
 },
 "nbformat": 4,
 "nbformat_minor": 2
}
